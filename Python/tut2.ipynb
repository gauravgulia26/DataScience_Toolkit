{
 "cells": [
  {
   "cell_type": "code",
   "execution_count": 16,
   "id": "aa9b7ed8-74cb-4f08-a388-8b819e1d6ec6",
   "metadata": {},
   "outputs": [
    {
     "name": "stdout",
     "output_type": "stream",
     "text": [
      "There is no solution for this equation. \n"
     ]
    }
   ],
   "source": [
    "def qdr_solver(a,b,c):\n",
    "    deter = ((b**2) - (4*a*c))\n",
    "    if deter < 0:\n",
    "        raise ValueError('There is no solution for this equation. ')\n",
    "    else:\n",
    "        x1 = ((-b + (deter**0.5)) / 2*a)\n",
    "        x2 = ((-b - (deter**0.5)) / 2*a)\n",
    "        return x1, x2\n",
    "\n",
    "\n",
    "try:\n",
    "    print(qdr_solver(1,2,3))\n",
    "except ValueError as e:\n",
    "    print(e)\n",
    "else:\n",
    "    print('Code Successfullly Executed !!')"
   ]
  },
  {
   "cell_type": "code",
   "execution_count": 17,
   "id": "f92b1830-d5b3-40b3-8e10-347ed1b3fc85",
   "metadata": {},
   "outputs": [],
   "source": [
    "a = ['1','2','3']"
   ]
  },
  {
   "cell_type": "code",
   "execution_count": 23,
   "id": "65c15cca-03a6-4321-8c1a-8591f03afb93",
   "metadata": {},
   "outputs": [],
   "source": [
    "# map(fx,iterable)\n",
    "a = list(map(int,a))"
   ]
  },
  {
   "cell_type": "code",
   "execution_count": 26,
   "id": "391bdf27-834b-4502-a034-d214f7c3726c",
   "metadata": {},
   "outputs": [
    {
     "data": {
      "text/plain": [
       "[1, 4, 9]"
      ]
     },
     "execution_count": 26,
     "metadata": {},
     "output_type": "execute_result"
    }
   ],
   "source": [
    "list(map(lambda x:x**2,a))"
   ]
  },
  {
   "cell_type": "code",
   "execution_count": 29,
   "id": "b390313c-870d-47f1-8715-d7209fdb51a7",
   "metadata": {},
   "outputs": [],
   "source": [
    "# write a function that will sum all the elements of 2 list\n",
    "\n",
    "a = [1,2,3]\n",
    "b = [3,4,5]"
   ]
  },
  {
   "cell_type": "code",
   "execution_count": 32,
   "id": "5a460f7f-88e1-41e5-a3e8-dda1c0c84864",
   "metadata": {},
   "outputs": [
    {
     "data": {
      "text/plain": [
       "[4, 6, 8]"
      ]
     },
     "execution_count": 32,
     "metadata": {},
     "output_type": "execute_result"
    }
   ],
   "source": [
    "list(map(lambda x,y:x+y,a,b))"
   ]
  },
  {
   "cell_type": "code",
   "execution_count": 42,
   "id": "d50264dd-96f7-4236-a3e3-0b93363e7189",
   "metadata": {},
   "outputs": [],
   "source": [
    "def abc(a,*b,c=10):\n",
    "    return a,b,c"
   ]
  },
  {
   "cell_type": "code",
   "execution_count": 43,
   "id": "53019a0a-ef72-41b9-b803-9669d21868d9",
   "metadata": {},
   "outputs": [
    {
     "data": {
      "text/plain": [
       "(1, (2, 4, 5), 10)"
      ]
     },
     "execution_count": 43,
     "metadata": {},
     "output_type": "execute_result"
    }
   ],
   "source": [
    "abc(1,2,4,5)"
   ]
  },
  {
   "cell_type": "code",
   "execution_count": 50,
   "id": "d3cdbeb7-7d7b-42c0-94ce-d2090668d130",
   "metadata": {},
   "outputs": [],
   "source": [
    "trial = 'HELLO'\n",
    "def abc(x,y):\n",
    "    trial = x + y\n",
    "    return trial"
   ]
  },
  {
   "cell_type": "code",
   "execution_count": 53,
   "id": "e8956c6e-83cf-4e57-bec0-fd2f1bfb8d51",
   "metadata": {},
   "outputs": [],
   "source": [
    "trial = abc(2,3)"
   ]
  },
  {
   "cell_type": "code",
   "execution_count": 54,
   "id": "6bad6807-d5a8-43a1-8678-f562d19a9c1d",
   "metadata": {},
   "outputs": [
    {
     "name": "stdout",
     "output_type": "stream",
     "text": [
      "5\n"
     ]
    }
   ],
   "source": [
    "print(trial)"
   ]
  },
  {
   "cell_type": "code",
   "execution_count": null,
   "id": "0e3c39dc-ed96-47ec-9c55-3471a0523751",
   "metadata": {},
   "outputs": [],
   "source": []
  },
  {
   "cell_type": "code",
   "execution_count": 60,
   "id": "3aba9517-d5bc-4041-89de-308d3f8503f7",
   "metadata": {},
   "outputs": [],
   "source": [
    "del trial"
   ]
  },
  {
   "cell_type": "code",
   "execution_count": 55,
   "id": "e6407b21-77b5-4728-b94e-8043acd10cd5",
   "metadata": {},
   "outputs": [],
   "source": [
    "# Global Varibale and Local Variable"
   ]
  },
  {
   "cell_type": "code",
   "execution_count": 68,
   "id": "bcb021d9-f1ee-468d-8613-b90c290235c4",
   "metadata": {},
   "outputs": [
    {
     "name": "stdout",
     "output_type": "stream",
     "text": [
      "Hello i am a global variable\n"
     ]
    }
   ],
   "source": [
    "trial = 'Hello i am a global variable'\n",
    "\n",
    "def abc():\n",
    "    trial = 'Hello I am a local variable'\n",
    "\n",
    "abc()\n",
    "\n",
    "print(trial)"
   ]
  },
  {
   "cell_type": "code",
   "execution_count": 62,
   "id": "f9aa546f-a063-4384-81ea-75fe0fdba07d",
   "metadata": {},
   "outputs": [
    {
     "name": "stdout",
     "output_type": "stream",
     "text": [
      "Python is fantastic\n"
     ]
    }
   ],
   "source": [
    "def myfunc():\n",
    "  global x\n",
    "  x = \"fantastic\"\n",
    "\n",
    "myfunc()\n",
    "\n",
    "print(\"Python is \" + x)"
   ]
  },
  {
   "cell_type": "code",
   "execution_count": 73,
   "id": "e1e1dd9c-3154-4747-b334-afd7a15c1fb0",
   "metadata": {},
   "outputs": [
    {
     "name": "stdout",
     "output_type": "stream",
     "text": [
      "Python is awesome\n"
     ]
    }
   ],
   "source": [
    "x = 'awesome'\n",
    "def myfunc():\n",
    "    global x\n",
    "    x = 'fantastic'\n",
    "# myfunc()\n",
    "print('Python is ' + x)"
   ]
  },
  {
   "cell_type": "code",
   "execution_count": 75,
   "id": "1ace4783-ac75-4e1d-aac8-7e940d5fcad9",
   "metadata": {},
   "outputs": [],
   "source": [
    "print = 'Hello'"
   ]
  },
  {
   "cell_type": "code",
   "execution_count": 76,
   "id": "97bfcf50-c2b1-4230-a90d-301ee9e3c516",
   "metadata": {},
   "outputs": [
    {
     "ename": "SyntaxError",
     "evalue": "invalid syntax (3339473781.py, line 1)",
     "output_type": "error",
     "traceback": [
      "\u001b[0;36m  Cell \u001b[0;32mIn[76], line 1\u001b[0;36m\u001b[0m\n\u001b[0;31m    .slsl = 'ksks'\u001b[0m\n\u001b[0m    ^\u001b[0m\n\u001b[0;31mSyntaxError\u001b[0m\u001b[0;31m:\u001b[0m invalid syntax\n"
     ]
    }
   ],
   "source": [
    ".slsl = 'ksks'"
   ]
  },
  {
   "cell_type": "code",
   "execution_count": 77,
   "id": "5e79f53c-ddaf-4434-973a-64833d3528df",
   "metadata": {},
   "outputs": [],
   "source": [
    "# multiple variables"
   ]
  },
  {
   "cell_type": "code",
   "execution_count": 78,
   "id": "f16d3738-7689-444e-9323-5d011898df8e",
   "metadata": {},
   "outputs": [],
   "source": [
    "# x y z"
   ]
  },
  {
   "cell_type": "code",
   "execution_count": 79,
   "id": "f3553e91-a83d-4fcc-8aa3-b0ed936adf80",
   "metadata": {},
   "outputs": [],
   "source": [
    "x = 10\n",
    "y = 11\n",
    "z = 12"
   ]
  },
  {
   "cell_type": "code",
   "execution_count": 80,
   "id": "1eae9742-17de-4d33-b7d9-6464597db3a0",
   "metadata": {},
   "outputs": [],
   "source": [
    "x,y,z = 101,111,121"
   ]
  },
  {
   "cell_type": "code",
   "execution_count": 83,
   "id": "e2fe6110-5cb0-4d27-8b5c-9dd95cf0cb83",
   "metadata": {},
   "outputs": [
    {
     "data": {
      "text/plain": [
       "121"
      ]
     },
     "execution_count": 83,
     "metadata": {},
     "output_type": "execute_result"
    }
   ],
   "source": [
    "z"
   ]
  },
  {
   "cell_type": "code",
   "execution_count": 91,
   "id": "505f93d8-1a88-404f-aa0c-0c540d09c635",
   "metadata": {},
   "outputs": [
    {
     "data": {
      "text/plain": [
       "float"
      ]
     },
     "execution_count": 91,
     "metadata": {},
     "output_type": "execute_result"
    }
   ],
   "source": [
    "type(float(2))"
   ]
  },
  {
   "cell_type": "code",
   "execution_count": 92,
   "id": "579c4f40-b786-4401-8218-f9ec8172fec4",
   "metadata": {},
   "outputs": [],
   "source": [
    "# type casting\n",
    "x = 1"
   ]
  },
  {
   "cell_type": "code",
   "execution_count": 94,
   "id": "c1f9a8dc-971c-4e69-a859-0a7e14c1137c",
   "metadata": {},
   "outputs": [
    {
     "data": {
      "text/plain": [
       "1.0"
      ]
     },
     "execution_count": 94,
     "metadata": {},
     "output_type": "execute_result"
    }
   ],
   "source": [
    "float(x)"
   ]
  },
  {
   "cell_type": "code",
   "execution_count": 96,
   "id": "d447821c-f23b-49da-82e1-f6d455f2a207",
   "metadata": {},
   "outputs": [],
   "source": [
    "# casting\n",
    "x = float(1)"
   ]
  },
  {
   "cell_type": "code",
   "execution_count": 98,
   "id": "44ef0286-b30f-4de7-a0a4-4e813b445328",
   "metadata": {},
   "outputs": [
    {
     "data": {
      "text/plain": [
       "1.0"
      ]
     },
     "execution_count": 98,
     "metadata": {},
     "output_type": "execute_result"
    }
   ],
   "source": [
    "x"
   ]
  },
  {
   "cell_type": "code",
   "execution_count": 101,
   "id": "e10af553-90fa-49f9-8ca6-bca77a215cf1",
   "metadata": {},
   "outputs": [
    {
     "data": {
      "text/plain": [
       "'has\"nt'"
      ]
     },
     "execution_count": 101,
     "metadata": {},
     "output_type": "execute_result"
    }
   ],
   "source": [
    "'has\"nt'"
   ]
  },
  {
   "cell_type": "code",
   "execution_count": 102,
   "id": "38b12a0a-2bc6-472d-820f-2db18a6bcf95",
   "metadata": {},
   "outputs": [],
   "source": [
    "a = \"\"\"\n",
    "orem Ipsum is simply dummy text of the printing and typesetting industry. Lorem Ipsum has been the industry'\n",
    "s standard dummy text ever since the 1500s, when an unknown printer took a galley of\n",
    "type and scrambled it to make a type\n",
    "specimen book. It has survived not only five centuries, but also the leap \n",
    "into electronic typesetting, remaining essentially unchanged. It was popularised in the\n",
    "1960s with the release of Letraset sheets containing Lorem Ipsum passages\n",
    ", and more recently with desktop publishing software like Aldus PageMaker including versions of Lorem Ipsum.\n",
    "\"\"\""
   ]
  },
  {
   "cell_type": "code",
   "execution_count": 104,
   "id": "a45fc8ca-23b7-447f-8787-191ea41baadb",
   "metadata": {},
   "outputs": [],
   "source": [
    "# len and in"
   ]
  },
  {
   "cell_type": "code",
   "execution_count": 105,
   "id": "dee78caa-ab92-46d8-808f-c8272c362897",
   "metadata": {},
   "outputs": [],
   "source": [
    "# len -> length \n",
    "# in -> membership operator"
   ]
  },
  {
   "cell_type": "code",
   "execution_count": 111,
   "id": "376fac92-b1ec-4dae-90ed-241a596ba01c",
   "metadata": {},
   "outputs": [
    {
     "data": {
      "text/plain": [
       "False"
      ]
     },
     "execution_count": 111,
     "metadata": {},
     "output_type": "execute_result"
    }
   ],
   "source": [
    "a = \"hello\"\n",
    "'g' in a"
   ]
  },
  {
   "cell_type": "code",
   "execution_count": 112,
   "id": "86e10a88-f728-44a5-9b19-fbf642f1e01e",
   "metadata": {},
   "outputs": [],
   "source": [
    "# slicing, indexing"
   ]
  },
  {
   "cell_type": "code",
   "execution_count": 113,
   "id": "26447037-d97c-4455-a7be-5a016642eb41",
   "metadata": {},
   "outputs": [],
   "source": [
    "a = 'Gourav Gulia'"
   ]
  },
  {
   "cell_type": "code",
   "execution_count": 125,
   "id": "7ecc4d2f-d36e-47a1-9b6b-741c1fd4796c",
   "metadata": {},
   "outputs": [
    {
     "data": {
      "text/plain": [
       "'Gourav Gulia'"
      ]
     },
     "execution_count": 125,
     "metadata": {},
     "output_type": "execute_result"
    }
   ],
   "source": [
    "a"
   ]
  },
  {
   "cell_type": "code",
   "execution_count": 129,
   "id": "36c716d8-c38d-4e63-bb0a-fe52ce308ae2",
   "metadata": {},
   "outputs": [
    {
     "data": {
      "text/plain": [
       "'u'"
      ]
     },
     "execution_count": 129,
     "metadata": {},
     "output_type": "execute_result"
    }
   ],
   "source": [
    "a[8]"
   ]
  },
  {
   "cell_type": "code",
   "execution_count": 132,
   "id": "bb0d4836-1eb2-4e72-adf2-167cdfe0577f",
   "metadata": {},
   "outputs": [
    {
     "data": {
      "text/plain": [
       "'i'"
      ]
     },
     "execution_count": 132,
     "metadata": {},
     "output_type": "execute_result"
    }
   ],
   "source": [
    "a[-2]"
   ]
  },
  {
   "cell_type": "code",
   "execution_count": 133,
   "id": "fcb8d974-b751-4719-88de-70b4e919fbe6",
   "metadata": {},
   "outputs": [],
   "source": [
    "# slicing"
   ]
  },
  {
   "cell_type": "code",
   "execution_count": 134,
   "id": "ab874076-9cf7-4547-b27a-704b7bb6a747",
   "metadata": {},
   "outputs": [
    {
     "data": {
      "text/plain": [
       "'Gourav Gulia'"
      ]
     },
     "execution_count": 134,
     "metadata": {},
     "output_type": "execute_result"
    }
   ],
   "source": [
    "a"
   ]
  },
  {
   "cell_type": "code",
   "execution_count": 139,
   "id": "8fa5af29-9f59-4cdd-b2a0-417cb5ed8c24",
   "metadata": {},
   "outputs": [
    {
     "data": {
      "text/plain": [
       "'ura'"
      ]
     },
     "execution_count": 139,
     "metadata": {},
     "output_type": "execute_result"
    }
   ],
   "source": [
    "# ura::5]r"
   ]
  },
  {
   "cell_type": "code",
   "execution_count": 140,
   "id": "546e6c9d-e4cc-49c5-8a31-ec9f37808aab",
   "metadata": {},
   "outputs": [
    {
     "data": {
      "text/plain": [
       "'uli'"
      ]
     },
     "execution_count": 140,
     "metadata": {},
     "output_type": "execute_result"
    }
   ],
   "source": [
    "\" Gu\"\n",
    "a[8:11]"
   ]
  },
  {
   "cell_type": "code",
   "execution_count": 142,
   "id": "b1fbb730-b249-4456-a93a-1a3fb6252acc",
   "metadata": {},
   "outputs": [
    {
     "data": {
      "text/plain": [
       "'Gourav Gulia'"
      ]
     },
     "execution_count": 142,
     "metadata": {},
     "output_type": "execute_result"
    }
   ],
   "source": [
    "a"
   ]
  },
  {
   "cell_type": "code",
   "execution_count": 144,
   "id": "7bb054dd-bcbe-4167-87e7-a589025d3b0b",
   "metadata": {},
   "outputs": [
    {
     "data": {
      "text/plain": [
       "'Gourav'"
      ]
     },
     "execution_count": 144,
     "metadata": {},
     "output_type": "execute_result"
    }
   ],
   "source": [
    "a[:6]"
   ]
  },
  {
   "cell_type": "code",
   "execution_count": 146,
   "id": "0ec4c746-7305-4fa2-8ac9-4f8fcb2f5eb2",
   "metadata": {},
   "outputs": [
    {
     "data": {
      "text/plain": [
       "'lia'"
      ]
     },
     "execution_count": 146,
     "metadata": {},
     "output_type": "execute_result"
    }
   ],
   "source": [
    "a[9:]"
   ]
  },
  {
   "cell_type": "code",
   "execution_count": 147,
   "id": "e443272d-9d7a-452b-921e-3c90f023a5ae",
   "metadata": {},
   "outputs": [
    {
     "data": {
      "text/plain": [
       "'Gourav Gulia'"
      ]
     },
     "execution_count": 147,
     "metadata": {},
     "output_type": "execute_result"
    }
   ],
   "source": [
    "a[:]"
   ]
  },
  {
   "cell_type": "code",
   "execution_count": 148,
   "id": "fa44a916-207a-47b0-90fc-eb8e5eb4c30e",
   "metadata": {},
   "outputs": [],
   "source": [
    "a = 'Gourav'"
   ]
  },
  {
   "cell_type": "code",
   "execution_count": 150,
   "id": "a134f9b8-6e9c-4027-96c5-04a1abb14c14",
   "metadata": {},
   "outputs": [
    {
     "data": {
      "text/plain": [
       "'Gua'"
      ]
     },
     "execution_count": 150,
     "metadata": {},
     "output_type": "execute_result"
    }
   ],
   "source": [
    "a[::2]"
   ]
  },
  {
   "cell_type": "code",
   "execution_count": 151,
   "id": "e9e28d4e-c039-43df-a8c5-c6aec9975612",
   "metadata": {},
   "outputs": [],
   "source": [
    "a = 'Lorem Ipsum'"
   ]
  },
  {
   "cell_type": "code",
   "execution_count": 152,
   "id": "c0dc9943-e96a-4601-9504-d8af4a9d7162",
   "metadata": {},
   "outputs": [],
   "source": [
    "# every third element"
   ]
  },
  {
   "cell_type": "code",
   "execution_count": 153,
   "id": "0e8c57f4-3945-498a-a1a5-5ae11145a4ff",
   "metadata": {},
   "outputs": [
    {
     "data": {
      "text/plain": [
       "'LeIu'"
      ]
     },
     "execution_count": 153,
     "metadata": {},
     "output_type": "execute_result"
    }
   ],
   "source": [
    "a[::3]"
   ]
  },
  {
   "cell_type": "code",
   "execution_count": 154,
   "id": "eafd03b6-09ab-4637-b95f-d12c64a2c6a7",
   "metadata": {},
   "outputs": [],
   "source": [
    "a=[1,2,3,4,5,6,7,8,9,10]"
   ]
  },
  {
   "cell_type": "code",
   "execution_count": 155,
   "id": "de790c80-9455-40bf-96c8-312c731bda3f",
   "metadata": {},
   "outputs": [],
   "source": [
    "# even number\n",
    "# odd number"
   ]
  },
  {
   "cell_type": "code",
   "execution_count": 158,
   "id": "630f4290-8149-4ae3-8112-1f10fe9cd441",
   "metadata": {},
   "outputs": [
    {
     "data": {
      "text/plain": [
       "[2, 4, 6, 8, 10]"
      ]
     },
     "execution_count": 158,
     "metadata": {},
     "output_type": "execute_result"
    }
   ],
   "source": [
    "a[1::2]"
   ]
  },
  {
   "cell_type": "code",
   "execution_count": 160,
   "id": "1155f236-1c12-482d-bdef-852349105546",
   "metadata": {},
   "outputs": [
    {
     "data": {
      "text/plain": [
       "[8, 9]"
      ]
     },
     "execution_count": 160,
     "metadata": {},
     "output_type": "execute_result"
    }
   ],
   "source": [
    "a[-3:-1]"
   ]
  },
  {
   "cell_type": "code",
   "execution_count": 161,
   "id": "c77a77ec-bfa6-4fd2-8663-5498d13571c3",
   "metadata": {},
   "outputs": [
    {
     "data": {
      "text/plain": [
       "[1, 2, 3, 4, 5, 6, 7, 8, 9, 10]"
      ]
     },
     "execution_count": 161,
     "metadata": {},
     "output_type": "execute_result"
    }
   ],
   "source": [
    "a"
   ]
  },
  {
   "cell_type": "code",
   "execution_count": 166,
   "id": "f4f112fa-c4f3-4c6f-9702-8adc0a54621e",
   "metadata": {},
   "outputs": [
    {
     "data": {
      "text/plain": [
       "[2, 4, 6, 8]"
      ]
     },
     "execution_count": 166,
     "metadata": {},
     "output_type": "execute_result"
    }
   ],
   "source": [
    "a[-9:-1:2]"
   ]
  },
  {
   "cell_type": "code",
   "execution_count": 167,
   "id": "548480bf-c4ed-4343-b5f6-699b584faece",
   "metadata": {},
   "outputs": [
    {
     "data": {
      "text/plain": [
       "[10, 9, 8, 7, 6, 5, 4, 3, 2, 1]"
      ]
     },
     "execution_count": 167,
     "metadata": {},
     "output_type": "execute_result"
    }
   ],
   "source": [
    "a[::-1]"
   ]
  },
  {
   "cell_type": "code",
   "execution_count": 168,
   "id": "172962c4-112f-4847-9c7d-136fb32f568a",
   "metadata": {},
   "outputs": [],
   "source": [
    "a = 'aman'"
   ]
  },
  {
   "cell_type": "code",
   "execution_count": 169,
   "id": "3b96423b-1e5c-411b-94f4-1394fcaab734",
   "metadata": {},
   "outputs": [
    {
     "data": {
      "text/plain": [
       "'nama'"
      ]
     },
     "execution_count": 169,
     "metadata": {},
     "output_type": "execute_result"
    }
   ],
   "source": [
    "a[::-1]"
   ]
  },
  {
   "cell_type": "code",
   "execution_count": 170,
   "id": "afe8374f-0583-4ca5-b44a-e21e565de155",
   "metadata": {},
   "outputs": [],
   "source": [
    "a = [x for x in range(1,20)]"
   ]
  },
  {
   "cell_type": "code",
   "execution_count": 172,
   "id": "07f6b70e-c264-40be-9f40-981c62b6f33f",
   "metadata": {},
   "outputs": [
    {
     "data": {
      "text/plain": [
       "[1, 2, 3, 4, 5, 6, 7, 8, 9, 10, 11, 12, 13, 14, 15, 16, 17, 18, 19]"
      ]
     },
     "execution_count": 172,
     "metadata": {},
     "output_type": "execute_result"
    }
   ],
   "source": [
    "a"
   ]
  },
  {
   "cell_type": "code",
   "execution_count": 174,
   "id": "376ff832-64ef-4ae8-8f15-0562f6b09326",
   "metadata": {},
   "outputs": [
    {
     "data": {
      "text/plain": [
       "[19, 17, 15, 13, 11, 9, 7, 5, 3, 1]"
      ]
     },
     "execution_count": 174,
     "metadata": {},
     "output_type": "execute_result"
    }
   ],
   "source": [
    "a[::-2]"
   ]
  },
  {
   "cell_type": "code",
   "execution_count": 175,
   "id": "bc99753d-0bc7-4bc3-9d60-ae490f262f65",
   "metadata": {},
   "outputs": [
    {
     "data": {
      "text/plain": [
       "[1, 2, 3, 4, 5, 6, 7, 8, 9, 10, 11, 12, 13, 14, 15, 16, 17, 18, 19]"
      ]
     },
     "execution_count": 175,
     "metadata": {},
     "output_type": "execute_result"
    }
   ],
   "source": [
    "a[::]"
   ]
  },
  {
   "cell_type": "code",
   "execution_count": 176,
   "id": "7def3814-ed1c-484b-a4f1-772762bcb424",
   "metadata": {},
   "outputs": [],
   "source": [
    "# find the even numbers from reverse"
   ]
  },
  {
   "cell_type": "code",
   "execution_count": 177,
   "id": "43e6f7eb-9eea-4508-b040-68e2d8d11423",
   "metadata": {},
   "outputs": [
    {
     "data": {
      "text/plain": [
       "[19, 18, 17, 16, 15, 14, 13, 12, 11, 10, 9, 8, 7, 6, 5, 4, 3, 2, 1]"
      ]
     },
     "execution_count": 177,
     "metadata": {},
     "output_type": "execute_result"
    }
   ],
   "source": [
    "a[::-1]"
   ]
  },
  {
   "cell_type": "code",
   "execution_count": 178,
   "id": "5fe00ef6-5579-45a2-bd69-059c0f66fd90",
   "metadata": {},
   "outputs": [
    {
     "data": {
      "text/plain": [
       "[19, 16, 13, 10, 7, 4, 1]"
      ]
     },
     "execution_count": 178,
     "metadata": {},
     "output_type": "execute_result"
    }
   ],
   "source": [
    "a[::-3]"
   ]
  },
  {
   "cell_type": "code",
   "execution_count": 179,
   "id": "70114314-494b-4737-b26b-22c0ae2be7e7",
   "metadata": {},
   "outputs": [
    {
     "data": {
      "text/plain": [
       "[2, 1]"
      ]
     },
     "execution_count": 179,
     "metadata": {},
     "output_type": "execute_result"
    }
   ],
   "source": [
    "a[1::-1]"
   ]
  },
  {
   "cell_type": "code",
   "execution_count": 180,
   "id": "45ac0238-554d-412e-8eec-50f9ec148737",
   "metadata": {},
   "outputs": [
    {
     "data": {
      "text/plain": [
       "[1, 2, 3, 4, 5, 6, 7, 8, 9, 10, 11, 12, 13, 14, 15, 16, 17, 18, 19]"
      ]
     },
     "execution_count": 180,
     "metadata": {},
     "output_type": "execute_result"
    }
   ],
   "source": [
    "a"
   ]
  },
  {
   "cell_type": "code",
   "execution_count": 186,
   "id": "8a1bbdf9-05fd-418a-ba53-66985d466e3b",
   "metadata": {},
   "outputs": [
    {
     "data": {
      "text/plain": [
       "[2, 3, 4, 5, 6, 7, 8, 9, 10, 11, 12, 13, 14, 15, 16, 17, 18]"
      ]
     },
     "execution_count": 186,
     "metadata": {},
     "output_type": "execute_result"
    }
   ],
   "source": [
    "a[1:18]"
   ]
  },
  {
   "cell_type": "code",
   "execution_count": 188,
   "id": "0a17007d-1cc3-485d-8602-90d9a245a8c2",
   "metadata": {},
   "outputs": [
    {
     "data": {
      "text/plain": [
       "[2, 4, 6, 8, 10, 12, 14, 16, 18]"
      ]
     },
     "execution_count": 188,
     "metadata": {},
     "output_type": "execute_result"
    }
   ],
   "source": [
    "a[1:-1:2]"
   ]
  },
  {
   "cell_type": "code",
   "execution_count": 193,
   "id": "841dc856-eb00-4a7b-8a62-8ab508bbd901",
   "metadata": {},
   "outputs": [
    {
     "data": {
      "text/plain": [
       "[1, 2, 3, 4, 5, 6, 7, 8, 9, 10, 11, 12, 13, 14, 15, 16, 17, 18, 19]"
      ]
     },
     "execution_count": 193,
     "metadata": {},
     "output_type": "execute_result"
    }
   ],
   "source": [
    "a"
   ]
  },
  {
   "cell_type": "code",
   "execution_count": 216,
   "id": "e1007219-bd41-45d0-86ef-dcbf419c3b9f",
   "metadata": {},
   "outputs": [
    {
     "data": {
      "text/plain": [
       "12"
      ]
     },
     "execution_count": 216,
     "metadata": {},
     "output_type": "execute_result"
    }
   ],
   "source": [
    "a[::-1][1::3][::-1][1::2][::-1][1]"
   ]
  },
  {
   "cell_type": "code",
   "execution_count": 3,
   "id": "cc624350-3d06-4fbe-95f2-b61d53e2aa96",
   "metadata": {},
   "outputs": [],
   "source": [
    "a = [x for x in range(1,10)]"
   ]
  },
  {
   "cell_type": "code",
   "execution_count": 4,
   "id": "cd11a786-d8ee-47cf-a226-287c014d3acb",
   "metadata": {},
   "outputs": [
    {
     "data": {
      "text/plain": [
       "[1, 2, 3, 4, 5, 6, 7, 8, 9]"
      ]
     },
     "execution_count": 4,
     "metadata": {},
     "output_type": "execute_result"
    }
   ],
   "source": [
    "a"
   ]
  },
  {
   "cell_type": "code",
   "execution_count": 17,
   "id": "a0b6b4b6-1482-4e11-aed5-c6719443bf0d",
   "metadata": {},
   "outputs": [
    {
     "data": {
      "text/plain": [
       "4"
      ]
     },
     "execution_count": 17,
     "metadata": {},
     "output_type": "execute_result"
    }
   ],
   "source": [
    "a[::-1][1:8][::-1][1:4][::-1][1]"
   ]
  },
  {
   "cell_type": "code",
   "execution_count": 18,
   "id": "52c285b2-dde8-42ea-980b-4c49189640b7",
   "metadata": {},
   "outputs": [],
   "source": [
    "x = 'Hello'"
   ]
  },
  {
   "cell_type": "code",
   "execution_count": 32,
   "id": "6a0272ff-79c9-4658-9ff8-0f825c8b4df5",
   "metadata": {},
   "outputs": [
    {
     "name": "stdout",
     "output_type": "stream",
     "text": [
      "HelloHello\n"
     ]
    }
   ],
   "source": [
    "print(x*2)"
   ]
  },
  {
   "cell_type": "code",
   "execution_count": 25,
   "id": "1752bc90-3295-44d4-9068-e954c19afee6",
   "metadata": {},
   "outputs": [],
   "source": [
    "# / //\n"
   ]
  },
  {
   "cell_type": "code",
   "execution_count": 33,
   "id": "93df52a9-04d1-425a-b6f9-cfc267b67534",
   "metadata": {},
   "outputs": [
    {
     "data": {
      "text/plain": [
       "'\\n+ - / // * ** %\\n'"
      ]
     },
     "execution_count": 33,
     "metadata": {},
     "output_type": "execute_result"
    }
   ],
   "source": [
    "\"\"\"\n",
    "+ - / // * ** %\n",
    "\"\"\""
   ]
  },
  {
   "cell_type": "code",
   "execution_count": 38,
   "id": "51435b8c-bb19-4694-9415-b0d6b47b5e69",
   "metadata": {},
   "outputs": [
    {
     "data": {
      "text/plain": [
       "3"
      ]
     },
     "execution_count": 38,
     "metadata": {},
     "output_type": "execute_result"
    }
   ],
   "source": [
    "21 % 9"
   ]
  },
  {
   "cell_type": "code",
   "execution_count": 45,
   "id": "40d6f7a1-a7c6-4af4-96a6-c67fccc57419",
   "metadata": {},
   "outputs": [
    {
     "data": {
      "text/plain": [
       "False"
      ]
     },
     "execution_count": 45,
     "metadata": {},
     "output_type": "execute_result"
    }
   ],
   "source": [
    "'Ho' in x"
   ]
  },
  {
   "cell_type": "code",
   "execution_count": 46,
   "id": "e105ed32-f8b6-444f-a308-acf5cd7d7441",
   "metadata": {},
   "outputs": [],
   "source": [
    "# type casting and casting"
   ]
  },
  {
   "cell_type": "code",
   "execution_count": 50,
   "id": "c396348c-2e65-4353-b1f8-9df5c036c91b",
   "metadata": {},
   "outputs": [],
   "source": [
    "x = float(8)"
   ]
  },
  {
   "cell_type": "code",
   "execution_count": 52,
   "id": "f586405c-2248-41e9-bea4-f065a0b87dfb",
   "metadata": {},
   "outputs": [
    {
     "data": {
      "text/plain": [
       "8.0"
      ]
     },
     "execution_count": 52,
     "metadata": {},
     "output_type": "execute_result"
    }
   ],
   "source": [
    "float(x)"
   ]
  },
  {
   "cell_type": "code",
   "execution_count": 54,
   "id": "76874c6e-0824-4cd5-aba3-2b2d2a120dee",
   "metadata": {},
   "outputs": [],
   "source": [
    "# not"
   ]
  },
  {
   "cell_type": "code",
   "execution_count": 66,
   "id": "64464666-829b-43de-83b4-3d7de5bd5fb7",
   "metadata": {},
   "outputs": [],
   "source": [
    "x = 'hello'"
   ]
  },
  {
   "cell_type": "code",
   "execution_count": 69,
   "id": "40995c91-5121-43b9-8760-aa0720a0c3ae",
   "metadata": {},
   "outputs": [
    {
     "data": {
      "text/plain": [
       "False"
      ]
     },
     "execution_count": 69,
     "metadata": {},
     "output_type": "execute_result"
    }
   ],
   "source": [
    "'h' not in x"
   ]
  },
  {
   "cell_type": "code",
   "execution_count": 71,
   "id": "e73410f3-fad7-4892-8c39-3c4fe613ca0e",
   "metadata": {},
   "outputs": [
    {
     "data": {
      "text/plain": [
       "True"
      ]
     },
     "execution_count": 71,
     "metadata": {},
     "output_type": "execute_result"
    }
   ],
   "source": [
    "'g' not in x"
   ]
  },
  {
   "cell_type": "code",
   "execution_count": null,
   "id": "101e5012-b340-4449-9ded-f41a1ae1995f",
   "metadata": {},
   "outputs": [],
   "source": []
  },
  {
   "cell_type": "code",
   "execution_count": null,
   "id": "236c5745-5dc1-4641-9d5e-66c3164c464d",
   "metadata": {},
   "outputs": [],
   "source": []
  },
  {
   "cell_type": "code",
   "execution_count": 73,
   "id": "f8296e0d-ea77-4f5e-9c0e-c6f1d88a123d",
   "metadata": {},
   "outputs": [
    {
     "data": {
      "text/plain": [
       "False"
      ]
     },
     "execution_count": 73,
     "metadata": {},
     "output_type": "execute_result"
    }
   ],
   "source": [
    "'he' not in x"
   ]
  },
  {
   "cell_type": "code",
   "execution_count": 76,
   "id": "e1c3b4bc-cdd3-4ad7-936a-0df96a59c5f9",
   "metadata": {},
   "outputs": [],
   "source": [
    "age = 36\n",
    "txt = \"My name is John, I am \""
   ]
  },
  {
   "cell_type": "code",
   "execution_count": 78,
   "id": "9b251a9e-ebe8-4fc6-9900-f1a961440b9a",
   "metadata": {},
   "outputs": [
    {
     "data": {
      "text/plain": [
       "('My name is John, I am ', 36)"
      ]
     },
     "execution_count": 78,
     "metadata": {},
     "output_type": "execute_result"
    }
   ],
   "source": [
    "txt,age"
   ]
  },
  {
   "cell_type": "code",
   "execution_count": 75,
   "id": "206f57e7-862b-4bb8-8d3c-d94547e0ed37",
   "metadata": {},
   "outputs": [],
   "source": [
    "#string firmating "
   ]
  },
  {
   "cell_type": "code",
   "execution_count": 82,
   "id": "f5a861e4-7e5b-49a6-bf6a-d2f232873b8d",
   "metadata": {},
   "outputs": [
    {
     "name": "stdout",
     "output_type": "stream",
     "text": [
      "My name is john and i am 36\n"
     ]
    }
   ],
   "source": [
    "print(f'My name is john and i am {age}')"
   ]
  },
  {
   "cell_type": "code",
   "execution_count": 97,
   "id": "a59cc64b-4344-46e4-81a0-7c5b61a8c687",
   "metadata": {},
   "outputs": [
    {
     "name": "stdout",
     "output_type": "stream",
     "text": [
      "hey 32 33 36.0 My name is John, I am \n"
     ]
    }
   ],
   "source": [
    "print(f'hey {32} {33} {age:.1f} {txt}')"
   ]
  },
  {
   "cell_type": "code",
   "execution_count": 98,
   "id": "7bf480c9-2b0b-4f73-9f3d-4a216778f6f0",
   "metadata": {},
   "outputs": [],
   "source": [
    "salary = 20000.7842874274266428624"
   ]
  },
  {
   "cell_type": "code",
   "execution_count": 112,
   "id": "2b302552-2c84-48dd-b7cb-859335446bf0",
   "metadata": {},
   "outputs": [
    {
     "name": "stdout",
     "output_type": "stream",
     "text": [
      " and my salary is 20000.78 j sj sj  \n"
     ]
    }
   ],
   "source": [
    "print(f'Hey My slk sksk sk  sn sj sj sj sj  \\r and my salary is {salary:.2f} ')"
   ]
  },
  {
   "cell_type": "code",
   "execution_count": 113,
   "id": "32944109-9678-420e-9bbe-222decc3bc0b",
   "metadata": {},
   "outputs": [
    {
     "name": "stdout",
     "output_type": "stream",
     "text": [
      " Worldis \n"
     ]
    }
   ],
   "source": [
    "print('Hey This \\r World')"
   ]
  },
  {
   "cell_type": "code",
   "execution_count": 132,
   "id": "77f01925-5926-4d91-b1b2-9fe343c78fe2",
   "metadata": {},
   "outputs": [],
   "source": [
    "x = \"HeLlo World\""
   ]
  },
  {
   "cell_type": "code",
   "execution_count": 131,
   "id": "680d4737-e171-4c68-b770-3b2d62af5ef4",
   "metadata": {},
   "outputs": [
    {
     "data": {
      "text/plain": [
       "'     hello     '"
      ]
     },
     "execution_count": 131,
     "metadata": {},
     "output_type": "execute_result"
    }
   ],
   "source": [
    "x.center(len(x) + 10)"
   ]
  },
  {
   "cell_type": "code",
   "execution_count": 135,
   "id": "9c2f266e-c0af-45fa-8c6c-5244c61bff86",
   "metadata": {},
   "outputs": [
    {
     "data": {
      "text/plain": [
       "'hello world'"
      ]
     },
     "execution_count": 135,
     "metadata": {},
     "output_type": "execute_result"
    }
   ],
   "source": [
    "x.lower()"
   ]
  },
  {
   "cell_type": "code",
   "execution_count": 145,
   "id": "ec06f0be-c979-47a5-b7d3-f931c2e7c952",
   "metadata": {},
   "outputs": [
    {
     "data": {
      "text/plain": [
       "1"
      ]
     },
     "execution_count": 145,
     "metadata": {},
     "output_type": "execute_result"
    }
   ],
   "source": [
    "x.count('HeLlo')"
   ]
  },
  {
   "cell_type": "code",
   "execution_count": 150,
   "id": "50e619c2-b3ce-4920-a4c8-5be75985c9ea",
   "metadata": {},
   "outputs": [
    {
     "name": "stdout",
     "output_type": "stream",
     "text": [
      "True\n"
     ]
    }
   ],
   "source": [
    "txt = \"Hello, welcome to my world.\"\n",
    "\n",
    "x = txt.endswith(\"world.\")\n",
    "\n",
    "print(x)"
   ]
  },
  {
   "cell_type": "code",
   "execution_count": 166,
   "id": "9e1b62fe-81e5-4400-813f-aba31ab1d497",
   "metadata": {},
   "outputs": [
    {
     "data": {
      "text/plain": [
       "-1"
      ]
     },
     "execution_count": 166,
     "metadata": {},
     "output_type": "execute_result"
    }
   ],
   "source": [
    "txt.find('m',13,17)"
   ]
  },
  {
   "cell_type": "code",
   "execution_count": 168,
   "id": "667acab7-a344-45fb-b898-fba890b6ccfe",
   "metadata": {},
   "outputs": [
    {
     "ename": "ValueError",
     "evalue": "substring not found",
     "output_type": "error",
     "traceback": [
      "\u001b[0;31m---------------------------------------------------------------------------\u001b[0m",
      "\u001b[0;31mValueError\u001b[0m                                Traceback (most recent call last)",
      "Cell \u001b[0;32mIn[168], line 3\u001b[0m\n\u001b[1;32m      1\u001b[0m txt \u001b[38;5;241m=\u001b[39m \u001b[38;5;124m\"\u001b[39m\u001b[38;5;124mHello, welcome to my world.\u001b[39m\u001b[38;5;124m\"\u001b[39m\n\u001b[0;32m----> 3\u001b[0m x \u001b[38;5;241m=\u001b[39m \u001b[43mtxt\u001b[49m\u001b[38;5;241;43m.\u001b[39;49m\u001b[43mindex\u001b[49m\u001b[43m(\u001b[49m\u001b[38;5;124;43m\"\u001b[39;49m\u001b[38;5;124;43mx\u001b[39;49m\u001b[38;5;124;43m\"\u001b[39;49m\u001b[43m)\u001b[49m\n\u001b[1;32m      5\u001b[0m \u001b[38;5;28mprint\u001b[39m(x)\n",
      "\u001b[0;31mValueError\u001b[0m: substring not found"
     ]
    }
   ],
   "source": [
    "txt = \"Hello, welcome to my world.\"\n",
    "\n",
    "x = txt.index(\"x\")\n",
    "\n",
    "print(x)"
   ]
  },
  {
   "cell_type": "code",
   "execution_count": 170,
   "id": "987068fe-165a-46f9-928a-06a186244b71",
   "metadata": {},
   "outputs": [
    {
     "name": "stdout",
     "output_type": "stream",
     "text": [
      "John#Peter#Vicky\n"
     ]
    }
   ],
   "source": [
    "myTuple = (\"John\", \"Peter\", \"Vicky\")\n",
    "\n",
    "# x = \"#\".join(myTuple)\n",
    "\n",
    "print(x)"
   ]
  },
  {
   "cell_type": "code",
   "execution_count": 172,
   "id": "e0769cbb-b978-483b-84cc-e77350284893",
   "metadata": {},
   "outputs": [],
   "source": [
    "a = ['2','3','4']"
   ]
  },
  {
   "cell_type": "code",
   "execution_count": 177,
   "id": "6e91f521-dbe0-4623-954c-86cb8012ad86",
   "metadata": {},
   "outputs": [
    {
     "data": {
      "text/plain": [
       "'2 || 3 || 4'"
      ]
     },
     "execution_count": 177,
     "metadata": {},
     "output_type": "execute_result"
    }
   ],
   "source": [
    "\" || \".join(a)"
   ]
  },
  {
   "cell_type": "code",
   "execution_count": 178,
   "id": "aeda9bf6-986f-40de-98f8-3986da5ee3b4",
   "metadata": {},
   "outputs": [],
   "source": [
    "a = ['Hey','My','Name','is','Gourav']"
   ]
  },
  {
   "cell_type": "code",
   "execution_count": 179,
   "id": "6dc03baa-c843-402e-80a2-7c8a2d6f786a",
   "metadata": {},
   "outputs": [
    {
     "data": {
      "text/plain": [
       "['Hey', 'My', 'Name', 'is', 'Gourav']"
      ]
     },
     "execution_count": 179,
     "metadata": {},
     "output_type": "execute_result"
    }
   ],
   "source": [
    "a"
   ]
  },
  {
   "cell_type": "code",
   "execution_count": 185,
   "id": "f03b3461-08e6-482c-beb1-a75fc14fb085",
   "metadata": {},
   "outputs": [],
   "source": [
    "s = \" \".join(a)"
   ]
  },
  {
   "cell_type": "code",
   "execution_count": 189,
   "id": "7bbd6894-fed5-4b77-9f86-f7c9fa35255b",
   "metadata": {},
   "outputs": [],
   "source": [
    "# s.split(\"e\")"
   ]
  },
  {
   "cell_type": "code",
   "execution_count": 190,
   "id": "9636b60f-a2f2-409b-adb3-09eebfdbf82e",
   "metadata": {},
   "outputs": [
    {
     "data": {
      "text/plain": [
       "['Hey', 'My', 'Name', 'is', 'Gourav']"
      ]
     },
     "execution_count": 190,
     "metadata": {},
     "output_type": "execute_result"
    }
   ],
   "source": [
    "# la"
   ]
  },
  {
   "cell_type": "code",
   "execution_count": 196,
   "id": "04d45af9-abae-4f79-8d4c-eba0e2494511",
   "metadata": {},
   "outputs": [
    {
     "data": {
      "text/plain": [
       "'Hey My Name is Gourav'"
      ]
     },
     "execution_count": 196,
     "metadata": {},
     "output_type": "execute_result"
    }
   ],
   "source": [
    "# list -> string\n",
    "\n",
    "\" \".join(a)"
   ]
  },
  {
   "cell_type": "code",
   "execution_count": 197,
   "id": "020c59dc-ade9-4a19-b67b-f574979f2ca9",
   "metadata": {},
   "outputs": [
    {
     "ename": "TypeError",
     "evalue": "can only join an iterable",
     "output_type": "error",
     "traceback": [
      "\u001b[0;31m---------------------------------------------------------------------------\u001b[0m",
      "\u001b[0;31mTypeError\u001b[0m                                 Traceback (most recent call last)",
      "Cell \u001b[0;32mIn[197], line 1\u001b[0m\n\u001b[0;32m----> 1\u001b[0m \u001b[38;5;124;43m\"\u001b[39;49m\u001b[38;5;124;43m \u001b[39;49m\u001b[38;5;124;43m\"\u001b[39;49m\u001b[38;5;241;43m.\u001b[39;49m\u001b[43mjoin\u001b[49m\u001b[43m(\u001b[49m\u001b[38;5;241;43m874\u001b[39;49m\u001b[43m)\u001b[49m\n",
      "\u001b[0;31mTypeError\u001b[0m: can only join an iterable"
     ]
    }
   ],
   "source": [
    "\" \".join(874)"
   ]
  },
  {
   "cell_type": "code",
   "execution_count": 198,
   "id": "faa41388-fe99-4da5-938d-4965b6910679",
   "metadata": {},
   "outputs": [
    {
     "name": "stdout",
     "output_type": "stream",
     "text": [
      "nameTESTcountry\n"
     ]
    }
   ],
   "source": [
    "myDict = {\"name\": \"John\", \"country\": \"Norway\"}\n",
    "mySeparator = \"TEST\"\n",
    "\n",
    "x = mySeparator.join(myDict)\n",
    "\n",
    "print(x)"
   ]
  },
  {
   "cell_type": "code",
   "execution_count": null,
   "id": "90a99ad9-5a06-46f5-80dd-fabc0c1b1566",
   "metadata": {},
   "outputs": [],
   "source": []
  },
  {
   "cell_type": "code",
   "execution_count": 203,
   "id": "cd39a07b-7b7f-4efb-8f85-729a160931d2",
   "metadata": {},
   "outputs": [
    {
     "data": {
      "text/plain": [
       "['Hello world ', 'his is a ', 'es', ' program']"
      ]
     },
     "execution_count": 203,
     "metadata": {},
     "output_type": "execute_result"
    }
   ],
   "source": [
    "\"Hello world this is a test program\".split('t')"
   ]
  },
  {
   "cell_type": "code",
   "execution_count": 204,
   "id": "5970ebec-1bb9-48a6-8c6e-ba07a9b6fc4f",
   "metadata": {},
   "outputs": [
    {
     "data": {
      "text/plain": [
       "['He', '', 'o']"
      ]
     },
     "execution_count": 204,
     "metadata": {},
     "output_type": "execute_result"
    }
   ],
   "source": [
    "\"Hello\".split('l')"
   ]
  },
  {
   "cell_type": "code",
   "execution_count": 209,
   "id": "efef8ae7-fa4a-4cd2-8ee9-e91435218dbd",
   "metadata": {},
   "outputs": [
    {
     "data": {
      "text/plain": [
       "'Hello world this is a test program'"
      ]
     },
     "execution_count": 209,
     "metadata": {},
     "output_type": "execute_result"
    }
   ],
   "source": [
    "\" \".join(\"Hello world this is a test program\".split(' '))"
   ]
  },
  {
   "cell_type": "code",
   "execution_count": 210,
   "id": "6a974f72-d9d1-4b5c-9759-199fb244d410",
   "metadata": {},
   "outputs": [],
   "source": [
    "# \" \".join()"
   ]
  },
  {
   "cell_type": "code",
   "execution_count": 211,
   "id": "dd979e1a-c7d7-4de9-a444-f68ed8a3dd2a",
   "metadata": {},
   "outputs": [],
   "source": [
    "# join and split"
   ]
  },
  {
   "cell_type": "code",
   "execution_count": 212,
   "id": "a8c06196-356a-46df-bfc5-e3e5a85aa3f0",
   "metadata": {},
   "outputs": [],
   "source": [
    "txt = \"     banana     \""
   ]
  },
  {
   "cell_type": "code",
   "execution_count": 213,
   "id": "5f03c21c-5295-4408-99d6-8dda4f6e4657",
   "metadata": {},
   "outputs": [
    {
     "data": {
      "text/plain": [
       "'banana'"
      ]
     },
     "execution_count": 213,
     "metadata": {},
     "output_type": "execute_result"
    }
   ],
   "source": [
    "txt.strip()"
   ]
  },
  {
   "cell_type": "code",
   "execution_count": null,
   "id": "40848ecb-9ada-4531-9c3b-74d1f06d07df",
   "metadata": {},
   "outputs": [],
   "source": []
  },
  {
   "cell_type": "code",
   "execution_count": null,
   "id": "4b082800-bd04-422c-a4dc-686abcf73eb3",
   "metadata": {},
   "outputs": [],
   "source": []
  },
  {
   "cell_type": "code",
   "execution_count": 220,
   "id": "cf57b8a4-82af-4c74-8f0a-a2cd7391a461",
   "metadata": {},
   "outputs": [],
   "source": [
    "# string.replace(oldvalue, newvalue, count)"
   ]
  },
  {
   "cell_type": "code",
   "execution_count": 221,
   "id": "bd729d21-36c5-414a-ad4b-5d475d57c365",
   "metadata": {},
   "outputs": [],
   "source": [
    "del a"
   ]
  },
  {
   "cell_type": "code",
   "execution_count": 222,
   "id": "e51bd5d0-2ba9-4cf1-ad92-90e85a31248c",
   "metadata": {},
   "outputs": [],
   "source": [
    "a = 'Hello World Hello'"
   ]
  },
  {
   "cell_type": "code",
   "execution_count": 224,
   "id": "dc96d6a2-7dcc-4c37-be54-70d09ed97727",
   "metadata": {},
   "outputs": [
    {
     "data": {
      "text/plain": [
       "'Hey World Hello'"
      ]
     },
     "execution_count": 224,
     "metadata": {},
     "output_type": "execute_result"
    }
   ],
   "source": [
    "a.replace('Hello','Hey')"
   ]
  }
 ],
 "metadata": {
  "kernelspec": {
   "display_name": "Python 3 (ipykernel)",
   "language": "python",
   "name": "python3"
  },
  "language_info": {
   "codemirror_mode": {
    "name": "ipython",
    "version": 3
   },
   "file_extension": ".py",
   "mimetype": "text/x-python",
   "name": "python",
   "nbconvert_exporter": "python",
   "pygments_lexer": "ipython3",
   "version": "3.12.3"
  }
 },
 "nbformat": 4,
 "nbformat_minor": 5
}
