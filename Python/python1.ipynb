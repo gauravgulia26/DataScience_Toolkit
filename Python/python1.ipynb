{
 "cells": [
  {
   "cell_type": "code",
   "execution_count": 2,
   "id": "272546e8-f624-43dc-a778-019ac55fc372",
   "metadata": {},
   "outputs": [
    {
     "name": "stdout",
     "output_type": "stream",
     "text": [
      "Hello world\n"
     ]
    }
   ],
   "source": [
    "print('Hello world')"
   ]
  },
  {
   "cell_type": "code",
   "execution_count": 5,
   "id": "3fad0a89-1935-4226-a7a9-bd36e3199428",
   "metadata": {},
   "outputs": [
    {
     "name": "stdout",
     "output_type": "stream",
     "text": [
      "Hello world\n",
      "Hey world\n"
     ]
    }
   ],
   "source": [
    "print('Hello world') \n",
    "print('Hey world')"
   ]
  },
  {
   "cell_type": "code",
   "execution_count": null,
   "id": "017323a2-6ff4-4b47-8b25-45ef94c1e9ff",
   "metadata": {},
   "outputs": [],
   "source": [
    "# scopes    "
   ]
  },
  {
   "cell_type": "code",
   "execution_count": 4,
   "id": "1028efc0-e602-412d-9018-7362f322acf0",
   "metadata": {},
   "outputs": [
    {
     "name": "stdout",
     "output_type": "stream",
     "text": [
      "Gourav\n"
     ]
    }
   ],
   "source": [
    "print('Gourav')"
   ]
  },
  {
   "cell_type": "code",
   "execution_count": 6,
   "id": "9814285d-6765-4e7d-b09c-8ad1271669ef",
   "metadata": {},
   "outputs": [
    {
     "name": "stdout",
     "output_type": "stream",
     "text": [
      "10\n"
     ]
    }
   ],
   "source": [
    "print(10)"
   ]
  },
  {
   "cell_type": "code",
   "execution_count": 24,
   "id": "23a64266-12d2-4ec3-bcdd-56be4fec699e",
   "metadata": {},
   "outputs": [],
   "source": [
    "# a = 10"
   ]
  },
  {
   "cell_type": "code",
   "execution_count": 25,
   "id": "425f4620-ad03-44da-be02-e150994752a4",
   "metadata": {},
   "outputs": [],
   "source": [
    "# a"
   ]
  },
  {
   "cell_type": "code",
   "execution_count": 30,
   "id": "e6a3bf56-b4c4-4b42-ab01-7ff927f5d814",
   "metadata": {},
   "outputs": [
    {
     "ename": "NameError",
     "evalue": "name 'a' is not defined",
     "output_type": "error",
     "traceback": [
      "\u001b[0;31m---------------------------------------------------------------------------\u001b[0m",
      "\u001b[0;31mNameError\u001b[0m                                 Traceback (most recent call last)",
      "Cell \u001b[0;32mIn[30], line 1\u001b[0m\n\u001b[0;32m----> 1\u001b[0m \u001b[38;5;28;01mif\u001b[39;00m \u001b[43ma\u001b[49m \u001b[38;5;241m>\u001b[39m \u001b[38;5;241m20\u001b[39m:\n\u001b[1;32m      2\u001b[0m     \u001b[38;5;28;01mglobal\u001b[39;00m b\n\u001b[1;32m      3\u001b[0m     b \u001b[38;5;241m=\u001b[39m \u001b[38;5;241m20\u001b[39m\n",
      "\u001b[0;31mNameError\u001b[0m: name 'a' is not defined"
     ]
    }
   ],
   "source": [
    "if a > 20:\n",
    "    global b\n",
    "    b = 20\n",
    "    print('Hey')\n",
    "else:\n",
    "    print('Hello')"
   ]
  },
  {
   "cell_type": "code",
   "execution_count": 29,
   "id": "2b2ad287-944c-4004-8478-b15aa56df6f3",
   "metadata": {},
   "outputs": [
    {
     "ename": "NameError",
     "evalue": "name 'b' is not defined",
     "output_type": "error",
     "traceback": [
      "\u001b[0;31m---------------------------------------------------------------------------\u001b[0m",
      "\u001b[0;31mNameError\u001b[0m                                 Traceback (most recent call last)",
      "Cell \u001b[0;32mIn[29], line 1\u001b[0m\n\u001b[0;32m----> 1\u001b[0m \u001b[43mb\u001b[49m\n",
      "\u001b[0;31mNameError\u001b[0m: name 'b' is not defined"
     ]
    }
   ],
   "source": [
    "b"
   ]
  },
  {
   "cell_type": "code",
   "execution_count": 34,
   "id": "dc3ff1d7-122e-4615-b583-098e10ccd2b6",
   "metadata": {},
   "outputs": [
    {
     "name": "stdout",
     "output_type": "stream",
     "text": [
      "Success\n"
     ]
    }
   ],
   "source": [
    "a = 20\n",
    "if a == 20:\n",
    "    b = 40\n",
    "    print('Success')\n",
    "else:\n",
    "    print('fail')"
   ]
  },
  {
   "cell_type": "code",
   "execution_count": 40,
   "id": "3796dc08-dc77-456c-ac4c-4c1b3d8d6b71",
   "metadata": {},
   "outputs": [
    {
     "name": "stdout",
     "output_type": "stream",
     "text": [
      "Hello\n",
      "hello\n",
      "Hello\n",
      "Hello\n",
      "Hello\n",
      "Hello\n"
     ]
    }
   ],
   "source": [
    "if a > 4:\n",
    "    print('Hello')\n",
    "    if a > 6:\n",
    "        print('hello')\n",
    "        if a > 5:\n",
    "            print('Hello')\n",
    "        print('Hello')\n",
    "    print('Hello')\n",
    "print('Hello')"
   ]
  },
  {
   "cell_type": "code",
   "execution_count": 48,
   "id": "2c781fe5-5b16-48b1-8d2f-6eaec6e2ee3e",
   "metadata": {},
   "outputs": [
    {
     "name": "stdout",
     "output_type": "stream",
     "text": [
      "Five is greater than two!\n"
     ]
    }
   ],
   "source": [
    "if 5 > 2:\n",
    "    print(\"Five is greater than two!\")\n",
    "    # this code will give me a error\n",
    "        # print(\"Five is greater than two!\") "
   ]
  },
  {
   "cell_type": "code",
   "execution_count": 49,
   "id": "db0fb403-50f4-4344-9c4d-3d39f64358ea",
   "metadata": {},
   "outputs": [],
   "source": [
    "# kgfkfkf\n",
    "# fdka;fm;admf\n",
    "# da\n",
    "# fasd\n",
    "# f\n",
    "# das;f\n",
    "# ad\n",
    "# f\n",
    "# ad\n",
    "# fa\n",
    "# d"
   ]
  },
  {
   "cell_type": "code",
   "execution_count": 50,
   "id": "e03471f1-0b0f-4a84-8a44-76a3966adc8e",
   "metadata": {},
   "outputs": [
    {
     "data": {
      "text/plain": [
       "'\\n\\niwqiufgqeigfiueqgiufgqiegfiulqweguilg\\n\\n\\n'"
      ]
     },
     "execution_count": 50,
     "metadata": {},
     "output_type": "execute_result"
    }
   ],
   "source": [
    "\"\"\"\n",
    "\n",
    "iwqiufgqeigfiueqgiufgqiegfiulqweguilg\n",
    "\n",
    "\n",
    "\"\"\""
   ]
  },
  {
   "cell_type": "code",
   "execution_count": 51,
   "id": "57cf2509-2348-4d0e-8414-ad7c10cdf511",
   "metadata": {},
   "outputs": [],
   "source": [
    "a = 10"
   ]
  },
  {
   "cell_type": "code",
   "execution_count": 56,
   "id": "2e3ddc82-9c1b-4b5b-90ac-faf209b40223",
   "metadata": {},
   "outputs": [
    {
     "data": {
      "text/plain": [
       "int"
      ]
     },
     "execution_count": 56,
     "metadata": {},
     "output_type": "execute_result"
    }
   ],
   "source": [
    "type(a)"
   ]
  },
  {
   "cell_type": "code",
   "execution_count": 62,
   "id": "fa77fbdf-d9e4-4dfa-b0e7-821907205426",
   "metadata": {},
   "outputs": [],
   "source": [
    "del print"
   ]
  },
  {
   "cell_type": "code",
   "execution_count": 63,
   "id": "eede1fb6-0dc9-4f59-b30d-32f01146a9d7",
   "metadata": {},
   "outputs": [],
   "source": [
    "a = 10"
   ]
  },
  {
   "cell_type": "code",
   "execution_count": 65,
   "id": "43500ecb-6dbf-40e8-bf7b-e87a09c9f779",
   "metadata": {},
   "outputs": [],
   "source": [
    "a = 10\n",
    "b = 20"
   ]
  },
  {
   "cell_type": "code",
   "execution_count": 66,
   "id": "c9305379-70b0-49cf-9628-de96d99681c4",
   "metadata": {},
   "outputs": [],
   "source": [
    "a,b = 10,20"
   ]
  },
  {
   "cell_type": "code",
   "execution_count": 69,
   "id": "13bbd9a9-fc6b-4a1d-8637-b1097d701c9d",
   "metadata": {},
   "outputs": [],
   "source": [
    "a = \"Gourav\""
   ]
  },
  {
   "cell_type": "code",
   "execution_count": 70,
   "id": "24556d88-bdd3-4dad-a073-16d6d4616b55",
   "metadata": {},
   "outputs": [
    {
     "data": {
      "text/plain": [
       "str"
      ]
     },
     "execution_count": 70,
     "metadata": {},
     "output_type": "execute_result"
    }
   ],
   "source": [
    "type(a)"
   ]
  },
  {
   "cell_type": "code",
   "execution_count": 72,
   "id": "b10ff98f-6d20-4e74-a84e-7ad8c7a18fab",
   "metadata": {},
   "outputs": [],
   "source": [
    "# \n",
    "\n",
    "a = \"has'nt\""
   ]
  },
  {
   "cell_type": "code",
   "execution_count": 74,
   "id": "73147413-da10-4f11-a1f0-ce8658423659",
   "metadata": {},
   "outputs": [],
   "source": [
    "a = 'has\"nt'"
   ]
  },
  {
   "cell_type": "code",
   "execution_count": 75,
   "id": "a700ba68-c942-4f14-b15e-ca3836783f22",
   "metadata": {},
   "outputs": [
    {
     "data": {
      "text/plain": [
       "'has\"nt'"
      ]
     },
     "execution_count": 75,
     "metadata": {},
     "output_type": "execute_result"
    }
   ],
   "source": [
    "a"
   ]
  },
  {
   "cell_type": "code",
   "execution_count": 76,
   "id": "b17504cd-edaa-4fa5-a027-22c2a857a9d3",
   "metadata": {},
   "outputs": [],
   "source": [
    "# Numeric Types: \tint, float, complex "
   ]
  },
  {
   "cell_type": "code",
   "execution_count": 89,
   "id": "fe2e505c-a9ba-489f-a800-18fe349d5d8b",
   "metadata": {},
   "outputs": [],
   "source": [
    "# complex(2,3)"
   ]
  },
  {
   "cell_type": "code",
   "execution_count": 88,
   "id": "6d92a7ac-1c48-4c16-a161-b436bc504c9c",
   "metadata": {},
   "outputs": [],
   "source": [
    "# 2 + 4j"
   ]
  },
  {
   "cell_type": "code",
   "execution_count": 90,
   "id": "3130c505-1d39-4e30-9839-130a5337e7fc",
   "metadata": {},
   "outputs": [],
   "source": [
    "# Sequence Types: \tlist, tuple, range"
   ]
  },
  {
   "cell_type": "code",
   "execution_count": 91,
   "id": "598a17ac-bc87-4b5c-8ae9-a9eee5a5255b",
   "metadata": {},
   "outputs": [],
   "source": [
    "a = 1,2,3,4,5,6,7,8"
   ]
  },
  {
   "cell_type": "code",
   "execution_count": 92,
   "id": "6b7c4de6-d514-48ca-a06c-47f9a98462b4",
   "metadata": {},
   "outputs": [
    {
     "data": {
      "text/plain": [
       "(1, 2, 3, 4, 5, 6, 7, 8)"
      ]
     },
     "execution_count": 92,
     "metadata": {},
     "output_type": "execute_result"
    }
   ],
   "source": [
    "a"
   ]
  },
  {
   "cell_type": "code",
   "execution_count": 93,
   "id": "6bf9f233-6b25-429b-ae8f-a7341382b287",
   "metadata": {},
   "outputs": [],
   "source": [
    "a = [1,2,3,'Gourav',50.0]"
   ]
  },
  {
   "cell_type": "code",
   "execution_count": 95,
   "id": "7dc670d1-8e01-4cda-8dca-6274515c6731",
   "metadata": {},
   "outputs": [
    {
     "data": {
      "text/plain": [
       "list"
      ]
     },
     "execution_count": 95,
     "metadata": {},
     "output_type": "execute_result"
    }
   ],
   "source": [
    "type(a)"
   ]
  },
  {
   "cell_type": "code",
   "execution_count": 96,
   "id": "8bc60cfc-4fc4-443d-b02f-a2a42c41ec96",
   "metadata": {},
   "outputs": [],
   "source": [
    "# heterogenous\n",
    "# mutable"
   ]
  },
  {
   "cell_type": "code",
   "execution_count": 97,
   "id": "93337102-6178-4df3-bb96-b5ffc8ff1623",
   "metadata": {},
   "outputs": [],
   "source": [
    "a[-1] = 60.0"
   ]
  },
  {
   "cell_type": "code",
   "execution_count": 98,
   "id": "39f7f212-a06b-462a-a608-47278824f6e2",
   "metadata": {},
   "outputs": [
    {
     "data": {
      "text/plain": [
       "[1, 2, 3, 'Gourav', 60.0]"
      ]
     },
     "execution_count": 98,
     "metadata": {},
     "output_type": "execute_result"
    }
   ],
   "source": [
    "a"
   ]
  },
  {
   "cell_type": "code",
   "execution_count": 99,
   "id": "ae78ff61-d02f-4853-85bb-bbcdb2dd4049",
   "metadata": {},
   "outputs": [],
   "source": [
    "a = (1,2,3,4,5)\n",
    "# homogenous\n",
    "# immutable"
   ]
  },
  {
   "cell_type": "code",
   "execution_count": 101,
   "id": "c27afdbb-e9a4-4899-9a3d-2424e874301a",
   "metadata": {},
   "outputs": [
    {
     "ename": "TypeError",
     "evalue": "'tuple' object does not support item assignment",
     "output_type": "error",
     "traceback": [
      "\u001b[0;31m---------------------------------------------------------------------------\u001b[0m",
      "\u001b[0;31mTypeError\u001b[0m                                 Traceback (most recent call last)",
      "Cell \u001b[0;32mIn[101], line 1\u001b[0m\n\u001b[0;32m----> 1\u001b[0m \u001b[43ma\u001b[49m\u001b[43m[\u001b[49m\u001b[38;5;241;43m-\u001b[39;49m\u001b[38;5;241;43m1\u001b[39;49m\u001b[43m]\u001b[49m \u001b[38;5;241m=\u001b[39m \u001b[38;5;241m10\u001b[39m\n",
      "\u001b[0;31mTypeError\u001b[0m: 'tuple' object does not support item assignment"
     ]
    }
   ],
   "source": [
    "a[-1] = 10"
   ]
  },
  {
   "cell_type": "code",
   "execution_count": 102,
   "id": "571b4b23-7447-4716-bf1e-ccd784e2e4ec",
   "metadata": {},
   "outputs": [],
   "source": [
    "# type casting\n",
    "b = list(a)"
   ]
  },
  {
   "cell_type": "code",
   "execution_count": 104,
   "id": "e3bd19cf-6e7d-438c-becf-f15337a1a284",
   "metadata": {},
   "outputs": [],
   "source": [
    "a = 10"
   ]
  },
  {
   "cell_type": "code",
   "execution_count": 106,
   "id": "0ceefcf2-ac84-4232-bc1c-75b503e0af07",
   "metadata": {},
   "outputs": [
    {
     "data": {
      "text/plain": [
       "10.0"
      ]
     },
     "execution_count": 106,
     "metadata": {},
     "output_type": "execute_result"
    }
   ],
   "source": [
    "float(a)"
   ]
  },
  {
   "cell_type": "code",
   "execution_count": 107,
   "id": "279acec2-d70d-4e5a-92b1-d00cf080f473",
   "metadata": {},
   "outputs": [],
   "source": [
    "# casting\n",
    "a = float(10)"
   ]
  },
  {
   "cell_type": "code",
   "execution_count": 109,
   "id": "7a97d6eb-d24c-4514-858d-3adf2f8cdec7",
   "metadata": {},
   "outputs": [],
   "source": [
    "# list\n",
    "# tuple\n",
    "# type casting / conversion\n",
    "# casting / conversion"
   ]
  },
  {
   "cell_type": "code",
   "execution_count": null,
   "id": "de9eeb25-7f90-42ec-9942-964cddcbbfc8",
   "metadata": {},
   "outputs": [],
   "source": []
  }
 ],
 "metadata": {
  "kernelspec": {
   "display_name": "Python 3 (ipykernel)",
   "language": "python",
   "name": "python3"
  },
  "language_info": {
   "codemirror_mode": {
    "name": "ipython",
    "version": 3
   },
   "file_extension": ".py",
   "mimetype": "text/x-python",
   "name": "python",
   "nbconvert_exporter": "python",
   "pygments_lexer": "ipython3",
   "version": "3.12.3"
  }
 },
 "nbformat": 4,
 "nbformat_minor": 5
}
