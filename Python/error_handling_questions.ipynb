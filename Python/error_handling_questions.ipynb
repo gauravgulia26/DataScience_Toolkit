{
 "cells": [
  {
   "cell_type": "code",
   "execution_count": 1,
   "id": "d0c5586d-c324-4513-856c-0f69c5e3517e",
   "metadata": {},
   "outputs": [],
   "source": []
  },
  {
   "cell_type": "code",
   "execution_count": 2,
   "id": "86c37373-e3cf-4e0e-8ea1-47d859064e18",
   "metadata": {},
   "outputs": [],
   "source": [
    "def abc(s):\n",
    "    if s == 10:\n",
    "        raise ValueError('This value is not allowed')\n",
    "    else:\n",
    "        return s"
   ]
  },
  {
   "cell_type": "code",
   "execution_count": 8,
   "id": "ec0f89ed-ebda-4d2a-b947-08f5c350f200",
   "metadata": {},
   "outputs": [
    {
     "name": "stdout",
     "output_type": "stream",
     "text": [
      "3\n",
      "Hello\n"
     ]
    }
   ],
   "source": [
    "try:\n",
    "    a = abc(3)\n",
    "except ValueError as e:\n",
    "    print(e)\n",
    "else:\n",
    "    print(a)\n",
    "# finally:\n",
    "    # print('Hello')"
   ]
  },
  {
   "cell_type": "code",
   "execution_count": 23,
   "id": "68225bc9-f192-42e9-ba4e-d0bcb65020dc",
   "metadata": {},
   "outputs": [],
   "source": [
    "def ChckDict(x:dict,y:str):\n",
    "    if isinstance(x,dict):\n",
    "        if y not in x.keys():\n",
    "            raise KeyError(f'{y} is not present in Dict')\n",
    "        else:\n",
    "            return x[y]\n",
    "    else:\n",
    "        raise TypeError(f'{type(x)} is not a Dict')"
   ]
  },
  {
   "cell_type": "code",
   "execution_count": 24,
   "id": "722a42db-9ba1-4bb6-8032-40263555cc26",
   "metadata": {},
   "outputs": [
    {
     "name": "stdout",
     "output_type": "stream",
     "text": [
      "<class 'int'> is not a Dict\n"
     ]
    }
   ],
   "source": [
    "try:\n",
    "    op = ChckDict(12,'b')\n",
    "except KeyError as e:\n",
    "    print(e)\n",
    "except TypeError as e:\n",
    "    print(e)\n",
    "else:\n",
    "    print(op)"
   ]
  },
  {
   "cell_type": "code",
   "execution_count": null,
   "id": "37b8a94e-f6b8-41fc-8a7d-ce69c19ebd76",
   "metadata": {},
   "outputs": [],
   "source": [
    "# 2. Dictionary Key Lookup\n",
    "\n",
    "# Write a program that takes a dictionary and asks the user to input a key. \n",
    "# Attempt to retrieve the value associated with the key and handle cases where the key does not exist and user is\n",
    "# not entering a dictionary.\n",
    "\n",
    "# Example Output:\n",
    "\n",
    "# my_dict = {\"name\": \"John\", \"age\": 30, \"city\": \"New York\"}\n",
    "\n",
    "#     Input: \"name\" → Output: \"The value is: John\"\n",
    "#     Input: \"gender\" → Output: \"Key not found in the dictionary.\""
   ]
  },
  {
   "cell_type": "code",
   "execution_count": 25,
   "id": "61ee6acf-e551-4e79-8453-33a5b3d62c87",
   "metadata": {},
   "outputs": [],
   "source": [
    "# Ask the user for a list of numbers and an index to access. \n",
    "# Handle exceptions for invalid indices and non-numeric inputs\n",
    "\n",
    "# Example Output:\n",
    "\n",
    "#     Input List: [10, 20, 30], Index: 2 → Output: 30\n",
    "#     Input List: [10, 20, 30], Index: 5 → Output: \"Index out of range!\"\n",
    "#     Input Index: \"two\" → Output: \"Invalid input. Index must be an integer.\""
   ]
  },
  {
   "cell_type": "code",
   "execution_count": 42,
   "id": "24c0b954-5d86-4fe2-91b6-3cdd8ba23ec7",
   "metadata": {},
   "outputs": [],
   "source": [
    "def ChckLst(x:list,y:int):\n",
    "    if isinstance(y,int):\n",
    "        if y <= (len(x) - 1):\n",
    "            return x[y]\n",
    "        else:\n",
    "            raise IndexError(f'{y} must be <= {len(x) - 1}')\n",
    "    else:\n",
    "        raise TypeError('Only int are allowed')"
   ]
  },
  {
   "cell_type": "code",
   "execution_count": 46,
   "id": "5973280e-0488-4a91-b2a3-526b4e037ea7",
   "metadata": {},
   "outputs": [
    {
     "name": "stdout",
     "output_type": "stream",
     "text": [
      "3 must be <= 2\n"
     ]
    }
   ],
   "source": [
    "ip = [10, 20, 30]\n",
    "try:\n",
    "    op = ChckLst(ip,3)\n",
    "except IndexError as e:\n",
    "    # raise IndexError('Wrong Index')\n",
    "    print(e)\n",
    "except TypeError as e:\n",
    "    print(e)\n",
    "else:\n",
    "    print(op)"
   ]
  },
  {
   "cell_type": "code",
   "execution_count": null,
   "id": "4b025728-aa31-445e-b0d9-3dbec9522e7b",
   "metadata": {},
   "outputs": [],
   "source": []
  },
  {
   "cell_type": "code",
   "execution_count": 47,
   "id": "c02d3c91-a9db-4840-83f2-bb8a6d9dc83a",
   "metadata": {},
   "outputs": [],
   "source": [
    "# 4. Type Conversion\n",
    "\n",
    "# Write a program that asks the user to input a number. \n",
    "# Convert it to an integer and display the square of the number. Handle exceptions for invalid inputs.\n",
    "\n",
    "# Example Output:\n",
    "\n",
    "#     Input: \"5\" → Output: 25\n",
    "#     Input: \"abc\" → Output: \"Invalid input. Please enter a valid number.\""
   ]
  },
  {
   "cell_type": "code",
   "execution_count": 57,
   "id": "ddb74641-d675-4000-bc60-b13ab3e625eb",
   "metadata": {},
   "outputs": [],
   "source": [
    "def ChckIp(x):\n",
    "    if isinstance(x,int) or x.isdigit():\n",
    "        return int(x)** 2\n",
    "    else:\n",
    "        raise TypeError('Not Valid')"
   ]
  },
  {
   "cell_type": "code",
   "execution_count": 61,
   "id": "7994777e-b116-42e7-bb5b-689968357ab0",
   "metadata": {},
   "outputs": [
    {
     "name": "stdout",
     "output_type": "stream",
     "text": [
      "Not Valid\n"
     ]
    }
   ],
   "source": [
    "try:\n",
    "    a = ChckIp('2223a')\n",
    "except TypeError as e:\n",
    "    print(e)\n",
    "else:\n",
    "    print(a)"
   ]
  },
  {
   "cell_type": "code",
   "execution_count": 66,
   "id": "eed6f25c-5b05-4e28-9c90-20cdf81bc8b6",
   "metadata": {},
   "outputs": [
    {
     "data": {
      "text/plain": [
       "False"
      ]
     },
     "execution_count": 66,
     "metadata": {},
     "output_type": "execute_result"
    }
   ],
   "source": [
    "'21111111111111a'.isdigit()"
   ]
  },
  {
   "cell_type": "code",
   "execution_count": 83,
   "id": "2bbc9bda-d5f1-458c-89b0-cba6ce3cdef1",
   "metadata": {},
   "outputs": [
    {
     "data": {
      "text/plain": [
       "True"
      ]
     },
     "execution_count": 83,
     "metadata": {},
     "output_type": "execute_result"
    }
   ],
   "source": [
    "# a = [1,2,3,3]\n",
    "# b = [1,2,3,4]\n",
    "\n",
    "all(isinstance(i,int) for i in a)"
   ]
  },
  {
   "cell_type": "code",
   "execution_count": 81,
   "id": "6b54872a-1060-428d-9ca3-a0e9172eb805",
   "metadata": {},
   "outputs": [],
   "source": [
    "a.extend(b)"
   ]
  },
  {
   "cell_type": "code",
   "execution_count": 84,
   "id": "411812bb-4047-4100-8252-e041a15cb12c",
   "metadata": {},
   "outputs": [],
   "source": [
    "a = [1,2,3]"
   ]
  },
  {
   "cell_type": "code",
   "execution_count": 86,
   "id": "9c3b1814-c4c5-4640-ba1f-6e969e6e58b4",
   "metadata": {},
   "outputs": [
    {
     "data": {
      "text/plain": [
       "[1, 2, 3]"
      ]
     },
     "execution_count": 86,
     "metadata": {},
     "output_type": "execute_result"
    }
   ],
   "source": [
    "a"
   ]
  },
  {
   "cell_type": "code",
   "execution_count": 87,
   "id": "b52a0498-dd7e-452b-bb46-dfdb2c63f932",
   "metadata": {},
   "outputs": [],
   "source": [
    "a.extend(b)"
   ]
  },
  {
   "cell_type": "code",
   "execution_count": 94,
   "id": "6d26dea0-7ead-40b9-8667-e7d12fd3ece1",
   "metadata": {},
   "outputs": [],
   "source": [
    "# 2. Dictionary Key Lookup\n",
    "\n",
    "# Write a program that takes a dictionary and asks the user to input a key. \n",
    "# Attempt to retrieve the value associated with the key and handle cases where the key does not exist and user is\n",
    "# not entering a dictionary.\n",
    "\n",
    "# Example Output:\n",
    "\n",
    "# my_dict = {\"name\": \"John\", \"age\": 30, \"city\": \"New York\"}\n",
    "\n",
    "#     Input: \"name\" → Output: \"The value is: John\"\n",
    "#     Input: \"gender\" → Output: \"Key not found in the dictionary.\""
   ]
  },
  {
   "cell_type": "code",
   "execution_count": 102,
   "id": "d58141db-ecc8-4e18-bbfd-9f3eaa47638f",
   "metadata": {},
   "outputs": [],
   "source": [
    "def KeyLookup(x:dict,y:str):\n",
    "    if isinstance(x,dict):\n",
    "        if y in x.keys():\n",
    "            return x[y]\n",
    "        else:\n",
    "            raise KeyError(f'{y} is not a valid key !!')\n",
    "    else:\n",
    "        raise TypeError(f'{type(x)} is not valid.')"
   ]
  },
  {
   "cell_type": "code",
   "execution_count": 106,
   "id": "818afa44-e17d-4b7f-842f-8f284e54c535",
   "metadata": {},
   "outputs": [
    {
     "name": "stdout",
     "output_type": "stream",
     "text": [
      "<class 'int'> is not valid.\n"
     ]
    }
   ],
   "source": [
    "my_dict = {\"name\": \"John\", \"age\": 30, \"city\": \"New York\"}\n",
    "try:\n",
    "    a = KeyLookup(1,'name')\n",
    "except KeyError as e:\n",
    "    print(e)\n",
    "except TypeError as e:\n",
    "    print(e)\n",
    "else:\n",
    "    print(a)"
   ]
  },
  {
   "cell_type": "code",
   "execution_count": 113,
   "id": "2a254ba8-624e-48af-ba59-3eeb68921fb9",
   "metadata": {},
   "outputs": [],
   "source": [
    "# Ask the user for a list of numbers and an index to access. \n",
    "# Handle exceptions for invalid indices and non-numeric inputs.\n",
    "\n",
    "# Example Output:\n",
    "\n",
    "#     Input List: [10, 20, 30], Index: 2 → Output: 30\n",
    "#     Input List: [10, 20, 30], Index: 5 → Output: \"Index out of range!\"\n",
    "#     Input Index: \"two\" → Output: \"Invalid input. Index must be an integer.\"\n",
    "\n",
    "del a"
   ]
  },
  {
   "cell_type": "code",
   "execution_count": 114,
   "id": "b1323dd2-1f77-4ea8-a7b3-96b07d7d334b",
   "metadata": {},
   "outputs": [],
   "source": [
    "a = [10, 20, 30]\n",
    "\n",
    "def LstCheck(x:list,y:int):\n",
    "    if isinstance(x,list):\n",
    "        if isinstance(y,int):\n",
    "            if y <= len(x) - 1:\n",
    "                return x[y]\n",
    "            else:\n",
    "                raise IndexError('Index out of range')\n",
    "        else:\n",
    "            raise TypeError('Please enter only integers as index')\n",
    "    else:\n",
    "        raise TypeError('List is only supported for this operation!!')"
   ]
  },
  {
   "cell_type": "code",
   "execution_count": 122,
   "id": "2aaf059b-308c-4592-be70-7f78b188966f",
   "metadata": {},
   "outputs": [
    {
     "name": "stdout",
     "output_type": "stream",
     "text": [
      "Index out of range\n"
     ]
    }
   ],
   "source": [
    "a = [10,20,30,20,30,40]\n",
    "try:\n",
    "    b = LstCheck(a,6)\n",
    "except IndexError as e:\n",
    "    print(e)\n",
    "except TypeError as e:\n",
    "    print(e)\n",
    "else:\n",
    "    print(b)"
   ]
  },
  {
   "cell_type": "code",
   "execution_count": null,
   "id": "397e12ca-6824-4847-b6a5-a78d2ec1c9c5",
   "metadata": {},
   "outputs": [],
   "source": []
  },
  {
   "cell_type": "code",
   "execution_count": 123,
   "id": "1933c3dd-8c11-4dd1-9ce4-cbfb2e5a68ee",
   "metadata": {},
   "outputs": [],
   "source": [
    "# 5. Calculator with Multiple Operations\n",
    "\n",
    "# Develop a calculator that performs addition, subtraction, multiplication, or \n",
    "# division based on user input. Handle exceptions for invalid operation choices and division by zero.\n",
    "\n",
    "# Example Output:\n",
    "\n",
    "#     Inputs: 10, 2, \"+\" → Output: 12\n",
    "#     Inputs: 10, 2, \"/\" → Output: 5.0\n",
    "#     Inputs: 10, 0, \"/\" → Output: \"Cannot divide by zero!\"\n",
    "#     Operation: \"%\" → Output: \"Invalid operation. Please choose +, -, *, or /.\""
   ]
  },
  {
   "cell_type": "code",
   "execution_count": 151,
   "id": "2dd2cd2d-5135-46ef-b63c-d2d1d19d5c1d",
   "metadata": {},
   "outputs": [],
   "source": [
    "choices = ['+','-','*','/']\n",
    "\n",
    "def Calc(x,y,z):\n",
    "    if z not in choices:\n",
    "        raise ValueError(f'Invalid Operation, please choose {\" \".join(choices)}')\n",
    "    else:\n",
    "        if z == '+':\n",
    "            return x + y\n",
    "        elif z == '-':\n",
    "            if x > y:\n",
    "                return x - y\n",
    "            else:\n",
    "                return y - x\n",
    "        elif z == '*':\n",
    "            return x * y\n",
    "        else:\n",
    "            try:\n",
    "                return x / y\n",
    "            except ZeroDivisionError as e:\n",
    "                raise ValueError('Divison by zero is not supported !!')\n",
    "\n"
   ]
  },
  {
   "cell_type": "code",
   "execution_count": 161,
   "id": "51e7a51d-e603-4b99-ad90-21627184a384",
   "metadata": {},
   "outputs": [
    {
     "ename": "MemoryError",
     "evalue": "Out of Memory",
     "output_type": "error",
     "traceback": [
      "\u001b[0;31m---------------------------------------------------------------------------\u001b[0m",
      "\u001b[0;31mZeroDivisionError\u001b[0m                         Traceback (most recent call last)",
      "Cell \u001b[0;32mIn[151], line 18\u001b[0m, in \u001b[0;36mCalc\u001b[0;34m(x, y, z)\u001b[0m\n\u001b[1;32m     17\u001b[0m \u001b[38;5;28;01mtry\u001b[39;00m:\n\u001b[0;32m---> 18\u001b[0m     \u001b[38;5;28;01mreturn\u001b[39;00m \u001b[43mx\u001b[49m\u001b[43m \u001b[49m\u001b[38;5;241;43m/\u001b[39;49m\u001b[43m \u001b[49m\u001b[43my\u001b[49m\n\u001b[1;32m     19\u001b[0m \u001b[38;5;28;01mexcept\u001b[39;00m \u001b[38;5;167;01mZeroDivisionError\u001b[39;00m \u001b[38;5;28;01mas\u001b[39;00m e:\n",
      "\u001b[0;31mZeroDivisionError\u001b[0m: division by zero",
      "\nDuring handling of the above exception, another exception occurred:\n",
      "\u001b[0;31mValueError\u001b[0m                                Traceback (most recent call last)",
      "Cell \u001b[0;32mIn[161], line 4\u001b[0m\n\u001b[1;32m      3\u001b[0m \u001b[38;5;28;01mtry\u001b[39;00m:\n\u001b[0;32m----> 4\u001b[0m     op \u001b[38;5;241m=\u001b[39m \u001b[43mCalc\u001b[49m\u001b[43m(\u001b[49m\u001b[38;5;241;43m3\u001b[39;49m\u001b[43m,\u001b[49m\u001b[38;5;241;43m0\u001b[39;49m\u001b[43m,\u001b[49m\u001b[38;5;124;43m'\u001b[39;49m\u001b[38;5;124;43m/\u001b[39;49m\u001b[38;5;124;43m'\u001b[39;49m\u001b[43m)\u001b[49m\n\u001b[1;32m      5\u001b[0m \u001b[38;5;28;01mexcept\u001b[39;00m \u001b[38;5;167;01mValueError\u001b[39;00m \u001b[38;5;28;01mas\u001b[39;00m e:\n",
      "Cell \u001b[0;32mIn[151], line 20\u001b[0m, in \u001b[0;36mCalc\u001b[0;34m(x, y, z)\u001b[0m\n\u001b[1;32m     19\u001b[0m \u001b[38;5;28;01mexcept\u001b[39;00m \u001b[38;5;167;01mZeroDivisionError\u001b[39;00m \u001b[38;5;28;01mas\u001b[39;00m e:\n\u001b[0;32m---> 20\u001b[0m     \u001b[38;5;28;01mraise\u001b[39;00m \u001b[38;5;167;01mValueError\u001b[39;00m(\u001b[38;5;124m'\u001b[39m\u001b[38;5;124mDivison by zero is not supported !!\u001b[39m\u001b[38;5;124m'\u001b[39m)\n",
      "\u001b[0;31mValueError\u001b[0m: Divison by zero is not supported !!",
      "\nDuring handling of the above exception, another exception occurred:\n",
      "\u001b[0;31mRuntimeError\u001b[0m                              Traceback (most recent call last)",
      "Cell \u001b[0;32mIn[161], line 6\u001b[0m\n\u001b[1;32m      5\u001b[0m \u001b[38;5;28;01mexcept\u001b[39;00m \u001b[38;5;167;01mValueError\u001b[39;00m \u001b[38;5;28;01mas\u001b[39;00m e:\n\u001b[0;32m----> 6\u001b[0m     \u001b[38;5;28;01mraise\u001b[39;00m \u001b[38;5;167;01mRuntimeError\u001b[39;00m(\u001b[38;5;124m'\u001b[39m\u001b[38;5;124mSomething happened !!\u001b[39m\u001b[38;5;124m'\u001b[39m)\n\u001b[1;32m      7\u001b[0m \u001b[38;5;28;01melse\u001b[39;00m:\n",
      "\u001b[0;31mRuntimeError\u001b[0m: Something happened !!",
      "\nDuring handling of the above exception, another exception occurred:\n",
      "\u001b[0;31mOSError\u001b[0m                                   Traceback (most recent call last)",
      "Cell \u001b[0;32mIn[161], line 10\u001b[0m\n\u001b[1;32m      9\u001b[0m     \u001b[38;5;28;01mexcept\u001b[39;00m \u001b[38;5;167;01mRuntimeError\u001b[39;00m \u001b[38;5;28;01mas\u001b[39;00m e:\n\u001b[0;32m---> 10\u001b[0m         \u001b[38;5;28;01mraise\u001b[39;00m \u001b[38;5;167;01mOSError\u001b[39;00m(\u001b[38;5;124m'\u001b[39m\u001b[38;5;124mYour Code Crashed !!\u001b[39m\u001b[38;5;124m'\u001b[39m)\n\u001b[1;32m     11\u001b[0m \u001b[38;5;28;01mexcept\u001b[39;00m \u001b[38;5;167;01mOSError\u001b[39;00m \u001b[38;5;28;01mas\u001b[39;00m e:\n",
      "\u001b[0;31mOSError\u001b[0m: Your Code Crashed !!",
      "\nDuring handling of the above exception, another exception occurred:\n",
      "\u001b[0;31mMemoryError\u001b[0m                               Traceback (most recent call last)",
      "Cell \u001b[0;32mIn[161], line 12\u001b[0m\n\u001b[1;32m     10\u001b[0m         \u001b[38;5;28;01mraise\u001b[39;00m \u001b[38;5;167;01mOSError\u001b[39;00m(\u001b[38;5;124m'\u001b[39m\u001b[38;5;124mYour Code Crashed !!\u001b[39m\u001b[38;5;124m'\u001b[39m)\n\u001b[1;32m     11\u001b[0m \u001b[38;5;28;01mexcept\u001b[39;00m \u001b[38;5;167;01mOSError\u001b[39;00m \u001b[38;5;28;01mas\u001b[39;00m e:\n\u001b[0;32m---> 12\u001b[0m     \u001b[38;5;28;01mraise\u001b[39;00m \u001b[38;5;167;01mMemoryError\u001b[39;00m(\u001b[38;5;124m'\u001b[39m\u001b[38;5;124mOut of Memory\u001b[39m\u001b[38;5;124m'\u001b[39m)\n",
      "\u001b[0;31mMemoryError\u001b[0m: Out of Memory"
     ]
    }
   ],
   "source": [
    "try:\n",
    "    try:\n",
    "        try:\n",
    "            op = Calc(3,0,'/')\n",
    "        except ValueError as e:\n",
    "            raise RuntimeError('Something happened !!')\n",
    "        else:\n",
    "            print(op)\n",
    "    except RuntimeError as e:\n",
    "        raise OSError('Your Code Crashed !!')\n",
    "except OSError as e:\n",
    "    raise MemoryError('Out of Memory')"
   ]
  },
  {
   "cell_type": "code",
   "execution_count": 162,
   "id": "ddca0253-a534-4f40-9685-2bb771cef52b",
   "metadata": {},
   "outputs": [],
   "source": [
    "# 4. ATM Withdrawal System\n",
    "\n",
    "# In a banking system, a user attempts to withdraw money. Write a Python function to simulate this process where:\n",
    "\n",
    "#     Raise an exception if the withdrawal amount exceeds the account balance.\n",
    "#     Handle the exception gracefully by showing the user an error message like \"Insufficient funds.\""
   ]
  },
  {
   "cell_type": "code",
   "execution_count": 163,
   "id": "c458afc2-811c-4f01-a586-98215575e3aa",
   "metadata": {},
   "outputs": [],
   "source": [
    "# exception chaining"
   ]
  },
  {
   "cell_type": "code",
   "execution_count": 170,
   "id": "72e336c8-6c3b-4083-b5c9-b35f9bc98df6",
   "metadata": {},
   "outputs": [],
   "source": [
    "def MyDivision(a,b):\n",
    "    try:\n",
    "        return a / b\n",
    "    except ZeroDivisionError as e:\n",
    "        raise ValueError('Zero is not supported')"
   ]
  },
  {
   "cell_type": "code",
   "execution_count": 178,
   "id": "b892f748-5c87-4bcf-83fd-1ff88925fd2b",
   "metadata": {},
   "outputs": [
    {
     "name": "stdout",
     "output_type": "stream",
     "text": [
      "0.2\n"
     ]
    }
   ],
   "source": [
    "try:\n",
    "    try:\n",
    "        try:\n",
    "            try:\n",
    "                a = MyDivision(2,10)\n",
    "            except ValueError as e:\n",
    "                raise RuntimeError('Something Happened !!')\n",
    "            else:\n",
    "                print(a)\n",
    "        except RuntimeError as e:\n",
    "            raise MemoryError('Out of Memory')\n",
    "    except MemoryError as e:\n",
    "        raise OSError(\"Can't proceed Further !!\")\n",
    "except OSError as e:\n",
    "    print(e)"
   ]
  },
  {
   "cell_type": "code",
   "execution_count": 167,
   "id": "d5930213-5183-461d-88e9-8506ddd0037d",
   "metadata": {},
   "outputs": [],
   "source": [
    "# if b > a\n",
    "# if b == 0"
   ]
  },
  {
   "cell_type": "code",
   "execution_count": 179,
   "id": "3b467d7f-7d37-4b9f-91e0-e4cb3f9cb938",
   "metadata": {},
   "outputs": [],
   "source": [
    "# 4. ATM Withdrawal System\n",
    "\n",
    "# In a banking system, a user attempts to withdraw money. Write a Python function to simulate this process where:\n",
    "\n",
    "#     Raise an exception if the withdrawal amount exceeds the account balance.\n",
    "#     Handle the exception gracefully by showing the user an error message like \"Insufficient funds.\""
   ]
  },
  {
   "cell_type": "code",
   "execution_count": 265,
   "id": "2f63b74a-b420-4dea-b8cb-382e69244114",
   "metadata": {},
   "outputs": [],
   "source": [
    "balance = 1000\n",
    "\n",
    "def atm(y):\n",
    "    global balance  # Declare balance as global to modify it inside the function\n",
    "    if balance == 0:\n",
    "        username = input('Enter Your username: ')\n",
    "        try:\n",
    "            password = int(input('Enter the password: '))\n",
    "        except ValueError:\n",
    "            raise TypeError('Password Should be integer only !!')\n",
    "        else:\n",
    "            if password == 1234:\n",
    "                try:\n",
    "                    credit = int(input('How much you want to credit: '))\n",
    "                except ValueError as e:\n",
    "                    raise TypeError('Credit should be integer only')\n",
    "                else:\n",
    "                    balance += credit\n",
    "                    return f'Successfull !! Updated Balance {balance}'\n",
    "            else:\n",
    "                raise ValueError('Password is incorrect !!')\n",
    "    elif y > balance:\n",
    "        raise ValueError('Insufficient funds')\n",
    "    else:\n",
    "        balance -= y  # Deduct the withdrawal amount\n",
    "        return f'Transaction Successful! Remaining Amount: {balance}'"
   ]
  },
  {
   "cell_type": "code",
   "execution_count": 270,
   "id": "30269115-1fc5-4046-85e8-cf40f4c829a8",
   "metadata": {},
   "outputs": [
    {
     "name": "stdout",
     "output_type": "stream",
     "text": [
      "Transaction Successful! Remaining Amount: 1800\n"
     ]
    }
   ],
   "source": [
    "try:\n",
    "    a = atm(200)  # Example withdrawal amount\n",
    "except ValueError as e:\n",
    "    print(e)\n",
    "except TypeError as e:\n",
    "    print(e)\n",
    "else:\n",
    "    print(a)"
   ]
  },
  {
   "cell_type": "code",
   "execution_count": null,
   "id": "21b85ac4-f53b-421c-83cb-9e7d2fcdd156",
   "metadata": {},
   "outputs": [],
   "source": [
    "# 5. Shopping Cart Application\n",
    "\n",
    "# You are creating a shopping cart application. \n",
    "# Write a Python function that calculates the total price of items.\n",
    "\n",
    "# If the price of an item is negative, raise a ValueError.\n",
    "# Handle the exception by logging an error message, \"Item prices cannot be negative,\" \n",
    "# and ensure the program continues execution."
   ]
  },
  {
   "cell_type": "code",
   "execution_count": 254,
   "id": "a16b355f-3d54-401d-9460-d8e3751e36b0",
   "metadata": {},
   "outputs": [],
   "source": [
    "a = 10\n",
    "def abc(x):\n",
    "    global a\n",
    "    return x + a"
   ]
  },
  {
   "cell_type": "code",
   "execution_count": 249,
   "id": "44821c2c-e3eb-4e31-8305-dac69d4f6143",
   "metadata": {},
   "outputs": [],
   "source": [
    "abc(10)"
   ]
  },
  {
   "cell_type": "code",
   "execution_count": 271,
   "id": "3a1d6c23-c161-4291-89ba-c501f404be34",
   "metadata": {},
   "outputs": [],
   "source": [
    "# 2. Dictionary Key Lookup\n",
    "\n",
    "# Write a program that takes a dictionary and asks the user to input a key. \n",
    "# Attempt to retrieve the value associated with the key and handle cases where the key does not exist and user is\n",
    "# not entering a dictionary.\n",
    "\n",
    "# Example Output:\n",
    "\n",
    "# my_dict = {\"name\": \"John\", \"age\": 30, \"city\": \"New York\"}\n",
    "\n",
    "#     Input: \"name\" → Output: \"The value is: John\"\n",
    "#     Input: \"gender\" → Output: \"Key not found in the dictionary.\""
   ]
  },
  {
   "cell_type": "code",
   "execution_count": 272,
   "id": "a2126890-ddc2-4102-867d-b4e03200f198",
   "metadata": {},
   "outputs": [],
   "source": [
    "# 4. ATM Withdrawal System\n",
    "\n",
    "# In a banking system, a user attempts to withdraw money. Write a Python function to simulate this process where:\n",
    "\n",
    "# Raise an exception if the withdrawal amount exceeds the account balance.\n",
    "# Handle the exception gracefully by showing the user an error message like \"Insufficient funds.\"\n",
    "#  If the user account is 0, ask him to credit the amount using validation based on username and password\n"
   ]
  },
  {
   "cell_type": "code",
   "execution_count": 289,
   "id": "a05d1086-1870-4935-b865-47452111f2da",
   "metadata": {},
   "outputs": [],
   "source": [
    "balance = 1000\n",
    "def Atm_Withdrawal(withdraw:int):\n",
    "    global balance\n",
    "    if isinstance(withdraw,int):\n",
    "        if balance == 0:\n",
    "            username = input('Enter Your name: ')\n",
    "            try:\n",
    "                password = int(input('Enter the password: '))\n",
    "            except ValueError as e:\n",
    "                raise TypeError('The password should be integer only !!')\n",
    "            else:\n",
    "                if password == 1234:\n",
    "                    try:\n",
    "                        credit = int(input('Enter the amount: '))\n",
    "                    except ValueError as e:\n",
    "                        raise TypeError('Credit Amount should be integer only !!')\n",
    "                    else:\n",
    "                        balance += credit\n",
    "                        return f'Successfull !! Updated Balance {balance}'\n",
    "                else:\n",
    "                    raise ValueError('Password is incorrect !!')\n",
    "        elif withdraw > balance:\n",
    "            raise ValueError('Insufficient Funds !!')\n",
    "        else:\n",
    "            balance -= withdraw\n",
    "            return f'Transaction Successfull !! Remaining Balance {balance}'\n",
    "    else:\n",
    "        raise TypeError('Withdrawal amount should be integer only')"
   ]
  },
  {
   "cell_type": "code",
   "execution_count": 318,
   "id": "5ef83088-4591-4480-89d6-4fae7efc4022",
   "metadata": {},
   "outputs": [
    {
     "name": "stdin",
     "output_type": "stream",
     "text": [
      "Enter Your name:  gourav\n",
      "Enter the password:  233\n"
     ]
    },
    {
     "name": "stdout",
     "output_type": "stream",
     "text": [
      "Out of Memory !!\n"
     ]
    }
   ],
   "source": [
    "try:\n",
    "    try:\n",
    "        try:\n",
    "            op = Atm_Withdrawal(100)\n",
    "        except TypeError as e:\n",
    "            print(e)\n",
    "        except ValueError as e:\n",
    "            raise RuntimeError('Something Happened !!')\n",
    "        else:\n",
    "            print(op)\n",
    "    except RuntimeError as e:\n",
    "        raise MemoryError('Out of Memory !!')\n",
    "except MemoryError as e:\n",
    "    print(e)"
   ]
  },
  {
   "cell_type": "code",
   "execution_count": 315,
   "id": "b831aebd-4bc8-4adc-80b0-26394d9f669c",
   "metadata": {},
   "outputs": [],
   "source": [
    "# 5. Shopping Cart Application\n",
    "\n",
    "# You are creating a shopping cart application. \n",
    "# Write a Python function that calculates the total price of items.\n",
    "\n",
    "# If the price of an item is negative, raise a ValueError.\n",
    "# Handle the exception by logging an error message, \"Item prices cannot be negative,\" \n",
    "# and ensure the program continues execution."
   ]
  },
  {
   "cell_type": "code",
   "execution_count": 349,
   "id": "2a7f63f0-c1bf-4de6-ae44-0dc39c582c18",
   "metadata": {},
   "outputs": [],
   "source": [
    "def ShoppingCart(**items):\n",
    "    if all(isinstance(i,(int,float)) for i in items.values()):\n",
    "        if len(list(filter(lambda x:x<0,items.values()))) == 0:\n",
    "            return sum(items.values())\n",
    "        else:\n",
    "            raise ValueError('Price Should be positive only !!')\n",
    "    else:\n",
    "        raise TypeError('Price should be integer or float only !!')"
   ]
  },
  {
   "cell_type": "code",
   "execution_count": 353,
   "id": "9ef60712-1200-4668-b7aa-1f910f74d5d8",
   "metadata": {},
   "outputs": [
    {
     "name": "stdout",
     "output_type": "stream",
     "text": [
      "Price Should be positive only !!\n"
     ]
    }
   ],
   "source": [
    "try:\n",
    "    op = ShoppingCart(burger=100.0,pizza=200)\n",
    "except ValueError as e:\n",
    "    print(e)\n",
    "except TypeError as e:\n",
    "    print(e)\n",
    "else:\n",
    "    print(op)"
   ]
  },
  {
   "cell_type": "code",
   "execution_count": 347,
   "id": "b95ed0a2-ef79-46eb-a135-ff709c63fc39",
   "metadata": {},
   "outputs": [],
   "source": [
    "a = {\n",
    "    'a':2,\n",
    "    'b':-3\n",
    "}"
   ]
  },
  {
   "cell_type": "code",
   "execution_count": 348,
   "id": "e93aab8a-655f-4594-bb69-73a522686511",
   "metadata": {},
   "outputs": [
    {
     "data": {
      "text/plain": [
       "1"
      ]
     },
     "execution_count": 348,
     "metadata": {},
     "output_type": "execute_result"
    }
   ],
   "source": [
    "# all(isinstance(i,(int,float)) for i in items.values())\n",
    "\n",
    "len(list(filter(lambda x:x<0,a.values())))"
   ]
  },
  {
   "cell_type": "code",
   "execution_count": 346,
   "id": "25b486ca-1aa6-49da-8b08-d39590189ed7",
   "metadata": {},
   "outputs": [
    {
     "data": {
      "text/plain": [
       "[]"
      ]
     },
     "execution_count": 346,
     "metadata": {},
     "output_type": "execute_result"
    }
   ],
   "source": [
    "list(filter(lambda x:x<0,a.values()))"
   ]
  },
  {
   "cell_type": "code",
   "execution_count": 355,
   "id": "e3aa929b-3f86-47fa-bd66-5da05be53545",
   "metadata": {},
   "outputs": [],
   "source": [
    "# Chained Exceptions\n",
    "\n",
    "# Explain with an example how exception chaining works in Python. \n",
    "# Write a program where a ValueError is raised and explicitly chained to a TypeError. \n",
    "# Handle both exceptions appropriately, printing a meaningful message for each."
   ]
  },
  {
   "cell_type": "code",
   "execution_count": 357,
   "id": "d8f3a78b-cfff-428c-ac53-ed3d176ec052",
   "metadata": {},
   "outputs": [],
   "source": [
    "a = [x for x in range(10,21)]"
   ]
  },
  {
   "cell_type": "code",
   "execution_count": 379,
   "id": "8e3c412f-eb6b-44da-a0d4-d4c34603e952",
   "metadata": {},
   "outputs": [],
   "source": [
    "def BinarySearch(a:list,choice:int):\n",
    "    a = sorted(a)\n",
    "    low = 0\n",
    "    high = len(a) - 1\n",
    "    if choice in a:\n",
    "        counter = 0\n",
    "        while low <= high:\n",
    "            if choice == a[0]:\n",
    "                counter +=1\n",
    "                return 0, counter\n",
    "            elif choice == a[-1]:\n",
    "                counter +=1\n",
    "                return -1, counter\n",
    "            else:\n",
    "                mid = (low + high) // 2\n",
    "                if choice > a[mid]:\n",
    "                    counter +=1\n",
    "                    low  = mid + 1  \n",
    "                elif choice < a[mid]:\n",
    "                    counter +=1\n",
    "                    high = mid - 1\n",
    "                elif choice == a[mid]:\n",
    "                    counter +=1\n",
    "                    return mid, counter\n",
    "                else:\n",
    "                    return 'Error !!'\n",
    "    else:\n",
    "        return 'Element not in the list'"
   ]
  },
  {
   "cell_type": "code",
   "execution_count": 380,
   "id": "b0c63386-b6a4-4bb9-a80c-f9d6bfae1c77",
   "metadata": {},
   "outputs": [
    {
     "name": "stdout",
     "output_type": "stream",
     "text": [
      "(0, 1)\n",
      "(1, 4)\n",
      "(2, 2)\n",
      "(3, 3)\n",
      "(4, 4)\n",
      "(5, 1)\n",
      "(6, 3)\n",
      "(7, 4)\n",
      "(8, 2)\n",
      "(9, 3)\n",
      "(-1, 1)\n"
     ]
    }
   ],
   "source": [
    "for i in a:\n",
    "    print(BinarySearch(a,i))"
   ]
  },
  {
   "cell_type": "code",
   "execution_count": 378,
   "id": "3fdc3e1d-8d79-44e9-afb7-47660ac7c472",
   "metadata": {},
   "outputs": [
    {
     "data": {
      "text/plain": [
       "[10, 11, 12, 13, 14, 15, 16, 17, 18, 19, 20]"
      ]
     },
     "execution_count": 378,
     "metadata": {},
     "output_type": "execute_result"
    }
   ],
   "source": [
    "a"
   ]
  },
  {
   "cell_type": "code",
   "execution_count": null,
   "id": "49890e20-d2f6-45e6-a69b-42f290cee24b",
   "metadata": {},
   "outputs": [],
   "source": []
  },
  {
   "cell_type": "code",
   "execution_count": 371,
   "id": "456cc350-9537-481d-97df-6db74839e49e",
   "metadata": {},
   "outputs": [],
   "source": [
    "# Bonus Task: Modify the binary_search function to \n",
    "# count the number of iterations performed during the search process \n",
    "# and return this count along with the index of the target."
   ]
  },
  {
   "cell_type": "code",
   "execution_count": null,
   "id": "4fbea3af-509c-4dc3-9765-7223c87f1c81",
   "metadata": {},
   "outputs": [],
   "source": [
    "# 5. Exception Propagation\n",
    "\n",
    "# Write a Python function calculate() that takes two numbers as input and \n",
    "# raises a ZeroDivisionError if an attempt is made to divide by zero.\n",
    "# Then, call calculate() from another function main(), where you:\n",
    "\n",
    "#     Catch the propagated exception from calculate() in main().\n",
    "#     Print a custom message, and allow the program to continue execution."
   ]
  },
  {
   "cell_type": "code",
   "execution_count": 398,
   "id": "5bf317de-bb03-4ae2-8bf2-41d8458ca148",
   "metadata": {},
   "outputs": [],
   "source": [
    "def calculate(x,y):\n",
    "    try:\n",
    "        op = x / y\n",
    "    except ZeroDivisionError as e:\n",
    "        raise ZeroDivisionError('Not Supported')\n",
    "    else:\n",
    "        return op"
   ]
  },
  {
   "cell_type": "code",
   "execution_count": 405,
   "id": "372f5bce-e69c-4afc-b517-483340dc2100",
   "metadata": {},
   "outputs": [
    {
     "name": "stdout",
     "output_type": "stream",
     "text": [
      "Not Supported\n"
     ]
    }
   ],
   "source": [
    "def main():\n",
    "    try:\n",
    "        op = calculate(10,0)\n",
    "    except ZeroDivisionError as e:\n",
    "        print(e)\n",
    "    else:\n",
    "        return op\n",
    "main()"
   ]
  },
  {
   "cell_type": "code",
   "execution_count": 407,
   "id": "4ad04cac-8d28-4a3f-bbaa-86b9100b6066",
   "metadata": {},
   "outputs": [],
   "source": [
    "# 5. Shopping Cart Application\n",
    "\n",
    "# You are creating a shopping cart application. \n",
    "# Write a Python function that calculates the total price of items.\n",
    "\n",
    "# If the price of an item is negative, raise a ValueError.\n",
    "# Handle the exception by logging an error message, \"Item prices cannot be negative,\" \n",
    "# and ensure the program continues execution.\n",
    "# handle the cases where a user is not entring integer or float values"
   ]
  },
  {
   "cell_type": "code",
   "execution_count": null,
   "id": "2dbc2543-1387-4858-9607-b783e7f397ab",
   "metadata": {},
   "outputs": [],
   "source": [
    "# 5. Exception Propagation\n",
    "\n",
    "# Write a Python function calculate() that takes two numbers as input and \n",
    "# raises a ZeroDivisionError if an attempt is made to divide by zero.\n",
    "# Then, call calculate() from another function main(), where you:\n",
    "\n",
    "#     Catch the propagated exception from calculate() in main().\n",
    "#     Print a custom message, and allow the program to continue execution."
   ]
  },
  {
   "cell_type": "code",
   "execution_count": 413,
   "id": "0a83408e-ddf5-4119-8cfa-ac3baf23a61c",
   "metadata": {},
   "outputs": [],
   "source": [
    "def Shopping(**items):\n",
    "    if all(isinstance(i,(int,float)) for i in items.values()):\n",
    "        if len(list(filter(lambda x:x <0,items.values()))) == 0:\n",
    "            return sum(list(items.values()))\n",
    "        else:\n",
    "            raise ValueError('Price should be positive only!!')\n",
    "    else:\n",
    "        raise ValueError('Please enter only integer or float values')        "
   ]
  },
  {
   "cell_type": "code",
   "execution_count": 423,
   "id": "369cde53-4658-4612-a6a0-09dc73ae05e9",
   "metadata": {},
   "outputs": [
    {
     "name": "stdout",
     "output_type": "stream",
     "text": [
      "300\n"
     ]
    }
   ],
   "source": [
    "try:\n",
    "    op = Shopping(burger=100,pizza=200)\n",
    "except ValueError as e:\n",
    "    print(e)\n",
    "else:\n",
    "    print(op)"
   ]
  },
  {
   "cell_type": "code",
   "execution_count": 420,
   "id": "d21ec1a2-4b64-42c4-bc1f-676515c3494e",
   "metadata": {},
   "outputs": [
    {
     "data": {
      "text/plain": [
       "[]"
      ]
     },
     "execution_count": 420,
     "metadata": {},
     "output_type": "execute_result"
    }
   ],
   "source": [
    "list(filter(lambda x:x<0,[1,2,3,4]))"
   ]
  },
  {
   "cell_type": "code",
   "execution_count": 424,
   "id": "44f6b905-35f9-45c0-b8e7-14a4bee63b56",
   "metadata": {},
   "outputs": [],
   "source": [
    "# 5. Exception Propagation\n",
    "\n",
    "# Write a Python function calculate() that takes two numbers as input and \n",
    "# raises a ZeroDivisionError if an attempt is made to divide by zero.\n",
    "# Then, call calculate() from another function main(), where you:\n",
    "\n",
    "#     Catch the propagated exception from calculate() in main().\n",
    "#     Print a custom message, and allow the program to continue execution."
   ]
  },
  {
   "cell_type": "code",
   "execution_count": 472,
   "id": "69d49f94-1398-4e4e-b47d-8f4a208627ee",
   "metadata": {},
   "outputs": [],
   "source": [
    "def first():\n",
    "    try:\n",
    "        x = int(input())\n",
    "        y = int(input())\n",
    "    except ValueError:\n",
    "        raise SyntaxError('Only integer values are allowed !!')\n",
    "    else:\n",
    "        try:\n",
    "            op = x / y\n",
    "        except ZeroDivisionError as e:\n",
    "            raise TypeError('Invalid Datatype')\n",
    "        else:\n",
    "            return op\n",
    "\n",
    "\n",
    "try:\n",
    "    op = first()\n",
    "except TypeError as e:\n",
    "    print(e)\n",
    "except SyntaxError as e:\n",
    "    print(e)\n",
    "else:\n",
    "    print(op)\n",
    "\n",
    "\n",
    "def main():\n",
    "    try:\n",
    "        op = first(10,3.9)\n",
    "    except TypeError as e:\n",
    "        raise SystemError('OS Error')\n",
    "    else:\n",
    "        return op\n",
    "\n",
    "\n",
    "import warnings\n",
    "try:\n",
    "    try:\n",
    "        try:\n",
    "            op = main()\n",
    "        except SystemError as e:\n",
    "            raise RuntimeError('Code Crashed !!')\n",
    "        except ValueError as e:\n",
    "            print(e)\n",
    "        else:\n",
    "            print(op)\n",
    "    except RuntimeError as e:\n",
    "        raise SyntaxError('Invalid Syntax')\n",
    "except SyntaxError as e:\n",
    "    warnings.warn('Multiple exceptions are occuring !!')"
   ]
  },
  {
   "cell_type": "code",
   "execution_count": null,
   "id": "d44b1888-9e02-4d36-baa9-9a03ba972c8e",
   "metadata": {},
   "outputs": [],
   "source": []
  },
  {
   "cell_type": "code",
   "execution_count": null,
   "id": "015f5e49-f06c-44d4-9c03-c28d168ae462",
   "metadata": {},
   "outputs": [],
   "source": []
  },
  {
   "cell_type": "code",
   "execution_count": 1,
   "id": "488741d5-7bf0-4cc1-a599-2a9d0b419e76",
   "metadata": {},
   "outputs": [],
   "source": [
    "transactions_list = [\n",
    "    # Valid transactions\n",
    "    {\"account\": \"A001\", \"amount\": 1200.75, \"date\": \"2024-12-10\"},\n",
    "    {\"account\": \"A002\", \"amount\": 250.00, \"date\": \"2024-12-10\"},\n",
    "    \n",
    "    # Invalid transactions\n",
    "    {\"account\": \"A003\", \"amount\": \"not_a_number\", \"date\": \"2024-12-10\"},  # Invalid amount\n",
    "    {\"account\": \"A004\", \"amount\": 500.50, \"date\": \"invalid_date\"},         # Invalid date\n",
    "    {\"amount\": 300.00, \"date\": \"2024-12-10\"},                             # Missing account\n",
    "    {\"account\": \"A006\", \"amount\": 700, \"date\": None},                     # Missing date\n",
    "    {\"account\": None, \"amount\": 400.00, \"date\": \"2024-12-10\"},            # Missing account value\n",
    "    \n",
    "    # Valid transactions\n",
    "    {\"account\": \"A007\", \"amount\": 150.00, \"date\": \"2024-12-10\"},\n",
    "]"
   ]
  },
  {
   "cell_type": "code",
   "execution_count": 48,
   "id": "ee5c2219-d97a-4ba0-92ba-488d40f19a24",
   "metadata": {},
   "outputs": [],
   "source": [
    "def ProcessTransactions(transaction_list):\n",
    "    summary = []\n",
    "    for i in transaction_list:\n",
    "        try:\n",
    "            if 'amount' not in i:\n",
    "                summary.append(f'{i.get('account')} has no amount key')\n",
    "                continue\n",
    "            if not isinstance(i['amount'],(int,float)):\n",
    "                summary.append(f'{i.get('account')} has invalid amount !!')\n",
    "                continue\n",
    "            if 'date' not in i:\n",
    "                summary.append(f'{i.get('account')} has no Date key')\n",
    "                continue\n",
    "            if i.get('date') is None:\n",
    "                summary.append(f'{i.get('account')} has No Date Value')\n",
    "                continue\n",
    "            if not len(i.get('date').split('-')[0]) == 4:\n",
    "                summary.append(f'{i.get('account')} has no invalid date format')\n",
    "                continue\n",
    "        except Exception as e:\n",
    "            summary.append(f'{e} error occured')\n",
    "    return summary"
   ]
  },
  {
   "cell_type": "code",
   "execution_count": null,
   "id": "efe80c71-7a33-4937-b0b1-f959c83f93ee",
   "metadata": {},
   "outputs": [],
   "source": []
  },
  {
   "cell_type": "code",
   "execution_count": null,
   "id": "509d3cd1-b346-4955-a7b7-6d27a79ccb7a",
   "metadata": {},
   "outputs": [],
   "source": [
    "# Financial Data Processor\n",
    "\n",
    "# You need to process daily financial transactions, but:\n",
    "# Transactions might have invalid amounts or dates, causing ValueError or TypeError.\n",
    "# Transactions might reference non-existent accounts, leading to a KeyError.\n",
    "# Write a function process_transactions(transactions_list) that:\n",
    "# Validates each transaction while catching specific exceptions.\n",
    "# Logs and skips invalid transactions without halting the processing of others.\n",
    "# Aggregates successfully processed transactions into a daily summary."
   ]
  },
  {
   "cell_type": "code",
   "execution_count": 47,
   "id": "ea57f8bf-562b-4669-adae-f7c1c2059585",
   "metadata": {},
   "outputs": [
    {
     "name": "stdout",
     "output_type": "stream",
     "text": [
      "A003 has invalid amount !! A004 has no invalid date format A006 has no invalid Date\n"
     ]
    }
   ],
   "source": [
    "print(\" \".join(ProcessTransactions(transactions_list)))"
   ]
  },
  {
   "cell_type": "code",
   "execution_count": 44,
   "id": "6f022c82-d188-4e2c-b249-93381ca05c9e",
   "metadata": {},
   "outputs": [],
   "source": [
    "date = None"
   ]
  },
  {
   "cell_type": "code",
   "execution_count": 45,
   "id": "f3c4a6f7-bd5b-48c4-9a37-a5c2eafb205b",
   "metadata": {},
   "outputs": [
    {
     "data": {
      "text/plain": [
       "True"
      ]
     },
     "execution_count": 45,
     "metadata": {},
     "output_type": "execute_result"
    }
   ],
   "source": [
    "date is None"
   ]
  },
  {
   "cell_type": "code",
   "execution_count": null,
   "id": "53ea9017-11d0-4cba-b540-9b74bd560dc1",
   "metadata": {},
   "outputs": [],
   "source": [
    "len('12-2024-07'.split('-')[0])"
   ]
  },
  {
   "cell_type": "code",
   "execution_count": null,
   "id": "f3e4bfda-c1bc-4f89-89fc-efc06a912fc2",
   "metadata": {},
   "outputs": [],
   "source": []
  },
  {
   "cell_type": "code",
   "execution_count": null,
   "id": "d661a5d5-a9d6-46e8-976f-043e28ac4525",
   "metadata": {},
   "outputs": [],
   "source": []
  },
  {
   "cell_type": "code",
   "execution_count": 1,
   "id": "337dd022-321f-4356-9c4d-6a4b9237bb2d",
   "metadata": {},
   "outputs": [],
   "source": [
    "# . Financial Data Processor\n",
    "# You need to process daily financial transactions, but:\n",
    "# Transactions might have invalid amounts or dates, causing ValueError or TypeError.\n",
    "# Transactions might reference non-existent accounts, leading to a KeyError.\n",
    "# Write a function process_transactions(transactions_list) that:\n",
    "# Validates each transaction while catching specific exceptions.\n",
    "# Logs and skips invalid transactions without halting the processing of others.\n",
    "# Aggregates successfully processed transactions into a daily summary.\n",
    "\n",
    "# 2. Dictionary Manipulation:\n",
    "# Given a dictionary {'a': 1, 'b': 2, 'c': 3, 'd': 4}, \n",
    "# write a program to create a new dictionary with values squared."
   ]
  },
  {
   "cell_type": "code",
   "execution_count": 2,
   "id": "3eabb87b-1f4a-4f80-b695-1c70b14303c4",
   "metadata": {},
   "outputs": [],
   "source": [
    "transactions_list = [\n",
    "    {\"account\": \"12345\", \"amount\": 2500.50, \"date\": \"2024-12-10\"},  # Valid transaction\n",
    "    {\"account\": \"67890\", \"amount\": \"invalid\", \"date\": \"2024-12-10\"},  # Invalid amount\n",
    "    {\"account\": \"11121\", \"amount\": 1500.00, \"date\": \"invalid-date\"},  # Invalid date\n",
    "    {\"amount\": 3000.75, \"date\": \"2024-12-10\"},  # Missing account\n",
    "    {\"account\": \"54321\", \"amount\": 2000.00, \"date\": \"2024-12-10\"}   # Valid transaction\n",
    "]"
   ]
  },
  {
   "cell_type": "code",
   "execution_count": 11,
   "id": "9f511965-6e1b-4c3b-a12a-320fefcb26c0",
   "metadata": {},
   "outputs": [
    {
     "name": "stdout",
     "output_type": "stream",
     "text": [
      "{'a': 1, 'b': 2, 'c': 3, 'd': 4}\n",
      "{'a': 1, 'b': 4, 'c': 9, 'd': 16}\n"
     ]
    }
   ],
   "source": [
    "dict1 = {'a':1,'b':2,'c':3,'d':4}\n",
    "dict2 = {'e':2,'a':4}\n",
    "sq = {}\n",
    "for key in dict1:\n",
    "    sq[key] = dict1[key] ** 2\n",
    "print(dict1)\n",
    "print(sq)"
   ]
  },
  {
   "cell_type": "code",
   "execution_count": 7,
   "id": "1380e524-c07a-499c-995b-986eccac7ba8",
   "metadata": {},
   "outputs": [
    {
     "data": {
      "text/plain": [
       "{1, 2, 3, 4}"
      ]
     },
     "execution_count": 7,
     "metadata": {},
     "output_type": "execute_result"
    }
   ],
   "source": [
    "# dictionary comprehension\n",
    "{x for x in dict1.values()}"
   ]
  },
  {
   "cell_type": "code",
   "execution_count": 26,
   "id": "7e2ca570-dd59-49d0-a29f-6fee24177939",
   "metadata": {},
   "outputs": [],
   "source": [
    "# shortcut to create dictionary\n",
    "a = {**dict1,**dict2}"
   ]
  },
  {
   "cell_type": "code",
   "execution_count": 27,
   "id": "f276d11c-89dc-4008-9e85-6245ef675c36",
   "metadata": {},
   "outputs": [
    {
     "data": {
      "text/plain": [
       "{'a': 4, 'b': 2, 'c': 3, 'd': 4, 'e': 2}"
      ]
     },
     "execution_count": 27,
     "metadata": {},
     "output_type": "execute_result"
    }
   ],
   "source": [
    "a"
   ]
  },
  {
   "cell_type": "code",
   "execution_count": 28,
   "id": "2c5a2e6d-6c4c-4d76-b3c0-8f3cdbe048ad",
   "metadata": {},
   "outputs": [],
   "source": [
    "# 2. Dictionary Manipulation:\n",
    "# Given a dictionary {'a': 1, 'b': 2, 'c': 3, 'd': 4}, \n",
    "# write a program to create a new dictionary with values squared."
   ]
  },
  {
   "cell_type": "code",
   "execution_count": 35,
   "id": "b1f90443-d4b2-43c6-973e-fc282c6c77b3",
   "metadata": {},
   "outputs": [
    {
     "data": {
      "text/plain": [
       "{1, 4, 9, 16}"
      ]
     },
     "execution_count": 35,
     "metadata": {},
     "output_type": "execute_result"
    }
   ],
   "source": [
    "# set comprehension\n",
    "{x**2 for x in dict1.values()}"
   ]
  },
  {
   "cell_type": "code",
   "execution_count": 37,
   "id": "1a3b18ea-4a3d-41d5-845a-63fbe4316d38",
   "metadata": {},
   "outputs": [
    {
     "data": {
      "text/plain": [
       "{'a': 1, 'b': 4, 'c': 9, 'd': 16}"
      ]
     },
     "execution_count": 37,
     "metadata": {},
     "output_type": "execute_result"
    }
   ],
   "source": [
    "# dictionary Comprehension\n",
    "{key:value ** 2 for key, value in dict1.items()}"
   ]
  },
  {
   "cell_type": "code",
   "execution_count": 39,
   "id": "49d3a70b-0e92-4dd4-b412-319d5d60c0e4",
   "metadata": {},
   "outputs": [
    {
     "data": {
      "text/plain": [
       "{'a': 1, 'b': 4, 'c': 9, 'd': 16}"
      ]
     },
     "execution_count": 39,
     "metadata": {},
     "output_type": "execute_result"
    }
   ],
   "source": [
    "{i:j**2 for i,j in dict1.items()}"
   ]
  },
  {
   "cell_type": "code",
   "execution_count": 40,
   "id": "bf6557a1-94fd-4749-b5a9-f36a81e76ffe",
   "metadata": {},
   "outputs": [
    {
     "data": {
      "text/plain": [
       "dict_items([('a', 1), ('b', 2), ('c', 3), ('d', 4)])"
      ]
     },
     "execution_count": 40,
     "metadata": {},
     "output_type": "execute_result"
    }
   ],
   "source": [
    "dict1.items()"
   ]
  },
  {
   "cell_type": "code",
   "execution_count": 43,
   "id": "bd9d5e78-4585-429d-9e18-a8a748d72ab9",
   "metadata": {},
   "outputs": [],
   "source": [
    "a = "
   ]
  },
  {
   "cell_type": "code",
   "execution_count": 48,
   "id": "d363eb0f-5ebd-45c0-b297-fbf3fe111383",
   "metadata": {},
   "outputs": [],
   "source": [
    "# {1,2,3}[0]"
   ]
  },
  {
   "cell_type": "code",
   "execution_count": 45,
   "id": "abbc7cfa-7fda-4d01-970f-d77cabcd877e",
   "metadata": {},
   "outputs": [
    {
     "data": {
      "text/plain": [
       "{'a': 1.0, 'b': 8.0, 'c': 27.0, 'd': 64.0}"
      ]
     },
     "execution_count": 45,
     "metadata": {},
     "output_type": "execute_result"
    }
   ],
   "source": [
    "# dictionary Comprehension\n",
    "{key:value ** (1/2) for key,value in {key:value**3 for key, value in {key:value ** 2 for key, value in dict1.items()}.items()}.items()}"
   ]
  },
  {
   "cell_type": "code",
   "execution_count": 51,
   "id": "c582d1ac-707a-4c18-807a-1dd38b2ed55c",
   "metadata": {},
   "outputs": [],
   "source": [
    "# dict1.append()"
   ]
  },
  {
   "cell_type": "code",
   "execution_count": 56,
   "id": "91e27f61-13b9-4e75-ac91-e1e0c5424c3c",
   "metadata": {},
   "outputs": [
    {
     "data": {
      "text/plain": [
       "(1, 2, 3)"
      ]
     },
     "execution_count": 56,
     "metadata": {},
     "output_type": "execute_result"
    }
   ],
   "source": [
    "s = (1,2,3)\n",
    "tuple((x for x in s))"
   ]
  },
  {
   "cell_type": "code",
   "execution_count": 57,
   "id": "e663ffe7-fbf1-4d9f-9d3e-2e881654a4f7",
   "metadata": {},
   "outputs": [],
   "source": [
    "del a"
   ]
  },
  {
   "cell_type": "code",
   "execution_count": 62,
   "id": "99216a88-c168-4380-888f-2004aeaf2834",
   "metadata": {},
   "outputs": [],
   "source": [
    "# a = {1,2,3}\n",
    "# {x for x in a}"
   ]
  },
  {
   "cell_type": "code",
   "execution_count": 64,
   "id": "1af30c67-8e8d-41dd-b210-a13b717da3b2",
   "metadata": {},
   "outputs": [],
   "source": [
    "a = {**dict1}"
   ]
  },
  {
   "cell_type": "code",
   "execution_count": null,
   "id": "f8c87ea3-ba7a-4b76-8963-e40fc56c0e43",
   "metadata": {},
   "outputs": [],
   "source": []
  },
  {
   "cell_type": "code",
   "execution_count": 66,
   "id": "285eed9e-c0bc-49fd-aed2-2c70b378b5d9",
   "metadata": {},
   "outputs": [],
   "source": [
    "# . Financial Data Processor\n",
    "# You need to process daily financial transactions, but:\n",
    "# Transactions might have invalid amounts or dates, causing ValueError or TypeError.\n",
    "# Transactions might reference non-existent accounts, leading to a KeyError.\n",
    "# Write a function process_transactions(transactions_list) that:\n",
    "# Validates each transaction while catching specific exceptions.\n",
    "# Logs and skips invalid transactions without halting the processing of others.\n",
    "# Aggregates successfully processed transactions into a daily summary."
   ]
  },
  {
   "cell_type": "code",
   "execution_count": 109,
   "id": "47635af6-0041-42e2-98c4-de86d527b872",
   "metadata": {},
   "outputs": [],
   "source": [
    "import logging\n",
    "logging.getLogger(__name__)\n",
    "logging.basicConfig(filename='dict.log',level='INFO')"
   ]
  },
  {
   "cell_type": "code",
   "execution_count": 95,
   "id": "7d04c78e-90f6-459a-9a0a-c45ea8390692",
   "metadata": {},
   "outputs": [
    {
     "data": {
      "text/plain": [
       "'18-07-49'"
      ]
     },
     "execution_count": 95,
     "metadata": {},
     "output_type": "execute_result"
    }
   ],
   "source": [
    "import datetime"
   ]
  },
  {
   "cell_type": "code",
   "execution_count": 116,
   "id": "d79c63f2-d746-4236-894b-8e3d83f267b4",
   "metadata": {},
   "outputs": [],
   "source": [
    "def ProcessTransactions(transaction_list:list):\n",
    "    for i in transaction_list:\n",
    "        try:\n",
    "            if 'account' not in i:\n",
    "                except\n",
    "                logging.error(f\"{datetime.datetime.now().strftime('%H-%M-%S')} Key Error {i}\")\n",
    "                continue\n",
    "            if not isinstance(i['amount'],(int,float)):\n",
    "                logging.error(f\"{datetime.datetime.now().strftime('%H-%M-%S')} TypeError {i}\")\n",
    "                continue\n",
    "            if not datetime.datetime.strptime(i['date'],'%Y-%m-%d'):\n",
    "                logging.error(f\"{datetime.datetime.now().strftime('%H-%M-%S')} ValueError {i}\")\n",
    "                continue\n",
    "        except Exception as e:\n",
    "            logging.error(f\"{datetime.datetime.now().strftime('%H-%M-%S')}Error Occured {e}\")                "
   ]
  },
  {
   "cell_type": "code",
   "execution_count": 71,
   "id": "cfaaa664-b849-4cbe-8191-33daafc8996f",
   "metadata": {},
   "outputs": [],
   "source": [
    "# ProcessTransactions(transactions_list)"
   ]
  },
  {
   "cell_type": "code",
   "execution_count": 118,
   "id": "e3d4984a-effa-482f-9416-6006bb68ab7d",
   "metadata": {},
   "outputs": [],
   "source": [
    "for i in range(20):\n",
    "    ProcessTransactions(transactions_list)"
   ]
  },
  {
   "cell_type": "code",
   "execution_count": 96,
   "id": "94dea07b-4ae7-4b96-857f-f4eccd604245",
   "metadata": {},
   "outputs": [
    {
     "data": {
      "text/plain": [
       "[{'account': '12345', 'amount': 2500.5, 'date': '2024-12-10'},\n",
       " {'account': '67890', 'amount': 'invalid', 'date': '2024-12-10'},\n",
       " {'account': '11121', 'amount': 1500.0, 'date': 'invalid-date'},\n",
       " {'amount': 3000.75, 'date': '2024-12-10'},\n",
       " {'account': '54321', 'amount': 2000.0, 'date': '2024-12-10'}]"
      ]
     },
     "execution_count": 96,
     "metadata": {},
     "output_type": "execute_result"
    }
   ],
   "source": [
    "transactions_list"
   ]
  },
  {
   "cell_type": "code",
   "execution_count": 76,
   "id": "64b24aef-4b40-43ef-bf36-db0952eab0a0",
   "metadata": {},
   "outputs": [
    {
     "data": {
      "text/plain": [
       "True"
      ]
     },
     "execution_count": 76,
     "metadata": {},
     "output_type": "execute_result"
    }
   ],
   "source": [
    "'a' in dict1"
   ]
  },
  {
   "cell_type": "code",
   "execution_count": null,
   "id": "2e6311e9-2c11-47a0-9896-f21be8a8ce30",
   "metadata": {},
   "outputs": [],
   "source": []
  }
 ],
 "metadata": {
  "kernelspec": {
   "display_name": "Python 3 (ipykernel)",
   "language": "python",
   "name": "python3"
  },
  "language_info": {
   "codemirror_mode": {
    "name": "ipython",
    "version": 3
   },
   "file_extension": ".py",
   "mimetype": "text/x-python",
   "name": "python",
   "nbconvert_exporter": "python",
   "pygments_lexer": "ipython3",
   "version": "3.12.3"
  }
 },
 "nbformat": 4,
 "nbformat_minor": 5
}
