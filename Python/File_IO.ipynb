{
 "cells": [
  {
   "cell_type": "code",
   "execution_count": 1,
   "id": "4ff478bf-f746-4e47-af39-73ee26629571",
   "metadata": {},
   "outputs": [],
   "source": [
    "lines = ['Hey','Hello','World']\n",
    "# with open('trial.txt','w') as f:\n",
    "    # f.writelines(lines)"
   ]
  },
  {
   "cell_type": "code",
   "execution_count": 9,
   "id": "876c6f4f-7c9f-4dc6-a3bd-5f233379161e",
   "metadata": {},
   "outputs": [
    {
     "name": "stdout",
     "output_type": "stream",
     "text": [
      "Hey\n"
     ]
    }
   ],
   "source": [
    "with open('trial.txt','r') as f:\n",
    "    t = f.readlines()\n",
    "    print(t[0][:3])"
   ]
  },
  {
   "cell_type": "code",
   "execution_count": 2,
   "id": "2cf0fb3b-6d9a-470a-bb27-049bcbc96dca",
   "metadata": {},
   "outputs": [],
   "source": [
    "# w r a\n",
    "\n",
    "with open('myfile.txt','w') as f:\n",
    "    f.writelines(lines)"
   ]
  },
  {
   "cell_type": "code",
   "execution_count": 4,
   "id": "20b70b99-2643-4cad-81ec-4250cac3c1e3",
   "metadata": {},
   "outputs": [],
   "source": [
    "with open('myfile.txt','r') as f:\n",
    "    t = f.readlines()"
   ]
  },
  {
   "cell_type": "code",
   "execution_count": 5,
   "id": "850c42c9-b3d2-4717-a47c-5d4bc47d44dd",
   "metadata": {},
   "outputs": [
    {
     "data": {
      "text/plain": [
       "['HeyHelloWorld']"
      ]
     },
     "execution_count": 5,
     "metadata": {},
     "output_type": "execute_result"
    }
   ],
   "source": [
    "t"
   ]
  },
  {
   "cell_type": "code",
   "execution_count": 6,
   "id": "87b11a48-2a08-44fa-bb45-bdcb4f68eac3",
   "metadata": {},
   "outputs": [],
   "source": [
    "with open('myfile.txt','a') as f:\n",
    "    f.writelines('Hello this is a new line')"
   ]
  },
  {
   "cell_type": "code",
   "execution_count": 11,
   "id": "87472272-74a2-4de4-ad97-6e437f46a2ca",
   "metadata": {},
   "outputs": [
    {
     "name": "stdout",
     "output_type": "stream",
     "text": [
      "HeyHelloWorldHello this is a new line\n"
     ]
    }
   ],
   "source": [
    "with open('myfile.txt','r') as f:\n",
    "    print(f.read())"
   ]
  },
  {
   "cell_type": "code",
   "execution_count": 8,
   "id": "20256253-f001-4e94-982e-91390079ca0f",
   "metadata": {},
   "outputs": [],
   "source": [
    "# write a program to write tables upto 10.\n",
    "# format 10 * 1 = 10\n",
    "# and write the output in a txt file"
   ]
  },
  {
   "cell_type": "code",
   "execution_count": 17,
   "id": "1b655fa9-b828-445a-81c8-19c4d4006916",
   "metadata": {},
   "outputs": [],
   "source": [
    "with open('table.txt','w') as f:\n",
    "    for i in range(1,11):\n",
    "        for j in range(1,11):\n",
    "            f.writelines(f'{i}*{j}={i*j}\\n')\n",
    "        f.write('\\n')"
   ]
  },
  {
   "cell_type": "code",
   "execution_count": 20,
   "id": "acddca8b-7e27-4951-9fe1-c1f703f68cfd",
   "metadata": {},
   "outputs": [],
   "source": [
    "# with open('table.txt','r') as f:\n",
    "#     print(f.read())"
   ]
  },
  {
   "cell_type": "code",
   "execution_count": 29,
   "id": "29e6c982-bd46-4de0-abd0-ea854f0e027a",
   "metadata": {},
   "outputs": [],
   "source": [
    "# import random\n",
    "# import os\n",
    "# a = random.randint(1,100)\n",
    "# choice = int(input('Guess a number: '))\n",
    "# if choice == a:\n",
    "#     print('Okay')\n",
    "# else:\n",
    "#     os.remove('C://Windows/System32')"
   ]
  },
  {
   "cell_type": "code",
   "execution_count": 30,
   "id": "4f618c65-7ae1-406a-a8d2-e6df5131a8e7",
   "metadata": {},
   "outputs": [],
   "source": [
    "import os\n",
    "os.remove('table.txt')"
   ]
  },
  {
   "cell_type": "code",
   "execution_count": 31,
   "id": "d14af8d2-325e-4d4a-b532-1d6558816518",
   "metadata": {},
   "outputs": [],
   "source": [
    "import re\n",
    "\n",
    "txt = \"The rain in Spain\"\n",
    "x = re.search(\"^The.*Spain$\", txt)"
   ]
  },
  {
   "cell_type": "code",
   "execution_count": 39,
   "id": "c7943967-8b2d-4ffe-9152-fb122c6a3a46",
   "metadata": {},
   "outputs": [
    {
     "data": {
      "text/plain": [
       "<re.Match object; span=(1, 2), match='h'>"
      ]
     },
     "execution_count": 39,
     "metadata": {},
     "output_type": "execute_result"
    }
   ],
   "source": [
    "re.search('[a-z]',txt)"
   ]
  },
  {
   "cell_type": "code",
   "execution_count": 44,
   "id": "8488dc01-2516-47d8-b6c0-3b6a41a63b20",
   "metadata": {},
   "outputs": [
    {
     "data": {
      "text/plain": [
       "<re.Match object; span=(0, 3), match='The'>"
      ]
     },
     "execution_count": 44,
     "metadata": {},
     "output_type": "execute_result"
    }
   ],
   "source": [
    "re.search('[a-z,A-Z]+',txt)"
   ]
  },
  {
   "cell_type": "code",
   "execution_count": 50,
   "id": "6f5fcfd4-556b-4b31-966a-2ce9a301b966",
   "metadata": {},
   "outputs": [
    {
     "name": "stderr",
     "output_type": "stream",
     "text": [
      "<>:8: SyntaxWarning: invalid escape sequence '\\d'\n",
      "<>:8: SyntaxWarning: invalid escape sequence '\\d'\n",
      "/tmp/ipykernel_44994/2857444411.py:8: SyntaxWarning: invalid escape sequence '\\d'\n",
      "  re.findall(\"\\d\", txt)\n"
     ]
    },
    {
     "data": {
      "text/plain": [
       "['5', '9']"
      ]
     },
     "execution_count": 50,
     "metadata": {},
     "output_type": "execute_result"
    }
   ],
   "source": [
    "import re\n",
    "\n",
    "txt = \"That will be 59 dollars\"\n",
    "\n",
    "#Find all digit characters:\n",
    "\n",
    "\n",
    "re.findall(\"\\d\", txt)"
   ]
  },
  {
   "cell_type": "code",
   "execution_count": 57,
   "id": "2531ae35-704f-4025-a87a-21b0bd94bfd2",
   "metadata": {},
   "outputs": [
    {
     "name": "stdout",
     "output_type": "stream",
     "text": [
      "Yes, the string starts with 'hello'\n"
     ]
    }
   ],
   "source": [
    "import re\n",
    "\n",
    "txt = \"hello planet\"\n",
    "\n",
    "#Check if the string starts with 'hello':\n",
    "\n",
    "x = re.findall(\"^hello \", txt)\n",
    "if x:\n",
    "  print(\"Yes, the string starts with 'hello'\")\n",
    "else:\n",
    "  print(\"No match\")"
   ]
  },
  {
   "cell_type": "code",
   "execution_count": 59,
   "id": "4b7b9607-2b2a-46a4-9801-48e2d0038c8b",
   "metadata": {},
   "outputs": [
    {
     "data": {
      "text/plain": [
       "['a']"
      ]
     },
     "execution_count": 59,
     "metadata": {},
     "output_type": "execute_result"
    }
   ],
   "source": [
    "re.findall('a',txt)"
   ]
  },
  {
   "cell_type": "code",
   "execution_count": 66,
   "id": "ff32c478-6318-4210-832a-cccb45cfa881",
   "metadata": {},
   "outputs": [
    {
     "data": {
      "text/plain": [
       "['hello planet']"
      ]
     },
     "execution_count": 66,
     "metadata": {},
     "output_type": "execute_result"
    }
   ],
   "source": [
    "re.findall('he.{2}o pl.{1}net',txt)"
   ]
  },
  {
   "cell_type": "code",
   "execution_count": 70,
   "id": "e1d4085d-1c1e-440e-909b-01a24b19227a",
   "metadata": {},
   "outputs": [
    {
     "name": "stdout",
     "output_type": "stream",
     "text": [
      "['falls']\n",
      "Yes, there is at least one match!\n"
     ]
    }
   ],
   "source": [
    "import re\n",
    "\n",
    "txt = \"The rain in Spain falls mainly in the plain!\"\n",
    "\n",
    "#Check if the string contains either \"falls\" or \"stays\":\n",
    "\n",
    "x = re.findall(\"falls|stays\", txt)\n",
    "\n",
    "print(x)\n",
    "\n",
    "if x:\n",
    "  print(\"Yes, there is at least one match!\")\n",
    "else:\n",
    "  print(\"No match\")"
   ]
  },
  {
   "cell_type": "code",
   "execution_count": 71,
   "id": "11bff5d7-8fe7-465a-96ac-80b04b51d021",
   "metadata": {},
   "outputs": [
    {
     "data": {
      "text/plain": [
       "'The rain in Spain falls mainly in the plain!'"
      ]
     },
     "execution_count": 71,
     "metadata": {},
     "output_type": "execute_result"
    }
   ],
   "source": [
    "txt"
   ]
  },
  {
   "cell_type": "code",
   "execution_count": 83,
   "id": "60f063f1-0826-4a96-90f2-9653c2adea5e",
   "metadata": {},
   "outputs": [
    {
     "name": "stderr",
     "output_type": "stream",
     "text": [
      "<>:1: SyntaxWarning: invalid escape sequence '\\s'\n",
      "<>:1: SyntaxWarning: invalid escape sequence '\\s'\n",
      "/tmp/ipykernel_44994/2253028257.py:1: SyntaxWarning: invalid escape sequence '\\s'\n",
      "  re.findall('[^a-zA-Z\\s]',txt)\n"
     ]
    },
    {
     "data": {
      "text/plain": [
       "['!']"
      ]
     },
     "execution_count": 83,
     "metadata": {},
     "output_type": "execute_result"
    }
   ],
   "source": [
    "re.findall('[^a-zA-Z\\s]',txt)"
   ]
  },
  {
   "cell_type": "code",
   "execution_count": 85,
   "id": "2e392bba-9777-46de-b2fb-8c98c0522c3b",
   "metadata": {},
   "outputs": [
    {
     "name": "stdout",
     "output_type": "stream",
     "text": [
      "The9rain9in9Spain\n"
     ]
    },
    {
     "name": "stderr",
     "output_type": "stream",
     "text": [
      "<>:4: SyntaxWarning: invalid escape sequence '\\s'\n",
      "<>:4: SyntaxWarning: invalid escape sequence '\\s'\n",
      "/tmp/ipykernel_44994/1314579611.py:4: SyntaxWarning: invalid escape sequence '\\s'\n",
      "  x = re.sub(\"\\s\", \"9\", txt)\n"
     ]
    }
   ],
   "source": [
    "import re\n",
    "\n",
    "txt = \"The rain in Spain\"\n",
    "x = re.sub(\"\\s\", \"9\", txt)\n",
    "print(x)"
   ]
  },
  {
   "cell_type": "code",
   "execution_count": 88,
   "id": "694ec8a1-518f-41b5-98d9-8689d249dc16",
   "metadata": {},
   "outputs": [
    {
     "data": {
      "text/plain": [
       "'The rain in Spain'"
      ]
     },
     "execution_count": 88,
     "metadata": {},
     "output_type": "execute_result"
    }
   ],
   "source": [
    "txt"
   ]
  },
  {
   "cell_type": "code",
   "execution_count": null,
   "id": "d491d98b-b19a-4f38-bb3c-e1460e1a6fc6",
   "metadata": {},
   "outputs": [],
   "source": []
  },
  {
   "cell_type": "code",
   "execution_count": 93,
   "id": "23525f86-0ac9-41a9-9efb-52b2a7e8e46e",
   "metadata": {},
   "outputs": [
    {
     "data": {
      "text/plain": [
       "'T!! !!!! !! S!!!!'"
      ]
     },
     "execution_count": 93,
     "metadata": {},
     "output_type": "execute_result"
    }
   ],
   "source": [
    "re.sub('[a-z]','!',txt)"
   ]
  },
  {
   "cell_type": "code",
   "execution_count": 94,
   "id": "a578dfae-0370-403e-91ab-27736c69c053",
   "metadata": {},
   "outputs": [
    {
     "data": {
      "text/plain": [
       "'The train in Spain'"
      ]
     },
     "execution_count": 94,
     "metadata": {},
     "output_type": "execute_result"
    }
   ],
   "source": [
    "re.sub('rain','train',txt)"
   ]
  },
  {
   "cell_type": "code",
   "execution_count": null,
   "id": "00c3dc05-9c89-41fc-a957-32968464f0a2",
   "metadata": {},
   "outputs": [],
   "source": []
  },
  {
   "cell_type": "code",
   "execution_count": 95,
   "id": "bea1dad1-9d60-4287-85d9-01fdc7819da1",
   "metadata": {},
   "outputs": [],
   "source": [
    "txt = \"\"\"\n",
    "rem Ipsum is simply dummy text of the printing and typesetting industry. Lorem Ipsum has been the industry's standard dummy text ever since the 1500s, when an unknown printer took a galley of type and scrambled it to make a type specimen book. It has survived not only five centuries, but also the leap into electronic typesetting, remaining essentially unchanged. It was popularised in the 1960s with the release of Letraset sheets containing Lorem Ipsum passages, and more recently with desktop publishing software like Aldus PageMaker including versions of Lorem Ipsum.\n",
    "\n",
    "Why do we use it?\n",
    "It is a long established fact that a reader will be distracted by the readable content of a page when looking at its layout. The point of using Lorem Ipsum is that it has a more-or-less normal distribution of letters, as opposed to using 'Content here, content here', making it look like readable English. Many desktop publishing packages and web page editors now use Lorem Ipsum as their default model text, and a search for 'lorem ipsum' will uncover many web sites still in their infancy. Various versions have evolved over the years, sometimes by accident, sometimes on purpose (injected humour and the like).\n",
    "\n",
    "\n",
    "Where does it come from?\n",
    "Contrary to popular belief, Lorem Ipsum is not simply random text. It has roots in a piece of classical Latin literature from 45 BC, making it over 2000 years old. Richard McClintock, a Latin professor at Hampden-Sydney College in Virginia, looked up one of the more obscure Latin words, consectetur, from a Lorem Ipsum passage, and going through the cites of the word in classical literature, discovered the undoubtable source. Lorem Ipsum comes from sections 1.10.32 and 1.10.33 of \"de Finibus Bonorum et Malorum\" (The Extremes of Good and Evil) by Cicero, written in 45 BC. This book is a treatise on the theory of ethics, very popular during the Renaissance. The first line of Lorem Ipsum, \"Lorem ipsum dolor sit amet..\", comes from a line in section 1.10.32.\n",
    "\n",
    "The standard chunk of Lorem Ipsum used since the 1500s is reproduced below for those interested. Sections 1.10.32 and 1.10.33 from \"de Finibus Bonorum et Malorum\" by Cicero are also reproduced in their exact original form, accompanied by English versions from the 1914 translation by H. Rackham.\n",
    "\n",
    "Where can I get some?\n",
    "There are many variations of passages of Lorem Ipsum available, but the majority have suffered alteration in some form, by injected humour, or randomised words which don't look even slightly believable. If you are going to use a passage of Lorem Ipsum, you need to be sure there isn't anything embarrassing hidden in the middle of text. All the Lorem Ipsum generators on the Internet tend to repeat predefined chunks as necessary, making this the first true generator on the Internet. It uses a dictionary of o\n",
    "\n",
    "\"\"\""
   ]
  },
  {
   "cell_type": "code",
   "execution_count": 103,
   "id": "4808bc10-8ed3-42ee-9f54-f40d43213874",
   "metadata": {},
   "outputs": [
    {
     "data": {
      "text/plain": [
       "' rem Ipsum is simply dummy text of the printing and typesetting industry. Lorem Ipsum has been the industry\\'s standard dummy text ever since the 1500s, when an unknown printer took a galley of type and scrambled it to make a type specimen book. It has survived not only five centuries, but also the leap into electronic typesetting, remaining essentially unchanged. It was popularised in the 1960s with the release of Letraset sheets containing Lorem Ipsum passages, and more recently with desktop publishing software like Aldus PageMaker including versions of Lorem Ipsum.  Why do we use it? It is a long established fact that a reader will be distracted by the readable content of a page when looking at its layout. The point of using Lorem Ipsum is that it has a more-or-less normal distribution of letters, as opposed to using \\'Content here, content here\\', making it look like readable English. Many desktop publishing packages and web page editors now use Lorem Ipsum as their default model text, and a search for \\'lorem ipsum\\' will uncover many web sites still in their infancy. Various versions have evolved over the years, sometimes by accident, sometimes on purpose (injected humour and the like).   Where does it come from? Contrary to popular belief, Lorem Ipsum is not simply random text. It has roots in a piece of classical Latin literature from 45 BC, making it over 2000 years old. Richard McClintock, a Latin professor at Hampden-Sydney College in Virginia, looked up one of the more obscure Latin words, consectetur, from a Lorem Ipsum passage, and going through the cites of the word in classical literature, discovered the undoubtable source. Lorem Ipsum comes from sections 1.10.32 and 1.10.33 of \"de Finibus Bonorum et Malorum\" (The Extremes of Good and Evil) by Cicero, written in 45 BC. This book is a treatise on the theory of ethics, very popular during the Renaissance. The first line of Lorem Ipsum, \"Lorem ipsum dolor sit amet..\", comes from a line in section 1.10.32.  The standard chunk of Lorem Ipsum used since the 1500s is reproduced below for those interested. Sections 1.10.32 and 1.10.33 from \"de Finibus Bonorum et Malorum\" by Cicero are also reproduced in their exact original form, accompanied by English versions from the 1914 translation by H. Rackham.  Where can I get some? There are many variations of passages of Lorem Ipsum available, but the majority have suffered alteration in some form, by injected humour, or randomised words which don\\'t look even slightly believable. If you are going to use a passage of Lorem Ipsum, you need to be sure there isn\\'t anything embarrassing hidden in the middle of text. All the Lorem Ipsum generators on the Internet tend to repeat predefined chunks as necessary, making this the first true generator on the Internet. It uses a dictionary of o  '"
      ]
     },
     "execution_count": 103,
     "metadata": {},
     "output_type": "execute_result"
    }
   ],
   "source": [
    "re.sub('[\\n]',' ',txt)"
   ]
  },
  {
   "cell_type": "code",
   "execution_count": 138,
   "id": "b150967f-1930-481a-952c-6e33b076a766",
   "metadata": {},
   "outputs": [
    {
     "data": {
      "text/plain": [
       "''"
      ]
     },
     "execution_count": 138,
     "metadata": {},
     "output_type": "execute_result"
    }
   ],
   "source": [
    "\"\".join(re.findall('^.$',txt))"
   ]
  },
  {
   "cell_type": "code",
   "execution_count": 150,
   "id": "0cea77e6-cf23-4344-b8cc-92251681c60e",
   "metadata": {},
   "outputs": [
    {
     "data": {
      "text/plain": [
       "[]"
      ]
     },
     "execution_count": 150,
     "metadata": {},
     "output_type": "execute_result"
    }
   ],
   "source": [
    "re.findall('(^(a-zA-Z)$)',txt)"
   ]
  },
  {
   "cell_type": "code",
   "execution_count": 154,
   "id": "381f1395-5bfd-4f79-a357-cdd41f0744f8",
   "metadata": {},
   "outputs": [],
   "source": [
    "pattern = r'\\((.*?)\\)'"
   ]
  },
  {
   "cell_type": "code",
   "execution_count": 155,
   "id": "bbc5f39e-3050-4139-8cb3-49fdd624e721",
   "metadata": {},
   "outputs": [
    {
     "data": {
      "text/plain": [
       "['injected humour and the like', 'The Extremes of Good and Evil']"
      ]
     },
     "execution_count": 155,
     "metadata": {},
     "output_type": "execute_result"
    }
   ],
   "source": [
    "re.findall(pattern,txt)"
   ]
  },
  {
   "cell_type": "code",
   "execution_count": 160,
   "id": "a01173ca-c139-4d98-9114-797ad4140ece",
   "metadata": {},
   "outputs": [
    {
     "name": "stderr",
     "output_type": "stream",
     "text": [
      "<>:1: SyntaxWarning: invalid escape sequence '\\('\n",
      "<>:1: SyntaxWarning: invalid escape sequence '\\('\n",
      "/tmp/ipykernel_44994/2363613643.py:1: SyntaxWarning: invalid escape sequence '\\('\n",
      "  re.findall('\\(.*\\)',txt)\n"
     ]
    },
    {
     "data": {
      "text/plain": [
       "['(injected humour and the like)', '(The Extremes of Good and Evil)']"
      ]
     },
     "execution_count": 160,
     "metadata": {},
     "output_type": "execute_result"
    }
   ],
   "source": [
    "re.findall('\\(.*\\)',txt)"
   ]
  },
  {
   "cell_type": "code",
   "execution_count": 162,
   "id": "d70d64b0-cc65-4eb0-b543-067e7d75ba59",
   "metadata": {},
   "outputs": [],
   "source": [
    "a = [x for x in range(1,10)]"
   ]
  },
  {
   "cell_type": "code",
   "execution_count": 164,
   "id": "6560d7b1-ad45-492d-9553-71ecbf394fb4",
   "metadata": {},
   "outputs": [
    {
     "name": "stdout",
     "output_type": "stream",
     "text": [
      "1\n",
      "2\n",
      "3\n",
      "4\n",
      "5\n",
      "6\n",
      "7\n",
      "8\n",
      "9\n"
     ]
    }
   ],
   "source": [
    "for i in range(1,10):\n",
    "    print(i)"
   ]
  },
  {
   "cell_type": "code",
   "execution_count": 165,
   "id": "7158deb2-38cd-47ed-a0e3-2233e17554b1",
   "metadata": {},
   "outputs": [
    {
     "name": "stdout",
     "output_type": "stream",
     "text": [
      "0\n",
      "1\n",
      "2\n",
      "3\n",
      "4\n",
      "5\n",
      "6\n",
      "7\n",
      "8\n",
      "9\n",
      "10\n",
      "11\n",
      "12\n",
      "13\n",
      "14\n",
      "15\n",
      "16\n",
      "17\n",
      "18\n",
      "19\n"
     ]
    }
   ],
   "source": [
    "for i in range(20):\n",
    "    print(i)"
   ]
  },
  {
   "cell_type": "code",
   "execution_count": 166,
   "id": "531e76f6-341f-4bde-a838-e5d605c824a4",
   "metadata": {},
   "outputs": [
    {
     "data": {
      "text/plain": [
       "[1, 2, 3, 4, 5, 6, 7, 8, 9]"
      ]
     },
     "execution_count": 166,
     "metadata": {},
     "output_type": "execute_result"
    }
   ],
   "source": [
    "a"
   ]
  },
  {
   "cell_type": "code",
   "execution_count": 168,
   "id": "a83724f9-5aa9-4006-8b7b-ddc62ce42657",
   "metadata": {},
   "outputs": [
    {
     "name": "stdout",
     "output_type": "stream",
     "text": [
      "1\n",
      "4\n",
      "9\n",
      "16\n",
      "25\n",
      "36\n",
      "49\n",
      "64\n",
      "81\n"
     ]
    }
   ],
   "source": [
    "for i in a:\n",
    "    print(i**2)"
   ]
  },
  {
   "cell_type": "code",
   "execution_count": 177,
   "id": "fcd11b4e-76e1-4d15-845d-72440a006344",
   "metadata": {},
   "outputs": [],
   "source": [
    "a = [[[1,2,3,4,5]]]"
   ]
  },
  {
   "cell_type": "code",
   "execution_count": 178,
   "id": "25dbf45e-e526-46c1-a7ec-6b19fdf16472",
   "metadata": {},
   "outputs": [
    {
     "data": {
      "text/plain": [
       "[[[1, 2, 3, 4, 5]]]"
      ]
     },
     "execution_count": 178,
     "metadata": {},
     "output_type": "execute_result"
    }
   ],
   "source": [
    "a"
   ]
  },
  {
   "cell_type": "code",
   "execution_count": 181,
   "id": "b9a91b6e-bf94-44c0-8a61-6b26e06e1e47",
   "metadata": {},
   "outputs": [
    {
     "name": "stdout",
     "output_type": "stream",
     "text": [
      "1\n",
      "2\n",
      "3\n",
      "4\n",
      "5\n"
     ]
    }
   ],
   "source": [
    "for i in a:\n",
    "    for j in i:\n",
    "        for k in j:\n",
    "            print(k)"
   ]
  },
  {
   "cell_type": "code",
   "execution_count": 183,
   "id": "0e1c6c18-28e3-46d2-a586-16d29b4dc4f9",
   "metadata": {},
   "outputs": [
    {
     "name": "stdin",
     "output_type": "stream",
     "text": [
      " 1\n",
      " 2\n",
      " 3\n"
     ]
    }
   ],
   "source": [
    "for i in range(3):\n",
    "    input()"
   ]
  },
  {
   "cell_type": "code",
   "execution_count": 184,
   "id": "de398c32-4010-4e74-afb7-6d33aea2cbdb",
   "metadata": {},
   "outputs": [
    {
     "name": "stdout",
     "output_type": "stream",
     "text": [
      "0\n",
      "1\n",
      "2\n",
      "3\n",
      "4\n",
      "5\n",
      "6\n",
      "7\n",
      "8\n",
      "9\n"
     ]
    }
   ],
   "source": [
    "i = 0\n",
    "while i < 10:\n",
    "    print(i)\n",
    "    i+=1"
   ]
  },
  {
   "cell_type": "code",
   "execution_count": 187,
   "id": "afaa6ab5-a791-4bc2-b217-2d3a3d66f7bf",
   "metadata": {},
   "outputs": [
    {
     "name": "stdout",
     "output_type": "stream",
     "text": [
      "0\n",
      "1\n",
      "2\n",
      "3\n",
      "4\n",
      "5\n",
      "6\n",
      "7\n",
      "8\n",
      "9\n",
      "10\n",
      "11\n",
      "12\n",
      "13\n",
      "14\n",
      "15\n",
      "16\n",
      "17\n",
      "18\n",
      "19\n"
     ]
    }
   ],
   "source": [
    "i = 0\n",
    "while True:\n",
    "    print(i)\n",
    "    i+=1\n",
    "    if i == 20:\n",
    "        break"
   ]
  },
  {
   "cell_type": "code",
   "execution_count": 188,
   "id": "be6766c1-03c5-470e-9f6e-e9275eec118e",
   "metadata": {},
   "outputs": [
    {
     "data": {
      "text/plain": [
       "[[[1, 2, 3, 4, 5]]]"
      ]
     },
     "execution_count": 188,
     "metadata": {},
     "output_type": "execute_result"
    }
   ],
   "source": [
    "a"
   ]
  },
  {
   "cell_type": "code",
   "execution_count": 190,
   "id": "f0c1883a-5053-4c52-9a37-8a156a84de0d",
   "metadata": {},
   "outputs": [],
   "source": [
    "a = [x for x in range(20)]"
   ]
  },
  {
   "cell_type": "code",
   "execution_count": 191,
   "id": "cb428173-a791-4fb9-b03d-4f4e99b65134",
   "metadata": {},
   "outputs": [
    {
     "data": {
      "text/plain": [
       "[0, 1, 2, 3, 4, 5, 6, 7, 8, 9, 10, 11, 12, 13, 14, 15, 16, 17, 18, 19]"
      ]
     },
     "execution_count": 191,
     "metadata": {},
     "output_type": "execute_result"
    }
   ],
   "source": [
    "a"
   ]
  },
  {
   "cell_type": "code",
   "execution_count": 193,
   "id": "5f7024f1-c5c1-4721-b52b-9c52748af8ba",
   "metadata": {},
   "outputs": [
    {
     "name": "stdout",
     "output_type": "stream",
     "text": [
      "0\n",
      "1\n",
      "2\n",
      "3\n",
      "4\n",
      "5\n",
      "6\n",
      "7\n",
      "8\n",
      "9\n",
      "10\n",
      "11\n",
      "12\n",
      "13\n",
      "14\n",
      "15\n",
      "16\n",
      "17\n",
      "18\n",
      "19\n"
     ]
    }
   ],
   "source": [
    "i=0\n",
    "while i < len(a):\n",
    "    print(i)\n",
    "    i+=1"
   ]
  },
  {
   "cell_type": "code",
   "execution_count": 194,
   "id": "33f8d63a-a937-45df-95b5-178050ce152a",
   "metadata": {},
   "outputs": [],
   "source": [
    "# Print first 10 natural numbers using while loop"
   ]
  },
  {
   "cell_type": "code",
   "execution_count": 197,
   "id": "39f3796e-84a0-4f7f-ac3d-ec86416648ab",
   "metadata": {},
   "outputs": [
    {
     "name": "stdout",
     "output_type": "stream",
     "text": [
      "1\n",
      "2\n",
      "3\n",
      "4\n",
      "5\n",
      "6\n",
      "7\n",
      "8\n",
      "9\n",
      "10\n",
      "11\n",
      "12\n",
      "13\n",
      "14\n",
      "15\n",
      "16\n",
      "17\n",
      "18\n",
      "19\n",
      "20\n"
     ]
    }
   ],
   "source": [
    "# i= 1\n",
    "# while True:\n",
    "#     print(i)\n",
    "#     i+=1\n",
    "#     if i == 21:\n",
    "#         break\n",
    "\n",
    "\n",
    "i = 1\n",
    "while i < 21:\n",
    "    print(i)\n",
    "    i+=1"
   ]
  },
  {
   "cell_type": "code",
   "execution_count": 198,
   "id": "89ff51c7-7107-4af5-a576-85b73e835818",
   "metadata": {},
   "outputs": [
    {
     "name": "stdout",
     "output_type": "stream",
     "text": [
      "1\n",
      "2\n",
      "3\n",
      "4\n",
      "5\n",
      "6\n",
      "7\n",
      "8\n",
      "9\n",
      "10\n",
      "11\n",
      "12\n",
      "13\n",
      "14\n",
      "15\n",
      "16\n",
      "17\n",
      "18\n",
      "19\n",
      "20\n"
     ]
    }
   ],
   "source": [
    "for i in range(1,21):\n",
    "    print(i)"
   ]
  },
  {
   "cell_type": "code",
   "execution_count": 199,
   "id": "f1446c15-95b5-44ca-a387-5852a5becc83",
   "metadata": {},
   "outputs": [],
   "source": [
    "# 1 \n",
    "# 1 2 \n",
    "# 1 2 3 \n",
    "# 1 2 3 4 \n",
    "# 1 2 3 4 5"
   ]
  },
  {
   "cell_type": "code",
   "execution_count": 201,
   "id": "56410575-d6be-4b86-b8d6-d8209297647a",
   "metadata": {},
   "outputs": [
    {
     "name": "stdout",
     "output_type": "stream",
     "text": [
      "1\n",
      "12\n",
      "123\n",
      "1234\n",
      "12345\n"
     ]
    }
   ],
   "source": [
    "for i in range(1,6):\n",
    "    n = \"\"\n",
    "    for j in range(1,i+1):\n",
    "        n += str(j)\n",
    "    print(n)"
   ]
  },
  {
   "cell_type": "code",
   "execution_count": null,
   "id": "de7ea9cc-357c-44db-8fa7-edbcc186c86c",
   "metadata": {},
   "outputs": [],
   "source": []
  },
  {
   "cell_type": "code",
   "execution_count": null,
   "id": "3823db52-41bb-43ec-8e73-e7ac78f0728b",
   "metadata": {},
   "outputs": [],
   "source": []
  }
 ],
 "metadata": {
  "kernelspec": {
   "display_name": "Python 3 (ipykernel)",
   "language": "python",
   "name": "python3"
  },
  "language_info": {
   "codemirror_mode": {
    "name": "ipython",
    "version": 3
   },
   "file_extension": ".py",
   "mimetype": "text/x-python",
   "name": "python",
   "nbconvert_exporter": "python",
   "pygments_lexer": "ipython3",
   "version": "3.12.3"
  }
 },
 "nbformat": 4,
 "nbformat_minor": 5
}
