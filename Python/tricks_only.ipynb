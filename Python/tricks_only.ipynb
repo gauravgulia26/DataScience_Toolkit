{
 "cells": [
  {
   "cell_type": "code",
   "execution_count": 1,
   "id": "03800c6d-5f7b-451c-9b1a-745084a8304b",
   "metadata": {},
   "outputs": [],
   "source": [
    "# set comprehension\n",
    "# dictionary comprehension"
   ]
  },
  {
   "cell_type": "code",
   "execution_count": 2,
   "id": "218b3161-5a67-4a3d-9aa1-9d513d35f2fb",
   "metadata": {},
   "outputs": [
    {
     "data": {
      "text/plain": [
       "{0, 1, 2, 3, 4, 5, 6, 7, 8, 9}"
      ]
     },
     "execution_count": 2,
     "metadata": {},
     "output_type": "execute_result"
    }
   ],
   "source": [
    "{x for x in range(10)}"
   ]
  },
  {
   "cell_type": "code",
   "execution_count": 3,
   "id": "6fdb54b1-dc59-48d5-8699-998852fe62d8",
   "metadata": {},
   "outputs": [],
   "source": [
    "a,b,c = [1,2,3]"
   ]
  },
  {
   "cell_type": "code",
   "execution_count": 4,
   "id": "c872c5f7-8e61-4437-80d3-e55912c2f313",
   "metadata": {},
   "outputs": [
    {
     "data": {
      "text/plain": [
       "1"
      ]
     },
     "execution_count": 4,
     "metadata": {},
     "output_type": "execute_result"
    }
   ],
   "source": [
    "a"
   ]
  },
  {
   "cell_type": "code",
   "execution_count": 6,
   "id": "f9b6f84e-40bf-452a-996a-93e88b2e4878",
   "metadata": {},
   "outputs": [],
   "source": [
    "a= {\n",
    "    'a':1,\n",
    "    'b':2\n",
    "}"
   ]
  },
  {
   "cell_type": "code",
   "execution_count": 9,
   "id": "a3de50b1-2f9a-4d3d-bbeb-42b7b6621a4e",
   "metadata": {},
   "outputs": [],
   "source": [
    "d = {**a}"
   ]
  },
  {
   "cell_type": "code",
   "execution_count": 11,
   "id": "9ccc99b9-8b76-4fdf-be90-60cbfd57dd5c",
   "metadata": {},
   "outputs": [],
   "source": [
    "b = {\n",
    "    'a':2,\n",
    "    'c':10\n",
    "}"
   ]
  },
  {
   "cell_type": "code",
   "execution_count": 18,
   "id": "fe4ab09d-2c54-442b-92c0-528067b92e4b",
   "metadata": {},
   "outputs": [],
   "source": [
    "d = {**a,**b}"
   ]
  },
  {
   "cell_type": "code",
   "execution_count": 20,
   "id": "eaa6b513-492a-4e7b-a0d5-1fc55947ace6",
   "metadata": {},
   "outputs": [],
   "source": [
    "# dicitonary where each value should be sqaure of d dictionaary"
   ]
  },
  {
   "cell_type": "code",
   "execution_count": 23,
   "id": "8479e2a2-31e4-4150-a087-dada3e5e02b6",
   "metadata": {},
   "outputs": [],
   "source": [
    "new_dict = {\n",
    "    \n",
    "}"
   ]
  },
  {
   "cell_type": "code",
   "execution_count": 25,
   "id": "ca107ddc-7cd1-4eb4-b9ca-518ae70eb65b",
   "metadata": {},
   "outputs": [],
   "source": [
    "for i in d:\n",
    "    new_dict[i] = d[i]**2"
   ]
  },
  {
   "cell_type": "code",
   "execution_count": 27,
   "id": "779d7611-be41-45e0-92cf-6c073ea5207b",
   "metadata": {},
   "outputs": [
    {
     "data": {
      "text/plain": [
       "{'a': 4, 'b': 4, 'c': 100}"
      ]
     },
     "execution_count": 27,
     "metadata": {},
     "output_type": "execute_result"
    }
   ],
   "source": [
    "new_dict"
   ]
  },
  {
   "cell_type": "code",
   "execution_count": 32,
   "id": "6ca86bb9-61b1-4a1e-9170-a00604137043",
   "metadata": {},
   "outputs": [
    {
     "data": {
      "text/plain": [
       "{'a', 'b', 'c'}"
      ]
     },
     "execution_count": 32,
     "metadata": {},
     "output_type": "execute_result"
    }
   ],
   "source": [
    "# set\n",
    "{*new_dict}"
   ]
  },
  {
   "cell_type": "code",
   "execution_count": 33,
   "id": "921ca1db-86e1-40bd-a475-7c27e8cd0a4f",
   "metadata": {},
   "outputs": [
    {
     "data": {
      "text/plain": [
       "{'a': 4, 'b': 4, 'c': 100}"
      ]
     },
     "execution_count": 33,
     "metadata": {},
     "output_type": "execute_result"
    }
   ],
   "source": [
    "# dictionary\n",
    "{**new_dict}"
   ]
  },
  {
   "cell_type": "code",
   "execution_count": 34,
   "id": "213df221-00c3-4a71-8a1a-e01b3a32ba01",
   "metadata": {},
   "outputs": [
    {
     "data": {
      "text/plain": [
       "{0, 1, 2, 3, 4, 5, 6, 7, 8, 9}"
      ]
     },
     "execution_count": 34,
     "metadata": {},
     "output_type": "execute_result"
    }
   ],
   "source": [
    "# set comprehensions\n",
    "{x for x in range(10)}"
   ]
  },
  {
   "cell_type": "code",
   "execution_count": 37,
   "id": "6768fc93-9976-44a9-b945-4a2d7bd65d6c",
   "metadata": {},
   "outputs": [
    {
     "data": {
      "text/plain": [
       "(0, 1, 2, 3, 4, 5, 6, 7, 8, 9)"
      ]
     },
     "execution_count": 37,
     "metadata": {},
     "output_type": "execute_result"
    }
   ],
   "source": [
    "# tuple comprehensions\n",
    "tuple((x for x in range(10)))"
   ]
  },
  {
   "cell_type": "code",
   "execution_count": 38,
   "id": "e68fcf6f-dd8a-4c41-bfec-e87e693d11bb",
   "metadata": {},
   "outputs": [
    {
     "data": {
      "text/plain": [
       "[0, 1, 2, 3, 4, 5, 6, 7, 8, 9]"
      ]
     },
     "execution_count": 38,
     "metadata": {},
     "output_type": "execute_result"
    }
   ],
   "source": [
    "[x for x in range(10)]"
   ]
  },
  {
   "cell_type": "code",
   "execution_count": 40,
   "id": "4bcf50e8-6204-488f-88b7-15d2f490b06c",
   "metadata": {},
   "outputs": [],
   "source": [
    "# dictionary comprehension"
   ]
  },
  {
   "cell_type": "code",
   "execution_count": 41,
   "id": "69f7de20-a695-49d2-9bf3-b5e9af649444",
   "metadata": {},
   "outputs": [],
   "source": [
    "# {key:value statement}"
   ]
  },
  {
   "cell_type": "code",
   "execution_count": 43,
   "id": "d785ab3c-991c-4152-a71e-2da021957806",
   "metadata": {},
   "outputs": [
    {
     "data": {
      "text/plain": [
       "{0: 0, 1: 1, 2: 4, 3: 9, 4: 16, 5: 25, 6: 36, 7: 49, 8: 64, 9: 81}"
      ]
     },
     "execution_count": 43,
     "metadata": {},
     "output_type": "execute_result"
    }
   ],
   "source": [
    "# dictionary comprehension\n",
    "{num:num**2 for num in range(10)}"
   ]
  },
  {
   "cell_type": "code",
   "execution_count": null,
   "id": "20a089e1-02a7-4cab-b96c-35915dba762b",
   "metadata": {},
   "outputs": [],
   "source": []
  },
  {
   "cell_type": "code",
   "execution_count": 50,
   "id": "08e971a5-6dc8-41d9-b799-f56998aeaaf6",
   "metadata": {},
   "outputs": [
    {
     "data": {
      "text/plain": [
       "{'a': 4, 'b': 4, 'c': 100}"
      ]
     },
     "execution_count": 50,
     "metadata": {},
     "output_type": "execute_result"
    }
   ],
   "source": [
    "new_dict"
   ]
  },
  {
   "cell_type": "code",
   "execution_count": 58,
   "id": "62bbdd34-a66a-4c0d-8977-b410f2ba82b1",
   "metadata": {},
   "outputs": [],
   "source": [
    "nw = {*{key:value**2 for key,value in new_dict.items()}}"
   ]
  },
  {
   "cell_type": "code",
   "execution_count": 60,
   "id": "bb2585d8-af5b-423d-861b-dd69f0d2069f",
   "metadata": {},
   "outputs": [
    {
     "data": {
      "text/plain": [
       "{'a', 'b', 'c'}"
      ]
     },
     "execution_count": 60,
     "metadata": {},
     "output_type": "execute_result"
    }
   ],
   "source": [
    "nw"
   ]
  },
  {
   "cell_type": "code",
   "execution_count": 62,
   "id": "3614d666-d616-41b1-ba51-ff09edab54fd",
   "metadata": {},
   "outputs": [
    {
     "data": {
      "text/plain": [
       "{'a': 16}"
      ]
     },
     "execution_count": 62,
     "metadata": {},
     "output_type": "execute_result"
    }
   ],
   "source": [
    "{key:value**2 for key,value in new_dict.items() if key ==  'a'}"
   ]
  },
  {
   "cell_type": "code",
   "execution_count": null,
   "id": "54935692-756d-42ee-98b0-6efa29d906b5",
   "metadata": {},
   "outputs": [],
   "source": [
    "{key:value**2 for key,value in new_dict.items() if key ==  'a'}"
   ]
  },
  {
   "cell_type": "code",
   "execution_count": 63,
   "id": "f5c93cef-b928-4137-bfee-4e60bbd9b048",
   "metadata": {},
   "outputs": [
    {
     "data": {
      "text/plain": [
       "{'a': 5, 'b': 5, 'c': 10000}"
      ]
     },
     "execution_count": 63,
     "metadata": {},
     "output_type": "execute_result"
    }
   ],
   "source": [
    "{key:(value ** 2 if value > 4 else value + 1) for key,value in new_dict.items()}"
   ]
  },
  {
   "cell_type": "code",
   "execution_count": 64,
   "id": "a4375e4b-a8f5-44f1-b7c7-d47db2714654",
   "metadata": {},
   "outputs": [
    {
     "data": {
      "text/plain": [
       "{'a': 64, 'b': 64, 'c': 1000000}"
      ]
     },
     "execution_count": 64,
     "metadata": {},
     "output_type": "execute_result"
    }
   ],
   "source": [
    "{key:(value ** 3 if value > 3 else value + 10) for key,value in new_dict.items()}"
   ]
  },
  {
   "cell_type": "code",
   "execution_count": 65,
   "id": "188c3104-3ca5-45d3-b68a-7f949da5cbe0",
   "metadata": {},
   "outputs": [],
   "source": [
    "# You are given a dictionary of student names and their scores. \n",
    "# Write a dictionary comprehension to categorize students as \"Pass\" if their score is 40 or above and \"Fail\" \n",
    "# otherwise."
   ]
  },
  {
   "cell_type": "code",
   "execution_count": 66,
   "id": "b4ad9b5f-025d-4cde-a408-52d012246a93",
   "metadata": {},
   "outputs": [],
   "source": [
    "grades = {'Alice': 45, 'Bob': 30, 'Charlie': 60, 'David': 25}\n",
    "# Expected Output: {'Alice': 'Pass', 'Bob': 'Fail', 'Charlie': 'Pass', 'David': 'Fail'}"
   ]
  },
  {
   "cell_type": "code",
   "execution_count": 67,
   "id": "c94254fe-4dcd-4a30-be13-486f732adeed",
   "metadata": {},
   "outputs": [],
   "source": [
    "new_dict = {}\n",
    "for key,value in grades.items():\n",
    "    if value >= 40:\n",
    "        new_dict[key] = 'pass'\n",
    "    else:\n",
    "        new_dict[key] = 'fail'"
   ]
  },
  {
   "cell_type": "code",
   "execution_count": 70,
   "id": "e171653f-6fd5-46f1-a6b8-b5592839635d",
   "metadata": {},
   "outputs": [
    {
     "data": {
      "text/plain": [
       "{'Alice': 'pass', 'Bob': 'fail', 'Charlie': 'pass', 'David': 'fail'}"
      ]
     },
     "execution_count": 70,
     "metadata": {},
     "output_type": "execute_result"
    }
   ],
   "source": [
    "{key:('pass' if values>=45 else 'fail') for key,values in grades.items()}"
   ]
  },
  {
   "cell_type": "code",
   "execution_count": 73,
   "id": "a7c58786-261e-4875-a361-c1efe11e3fc1",
   "metadata": {},
   "outputs": [
    {
     "data": {
      "text/plain": [
       "{'Alice': 'Pass', 'Bob': 'Fail', 'Charlie': 'Pass', 'David': 'Fail'}"
      ]
     },
     "execution_count": 73,
     "metadata": {},
     "output_type": "execute_result"
    }
   ],
   "source": [
    "{key:('Pass'if value >= 40 else \"Fail\" ) for key,value in grades.items()}"
   ]
  },
  {
   "cell_type": "code",
   "execution_count": 75,
   "id": "9d4f0138-8020-4b4e-995f-442746d168f4",
   "metadata": {},
   "outputs": [],
   "source": [
    "# Given a list of words, create a dictionary where the keys are the words, and the values are their lengths.\n",
    "\n",
    "words = ['apple', 'banana', 'cherry', 'date']\n",
    "# # Expected Output: {'apple': 5, 'banana': 6, 'cherry': 6, 'date': 4}"
   ]
  },
  {
   "cell_type": "code",
   "execution_count": 76,
   "id": "6e502515-04fa-4930-ac16-36228896721c",
   "metadata": {},
   "outputs": [
    {
     "data": {
      "text/plain": [
       "{'apple': 5, 'banana': 6, 'cherry': 6, 'date': 4}"
      ]
     },
     "execution_count": 76,
     "metadata": {},
     "output_type": "execute_result"
    }
   ],
   "source": [
    "{key:len(key) for key in words}"
   ]
  },
  {
   "cell_type": "code",
   "execution_count": 78,
   "id": "217d6831-0d04-4d05-9e34-f93882f47c35",
   "metadata": {},
   "outputs": [],
   "source": [
    "# A store increases the price of products that cost less than 100 by 10%. \n",
    "# Write a dictionary comprehension to update the prices and make the prevous priceas the key\n",
    "\n",
    "prices = [80,120,60]\n",
    "# # Expected Output: {80: 88.0, 120: 120, 60: 66.0}"
   ]
  },
  {
   "cell_type": "code",
   "execution_count": 79,
   "id": "41c83508-d3f7-4042-8cd1-0a035f1e2d18",
   "metadata": {},
   "outputs": [
    {
     "data": {
      "text/plain": [
       "{'apple': 88.0, 'banana': 120, 'cherry': 66.0}"
      ]
     },
     "execution_count": 79,
     "metadata": {},
     "output_type": "execute_result"
    }
   ],
   "source": [
    "{key:(value*1.1 if value < 100 else value ) for key,value in prices.items()}"
   ]
  },
  {
   "cell_type": "code",
   "execution_count": null,
   "id": "9288d562-cd7e-4d66-a613-17b79d7e8cb8",
   "metadata": {},
   "outputs": [],
   "source": []
  }
 ],
 "metadata": {
  "kernelspec": {
   "display_name": "Python 3 (ipykernel)",
   "language": "python",
   "name": "python3"
  },
  "language_info": {
   "codemirror_mode": {
    "name": "ipython",
    "version": 3
   },
   "file_extension": ".py",
   "mimetype": "text/x-python",
   "name": "python",
   "nbconvert_exporter": "python",
   "pygments_lexer": "ipython3",
   "version": "3.12.3"
  }
 },
 "nbformat": 4,
 "nbformat_minor": 5
}
