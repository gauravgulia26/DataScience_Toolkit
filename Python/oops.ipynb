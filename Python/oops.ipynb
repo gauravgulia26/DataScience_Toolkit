{
 "cells": [
  {
   "cell_type": "code",
   "execution_count": 1,
   "id": "5418f37e-d7bb-4d3f-9e44-c48dcbc41e3f",
   "metadata": {},
   "outputs": [],
   "source": [
    "# OOPS"
   ]
  },
  {
   "cell_type": "code",
   "execution_count": 9,
   "id": "b8e0184b-025f-46e2-afa2-1f424fac1f68",
   "metadata": {},
   "outputs": [],
   "source": [
    "# this is class\n",
    "class MyClass:\n",
    "    # properties\n",
    "    x = 5\n",
    "\n",
    "    # methods\n",
    "    def Trial():\n",
    "        pass"
   ]
  },
  {
   "cell_type": "code",
   "execution_count": null,
   "id": "f3508845-2d23-4abd-9014-22f689279500",
   "metadata": {},
   "outputs": [],
   "source": []
  },
  {
   "cell_type": "code",
   "execution_count": 11,
   "id": "6d56fd34-066f-47e5-8b97-c09a5b920695",
   "metadata": {},
   "outputs": [],
   "source": [
    "# object\n",
    "s1 = MyClass()"
   ]
  },
  {
   "cell_type": "code",
   "execution_count": 12,
   "id": "38f7d11b-a97f-44b9-a4da-5ce166efa347",
   "metadata": {},
   "outputs": [
    {
     "data": {
      "text/plain": [
       "5"
      ]
     },
     "execution_count": 12,
     "metadata": {},
     "output_type": "execute_result"
    }
   ],
   "source": [
    "s1.x"
   ]
  },
  {
   "cell_type": "code",
   "execution_count": 33,
   "id": "dda6c14d-6727-4cb6-a360-1d89cc527cce",
   "metadata": {},
   "outputs": [],
   "source": [
    "class Person:\n",
    "    # Constructor Function\n",
    "  def __init__(self,name, age):\n",
    "      print(\"hello World\")\n",
    "      self.name = name\n",
    "      self.age = age\n",
    "\n",
    "# p1 = Person(\"John\", 36)\n"
   ]
  },
  {
   "cell_type": "code",
   "execution_count": 34,
   "id": "13977bdf-192e-4bce-861b-5c683a2319e8",
   "metadata": {},
   "outputs": [
    {
     "name": "stdout",
     "output_type": "stream",
     "text": [
      "hello World\n"
     ]
    }
   ],
   "source": [
    "p1 = Person('Gourav',23)"
   ]
  },
  {
   "cell_type": "code",
   "execution_count": 35,
   "id": "d881c186-3098-43b9-9f6b-c58d9cc53698",
   "metadata": {},
   "outputs": [
    {
     "data": {
      "text/plain": [
       "23"
      ]
     },
     "execution_count": 35,
     "metadata": {},
     "output_type": "execute_result"
    }
   ],
   "source": [
    "p1.age"
   ]
  },
  {
   "cell_type": "code",
   "execution_count": 36,
   "id": "d4cd6c33-5d89-494d-b609-3b01e111bcb8",
   "metadata": {},
   "outputs": [
    {
     "name": "stdout",
     "output_type": "stream",
     "text": [
      "<__main__.Person object at 0x7dd156b23350>\n"
     ]
    }
   ],
   "source": [
    "print(p1)"
   ]
  },
  {
   "cell_type": "code",
   "execution_count": 37,
   "id": "7378a389-85b3-4ecc-a650-10c67951993d",
   "metadata": {},
   "outputs": [
    {
     "name": "stdout",
     "output_type": "stream",
     "text": [
      "<__main__.Person object at 0x7dd156b22ab0>\n"
     ]
    }
   ],
   "source": [
    "class Person:\n",
    "  def __init__(self, name, age):\n",
    "    self.name = name\n",
    "    self.age = age\n",
    "\n",
    "p1 = Person(\"John\", 36)\n",
    "\n",
    "print(p1)"
   ]
  },
  {
   "cell_type": "code",
   "execution_count": 45,
   "id": "9a29f1ce-7746-4a08-83e5-099c3e05a402",
   "metadata": {},
   "outputs": [
    {
     "name": "stdout",
     "output_type": "stream",
     "text": [
      "hey i am running !!\n"
     ]
    }
   ],
   "source": [
    "class Person:\n",
    "    # Constuctor Function\n",
    "  def __init__(self, name, age):\n",
    "    self.name = name\n",
    "    self.age = age\n",
    "    print(\"hey i am running !!\")\n",
    "\n",
    "    # String Function\n",
    "  def __str__(self):\n",
    "      return f'Hey this is object of Person Class'\n",
    "\n",
    "p1 = Person(\"John\", 36)\n",
    "\n",
    "# print(p1)"
   ]
  },
  {
   "cell_type": "code",
   "execution_count": 46,
   "id": "3da0772f-18de-4798-a1f0-62e42b9aac43",
   "metadata": {},
   "outputs": [
    {
     "name": "stdout",
     "output_type": "stream",
     "text": [
      "hey i am running !!\n"
     ]
    }
   ],
   "source": [
    "p2 = Person('Gourav',23)"
   ]
  },
  {
   "cell_type": "code",
   "execution_count": 47,
   "id": "6cac47f9-872e-4f39-9b33-194090c8e8f3",
   "metadata": {},
   "outputs": [
    {
     "name": "stdout",
     "output_type": "stream",
     "text": [
      "Hey this is object of Person Class\n"
     ]
    }
   ],
   "source": [
    "print(p2)"
   ]
  },
  {
   "cell_type": "code",
   "execution_count": 49,
   "id": "3e9433b4-3380-41cc-86f1-b25eca8e4a1c",
   "metadata": {},
   "outputs": [],
   "source": [
    "class Person:\n",
    "    # Constuctor Function\n",
    "  def __init__(self, name, age):\n",
    "    self.name = name\n",
    "    self.age = age\n",
    "    # print(\"hey i am running !!\")\n",
    "\n",
    "    # String Function\n",
    "  def __str__(self):\n",
    "      return f'Hey this is object of Person Class'\n",
    "\n",
    "    # methods of a class\n",
    "  def retrieve(self):\n",
    "      return self.name, self.age\n",
    "\n",
    "p1 = Person(\"John\", 36)\n",
    "\n",
    "# print(p1)"
   ]
  },
  {
   "cell_type": "code",
   "execution_count": 53,
   "id": "348c3045-b443-4fc1-be82-c6d214fed0f5",
   "metadata": {},
   "outputs": [
    {
     "data": {
      "text/plain": [
       "('John', 36)"
      ]
     },
     "execution_count": 53,
     "metadata": {},
     "output_type": "execute_result"
    }
   ],
   "source": [
    "p1.retrieve()"
   ]
  },
  {
   "cell_type": "code",
   "execution_count": 54,
   "id": "ff4953df-2880-4f3a-a31a-5566d3ee3c8b",
   "metadata": {},
   "outputs": [],
   "source": [
    "# write a class of a report card \n",
    "# generator that will take marks from the user as a list and then calculate the percentage and grades"
   ]
  },
  {
   "cell_type": "code",
   "execution_count": 150,
   "id": "06953bb8-60dc-48c2-8f9b-efe2f6d19070",
   "metadata": {},
   "outputs": [],
   "source": [
    "from functools import reduce\n",
    "\n",
    "# this is a class\n",
    "class ReportCard:\n",
    "\n",
    "\n",
    "    # non paramterized constructor\n",
    "    def __init__(self):\n",
    "        print('I am working')\n",
    "    # parameterized constructor\n",
    "    def __init__(self,marks:list,name='Default'):\n",
    "        self.marks = marks\n",
    "        self.name = name\n",
    "        self.total = (reduce(lambda x,y:x+y,self.marks))\n",
    "        self.percentage = (self.total / len(self.marks))\n",
    "\n",
    "\n",
    "    # string constructor\n",
    "    def __str__(self):\n",
    "        return 'Hey this is a grade calculator'\n",
    "\n",
    "    # methods\n",
    "    def grade(self):\n",
    "        if self.percentage > 100:\n",
    "            raise ValueError('Percentage Can not be more than 100')\n",
    "        if self.percentage <100 and self.percentage >=90:\n",
    "            return f'Hey Your ward {self.name} has got A'\n",
    "        elif self.percentage <90 and self.percentage >= 80:\n",
    "            return f'Hey Your ward {self.name} has got B'\n",
    "        else:\n",
    "            return f'Hey Aapka Bacha {self.name} Fail Ho gaya !! Noob' \n",
    "    "
   ]
  },
  {
   "cell_type": "code",
   "execution_count": 147,
   "id": "b8d9988b-27a7-4559-9b4e-32c1b71a1a9a",
   "metadata": {},
   "outputs": [
    {
     "name": "stdout",
     "output_type": "stream",
     "text": [
      "Balraj\n"
     ]
    }
   ],
   "source": [
    "s1 = ReportCard('Balraj')"
   ]
  },
  {
   "cell_type": "code",
   "execution_count": 140,
   "id": "212f7d51-f32c-40fa-99f5-e323d6be8e00",
   "metadata": {},
   "outputs": [
    {
     "data": {
      "text/plain": [
       "151.8"
      ]
     },
     "execution_count": 140,
     "metadata": {},
     "output_type": "execute_result"
    }
   ],
   "source": [
    "s1.percentage"
   ]
  },
  {
   "cell_type": "code",
   "execution_count": 126,
   "id": "f12be089-aa9e-497f-809d-a87206163ce5",
   "metadata": {},
   "outputs": [
    {
     "data": {
      "text/plain": [
       "759"
      ]
     },
     "execution_count": 126,
     "metadata": {},
     "output_type": "execute_result"
    }
   ],
   "source": [
    "s1.total"
   ]
  },
  {
   "cell_type": "code",
   "execution_count": 127,
   "id": "37e6b0a4-ec0f-4bd3-b895-840f186e815d",
   "metadata": {},
   "outputs": [],
   "source": [
    "s1.total = 24"
   ]
  },
  {
   "cell_type": "code",
   "execution_count": 128,
   "id": "b309bd6a-10aa-4bf8-9ff7-ec90fe3bda01",
   "metadata": {},
   "outputs": [
    {
     "data": {
      "text/plain": [
       "24"
      ]
     },
     "execution_count": 128,
     "metadata": {},
     "output_type": "execute_result"
    }
   ],
   "source": [
    "s1.total"
   ]
  },
  {
   "cell_type": "code",
   "execution_count": 121,
   "id": "75cf916f-7f29-4a96-ad73-14d8184c48e7",
   "metadata": {},
   "outputs": [],
   "source": [
    "s1.total = 23"
   ]
  },
  {
   "cell_type": "code",
   "execution_count": 129,
   "id": "793f547b-3ef0-40fc-a15c-ceae7e6aa178",
   "metadata": {},
   "outputs": [
    {
     "data": {
      "text/plain": [
       "24"
      ]
     },
     "execution_count": 129,
     "metadata": {},
     "output_type": "execute_result"
    }
   ],
   "source": [
    "s1.total"
   ]
  },
  {
   "cell_type": "code",
   "execution_count": 131,
   "id": "92c07554-d8a2-4105-9c9d-0f41e56d2ab2",
   "metadata": {},
   "outputs": [],
   "source": [
    "del s1"
   ]
  },
  {
   "cell_type": "code",
   "execution_count": 134,
   "id": "0f7197c6-0bcc-4820-97a2-902ce16804b9",
   "metadata": {},
   "outputs": [
    {
     "name": "stdout",
     "output_type": "stream",
     "text": [
      "Thank you for instantiating me :)\n"
     ]
    }
   ],
   "source": [
    "class demo:\n",
    "    def show(self):\n",
    "        print(\"Thank you for instantiating me :)\")\n",
    "\n",
    "\n",
    "d=demo()\n",
    "d.show()"
   ]
  },
  {
   "cell_type": "code",
   "execution_count": 148,
   "id": "45c6c69b-9745-4e8b-8944-c55083f313fd",
   "metadata": {},
   "outputs": [],
   "source": [
    "# def __init__(self) (non parameterized)\n",
    "# def __init(self,name,marks) (paramterized constrcutore)"
   ]
  },
  {
   "cell_type": "code",
   "execution_count": null,
   "id": "afdd344b-abe1-4daf-b167-f24466bb9683",
   "metadata": {},
   "outputs": [],
   "source": [
    "\"\"\"\n",
    "\n",
    "Create a class Product with attributes name, price, and category. Implement the following functionalities:\n",
    " * Create a list of 10 Product objects with random names, prices between 10 and 100, and categories from a given list.\n",
    " * Filter the products to only include those with a price greater than 50.\n",
    " * Map the filtered products to a new list containing only their names and prices.\n",
    " * Reduce the mapped list to calculate the total price of all products.\n",
    " * Use list comprehension to create a new list of product names in uppercase.\n",
    "\n",
    "\n",
    "\"\"\""
   ]
  },
  {
   "cell_type": "code",
   "execution_count": 151,
   "id": "b3e98f0d-c5a1-4764-9344-16600416d022",
   "metadata": {},
   "outputs": [],
   "source": [
    "class Product:\n",
    "    def __init__(self,name,price,category):\n",
    "        self.name = name\n",
    "        self.price = price\n",
    "        self.category = category"
   ]
  },
  {
   "cell_type": "code",
   "execution_count": 165,
   "id": "12239026-ca83-43de-b4ba-ad0185413acc",
   "metadata": {},
   "outputs": [],
   "source": [
    "import random\n",
    "choice = ['Soap','Toothbrush','Facewash','Cream']"
   ]
  },
  {
   "cell_type": "code",
   "execution_count": 175,
   "id": "545d9fab-844a-4d56-9018-0c545dc98187",
   "metadata": {},
   "outputs": [],
   "source": [
    "products = [Product(f'Product{i+1}',random.randint(10,100),random.choice(choice)) for i in range(10)]"
   ]
  },
  {
   "cell_type": "code",
   "execution_count": 182,
   "id": "bac954d2-0b58-416b-8287-2c5bf9b05a6d",
   "metadata": {},
   "outputs": [
    {
     "data": {
      "text/plain": [
       "'Toothbrush'"
      ]
     },
     "execution_count": 182,
     "metadata": {},
     "output_type": "execute_result"
    }
   ],
   "source": [
    "products[0].category"
   ]
  },
  {
   "cell_type": "code",
   "execution_count": 63,
   "id": "fd79b658-fc0f-4f99-89f7-db157a87661c",
   "metadata": {},
   "outputs": [],
   "source": [
    "class Marks:\n",
    "    def __init__(self,marks):\n",
    "        self.marks = marks\n",
    "        self.name = name\n",
    "\n",
    "\n",
    "    def report(self):\n",
    "        print(self.marks)"
   ]
  },
  {
   "cell_type": "code",
   "execution_count": 64,
   "id": "44ef2cf2-11d9-4446-8c2b-194db31afda9",
   "metadata": {},
   "outputs": [],
   "source": [
    "class Person:\n",
    "  def __init__(self, fname, lname):\n",
    "    self.firstname = fname\n",
    "    self.lastname = lname\n",
    "\n",
    "  def printname(self):\n",
    "    print(self.firstname, self.lastname)"
   ]
  },
  {
   "cell_type": "code",
   "execution_count": 35,
   "id": "1f14fa97-fc6f-4a7b-b269-883a24f51259",
   "metadata": {},
   "outputs": [],
   "source": []
  },
  {
   "cell_type": "code",
   "execution_count": 44,
   "id": "7df89476-833b-4b7e-9e88-e360620a5999",
   "metadata": {},
   "outputs": [],
   "source": [
    "# x = Person('Gourav','Gulia')"
   ]
  },
  {
   "cell_type": "code",
   "execution_count": 45,
   "id": "e87473e5-77da-43d5-bf7a-0d04fe0ca9ad",
   "metadata": {},
   "outputs": [],
   "source": [
    "# x.printname()"
   ]
  },
  {
   "cell_type": "code",
   "execution_count": 65,
   "id": "c2643524-9be7-4702-9b94-03be03d76f5d",
   "metadata": {},
   "outputs": [],
   "source": [
    "class Student(Person):\n",
    "    pass"
   ]
  },
  {
   "cell_type": "code",
   "execution_count": 51,
   "id": "051bd1be-51d3-4764-81b9-dba9d09bb572",
   "metadata": {},
   "outputs": [],
   "source": [
    "# y = Person('Gourav','Gulia')"
   ]
  },
  {
   "cell_type": "code",
   "execution_count": 66,
   "id": "eda03c0c-37a8-4e2f-a5b2-76fcbb742383",
   "metadata": {},
   "outputs": [],
   "source": [
    "class emp(Student):\n",
    "    pass"
   ]
  },
  {
   "cell_type": "code",
   "execution_count": 67,
   "id": "80667aed-5b90-4c33-8f4f-9b0fd441e8d5",
   "metadata": {},
   "outputs": [],
   "source": [
    "class trial(Marks):\n",
    "    pass"
   ]
  },
  {
   "cell_type": "code",
   "execution_count": 68,
   "id": "0170c500-a689-4ef0-a26a-056b634863e5",
   "metadata": {},
   "outputs": [],
   "source": [
    "class trial2(emp,trial):\n",
    "    pass"
   ]
  },
  {
   "cell_type": "code",
   "execution_count": 69,
   "id": "7cdbf9f6-5a41-4915-be3e-0c0c103c71d5",
   "metadata": {},
   "outputs": [
    {
     "data": {
      "text/plain": [
       "[__main__.trial2,\n",
       " __main__.emp,\n",
       " __main__.Student,\n",
       " __main__.Person,\n",
       " __main__.trial,\n",
       " __main__.Marks,\n",
       " object]"
      ]
     },
     "execution_count": 69,
     "metadata": {},
     "output_type": "execute_result"
    }
   ],
   "source": [
    "trial2.mro()"
   ]
  },
  {
   "cell_type": "code",
   "execution_count": 70,
   "id": "f7860687-aed2-416f-9fde-2edcf72db59e",
   "metadata": {},
   "outputs": [
    {
     "ename": "TypeError",
     "evalue": "Person.__init__() missing 1 required positional argument: 'lname'",
     "output_type": "error",
     "traceback": [
      "\u001b[0;31m---------------------------------------------------------------------------\u001b[0m",
      "\u001b[0;31mTypeError\u001b[0m                                 Traceback (most recent call last)",
      "Cell \u001b[0;32mIn[70], line 1\u001b[0m\n\u001b[0;32m----> 1\u001b[0m y \u001b[38;5;241m=\u001b[39m \u001b[43mtrial2\u001b[49m\u001b[43m(\u001b[49m\u001b[38;5;241;43m34\u001b[39;49m\u001b[43m)\u001b[49m\n",
      "\u001b[0;31mTypeError\u001b[0m: Person.__init__() missing 1 required positional argument: 'lname'"
     ]
    }
   ],
   "source": [
    "y = trial2(34)"
   ]
  },
  {
   "cell_type": "code",
   "execution_count": 62,
   "id": "9b9d6b3a-7ee7-45e3-94d9-5f1516588791",
   "metadata": {},
   "outputs": [
    {
     "data": {
      "text/plain": [
       "'Hello'"
      ]
     },
     "execution_count": 62,
     "metadata": {},
     "output_type": "execute_result"
    }
   ],
   "source": [
    "y.firstname"
   ]
  },
  {
   "cell_type": "code",
   "execution_count": 19,
   "id": "e304ead1-e79e-46dd-ad22-82dc5f71a5b7",
   "metadata": {},
   "outputs": [
    {
     "name": "stdout",
     "output_type": "stream",
     "text": [
      "Gourav Gulia\n"
     ]
    }
   ],
   "source": [
    "y.printname()"
   ]
  },
  {
   "cell_type": "code",
   "execution_count": 38,
   "id": "da9391e3-6ddd-4450-be03-4b042d1b00b6",
   "metadata": {},
   "outputs": [],
   "source": [
    "y = Student('Hello','World')\n",
    "\n",
    "# MRO -> Method Resolution Order"
   ]
  },
  {
   "cell_type": "code",
   "execution_count": 49,
   "id": "bf927948-4441-489c-a63b-48f3d75333c7",
   "metadata": {},
   "outputs": [
    {
     "data": {
      "text/plain": [
       "[__main__.Student, __main__.Marks, __main__.Person, object]"
      ]
     },
     "execution_count": 49,
     "metadata": {},
     "output_type": "execute_result"
    }
   ],
   "source": [
    "Student.mro()"
   ]
  },
  {
   "cell_type": "code",
   "execution_count": 39,
   "id": "d0f0cc7b-2e34-4302-8107-83adb20835b9",
   "metadata": {},
   "outputs": [
    {
     "data": {
      "text/plain": [
       "'World'"
      ]
     },
     "execution_count": 39,
     "metadata": {},
     "output_type": "execute_result"
    }
   ],
   "source": [
    "y.name"
   ]
  },
  {
   "cell_type": "code",
   "execution_count": 122,
   "id": "9a455bd3-8896-44a7-a30d-df1fbaf7c872",
   "metadata": {},
   "outputs": [],
   "source": [
    "class Marks:\n",
    "    def __init__(self,marks,name):\n",
    "        self.__marks = marks\n",
    "        self.name = name\n",
    "\n",
    "\n",
    "    def report(self):\n",
    "        print(self.__marks)"
   ]
  },
  {
   "cell_type": "code",
   "execution_count": 123,
   "id": "bd7b8464-c480-44ff-86d6-4206bcbd6714",
   "metadata": {},
   "outputs": [],
   "source": [
    "c1 =Marks(34,'Gourav')"
   ]
  },
  {
   "cell_type": "code",
   "execution_count": 124,
   "id": "4ab55ddb-c0ef-4d1c-9fa5-83d61b44a496",
   "metadata": {},
   "outputs": [
    {
     "name": "stdout",
     "output_type": "stream",
     "text": [
      "34\n"
     ]
    }
   ],
   "source": [
    "c1."
   ]
  },
  {
   "cell_type": "code",
   "execution_count": 114,
   "id": "d69764ed-b4b0-47f2-b059-767e71dd9529",
   "metadata": {},
   "outputs": [],
   "source": [
    "class Child(Marks):\n",
    "    def __init__(self,fname,lname,mname):\n",
    "        super().__init__(fname,mname)\n",
    "        print('Hello world')"
   ]
  },
  {
   "cell_type": "code",
   "execution_count": 115,
   "id": "5f20e75e-e1fe-4969-9c1f-4ec591bf5c22",
   "metadata": {},
   "outputs": [
    {
     "name": "stdout",
     "output_type": "stream",
     "text": [
      "Hello world\n"
     ]
    }
   ],
   "source": [
    "c1 = Child('Gulia','Gourav','Gulia')"
   ]
  },
  {
   "cell_type": "code",
   "execution_count": 116,
   "id": "dc7ea8ed-daf3-4e95-b9cc-6d086b54426f",
   "metadata": {},
   "outputs": [
    {
     "name": "stdout",
     "output_type": "stream",
     "text": [
      "Gulia\n"
     ]
    }
   ],
   "source": [
    "c1.report()"
   ]
  },
  {
   "cell_type": "code",
   "execution_count": 129,
   "id": "ddf3a05c-5248-46ea-8640-ccd22d12c55f",
   "metadata": {},
   "outputs": [],
   "source": [
    "class BOB:\n",
    "    def __init__(self,uname,password):\n",
    "        self.uname = uname\n",
    "        self.__password = password\n",
    "        self.__balance = 10000\n",
    "\n",
    "\n",
    "    def balance(self):\n",
    "        if (self.uname == 'Gourav' and self.__password == 123):\n",
    "            return f'Hey  {self.uname} your balance is {self.__balance}'\n",
    "        else:\n",
    "            raise Exception('Access Denied')\n",
    "            \n",
    "            "
   ]
  },
  {
   "cell_type": "code",
   "execution_count": 132,
   "id": "fee3d705-850d-44f7-b350-181a544e53bf",
   "metadata": {},
   "outputs": [],
   "source": [
    "u1 = BOB('Gourav',123)"
   ]
  },
  {
   "cell_type": "code",
   "execution_count": 133,
   "id": "95a59f2d-2463-4c3e-9f6d-cc5b8790dada",
   "metadata": {},
   "outputs": [
    {
     "data": {
      "text/plain": [
       "'Hey  Gourav your balance is 10000'"
      ]
     },
     "execution_count": 133,
     "metadata": {},
     "output_type": "execute_result"
    }
   ],
   "source": [
    "u1.balance()"
   ]
  },
  {
   "cell_type": "code",
   "execution_count": null,
   "id": "28b8d07f-f1fb-4cf7-a95c-d451ed333685",
   "metadata": {},
   "outputs": [],
   "source": [
    "u1.balance()"
   ]
  },
  {
   "cell_type": "code",
   "execution_count": 1,
   "id": "e9ba4807-c424-436a-9151-eb3a8cb79b84",
   "metadata": {},
   "outputs": [
    {
     "name": "stdout",
     "output_type": "stream",
     "text": [
      "This is a Class method\n",
      "Value of class variable 10\n"
     ]
    }
   ],
   "source": [
    "class GFGClass:\n",
    "  class_var = 10\n",
    "  \n",
    "  @classmethod\n",
    "    # decorators\n",
    "  def gfg_class_method(cls):\n",
    "    print(\"This is a Class method\")\n",
    "    print(f\"Value of class variable {cls.class_var}\")\n",
    "\n",
    "GFGClass.gfg_class_method()"
   ]
  },
  {
   "cell_type": "code",
   "execution_count": 2,
   "id": "fa544727-017b-4d82-ac8d-98a82a8a701e",
   "metadata": {},
   "outputs": [],
   "source": [
    "a1 = GFGClass()"
   ]
  },
  {
   "cell_type": "code",
   "execution_count": 5,
   "id": "37df485a-e2ac-4056-9884-53ae0ca49825",
   "metadata": {},
   "outputs": [
    {
     "name": "stdout",
     "output_type": "stream",
     "text": [
      "This is a Class method\n",
      "Value of class variable 10\n"
     ]
    }
   ],
   "source": [
    "a1.gfg_class_method()"
   ]
  },
  {
   "cell_type": "code",
   "execution_count": null,
   "id": "c7f41ba3-5c33-41e1-baf0-79ebfca9fc5b",
   "metadata": {},
   "outputs": [],
   "source": []
  },
  {
   "cell_type": "code",
   "execution_count": null,
   "id": "536522ff-bb77-4968-afd2-4a536182e367",
   "metadata": {},
   "outputs": [],
   "source": []
  },
  {
   "cell_type": "code",
   "execution_count": 12,
   "id": "bb29d039-e432-46f4-9c6b-b23232f108ca",
   "metadata": {},
   "outputs": [],
   "source": [
    "class Person:\n",
    "    def __init__(self,name,age):\n",
    "        self.name = name\n",
    "        self.age = age\n",
    "\n",
    "    @staticmethod\n",
    "    def Results():\n",
    "        print('Hello World')"
   ]
  },
  {
   "cell_type": "code",
   "execution_count": 13,
   "id": "ac9a0e99-a1af-40d8-842a-74ef8429e827",
   "metadata": {},
   "outputs": [],
   "source": [
    "a1 = Person('Gourav',23)\n",
    "\n"
   ]
  },
  {
   "cell_type": "code",
   "execution_count": 15,
   "id": "dda022a2-e801-4adc-a11f-7ac224dcef4e",
   "metadata": {},
   "outputs": [
    {
     "name": "stdout",
     "output_type": "stream",
     "text": [
      "Hello World\n"
     ]
    }
   ],
   "source": [
    "a1.Results()"
   ]
  },
  {
   "cell_type": "code",
   "execution_count": 29,
   "id": "2993ab29-7c8e-4d96-ae82-df700e3e5c3d",
   "metadata": {},
   "outputs": [],
   "source": [
    "from typing import final\n",
    "\n",
    "class Base:\n",
    "    @final\n",
    "    def done(self):\n",
    "        print(\"Base\")"
   ]
  },
  {
   "cell_type": "code",
   "execution_count": 30,
   "id": "c9ac30db-76d1-46db-a642-6de64c2cbda4",
   "metadata": {},
   "outputs": [],
   "source": [
    "class Child(Base):\n",
    "    def done(self):  # Error: Method \"done\" cannot override final method defined in class \"Base\" \n",
    "        print(\"Child\")"
   ]
  },
  {
   "cell_type": "code",
   "execution_count": 31,
   "id": "62d3c326-ea46-4be9-990d-3588f6968bf8",
   "metadata": {},
   "outputs": [],
   "source": [
    "a1 = Child()"
   ]
  },
  {
   "cell_type": "code",
   "execution_count": 32,
   "id": "231a9053-2cd7-4be9-af8a-09cf1745770b",
   "metadata": {},
   "outputs": [
    {
     "name": "stdout",
     "output_type": "stream",
     "text": [
      "Child\n"
     ]
    }
   ],
   "source": [
    "a1.done()"
   ]
  },
  {
   "cell_type": "code",
   "execution_count": 25,
   "id": "c21d17b6-951c-4cad-b769-28aca3709502",
   "metadata": {},
   "outputs": [],
   "source": [
    "from typing import final"
   ]
  },
  {
   "cell_type": "code",
   "execution_count": 26,
   "id": "406bc418-e78d-4154-bb06-e0f2ac65dc6f",
   "metadata": {},
   "outputs": [],
   "source": [
    "@final\n",
    "class Geek:\n",
    "    pass\n",
    "\n",
    "class Other(Geek):  # Error: Base class \"Geek\" is marked final and cannot be subclassed\n",
    "    pass\n"
   ]
  },
  {
   "cell_type": "code",
   "execution_count": 27,
   "id": "235bc335-20e1-4a19-a4f9-545e183d43bb",
   "metadata": {},
   "outputs": [],
   "source": [
    "a1 = Other()"
   ]
  },
  {
   "cell_type": "code",
   "execution_count": 43,
   "id": "f2ac6bbc-6eb0-4b0f-8f8b-c4ea9315420d",
   "metadata": {},
   "outputs": [
    {
     "ename": "TypeError",
     "evalue": "final() missing 1 required positional argument: 'f'",
     "output_type": "error",
     "traceback": [
      "\u001b[0;31m---------------------------------------------------------------------------\u001b[0m",
      "\u001b[0;31mTypeError\u001b[0m                                 Traceback (most recent call last)",
      "Cell \u001b[0;32mIn[43], line 3\u001b[0m\n\u001b[1;32m      1\u001b[0m \u001b[38;5;28;01mfrom\u001b[39;00m \u001b[38;5;21;01mtyping\u001b[39;00m \u001b[38;5;28;01mimport\u001b[39;00m final\n\u001b[0;32m----> 3\u001b[0m \u001b[38;5;129m@typing\u001b[39m\u001b[38;5;241;43m.\u001b[39;49m\u001b[43mfinal\u001b[49m\u001b[43m(\u001b[49m\u001b[43m)\u001b[49m\n\u001b[1;32m      4\u001b[0m \u001b[38;5;28;01mclass\u001b[39;00m \u001b[38;5;21;01mLeaf\u001b[39;00m:\n\u001b[1;32m      5\u001b[0m     \u001b[38;5;28;01mdef\u001b[39;00m \u001b[38;5;21m__init__\u001b[39m(\u001b[38;5;28mself\u001b[39m,name,age):\n\u001b[1;32m      6\u001b[0m         \u001b[38;5;28mself\u001b[39m\u001b[38;5;241m.\u001b[39mname \u001b[38;5;241m=\u001b[39m name\n",
      "\u001b[0;31mTypeError\u001b[0m: final() missing 1 required positional argument: 'f'"
     ]
    }
   ],
   "source": [
    "from typing import final\n",
    "\n",
    "@typing.final()\n",
    "class Leaf:\n",
    "    def __init__(self,name,age):\n",
    "        self.name = name\n",
    "        self.age = age\n",
    "\n",
    "class MyLeaf(Leaf):  # Error: Leaf can't be subclassed\n",
    "    ..."
   ]
  },
  {
   "cell_type": "code",
   "execution_count": 40,
   "id": "5f493ac0-a414-4d78-89a0-169f69950e71",
   "metadata": {},
   "outputs": [],
   "source": [
    "a1 = MyLeaf('Gourav',23)"
   ]
  },
  {
   "cell_type": "code",
   "execution_count": 44,
   "id": "47eb2532-2128-4fef-97c8-4e9fc0f56d08",
   "metadata": {},
   "outputs": [],
   "source": [
    "class Base:\n",
    "    @final\n",
    "    def done(self) -> None:\n",
    "        ...\n",
    "class Sub(Base):\n",
    "    def done(self) -> None:  # Error reported by type checker\n",
    "          ...\n",
    "\n",
    "@final\n",
    "class Leaf:\n",
    "    ...\n",
    "class Other(Leaf):  # Error reported by type checker\n",
    "    ..."
   ]
  },
  {
   "cell_type": "code",
   "execution_count": 45,
   "id": "bdaf8d53-accd-4112-ad1a-18d08c6bafc7",
   "metadata": {},
   "outputs": [
    {
     "ename": "ValueError",
     "evalue": "duplicate values found in <enum 'Days'>: THURSDAY -> TUESDAY",
     "output_type": "error",
     "traceback": [
      "\u001b[0;31m---------------------------------------------------------------------------\u001b[0m",
      "\u001b[0;31mValueError\u001b[0m                                Traceback (most recent call last)",
      "Cell \u001b[0;32mIn[45], line 3\u001b[0m\n\u001b[1;32m      1\u001b[0m \u001b[38;5;28;01mfrom\u001b[39;00m \u001b[38;5;21;01menum\u001b[39;00m \u001b[38;5;28;01mimport\u001b[39;00m Enum, unique\n\u001b[0;32m----> 3\u001b[0m \u001b[38;5;129;43m@unique\u001b[39;49m\n\u001b[1;32m      4\u001b[0m \u001b[38;5;28;43;01mclass\u001b[39;49;00m\u001b[43m \u001b[49m\u001b[38;5;21;43;01mDays\u001b[39;49;00m\u001b[43m(\u001b[49m\u001b[43mEnum\u001b[49m\u001b[43m)\u001b[49m\u001b[43m:\u001b[49m\n\u001b[1;32m      5\u001b[0m \u001b[43m    \u001b[49m\u001b[43mMONDAY\u001b[49m\u001b[43m \u001b[49m\u001b[38;5;241;43m=\u001b[39;49m\u001b[43m \u001b[49m\u001b[38;5;241;43m1\u001b[39;49m\n\u001b[1;32m      6\u001b[0m \u001b[43m    \u001b[49m\u001b[43mTUESDAY\u001b[49m\u001b[43m \u001b[49m\u001b[38;5;241;43m=\u001b[39;49m\u001b[43m \u001b[49m\u001b[38;5;241;43m2\u001b[39;49m\n",
      "File \u001b[0;32m/usr/lib/python3.12/enum.py:1623\u001b[0m, in \u001b[0;36munique\u001b[0;34m(enumeration)\u001b[0m\n\u001b[1;32m   1620\u001b[0m \u001b[38;5;28;01mif\u001b[39;00m duplicates:\n\u001b[1;32m   1621\u001b[0m     alias_details \u001b[38;5;241m=\u001b[39m \u001b[38;5;124m'\u001b[39m\u001b[38;5;124m, \u001b[39m\u001b[38;5;124m'\u001b[39m\u001b[38;5;241m.\u001b[39mjoin(\n\u001b[1;32m   1622\u001b[0m             [\u001b[38;5;124m\"\u001b[39m\u001b[38;5;132;01m%s\u001b[39;00m\u001b[38;5;124m -> \u001b[39m\u001b[38;5;132;01m%s\u001b[39;00m\u001b[38;5;124m\"\u001b[39m \u001b[38;5;241m%\u001b[39m (alias, name) \u001b[38;5;28;01mfor\u001b[39;00m (alias, name) \u001b[38;5;129;01min\u001b[39;00m duplicates])\n\u001b[0;32m-> 1623\u001b[0m     \u001b[38;5;28;01mraise\u001b[39;00m \u001b[38;5;167;01mValueError\u001b[39;00m(\u001b[38;5;124m'\u001b[39m\u001b[38;5;124mduplicate values found in \u001b[39m\u001b[38;5;132;01m%r\u001b[39;00m\u001b[38;5;124m: \u001b[39m\u001b[38;5;132;01m%s\u001b[39;00m\u001b[38;5;124m'\u001b[39m \u001b[38;5;241m%\u001b[39m\n\u001b[1;32m   1624\u001b[0m             (enumeration, alias_details))\n\u001b[1;32m   1625\u001b[0m \u001b[38;5;28;01mreturn\u001b[39;00m enumeration\n",
      "\u001b[0;31mValueError\u001b[0m: duplicate values found in <enum 'Days'>: THURSDAY -> TUESDAY"
     ]
    }
   ],
   "source": [
    "from enum import Enum, unique\n",
    "\n",
    "@unique\n",
    "class Days(Enum):\n",
    "    MONDAY = 1\n",
    "    TUESDAY = 2\n",
    "    WEDNESDAY = 3\n",
    "    THURSDAY = 2 # ValueError: duplicate values found in <enum 'Days'>: THURSDAY -> TUESDAY\n"
   ]
  },
  {
   "cell_type": "code",
   "execution_count": null,
   "id": "17830817-b45f-44da-979e-f9beb16a533d",
   "metadata": {},
   "outputs": [],
   "source": []
  },
  {
   "cell_type": "code",
   "execution_count": 46,
   "id": "839dfc4e-d242-4373-9fbd-f3ae157060b9",
   "metadata": {},
   "outputs": [
    {
     "name": "stdout",
     "output_type": "stream",
     "text": [
      "HI, I AM CREATED BY A FUNCTION PASSED AS AN ARGUMENT.\n",
      "hi, i am created by a function passed as an argument.\n"
     ]
    }
   ],
   "source": [
    "# Python program to illustrate functions \n",
    "# can be passed as arguments to other functions \n",
    "def shout(text): \n",
    "    return text.upper() \n",
    "\n",
    "def whisper(text): \n",
    "    return text.lower() \n",
    "\n",
    "def greet(func): \n",
    "    # storing the function in a variable \n",
    "    greeting = func(\"\"\"Hi, I am created by a function passed as an argument.\"\"\") \n",
    "    print (greeting) \n",
    "\n",
    "greet(shout) \n",
    "greet(text.upper())\n",
    "greet(whisper) \n"
   ]
  },
  {
   "cell_type": "code",
   "execution_count": 50,
   "id": "d56629fe-0e3d-4b91-8deb-7ca7f1e576c6",
   "metadata": {},
   "outputs": [
    {
     "data": {
      "text/plain": [
       "'H'"
      ]
     },
     "execution_count": 50,
     "metadata": {},
     "output_type": "execute_result"
    }
   ],
   "source": [
    "\"h\".upper()"
   ]
  },
  {
   "cell_type": "code",
   "execution_count": null,
   "id": "fdde5ea6-4e17-43d7-baa2-ba82989acd44",
   "metadata": {},
   "outputs": [],
   "source": []
  },
  {
   "cell_type": "code",
   "execution_count": null,
   "id": "61f150dc-96f1-45ef-b9d8-611c9842a246",
   "metadata": {},
   "outputs": [],
   "source": []
  },
  {
   "cell_type": "code",
   "execution_count": 53,
   "id": "6c7319d4-1789-4d17-8d35-942d95dc57aa",
   "metadata": {},
   "outputs": [
    {
     "name": "stdout",
     "output_type": "stream",
     "text": [
      "25\n"
     ]
    }
   ],
   "source": [
    "# Python program to illustrate functions \n",
    "# Functions can return another function \n",
    "\n",
    "def create_adder(x): \n",
    "    def adder(y): \n",
    "        return x+y \n",
    "\n",
    "    return adder \n",
    "\n",
    "add_15 = create_adder(15) \n",
    "\n",
    "print(add_15(10)) \n"
   ]
  },
  {
   "cell_type": "code",
   "execution_count": 54,
   "id": "9985162a-7fd0-46aa-9a45-dc605d33eed6",
   "metadata": {},
   "outputs": [],
   "source": [
    "def person(name):\n",
    "    def marks(marks):\n",
    "        return f'Hey {name} Your marks is {marks}'\n",
    "    return marks"
   ]
  },
  {
   "cell_type": "code",
   "execution_count": 61,
   "id": "f300e84c-9ec9-4a2d-887e-0c1148c1c7a4",
   "metadata": {},
   "outputs": [
    {
     "data": {
      "text/plain": [
       "'Hey Gourav Your marks is 89'"
      ]
     },
     "execution_count": 61,
     "metadata": {},
     "output_type": "execute_result"
    }
   ],
   "source": [
    "person('Gourav')(89)"
   ]
  },
  {
   "cell_type": "code",
   "execution_count": 62,
   "id": "6f90e362-5524-408e-bdf5-0f5b98f2c240",
   "metadata": {},
   "outputs": [],
   "source": [
    "# Python code to demonstrate calling the \n",
    "# function from another function\n",
    "\n",
    "def Square(X):\n",
    "    # computes the Square of the given number \n",
    "    # and return to the caller function\n",
    "    return (X * X)\n",
    "\n",
    "def SumofSquares(Array, n):\n",
    "\n",
    "    # Initialize variable Sum to 0. It stores the \n",
    "    # Total sum of squares of the array of elements\n",
    "    Sum = 0\n",
    "    for i in range(n):\n",
    "\n",
    "        # Square of Array[i] element is stored in SquaredValue\n",
    "        SquaredValue = Square(Array[i])\n",
    "\n",
    "        # Cumulative sum is stored in Sum variable\n",
    "        Sum += SquaredValue\n",
    "    return Sum"
   ]
  },
  {
   "cell_type": "code",
   "execution_count": 64,
   "id": "4dc1bc23-f112-43a6-a0e5-eb9a7947c9c4",
   "metadata": {},
   "outputs": [
    {
     "name": "stdout",
     "output_type": "stream",
     "text": [
      "Sum of the Square of List of Numbers: 385\n"
     ]
    }
   ],
   "source": [
    "# Driver Function\n",
    "Array = [1, 2, 3, 4, 5, 6, 7, 8, 9, 10]\n",
    "n = len(Array)\n",
    "\n",
    "# Return value from the function \n",
    "# Sum of Squares is stored in Total\n",
    "Total = SumofSquares(Array, n)\n",
    "print(\"Sum of the Square of List of Numbers:\", Total)"
   ]
  },
  {
   "cell_type": "code",
   "execution_count": 65,
   "id": "5c463b36-0442-4705-9702-9b48d755a37d",
   "metadata": {},
   "outputs": [
    {
     "data": {
      "text/plain": [
       "4"
      ]
     },
     "execution_count": 65,
     "metadata": {},
     "output_type": "execute_result"
    }
   ],
   "source": [
    "2+2"
   ]
  },
  {
   "cell_type": "code",
   "execution_count": 66,
   "id": "02c4138d-c330-4536-8203-9ee0bef5884a",
   "metadata": {},
   "outputs": [
    {
     "data": {
      "text/plain": [
       "'hh'"
      ]
     },
     "execution_count": 66,
     "metadata": {},
     "output_type": "execute_result"
    }
   ],
   "source": [
    "'h' + 'h'"
   ]
  },
  {
   "cell_type": "code",
   "execution_count": 67,
   "id": "1d7fbc5a-26c1-410d-9026-b126f1d4dcf6",
   "metadata": {},
   "outputs": [
    {
     "ename": "TypeError",
     "evalue": "can only concatenate str (not \"int\") to str",
     "output_type": "error",
     "traceback": [
      "\u001b[0;31m---------------------------------------------------------------------------\u001b[0m",
      "\u001b[0;31mTypeError\u001b[0m                                 Traceback (most recent call last)",
      "Cell \u001b[0;32mIn[67], line 1\u001b[0m\n\u001b[0;32m----> 1\u001b[0m \u001b[38;5;124;43m'\u001b[39;49m\u001b[38;5;124;43mh\u001b[39;49m\u001b[38;5;124;43m'\u001b[39;49m\u001b[43m \u001b[49m\u001b[38;5;241;43m+\u001b[39;49m\u001b[43m \u001b[49m\u001b[38;5;241;43m2\u001b[39;49m\n",
      "\u001b[0;31mTypeError\u001b[0m: can only concatenate str (not \"int\") to str"
     ]
    }
   ],
   "source": [
    "'h' + 2"
   ]
  }
 ],
 "metadata": {
  "kernelspec": {
   "display_name": "Python 3 (ipykernel)",
   "language": "python",
   "name": "python3"
  },
  "language_info": {
   "codemirror_mode": {
    "name": "ipython",
    "version": 3
   },
   "file_extension": ".py",
   "mimetype": "text/x-python",
   "name": "python",
   "nbconvert_exporter": "python",
   "pygments_lexer": "ipython3",
   "version": "3.12.3"
  }
 },
 "nbformat": 4,
 "nbformat_minor": 5
}
