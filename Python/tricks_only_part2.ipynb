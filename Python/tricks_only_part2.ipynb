{
 "cells": [
  {
   "cell_type": "code",
   "execution_count": 5,
   "id": "931acc64-79e9-4b53-b8f4-83b0ad0ce224",
   "metadata": {},
   "outputs": [
    {
     "data": {
      "text/plain": [
       "5"
      ]
     },
     "execution_count": 5,
     "metadata": {},
     "output_type": "execute_result"
    }
   ],
   "source": [
    "len('hello world'.split(' ')[0])"
   ]
  },
  {
   "cell_type": "code",
   "execution_count": 38,
   "id": "05bf7e65-2b9c-4742-804b-f6d3437bdc8d",
   "metadata": {},
   "outputs": [],
   "source": [
    "ip = \"\"\"\n",
    "\n",
    "\"Sed ut perspiciatis unde omnis iste natus error sit voluptatem accusantium doloremque laudantium, totam rem aperiam, eaque ipsa quae ab illo inventore veritatis et quasi architecto beatae vitae dicta sunt explicabo. Nemo enim ipsam voluptatem quia voluptas sit aspernatur aut odit aut fugit, sed quia consequuntur magni dolores eos qui ratione voluptatem sequi nesciunt. Neque porro quisquam est, qui dolorem ipsum quia dolor sit amet, consectetur, adipisci velit, sed quia non numquam eius modi tempora incidunt ut labore et dolore magnam aliquam quaerat voluptatem. Ut enim ad minima veniam, quis nostrum exercitationem ullam corporis suscipit laboriosam, nisi ut aliquid ex ea commodi consequatur? Quis autem vel eum iure reprehenderit qui in ea voluptate velit esse quam nihil molestiae consequatur, vel illum qui dolorem eum fugiat quo voluptas nulla pariatur?\"\n",
    "\"\"\""
   ]
  },
  {
   "cell_type": "code",
   "execution_count": 41,
   "id": "12b5fbb0-9911-439c-ae2a-4b1168468500",
   "metadata": {},
   "outputs": [
    {
     "data": {
      "text/plain": [
       "{'\\n\\n\"Sed',\n",
       " 'Nemo',\n",
       " 'Neque',\n",
       " 'Quis',\n",
       " 'Ut',\n",
       " 'ab',\n",
       " 'accusantium',\n",
       " 'ad',\n",
       " 'adipisci',\n",
       " 'aliquam',\n",
       " 'aliquid',\n",
       " 'amet,',\n",
       " 'aperiam,',\n",
       " 'architecto',\n",
       " 'aspernatur',\n",
       " 'aut',\n",
       " 'autem',\n",
       " 'beatae',\n",
       " 'commodi',\n",
       " 'consectetur,',\n",
       " 'consequatur,',\n",
       " 'consequatur?',\n",
       " 'consequuntur',\n",
       " 'corporis',\n",
       " 'dicta',\n",
       " 'dolor',\n",
       " 'dolore',\n",
       " 'dolorem',\n",
       " 'doloremque',\n",
       " 'dolores',\n",
       " 'ea',\n",
       " 'eaque',\n",
       " 'eius',\n",
       " 'enim',\n",
       " 'eos',\n",
       " 'error',\n",
       " 'esse',\n",
       " 'est,',\n",
       " 'et',\n",
       " 'eum',\n",
       " 'ex',\n",
       " 'exercitationem',\n",
       " 'explicabo.',\n",
       " 'fugiat',\n",
       " 'fugit,',\n",
       " 'illo',\n",
       " 'illum',\n",
       " 'in',\n",
       " 'incidunt',\n",
       " 'inventore',\n",
       " 'ipsa',\n",
       " 'ipsam',\n",
       " 'ipsum',\n",
       " 'iste',\n",
       " 'iure',\n",
       " 'labore',\n",
       " 'laboriosam,',\n",
       " 'laudantium,',\n",
       " 'magnam',\n",
       " 'magni',\n",
       " 'minima',\n",
       " 'modi',\n",
       " 'molestiae',\n",
       " 'natus',\n",
       " 'nesciunt.',\n",
       " 'nihil',\n",
       " 'nisi',\n",
       " 'non',\n",
       " 'nostrum',\n",
       " 'nulla',\n",
       " 'numquam',\n",
       " 'odit',\n",
       " 'omnis',\n",
       " 'pariatur?\"\\n',\n",
       " 'perspiciatis',\n",
       " 'porro',\n",
       " 'quae',\n",
       " 'quaerat',\n",
       " 'quam',\n",
       " 'quasi',\n",
       " 'qui',\n",
       " 'quia',\n",
       " 'quis',\n",
       " 'quisquam',\n",
       " 'quo',\n",
       " 'ratione',\n",
       " 'rem',\n",
       " 'reprehenderit',\n",
       " 'sed',\n",
       " 'sequi',\n",
       " 'sit',\n",
       " 'sunt',\n",
       " 'suscipit',\n",
       " 'tempora',\n",
       " 'totam',\n",
       " 'ullam',\n",
       " 'unde',\n",
       " 'ut',\n",
       " 'vel',\n",
       " 'velit',\n",
       " 'velit,',\n",
       " 'veniam,',\n",
       " 'veritatis',\n",
       " 'vitae',\n",
       " 'voluptas',\n",
       " 'voluptate',\n",
       " 'voluptatem',\n",
       " 'voluptatem.'}"
      ]
     },
     "execution_count": 41,
     "metadata": {},
     "output_type": "execute_result"
    }
   ],
   "source": [
    "# set(ip.split(' '))\n",
    "{1:[1,2,3],\n",
    "2:[2,4,6,8]}"
   ]
  },
  {
   "cell_type": "code",
   "execution_count": 42,
   "id": "1b1476e1-c51b-4e06-87d3-d1272c5b5af0",
   "metadata": {},
   "outputs": [],
   "source": [
    "data = ip.split(' ')"
   ]
  },
  {
   "cell_type": "code",
   "execution_count": 44,
   "id": "3fcc2711-7192-4d6d-8caf-1c82a4821585",
   "metadata": {},
   "outputs": [],
   "source": [
    "# data"
   ]
  },
  {
   "cell_type": "code",
   "execution_count": 34,
   "id": "504c42b3-153c-40be-bd45-5022c04332c6",
   "metadata": {},
   "outputs": [],
   "source": [
    "# {key:value for value in }"
   ]
  },
  {
   "cell_type": "code",
   "execution_count": 35,
   "id": "d2405048-e72d-4286-b812-2a2ff6781040",
   "metadata": {},
   "outputs": [
    {
     "data": {
      "text/plain": [
       "'apple banana apple cherry cherry cherry cherry'"
      ]
     },
     "execution_count": 35,
     "metadata": {},
     "output_type": "execute_result"
    }
   ],
   "source": [
    "ip"
   ]
  },
  {
   "cell_type": "code",
   "execution_count": 33,
   "id": "ed703e45-7b1d-497b-857a-c3698d8857d0",
   "metadata": {},
   "outputs": [
    {
     "data": {
      "text/plain": [
       "{'apple', 'banana', 'cherry'}"
      ]
     },
     "execution_count": 33,
     "metadata": {},
     "output_type": "execute_result"
    }
   ],
   "source": [
    "set(data)"
   ]
  },
  {
   "cell_type": "code",
   "execution_count": 47,
   "id": "eeb731d5-bcdd-44c7-98e5-69476ea2fad8",
   "metadata": {},
   "outputs": [],
   "source": [
    "# {word:data.count(word) for word in set(ip.split(' '))}"
   ]
  },
  {
   "cell_type": "code",
   "execution_count": null,
   "id": "a4db9024-e041-4a34-b158-ffa0014cf1e2",
   "metadata": {},
   "outputs": [],
   "source": []
  },
  {
   "cell_type": "code",
   "execution_count": 18,
   "id": "0e465554-aa70-4fa8-92d3-82f2282e8001",
   "metadata": {},
   "outputs": [],
   "source": [
    "# data.count(set(data))"
   ]
  },
  {
   "cell_type": "code",
   "execution_count": 19,
   "id": "9e44e6a7-540d-436f-9129-6685f15e550b",
   "metadata": {},
   "outputs": [
    {
     "data": {
      "text/plain": [
       "{'apple', 'banana', 'cherry'}"
      ]
     },
     "execution_count": 19,
     "metadata": {},
     "output_type": "execute_result"
    }
   ],
   "source": [
    "set(data)"
   ]
  },
  {
   "cell_type": "code",
   "execution_count": 9,
   "id": "28bf8168-2f2a-40af-a645-cf4986be4d51",
   "metadata": {},
   "outputs": [
    {
     "data": {
      "text/plain": [
       "2"
      ]
     },
     "execution_count": 9,
     "metadata": {},
     "output_type": "execute_result"
    }
   ],
   "source": [
    "a = (2,2)\n",
    "a.count(2)"
   ]
  },
  {
   "cell_type": "code",
   "execution_count": 78,
   "id": "720bd5b4-f008-4a76-be3c-cd35f3ad4c4f",
   "metadata": {},
   "outputs": [
    {
     "data": {
      "text/plain": [
       "{1: [1, 2, 3, 4, 5, 6, 7, 8, 9, 10],\n",
       " 2: [2, 4, 6, 8, 10, 12, 14, 16, 18, 20],\n",
       " 3: [3, 6, 9, 12, 15, 18, 21, 24, 27, 30],\n",
       " 4: [4, 8, 12, 16, 20, 24, 28, 32, 36, 40],\n",
       " 5: [5, 10, 15, 20, 25, 30, 35, 40, 45, 50],\n",
       " 6: [6, 12, 18, 24, 30, 36, 42, 48, 54, 60],\n",
       " 7: [7, 14, 21, 28, 35, 42, 49, 56, 63, 70],\n",
       " 8: [8, 16, 24, 32, 40, 48, 56, 64, 72, 80],\n",
       " 9: [9, 18, 27, 36, 45, 54, 63, 72, 81, 90],\n",
       " 10: [10, 20, 30, 40, 50, 60, 70, 80, 90, 100]}"
      ]
     },
     "execution_count": 78,
     "metadata": {},
     "output_type": "execute_result"
    }
   ],
   "source": [
    "# [x for x in range(4,4*11,4)]\n",
    "{key:([x for x in range(key,key*11,key)])for key in range(1,11)}"
   ]
  },
  {
   "cell_type": "code",
   "execution_count": null,
   "id": "7d73ce17-4133-4fa9-bc15-378b2cead605",
   "metadata": {},
   "outputs": [],
   "source": [
    "{1: {1:[1], 2:[1,2], 3:[1,2,3], 4:[1,2,3,4]}"
   ]
  },
  {
   "cell_type": "code",
   "execution_count": 79,
   "id": "3de5c1ee-4c16-432a-b3aa-3cbc7c919fb7",
   "metadata": {},
   "outputs": [],
   "source": [
    "# # [x for x in range(4,4*11,4)]\n",
    "# {key:([f'{key}*{x} = {key*x}' for x in range(key,11)])for key in range(1,11)}"
   ]
  },
  {
   "cell_type": "code",
   "execution_count": 93,
   "id": "7d6ec47e-fbd9-4b16-9751-8d57039e0dfb",
   "metadata": {},
   "outputs": [],
   "source": [
    "# {key:{key:{key:{key:[x for x in range(1,key+1,2)] for key in range(1,20)} for key in range(6)} for key in range(1,key+1)}for key in range(1,11)}"
   ]
  },
  {
   "cell_type": "code",
   "execution_count": 100,
   "id": "bc834b31-44c1-44bd-b094-5fbb17bb966a",
   "metadata": {},
   "outputs": [],
   "source": [
    "# list tricks\n",
    "def abc(x,y,z):\n",
    "    return x + y + z"
   ]
  },
  {
   "cell_type": "code",
   "execution_count": 107,
   "id": "f062ad39-5f51-4f52-9eb1-9aaa1bc7947b",
   "metadata": {},
   "outputs": [
    {
     "data": {
      "text/plain": [
       "6"
      ]
     },
     "execution_count": 107,
     "metadata": {},
     "output_type": "execute_result"
    }
   ],
   "source": [
    "abc(*{1:'f',2:'d',3:'f'})"
   ]
  },
  {
   "cell_type": "code",
   "execution_count": 108,
   "id": "8275d1aa-2779-40bb-bd56-91cfe42a3a2e",
   "metadata": {},
   "outputs": [],
   "source": [
    "# permutations"
   ]
  },
  {
   "cell_type": "code",
   "execution_count": 109,
   "id": "90502dfb-b891-4495-ae92-6b61d196d9e1",
   "metadata": {},
   "outputs": [],
   "source": [
    "a = 'abc'"
   ]
  },
  {
   "cell_type": "code",
   "execution_count": 111,
   "id": "263f96aa-10d2-4557-930b-8415f161db58",
   "metadata": {},
   "outputs": [
    {
     "data": {
      "text/plain": [
       "[('a', 'b', 'c'),\n",
       " ('a', 'c', 'b'),\n",
       " ('b', 'a', 'c'),\n",
       " ('b', 'c', 'a'),\n",
       " ('c', 'a', 'b'),\n",
       " ('c', 'b', 'a')]"
      ]
     },
     "execution_count": 111,
     "metadata": {},
     "output_type": "execute_result"
    }
   ],
   "source": [
    "from itertools import permutations\n",
    "list(permutations(a))"
   ]
  },
  {
   "attachments": {
    "788b22e4-0bb0-492b-afba-38c99701893d.png": {
     "image/png": "[encoded data removed]"
    }
   },
   "cell_type": "markdown",
   "id": "60aaf4c2-0adf-4c67-953a-671dfdd8d36c",
   "metadata": {},
   "source": [
    "![image.png](attachment:788b22e4-0bb0-492b-afba-38c99701893d.png)"
   ]
  },
  {
   "cell_type": "code",
   "execution_count": 112,
   "id": "83bc216f-00f8-4d81-b0c1-1505824935c8",
   "metadata": {},
   "outputs": [],
   "source": [
    "# generators"
   ]
  },
  {
   "cell_type": "code",
   "execution_count": 113,
   "id": "3e07d9e2-565d-4e08-b3eb-210d31b111db",
   "metadata": {},
   "outputs": [],
   "source": [
    "# lazy loading"
   ]
  },
  {
   "cell_type": "code",
   "execution_count": 259,
   "id": "c14fc1dc-85f4-4a77-8848-1d3c494c5a62",
   "metadata": {},
   "outputs": [],
   "source": [
    "def generate_input():\n",
    "    while True:\n",
    "        yield input()"
   ]
  },
  {
   "cell_type": "code",
   "execution_count": 260,
   "id": "49f68e15-2271-4f45-a799-32f24ce4d255",
   "metadata": {},
   "outputs": [],
   "source": [
    "a = generate_input()"
   ]
  },
  {
   "cell_type": "code",
   "execution_count": 266,
   "id": "5f73d3a7-ea4c-4580-8e53-d40d6f30fd4f",
   "metadata": {},
   "outputs": [
    {
     "data": {
      "text/plain": [
       "<generator object generate_input at 0x7c65120f3d70>"
      ]
     },
     "execution_count": 266,
     "metadata": {},
     "output_type": "execute_result"
    }
   ],
   "source": [
    "generate_input()"
   ]
  },
  {
   "cell_type": "code",
   "execution_count": null,
   "id": "3f23b821-046f-4a6b-a21f-61e25da37f00",
   "metadata": {},
   "outputs": [],
   "source": []
  },
  {
   "cell_type": "code",
   "execution_count": 218,
   "id": "f175aa91-02f8-4f6b-b7af-dd4e8a9aa11e",
   "metadata": {},
   "outputs": [],
   "source": [
    "# next(a)"
   ]
  },
  {
   "cell_type": "code",
   "execution_count": null,
   "id": "989727a8-2049-478f-849a-08ddc24093fe",
   "metadata": {},
   "outputs": [],
   "source": []
  },
  {
   "cell_type": "code",
   "execution_count": null,
   "id": "71370b10-ee16-40a2-8fb2-051d9974689b",
   "metadata": {},
   "outputs": [],
   "source": []
  },
  {
   "cell_type": "code",
   "execution_count": 172,
   "id": "b3f5ec38-10fb-468e-8561-8a87bf4915b1",
   "metadata": {},
   "outputs": [
    {
     "data": {
      "text/plain": [
       "7"
      ]
     },
     "execution_count": 172,
     "metadata": {},
     "output_type": "execute_result"
    }
   ],
   "source": [
    "next(a)\n",
    "next(a)\n",
    "next(a)"
   ]
  },
  {
   "cell_type": "code",
   "execution_count": null,
   "id": "511a6012-a201-49f7-9b4d-2b8c6aec5b9b",
   "metadata": {},
   "outputs": [],
   "source": []
  },
  {
   "cell_type": "code",
   "execution_count": null,
   "id": "16a5b310-52f7-4dc8-bf08-8c26e3ab1190",
   "metadata": {},
   "outputs": [],
   "source": []
  }
 ],
 "metadata": {
  "kernelspec": {
   "display_name": "Python 3 (ipykernel)",
   "language": "python",
   "name": "python3"
  },
  "language_info": {
   "codemirror_mode": {
    "name": "ipython",
    "version": 3
   },
   "file_extension": ".py",
   "mimetype": "text/x-python",
   "name": "python",
   "nbconvert_exporter": "python",
   "pygments_lexer": "ipython3",
   "version": "3.12.3"
  }
 },
 "nbformat": 4,
 "nbformat_minor": 5
}
