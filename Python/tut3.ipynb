{
 "cells": [
  {
   "cell_type": "code",
   "execution_count": 1,
   "id": "46003b21-0dcd-4c05-bb21-b419dd7e4285",
   "metadata": {},
   "outputs": [],
   "source": [
    "# palindrome"
   ]
  },
  {
   "cell_type": "code",
   "execution_count": 12,
   "id": "2962193a-1a39-4fbe-be1c-0b296914c406",
   "metadata": {},
   "outputs": [],
   "source": []
  },
  {
   "cell_type": "code",
   "execution_count": 14,
   "id": "100248af-e5e1-4e4e-81d8-4609e746ad9c",
   "metadata": {},
   "outputs": [
    {
     "data": {
      "text/plain": [
       "False"
      ]
     },
     "execution_count": 14,
     "metadata": {},
     "output_type": "execute_result"
    }
   ],
   "source": [
    "abc('sumit')"
   ]
  },
  {
   "cell_type": "code",
   "execution_count": 15,
   "id": "5829d6af-dd5a-4299-b8f0-b5d3b27c8ca2",
   "metadata": {},
   "outputs": [],
   "source": []
  },
  {
   "cell_type": "code",
   "execution_count": 16,
   "id": "a504a8ee-65f8-4b58-b445-da6c544d2da9",
   "metadata": {},
   "outputs": [
    {
     "ename": "TypeError",
     "evalue": "abc() takes 1 positional argument but 2 were given",
     "output_type": "error",
     "traceback": [
      "\u001b[0;31m---------------------------------------------------------------------------\u001b[0m",
      "\u001b[0;31mTypeError\u001b[0m                                 Traceback (most recent call last)",
      "Cell \u001b[0;32mIn[16], line 1\u001b[0m\n\u001b[0;32m----> 1\u001b[0m \u001b[43mabc\u001b[49m\u001b[43m(\u001b[49m\u001b[38;5;124;43m'\u001b[39;49m\u001b[38;5;124;43mSumit\u001b[39;49m\u001b[38;5;124;43m'\u001b[39;49m\u001b[43m,\u001b[49m\u001b[38;5;124;43m'\u001b[39;49m\u001b[38;5;124;43mNaman\u001b[39;49m\u001b[38;5;124;43m'\u001b[39;49m\u001b[43m)\u001b[49m\n",
      "\u001b[0;31mTypeError\u001b[0m: abc() takes 1 positional argument but 2 were given"
     ]
    }
   ],
   "source": [
    "abc('Sumit','Naman')"
   ]
  },
  {
   "cell_type": "code",
   "execution_count": 17,
   "id": "18884f9d-31be-496a-8cbd-391e3c2366fe",
   "metadata": {},
   "outputs": [],
   "source": [
    "# fx (argument,*args,**kwargs)"
   ]
  },
  {
   "cell_type": "code",
   "execution_count": 18,
   "id": "7ea204da-fcd1-4577-9257-556b31e3131f",
   "metadata": {},
   "outputs": [],
   "source": [
    "# * non keyword positional argument\n",
    "# ** keyword argument"
   ]
  },
  {
   "cell_type": "code",
   "execution_count": 21,
   "id": "3a9e79ba-1d9f-4a80-b39b-5ecb947f5f8e",
   "metadata": {},
   "outputs": [],
   "source": [
    "# the user should have the capability to enter more then 1 input but the fx should have only argument\n",
    "def abc(*x:str)->bool:\n",
    "    \"\"\"\n",
    "    x: Takes non keyword positional argument as a string and return bool if the string is palindrome or otherwise.\n",
    "    \"\"\"\n",
    "    return x == x[::-1]"
   ]
  },
  {
   "cell_type": "code",
   "execution_count": 26,
   "id": "e4de0026-a47b-45be-9138-69c60675e459",
   "metadata": {},
   "outputs": [
    {
     "data": {
      "text/plain": [
       "('Sumit', 'naman', 'mohit')"
      ]
     },
     "execution_count": 26,
     "metadata": {},
     "output_type": "execute_result"
    }
   ],
   "source": [
    "abc('Sumit','naman','mohit')"
   ]
  },
  {
   "cell_type": "code",
   "execution_count": 31,
   "id": "10ba5e41-14b8-4ecd-a7c1-0c644891e3f7",
   "metadata": {},
   "outputs": [],
   "source": [
    "# the user should have the capability to enter more then 1 input but the fx should have only argument\n",
    "def abc(*x:str)->bool:\n",
    "    \"\"\"\n",
    "    x: Takes non keyword positional argument as a string and return bool if the string is palindrome or otherwise.\n",
    "    \"\"\"\n",
    "    return x"
   ]
  },
  {
   "cell_type": "code",
   "execution_count": 32,
   "id": "18ca7188-01fa-490d-84cb-290a1939e150",
   "metadata": {},
   "outputs": [
    {
     "data": {
      "text/plain": [
       "('fjfj', 'dsjudh')"
      ]
     },
     "execution_count": 32,
     "metadata": {},
     "output_type": "execute_result"
    }
   ],
   "source": [
    "abc('fjfj','dsjudh')"
   ]
  },
  {
   "cell_type": "code",
   "execution_count": 33,
   "id": "8568a11b-a1a4-47b6-8d14-9b0bed916b7c",
   "metadata": {},
   "outputs": [
    {
     "data": {
      "text/plain": [
       "False"
      ]
     },
     "execution_count": 33,
     "metadata": {},
     "output_type": "execute_result"
    }
   ],
   "source": [
    "'hello' == 'helllo'"
   ]
  },
  {
   "cell_type": "code",
   "execution_count": 34,
   "id": "ddcea8a6-4e55-481b-a8b9-2a9ca3fd9d49",
   "metadata": {},
   "outputs": [],
   "source": [
    "d  = ('Sumit','naman','mohit')"
   ]
  },
  {
   "cell_type": "code",
   "execution_count": 39,
   "id": "d0a5a206-44cf-4e74-99e8-a30351fefa26",
   "metadata": {},
   "outputs": [],
   "source": [
    "b = [x for x in d if x == x[::-1]]"
   ]
  },
  {
   "cell_type": "code",
   "execution_count": 41,
   "id": "52cfa2c2-47a9-42f8-bcbe-a1f49b7f8574",
   "metadata": {},
   "outputs": [],
   "source": [
    "b = ['True' if x == x[::-1] else 'False' for x in d]"
   ]
  },
  {
   "cell_type": "code",
   "execution_count": 92,
   "id": "8238da03-3d96-46aa-8c96-f28de20b51a6",
   "metadata": {},
   "outputs": [],
   "source": [
    "def abc(*x:str)->bool:\n",
    "    \"\"\"\n",
    "    x: Takes non keyword positional argument as a string and return bool if the string is palindrome or otherwise.\n",
    "    \"\"\"\n",
    "    return [True if x.lower() == x.lower()[::-1] else False for x in x]"
   ]
  },
  {
   "cell_type": "code",
   "execution_count": 93,
   "id": "092b268a-4342-4f82-a4a9-2e16a9823af8",
   "metadata": {},
   "outputs": [
    {
     "data": {
      "text/plain": [
       "[True, False, False, False]"
      ]
     },
     "execution_count": 93,
     "metadata": {},
     "output_type": "execute_result"
    }
   ],
   "source": [
    "abc('naman','sumit','arun','GoUrav')"
   ]
  },
  {
   "cell_type": "code",
   "execution_count": 49,
   "id": "1bb1aef1-3409-427e-9f66-0d4493fe4398",
   "metadata": {},
   "outputs": [],
   "source": [
    "# List Comprehension"
   ]
  },
  {
   "cell_type": "code",
   "execution_count": 51,
   "id": "30459b15-4ab5-4f4a-ba4c-9aef80df8076",
   "metadata": {},
   "outputs": [
    {
     "data": {
      "text/plain": [
       "[0, 1, 2, 3, 4, 5, 6, 7, 8, 9]"
      ]
     },
     "execution_count": 51,
     "metadata": {},
     "output_type": "execute_result"
    }
   ],
   "source": [
    "temp = []\n",
    "for _ in range(10):\n",
    "    temp.append(_)\n",
    "temp"
   ]
  },
  {
   "cell_type": "code",
   "execution_count": 52,
   "id": "8ee8c809-c23f-4740-b20e-7a30bcdb09a9",
   "metadata": {},
   "outputs": [],
   "source": [
    "temp = [ x for x in range(10) ]"
   ]
  },
  {
   "cell_type": "code",
   "execution_count": 54,
   "id": "1b5fea08-965d-4e8c-8cdf-e717e29706f0",
   "metadata": {},
   "outputs": [],
   "source": [
    "# write a code to print natural numbers from 10-300"
   ]
  },
  {
   "cell_type": "code",
   "execution_count": 58,
   "id": "b88e4926-ba15-4794-8388-7249e7121b57",
   "metadata": {},
   "outputs": [],
   "source": [
    "# write a code to print everyu number which is divisible by 4 from 1-100"
   ]
  },
  {
   "cell_type": "code",
   "execution_count": 63,
   "id": "352d7979-7f40-4bd4-aff4-2d4ca1997fb6",
   "metadata": {},
   "outputs": [],
   "source": [
    "# [ x for x in range(1,101) if (x % 4 == 0 or x % 3 == 0)]"
   ]
  },
  {
   "cell_type": "code",
   "execution_count": 65,
   "id": "6ef9001b-fd9c-48dc-a39e-2e94a869b08e",
   "metadata": {},
   "outputs": [],
   "source": [
    "# [ x for x in range(1,101) if (x % 4 == 0 or x % 3 == 0) else 'NO']"
   ]
  },
  {
   "cell_type": "code",
   "execution_count": 71,
   "id": "2542a3e4-a4b0-4a77-8702-7bf21d288098",
   "metadata": {},
   "outputs": [],
   "source": [
    "# ['True' if x % 2 == 0 else 'False' for x in range(1,100) ]"
   ]
  },
  {
   "cell_type": "code",
   "execution_count": 72,
   "id": "417ed4f0-fee4-45b2-baf2-dc62fc28c0a2",
   "metadata": {},
   "outputs": [],
   "source": [
    "# write a program that will return 'Fizzy' if a number is divisible by 3 and 4 but not divisible by 7\n",
    "# and 'Fuzz' otherwise."
   ]
  },
  {
   "cell_type": "code",
   "execution_count": 76,
   "id": "23ca0f48-6d4c-4707-8c59-cdec13756467",
   "metadata": {},
   "outputs": [],
   "source": [
    "# (3 + 5) * 2"
   ]
  },
  {
   "cell_type": "code",
   "execution_count": 82,
   "id": "20560ae9-8fae-409f-aeb9-47a06ce33139",
   "metadata": {},
   "outputs": [
    {
     "data": {
      "text/plain": [
       "['1 is Fuzz',\n",
       " '2 is Fuzz',\n",
       " '3 is Fuzz',\n",
       " '4 is Fuzz',\n",
       " '5 is Fuzz',\n",
       " '6 is Fuzz',\n",
       " '7 is Fuzz',\n",
       " '8 is Fuzz',\n",
       " '9 is Fuzz',\n",
       " '10 is Fuzz',\n",
       " '11 is Fuzz',\n",
       " '12 is Fizzy',\n",
       " '13 is Fuzz',\n",
       " '14 is Fuzz',\n",
       " '15 is Fuzz',\n",
       " '16 is Fuzz',\n",
       " '17 is Fuzz',\n",
       " '18 is Fuzz',\n",
       " '19 is Fuzz',\n",
       " '20 is Fuzz']"
      ]
     },
     "execution_count": 82,
     "metadata": {},
     "output_type": "execute_result"
    }
   ],
   "source": [
    "[f'{x} is Fizzy' if (x % 3 == 0 and x % 4 == 0) and not (x % 7 == 0) else f'{x} is Fuzz' for x in range(1,21)]"
   ]
  },
  {
   "cell_type": "code",
   "execution_count": 97,
   "id": "0b66c495-79c2-4b0a-ad7b-ad71370bae64",
   "metadata": {},
   "outputs": [],
   "source": [
    "def xyz(a,*b,**c):\n",
    "    return a,b,c"
   ]
  },
  {
   "cell_type": "code",
   "execution_count": 101,
   "id": "6c1f31cf-aa11-4255-b616-5c8a3d43513e",
   "metadata": {},
   "outputs": [
    {
     "data": {
      "text/plain": [
       "(1, (2, 3, 4, 5), {'name': 'gourav', 'age': 10})"
      ]
     },
     "execution_count": 101,
     "metadata": {},
     "output_type": "execute_result"
    }
   ],
   "source": [
    "xyz(1,2,3,4,5,name='gourav',age=10)"
   ]
  },
  {
   "cell_type": "code",
   "execution_count": null,
   "id": "7d4bdfd2-377b-4cfe-af6c-e1c03edffd82",
   "metadata": {},
   "outputs": [],
   "source": [
    "print()"
   ]
  },
  {
   "cell_type": "code",
   "execution_count": 116,
   "id": "0761ebe5-26d3-4462-a57b-e2363f8ce07d",
   "metadata": {},
   "outputs": [],
   "source": [
    "def abc(**x:str)->bool:\n",
    "    \"\"\"\n",
    "    x: Takes non keyword positional argument as a string and return bool if the string is palindrome or otherwise.\n",
    "    \"\"\"\n",
    "    return [True if x.lower() == x.lower()[::-1] else False for x in [y for y in x.values()]]"
   ]
  },
  {
   "cell_type": "code",
   "execution_count": 117,
   "id": "68df76f1-8fc7-422c-98fa-5a78544f1fcf",
   "metadata": {},
   "outputs": [
    {
     "data": {
      "text/plain": [
       "[False, True]"
      ]
     },
     "execution_count": 117,
     "metadata": {},
     "output_type": "execute_result"
    }
   ],
   "source": [
    "abc(n1 = 'Gourav',n2 = 'Naman')"
   ]
  },
  {
   "cell_type": "code",
   "execution_count": 113,
   "id": "ca8ec5d2-cf8a-49e5-b21b-aae933dfbb5b",
   "metadata": {},
   "outputs": [],
   "source": [
    "d = {\n",
    "    'n':1,\n",
    "    'm':2\n",
    "}"
   ]
  },
  {
   "cell_type": "code",
   "execution_count": 115,
   "id": "9ee2cd54-82c1-413c-ad3b-3b4e4e745fd1",
   "metadata": {},
   "outputs": [
    {
     "data": {
      "text/plain": [
       "[1, 2]"
      ]
     },
     "execution_count": 115,
     "metadata": {},
     "output_type": "execute_result"
    }
   ],
   "source": [
    "[x for x in d.values()]"
   ]
  },
  {
   "cell_type": "code",
   "execution_count": null,
   "id": "e0fa4770-1686-4b66-a785-5925e7607b73",
   "metadata": {},
   "outputs": [],
   "source": []
  },
  {
   "cell_type": "code",
   "execution_count": null,
   "id": "00b5cd22-8f18-4507-8f57-b02b25a13277",
   "metadata": {},
   "outputs": [],
   "source": []
  }
 ],
 "metadata": {
  "kernelspec": {
   "display_name": "Python 3 (ipykernel)",
   "language": "python",
   "name": "python3"
  },
  "language_info": {
   "codemirror_mode": {
    "name": "ipython",
    "version": 3
   },
   "file_extension": ".py",
   "mimetype": "text/x-python",
   "name": "python",
   "nbconvert_exporter": "python",
   "pygments_lexer": "ipython3",
   "version": "3.12.3"
  }
 },
 "nbformat": 4,
 "nbformat_minor": 5
}
