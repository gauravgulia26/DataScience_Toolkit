{
 "cells": [
  {
   "cell_type": "code",
   "execution_count": 1,
   "id": "f63ec218-3591-4be8-89f3-61b729af96ae",
   "metadata": {},
   "outputs": [],
   "source": [
    "# write a program to print upto 10"
   ]
  },
  {
   "cell_type": "code",
   "execution_count": 4,
   "id": "f227a4c0-86af-45e0-aa3f-142528ff92a7",
   "metadata": {},
   "outputs": [
    {
     "name": "stdout",
     "output_type": "stream",
     "text": [
      "1\n",
      "2\n",
      "3\n",
      "4\n",
      "5\n",
      "6\n",
      "7\n",
      "8\n",
      "9\n",
      "10\n"
     ]
    }
   ],
   "source": [
    "for i in range(1,11):\n",
    "    print(i)"
   ]
  },
  {
   "cell_type": "code",
   "execution_count": 5,
   "id": "bee4e390-332b-4b6e-bcec-44d5ac7ea649",
   "metadata": {},
   "outputs": [
    {
     "name": "stdout",
     "output_type": "stream",
     "text": [
      "1\n",
      "2\n",
      "3\n",
      "4\n",
      "5\n",
      "6\n",
      "7\n",
      "8\n",
      "9\n",
      "10\n"
     ]
    }
   ],
   "source": [
    "i = 1\n",
    "while i < 11:\n",
    "    print(i)\n",
    "    i+=1"
   ]
  },
  {
   "cell_type": "code",
   "execution_count": 7,
   "id": "cdaa16c2-b79f-4ad8-97f1-bb55a7f79bfe",
   "metadata": {},
   "outputs": [
    {
     "name": "stdout",
     "output_type": "stream",
     "text": [
      "1\n",
      "2\n",
      "3\n",
      "4\n",
      "5\n",
      "6\n",
      "7\n",
      "8\n",
      "9\n",
      "10\n"
     ]
    }
   ],
   "source": [
    "i = 1\n",
    "while True:\n",
    "    print(i)\n",
    "    i+=1\n",
    "    if i == 11:\n",
    "        break"
   ]
  },
  {
   "cell_type": "code",
   "execution_count": 8,
   "id": "6e2184fc-6072-4c61-80ad-7a2a96f633cc",
   "metadata": {},
   "outputs": [],
   "source": [
    "# continue vs pass vs break"
   ]
  },
  {
   "cell_type": "code",
   "execution_count": 14,
   "id": "0e412d20-4f24-4ed6-8e91-31ff6c481030",
   "metadata": {},
   "outputs": [
    {
     "name": "stdout",
     "output_type": "stream",
     "text": [
      "1\n",
      "2\n",
      "3\n",
      "4\n",
      "5\n",
      "6\n",
      "7\n",
      "8\n",
      "9\n",
      "10\n",
      "11\n",
      "13\n",
      "14\n",
      "15\n",
      "16\n",
      "17\n",
      "18\n",
      "19\n",
      "20\n"
     ]
    }
   ],
   "source": []
  },
  {
   "cell_type": "code",
   "execution_count": 15,
   "id": "bd60f403-0d7f-4e1b-bcf2-855885469339",
   "metadata": {},
   "outputs": [],
   "source": [
    "def abc(x):\n",
    "    pass"
   ]
  },
  {
   "cell_type": "code",
   "execution_count": 25,
   "id": "62b04571-67d6-4ad7-8302-e62597f2e531",
   "metadata": {},
   "outputs": [],
   "source": [
    "# i = 1\n",
    "# while i < 11:\n",
    "#     if i == 4:\n",
    "#         continue\n",
    "#     print(i)\n",
    "#     i+=1"
   ]
  },
  {
   "cell_type": "code",
   "execution_count": 26,
   "id": "f8a87bc0-0d61-4667-9072-e681aeb7dc27",
   "metadata": {},
   "outputs": [],
   "source": [
    "# return vs print"
   ]
  },
  {
   "cell_type": "code",
   "execution_count": 49,
   "id": "46b67fd2-a50d-4d31-8532-7540175f14f3",
   "metadata": {},
   "outputs": [],
   "source": [
    "def abc(x):\n",
    "    return x * 10"
   ]
  },
  {
   "cell_type": "code",
   "execution_count": 52,
   "id": "c7dc449e-3b6f-4067-b600-8998fc0a2de3",
   "metadata": {},
   "outputs": [
    {
     "data": {
      "text/plain": [
       "'Hey 100'"
      ]
     },
     "execution_count": 52,
     "metadata": {},
     "output_type": "execute_result"
    }
   ],
   "source": [
    "abc(10)"
   ]
  },
  {
   "cell_type": "code",
   "execution_count": 47,
   "id": "216927d8-5ea4-4931-a62c-5cec31713e91",
   "metadata": {},
   "outputs": [
    {
     "data": {
      "text/plain": [
       "200"
      ]
     },
     "execution_count": 47,
     "metadata": {},
     "output_type": "execute_result"
    }
   ],
   "source": [
    "abc(20)"
   ]
  },
  {
   "cell_type": "code",
   "execution_count": 53,
   "id": "f1bb3976-de1a-4411-9f95-81064a43211a",
   "metadata": {},
   "outputs": [],
   "source": [
    "# *args and **kwargs"
   ]
  },
  {
   "cell_type": "code",
   "execution_count": 55,
   "id": "5416c4fc-71e1-48f7-aa19-ee17fab888ab",
   "metadata": {},
   "outputs": [],
   "source": [
    "a = lambda x: x + 10"
   ]
  },
  {
   "cell_type": "code",
   "execution_count": null,
   "id": "749a8d0e-8652-4938-94f4-75170620535e",
   "metadata": {},
   "outputs": [],
   "source": []
  },
  {
   "cell_type": "code",
   "execution_count": 60,
   "id": "ff5beccc-da13-4435-83dd-3935f34b2f7c",
   "metadata": {},
   "outputs": [],
   "source": [
    "# *args"
   ]
  },
  {
   "cell_type": "code",
   "execution_count": 61,
   "id": "fc5318d7-8976-43d7-8b53-e0451a16b5d9",
   "metadata": {},
   "outputs": [],
   "source": [
    "# args -> positional fixed argument\n",
    "# *args -> Positional variable argument"
   ]
  },
  {
   "cell_type": "code",
   "execution_count": 91,
   "id": "cc86f3f9-e8b6-43d1-ac9b-9701432d5d24",
   "metadata": {},
   "outputs": [],
   "source": [
    "def abc(*y):\n",
    "    if len(y) == 3:\n",
    "        a,b,c = y\n",
    "        return a + b +c\n",
    "    else:\n",
    "        print('These values are not allowed !!')"
   ]
  },
  {
   "cell_type": "code",
   "execution_count": 92,
   "id": "b124c020-6310-460f-82e1-add7cad8a4cb",
   "metadata": {},
   "outputs": [
    {
     "name": "stdout",
     "output_type": "stream",
     "text": [
      "These values are not allowed !!\n"
     ]
    }
   ],
   "source": [
    "abc(10,30)"
   ]
  },
  {
   "cell_type": "code",
   "execution_count": 93,
   "id": "22d95a1c-e8d0-404a-8a2f-3a5086b4cc6c",
   "metadata": {},
   "outputs": [],
   "source": [
    "# write a program to find the euclidean distance"
   ]
  },
  {
   "cell_type": "code",
   "execution_count": 117,
   "id": "aea31d79-8fff-4be1-a442-4371d008bdfd",
   "metadata": {},
   "outputs": [],
   "source": [
    "def Euclid(x1,y1,*z):\n",
    "    if len(z) == 2:\n",
    "        x2,y2 = z\n",
    "        if all(isinstance(i,(int,float)) for i in [x1,y1,x2,y2]):\n",
    "            return ((y2 - y1)**2 + (x2 - x1)**2)**0.5\n",
    "        else:\n",
    "            print('Please Enter only int or float values')\n",
    "    else:\n",
    "        print('Invalid Arugent !! Please enter only two values of Z for 2-D')"
   ]
  },
  {
   "cell_type": "code",
   "execution_count": 120,
   "id": "8c81f754-12e9-45a5-98d0-c522eda0eb9f",
   "metadata": {},
   "outputs": [
    {
     "name": "stdout",
     "output_type": "stream",
     "text": [
      "Invalid Arugent !! Please enter only two values of Z for 2-D\n"
     ]
    }
   ],
   "source": [
    "Euclid(10,11,20)"
   ]
  },
  {
   "cell_type": "code",
   "execution_count": 123,
   "id": "52e2b099-d81b-4ce3-9f93-2a1812c4cb56",
   "metadata": {},
   "outputs": [
    {
     "data": {
      "text/plain": [
       "False"
      ]
     },
     "execution_count": 123,
     "metadata": {},
     "output_type": "execute_result"
    }
   ],
   "source": [
    "all([True,False,True])"
   ]
  },
  {
   "cell_type": "code",
   "execution_count": null,
   "id": "1179d671-252b-419e-8985-b079f6d7addd",
   "metadata": {},
   "outputs": [],
   "source": [
    "# aditya anjali piyush gagan gurmeet varun renu"
   ]
  },
  {
   "cell_type": "code",
   "execution_count": null,
   "id": "35a68b81-3cb1-4e5f-8f2d-ce6f37417dbb",
   "metadata": {},
   "outputs": [],
   "source": []
  },
  {
   "cell_type": "code",
   "execution_count": null,
   "id": "6ebd0acb-ea17-4996-803b-675412204a80",
   "metadata": {},
   "outputs": [],
   "source": []
  },
  {
   "cell_type": "code",
   "execution_count": null,
   "id": "6ca12e31-ea5c-4035-b91c-760995a5bcdd",
   "metadata": {},
   "outputs": [],
   "source": []
  },
  {
   "cell_type": "code",
   "execution_count": null,
   "id": "2fc43e9e-460b-44a8-b04b-860ebde07756",
   "metadata": {},
   "outputs": [],
   "source": []
  }
 ],
 "metadata": {
  "kernelspec": {
   "display_name": "Python 3 (ipykernel)",
   "language": "python",
   "name": "python3"
  },
  "language_info": {
   "codemirror_mode": {
    "name": "ipython",
    "version": 3
   },
   "file_extension": ".py",
   "mimetype": "text/x-python",
   "name": "python",
   "nbconvert_exporter": "python",
   "pygments_lexer": "ipython3",
   "version": "3.12.3"
  }
 },
 "nbformat": 4,
 "nbformat_minor": 5
}
