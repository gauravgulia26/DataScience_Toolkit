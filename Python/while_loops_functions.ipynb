{
 "cells": [
  {
   "cell_type": "code",
   "execution_count": 46,
   "id": "87c45f55-61d5-45e0-a65d-dbd3be59322c",
   "metadata": {},
   "outputs": [
    {
     "name": "stdin",
     "output_type": "stream",
     "text": [
      "Enter the Password 3\n"
     ]
    },
    {
     "name": "stdout",
     "output_type": "stream",
     "text": [
      "Wrong Password Availaible attempts 2\n"
     ]
    },
    {
     "name": "stdin",
     "output_type": "stream",
     "text": [
      "Enter the Password f\n"
     ]
    },
    {
     "name": "stdout",
     "output_type": "stream",
     "text": [
      "Wrong Password Availaible attempts 1\n"
     ]
    },
    {
     "name": "stdin",
     "output_type": "stream",
     "text": [
      "Enter the Password h\n"
     ]
    },
    {
     "name": "stdout",
     "output_type": "stream",
     "text": [
      "Too Many Attempts\n"
     ]
    }
   ],
   "source": [
    "password = 'hello'\n",
    "ct = 0\n",
    "avl = 3\n",
    "while True:\n",
    "    a = input('Enter the Password')\n",
    "    ct +=1\n",
    "    avl -=1\n",
    "    if a.casefold() == 'hello':\n",
    "        print('Access Granted')\n",
    "        break\n",
    "    else:\n",
    "        if ct == 3:\n",
    "            print('Too Many Attempts')\n",
    "            break\n",
    "        else:\n",
    "            print(f'Wrong Password Availaible attempts {avl}')"
   ]
  },
  {
   "cell_type": "code",
   "execution_count": 47,
   "id": "90404ff7-2ae5-4f0b-b832-81deb223fb9e",
   "metadata": {},
   "outputs": [],
   "source": []
  },
  {
   "cell_type": "code",
   "execution_count": 48,
   "id": "521ec735-9c02-4fad-8076-a4f3ee1c99a2",
   "metadata": {},
   "outputs": [],
   "source": [
    "# aditya anjali renu piyush gagan varun abhay gurmmet"
   ]
  },
  {
   "cell_type": "code",
   "execution_count": 52,
   "id": "bc2da10c-e439-41d4-8423-4da55a56bfa5",
   "metadata": {},
   "outputs": [],
   "source": [
    "# Write a function to rotate an array to the right by k steps. \n",
    "# For example, if the input array is [1, 2, 3, 4, 5, 6] and k = 2, the output should be [5, 6, 1, 2, 3, 4]."
   ]
  },
  {
   "cell_type": "code",
   "execution_count": 53,
   "id": "f5abaad3-619f-4f79-8d69-de9342699dfd",
   "metadata": {},
   "outputs": [],
   "source": [
    "# Write a while loop to find the first number greater than 50 that is divisible by 13. \n",
    "# Use a counter to keep track of how many iterations the loop executes. \n",
    "# Use the else block to print the number of iterations if the loop ends without finding such a number."
   ]
  },
  {
   "cell_type": "code",
   "execution_count": 54,
   "id": "501ac7c3-21b6-4b99-987c-01f6e4f48224",
   "metadata": {},
   "outputs": [],
   "source": [
    "# Write a while loop that keeps asking the user to input a number. \n",
    "# If the number is negative, use continue to ask again without processing it. \n",
    "# If the number is divisible by 5, print \"Divisible by 5\" and exit the loop using break. \n",
    "# Otherwise, print \"Not divisible by 5\". \n",
    "# Use else to print \"No valid input received\" if the loop ends without any break."
   ]
  },
  {
   "cell_type": "code",
   "execution_count": 55,
   "id": "9bb93bfe-d6c5-4df0-9f90-23c5d122f1e2",
   "metadata": {},
   "outputs": [],
   "source": []
  },
  {
   "cell_type": "code",
   "execution_count": 61,
   "id": "78faebb0-eccd-4dae-9dde-59bb3a05e470",
   "metadata": {},
   "outputs": [],
   "source": [
    "# i = 0\n",
    "# while i <20:\n",
    "#     print(i)\n",
    "#     i+=1\n",
    "# else:\n",
    "#     print('Hello')"
   ]
  },
  {
   "cell_type": "code",
   "execution_count": null,
   "id": "a6af3ca8-00f4-4e6e-9433-8ede3f388e70",
   "metadata": {},
   "outputs": [],
   "source": []
  },
  {
   "cell_type": "code",
   "execution_count": 62,
   "id": "f7d97e0d-874a-403e-8f20-8ad4d95019c6",
   "metadata": {},
   "outputs": [],
   "source": [
    "# Write a while loop to find the first number greater than 50 that is divisible by 13. \n",
    "# Use a counter to keep track of how many iterations the loop executes. \n",
    "# Use the else block to print the number of iterations if the loop ends without finding such a number."
   ]
  },
  {
   "cell_type": "code",
   "execution_count": 80,
   "id": "6134a819-7c5d-4970-86a9-3d4d22700a5e",
   "metadata": {},
   "outputs": [
    {
     "name": "stdout",
     "output_type": "stream",
     "text": [
      "52 is the first number found after 2 iterartions.\n"
     ]
    }
   ],
   "source": [
    "i = 51\n",
    "ct = 0\n",
    "while i < 10000:\n",
    "    ct +=1\n",
    "    if i % 13 == 0:\n",
    "        print(f'{i} is the first number found after {ct} iterartions.')\n",
    "        break\n",
    "    i+=1\n",
    "else:\n",
    "    print(f'There is no number which is divisible by 13 after {ct} iterations.')"
   ]
  },
  {
   "cell_type": "code",
   "execution_count": 81,
   "id": "81b0fbbc-6efc-4017-b896-a345ee21d8d1",
   "metadata": {},
   "outputs": [],
   "source": [
    "# Write a while loop that keeps asking the user to input a number. \n",
    "# If the number is negative, use continue to ask again without processing it. \n",
    "# If the number is divisible by 5, print \"Divisible by 5\" and exit the loop using break. \n",
    "# Otherwise, print \"Not divisible by 5\". \n",
    "# Use else to print \"No valid input received\" if the loop ends without any break."
   ]
  },
  {
   "cell_type": "code",
   "execution_count": 84,
   "id": "f02121b2-febb-43df-9b0f-5bc582a3cc26",
   "metadata": {},
   "outputs": [
    {
     "name": "stdin",
     "output_type": "stream",
     "text": [
      " 3\n"
     ]
    },
    {
     "name": "stdout",
     "output_type": "stream",
     "text": [
      "Not Divisible by 5\n"
     ]
    },
    {
     "name": "stdin",
     "output_type": "stream",
     "text": [
      " 9\n"
     ]
    },
    {
     "name": "stdout",
     "output_type": "stream",
     "text": [
      "Not Divisible by 5\n"
     ]
    },
    {
     "name": "stdin",
     "output_type": "stream",
     "text": [
      " 7\n"
     ]
    },
    {
     "name": "stdout",
     "output_type": "stream",
     "text": [
      "Not Divisible by 5\n"
     ]
    },
    {
     "name": "stdin",
     "output_type": "stream",
     "text": [
      " -1\n",
      " 5\n"
     ]
    },
    {
     "name": "stdout",
     "output_type": "stream",
     "text": [
      "Divisible by 5\n"
     ]
    }
   ],
   "source": [
    "while True:\n",
    "    a = int(input())\n",
    "    if a < 0:\n",
    "        continue\n",
    "    elif a % 5 == 0:\n",
    "        print('Divisible by 5')\n",
    "        break\n",
    "    else:\n",
    "        print('Not Divisible by 5')\n",
    "else:\n",
    "    print('No Valid Input')"
   ]
  },
  {
   "cell_type": "code",
   "execution_count": 85,
   "id": "5cf4eefc-8d53-4a64-833f-5827b2ef34cd",
   "metadata": {},
   "outputs": [],
   "source": [
    "# Write a while loop that checks numbers starting from 1. If a number divisible by 9 is found, \n",
    "# the loop should stop using break. \n",
    "# If no number less than 50 is divisible by 9, \n",
    "# the loop should execute the else block to print a message saying no such number was found."
   ]
  },
  {
   "cell_type": "code",
   "execution_count": 96,
   "id": "774c7e0c-8b88-465e-bf28-aee48c1e7dba",
   "metadata": {},
   "outputs": [
    {
     "name": "stdout",
     "output_type": "stream",
     "text": [
      "9\n"
     ]
    }
   ],
   "source": [
    "i = 1\n",
    "while i < 51:\n",
    "    if i % 9 == 0:\n",
    "        print(i)\n",
    "        break\n",
    "    i+=1\n",
    "else:\n",
    "    print('No Number was found !!')"
   ]
  },
  {
   "cell_type": "code",
   "execution_count": 97,
   "id": "900ddf26-8140-49ed-acc3-7d5d55806482",
   "metadata": {},
   "outputs": [],
   "source": [
    "# Write a while loop that allows the user to input numbers repeatedly to calculate their sum. \n",
    "# If the user enters a negative number, skip it using continue. \n",
    "# End the loop when the user types \"done\" and print the total sum. \n",
    "# Use the else block to print \"No numbers were added\" if the sum remains zero."
   ]
  },
  {
   "cell_type": "code",
   "execution_count": 100,
   "id": "76c8b683-496a-47d7-acb7-f54c4357a396",
   "metadata": {},
   "outputs": [
    {
     "name": "stdin",
     "output_type": "stream",
     "text": [
      "Please enter a value:  1\n",
      "Please enter a value:  2\n",
      "Please enter a value:  3\n",
      "Please enter a value:  4\n",
      "Please enter a value:  5\n",
      "Please enter a value:  done\n"
     ]
    },
    {
     "name": "stdout",
     "output_type": "stream",
     "text": [
      "15\n"
     ]
    }
   ],
   "source": [
    "sm = 0\n",
    "while True:\n",
    "    a = input('Please enter a value: ')\n",
    "    if a.casefold() == 'done':\n",
    "        print(sm)\n",
    "        break\n",
    "    elif int(a) < 0:\n",
    "        print('Skipping')\n",
    "        continue\n",
    "    else:\n",
    "        sm += int(a)\n",
    "else:\n",
    "    print('No Numbers were added !!!')"
   ]
  },
  {
   "cell_type": "code",
   "execution_count": 102,
   "id": "22f5956e-6eeb-4f89-978a-c029b3916b81",
   "metadata": {},
   "outputs": [],
   "source": [
    "# arnav simar sandeep 29 november"
   ]
  },
  {
   "cell_type": "code",
   "execution_count": 105,
   "id": "134c548e-157b-4b5b-afb6-0c5364e64ecf",
   "metadata": {},
   "outputs": [],
   "source": [
    "a = [[1,2,3,4]]\n",
    "\n",
    "# elemtn 2 without indexing"
   ]
  },
  {
   "cell_type": "code",
   "execution_count": 107,
   "id": "9c33ca51-4b5b-4d77-86cb-21f0ba6ffe19",
   "metadata": {},
   "outputs": [
    {
     "name": "stdout",
     "output_type": "stream",
     "text": [
      "2\n"
     ]
    }
   ],
   "source": [
    "for i in a:\n",
    "    for j in i:\n",
    "        if j == 2:\n",
    "            print(j)\n",
    "            break"
   ]
  },
  {
   "cell_type": "code",
   "execution_count": null,
   "id": "9b02af1d-65be-45aa-a9a6-a1739e52d397",
   "metadata": {},
   "outputs": [],
   "source": [
    "# 1. Let us say your expense for every month are listed below,\n",
    "# \t1. January -  2200\n",
    "#  \t2. February - 2350\n",
    "#     3. March - 2600\n",
    "#     4. April - 2130\n",
    "#     5. May - 2190\n",
    "#\n",
    "# Create a list to store these monthly expenses and using that find out,\n",
    "#\n",
    "# 1. In Feb, how many dollars you spent extra compare to January?\n",
    "# 2. Find out your total expense in first quarter (first three months) of the year.\n",
    "# 3. Find out if you spent exactly 2000 dollars in any month\n",
    "# 4. June month just finished and your expense is 1980 dollar. Add this item to our monthly expense list\n",
    "# 5. You returned an item that you bought in a month of April and\n",
    "# got a refund of 200$. Make a correction to your monthly expense list\n",
    "# based on this\n",
    "\n",
    "exp = [2200,2350,2600,2130,2190]\n",
    "\n",
    "# 1. In Feb, how many dollars you spent extra compare to January?\n",
    "print(\"In feb this much extra was spent compared to jan:\",exp[1]-exp[0]) # 150\n",
    "\n",
    "# 2. Find out your total expense in first quarter (first three months) of the year\n",
    "print(\"Expense for first quarter:\",exp[0]+exp[1]+exp[2]) # 7150\n",
    "\n",
    "# 3. Find out if you spent exactly 2000 dollars in any month\n",
    "print(\"Did I spent 2000$ in any month? \", 2000 in exp) # False\n",
    "\n",
    "# 4. June month just finished and your expense is 1980 dollar. Add this item to our monthly expense list\n",
    "exp.append(1980)\n",
    "print(\"Expenses at the end of June:\",exp) # [2200, 2350, 2600, 2130, 2190, 1980]\n",
    "\n",
    "# 5. You returned an item that you bought in a month of April and\n",
    "# got a refund of 200$. Make a correction to your monthly expense list\n",
    "# based on this\n",
    "exp[3] = exp[3] - 200\n",
    "print(\"Expenses after 200$ return in April:\",exp) # [2200, 2350, 2600, 1930, 2190, 1980]"
   ]
  },
  {
   "cell_type": "code",
   "execution_count": null,
   "id": "720b8739-c8f9-40f7-9058-48b5608ca1da",
   "metadata": {},
   "outputs": [],
   "source": []
  },
  {
   "cell_type": "code",
   "execution_count": 108,
   "id": "2e99c890-86ed-4892-bd5f-75df1a6564e1",
   "metadata": {},
   "outputs": [
    {
     "ename": "SyntaxError",
     "evalue": "unterminated string literal (detected at line 7) (253826004.py, line 7)",
     "output_type": "error",
     "traceback": [
      "\u001b[0;36m  Cell \u001b[0;32mIn[108], line 7\u001b[0;36m\u001b[0m\n\u001b[0;31m    4. Now you don't like thor and hulk because they get angry easily :)\u001b[0m\n\u001b[0m                  ^\u001b[0m\n\u001b[0;31mSyntaxError\u001b[0m\u001b[0;31m:\u001b[0m unterminated string literal (detected at line 7)\n"
     ]
    }
   ],
   "source": [
    "heros=['spider man','thor','hulk','iron man','captain america']\n",
    "\n",
    "1. Length of the list\n",
    "2. Add 'black panther' at the end of this list\n",
    "3. You realize that you need to add 'black panther' after 'hulk',\n",
    "   so remove it from the list first and then add it after 'hulk'\n",
    ".\n",
    "5. Sort the heros list in alphabetical order (Hint. Use dir() functions to list down all functions available in list)"
   ]
  },
  {
   "cell_type": "code",
   "execution_count": 109,
   "id": "c18172c1-d304-4ad7-ab52-1f827b5b8759",
   "metadata": {},
   "outputs": [],
   "source": [
    "heros=['spider man','thor','hulk','iron man','captain america']"
   ]
  },
  {
   "cell_type": "code",
   "execution_count": 115,
   "id": "3e2bab66-09cb-485a-8783-a02ad451723b",
   "metadata": {},
   "outputs": [],
   "source": [
    "# # heros.append('black panther')\n",
    "\n",
    "# heros.remove('black panther')"
   ]
  },
  {
   "cell_type": "code",
   "execution_count": null,
   "id": "614558c3-b8f2-4e18-9807-ba8f4486d235",
   "metadata": {},
   "outputs": [],
   "source": []
  },
  {
   "cell_type": "code",
   "execution_count": null,
   "id": "b37ba400-d54c-456b-af1a-e04706d25b8a",
   "metadata": {},
   "outputs": [],
   "source": [
    "heros.insert(heros.index('hulk') + 1,'Black Panther')"
   ]
  },
  {
   "cell_type": "code",
   "execution_count": 117,
   "id": "82a10c03-5269-4c30-8c40-2cb5960e1219",
   "metadata": {},
   "outputs": [],
   "source": [
    "heros[heros.index('thor'):heros.index('hulk')+1] = ['Doctor Strange']"
   ]
  },
  {
   "cell_type": "code",
   "execution_count": 118,
   "id": "22f0375a-10a9-43a3-9686-e95a2b0ac5ce",
   "metadata": {},
   "outputs": [
    {
     "data": {
      "text/plain": [
       "['spider man',\n",
       " 'Doctor Strange',\n",
       " 'Black Panther',\n",
       " 'iron man',\n",
       " 'captain america']"
      ]
     },
     "execution_count": 118,
     "metadata": {},
     "output_type": "execute_result"
    }
   ],
   "source": [
    "heros"
   ]
  },
  {
   "cell_type": "code",
   "execution_count": null,
   "id": "357bc0a5-604e-4e9e-a9be-ca2d04a3321c",
   "metadata": {},
   "outputs": [],
   "source": [
    "# 4. Now you don't like thor and hulk because they get angry easily :)\n",
    "#    So you want to remove thor and hulk from list and replace them with doctor strange (because he is cool).\n",
    "#    Do that with one line of code"
   ]
  },
  {
   "cell_type": "code",
   "execution_count": 119,
   "id": "270c35b2-e049-4c46-adaf-52aee9e4e54e",
   "metadata": {},
   "outputs": [],
   "source": [
    "# Write a function to rotate an array to the right by k steps. \n",
    "# For example, if the input array is [1, 2, 3, 4, 5, 6] and k = 2, the output should be [5, 6, 1, 2, 3, 4]."
   ]
  },
  {
   "cell_type": "code",
   "execution_count": 141,
   "id": "8c885e92-0641-4c05-bfe3-ad3c4be4f6da",
   "metadata": {},
   "outputs": [],
   "source": [
    "a = [1,2,3,4,5,6]\n",
    "def rotate(arr,k):\n",
    "    if k < len(a):\n",
    "        cut = a[-k:]\n",
    "        left = a[:-k]\n",
    "        cut.extend(left)\n",
    "        return cut\n",
    "    else:\n",
    "        raise Exception(f'Please enter a value less than {len(a)}')"
   ]
  },
  {
   "cell_type": "code",
   "execution_count": 142,
   "id": "156a8af2-bfc7-4e2a-b6d1-533839e2f504",
   "metadata": {},
   "outputs": [
    {
     "name": "stdout",
     "output_type": "stream",
     "text": [
      "Please enter a value less than 6\n"
     ]
    }
   ],
   "source": [
    "try:\n",
    "    print(rotate(a,9))\n",
    "except Exception as e:\n",
    "    print(e)"
   ]
  },
  {
   "cell_type": "code",
   "execution_count": 143,
   "id": "19d1447f-1a17-4e28-8327-3fb9c834532e",
   "metadata": {},
   "outputs": [],
   "source": [
    "# Write a program to find all pairs of integers in an array that sum up to a given target.\n",
    "# Example:\n",
    "# Input: arr = [1, 2, 3, 4, 5], target = 6\n",
    "# # Output: [(1, 5), (2, 4)]"
   ]
  },
  {
   "cell_type": "code",
   "execution_count": 144,
   "id": "e1f8da90-7a39-4808-ab28-efec502e09fc",
   "metadata": {},
   "outputs": [
    {
     "name": "stdout",
     "output_type": "stream",
     "text": [
      "1 5\n",
      "2 4\n"
     ]
    }
   ],
   "source": [
    "arr = [1,2,3,4,5]\n",
    "k = 6\n",
    "for i in a:\n",
    "    for j in a[a.index(i) + 1:]:\n",
    "        if i + j == k:\n",
    "            print(i,j)"
   ]
  }
 ],
 "metadata": {
  "kernelspec": {
   "display_name": "Python 3 (ipykernel)",
   "language": "python",
   "name": "python3"
  },
  "language_info": {
   "codemirror_mode": {
    "name": "ipython",
    "version": 3
   },
   "file_extension": ".py",
   "mimetype": "text/x-python",
   "name": "python",
   "nbconvert_exporter": "python",
   "pygments_lexer": "ipython3",
   "version": "3.12.3"
  }
 },
 "nbformat": 4,
 "nbformat_minor": 5
}
