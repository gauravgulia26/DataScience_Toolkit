{
 "cells": [
  {
   "cell_type": "code",
   "execution_count": 14,
   "id": "691aa06b-f9be-4a9d-8312-dfd1214b3a6e",
   "metadata": {},
   "outputs": [],
   "source": [
    "import logging\n",
    "def Divide(x,y):\n",
    "    try:\n",
    "        op = x / y\n",
    "    except ZeroDivisionError as e:\n",
    "        logging.error('Zero Divison error has occured')\n",
    "    else:\n",
    "        return op"
   ]
  },
  {
   "cell_type": "code",
   "execution_count": 15,
   "id": "182523d0-55ba-40aa-8ef9-b191cbb7bfac",
   "metadata": {},
   "outputs": [
    {
     "name": "stderr",
     "output_type": "stream",
     "text": [
      "ERROR:root:Zero Divison error has occured\n"
     ]
    },
    {
     "name": "stdout",
     "output_type": "stream",
     "text": [
      "None\n"
     ]
    }
   ],
   "source": [
    "try:\n",
    "    op = Divide(10,0)\n",
    "except ZeroDivisionError as e:\n",
    "    e\n",
    "else:\n",
    "    print(op)"
   ]
  },
  {
   "cell_type": "code",
   "execution_count": 17,
   "id": "db2b8593-c13c-4837-8d01-349b1c2655d6",
   "metadata": {},
   "outputs": [
    {
     "data": {
      "text/plain": [
       "<Logger __main__ (WARNING)>"
      ]
     },
     "execution_count": 17,
     "metadata": {},
     "output_type": "execute_result"
    }
   ],
   "source": [
    "logging.getLogger(__name__)"
   ]
  },
  {
   "cell_type": "code",
   "execution_count": 2,
   "id": "0acd06fd-5e81-40cd-bad0-a1b4fae868e1",
   "metadata": {},
   "outputs": [],
   "source": [
    "# store logging into a file\n",
    "import logging\n",
    "logging.basicConfig(filename='logging.log')\n",
    "logging.info('logging started')\n",
    "logging.warning('Warning occured')\n",
    "logging.error('Error Occured')\n",
    "logging.critical('Critical Happened')"
   ]
  },
  {
   "cell_type": "code",
   "execution_count": 4,
   "id": "3ca3abb7-25cd-40b2-a5b2-bda012b33704",
   "metadata": {},
   "outputs": [
    {
     "data": {
      "text/plain": [
       "<function logging.basicConfig(**kwargs)>"
      ]
     },
     "execution_count": 4,
     "metadata": {},
     "output_type": "execute_result"
    }
   ],
   "source": [
    "logging.basicConfig()"
   ]
  },
  {
   "cell_type": "code",
   "execution_count": 46,
   "id": "74972673-ec98-477c-9eaf-ae0e32465503",
   "metadata": {},
   "outputs": [
    {
     "data": {
      "text/plain": [
       "'2024-12-09_17-40-26'"
      ]
     },
     "execution_count": 46,
     "metadata": {},
     "output_type": "execute_result"
    }
   ],
   "source": [
    "import datetime\n",
    "datetime.datetime.now().strftime('%Y-%m-%d_%H-%M-%S')"
   ]
  },
  {
   "cell_type": "code",
   "execution_count": 1,
   "id": "2ad1514b-6e8d-4a88-bc3b-bad405443f37",
   "metadata": {},
   "outputs": [
    {
     "data": {
      "text/plain": [
       "<Logger __main__ (INFO)>"
      ]
     },
     "execution_count": 1,
     "metadata": {},
     "output_type": "execute_result"
    }
   ],
   "source": [
    "import logging\n",
    "# logging.getLogger(__name__)\n",
    "logging.basicConfig(level=logging.INFO)\n",
    "logging.getLogger(__name__)"
   ]
  },
  {
   "cell_type": "code",
   "execution_count": 1,
   "id": "7e0493a3-2476-44bc-9992-f9810963c81e",
   "metadata": {},
   "outputs": [],
   "source": [
    "\n",
    "def Divison(x,y):\n",
    "    try:\n",
    "        logging.info(f'{datetime.datetime.now().strftime('%Y-%m-%d_%H-%M-%S')} Try Module Started \\n')\n",
    "        op = x / y\n",
    "    except ZeroDivisionError as e:\n",
    "        logging.error(f'{datetime.datetime.now().strftime('%Y-%m-%d_%H-%M-%S')} Error has been catched \\n')\n",
    "    else:\n",
    "        logging.info(f'{datetime.datetime.now().strftime('%Y-%m-%d_%H-%M-%S')} Output is {op} \\n')\n",
    "\n",
    "for i in range(1000):\n",
    "    x = random.randint(0,10)\n",
    "    y = random.randint(0,20)\n",
    "    logging.info(f'{datetime.datetime.now().strftime('%Y-%m-%d_%H-%M-%S')} values are {x} and {y}')\n",
    "    Divison(x,y)"
   ]
  },
  {
   "cell_type": "code",
   "execution_count": 3,
   "id": "ff7c4ea3-1b7b-4d29-82cb-0b21fc9acada",
   "metadata": {},
   "outputs": [],
   "source": [
    "balance = 1000\n",
    "import logging\n",
    "import random\n",
    "import datetime\n",
    "logging.basicConfig(filename='logging.log',level=logging.INFO)\n",
    "def atm(y):\n",
    "    global balance  # Declare balance as global to modify it inside the function\n",
    "    if balance == 0:\n",
    "        logging.info(f'{datetime.datetime.now().strftime('%Y-%m-%d_%H-%M-%S')} Balance is Zero now ')\n",
    "        username = input('Enter Your username: ')\n",
    "        logging.info(f'{datetime.datetime.now().strftime('%Y-%m-%d_%H-%M-%S')} User entered the username \\n')\n",
    "        try:\n",
    "            password = int(input('Enter the password: '))\n",
    "            logging.info(f'{datetime.datetime.now().strftime('%Y-%m-%d_%H-%M-%S')} User entered the password \\n')\n",
    "        except ValueError:\n",
    "            raise TypeError('Password Should be integer only !!')\n",
    "            logging.error(f'{datetime.datetime.now().strftime('%Y-%m-%d_%H-%M-%S')} Typeerror raised')\n",
    "        else:\n",
    "            if password == 1234:\n",
    "                try:\n",
    "                    credit = int(input('How much you want to credit: '))\n",
    "                    logging.info(f'{datetime.datetime.now().strftime('%Y-%m-%d_%H-%M-%S')} User entered the credited amount \\n')\n",
    "                except ValueError as e:\n",
    "                    raise TypeError('Credit should be integer only')\n",
    "                    logging.error(f'{datetime.datetime.now().strftime('%Y-%m-%d_%H-%M-%S')} Type Error Occured')\n",
    "                else:\n",
    "                    balance += credit\n",
    "                    logging.info(f'{datetime.datetime.now().strftime('%Y-%m-%d_%H-%M-%S')} Balance Got Updated !!')\n",
    "                    return f'Successfull !! Updated Balance {balance}'\n",
    "            else:\n",
    "                logging.error(f'{datetime.datetime.now().strftime('%Y-%m-%d_%H-%M-%S')} Password is incorrect')\n",
    "                raise ValueError('Password is incorrect !!')\n",
    "    elif y > balance:\n",
    "        logging.error(f'{datetime.datetime.now().strftime('%Y-%m-%d_%H-%M-%S')} Error Caused due to insufficent funds !!')\n",
    "        raise ValueError('Insufficient funds')\n",
    "    else:\n",
    "        balance -= y  # Deduct the withdrawal amount\n",
    "        logging.info(f'{datetime.datetime.now().strftime('%Y-%m-%d_%H-%M-%S')} Deduction happened !!')\n",
    "        logging.info(f'{datetime.datetime.now().strftime('%Y-%m-%d_%H-%M-%S')} Remaining Balance is {balance}')\n",
    "        return f'Transaction Successful! Remaining Amount: {balance}'\n",
    "        "
   ]
  },
  {
   "cell_type": "code",
   "execution_count": 37,
   "id": "413c2eeb-db17-4d2d-bb7c-a25a67bccd28",
   "metadata": {},
   "outputs": [
    {
     "name": "stdin",
     "output_type": "stream",
     "text": [
      "Enter Your username:  djdjjd\n",
      "Enter the password:  333\n"
     ]
    },
    {
     "name": "stdout",
     "output_type": "stream",
     "text": [
      "Password is incorrect !!\n"
     ]
    }
   ],
   "source": [
    "try:\n",
    "    a = atm(30)  # Example withdrawal amount\n",
    "except ValueError as e:\n",
    "    print(e)\n",
    "except TypeError as e:\n",
    "    print(e)\n",
    "else:\n",
    "    print(a)"
   ]
  },
  {
   "cell_type": "code",
   "execution_count": null,
   "id": "9735a71e-bc0c-43e4-8202-d5d9a6f6972e",
   "metadata": {},
   "outputs": [],
   "source": []
  }
 ],
 "metadata": {
  "kernelspec": {
   "display_name": "Python 3 (ipykernel)",
   "language": "python",
   "name": "python3"
  },
  "language_info": {
   "codemirror_mode": {
    "name": "ipython",
    "version": 3
   },
   "file_extension": ".py",
   "mimetype": "text/x-python",
   "name": "python",
   "nbconvert_exporter": "python",
   "pygments_lexer": "ipython3",
   "version": "3.12.3"
  }
 },
 "nbformat": 4,
 "nbformat_minor": 5
}
