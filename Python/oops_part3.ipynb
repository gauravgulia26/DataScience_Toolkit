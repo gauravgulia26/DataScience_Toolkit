{
 "cells": [
  {
   "cell_type": "code",
   "execution_count": null,
   "metadata": {},
   "outputs": [],
   "source": [
    "\"\"\"\n",
    "### **Scenario: Enhanced Library Management System with Error Handling**\n",
    "\n",
    "A library management system needs to handle books, borrowers, and transactions, ensuring smooth operations with error handling for edge cases. The system should implement the following functionalities:\n",
    "\n",
    "1. **Book Management**:\n",
    "   - Add new books to the library.\n",
    "   - Prevent duplicate entries by checking ISBN.\n",
    "   - Raise an error if attempting to remove a book not in the system.\n",
    "\n",
    "2. **Borrower Registration**:\n",
    "   - Add new borrowers with unique IDs.\n",
    "   - Prevent duplicate borrower registration.\n",
    "   - Raise an error if an unregistered borrower tries to borrow a book.\n",
    "\n",
    "3. **Borrowing Process**:\n",
    "   - Allow borrowers to borrow available books.\n",
    "   - Raise an error if the book is already borrowed or doesn't exist in the library.\n",
    "   - Enforce borrowing limits per borrower (e.g., maximum of 5 books).\n",
    "\n",
    "4. **Return Process**:\n",
    "   - Update the system when borrowers return books.\n",
    "   - Raise an error if a borrower tries to return a book they haven’t borrowed.\n",
    "\n",
    "5. **Availability Checks**:\n",
    "   - Provide a mechanism to check the availability of books.\n",
    "   - Raise an error if the queried book is not found.\n",
    "\n",
    "6. **Borrower History**:\n",
    "   - Maintain a record of books borrowed and returned.\n",
    "   - Ensure history is updated correctly for each transaction.\n",
    "\n",
    "7. **Error Handling**:\n",
    "   - Use exceptions to manage errors such as duplicate entries, borrowing limits, and invalid operations.\n",
    "   - Provide user-friendly messages for all errors to guide the operator of the system.\n",
    "\"\"\""
   ]
  },
  {
   "cell_type": "code",
   "execution_count": 1,
   "metadata": {},
   "outputs": [],
   "source": [
    "import random\n",
    "\n",
    "uid_dict = {}\n",
    "inventory = {}\n",
    "admin = {\"admin\": 3452}"
   ]
  },
  {
   "cell_type": "code",
   "execution_count": 46,
   "metadata": {},
   "outputs": [],
   "source": [
    "class NetmaxLibrary:\n",
    "    def __init__(self, name):\n",
    "        # Check if the user is already registered\n",
    "        for uid, registered_name in uid_dict.items():\n",
    "            if registered_name == name:\n",
    "                print(f\"Hey {name}, welcome to Our Library !! Your UID is {uid}.\")\n",
    "                return\n",
    "\n",
    "        # Register the user if not already registered\n",
    "        uid = random.randint(1000, 2000)\n",
    "        while uid in uid_dict:  # Ensure unique UID\n",
    "            uid = random.randint(1000, 2000)\n",
    "\n",
    "        uid_dict[uid] = name\n",
    "        print(\n",
    "            f\"Hey {name}, You are not registered. We have registered you. Your UID is {uid}.\"\n",
    "        )\n",
    "\n",
    "    def add_book(self):\n",
    "        nm = input(\"Enter the Admin Username: \")\n",
    "        if not nm.isalpha():\n",
    "            raise TypeError(\"Please Enter Only String Username\")\n",
    "        else:\n",
    "            if nm in admin:\n",
    "                try:\n",
    "                    pswrd = int(input(\"Enter your password: \"))\n",
    "                except TypeError as e:\n",
    "                    print(\"The password should be integer only !!\")\n",
    "                else:\n",
    "                    if len(str(pswrd)) == 4:\n",
    "                        if pswrd == admin[nm]:\n",
    "                            book_name = input(\"Enter the Book Name to be added: \")\n",
    "                            try:\n",
    "                                isbn = int(input(\"Enter the ISBN Number: \"))\n",
    "                            except TypeError as e:\n",
    "                                print(\"ISBN Should be a integer only !!\")\n",
    "                            else:\n",
    "                                if len(str(isbn)) == 4:\n",
    "                                    if isbn not in inventory:\n",
    "                                        inventory[isbn] = book_name\n",
    "                                        print(\"Book Added Successfully !!\")\n",
    "                                    else:\n",
    "                                        raise Exception(\n",
    "                                            \"This Book Already Exists in the library !!\"\n",
    "                                        )\n",
    "                                else:\n",
    "                                    raise Exception(\n",
    "                                        \"ISBN Should be 13 digit number only !!\"\n",
    "                                    )\n",
    "                        else:\n",
    "                            raise Exception(\"Wrong Password !!\")\n",
    "                    else:\n",
    "                        raise Exception(\n",
    "                            f\"Hey {nm} Password is invalid, it should contain only 4 digits !!\"\n",
    "                        )\n",
    "            else:\n",
    "                raise Exception(f\"Hey {nm} You are not a admin user !!\")"
   ]
  },
  {
   "cell_type": "code",
   "execution_count": 47,
   "metadata": {},
   "outputs": [
    {
     "name": "stdout",
     "output_type": "stream",
     "text": [
      "Hey gourav, welcome to Our Library !! Your UID is 1381.\n"
     ]
    }
   ],
   "source": [
    "u1 = NetmaxLibrary(\"gourav\")"
   ]
  },
  {
   "cell_type": "code",
   "execution_count": 52,
   "metadata": {},
   "outputs": [
    {
     "name": "stdout",
     "output_type": "stream",
     "text": [
      "Hey sksks You are not a admin user !!\n"
     ]
    }
   ],
   "source": [
    "try:\n",
    "    u1.add_book()\n",
    "except Exception as e:\n",
    "    print(e)"
   ]
  },
  {
   "cell_type": "code",
   "execution_count": null,
   "metadata": {},
   "outputs": [],
   "source": []
  },
  {
   "cell_type": "code",
   "execution_count": null,
   "metadata": {},
   "outputs": [],
   "source": []
  }
 ],
 "metadata": {
  "kernelspec": {
   "display_name": "Netmax_Ml",
   "language": "python",
   "name": "python3"
  },
  "language_info": {
   "codemirror_mode": {
    "name": "ipython",
    "version": 3
   },
   "file_extension": ".py",
   "mimetype": "text/x-python",
   "name": "python",
   "nbconvert_exporter": "python",
   "pygments_lexer": "ipython3",
   "version": "3.10.15"
  }
 },
 "nbformat": 4,
 "nbformat_minor": 2
}
