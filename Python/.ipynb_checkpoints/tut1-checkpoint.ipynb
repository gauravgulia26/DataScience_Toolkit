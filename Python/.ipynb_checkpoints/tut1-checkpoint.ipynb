{
 "cells": [
  {
   "cell_type": "code",
   "execution_count": 32,
   "id": "8d120456-dbc2-4a41-a782-560aa6f5fef7",
   "metadata": {},
   "outputs": [],
   "source": [
    "# lambda functions"
   ]
  },
  {
   "cell_type": "code",
   "execution_count": 39,
   "id": "27a8121e-2584-4b85-ad5b-ebec1e258546",
   "metadata": {},
   "outputs": [],
   "source": [
    "def sum_fx(x,y):\n",
    "    \"\"\"\n",
    "    this is a function\n",
    "    \"\"\"\n",
    "    return x + y"
   ]
  },
  {
   "cell_type": "code",
   "execution_count": 43,
   "id": "707e1bcd-10a0-4246-8e4f-83c545ff557e",
   "metadata": {},
   "outputs": [
    {
     "data": {
      "text/plain": [
       "'\\n    this is a function\\n    '"
      ]
     },
     "execution_count": 43,
     "metadata": {},
     "output_type": "execute_result"
    }
   ],
   "source": [
    "sum_fx.__doc__"
   ]
  },
  {
   "cell_type": "code",
   "execution_count": 44,
   "id": "c6f81f52-3082-4cda-9706-ec34cae40aa3",
   "metadata": {},
   "outputs": [
    {
     "data": {
      "text/plain": [
       "<function __main__.<lambda>(x, y)>"
      ]
     },
     "execution_count": 44,
     "metadata": {},
     "output_type": "execute_result"
    }
   ],
   "source": [
    "lambda x,y:x+y"
   ]
  },
  {
   "cell_type": "code",
   "execution_count": 37,
   "id": "bfeec04a-12da-4579-8d0b-06a65bb70b9a",
   "metadata": {},
   "outputs": [
    {
     "data": {
      "text/plain": [
       "5"
      ]
     },
     "execution_count": 37,
     "metadata": {},
     "output_type": "execute_result"
    }
   ],
   "source": [
    "x(3,2)"
   ]
  },
  {
   "cell_type": "code",
   "execution_count": null,
   "id": "d37250a0-3777-4994-80cd-61680ddf1bc6",
   "metadata": {},
   "outputs": [],
   "source": [
    "def myfunc(n):\n",
    "  return lambda a : a * n\n",
    "\n",
    "mydoubler = myfunc(2)\n",
    "\n",
    "print(mydoubler(11))"
   ]
  },
  {
   "cell_type": "code",
   "execution_count": 45,
   "id": "c9794b79-7e29-4d7d-a8ec-9b872feb791c",
   "metadata": {},
   "outputs": [],
   "source": [
    "del x"
   ]
  },
  {
   "cell_type": "code",
   "execution_count": 48,
   "id": "0572c034-26ce-48fd-8221-6dc4c968ee51",
   "metadata": {},
   "outputs": [
    {
     "name": "stdout",
     "output_type": "stream",
     "text": [
      "Error Aa gaya !! \n"
     ]
    }
   ],
   "source": [
    "try:\n",
    "  print(x)\n",
    "except:\n",
    "  print(\"Error Aa gaya !! \")"
   ]
  },
  {
   "cell_type": "code",
   "execution_count": 56,
   "id": "16286bdf-d16d-4671-b6fc-0ac545d3ca51",
   "metadata": {},
   "outputs": [
    {
     "name": "stdout",
     "output_type": "stream",
     "text": [
      "Hello\n",
      "Nothing went wrong\n",
      "Hurray !!!\n"
     ]
    }
   ],
   "source": [
    "try:\n",
    "    print(\"Hello\")\n",
    "except:\n",
    "    print(\"Something went wrong\")\n",
    "else:\n",
    "    print(\"Nothing went wrong\")\n",
    "finally:\n",
    "    print('Hurray !!!')"
   ]
  },
  {
   "cell_type": "code",
   "execution_count": 87,
   "id": "0397123a-f357-49b1-9f83-07807e707950",
   "metadata": {},
   "outputs": [],
   "source": [
    "def division_game(x,y):\n",
    "    if y == 0:\n",
    "        raise ZeroDivisionError(\"Hutt\")\n",
    "    elif type(x) == str or type(y) == str:\n",
    "        raise ValueError('This is not possible')\n",
    "    elif y > x:\n",
    "        raise ValueError(\"You can't enter a number which is greater than numerator.\")\n",
    "    else:\n",
    "        return x // y"
   ]
  },
  {
   "cell_type": "code",
   "execution_count": 88,
   "id": "aa62f626-9d44-40a1-a185-3b5a28c6bd05",
   "metadata": {},
   "outputs": [
    {
     "name": "stdin",
     "output_type": "stream",
     "text": [
      "Enter first number:  10\n",
      "Enter Second number:  0\n"
     ]
    },
    {
     "name": "stdout",
     "output_type": "stream",
     "text": [
      "Error Hutt\n"
     ]
    }
   ],
   "source": [
    "try:\n",
    "    a = int(input('Enter first number: '))\n",
    "    b = int(input('Enter Second number: '))\n",
    "    print(division_game(a,b))\n",
    "except ZeroDivisionError as e:\n",
    "    print(f\"Error {e}\")\n",
    "except ValueError as e:\n",
    "    print(f\"Error {e}\")\n",
    "except ValueError as e:\n",
    "    print(e)\n",
    "except Exception as e:\n",
    "    print('Error Occured !!')"
   ]
  }
 ],
 "metadata": {
  "kernelspec": {
   "display_name": "Python 3 (ipykernel)",
   "language": "python",
   "name": "python3"
  },
  "language_info": {
   "codemirror_mode": {
    "name": "ipython",
    "version": 3
   },
   "file_extension": ".py",
   "mimetype": "text/x-python",
   "name": "python",
   "nbconvert_exporter": "python",
   "pygments_lexer": "ipython3",
   "version": "3.12.3"
  }
 },
 "nbformat": 4,
 "nbformat_minor": 5
}
