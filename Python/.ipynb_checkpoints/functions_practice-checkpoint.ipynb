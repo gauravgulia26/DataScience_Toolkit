{
 "cells": [
  {
   "cell_type": "code",
   "execution_count": 1,
   "id": "14188ff4-cf73-444a-981a-4bb87fed13d8",
   "metadata": {},
   "outputs": [],
   "source": [
    "# Write a function calculate_total that can accept any number of numerical arguments and return their total. \n",
    "# Demonstrate \n",
    "# how the function can be used to sum up daily expenses (e.g., food: ₹200, travel: ₹150, entertainment: ₹300)."
   ]
  },
  {
   "cell_type": "code",
   "execution_count": 2,
   "id": "e54af1e3-ac53-4285-bfc3-3d3314e65a4a",
   "metadata": {},
   "outputs": [],
   "source": [
    "def Calculate_Total(*x):\n",
    "    return sum(x)"
   ]
  },
  {
   "cell_type": "code",
   "execution_count": 4,
   "id": "3a6e6bb7-e9b8-41d0-9346-6ea4376bea7f",
   "metadata": {},
   "outputs": [
    {
     "data": {
      "text/plain": [
       "60"
      ]
     },
     "execution_count": 4,
     "metadata": {},
     "output_type": "execute_result"
    }
   ],
   "source": [
    "Calculate_Total(10,20,30)"
   ]
  },
  {
   "cell_type": "code",
   "execution_count": 5,
   "id": "5f0cac64-6012-4952-90b5-91ff6ef37386",
   "metadata": {},
   "outputs": [],
   "source": [
    "# Question 2: Packing and Unpacking\n",
    "\n",
    "# Create a function student_info that takes a student's \n",
    "# name as the first argument, followed by any number of subjects and their respective marks using *args. \n",
    "# The function should return the student's name and a list of subjects with marks. \n",
    "# Use the function to display the data for a student named Rahul with subjects Math (90), \n",
    "# Science (85), and English (88)."
   ]
  },
  {
   "cell_type": "code",
   "execution_count": 10,
   "id": "cb10d546-f99a-4301-899d-b6c811071944",
   "metadata": {},
   "outputs": [],
   "source": [
    "def student_info(name,*subjects):\n",
    "    for i in subjects[1::2]:\n",
    "        print(i)\n",
    "    for j in subjects[0::2]:\n",
    "        print(j)\n",
    "    return name"
   ]
  },
  {
   "cell_type": "code",
   "execution_count": 12,
   "id": "39a6c6ca-8f74-4c5e-a494-816ddb18cb72",
   "metadata": {},
   "outputs": [
    {
     "name": "stdout",
     "output_type": "stream",
     "text": [
      "90\n",
      "85\n",
      "Math\n",
      "Science\n"
     ]
    },
    {
     "data": {
      "text/plain": [
       "'Rahul'"
      ]
     },
     "execution_count": 12,
     "metadata": {},
     "output_type": "execute_result"
    }
   ],
   "source": [
    "student_info('Rahul','Math',90,'Science',85)"
   ]
  },
  {
   "cell_type": "code",
   "execution_count": 13,
   "id": "06fa436d-4013-438d-b268-4c919a674bad",
   "metadata": {},
   "outputs": [],
   "source": [
    "# Question 3: Flexible Greeting\n",
    "\n",
    "# Write a function send_greetings that accepts a message template and any number of keyword arguments (**kwargs). \n",
    "# The keys of kwargs should represent the names of recipients, and the values should be their email addresses. \n",
    "# Use the function to create a message and send it to:\n",
    "\n",
    "#     John: john.doe@example.com\n",
    "#     Jane: jane.doe@example.com"
   ]
  },
  {
   "cell_type": "code",
   "execution_count": 17,
   "id": "839e6ecb-ab2e-4a63-b9cf-892d6dacdab4",
   "metadata": {},
   "outputs": [],
   "source": [
    "def send_greetings(template,**kwargs):\n",
    "    return f'Hey Your message is {template} sending to {list(kwargs.values())[0]}'"
   ]
  },
  {
   "cell_type": "code",
   "execution_count": 19,
   "id": "92ae4f98-dbd9-4b8f-a7be-ec15927fc4c4",
   "metadata": {},
   "outputs": [
    {
     "data": {
      "text/plain": [
       "'Hey Your message is Hey how are you sending to grcggg@gmail.com'"
      ]
     },
     "execution_count": 19,
     "metadata": {},
     "output_type": "execute_result"
    }
   ],
   "source": [
    "send_greetings('Hey how are you',Gourav='grcggg@gmail.com')"
   ]
  },
  {
   "cell_type": "code",
   "execution_count": 27,
   "id": "7d2acc37-3343-4265-a9f4-72a8781989fa",
   "metadata": {},
   "outputs": [],
   "source": [
    "# Question 4: Shopping List\n",
    "\n",
    "# Design a function shopping_cart that accepts an arbitrary number of arguments using \n",
    "# *args for item names and **kwargs for item quantities (as key-value pairs). \n",
    "# The function should return a summary of items and their quantities in the format: Item: Quantity.\n",
    "\n",
    "# For example, calling shopping_cart(\"Milk\", \"Eggs\", \"Bread\", Milk=2, Eggs=12, Bread=1) should output:"
   ]
  },
  {
   "cell_type": "code",
   "execution_count": 35,
   "id": "58d68671-c08c-4682-b477-86760d7b48e0",
   "metadata": {},
   "outputs": [],
   "source": [
    "def shopping_cart(*names,**quant):\n",
    "    print('Shopping Cart Summary')\n",
    "    for i,j in quant.items():\n",
    "        print(f'{i}:{j}')"
   ]
  },
  {
   "cell_type": "code",
   "execution_count": 37,
   "id": "2ad75497-0bbe-4b5a-b06b-aa6a0917f218",
   "metadata": {},
   "outputs": [
    {
     "name": "stdout",
     "output_type": "stream",
     "text": [
      "Shopping Cart Summary\n",
      "milk:2\n",
      "butter:4\n"
     ]
    }
   ],
   "source": [
    "shopping_cart('milk','butter',milk=2,butter = 4)"
   ]
  },
  {
   "cell_type": "code",
   "execution_count": 38,
   "id": "85560e31-c6bc-4393-9009-10370051ebd2",
   "metadata": {},
   "outputs": [],
   "source": [
    "a = {\n",
    "    'a':2,\n",
    "    'b':3\n",
    "}"
   ]
  },
  {
   "cell_type": "code",
   "execution_count": 44,
   "id": "d4f74f74-4207-4c35-8e63-a10c3db5b5bf",
   "metadata": {},
   "outputs": [
    {
     "name": "stdout",
     "output_type": "stream",
     "text": [
      "a 2\n",
      "b 3\n"
     ]
    }
   ],
   "source": [
    "for i, j in a.items():\n",
    "    print(i,j)"
   ]
  },
  {
   "cell_type": "code",
   "execution_count": 45,
   "id": "1621b940-3ad6-439f-8271-6e0dd60636d2",
   "metadata": {},
   "outputs": [],
   "source": [
    "# Question 5: Personalized Offers\n",
    "\n",
    "# Create a function special_offers that accepts a customer's name and \n",
    "# any number of keyword arguments (**kwargs) for product categories and their discount percentages. \n",
    "# The function should return a string showing the customer's name and the offers they are eligible for.\n",
    "\n",
    "# special_offers(\"Amit\", electronics=20, groceries=10, clothing=15)"
   ]
  },
  {
   "cell_type": "code",
   "execution_count": 47,
   "id": "d535dde6-2364-47cc-9e6c-baac57581700",
   "metadata": {},
   "outputs": [],
   "source": [
    "# Amit, you have the following offers:\n",
    "# Electronics: 20% off\n",
    "# Groceries: 10% off\n",
    "# Clothing: 15% off"
   ]
  },
  {
   "cell_type": "code",
   "execution_count": 50,
   "id": "3551cfb0-f422-417b-b090-a4c68172cd8c",
   "metadata": {},
   "outputs": [],
   "source": [
    "def special_offers(name,**products):\n",
    "    print(f'Hey {name} you have the following offers')\n",
    "    for i,j in products.items():\n",
    "        print(f'{i}:{j} % off')\n",
    "    return "
   ]
  },
  {
   "cell_type": "code",
   "execution_count": 54,
   "id": "d8e73205-6ddb-4330-9bea-19d7e8e81174",
   "metadata": {},
   "outputs": [
    {
     "name": "stdout",
     "output_type": "stream",
     "text": [
      "Hey Gourav you have the following offers\n",
      "electrical:10 % off\n",
      "tech:40 % off\n"
     ]
    }
   ],
   "source": [
    "special_offers('Gourav',electrical=10,tech=40)"
   ]
  },
  {
   "cell_type": "code",
   "execution_count": 73,
   "id": "a40db93c-55ff-4d21-a867-849c4503c568",
   "metadata": {},
   "outputs": [],
   "source": [
    "# Write a function register_event that takes the name of the event as the first argument, \n",
    "# followed by any number of participant names using *args. \n",
    "# The function should return a dictionary with the evtent name as the key and \n",
    "# a list of participant names as the value."
   ]
  },
  {
   "cell_type": "code",
   "execution_count": 80,
   "id": "f18227d9-d418-487f-9499-02dd86f429d5",
   "metadata": {},
   "outputs": [],
   "source": [
    "def register_event(name,*args):\n",
    "    d = {}\n",
    "    d[name] = list(args)\n",
    "    return d"
   ]
  },
  {
   "cell_type": "code",
   "execution_count": 82,
   "id": "ff204a92-12d0-458a-a4ef-a641707c6af3",
   "metadata": {},
   "outputs": [
    {
     "data": {
      "text/plain": [
       "{'Singing': ['naman', 'gourav']}"
      ]
     },
     "execution_count": 82,
     "metadata": {},
     "output_type": "execute_result"
    }
   ],
   "source": [
    "register_event('Singing','naman','gourav')"
   ]
  },
  {
   "cell_type": "code",
   "execution_count": 83,
   "id": "dbce4240-3cf9-4e85-af4c-59dacd7ed556",
   "metadata": {},
   "outputs": [],
   "source": [
    "a = {\n",
    "    \n",
    "}"
   ]
  },
  {
   "cell_type": "code",
   "execution_count": 84,
   "id": "df4aad38-02c4-4861-a549-aa91ce11eac7",
   "metadata": {},
   "outputs": [
    {
     "data": {
      "text/plain": [
       "{'key1': 123}"
      ]
     },
     "execution_count": 84,
     "metadata": {},
     "output_type": "execute_result"
    }
   ],
   "source": [
    "a['key1'] = 123\n"
   ]
  },
  {
   "cell_type": "code",
   "execution_count": 86,
   "id": "77b981a2-af91-49f3-9492-32dc3fbb0fbd",
   "metadata": {},
   "outputs": [],
   "source": [
    "class Solution:\n",
    "    def reverse(self, x: int) -> int:\n",
    "        if x < 0:\n",
    "            x*=-1\n",
    "            return -(int(str(x)[::-1]))\n",
    "        else:\n",
    "            return int(str(x)[::-1])      "
   ]
  },
  {
   "cell_type": "code",
   "execution_count": 87,
   "id": "6d530048-262d-4bf9-9eae-f7f4db37a40d",
   "metadata": {},
   "outputs": [],
   "source": [
    "a = Solution()"
   ]
  },
  {
   "cell_type": "code",
   "execution_count": 88,
   "id": "efb0fbfd-cf7d-4500-a1ad-96ca7d946fef",
   "metadata": {},
   "outputs": [
    {
     "data": {
      "text/plain": [
       "-321"
      ]
     },
     "execution_count": 88,
     "metadata": {},
     "output_type": "execute_result"
    }
   ],
   "source": [
    "a.reverse(-123)"
   ]
  },
  {
   "cell_type": "code",
   "execution_count": null,
   "id": "7f67b2be-77a3-4219-b06a-e6629da53efc",
   "metadata": {},
   "outputs": [],
   "source": []
  },
  {
   "cell_type": "code",
   "execution_count": null,
   "id": "425a582e-2d07-4e61-b455-49b1c10af432",
   "metadata": {},
   "outputs": [],
   "source": []
  },
  {
   "cell_type": "code",
   "execution_count": null,
   "id": "df58cafd-a455-46e8-86eb-6b5a8d445fd9",
   "metadata": {},
   "outputs": [],
   "source": []
  },
  {
   "cell_type": "code",
   "execution_count": null,
   "id": "4daa65ed-1adb-45ca-895d-098c4784bed5",
   "metadata": {},
   "outputs": [],
   "source": []
  },
  {
   "cell_type": "code",
   "execution_count": null,
   "id": "6ad4a16c-1d62-4f32-ae40-90ea1489cfc0",
   "metadata": {},
   "outputs": [],
   "source": []
  },
  {
   "cell_type": "code",
   "execution_count": 95,
   "id": "5efddf50-d649-4ca8-ab99-e036bca76f38",
   "metadata": {},
   "outputs": [
    {
     "data": {
      "text/plain": [
       "321"
      ]
     },
     "execution_count": 95,
     "metadata": {},
     "output_type": "execute_result"
    }
   ],
   "source": [
    "int(str(123)[::-1])"
   ]
  },
  {
   "cell_type": "code",
   "execution_count": 96,
   "id": "0ba0242d-3f80-46ab-8d2a-840acc04b9d8",
   "metadata": {},
   "outputs": [],
   "source": [
    "# Create a lambda function to calculate the square of a number and use it to find the square of 7."
   ]
  },
  {
   "cell_type": "code",
   "execution_count": null,
   "id": "d80906c2-1022-4e79-8329-e653c28f5c4f",
   "metadata": {},
   "outputs": [],
   "source": [
    "Write a function print_args that uses *args to \n",
    "print all the arguments passed to it. Call the function with the values 1, 2, 3, 4, 5."
   ]
  }
 ],
 "metadata": {
  "kernelspec": {
   "display_name": "Python 3 (ipykernel)",
   "language": "python",
   "name": "python3"
  },
  "language_info": {
   "codemirror_mode": {
    "name": "ipython",
    "version": 3
   },
   "file_extension": ".py",
   "mimetype": "text/x-python",
   "name": "python",
   "nbconvert_exporter": "python",
   "pygments_lexer": "ipython3",
   "version": "3.12.3"
  }
 },
 "nbformat": 4,
 "nbformat_minor": 5
}
