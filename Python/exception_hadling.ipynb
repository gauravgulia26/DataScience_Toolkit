{
 "cells": [
  {
   "cell_type": "code",
   "execution_count": 4,
   "id": "7e28dae2-a79f-446b-8523-302148741932",
   "metadata": {},
   "outputs": [],
   "source": [
    "# Build a program that validates user input for a signup form (e.g., username, password, email). \n",
    "# Raise exceptions for validation errors and chain them to \n",
    "# show the complete list of issues at once."
   ]
  },
  {
   "cell_type": "code",
   "execution_count": 5,
   "id": "0a653490-2ad5-40ca-a68b-a0b52ca41ac9",
   "metadata": {},
   "outputs": [],
   "source": [
    "# Write a program that processes multiple tasks in a pipeline. \n",
    "# If one task fails due to a specific error, raise an exception and \n",
    "# chain it with the errors from subsequent tasks to create a comprehensive log."
   ]
  },
  {
   "cell_type": "code",
   "execution_count": 6,
   "id": "30851543-85f0-4e55-97f8-e391c2874b01",
   "metadata": {},
   "outputs": [],
   "source": [
    "# Simulate a flight booking system where a failure to reserve a seat due to \n",
    "# overbooking raises an exception. \n",
    "# Chain it with errors from payment reversals or customer notification failures."
   ]
  },
  {
   "cell_type": "code",
   "execution_count": 9,
   "id": "e4b5ce62-5154-4fd7-9b8d-8144e90ad7f8",
   "metadata": {},
   "outputs": [],
   "source": [
    "a = {'Rahul','Naman','Gourav'}\n",
    "# Check if naman exists in this set and if exists print naman"
   ]
  },
  {
   "cell_type": "code",
   "execution_count": 10,
   "id": "de8af866-936c-4cf1-9324-11b9da426ec0",
   "metadata": {},
   "outputs": [
    {
     "name": "stdout",
     "output_type": "stream",
     "text": [
      "True\n"
     ]
    }
   ],
   "source": [
    "a={'Rahul','Naman','Gaurav'}"
   ]
  },
  {
   "cell_type": "code",
   "execution_count": 22,
   "id": "5b8836b8-8894-4a4b-aa6a-f2c39b67355d",
   "metadata": {},
   "outputs": [
    {
     "data": {
      "text/plain": [
       "'hotmail'"
      ]
     },
     "execution_count": 22,
     "metadata": {},
     "output_type": "execute_result"
    }
   ],
   "source": [
    "'grvgulia@hotmail.com'.split('@')[1].split('.com')[0]"
   ]
  },
  {
   "cell_type": "code",
   "execution_count": 23,
   "id": "a24207a7-782f-4ec0-a261-eb42ca0dbaec",
   "metadata": {},
   "outputs": [],
   "source": [
    "# Build a program that validates user input for a signup form (e.g., username, password, email). \n",
    "# Raise exceptions for validation errors and chain them to \n",
    "# show the complete list of issues at once."
   ]
  },
  {
   "cell_type": "code",
   "execution_count": 92,
   "id": "5efbe326-9387-498b-bc35-a78a0265f780",
   "metadata": {},
   "outputs": [],
   "source": [
    "def KeyCheck(**data):\n",
    "    pass\n",
    "\n",
    "\n",
    "def FormValidation(**data):\n",
    "    choices = {'username','password','email'}\n",
    "    domains = ['gmail','hotmail']\n",
    "    if choices.issubset(set(data.keys())):\n",
    "        if isinstance(data.get('username'),str):\n",
    "            if data['email'].split('@')[1].split('.com')[0] in domains:\n",
    "                print('Working')\n",
    "            else:\n",
    "                raise ValueError('Email should be only from gmail or hotmail !!')\n",
    "        else:\n",
    "            raise ValueError('Username must be string !!')\n",
    "    else:\n",
    "        raise ValueError('Key is not a Valid Key !!')"
   ]
  },
  {
   "cell_type": "code",
   "execution_count": 87,
   "id": "a50676d2-0297-43e0-9ea9-dddd88e98e91",
   "metadata": {},
   "outputs": [
    {
     "name": "stdout",
     "output_type": "stream",
     "text": [
      "Email should be only from gmail or hotmail !!\n"
     ]
    }
   ],
   "source": [
    "try:\n",
    "    op = FormValidation(username='123',password=123,email='gevgulia@gmails.com')\n",
    "except ValueError as e:\n",
    "    print(e)"
   ]
  },
  {
   "cell_type": "code",
   "execution_count": 91,
   "id": "2b137f22-bb31-4c49-b553-8cda6d1bcbf8",
   "metadata": {},
   "outputs": [],
   "source": [
    "# 'Sss22#'.isalnum()"
   ]
  },
  {
   "cell_type": "code",
   "execution_count": 53,
   "id": "a9afc670-f23c-4eab-a3fe-ccd2b87abd89",
   "metadata": {},
   "outputs": [],
   "source": [
    "a  ={1,2,3,4}\n",
    "b = {1,2,3}"
   ]
  },
  {
   "cell_type": "code",
   "execution_count": null,
   "id": "f02c3aa6-39b6-4bc3-b0ae-73e8b67ff54b",
   "metadata": {},
   "outputs": [],
   "source": []
  },
  {
   "cell_type": "code",
   "execution_count": 32,
   "id": "b95f8c65-52f8-4937-910b-939bd512151f",
   "metadata": {},
   "outputs": [
    {
     "data": {
      "text/plain": [
       "True"
      ]
     },
     "execution_count": 32,
     "metadata": {},
     "output_type": "execute_result"
    }
   ],
   "source": [
    "b.issubset(a)"
   ]
  },
  {
   "cell_type": "code",
   "execution_count": 59,
   "id": "5b5520e6-3461-47d9-94a3-c2f60f9461d8",
   "metadata": {},
   "outputs": [],
   "source": [
    "a = {\n",
    "    'a':10,\n",
    "    'b':12\n",
    "}"
   ]
  },
  {
   "cell_type": "code",
   "execution_count": 78,
   "id": "45f7a900-97b5-4b50-a6b5-451243a898d3",
   "metadata": {},
   "outputs": [
    {
     "data": {
      "text/plain": [
       "10"
      ]
     },
     "execution_count": 78,
     "metadata": {},
     "output_type": "execute_result"
    }
   ],
   "source": [
    "a.get('a')"
   ]
  },
  {
   "cell_type": "code",
   "execution_count": 105,
   "id": "f53d2d51-363e-4810-a26a-8a3c19ab084e",
   "metadata": {},
   "outputs": [],
   "source": [
    "def f1():\n",
    "    raise ValueError('erro 1')\n",
    "\n",
    "\n",
    "def f2():\n",
    "    raise ValueError('erro 2')\n",
    "\n",
    "\n",
    "def f3():\n",
    "    raise ValueError('erro 3')\n",
    "\n",
    "\n",
    "def main():\n",
    "    error_chain = []\n",
    "    try:\n",
    "        f1()\n",
    "    except ValueError as e:\n",
    "        error_chain.append(e)\n",
    "    try:\n",
    "        f2()\n",
    "    except ValueError as e:\n",
    "        error_chain.append(e)\n",
    "    try:\n",
    "        f3()\n",
    "    except ValueError as e:\n",
    "        error_chain.append(e)\n",
    "\n",
    "    if error_chain:\n",
    "        print(error_chain)\n",
    "        raise RuntimeError('Error Occured !!')\n",
    "        # print(error_chain)\n",
    "    else:\n",
    "        print('Success!!')"
   ]
  },
  {
   "cell_type": "code",
   "execution_count": 106,
   "id": "800a5775-32d3-4fce-8724-4f077c13ceb1",
   "metadata": {},
   "outputs": [
    {
     "name": "stdout",
     "output_type": "stream",
     "text": [
      "[ValueError('erro 1'), ValueError('erro 2'), ValueError('erro 3')]\n"
     ]
    },
    {
     "ename": "RuntimeError",
     "evalue": "Error Occured !!",
     "output_type": "error",
     "traceback": [
      "\u001b[0;31m---------------------------------------------------------------------------\u001b[0m",
      "\u001b[0;31mRuntimeError\u001b[0m                              Traceback (most recent call last)",
      "Cell \u001b[0;32mIn[106], line 1\u001b[0m\n\u001b[0;32m----> 1\u001b[0m \u001b[43mmain\u001b[49m\u001b[43m(\u001b[49m\u001b[43m)\u001b[49m\n",
      "Cell \u001b[0;32mIn[105], line 30\u001b[0m, in \u001b[0;36mmain\u001b[0;34m()\u001b[0m\n\u001b[1;32m     28\u001b[0m \u001b[38;5;28;01mif\u001b[39;00m error_chain:\n\u001b[1;32m     29\u001b[0m     \u001b[38;5;28mprint\u001b[39m(error_chain)\n\u001b[0;32m---> 30\u001b[0m     \u001b[38;5;28;01mraise\u001b[39;00m \u001b[38;5;167;01mRuntimeError\u001b[39;00m(\u001b[38;5;124m'\u001b[39m\u001b[38;5;124mError Occured !!\u001b[39m\u001b[38;5;124m'\u001b[39m)\n\u001b[1;32m     31\u001b[0m     \u001b[38;5;66;03m# print(error_chain)\u001b[39;00m\n\u001b[1;32m     32\u001b[0m \u001b[38;5;28;01melse\u001b[39;00m:\n\u001b[1;32m     33\u001b[0m     \u001b[38;5;28mprint\u001b[39m(\u001b[38;5;124m'\u001b[39m\u001b[38;5;124mSuccess!!\u001b[39m\u001b[38;5;124m'\u001b[39m)\n",
      "\u001b[0;31mRuntimeError\u001b[0m: Error Occured !!"
     ]
    }
   ],
   "source": [
    "main()"
   ]
  },
  {
   "cell_type": "code",
   "execution_count": 95,
   "id": "2b15dbbc-47bb-47fc-83c7-2298ff5978f0",
   "metadata": {},
   "outputs": [],
   "source": [
    "a=  []"
   ]
  },
  {
   "cell_type": "code",
   "execution_count": 96,
   "id": "156e8a9f-fc58-46dc-9290-33463ad017e7",
   "metadata": {},
   "outputs": [],
   "source": [
    "if a:\n",
    "    print(1)"
   ]
  }
 ],
 "metadata": {
  "kernelspec": {
   "display_name": "Python 3 (ipykernel)",
   "language": "python",
   "name": "python3"
  },
  "language_info": {
   "codemirror_mode": {
    "name": "ipython",
    "version": 3
   },
   "file_extension": ".py",
   "mimetype": "text/x-python",
   "name": "python",
   "nbconvert_exporter": "python",
   "pygments_lexer": "ipython3",
   "version": "3.12.3"
  }
 },
 "nbformat": 4,
 "nbformat_minor": 5
}
