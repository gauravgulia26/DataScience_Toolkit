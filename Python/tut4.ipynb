{
 "cells": [
  {
   "cell_type": "code",
   "execution_count": 1,
   "id": "32f0c1b6-d129-4778-8347-de78123baa3d",
   "metadata": {},
   "outputs": [],
   "source": [
    "# map"
   ]
  },
  {
   "cell_type": "code",
   "execution_count": null,
   "id": "d0a1001a-4ff5-4a46-93bd-16b73a9b2c18",
   "metadata": {},
   "outputs": [],
   "source": []
  },
  {
   "cell_type": "code",
   "execution_count": 2,
   "id": "acec1468-766f-40f3-8907-5d142c856a53",
   "metadata": {},
   "outputs": [],
   "source": [
    "d = [x for x in range(1,11)]"
   ]
  },
  {
   "cell_type": "code",
   "execution_count": 3,
   "id": "b5b9b00f-4f25-4cc0-804b-12648c99a9b4",
   "metadata": {},
   "outputs": [
    {
     "data": {
      "text/plain": [
       "[1, 2, 3, 4, 5, 6, 7, 8, 9, 10]"
      ]
     },
     "execution_count": 3,
     "metadata": {},
     "output_type": "execute_result"
    }
   ],
   "source": [
    "d"
   ]
  },
  {
   "cell_type": "code",
   "execution_count": 4,
   "id": "5a142d04-971b-40c4-b2d3-c9b8ea8a29da",
   "metadata": {},
   "outputs": [
    {
     "data": {
      "text/plain": [
       "[1, 4, 9, 16, 25, 36, 49, 64, 81, 100]"
      ]
     },
     "execution_count": 4,
     "metadata": {},
     "output_type": "execute_result"
    }
   ],
   "source": [
    "e = []\n",
    "for i in d:\n",
    "    e.append(i**2)\n",
    "e"
   ]
  },
  {
   "cell_type": "code",
   "execution_count": 7,
   "id": "fe95a44f-f7f2-490f-9a68-9d06cdf355a9",
   "metadata": {},
   "outputs": [
    {
     "data": {
      "text/plain": [
       "[1, 4, 9, 16, 25, 36, 49, 64, 81, 100]"
      ]
     },
     "execution_count": 7,
     "metadata": {},
     "output_type": "execute_result"
    }
   ],
   "source": [
    "list(map(lambda x:x**2,d))"
   ]
  },
  {
   "cell_type": "code",
   "execution_count": 8,
   "id": "8db86e76-c793-4502-8179-0f79972073ae",
   "metadata": {},
   "outputs": [],
   "source": [
    "def abc(x):\n",
    "    return x**2"
   ]
  },
  {
   "cell_type": "code",
   "execution_count": 15,
   "id": "6af6bc21-bc56-486d-b6bf-a1e118f85628",
   "metadata": {},
   "outputs": [
    {
     "data": {
      "text/plain": [
       "[1, 8, 27, 64, 125, 216, 343, 512, 729, 1000]"
      ]
     },
     "execution_count": 15,
     "metadata": {},
     "output_type": "execute_result"
    }
   ],
   "source": [
    "list(map(lambda x:x**3,list(map(lambda x:int(x**0.5),list(map(abc,d))))))"
   ]
  },
  {
   "cell_type": "code",
   "execution_count": 18,
   "id": "82ae1218-14b1-4198-84ba-bef6dd3be1c5",
   "metadata": {},
   "outputs": [
    {
     "data": {
      "text/plain": [
       "<function __main__.<lambda>(x)>"
      ]
     },
     "execution_count": 18,
     "metadata": {},
     "output_type": "execute_result"
    }
   ],
   "source": [
    "lambda x:'True' if x % 2 == 0 else 'False'"
   ]
  },
  {
   "cell_type": "code",
   "execution_count": 19,
   "id": "88b422aa-9900-4c80-bc93-eb7a4113fec1",
   "metadata": {},
   "outputs": [],
   "source": [
    "# write a function that will square all the odd numbers in a list, if not it should return the number is not odd."
   ]
  },
  {
   "cell_type": "code",
   "execution_count": 24,
   "id": "e2b2348e-4816-4562-a642-cb28c1503250",
   "metadata": {},
   "outputs": [],
   "source": [
    "# list((lambda x,y,z:x+y+z,d))"
   ]
  },
  {
   "cell_type": "code",
   "execution_count": 22,
   "id": "bc065441-8284-4fc5-8da3-c984e20ee53d",
   "metadata": {},
   "outputs": [
    {
     "data": {
      "text/plain": [
       "[1, 2, 3, 4, 5, 6, 7, 8, 9, 10]"
      ]
     },
     "execution_count": 22,
     "metadata": {},
     "output_type": "execute_result"
    }
   ],
   "source": [
    "d"
   ]
  },
  {
   "cell_type": "code",
   "execution_count": 26,
   "id": "ec3e414c-9a68-4a21-938a-4e68c225dd90",
   "metadata": {},
   "outputs": [
    {
     "data": {
      "text/plain": [
       "[1,\n",
       " 'Number is Not Odd',\n",
       " 9,\n",
       " 'Number is Not Odd',\n",
       " 25,\n",
       " 'Number is Not Odd',\n",
       " 49,\n",
       " 'Number is Not Odd',\n",
       " 81,\n",
       " 'Number is Not Odd']"
      ]
     },
     "execution_count": 26,
     "metadata": {},
     "output_type": "execute_result"
    }
   ],
   "source": [
    "list(map(lambda x: 'Number is Not Odd' if x % 2 == 0 else x**2,d))"
   ]
  },
  {
   "cell_type": "code",
   "execution_count": 27,
   "id": "1a9a80e3-644c-477e-bee8-836a2a1763fc",
   "metadata": {},
   "outputs": [],
   "source": [
    "# filter and reduce"
   ]
  },
  {
   "cell_type": "code",
   "execution_count": 28,
   "id": "185c1af7-1685-4874-a8c9-d6a422e8ebca",
   "metadata": {},
   "outputs": [
    {
     "data": {
      "text/plain": [
       "[1, 2, 3, 4, 5, 6, 7, 8, 9, 10]"
      ]
     },
     "execution_count": 28,
     "metadata": {},
     "output_type": "execute_result"
    }
   ],
   "source": [
    "d"
   ]
  },
  {
   "cell_type": "code",
   "execution_count": 31,
   "id": "5a568ba4-ef9d-43f9-9422-11493b39f980",
   "metadata": {},
   "outputs": [
    {
     "data": {
      "text/plain": [
       "[1, 3, 5, 7, 9]"
      ]
     },
     "execution_count": 31,
     "metadata": {},
     "output_type": "execute_result"
    }
   ],
   "source": [
    "# Using the filter to filter elements based on a condition  \n",
    "# Lambda function returns True for an even \n",
    "list(filter(lambda x: not x % 2 == 0,d) )\n",
    "  \n",
    "# Using reduce to aggregate elements  \n",
    "# Lambda function returns product of x and y  \n",
    "# from functools import reduce  \n",
    "# result3 = reduce(lambda x, y: x * y, data)  # Result: 120  "
   ]
  },
  {
   "cell_type": "code",
   "execution_count": 37,
   "id": "2a930ea3-4f0b-4585-a5e7-e4bc44cc1580",
   "metadata": {},
   "outputs": [],
   "source": [
    "d.append(12)"
   ]
  },
  {
   "cell_type": "code",
   "execution_count": 39,
   "id": "f8733028-18fe-497e-9cb9-c8ed999efdd2",
   "metadata": {},
   "outputs": [
    {
     "data": {
      "text/plain": [
       "[12]"
      ]
     },
     "execution_count": 39,
     "metadata": {},
     "output_type": "execute_result"
    }
   ],
   "source": [
    "list(filter(lambda x:(x%4==0 and x%3==0),d))"
   ]
  },
  {
   "cell_type": "code",
   "execution_count": 40,
   "id": "d69ff891-2fc7-4361-8b5c-b71e9f346505",
   "metadata": {},
   "outputs": [],
   "source": [
    "# reduce"
   ]
  },
  {
   "cell_type": "code",
   "execution_count": 42,
   "id": "8860a349-7a59-44b6-a1e5-042a17f5c66e",
   "metadata": {},
   "outputs": [],
   "source": [
    "# reduce()\n",
    "from functools import reduce\n"
   ]
  },
  {
   "cell_type": "code",
   "execution_count": 43,
   "id": "3dc99e8b-99bb-4e81-a8a2-3908baabd32b",
   "metadata": {},
   "outputs": [
    {
     "data": {
      "text/plain": [
       "[1, 2, 3, 4, 5, 6, 7, 8, 9, 10, 12]"
      ]
     },
     "execution_count": 43,
     "metadata": {},
     "output_type": "execute_result"
    }
   ],
   "source": [
    "d"
   ]
  },
  {
   "cell_type": "code",
   "execution_count": 45,
   "id": "285707b7-1876-4671-a5e8-4d27959bbbaf",
   "metadata": {},
   "outputs": [
    {
     "data": {
      "text/plain": [
       "43545600"
      ]
     },
     "execution_count": 45,
     "metadata": {},
     "output_type": "execute_result"
    }
   ],
   "source": [
    "temp = 1\n",
    "for i in d:\n",
    "    temp*=i\n",
    "temp"
   ]
  },
  {
   "cell_type": "code",
   "execution_count": 46,
   "id": "2386ca2f-05be-47da-8eff-b9f82c7c1233",
   "metadata": {},
   "outputs": [
    {
     "data": {
      "text/plain": [
       "43545600"
      ]
     },
     "execution_count": 46,
     "metadata": {},
     "output_type": "execute_result"
    }
   ],
   "source": [
    "reduce(lambda x,y:x*y,d)"
   ]
  },
  {
   "cell_type": "code",
   "execution_count": null,
   "id": "fe212be7-9b95-455d-a5c7-d8f0b190ec03",
   "metadata": {},
   "outputs": [],
   "source": [
    "# write a function that takes two numbers and returns the larger of two"
   ]
  },
  {
   "cell_type": "code",
   "execution_count": 61,
   "id": "9bd1beb3-c8b1-4a51-a392-e59a40fd975a",
   "metadata": {},
   "outputs": [],
   "source": [
    "p  = lambda x,y:x if x>y else y"
   ]
  },
  {
   "cell_type": "code",
   "execution_count": null,
   "id": "149c26b0-15eb-4121-be38-1a644cf3dcfe",
   "metadata": {},
   "outputs": [],
   "source": []
  },
  {
   "cell_type": "code",
   "execution_count": 62,
   "id": "6a6af8ca-5705-4c7c-9e0d-231561b1dd0e",
   "metadata": {},
   "outputs": [
    {
     "name": "stdin",
     "output_type": "stream",
     "text": [
      " 10\n",
      " 2\n"
     ]
    },
    {
     "data": {
      "text/plain": [
       "10"
      ]
     },
     "execution_count": 62,
     "metadata": {},
     "output_type": "execute_result"
    }
   ],
   "source": [
    "p(int(input()),int(input()))"
   ]
  },
  {
   "cell_type": "code",
   "execution_count": 83,
   "id": "6689d83d-53b7-435b-bce4-463909d88521",
   "metadata": {},
   "outputs": [],
   "source": [
    "del a"
   ]
  },
  {
   "cell_type": "code",
   "execution_count": 64,
   "id": "46da62ce-7df7-4a3b-9cb3-8a66076ddf7e",
   "metadata": {},
   "outputs": [],
   "source": [
    "# write a lambda function to sort a list of tuples by the second elemnet in each tuple"
   ]
  },
  {
   "cell_type": "code",
   "execution_count": 95,
   "id": "7529b80e-a378-4c83-a3fd-77b2d77670cb",
   "metadata": {},
   "outputs": [],
   "source": [
    "a = [(1,'a','f'),(2,'c','m'),(3,'b','l')]"
   ]
  },
  {
   "cell_type": "code",
   "execution_count": 69,
   "id": "67a71a87-af54-45e3-85a8-e5039b0ce65d",
   "metadata": {},
   "outputs": [
    {
     "data": {
      "text/plain": [
       "[1, 2, 3, 4]"
      ]
     },
     "execution_count": 69,
     "metadata": {},
     "output_type": "execute_result"
    }
   ],
   "source": [
    "sorted([1,3,4,2])"
   ]
  },
  {
   "cell_type": "code",
   "execution_count": 96,
   "id": "d887c776-3194-4a54-acc6-be75261b5fd3",
   "metadata": {},
   "outputs": [
    {
     "data": {
      "text/plain": [
       "[(1, 'a', 'f'), (3, 'b', 'l'), (2, 'c', 'm')]"
      ]
     },
     "execution_count": 96,
     "metadata": {},
     "output_type": "execute_result"
    }
   ],
   "source": [
    "sorted(a,key=lambda x:x[-1])"
   ]
  },
  {
   "cell_type": "code",
   "execution_count": 98,
   "id": "59783686-52af-4b66-95b7-f9ddb7240763",
   "metadata": {},
   "outputs": [],
   "source": [
    "a = [(1,2,{'n':10}),(3,4,{'s':9}),(3,4,{'g':7})]"
   ]
  },
  {
   "cell_type": "code",
   "execution_count": 99,
   "id": "2add0d44-e8db-45b4-aebb-9fa043aba6fa",
   "metadata": {},
   "outputs": [
    {
     "data": {
      "text/plain": [
       "[(1, 2, {'n': 10}), (3, 4, {'s': 9}), (3, 4, {'g': 7})]"
      ]
     },
     "execution_count": 99,
     "metadata": {},
     "output_type": "execute_result"
    }
   ],
   "source": [
    "a"
   ]
  },
  {
   "cell_type": "code",
   "execution_count": null,
   "id": "a73c2000-62df-4559-bc3b-f3a1132b0ce9",
   "metadata": {},
   "outputs": [],
   "source": [
    "# sort the a based on the value of dictionary"
   ]
  },
  {
   "cell_type": "code",
   "execution_count": 100,
   "id": "705b2ca5-306f-42c3-8f21-55cb936f3500",
   "metadata": {},
   "outputs": [],
   "source": [
    "employees = [\n",
    "    {'name': 'Alice', 'salary': 60000},\n",
    "    {'name': 'Bob', 'salary': 45000},\n",
    "    {'name': 'Charlie', 'salary': 52000},\n",
    "    {'name': 'David', 'salary': 90000},\n",
    "    {'name': 'Eve', 'salary': 75000}\n",
    "]\n"
   ]
  },
  {
   "cell_type": "code",
   "execution_count": 101,
   "id": "b208225c-f874-40d5-9687-ff145b956d08",
   "metadata": {},
   "outputs": [],
   "source": [
    "# Filter out employees with a salary greater than 50,000 and increase their salary by 10%."
   ]
  },
  {
   "cell_type": "code",
   "execution_count": 134,
   "id": "f054f569-6cbb-454b-9a91-8b24a099fdcf",
   "metadata": {},
   "outputs": [
    {
     "data": {
      "text/plain": [
       "[66000.0, 57200.0, 99000.0, 82500.0]"
      ]
     },
     "execution_count": 134,
     "metadata": {},
     "output_type": "execute_result"
    }
   ],
   "source": [
    "list(map(lambda x:(x[1]*0.1) + x[1],list(filter(lambda x:x[1]>50000,[list(x.values()) for x in employees]))))"
   ]
  },
  {
   "cell_type": "code",
   "execution_count": 115,
   "id": "167d33a6-6508-40b5-acb3-f202dfefb2bf",
   "metadata": {},
   "outputs": [
    {
     "data": {
      "text/plain": [
       "[{'name': 'Alice', 'salary': 60000},\n",
       " {'name': 'Bob', 'salary': 45000},\n",
       " {'name': 'Charlie', 'salary': 52000},\n",
       " {'name': 'David', 'salary': 90000},\n",
       " {'name': 'Eve', 'salary': 75000}]"
      ]
     },
     "execution_count": 115,
     "metadata": {},
     "output_type": "execute_result"
    }
   ],
   "source": []
  },
  {
   "cell_type": "code",
   "execution_count": 135,
   "id": "7bfc758b-ffad-4ca5-bf07-69e6a93f64c6",
   "metadata": {},
   "outputs": [],
   "source": [
    "a = 10\n",
    "a = a+11"
   ]
  },
  {
   "cell_type": "code",
   "execution_count": 136,
   "id": "6c864f5f-d62e-4d99-ab37-d4f9f22ce7b9",
   "metadata": {},
   "outputs": [
    {
     "data": {
      "text/plain": [
       "21"
      ]
     },
     "execution_count": 136,
     "metadata": {},
     "output_type": "execute_result"
    }
   ],
   "source": [
    "a"
   ]
  },
  {
   "cell_type": "code",
   "execution_count": 137,
   "id": "d77b3228-6e3f-4681-870e-7252a8d86675",
   "metadata": {},
   "outputs": [],
   "source": [
    "a = 12"
   ]
  },
  {
   "cell_type": "code",
   "execution_count": 138,
   "id": "dab3f39e-709b-4c88-b2a8-c41fe7e15ae1",
   "metadata": {},
   "outputs": [],
   "source": [
    "a += 2"
   ]
  },
  {
   "cell_type": "code",
   "execution_count": 205,
   "id": "359f4dfc-4954-4dcc-95a3-4e4f18fe6adc",
   "metadata": {},
   "outputs": [],
   "source": [
    "b = 26"
   ]
  },
  {
   "cell_type": "code",
   "execution_count": 192,
   "id": "d0c407ac-fca2-4251-bdb9-c2222406d80e",
   "metadata": {},
   "outputs": [],
   "source": [
    "# 26 < False\n",
    "# 26 > True"
   ]
  },
  {
   "cell_type": "code",
   "execution_count": 191,
   "id": "eaf92ba4-9a91-497f-955b-7c3c8b988c96",
   "metadata": {},
   "outputs": [],
   "source": [
    "# for i in range(26,50):\n",
    "#     print((i > 25) or (((i > 10) and (i < 50)) and (i > 30 and ((i > 10) and (i > 10 and i < 20)))))    "
   ]
  },
  {
   "cell_type": "code",
   "execution_count": 206,
   "id": "bbacce03-3e59-46bf-b50b-e7402c3838ab",
   "metadata": {},
   "outputs": [
    {
     "data": {
      "text/plain": [
       "True"
      ]
     },
     "execution_count": 206,
     "metadata": {},
     "output_type": "execute_result"
    }
   ],
   "source": [
    "(b > 25) or (((b > 10) or (b < 50)) or (b > 30 or ((b > 10) or (b > 10 or b < 20))))"
   ]
  },
  {
   "cell_type": "code",
   "execution_count": 209,
   "id": "db81226d-c959-4531-9b8c-dbf089ba826d",
   "metadata": {},
   "outputs": [],
   "source": [
    "# for b in range(0,100):\n",
    "#     print(f'{b}:{(b > 25) or (((b > 10) or (b > 50)) or (b > 30 or ((b > 10) or (b > 10 or b > 20))))}')\n",
    "    "
   ]
  },
  {
   "cell_type": "code",
   "execution_count": 212,
   "id": "d6f3e53f-b8f3-45a1-a6da-4414b61dfccd",
   "metadata": {},
   "outputs": [
    {
     "data": {
      "text/plain": [
       "False"
      ]
     },
     "execution_count": 212,
     "metadata": {},
     "output_type": "execute_result"
    }
   ],
   "source": [
    "b = 23\n",
    "(b > 25) or not (((b > 10) or (b < 50)) or (b > 30 or ((b > 10) or not (b > 10 or b < 20))))"
   ]
  },
  {
   "cell_type": "code",
   "execution_count": 218,
   "id": "b75d7e9e-f952-400a-8758-141c1a94856e",
   "metadata": {},
   "outputs": [
    {
     "name": "stdout",
     "output_type": "stream",
     "text": [
      "True\n"
     ]
    }
   ],
   "source": [
    "x = [\"apple\", \"banana\"]\n",
    "y = [\"apple\", \"banana\"]\n",
    "z = x\n",
    "\n",
    "print(y is not z)"
   ]
  },
  {
   "cell_type": "code",
   "execution_count": null,
   "id": "6ab472aa-8352-409c-b68a-3e8bc9d0a474",
   "metadata": {},
   "outputs": [],
   "source": []
  },
  {
   "cell_type": "code",
   "execution_count": null,
   "id": "b8d02ce9-c6f4-4a91-80c2-351a0ca11b3a",
   "metadata": {},
   "outputs": [],
   "source": []
  },
  {
   "cell_type": "code",
   "execution_count": null,
   "id": "c809407c-7576-42d8-99f7-16465ded190f",
   "metadata": {},
   "outputs": [],
   "source": []
  },
  {
   "cell_type": "code",
   "execution_count": 230,
   "id": "0655a4a8-6676-4352-b4c6-3726da654086",
   "metadata": {},
   "outputs": [
    {
     "data": {
      "text/plain": [
       "['apple', 'banana']"
      ]
     },
     "execution_count": 230,
     "metadata": {},
     "output_type": "execute_result"
    }
   ],
   "source": [
    "z"
   ]
  },
  {
   "cell_type": "code",
   "execution_count": 231,
   "id": "fadf0342-d83c-4333-85a4-e0e62751d5de",
   "metadata": {},
   "outputs": [],
   "source": [
    "a = 10"
   ]
  },
  {
   "cell_type": "code",
   "execution_count": 236,
   "id": "418bac7c-26f9-422b-a011-5666f57d7704",
   "metadata": {},
   "outputs": [
    {
     "data": {
      "text/plain": [
       "False"
      ]
     },
     "execution_count": 236,
     "metadata": {},
     "output_type": "execute_result"
    }
   ],
   "source": [
    "a > 5 | a < 11"
   ]
  },
  {
   "cell_type": "code",
   "execution_count": null,
   "id": "43a4c46b-6698-4478-a65f-5d382012d59f",
   "metadata": {},
   "outputs": [],
   "source": [
    "# and &\n",
    "# or |"
   ]
  },
  {
   "cell_type": "code",
   "execution_count": 225,
   "id": "eb9f66ab-4a58-48e7-9e10-2640925f1a2b",
   "metadata": {},
   "outputs": [
    {
     "data": {
      "text/plain": [
       "False"
      ]
     },
     "execution_count": 225,
     "metadata": {},
     "output_type": "execute_result"
    }
   ],
   "source": [
    "'Apple' in z"
   ]
  },
  {
   "cell_type": "code",
   "execution_count": 226,
   "id": "70ac549d-6f44-4667-ae6c-90b94979f2d8",
   "metadata": {},
   "outputs": [],
   "source": [
    "a = 'Apple'"
   ]
  },
  {
   "cell_type": "code",
   "execution_count": 237,
   "id": "f0b986a9-ae0d-4c7a-b6ef-002231bd61ec",
   "metadata": {},
   "outputs": [
    {
     "ename": "TypeError",
     "evalue": "argument of type 'int' is not iterable",
     "output_type": "error",
     "traceback": [
      "\u001b[0;31m---------------------------------------------------------------------------\u001b[0m",
      "\u001b[0;31mTypeError\u001b[0m                                 Traceback (most recent call last)",
      "Cell \u001b[0;32mIn[237], line 1\u001b[0m\n\u001b[0;32m----> 1\u001b[0m \u001b[38;5;124;43m'\u001b[39;49m\u001b[38;5;124;43mApple\u001b[39;49m\u001b[38;5;124;43m'\u001b[39;49m\u001b[43m \u001b[49m\u001b[38;5;129;43;01min\u001b[39;49;00m\u001b[43m \u001b[49m\u001b[43ma\u001b[49m\n",
      "\u001b[0;31mTypeError\u001b[0m: argument of type 'int' is not iterable"
     ]
    }
   ],
   "source": [
    "'Apple' in a"
   ]
  },
  {
   "cell_type": "code",
   "execution_count": null,
   "id": "35f3ef74-33ef-463d-83c6-3d6fda31b568",
   "metadata": {},
   "outputs": [],
   "source": []
  },
  {
   "cell_type": "code",
   "execution_count": null,
   "id": "80082598-4b64-4a63-975c-73c3c3f29fd1",
   "metadata": {},
   "outputs": [],
   "source": []
  },
  {
   "cell_type": "code",
   "execution_count": 241,
   "id": "787f37a5-48ca-411b-b612-934220475858",
   "metadata": {},
   "outputs": [
    {
     "data": {
      "text/plain": [
       "625"
      ]
     },
     "execution_count": 241,
     "metadata": {},
     "output_type": "execute_result"
    }
   ],
   "source": [
    "(2 + 3) ** (2 * 2)"
   ]
  },
  {
   "cell_type": "code",
   "execution_count": 244,
   "id": "c197be2b-4b92-4e7e-85c4-fd8a87568280",
   "metadata": {},
   "outputs": [],
   "source": [
    "# # a = ['Hello','World']\n",
    "# del a\n",
    "# if a:\n",
    "#     print(True)\n",
    "# else:\n",
    "#     print(False)"
   ]
  },
  {
   "cell_type": "code",
   "execution_count": 245,
   "id": "8b600746-fc88-4af5-ab5b-577c0afec806",
   "metadata": {},
   "outputs": [],
   "source": [
    "thislist = [\"apple\", \"banana\", \"cherry\", \"apple\", \"cherry\"]"
   ]
  },
  {
   "cell_type": "code",
   "execution_count": 248,
   "id": "e6d16df8-536d-449d-a82a-f10a9f71d3f1",
   "metadata": {},
   "outputs": [
    {
     "data": {
      "text/plain": [
       "{'apple', 'banana', 'cherry'}"
      ]
     },
     "execution_count": 248,
     "metadata": {},
     "output_type": "execute_result"
    }
   ],
   "source": [
    "set(thislist)"
   ]
  },
  {
   "cell_type": "code",
   "execution_count": 255,
   "id": "65f2ccbe-4ba5-446c-867f-6e4fb78efa23",
   "metadata": {},
   "outputs": [],
   "source": [
    "thislist = tuple(thislist)"
   ]
  },
  {
   "cell_type": "code",
   "execution_count": 256,
   "id": "8ff61dad-f9ae-48a3-802b-b356cb7c5155",
   "metadata": {},
   "outputs": [
    {
     "ename": "TypeError",
     "evalue": "'tuple' object does not support item assignment",
     "output_type": "error",
     "traceback": [
      "\u001b[0;31m---------------------------------------------------------------------------\u001b[0m",
      "\u001b[0;31mTypeError\u001b[0m                                 Traceback (most recent call last)",
      "Cell \u001b[0;32mIn[256], line 1\u001b[0m\n\u001b[0;32m----> 1\u001b[0m \u001b[43mthislist\u001b[49m\u001b[43m[\u001b[49m\u001b[38;5;241;43m1\u001b[39;49m\u001b[43m]\u001b[49m \u001b[38;5;241m=\u001b[39m \u001b[38;5;124m'\u001b[39m\u001b[38;5;124mMango\u001b[39m\u001b[38;5;124m'\u001b[39m\n",
      "\u001b[0;31mTypeError\u001b[0m: 'tuple' object does not support item assignment"
     ]
    }
   ],
   "source": [
    "thislist[1] = 'Mango'"
   ]
  },
  {
   "cell_type": "code",
   "execution_count": 257,
   "id": "e02ef74f-923c-4b5b-aa4c-29252a934352",
   "metadata": {},
   "outputs": [
    {
     "data": {
      "text/plain": [
       "('apple', 'Mango', 'cherry', 'apple', 'cherry')"
      ]
     },
     "execution_count": 257,
     "metadata": {},
     "output_type": "execute_result"
    }
   ],
   "source": [
    "thislist"
   ]
  },
  {
   "cell_type": "code",
   "execution_count": null,
   "id": "6636802d-6cfd-466d-ae46-b8514e47bcd4",
   "metadata": {},
   "outputs": [],
   "source": []
  },
  {
   "cell_type": "code",
   "execution_count": null,
   "id": "f86b72e0-8997-413e-b490-77c2d8969f45",
   "metadata": {},
   "outputs": [],
   "source": []
  },
  {
   "cell_type": "code",
   "execution_count": null,
   "id": "5d901c2c-785d-4f99-a611-38cc7f543a97",
   "metadata": {},
   "outputs": [],
   "source": []
  },
  {
   "cell_type": "code",
   "execution_count": 261,
   "id": "c6017d83-2bfe-4ce0-b2c5-0e5ed4475d8a",
   "metadata": {},
   "outputs": [],
   "source": [
    "a = list(thislist)"
   ]
  },
  {
   "cell_type": "code",
   "execution_count": 263,
   "id": "4bb8f224-bbdc-4fff-85b5-e4bba997eded",
   "metadata": {},
   "outputs": [],
   "source": [
    "a[2] = 'Pineapple'"
   ]
  },
  {
   "cell_type": "code",
   "execution_count": 264,
   "id": "6d2ba22b-d614-4a2e-ae5a-1a891f13ec7e",
   "metadata": {},
   "outputs": [],
   "source": [
    "x = 'Hello World'"
   ]
  },
  {
   "cell_type": "code",
   "execution_count": 270,
   "id": "47fe9c6f-f170-4e58-9e2a-7164afe6aa29",
   "metadata": {},
   "outputs": [],
   "source": [
    "a[1] = 'x'"
   ]
  },
  {
   "cell_type": "code",
   "execution_count": 271,
   "id": "d86d0a1b-2ce5-4760-9e2d-2ff2ae005e9c",
   "metadata": {},
   "outputs": [
    {
     "data": {
      "text/plain": [
       "['apple', 'x', 'Pineapple', 'apple', 'cherry']"
      ]
     },
     "execution_count": 271,
     "metadata": {},
     "output_type": "execute_result"
    }
   ],
   "source": [
    "a"
   ]
  },
  {
   "cell_type": "code",
   "execution_count": 273,
   "id": "9d4e6945-e179-4946-bc23-060f8a1d44e0",
   "metadata": {},
   "outputs": [
    {
     "name": "stdout",
     "output_type": "stream",
     "text": [
      "['apple', 'blackcurrant', 'watermelon', 'cherry']\n"
     ]
    }
   ],
   "source": [
    "thislist = [\"apple\", \"banana\", \"cherry\"]\n",
    "thislist[1:2] = [\"blackcurrant\", \"watermelon\"]\n",
    "print(thislist)"
   ]
  },
  {
   "cell_type": "code",
   "execution_count": 274,
   "id": "1c9d92f1-f534-4b9a-9416-382b2f014ad1",
   "metadata": {},
   "outputs": [
    {
     "name": "stdout",
     "output_type": "stream",
     "text": [
      "['apple', 'watermelon']\n"
     ]
    }
   ],
   "source": [
    "thislist = [\"apple\", \"banana\", \"cherry\"]\n",
    "thislist[1:3] = [\"watermelon\"]\n",
    "print(thislist)"
   ]
  },
  {
   "cell_type": "code",
   "execution_count": 275,
   "id": "5c06d12a-120e-47b6-a047-eae44b151484",
   "metadata": {},
   "outputs": [
    {
     "data": {
      "text/plain": [
       "['apple', 'watermelon']"
      ]
     },
     "execution_count": 275,
     "metadata": {},
     "output_type": "execute_result"
    }
   ],
   "source": [
    "thislist"
   ]
  },
  {
   "cell_type": "code",
   "execution_count": 276,
   "id": "2baddaa7-4211-4768-88d9-a9cf508d9379",
   "metadata": {},
   "outputs": [],
   "source": [
    "thislist.append('Add this')"
   ]
  },
  {
   "cell_type": "code",
   "execution_count": 280,
   "id": "c7c9a8b5-0473-4021-b3b3-fd5263833f2b",
   "metadata": {},
   "outputs": [],
   "source": [
    "thislist.append('Add One More')"
   ]
  },
  {
   "cell_type": "code",
   "execution_count": 282,
   "id": "69b67c4d-d8e9-4fa3-b201-2992951213fd",
   "metadata": {},
   "outputs": [
    {
     "data": {
      "text/plain": [
       "['apple', 'watermelon', 'Add this', 'Add One More']"
      ]
     },
     "execution_count": 282,
     "metadata": {},
     "output_type": "execute_result"
    }
   ],
   "source": [
    "thislist"
   ]
  },
  {
   "cell_type": "code",
   "execution_count": 284,
   "id": "2ac77735-9f6f-4b87-bb77-d6bf63c39aec",
   "metadata": {},
   "outputs": [],
   "source": [
    "thislist[1] = 'Cherry'"
   ]
  },
  {
   "cell_type": "code",
   "execution_count": 285,
   "id": "0bd811be-323b-4ad8-a750-f2f8bb38d093",
   "metadata": {},
   "outputs": [
    {
     "data": {
      "text/plain": [
       "['apple', 'Cherry', 'Add this', 'Add One More']"
      ]
     },
     "execution_count": 285,
     "metadata": {},
     "output_type": "execute_result"
    }
   ],
   "source": [
    "thislist"
   ]
  },
  {
   "cell_type": "code",
   "execution_count": 286,
   "id": "3185aa08-dd94-4754-b4dd-9ce9390021cf",
   "metadata": {},
   "outputs": [],
   "source": [
    "thislist.insert(1,'Mango')"
   ]
  },
  {
   "cell_type": "code",
   "execution_count": 290,
   "id": "998899ed-e0a3-43d2-9382-d64749082912",
   "metadata": {},
   "outputs": [],
   "source": [
    "thislist.insert(thislist.index('Cherry'),'PineApple')"
   ]
  },
  {
   "cell_type": "code",
   "execution_count": 291,
   "id": "81d11bf6-0551-476a-a5ad-2fa740388548",
   "metadata": {},
   "outputs": [
    {
     "data": {
      "text/plain": [
       "['apple', 'Mango', 'PineApple', 'Cherry', 'Add this', 'Add One More']"
      ]
     },
     "execution_count": 291,
     "metadata": {},
     "output_type": "execute_result"
    }
   ],
   "source": [
    "thislist"
   ]
  },
  {
   "cell_type": "code",
   "execution_count": 292,
   "id": "0e3127d3-48ea-49f6-8657-cbc223b0f093",
   "metadata": {},
   "outputs": [],
   "source": [
    "thislist.extend([1,2,3,4])"
   ]
  },
  {
   "cell_type": "code",
   "execution_count": 293,
   "id": "d66275b5-8c6e-4d33-a93c-b7f91cdbfa94",
   "metadata": {},
   "outputs": [
    {
     "data": {
      "text/plain": [
       "['apple',\n",
       " 'Mango',\n",
       " 'PineApple',\n",
       " 'Cherry',\n",
       " 'Add this',\n",
       " 'Add One More',\n",
       " 1,\n",
       " 2,\n",
       " 3,\n",
       " 4]"
      ]
     },
     "execution_count": 293,
     "metadata": {},
     "output_type": "execute_result"
    }
   ],
   "source": [
    "thislist"
   ]
  },
  {
   "cell_type": "code",
   "execution_count": 296,
   "id": "00f8f9eb-c86c-4bdc-ae79-4a34dab8f77b",
   "metadata": {},
   "outputs": [],
   "source": [
    "thislist[2:6] = [1,2,3,4]"
   ]
  },
  {
   "cell_type": "code",
   "execution_count": 297,
   "id": "2cca0e22-b475-461f-a0ba-6c165c536dae",
   "metadata": {},
   "outputs": [
    {
     "data": {
      "text/plain": [
       "['apple', 'Mango', 1, 2, 3, 4, 1, 2, 3, 4]"
      ]
     },
     "execution_count": 297,
     "metadata": {},
     "output_type": "execute_result"
    }
   ],
   "source": [
    "thislist"
   ]
  },
  {
   "cell_type": "code",
   "execution_count": 1,
   "id": "95bfd7de-f78e-487e-aaaf-f9ccd340cd33",
   "metadata": {},
   "outputs": [],
   "source": [
    "# list comprehension"
   ]
  },
  {
   "cell_type": "code",
   "execution_count": 2,
   "id": "9860398b-e892-4331-b587-3d6b17ff2425",
   "metadata": {},
   "outputs": [],
   "source": [
    "t = []\n",
    "for i in range(100):\n",
    "    t.append(i)"
   ]
  },
  {
   "cell_type": "code",
   "execution_count": 4,
   "id": "51b52deb-e598-421a-83c7-bd0e6fcd67b4",
   "metadata": {},
   "outputs": [],
   "source": [
    "d = [i for i in range(100) ]"
   ]
  },
  {
   "cell_type": "code",
   "execution_count": 6,
   "id": "ca02a07b-5576-48e4-900f-fbe9ae279b4f",
   "metadata": {},
   "outputs": [],
   "source": [
    "# make a list of even numbers from 10 - 50"
   ]
  },
  {
   "cell_type": "code",
   "execution_count": 8,
   "id": "bf619b6b-6f62-41b7-90cd-a2ec52b9cd77",
   "metadata": {},
   "outputs": [],
   "source": [
    "even = [i for i in range(10,51) if i % 2 == 0 ]"
   ]
  },
  {
   "cell_type": "code",
   "execution_count": 10,
   "id": "c9339b17-9eea-4d1c-8c54-b6cc66c7cf63",
   "metadata": {},
   "outputs": [],
   "source": [
    "# write a list of even number,if not print 'This number is odd'"
   ]
  },
  {
   "cell_type": "code",
   "execution_count": 12,
   "id": "e5eb6a7e-7fef-4237-9b52-7be2dde162d8",
   "metadata": {},
   "outputs": [],
   "source": [
    "d = [x if x % 2 == 0 else 'This number is not even' for x in range(10,51)]"
   ]
  },
  {
   "cell_type": "code",
   "execution_count": null,
   "id": "a4d6cfb8-e77a-4601-947d-f8e3677dd61e",
   "metadata": {},
   "outputs": [],
   "source": [
    "# print a list of squared odd numbers from 1 - 100"
   ]
  },
  {
   "cell_type": "code",
   "execution_count": 22,
   "id": "721da72d-00a4-46e2-9f9a-ef93649a348b",
   "metadata": {},
   "outputs": [],
   "source": [
    "op = [x**2 for x in range(1,101) if x % 2 == 1]"
   ]
  },
  {
   "cell_type": "code",
   "execution_count": 23,
   "id": "66f85452-e262-401a-b408-6ee425ac93cf",
   "metadata": {},
   "outputs": [
    {
     "data": {
      "text/plain": [
       "[1,\n",
       " 9,\n",
       " 25,\n",
       " 49,\n",
       " 81,\n",
       " 121,\n",
       " 169,\n",
       " 225,\n",
       " 289,\n",
       " 361,\n",
       " 441,\n",
       " 529,\n",
       " 625,\n",
       " 729,\n",
       " 841,\n",
       " 961,\n",
       " 1089,\n",
       " 1225,\n",
       " 1369,\n",
       " 1521,\n",
       " 1681,\n",
       " 1849,\n",
       " 2025,\n",
       " 2209,\n",
       " 2401,\n",
       " 2601,\n",
       " 2809,\n",
       " 3025,\n",
       " 3249,\n",
       " 3481,\n",
       " 3721,\n",
       " 3969,\n",
       " 4225,\n",
       " 4489,\n",
       " 4761,\n",
       " 5041,\n",
       " 5329,\n",
       " 5625,\n",
       " 5929,\n",
       " 6241,\n",
       " 6561,\n",
       " 6889,\n",
       " 7225,\n",
       " 7569,\n",
       " 7921,\n",
       " 8281,\n",
       " 8649,\n",
       " 9025,\n",
       " 9409,\n",
       " 9801]"
      ]
     },
     "execution_count": 23,
     "metadata": {},
     "output_type": "execute_result"
    }
   ],
   "source": [
    "op"
   ]
  },
  {
   "cell_type": "code",
   "execution_count": 21,
   "id": "c3bf63a1-4810-4712-9061-d539b4d65d12",
   "metadata": {},
   "outputs": [],
   "source": [
    "# list comprehension"
   ]
  },
  {
   "cell_type": "code",
   "execution_count": 28,
   "id": "640ae86f-4920-4c38-8e8b-a60c034e67e3",
   "metadata": {},
   "outputs": [],
   "source": [
    "op_copy = [x if x % 3 == 0 else 'NA' for x in op]"
   ]
  },
  {
   "cell_type": "code",
   "execution_count": 31,
   "id": "3fa155a0-00a1-455c-9e21-5eb0ec3ee8e9",
   "metadata": {},
   "outputs": [],
   "source": [
    "a = []\n",
    "for i in op:\n",
    "    if i % 3 == 0:\n",
    "        a.append(i)\n",
    "    else:\n",
    "        a.append('NA')"
   ]
  },
  {
   "cell_type": "code",
   "execution_count": 32,
   "id": "40a52b78-607f-4706-a65c-59c9859dfd11",
   "metadata": {},
   "outputs": [
    {
     "data": {
      "text/plain": [
       "['NA',\n",
       " 9,\n",
       " 'NA',\n",
       " 'NA',\n",
       " 81,\n",
       " 'NA',\n",
       " 'NA',\n",
       " 225,\n",
       " 'NA',\n",
       " 'NA',\n",
       " 441,\n",
       " 'NA',\n",
       " 'NA',\n",
       " 729,\n",
       " 'NA',\n",
       " 'NA',\n",
       " 1089,\n",
       " 'NA',\n",
       " 'NA',\n",
       " 1521,\n",
       " 'NA',\n",
       " 'NA',\n",
       " 2025,\n",
       " 'NA',\n",
       " 'NA',\n",
       " 2601,\n",
       " 'NA',\n",
       " 'NA',\n",
       " 3249,\n",
       " 'NA',\n",
       " 'NA',\n",
       " 3969,\n",
       " 'NA',\n",
       " 'NA',\n",
       " 4761,\n",
       " 'NA',\n",
       " 'NA',\n",
       " 5625,\n",
       " 'NA',\n",
       " 'NA',\n",
       " 6561,\n",
       " 'NA',\n",
       " 'NA',\n",
       " 7569,\n",
       " 'NA',\n",
       " 'NA',\n",
       " 8649,\n",
       " 'NA',\n",
       " 'NA',\n",
       " 9801]"
      ]
     },
     "execution_count": 32,
     "metadata": {},
     "output_type": "execute_result"
    }
   ],
   "source": [
    "a"
   ]
  },
  {
   "cell_type": "code",
   "execution_count": 33,
   "id": "95fe91bd-4456-442c-b83b-b166ef7e72ff",
   "metadata": {},
   "outputs": [],
   "source": [
    "# list comprehension"
   ]
  },
  {
   "cell_type": "code",
   "execution_count": 42,
   "id": "3434d67a-6e18-4388-87a9-5f6d34ca3cc4",
   "metadata": {},
   "outputs": [],
   "source": [
    "a = []\n",
    "for i in range(1,100):\n",
    "    if i % 3 == 0:\n",
    "        a.append(i)\n",
    "    else:\n",
    "        a.append('NA')"
   ]
  },
  {
   "cell_type": "code",
   "execution_count": 43,
   "id": "838dd770-29e7-4213-88a6-cfc44f34d62c",
   "metadata": {},
   "outputs": [],
   "source": [
    "a = [x for x in range(100)]"
   ]
  },
  {
   "cell_type": "code",
   "execution_count": 49,
   "id": "bc0f3089-c5e8-453c-8e67-03bbc66197a0",
   "metadata": {},
   "outputs": [
    {
     "data": {
      "text/plain": [
       "[5, 6, 7, 8, 9, 10, 11, 12, 13, 14]"
      ]
     },
     "execution_count": 49,
     "metadata": {},
     "output_type": "execute_result"
    }
   ],
   "source": [
    "[i+5 for i in range(10)]"
   ]
  },
  {
   "cell_type": "code",
   "execution_count": 50,
   "id": "40a1da00-226e-46f9-9779-d5ffa14f0bd9",
   "metadata": {},
   "outputs": [],
   "source": [
    "# write A PROGRAM TO print squared of odd numbers from 1 - 100"
   ]
  },
  {
   "cell_type": "code",
   "execution_count": 53,
   "id": "6cf66fc1-88e4-4e15-92a0-6c99d325cb6d",
   "metadata": {},
   "outputs": [],
   "source": [
    "sqrd = [x**2 for x in range(100) if x % 2 != 0]"
   ]
  },
  {
   "cell_type": "code",
   "execution_count": 54,
   "id": "8086776c-a0f7-422c-a134-3ec9c0e8c56a",
   "metadata": {},
   "outputs": [],
   "source": [
    "# if else"
   ]
  },
  {
   "cell_type": "code",
   "execution_count": 55,
   "id": "3fb6fc34-b055-479d-b763-3775023eba4b",
   "metadata": {},
   "outputs": [],
   "source": [
    "# write a program which will print 1-100 even as true and odd as false"
   ]
  },
  {
   "cell_type": "code",
   "execution_count": 57,
   "id": "b1e97483-7d73-46e3-ac60-87c977a9ba11",
   "metadata": {},
   "outputs": [],
   "source": [
    "dd = [True if x % 2 == 0 else False for x in range(100)]"
   ]
  },
  {
   "cell_type": "code",
   "execution_count": null,
   "id": "27f3e1a4-1025-4000-ab9e-7cdeb4c51292",
   "metadata": {},
   "outputs": [],
   "source": []
  },
  {
   "cell_type": "code",
   "execution_count": 37,
   "id": "53c20c98-356e-4784-852e-b4107a7792ca",
   "metadata": {},
   "outputs": [],
   "source": [
    "# SYNTAX OF LIST COMPREHENSION\n",
    "a = [x for x in range(100)]"
   ]
  },
  {
   "cell_type": "code",
   "execution_count": 39,
   "id": "668f8996-8214-430f-a649-aeb59f6abe12",
   "metadata": {},
   "outputs": [],
   "source": [
    "# list comprehension\n",
    "d = [x for x in range(100) if x % 2 == 0]"
   ]
  },
  {
   "cell_type": "code",
   "execution_count": 41,
   "id": "713c2306-e815-4e38-ba0d-333193b9bdd1",
   "metadata": {},
   "outputs": [],
   "source": [
    "# if else\n",
    "e = [x if x % 2 == 0 else 'This number is not even' for x in range(100)]"
   ]
  },
  {
   "cell_type": "code",
   "execution_count": 58,
   "id": "3812af56-04c8-47a7-a3c6-e42f6ac29839",
   "metadata": {},
   "outputs": [],
   "source": [
    "# and or if else list comprehension"
   ]
  },
  {
   "cell_type": "code",
   "execution_count": 59,
   "id": "eb54e2c4-7886-403b-a389-fe9a8ada8fdb",
   "metadata": {},
   "outputs": [],
   "source": [
    "# write a list from 1 - 100 where each number should be divisible by 3 and 7."
   ]
  },
  {
   "cell_type": "code",
   "execution_count": 63,
   "id": "94c14ee0-d3a5-4784-949d-8b7d03065bc5",
   "metadata": {},
   "outputs": [],
   "source": [
    "# [x for x in range(100) if ((x % 3 == 0 or x % 7 == 0) and x % 2 == 0)]"
   ]
  },
  {
   "cell_type": "code",
   "execution_count": 64,
   "id": "7cb413a0-1bef-45b7-aea3-3997d1549274",
   "metadata": {},
   "outputs": [],
   "source": [
    "# given a list of strings write a list comprehensipn to create a new list of words that starts\n",
    "#  a vowel and have a length greater than 5."
   ]
  },
  {
   "cell_type": "code",
   "execution_count": 65,
   "id": "83c9f040-07e5-4b10-a9cd-679201815096",
   "metadata": {},
   "outputs": [],
   "source": [
    "words = ['apple','banana','pear','grape','kiwi']"
   ]
  },
  {
   "cell_type": "code",
   "execution_count": 67,
   "id": "a7089086-c18c-4802-9270-817926c37921",
   "metadata": {},
   "outputs": [],
   "source": [
    "vowel = ['a','e','i','o','u']"
   ]
  },
  {
   "cell_type": "code",
   "execution_count": 69,
   "id": "55cb9d9b-c597-4006-8811-f9e19ba0f757",
   "metadata": {},
   "outputs": [
    {
     "data": {
      "text/plain": [
       "True"
      ]
     },
     "execution_count": 69,
     "metadata": {},
     "output_type": "execute_result"
    }
   ],
   "source": [
    "'a'  in vowel"
   ]
  },
  {
   "cell_type": "code",
   "execution_count": 78,
   "id": "dd598cfa-548b-46ff-8cbd-a5e76a283308",
   "metadata": {},
   "outputs": [
    {
     "data": {
      "text/plain": [
       "[]"
      ]
     },
     "execution_count": 78,
     "metadata": {},
     "output_type": "execute_result"
    }
   ],
   "source": [
    "[x for x in words if x[-2] in vowel and len(x) >=5]"
   ]
  },
  {
   "cell_type": "code",
   "execution_count": null,
   "id": "6b3da9e5-d6d7-4d0f-8e70-26b52c27bc70",
   "metadata": {},
   "outputs": [],
   "source": [
    "# given a list of strings write a list comprehensipn to create a new list of words that starts\n",
    "#  a vowel and have a length greater than 5 and if not print not availaible."
   ]
  },
  {
   "cell_type": "code",
   "execution_count": 80,
   "id": "8da7d663-4bcb-49a1-be31-10ee12201cd9",
   "metadata": {},
   "outputs": [
    {
     "data": {
      "text/plain": [
       "['apple',\n",
       " 'Not Availaible',\n",
       " 'Not Availaible',\n",
       " 'Not Availaible',\n",
       " 'Not Availaible']"
      ]
     },
     "execution_count": 80,
     "metadata": {},
     "output_type": "execute_result"
    }
   ],
   "source": [
    "[x if (x[0] in vowel and len(x) >=5) else 'Not Availaible' for x in words]"
   ]
  },
  {
   "cell_type": "code",
   "execution_count": null,
   "id": "9216dfdd-1b76-4711-ba64-e4bce38a7db0",
   "metadata": {},
   "outputs": [],
   "source": [
    "# Write a list comprehension to create a list containinig square root of even numbers and cube root of odd numbers\n",
    "#  from range (1,101)\n",
    "# 2 Square Root is \n",
    "# 3 Square is 6"
   ]
  },
  {
   "cell_type": "code",
   "execution_count": 82,
   "id": "76306d5e-490b-4e5d-9db7-e7bc32693d66",
   "metadata": {},
   "outputs": [],
   "source": [
    "# [f'{x} Square is {x**2}' if x % 2 == 0 else f'{x} Cube is {x**3}' for x in range(1,101)]"
   ]
  },
  {
   "cell_type": "code",
   "execution_count": 18,
   "id": "b866cea1-34a8-4296-9860-9b6b0a77eb7b",
   "metadata": {},
   "outputs": [],
   "source": [
    "a = [i**2 if i%2 == 0 else 'not applicable' for i in range(100)]"
   ]
  },
  {
   "cell_type": "code",
   "execution_count": 23,
   "id": "2a412885-839f-4700-99f9-7bb3e57e90b9",
   "metadata": {},
   "outputs": [],
   "source": [
    "# [x for x in ['Gourav' if x == 'not applicable' else x for x in \n",
    "# [i**2 if i%2 == 0 else 'not applicable' for i in range(100)]] if x == 'Gourav']"
   ]
  },
  {
   "cell_type": "code",
   "execution_count": 22,
   "id": "14235ad0-1d1b-4646-b5dc-86556d39a85a",
   "metadata": {},
   "outputs": [],
   "source": [
    "# Question 2: Nested List Transformation\n",
    "\n",
    "# write a list comprehension to flatten the matrix into a single list and square the even and sqaure root the odd.\n",
    "# using math library"
   ]
  },
  {
   "cell_type": "code",
   "execution_count": 65,
   "id": "ebfd0f8b-71b3-4573-a90c-c2b543eb70f9",
   "metadata": {},
   "outputs": [],
   "source": [
    "matrix = [[[[[[1, 2, 3], [4, 5, 6], [7, 8, 9]]]]]]"
   ]
  },
  {
   "cell_type": "code",
   "execution_count": 51,
   "id": "a73252d1-ea66-4079-813f-1cf1b45f9468",
   "metadata": {},
   "outputs": [],
   "source": [
    "# [c for x in matrix for c in x if c % 2 == 0]"
   ]
  },
  {
   "cell_type": "code",
   "execution_count": 54,
   "id": "16b757c4-0bdc-4075-9a24-e9494d80de1b",
   "metadata": {},
   "outputs": [],
   "source": [
    "import math as mth"
   ]
  },
  {
   "cell_type": "code",
   "execution_count": 68,
   "id": "0ab85dcc-d6e2-4650-8d2d-c1bb2696a7d9",
   "metadata": {},
   "outputs": [
    {
     "data": {
      "text/plain": [
       "[1, 4, 6, 16, 120, 36, 5040, 64, 362880]"
      ]
     },
     "execution_count": 68,
     "metadata": {},
     "output_type": "execute_result"
    }
   ],
   "source": [
    "[f**2 if f % 2 == 0 else mth.factorial(f) for x in matrix for c in x for d in c for e in d for r in e for f in r]"
   ]
  },
  {
   "cell_type": "code",
   "execution_count": 69,
   "id": "ba9e2c3b-732f-4aa2-b082-47e02f52fc73",
   "metadata": {},
   "outputs": [],
   "source": [
    "# aditya renu piyush abhay varun gagan"
   ]
  },
  {
   "cell_type": "code",
   "execution_count": 70,
   "id": "40a64857-0179-4ab2-931e-b0f693c16baa",
   "metadata": {},
   "outputs": [],
   "source": [
    "# **kwargs"
   ]
  },
  {
   "cell_type": "code",
   "execution_count": 71,
   "id": "ff11f115-bccd-45e5-9191-64d93261cdd4",
   "metadata": {},
   "outputs": [],
   "source": [
    "# args \n",
    "# *args -> Positonal vairable argument\n",
    "# **kwargs -> non positional keyword variable argument"
   ]
  },
  {
   "cell_type": "code",
   "execution_count": 85,
   "id": "18ee6382-777e-49ff-ae5b-a8be1d6ce57a",
   "metadata": {},
   "outputs": [],
   "source": [
    "def MyData(*y,**z):\n",
    "    return y,z"
   ]
  },
  {
   "cell_type": "code",
   "execution_count": 87,
   "id": "6e1ff1a0-3d0b-4103-b33f-1e83ba696b2f",
   "metadata": {},
   "outputs": [
    {
     "data": {
      "text/plain": [
       "((10, 11, 12, 13), {'name': 'gourav', 'age': 23})"
      ]
     },
     "execution_count": 87,
     "metadata": {},
     "output_type": "execute_result"
    }
   ],
   "source": [
    "MyData(10,11,12,13,name='gourav',age=23)"
   ]
  },
  {
   "cell_type": "code",
   "execution_count": 88,
   "id": "4ec9bce5-54f0-40ac-a63c-46b10d9bfbb1",
   "metadata": {},
   "outputs": [],
   "source": [
    "# Write a Python function order_summary that accepts the following arguments:\n",
    "\n",
    "#     A mandatory argument customer_name (the name of the customer).\n",
    "#     Any number of additional positional arguments (*args) representing the items ordered.\n",
    "#     Any number of keyword arguments (**kwargs) representing additional details about the order, such as table_number, waiter_name, etc.\n",
    "\n",
    "# The function should:\n",
    "\n",
    "#     Print the customer's name.\n",
    "#     Print the list of items ordered (from *args).\n",
    "#     Print the additional details (from **kwargs) in a user-friendly way."
   ]
  },
  {
   "cell_type": "code",
   "execution_count": 89,
   "id": "5c87759b-6aeb-451b-beb9-f861d6ebaeb9",
   "metadata": {},
   "outputs": [],
   "source": [
    "# order_summary(\n",
    "#     \"John Doe\", \n",
    "#     \"Pizza\", \"Pasta\", \"Coke\", \n",
    "#     table_number=5, waiter_name=\"Alice\", special_request=\"Extra cheese\"\n",
    "# )"
   ]
  },
  {
   "cell_type": "code",
   "execution_count": 107,
   "id": "3e156969-e02c-44ca-95f2-6ec7f277731e",
   "metadata": {},
   "outputs": [],
   "source": [
    "def order_summary(name,*items,**special_items):\n",
    "    \"\"\"\n",
    "    Args:\n",
    "        name: Name of the user\n",
    "    *Args:\n",
    "        items: Items Ordered\n",
    "    **Kwargs:\n",
    "        special_items: Special Wishes (table_number, waiter_name,special_request)\n",
    "    \"\"\"\n",
    "    if ('table_number' in special_items.keys() and 'waiter_name' in special_items.keys() and 'special_request' in special_items.keys()):\n",
    "        print(special_items.keys())\n",
    "        return f'Hey {name} your order items are {items} and Special Items are {special_items.values()}'\n",
    "    else:\n",
    "        raise Exception('Please enter only the provided keyword arguments')"
   ]
  },
  {
   "cell_type": "code",
   "execution_count": 109,
   "id": "0cf8f771-bd30-46de-91a5-7023681e968c",
   "metadata": {},
   "outputs": [
    {
     "name": "stdout",
     "output_type": "stream",
     "text": [
      "dict_keys(['table_number', 'waiter_name', 'special_request', 'cold_drink'])\n"
     ]
    },
    {
     "data": {
      "text/plain": [
       "\"Hey Gourav your order items are ('burger', 'pizza') and Special Items are dict_values([10, 'naman', 'Moonlight', 'Coke'])\""
      ]
     },
     "execution_count": 109,
     "metadata": {},
     "output_type": "execute_result"
    }
   ],
   "source": [
    "order_summary('Gourav','burger','pizza',table_number = 10,waiter_name='naman',special_request = 'Moonlight',cold_drink = 'Coke')"
   ]
  },
  {
   "cell_type": "code",
   "execution_count": 142,
   "id": "e071453f-e9bf-46de-8092-0276c6736126",
   "metadata": {},
   "outputs": [
    {
     "data": {
      "text/plain": [
       "('John Doe', 'Pizza,Pasta,Coke', [5, 'Alice', 'Extra cheese'])"
      ]
     },
     "execution_count": 142,
     "metadata": {},
     "output_type": "execute_result"
    }
   ],
   "source": [
    "def order_summary(name, *items, **special_items):\n",
    "    \"\"\"\n",
    "    Args:\n",
    "        name: Name of the user\n",
    "    *items:\n",
    "        items: Items Ordered\n",
    "    **special_items:\n",
    "        special_items: Special Wishes (table_number, waiter_name, special_request)\n",
    "    \"\"\"\n",
    "    return \"\".join(name),\",\".join(items),list(special_items.values())\n",
    "\n",
    "\n",
    "order_summary(\"John Doe\", \"Pizza\", \"Pasta\", \"Coke\", table_number=5, waiter_name=\"Alice\", special_request=\"Extra cheese\")"
   ]
  },
  {
   "cell_type": "code",
   "execution_count": 133,
   "id": "05011290-2989-4fc3-8e16-d6a667b4bd47",
   "metadata": {},
   "outputs": [
    {
     "data": {
      "text/plain": [
       "'Pizza Pasta Coke'"
      ]
     },
     "execution_count": 133,
     "metadata": {},
     "output_type": "execute_result"
    }
   ],
   "source": [
    "\" \".join(('Pizza', 'Pasta', 'Coke'))"
   ]
  },
  {
   "cell_type": "code",
   "execution_count": 162,
   "id": "be14ea44-36cd-42f6-a4b3-48b4a43461b4",
   "metadata": {},
   "outputs": [],
   "source": [
    "def abc():\n",
    "    a = eval(input())\n",
    "    return type(a)"
   ]
  },
  {
   "cell_type": "code",
   "execution_count": 161,
   "id": "477aa69a-9653-4edd-bf50-a19a51b5b1cb",
   "metadata": {},
   "outputs": [],
   "source": [
    "# Question: Library Book Management\n",
    "\n",
    "# Write a function library_management that accepts the following arguments:\n",
    "\n",
    "#     A mandatory argument librarian_name (the name of the librarian managing the books).\n",
    "#     Any number of books as positional arguments (*books) where each book is represented by its title.\n",
    "#     Any number of additional details as keyword arguments (**details) such as:\n",
    "#         genre: The genre of the books.\n",
    "#         total_books: Total number of books.\n",
    "#         section: The section where these books are located.\n",
    "\n",
    "# The function should:\n",
    "\n",
    "#     Print the librarian's name.\n",
    "#     Print the list of books.\n",
    "#     Print the additional details, \n",
    "\n",
    "# ensuring that only the allowed keyword arguments (genre, total_books, section) are accepted.\n",
    "\n",
    "# If invalid keyword arguments are provided, the function should raise an exception with a descriptive error message."
   ]
  },
  {
   "cell_type": "code",
   "execution_count": 170,
   "id": "0bdf7f53-61ed-46fe-be1a-05c1b35916ec",
   "metadata": {},
   "outputs": [],
   "source": [
    "def Library_Management(name,*books,**details):\n",
    "    allowed_keys = {'genre','total_books','section'}\n",
    "    if set(details.keys()).issubset(allowed_keys):\n",
    "        return name,books,details\n",
    "    else:\n",
    "        raise Exception(f'{set(details.keys() - allowed_keys)}These keys are not allowed')"
   ]
  },
  {
   "cell_type": "code",
   "execution_count": 174,
   "id": "5abb793f-4dcf-4588-b7f8-391b39eb9b6c",
   "metadata": {},
   "outputs": [],
   "source": [
    "# Library_Management('Gourav','Einstein','Musk','Protocols',genre='finance',total_books=12,section=2,author='djdh')"
   ]
  },
  {
   "cell_type": "code",
   "execution_count": 175,
   "id": "9c67ffc6-f7dd-4049-90d0-8bc0d5ff5475",
   "metadata": {},
   "outputs": [],
   "source": [
    "# Question 2: Nested List Transformation\n",
    "# matrix = [[1,2,3],[3,4,5],[6,7,8]]\n",
    "# write a list comprehension to flatten the matrix into a single list and find the even "
   ]
  },
  {
   "cell_type": "code",
   "execution_count": 188,
   "id": "fc0f2369-51e3-4b64-9a33-5c774786c159",
   "metadata": {},
   "outputs": [
    {
     "data": {
      "text/plain": [
       "[[[[[[1, 2, 3], [3, 4, 5], [6, 7, 8]]]]]]"
      ]
     },
     "execution_count": 188,
     "metadata": {},
     "output_type": "execute_result"
    }
   ],
   "source": [
    "matrix = [[[[[[1,2,3],[3,4,5],[6,7,8]]]]]]\n",
    "\n",
    "matrix"
   ]
  },
  {
   "cell_type": "code",
   "execution_count": 195,
   "id": "37ebbd47-59c2-4f17-86f9-cad695645e6b",
   "metadata": {},
   "outputs": [
    {
     "data": {
      "text/plain": [
       "[1, 8, 9, 9, 64, 25, 216, 49, 512]"
      ]
     },
     "execution_count": 195,
     "metadata": {},
     "output_type": "execute_result"
    }
   ],
   "source": [
    "[l**3 if l % 2 == 0 else l**2 for x in matrix for j in x for k in j for d in k for c in d for l in c]"
   ]
  },
  {
   "cell_type": "code",
   "execution_count": null,
   "id": "7354fb80-3cbe-4503-b7dd-4da144ead0d9",
   "metadata": {},
   "outputs": [],
   "source": [
    "# simar arnav sandee"
   ]
  }
 ],
 "metadata": {
  "kernelspec": {
   "display_name": "Python 3 (ipykernel)",
   "language": "python",
   "name": "python3"
  },
  "language_info": {
   "codemirror_mode": {
    "name": "ipython",
    "version": 3
   },
   "file_extension": ".py",
   "mimetype": "text/x-python",
   "name": "python",
   "nbconvert_exporter": "python",
   "pygments_lexer": "ipython3",
   "version": "3.12.3"
  }
 },
 "nbformat": 4,
 "nbformat_minor": 5
}
