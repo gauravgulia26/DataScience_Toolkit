{
 "cells": [
  {
   "cell_type": "code",
   "execution_count": 1,
   "id": "aaeeb6b8-8f29-4110-ac2f-c0a9e6621cbb",
   "metadata": {},
   "outputs": [],
   "source": [
    "a = [x for x in range(20)]"
   ]
  },
  {
   "cell_type": "code",
   "execution_count": 2,
   "id": "8a5b1ecf-742d-4802-98e6-8f661305d5d1",
   "metadata": {},
   "outputs": [
    {
     "data": {
      "text/plain": [
       "[0, 1, 2, 3, 4, 5, 6, 7, 8, 9, 10, 11, 12, 13, 14, 15, 16, 17, 18, 19]"
      ]
     },
     "execution_count": 2,
     "metadata": {},
     "output_type": "execute_result"
    }
   ],
   "source": [
    "a"
   ]
  },
  {
   "cell_type": "code",
   "execution_count": 6,
   "id": "bb3cfec8-fc32-45bc-bf59-e2232ec0dc6f",
   "metadata": {},
   "outputs": [],
   "source": [
    "a.sort(reverse=True)"
   ]
  },
  {
   "cell_type": "code",
   "execution_count": 54,
   "id": "5c776945-d61e-4775-8fbd-32c61982aa6c",
   "metadata": {},
   "outputs": [],
   "source": [
    "a = (1,2,3,4)"
   ]
  },
  {
   "cell_type": "code",
   "execution_count": 16,
   "id": "d77e9ef2-22b8-4e8b-a19c-4aa2e9ec8326",
   "metadata": {},
   "outputs": [],
   "source": [
    "a = list(a)"
   ]
  },
  {
   "cell_type": "code",
   "execution_count": 17,
   "id": "57e22ca2-d25b-4b42-8abb-a1d4d7bbac93",
   "metadata": {},
   "outputs": [
    {
     "data": {
      "text/plain": [
       "[1, 2, 3, 4]"
      ]
     },
     "execution_count": 17,
     "metadata": {},
     "output_type": "execute_result"
    }
   ],
   "source": [
    "a"
   ]
  },
  {
   "cell_type": "code",
   "execution_count": 18,
   "id": "5ac386d4-df39-4305-9b8f-1d85e93c7dce",
   "metadata": {},
   "outputs": [],
   "source": [
    "a[-1] = 5"
   ]
  },
  {
   "cell_type": "code",
   "execution_count": 53,
   "id": "e389cf94-2f82-4548-95ff-2c326f4b43b6",
   "metadata": {},
   "outputs": [
    {
     "data": {
      "text/plain": [
       "0"
      ]
     },
     "execution_count": 53,
     "metadata": {},
     "output_type": "execute_result"
    }
   ],
   "source": [
    "a"
   ]
  },
  {
   "cell_type": "code",
   "execution_count": 52,
   "id": "2364da08-0109-4e20-960c-7ecfaea21a3d",
   "metadata": {},
   "outputs": [
    {
     "ename": "TypeError",
     "evalue": "'int' object is not iterable",
     "output_type": "error",
     "traceback": [
      "\u001b[0;31m---------------------------------------------------------------------------\u001b[0m",
      "\u001b[0;31mTypeError\u001b[0m                                 Traceback (most recent call last)",
      "Cell \u001b[0;32mIn[52], line 1\u001b[0m\n\u001b[0;32m----> 1\u001b[0m a \u001b[38;5;241m=\u001b[39m \u001b[38;5;28;43mtuple\u001b[39;49m\u001b[43m(\u001b[49m\u001b[43ma\u001b[49m\u001b[43m)\u001b[49m\n",
      "\u001b[0;31mTypeError\u001b[0m: 'int' object is not iterable"
     ]
    }
   ],
   "source": [
    "a = tuple(a)"
   ]
  },
  {
   "cell_type": "code",
   "execution_count": 23,
   "id": "27179fdb-005a-4eed-8cc5-0f963dcd0338",
   "metadata": {},
   "outputs": [
    {
     "data": {
      "text/plain": [
       "(1, 2, 3, 5)"
      ]
     },
     "execution_count": 23,
     "metadata": {},
     "output_type": "execute_result"
    }
   ],
   "source": [
    "a"
   ]
  },
  {
   "cell_type": "code",
   "execution_count": 30,
   "id": "663e0b05-2ec6-4387-9ac6-912b32cb3bfc",
   "metadata": {},
   "outputs": [
    {
     "ename": "ValueError",
     "evalue": "too many values to unpack (expected 3)",
     "output_type": "error",
     "traceback": [
      "\u001b[0;31m---------------------------------------------------------------------------\u001b[0m",
      "\u001b[0;31mValueError\u001b[0m                                Traceback (most recent call last)",
      "Cell \u001b[0;32mIn[30], line 1\u001b[0m\n\u001b[0;32m----> 1\u001b[0m p,x,y \u001b[38;5;241m=\u001b[39m a\n",
      "\u001b[0;31mValueError\u001b[0m: too many values to unpack (expected 3)"
     ]
    }
   ],
   "source": [
    "\n",
    "p,x,y = a"
   ]
  },
  {
   "cell_type": "code",
   "execution_count": 48,
   "id": "78f507f3-ea6a-42e7-b83c-823b679406d3",
   "metadata": {},
   "outputs": [],
   "source": [
    "d = [x for x in range(5)]"
   ]
  },
  {
   "cell_type": "code",
   "execution_count": 49,
   "id": "42b9df3c-194c-4cb2-afde-119c26b5fc42",
   "metadata": {},
   "outputs": [],
   "source": [
    "a,b,c,d,e = d"
   ]
  },
  {
   "cell_type": "code",
   "execution_count": 51,
   "id": "8aaf124f-1d8a-404e-a822-3ffecfc292e5",
   "metadata": {},
   "outputs": [
    {
     "data": {
      "text/plain": [
       "0"
      ]
     },
     "execution_count": 51,
     "metadata": {},
     "output_type": "execute_result"
    }
   ],
   "source": []
  },
  {
   "cell_type": "code",
   "execution_count": 35,
   "id": "edd76b2f-1c3e-4d44-8227-90e035a8408c",
   "metadata": {},
   "outputs": [
    {
     "data": {
      "text/plain": [
       "3"
      ]
     },
     "execution_count": 35,
     "metadata": {},
     "output_type": "execute_result"
    }
   ],
   "source": [
    "d"
   ]
  },
  {
   "cell_type": "code",
   "execution_count": null,
   "id": "4260b4be-350d-4a63-a0b2-76a06e601f2b",
   "metadata": {},
   "outputs": [],
   "source": [
    "# "
   ]
  },
  {
   "cell_type": "code",
   "execution_count": 57,
   "id": "26bedb37-6900-4007-86b4-8b73ce03b808",
   "metadata": {},
   "outputs": [],
   "source": [
    "a = (1,2,2,3,4,5)"
   ]
  },
  {
   "cell_type": "code",
   "execution_count": 59,
   "id": "b41d7f64-4cff-45aa-8d73-13e8b28c4cb0",
   "metadata": {},
   "outputs": [
    {
     "data": {
      "text/plain": [
       "1"
      ]
     },
     "execution_count": 59,
     "metadata": {},
     "output_type": "execute_result"
    }
   ],
   "source": [
    "a.index(2)"
   ]
  },
  {
   "cell_type": "code",
   "execution_count": 60,
   "id": "b6e5ef32-c3dc-457e-81b0-2790959577ee",
   "metadata": {},
   "outputs": [],
   "source": [
    "dc = {\n",
    "    'name':['Gourav','Aman','Varun'],\n",
    "    'age':[10,20,30]\n",
    "}"
   ]
  },
  {
   "cell_type": "code",
   "execution_count": 68,
   "id": "81e5c1f2-4742-4e2e-96d7-e415baee9625",
   "metadata": {},
   "outputs": [
    {
     "data": {
      "text/plain": [
       "'r'"
      ]
     },
     "execution_count": 68,
     "metadata": {},
     "output_type": "execute_result"
    }
   ],
   "source": [
    "dc['name'][2][2:4][0]"
   ]
  },
  {
   "cell_type": "code",
   "execution_count": 71,
   "id": "5f2c9ca1-3c84-43e4-a2eb-a8e1fc4c0f18",
   "metadata": {},
   "outputs": [
    {
     "data": {
      "text/plain": [
       "30"
      ]
     },
     "execution_count": 71,
     "metadata": {},
     "output_type": "execute_result"
    }
   ],
   "source": [
    "dc['age'][2]"
   ]
  },
  {
   "cell_type": "code",
   "execution_count": 72,
   "id": "2789e4e1-0eec-43cd-bfd1-cb9ae464a795",
   "metadata": {},
   "outputs": [],
   "source": [
    "dc = {\n",
    "    'name':['Gourav','Aman','Varun',{\n",
    "        'hello':['world',45,{\n",
    "            'hey':{\n",
    "                'hello2':[10,20,100]\n",
    "            }\n",
    "        }]\n",
    "    }],\n",
    "    'age':[10,20,30]\n",
    "}"
   ]
  },
  {
   "cell_type": "code",
   "execution_count": 73,
   "id": "d4097506-fbb7-421d-9672-9b937e7bac49",
   "metadata": {},
   "outputs": [
    {
     "data": {
      "text/plain": [
       "{'name': ['Gourav',\n",
       "  'Aman',\n",
       "  'Varun',\n",
       "  {'hello': ['world', 45, {'hey': {'hello2': [10, 20, 100]}}]}],\n",
       " 'age': [10, 20, 30]}"
      ]
     },
     "execution_count": 73,
     "metadata": {},
     "output_type": "execute_result"
    }
   ],
   "source": [
    "dc"
   ]
  },
  {
   "cell_type": "code",
   "execution_count": 83,
   "id": "c7b178bf-8d19-44f1-a461-204bd5b29658",
   "metadata": {},
   "outputs": [
    {
     "data": {
      "text/plain": [
       "100"
      ]
     },
     "execution_count": 83,
     "metadata": {},
     "output_type": "execute_result"
    }
   ],
   "source": [
    "dc['name'][3]['hello'][2]['hey']['hello2'][2]"
   ]
  },
  {
   "cell_type": "code",
   "execution_count": 84,
   "id": "3fe9ea16-7c51-434d-ad0a-6c56db14d590",
   "metadata": {},
   "outputs": [],
   "source": [
    "data_structure = {\n",
    "    \"company\": {\n",
    "        \"name\": \"Tech Solutions\",\n",
    "        \"employees\": [\n",
    "            {\n",
    "                \"name\": \"Alice\",\n",
    "                \"role\": \"Data Scientist\",\n",
    "                \"salary\": 95000,\n",
    "                \"skills\": [\"Python\", \"Machine Learning\", \"Statistics\"],\n",
    "                \"projects\": [\n",
    "                    {\n",
    "                        \"name\": \"Project Alpha\",\n",
    "                        \"duration_months\": 6,\n",
    "                        \"completed\": True,\n",
    "                        \"technologies\": {\n",
    "                            \"main\": \"Python\",\n",
    "                            \"additional\": [\"SQL\", \"Pandas\"]\n",
    "                        }\n",
    "                    },\n",
    "                    {\n",
    "                        \"name\": \"Project Beta\",\n",
    "                        \"duration_months\": 12,\n",
    "                        \"completed\": False,\n",
    "                        \"technologies\": {\n",
    "                            \"main\": \"R\",\n",
    "                            \"additional\": [\"Shiny\", \"ggplot2\"]\n",
    "                        }\n",
    "                    }\n",
    "                ]\n",
    "            },\n",
    "            {\n",
    "                \"name\": \"Bob\",\n",
    "                \"role\": \"Software Engineer\",\n",
    "                \"salary\": 88000,\n",
    "                \"skills\": [\"JavaScript\", \"React\", \"Node.js\"],\n",
    "                \"projects\": [\n",
    "                    {\n",
    "                        \"name\": \"Project Gamma\",\n",
    "                        \"duration_months\": 8,\n",
    "                        \"completed\": True,\n",
    "                        \"technologies\": {\n",
    "                            \"main\": \"JavaScript\",\n",
    "                            \"additional\": [\"React\", \"Redux\"]\n",
    "                        }\n",
    "                    }\n",
    "                ]\n",
    "            }\n",
    "        ],\n",
    "        \"locations\": {\n",
    "            \"headquarters\": {\n",
    "                \"city\": \"New York\",\n",
    "                \"address\": \"123 Tech Avenue\",\n",
    "                \"contact\": {\n",
    "                    \"phone\": \"555-1234\",\n",
    "                    \"email\": \"hq@techsolutions.com\"\n",
    "                }\n",
    "            },\n",
    "            \"branch\": {\n",
    "                \"city\": \"San Francisco\",\n",
    "                \"address\": \"456 Innovation Road\",\n",
    "                \"contact\": {\n",
    "                    \"phone\": \"555-5678\",\n",
    "                    \"email\": \"sf@techsolutions.com\"\n",
    "                }\n",
    "            }\n",
    "        }\n",
    "    },\n",
    "    \"global_presence\": {\n",
    "        \"countries\": [\"USA\", \"Canada\", \"UK\", \"Germany\"],\n",
    "        \"active_projects\": {\n",
    "            \"North America\": {\n",
    "                \"project_count\": 10,\n",
    "                \"ongoing\": [\"Project Alpha\", \"Project Beta\", \"Project Delta\"]\n",
    "            },\n",
    "            \"Europe\": {\n",
    "                \"project_count\": 7,\n",
    "                \"ongoing\": [\"Project Epsilon\", \"Project Zeta\"]\n",
    "            }\n",
    "        }\n",
    "    },\n",
    "    \"financials\": {\n",
    "        \"2022\": {\n",
    "            \"revenue\": 1500000,\n",
    "            \"profit\": 450000,\n",
    "            \"expenses\": {\n",
    "                \"salaries\": 700000,\n",
    "                \"research\": 300000,\n",
    "                \"marketing\": 150000\n",
    "            }\n",
    "        },\n",
    "        \"2023\": {\n",
    "            \"revenue\": 1800000,\n",
    "            \"profit\": 550000,\n",
    "            \"expenses\": {\n",
    "                \"salaries\": 750000,\n",
    "                \"research\": 350000,\n",
    "                \"marketing\": 160000\n",
    "            }\n",
    "        }\n",
    "    }\n",
    "}\n"
   ]
  },
  {
   "cell_type": "code",
   "execution_count": 101,
   "id": "8920a834-c915-48e9-9fbc-a8a826f8fb4f",
   "metadata": {},
   "outputs": [],
   "source": [
    "complex_dict = {\"A\": [{\"B\": {\"C\": [1, {\"D\": \"value1\", \"E\": [2, 3, {\"F\": \"value2\"}]}, 4]}}, {\"G\": {\"H\": [{\"I\": 5}, {\"J\": \"value3\"}]}}], \n",
    "                \"K\": {\"L\": [{\"M\": \"value4\", \"N\": {\"O\": [6, {\"P\": \"value5\", \"Q\": [7, 8, {\"R\": \"value6\"}]}]}}]}, \n",
    "                \"S\": {\"T\": {\"U\": [{\"V\": \"value7\", \"W\": [9, {\"X\": \"value8\"}, 10]}, {\"Y\": {\"Z\": \"value9\"}}]}}, \n",
    "                \"AA\": [11, {\"BB\": {\"CC\": [12, 13, {\"DD\": \"value10\"}]}}]}\n"
   ]
  },
  {
   "cell_type": "code",
   "execution_count": 124,
   "id": "d316a948-607e-4639-8392-4f484ee6a8ec",
   "metadata": {},
   "outputs": [
    {
     "data": {
      "text/plain": [
       "5"
      ]
     },
     "execution_count": 124,
     "metadata": {},
     "output_type": "execute_result"
    }
   ],
   "source": [
    "complex_dict['A'][1]['G']['H'][0]['I']\n",
    "# 5"
   ]
  },
  {
   "cell_type": "code",
   "execution_count": 126,
   "id": "99088254-670e-4f05-8435-5f77d559751e",
   "metadata": {},
   "outputs": [
    {
     "data": {
      "text/plain": [
       "{'name': ['Gourav',\n",
       "  'Aman',\n",
       "  'Varun',\n",
       "  {'hello': ['world', 45, {'hey': {'hello2': [10, 20, 100]}}]}],\n",
       " 'age': [10, 20, 30]}"
      ]
     },
     "execution_count": 126,
     "metadata": {},
     "output_type": "execute_result"
    }
   ],
   "source": [
    "dc"
   ]
  },
  {
   "cell_type": "code",
   "execution_count": 127,
   "id": "ddc17e6e-8399-45c0-9ce5-8009409362a2",
   "metadata": {},
   "outputs": [],
   "source": [
    "# items change"
   ]
  },
  {
   "cell_type": "code",
   "execution_count": 129,
   "id": "584ce039-bd3e-40d8-b100-374cc994ed6f",
   "metadata": {},
   "outputs": [],
   "source": [
    "dc['name'][1] = 'Naman'"
   ]
  },
  {
   "cell_type": "code",
   "execution_count": 133,
   "id": "79f0ab92-fb94-4b31-87f0-fe6592f2ebd9",
   "metadata": {},
   "outputs": [
    {
     "data": {
      "text/plain": [
       "[20, 30, 40]"
      ]
     },
     "execution_count": 133,
     "metadata": {},
     "output_type": "execute_result"
    }
   ],
   "source": [
    "[x+10 for x in dc['age']]"
   ]
  },
  {
   "cell_type": "code",
   "execution_count": 134,
   "id": "8ed20355-8fb4-4460-aa41-061ff945ba62",
   "metadata": {},
   "outputs": [
    {
     "data": {
      "text/plain": [
       "{'name': ['Gourav',\n",
       "  'Naman',\n",
       "  'Varun',\n",
       "  {'hello': ['world', 45, {'hey': {'hello2': [10, 20, 100]}}]}],\n",
       " 'age': [10, 20, 30]}"
      ]
     },
     "execution_count": 134,
     "metadata": {},
     "output_type": "execute_result"
    }
   ],
   "source": [
    "dc"
   ]
  },
  {
   "cell_type": "code",
   "execution_count": 135,
   "id": "8ca296c4-3886-49fd-a9d6-b831fec7241a",
   "metadata": {},
   "outputs": [],
   "source": [
    "dc = {\n",
    "    'name':'Gourav'\n",
    "}"
   ]
  },
  {
   "cell_type": "code",
   "execution_count": 136,
   "id": "0f95cc43-44b8-4554-8fbf-305f8875d0cb",
   "metadata": {},
   "outputs": [],
   "source": [
    "dc['name'] = 'Arnav'"
   ]
  },
  {
   "cell_type": "code",
   "execution_count": 138,
   "id": "c830043e-c752-4139-9882-8e768433b2f6",
   "metadata": {},
   "outputs": [],
   "source": [
    "dc['age'] = 10"
   ]
  },
  {
   "cell_type": "code",
   "execution_count": 140,
   "id": "1a9b38f2-20a7-44c7-bc39-6a68304d424f",
   "metadata": {},
   "outputs": [
    {
     "data": {
      "text/plain": [
       "dict_keys(['name', 'age'])"
      ]
     },
     "execution_count": 140,
     "metadata": {},
     "output_type": "execute_result"
    }
   ],
   "source": [
    "dc.keys()"
   ]
  },
  {
   "cell_type": "code",
   "execution_count": 141,
   "id": "3150c614-710b-4a54-b32a-7173f69fa6fd",
   "metadata": {},
   "outputs": [
    {
     "data": {
      "text/plain": [
       "dict_values(['Arnav', 10])"
      ]
     },
     "execution_count": 141,
     "metadata": {},
     "output_type": "execute_result"
    }
   ],
   "source": [
    "dc.values()"
   ]
  },
  {
   "cell_type": "code",
   "execution_count": 142,
   "id": "393523cb-eba4-48d3-839a-e9c15938841a",
   "metadata": {},
   "outputs": [
    {
     "data": {
      "text/plain": [
       "dict_items([('name', 'Arnav'), ('age', 10)])"
      ]
     },
     "execution_count": 142,
     "metadata": {},
     "output_type": "execute_result"
    }
   ],
   "source": [
    "dc.items()"
   ]
  },
  {
   "cell_type": "code",
   "execution_count": 143,
   "id": "f8921067-6fa1-462b-88f1-c3e323843a25",
   "metadata": {},
   "outputs": [
    {
     "data": {
      "text/plain": [
       "'Arnav'"
      ]
     },
     "execution_count": 143,
     "metadata": {},
     "output_type": "execute_result"
    }
   ],
   "source": [
    "dc.pop('name')"
   ]
  },
  {
   "cell_type": "code",
   "execution_count": 145,
   "id": "a6b7bfd2-f5c2-45d0-8063-4fb02439459e",
   "metadata": {},
   "outputs": [
    {
     "data": {
      "text/plain": [
       "10"
      ]
     },
     "execution_count": 145,
     "metadata": {},
     "output_type": "execute_result"
    }
   ],
   "source": [
    "dc.pop('age')"
   ]
  },
  {
   "cell_type": "code",
   "execution_count": 149,
   "id": "194d53e9-9b2c-4e78-8e10-df0ee63dfee0",
   "metadata": {},
   "outputs": [
    {
     "name": "stdout",
     "output_type": "stream",
     "text": [
      "(0, 0)\n",
      "(1, 1)\n",
      "(2, 2)\n",
      "(3, 3)\n",
      "(4, 4)\n",
      "(5, 5)\n",
      "(6, 6)\n",
      "(7, 7)\n",
      "(8, 8)\n",
      "(9, 9)\n"
     ]
    }
   ],
   "source": [
    "for i in enumerate([x for x in range(10)]):\n",
    "    print(i)"
   ]
  },
  {
   "cell_type": "code",
   "execution_count": 151,
   "id": "e7de9120-4710-4e35-a887-44a03c61439b",
   "metadata": {},
   "outputs": [],
   "source": [
    "dc['name'] = 'Gourav'\n",
    "dc['age'] = 10"
   ]
  },
  {
   "cell_type": "code",
   "execution_count": 159,
   "id": "a4daf480-817b-408e-9140-870875f49502",
   "metadata": {},
   "outputs": [],
   "source": [
    "for i in dc.items():\n",
    "    x,y = i"
   ]
  },
  {
   "cell_type": "code",
   "execution_count": 162,
   "id": "d3d58801-3bcf-4548-a2b2-79ef5b3cf9a5",
   "metadata": {},
   "outputs": [],
   "source": [
    "dc.clear()"
   ]
  },
  {
   "cell_type": "code",
   "execution_count": 165,
   "id": "7265a785-824d-434f-aede-6896c7f2c9d6",
   "metadata": {},
   "outputs": [
    {
     "data": {
      "text/plain": [
       "{}"
      ]
     },
     "execution_count": 165,
     "metadata": {},
     "output_type": "execute_result"
    }
   ],
   "source": [
    "complex_dict.clear()\n",
    "complex_dict"
   ]
  },
  {
   "cell_type": "code",
   "execution_count": 168,
   "id": "993c94a9-1b2b-4dc1-b2e4-98f74ee575ac",
   "metadata": {},
   "outputs": [
    {
     "name": "stdout",
     "output_type": "stream",
     "text": [
      "{'key1': [1, 2, 3], 'key2': [1, 2, 3], 'key3': [1, 2, 3]}\n"
     ]
    }
   ],
   "source": [
    "x = ('key1', 'key2', 'key3')\n",
    "y = [1,2,3]\n",
    "\n",
    "thisdict = dict.fromkeys(x, y)\n",
    "\n",
    "print(thisdict)"
   ]
  },
  {
   "cell_type": "code",
   "execution_count": 170,
   "id": "21534ca6-0ffc-476b-a9ec-c3b48c92f4ed",
   "metadata": {},
   "outputs": [
    {
     "data": {
      "text/plain": [
       "[1, 2, 3]"
      ]
     },
     "execution_count": 170,
     "metadata": {},
     "output_type": "execute_result"
    }
   ],
   "source": [
    "thisdict.get('key1')"
   ]
  },
  {
   "cell_type": "code",
   "execution_count": 171,
   "id": "2143f292-2fbb-49e7-8bff-fa8b0ba8bfab",
   "metadata": {},
   "outputs": [],
   "source": [
    "thisdict['key4'] = 'aman'"
   ]
  },
  {
   "cell_type": "code",
   "execution_count": 173,
   "id": "8ed09c58-4288-47eb-9da6-2a5f85ebb713",
   "metadata": {},
   "outputs": [
    {
     "data": {
      "text/plain": [
       "('key4', 'aman')"
      ]
     },
     "execution_count": 173,
     "metadata": {},
     "output_type": "execute_result"
    }
   ],
   "source": [
    "thisdict.popitem()"
   ]
  },
  {
   "cell_type": "code",
   "execution_count": 174,
   "id": "bee4255a-67b5-45cc-8a48-fe2efddc530f",
   "metadata": {},
   "outputs": [
    {
     "data": {
      "text/plain": [
       "{'key1': [1, 2, 3], 'key2': [1, 2, 3], 'key3': [1, 2, 3]}"
      ]
     },
     "execution_count": 174,
     "metadata": {},
     "output_type": "execute_result"
    }
   ],
   "source": [
    "thisdict"
   ]
  },
  {
   "cell_type": "code",
   "execution_count": 175,
   "id": "768217f9-2a1b-4cb2-97bf-794a211438cb",
   "metadata": {},
   "outputs": [
    {
     "name": "stdout",
     "output_type": "stream",
     "text": [
      "Mustang\n"
     ]
    }
   ],
   "source": [
    "car = {\n",
    "  \"brand\": \"Ford\",\n",
    "  \"model\": \"Mustang\",\n",
    "  \"year\": 1964\n",
    "}\n",
    "\n",
    "x = car.setdefault(\"model\", \"Bronco\")\n",
    "\n",
    "print(x) "
   ]
  },
  {
   "cell_type": "code",
   "execution_count": 176,
   "id": "15140e63-ba60-419e-bfe4-5171817af695",
   "metadata": {},
   "outputs": [
    {
     "data": {
      "text/plain": [
       "'Mustang'"
      ]
     },
     "execution_count": 176,
     "metadata": {},
     "output_type": "execute_result"
    }
   ],
   "source": [
    "car.pop('model')"
   ]
  },
  {
   "cell_type": "code",
   "execution_count": 178,
   "id": "586b3e74-a545-41eb-a08d-aafa33567e0e",
   "metadata": {},
   "outputs": [
    {
     "data": {
      "text/plain": [
       "'Bronco'"
      ]
     },
     "execution_count": 178,
     "metadata": {},
     "output_type": "execute_result"
    }
   ],
   "source": [
    "car.setdefault(\"model\", \"Bronco\")\n"
   ]
  },
  {
   "cell_type": "code",
   "execution_count": 181,
   "id": "be051c89-ba40-4f26-9154-74e72ea671b6",
   "metadata": {},
   "outputs": [],
   "source": [
    "car['model'] = 'ferrari'"
   ]
  },
  {
   "cell_type": "code",
   "execution_count": 182,
   "id": "91de20a5-8f44-4e39-90cc-9cdea88743ef",
   "metadata": {},
   "outputs": [
    {
     "data": {
      "text/plain": [
       "{'brand': 'Ford', 'year': 1964, 'model': 'ferrari'}"
      ]
     },
     "execution_count": 182,
     "metadata": {},
     "output_type": "execute_result"
    }
   ],
   "source": [
    "car"
   ]
  }
 ],
 "metadata": {
  "kernelspec": {
   "display_name": "Python 3 (ipykernel)",
   "language": "python",
   "name": "python3"
  },
  "language_info": {
   "codemirror_mode": {
    "name": "ipython",
    "version": 3
   },
   "file_extension": ".py",
   "mimetype": "text/x-python",
   "name": "python",
   "nbconvert_exporter": "python",
   "pygments_lexer": "ipython3",
   "version": "3.12.3"
  }
 },
 "nbformat": 4,
 "nbformat_minor": 5
}
