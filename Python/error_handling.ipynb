{
 "cells": [
  {
   "cell_type": "code",
   "execution_count": null,
   "id": "784a6bf9-e66d-4048-9ea6-3a44231b007f",
   "metadata": {},
   "outputs": [],
   "source": [
    "# error handling"
   ]
  },
  {
   "cell_type": "code",
   "execution_count": null,
   "id": "8a670833-2d4f-4257-8949-e76bb1a43e50",
   "metadata": {},
   "outputs": [],
   "source": [
    "import warnings\n",
    "for i in range(10):\n",
    "    a = int(input('Enter a number: '))\n",
    "    if a == 10:\n",
    "        raise ValueError('Hey')\n",
    "    else:\n",
    "        print(a)"
   ]
  },
  {
   "cell_type": "code",
   "execution_count": null,
   "id": "958d8e27-26e8-417c-9be9-a82f0ec7b0ea",
   "metadata": {},
   "outputs": [],
   "source": []
  },
  {
   "cell_type": "code",
   "execution_count": null,
   "id": "97b368b7-b63c-464b-a066-78c9d257f304",
   "metadata": {},
   "outputs": [],
   "source": [
    "# try\n",
    "# except\n",
    "# finally\n",
    "# else\n",
    "def MyFunc(x,y):\n",
    "    if x + y == 10:\n",
    "        raise ValueError('This is not a valid argument !!')\n",
    "    else:\n",
    "        return x + y"
   ]
  },
  {
   "cell_type": "code",
   "execution_count": null,
   "id": "d8b9d408-21a2-412f-b1e3-e9fb361c7d5b",
   "metadata": {},
   "outputs": [],
   "source": [
    "try:\n",
    "    print(MyFunc(10,10))\n",
    "except ValueError as e:\n",
    "    print(e)\n",
    "else:\n",
    "    print('No Errors')"
   ]
  },
  {
   "cell_type": "code",
   "execution_count": null,
   "id": "8ce85039-c1c4-4ec3-bdad-427d0fdccee4",
   "metadata": {},
   "outputs": [],
   "source": [
    "# errors vs exceptions\n",
    "\n",
    "# errors -> syntax error, logical error\n",
    "# exceptions -> arises during runtime"
   ]
  },
  {
   "cell_type": "code",
   "execution_count": null,
   "id": "84e1dac3-b789-4628-be55-5054eaf43cc9",
   "metadata": {},
   "outputs": [],
   "source": [
    "def MyDivide(x,y):\n",
    "    print(x // y)"
   ]
  },
  {
   "cell_type": "code",
   "execution_count": null,
   "id": "efa86717-6d8e-4d26-95e7-ef040c0bba37",
   "metadata": {},
   "outputs": [],
   "source": [
    "MyDivide(10,-0)"
   ]
  },
  {
   "cell_type": "code",
   "execution_count": null,
   "id": "d47050ca-0953-44cb-99f1-4bf8943703e8",
   "metadata": {},
   "outputs": [],
   "source": [
    "a = input()\n",
    "print(a / 2)"
   ]
  },
  {
   "cell_type": "code",
   "execution_count": null,
   "id": "e54696c1-e8dc-49ee-a661-34010eb0f55f",
   "metadata": {},
   "outputs": [],
   "source": [
    "a = int(input())\n",
    "print(a[1])"
   ]
  },
  {
   "cell_type": "code",
   "execution_count": null,
   "id": "a78199b3-68fe-4bdb-a8b0-64a44b1c544f",
   "metadata": {},
   "outputs": [],
   "source": [
    "# Write a program to divide two numbers entered by the user. \n",
    "# Handle the case where the divisor is zero using a try-except block and print an appropriate message."
   ]
  },
  {
   "cell_type": "code",
   "execution_count": null,
   "id": "6bea539c-e894-486f-96ca-a371b6d25765",
   "metadata": {},
   "outputs": [],
   "source": [
    "def MyDivision(x,y):\n",
    "    if  y == 0:\n",
    "        raise ZeroDivisionError(\"You can't divide a number by zero\")\n",
    "    elif y > x:\n",
    "        raise ValueError(\"Can't divide by a number greater than numerator\")\n",
    "    else:\n",
    "        return x // y"
   ]
  },
  {
   "cell_type": "code",
   "execution_count": null,
   "id": "df7de7a9-5e26-4dc4-8ba7-1eeafe34d79d",
   "metadata": {},
   "outputs": [],
   "source": [
    "try:\n",
    "    a = MyDivision(10,'20')\n",
    "except ZeroDivisionError as e:\n",
    "    print(e)\n",
    "except TypeError:\n",
    "    print('Please enter only integer or float values')\n",
    "except ValueError as e:\n",
    "    print(e)\n",
    "else:\n",
    "    print(f'No Errors Here is the result {a}')"
   ]
  },
  {
   "cell_type": "code",
   "execution_count": null,
   "id": "987d783b-65ff-463f-a3e7-1d2dd99a14e0",
   "metadata": {},
   "outputs": [],
   "source": [
    "# Write a program that prompts the user to enter an integer. \n",
    "# Handle the case where the user enters a non-integer value by catching a ValueError and displaying an error message."
   ]
  },
  {
   "cell_type": "code",
   "execution_count": null,
   "id": "8a715e8b-10fa-42cb-8cbf-6a8acabffd69",
   "metadata": {},
   "outputs": [],
   "source": [
    "def abc(x):\n",
    "    if isinstance(x,int):\n",
    "        return x\n",
    "    else:\n",
    "        raise ValueError('Only Integers are allowed')"
   ]
  },
  {
   "cell_type": "code",
   "execution_count": null,
   "id": "c5649223-92a0-4691-b7eb-d5c04e59e9bb",
   "metadata": {},
   "outputs": [],
   "source": [
    "try:\n",
    "    a = abc('20')\n",
    "except ValueError as e:\n",
    "    print(e)\n",
    "else:\n",
    "    print(f'There is no error {a}')"
   ]
  },
  {
   "cell_type": "code",
   "execution_count": null,
   "id": "94765a2d-7a66-4058-b5c9-b885ac5b4b20",
   "metadata": {},
   "outputs": [],
   "source": [
    "# Create a function convert_to_int that accepts a string input and converts it to an integer. \n",
    "# Use a try-except block to catch any errors that occur during the conversion"
   ]
  },
  {
   "cell_type": "code",
   "execution_count": null,
   "id": "4436fb28-2a54-404a-8675-f4f38b14bb29",
   "metadata": {},
   "outputs": [],
   "source": [
    "def convert_to_int(x:str) -> int:\n",
    "    if isinstance(x,str):\n",
    "        if x.isdigit():\n",
    "            return int(x)\n",
    "        else:\n",
    "            raise ValueError('Please enter only integer in strings also !!')\n",
    "    else:\n",
    "        raise ValueError('Please enter only strings in input !!')"
   ]
  },
  {
   "cell_type": "code",
   "execution_count": null,
   "id": "1e0f6dfa-73a5-41e9-b0cf-868f09b60dee",
   "metadata": {},
   "outputs": [],
   "source": []
  },
  {
   "cell_type": "code",
   "execution_count": null,
   "id": "e48182d4-05db-4c9e-9c13-e988944b058c",
   "metadata": {},
   "outputs": [],
   "source": [
    "def ConvertToInt(x:str) -> int:\n",
    "    \"\"\"\n",
    "    Params:\n",
    "        x: First Input as a String, will fail otherwise\n",
    "    Output:\n",
    "        Converting String to Integer.\n",
    "    \"\"\"\n",
    "    if isinstance(x,str):\n",
    "        if x.isdigit():\n",
    "            return int(x)\n",
    "        else:\n",
    "            raise ValueError('Please enter only integer in strings !!')\n",
    "    else:e\n",
    "        raise ValueError('Please enter only strings in input !!')\n",
    "\n",
    "\n",
    "try:\n",
    "    a = convert_to_int('1')\n",
    "except ValueError as e:\n",
    "    print(e)\n",
    "else:\n",
    "    print(f'Successfull, answer is {a}')"
   ]
  },
  {
   "cell_type": "code",
   "execution_count": null,
   "id": "5bc7d96b-27a1-4548-8f1f-f6ab6b5e2a93",
   "metadata": {},
   "outputs": [],
   "source": [
    "# jagroop sejal anubhavb rudra"
   ]
  },
  {
   "cell_type": "code",
   "execution_count": null,
   "id": "1a1d91c1-6c8c-4e35-a22f-7c1329713ff9",
   "metadata": {},
   "outputs": [],
   "source": []
  },
  {
   "cell_type": "code",
   "execution_count": null,
   "id": "f2421f84-f8fb-4790-9858-5222ddadefff",
   "metadata": {},
   "outputs": [],
   "source": []
  },
  {
   "cell_type": "code",
   "execution_count": null,
   "id": "53f7af6e-aac2-4643-90b5-45e7efda8533",
   "metadata": {},
   "outputs": [],
   "source": [
    "# **kwargs -> Non Positonal Keywird argument"
   ]
  },
  {
   "cell_type": "code",
   "execution_count": null,
   "id": "02a7fd59-4589-4a39-b617-99a190e4bc7c",
   "metadata": {},
   "outputs": [],
   "source": []
  },
  {
   "cell_type": "code",
   "execution_count": null,
   "id": "1ac00860-2374-4e17-be54-b09b1c921b27",
   "metadata": {},
   "outputs": [],
   "source": [
    "def abc(**kwargs,*args):\n",
    "    return kwargs, args"
   ]
  },
  {
   "cell_type": "code",
   "execution_count": null,
   "id": "6521c9ed-3a30-4e30-80d5-bd2b99f15473",
   "metadata": {},
   "outputs": [],
   "source": [
    "abc(name='gourav',age=10)"
   ]
  },
  {
   "cell_type": "code",
   "execution_count": null,
   "id": "4f3578e1-138d-4a59-92e4-23a9654a50c0",
   "metadata": {},
   "outputs": [],
   "source": [
    "def abc(*a,**c):\n",
    "    return a,c\n",
    "abc(1,2,3,name = 'aman')"
   ]
  },
  {
   "cell_type": "code",
   "execution_count": null,
   "id": "5d8be003-6752-4332-91aa-ffae5d9ac1b6",
   "metadata": {},
   "outputs": [],
   "source": [
    "d =10\n",
    "abc(10,12,13,14,15,name = d)"
   ]
  },
  {
   "cell_type": "code",
   "execution_count": null,
   "id": "967ce03a-1ef8-4647-94cc-c5ed5ef6a9be",
   "metadata": {},
   "outputs": [],
   "source": [
    "# annotations, camelcase and docstring"
   ]
  },
  {
   "cell_type": "code",
   "execution_count": null,
   "id": "b9c937f7-4b97-45df-9b06-ea19ad143e07",
   "metadata": {},
   "outputs": [],
   "source": [
    "d =10\n",
    "abc(10,12,13,14,15,name = d)"
   ]
  },
  {
   "cell_type": "code",
   "execution_count": null,
   "id": "869954f1-e8e5-47cd-8e09-01de084db25e",
   "metadata": {},
   "outputs": [],
   "source": []
  },
  {
   "cell_type": "code",
   "execution_count": null,
   "id": "ef8eea35-29db-43b0-a260-01e5d3233d46",
   "metadata": {},
   "outputs": [],
   "source": [
    "a = [(1,2),(3,9),(4,1)]"
   ]
  },
  {
   "cell_type": "code",
   "execution_count": null,
   "id": "d9726906-ded0-4af3-bff5-19487453b542",
   "metadata": {},
   "outputs": [],
   "source": [
    "sorted(a,key=lambda x:x[1])"
   ]
  },
  {
   "cell_type": "code",
   "execution_count": null,
   "id": "5e781714-fd42-4b9b-96f4-bdad3391bb27",
   "metadata": {},
   "outputs": [],
   "source": [
    "# annotations, camelcase and docstring"
   ]
  },
  {
   "cell_type": "code",
   "execution_count": null,
   "id": "83011f71-df40-4d7c-826c-3d78fd745a25",
   "metadata": {},
   "outputs": [],
   "source": [
    "def MyAddFunc(x:int,y:int) -> int:\n",
    "    \"\"\"\n",
    "    Params:\n",
    "        x: First Input as int\n",
    "        y: Second Input as int\n",
    "    Output:\n",
    "        Sum of two numbers\n",
    "    \"\"\"\n",
    "    if isinstance((x,y),int):\n",
    "        return x + y\n",
    "    else:\n",
    "        print('Not Valid !!')"
   ]
  },
  {
   "cell_type": "code",
   "execution_count": null,
   "id": "fd4f91e1-73df-4740-8bb1-4773394635bb",
   "metadata": {},
   "outputs": [],
   "source": [
    "MyAddFunc(2.0,3)"
   ]
  },
  {
   "cell_type": "code",
   "execution_count": null,
   "id": "0e7efb9c-aabf-42d8-9bfd-26b2f5406c0d",
   "metadata": {},
   "outputs": [],
   "source": [
    "a = int(input())\n",
    "if a == 1:\n",
    "    print(a / 10)\n",
    "else:\n",
    "    print(-1)"
   ]
  },
  {
   "cell_type": "code",
   "execution_count": null,
   "id": "10830460-934f-4d1a-af91-37cc48de6a5b",
   "metadata": {},
   "outputs": [],
   "source": [
    "# try (code which has error)\n",
    "# except (what to do)\n",
    "# else (after try)\n",
    "# finally (evrytime)"
   ]
  },
  {
   "cell_type": "code",
   "execution_count": 9,
   "id": "10195277-6cdd-4a90-bc06-84da1902203f",
   "metadata": {},
   "outputs": [],
   "source": [
    "def MyAddFunc(*x) -> int:\n",
    "    \"\"\"\n",
    "    Params:\n",
    "        x: Tuple of inputs\n",
    "    Output:\n",
    "        Sum of Tuple\n",
    "    \"\"\"\n",
    "    if all(isinstance(i,int) for i in x):\n",
    "        return sum(x)\n",
    "    else:\n",
    "        raise ValueError('This is not a valid integer')"
   ]
  },
  {
   "cell_type": "code",
   "execution_count": 11,
   "id": "c877c0bb-240b-4b1b-8c24-b96eb00b8257",
   "metadata": {},
   "outputs": [
    {
     "name": "stdout",
     "output_type": "stream",
     "text": [
      "This is not a valid integer\n",
      "Running\n"
     ]
    }
   ],
   "source": [
    "try:\n",
    "    a = MyAddFunc(10.0,20)\n",
    "except ValueError as e:\n",
    "    print(e)\n",
    "else:\n",
    "    print(f'No Error, the answer is {a}')\n",
    "finally:\n",
    "    print('Running')"
   ]
  },
  {
   "cell_type": "code",
   "execution_count": 50,
   "id": "e3d1ece2-a0a8-41a1-956c-06bbe0f67b8e",
   "metadata": {},
   "outputs": [
    {
     "name": "stdout",
     "output_type": "stream",
     "text": [
      "division by zero\n"
     ]
    }
   ],
   "source": [
    "import warnings\n",
    "def MyDivision(x:int,y:int) ->int:\n",
    "    if isinstance(x,int) and isinstance(y,int):\n",
    "        if x < 0 or y <0:\n",
    "            raise ValueError('Negative Numbers are not alowed')\n",
    "        elif y > x:\n",
    "            raise ValueError(f'Denominator should be less than {x}')\n",
    "        else:\n",
    "            return x / y\n",
    "    else:\n",
    "        raise ValueError('Only Integer values are allowed')\n",
    "\n",
    "\n",
    "try:\n",
    "    a = MyDivision(30,0)\n",
    "except ValueError as e:\n",
    "    print(e)\n",
    "except ZeroDivisionError as e:\n",
    "    # raise SyntaxError('Syntax Error')\n",
    "    print(e)\n",
    "except Exception as e:\n",
    "    print('This is a exception !!')\n",
    "else:\n",
    "    print(f'Output is {a}')"
   ]
  },
  {
   "cell_type": "code",
   "execution_count": 45,
   "id": "233b77ea-abdd-4d6e-b274-da83747a022e",
   "metadata": {},
   "outputs": [],
   "source": [
    "# a = 10\n",
    "# if a == 10:\n",
    "#     warnings.warn('Hello')\n",
    "# else:\n",
    "#     print(a)"
   ]
  },
  {
   "cell_type": "code",
   "execution_count": null,
   "id": "f2e9ea2e-2e89-4aaf-89cd-1595530961ef",
   "metadata": {},
   "outputs": [],
   "source": [
    "# piyush gagan gurmmet satish abhay varun aditya renu"
   ]
  },
  {
   "cell_type": "code",
   "execution_count": null,
   "id": "1035933e-d476-481a-aab6-96de0922c5f9",
   "metadata": {},
   "outputs": [],
   "source": []
  }
 ],
 "metadata": {
  "kernelspec": {
   "display_name": "Python 3 (ipykernel)",
   "language": "python",
   "name": "python3"
  },
  "language_info": {
   "codemirror_mode": {
    "name": "ipython",
    "version": 3
   },
   "file_extension": ".py",
   "mimetype": "text/x-python",
   "name": "python",
   "nbconvert_exporter": "python",
   "pygments_lexer": "ipython3",
   "version": "3.12.3"
  }
 },
 "nbformat": 4,
 "nbformat_minor": 5
}
