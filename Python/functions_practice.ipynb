{
 "cells": [
  {
   "cell_type": "code",
   "execution_count": 1,
   "id": "14188ff4-cf73-444a-981a-4bb87fed13d8",
   "metadata": {},
   "outputs": [],
   "source": [
    "# Write a function calculate_total that can accept any number of numerical arguments and return their total. \n",
    "# Demonstrate \n",
    "# how the function can be used to sum up daily expenses (e.g., food: ₹200, travel: ₹150, entertainment: ₹300)."
   ]
  },
  {
   "cell_type": "code",
   "execution_count": 2,
   "id": "e54af1e3-ac53-4285-bfc3-3d3314e65a4a",
   "metadata": {},
   "outputs": [],
   "source": [
    "def Calculate_Total(*x):\n",
    "    return sum(x)"
   ]
  },
  {
   "cell_type": "code",
   "execution_count": 4,
   "id": "3a6e6bb7-e9b8-41d0-9346-6ea4376bea7f",
   "metadata": {},
   "outputs": [
    {
     "data": {
      "text/plain": [
       "60"
      ]
     },
     "execution_count": 4,
     "metadata": {},
     "output_type": "execute_result"
    }
   ],
   "source": [
    "Calculate_Total(10,20,30)"
   ]
  },
  {
   "cell_type": "code",
   "execution_count": 5,
   "id": "5f0cac64-6012-4952-90b5-91ff6ef37386",
   "metadata": {},
   "outputs": [],
   "source": [
    "# Question 2: Packing and Unpacking\n",
    "\n",
    "# Create a function student_info that takes a student's \n",
    "# name as the first argument, followed by any number of subjects and their respective marks using *args. \n",
    "# The function should return the student's name and a list of subjects with marks. \n",
    "# Use the function to display the data for a student named Rahul with subjects Math (90), \n",
    "# Science (85), and English (88)."
   ]
  },
  {
   "cell_type": "code",
   "execution_count": 10,
   "id": "cb10d546-f99a-4301-899d-b6c811071944",
   "metadata": {},
   "outputs": [],
   "source": [
    "def student_info(name,*subjects):\n",
    "    for i in subjects[1::2]:\n",
    "        print(i)\n",
    "    for j in subjects[0::2]:\n",
    "        print(j)\n",
    "    return name"
   ]
  },
  {
   "cell_type": "code",
   "execution_count": 12,
   "id": "39a6c6ca-8f74-4c5e-a494-816ddb18cb72",
   "metadata": {},
   "outputs": [
    {
     "name": "stdout",
     "output_type": "stream",
     "text": [
      "90\n",
      "85\n",
      "Math\n",
      "Science\n"
     ]
    },
    {
     "data": {
      "text/plain": [
       "'Rahul'"
      ]
     },
     "execution_count": 12,
     "metadata": {},
     "output_type": "execute_result"
    }
   ],
   "source": [
    "student_info('Rahul','Math',90,'Science',85)"
   ]
  },
  {
   "cell_type": "code",
   "execution_count": 13,
   "id": "06fa436d-4013-438d-b268-4c919a674bad",
   "metadata": {},
   "outputs": [],
   "source": [
    "# Question 3: Flexible Greeting\n",
    "\n",
    "# Write a function send_greetings that accepts a message template and any number of keyword arguments (**kwargs). \n",
    "# The keys of kwargs should represent the names of recipients, and the values should be their email addresses. \n",
    "# Use the function to create a message and send it to:\n",
    "\n",
    "#     John: john.doe@example.com\n",
    "#     Jane: jane.doe@example.com"
   ]
  },
  {
   "cell_type": "code",
   "execution_count": 17,
   "id": "839e6ecb-ab2e-4a63-b9cf-892d6dacdab4",
   "metadata": {},
   "outputs": [],
   "source": [
    "def send_greetings(template,**kwargs):\n",
    "    return f'Hey Your message is {template} sending to {list(kwargs.values())[0]}'"
   ]
  },
  {
   "cell_type": "code",
   "execution_count": 19,
   "id": "92ae4f98-dbd9-4b8f-a7be-ec15927fc4c4",
   "metadata": {},
   "outputs": [
    {
     "data": {
      "text/plain": [
       "'Hey Your message is Hey how are you sending to grcggg@gmail.com'"
      ]
     },
     "execution_count": 19,
     "metadata": {},
     "output_type": "execute_result"
    }
   ],
   "source": [
    "send_greetings('Hey how are you',Gourav='grcggg@gmail.com')"
   ]
  },
  {
   "cell_type": "code",
   "execution_count": 27,
   "id": "7d2acc37-3343-4265-a9f4-72a8781989fa",
   "metadata": {},
   "outputs": [],
   "source": [
    "# Question 4: Shopping List\n",
    "\n",
    "# Design a function shopping_cart that accepts an arbitrary number of arguments using \n",
    "# *args for item names and **kwargs for item quantities (as key-value pairs). \n",
    "# The function should return a summary of items and their quantities in the format: Item: Quantity.\n",
    "\n",
    "# For example, calling shopping_cart(\"Milk\", \"Eggs\", \"Bread\", Milk=2, Eggs=12, Bread=1) should output:"
   ]
  },
  {
   "cell_type": "code",
   "execution_count": 35,
   "id": "58d68671-c08c-4682-b477-86760d7b48e0",
   "metadata": {},
   "outputs": [],
   "source": [
    "def shopping_cart(*names,**quant):\n",
    "    print('Shopping Cart Summary')\n",
    "    for i,j in quant.items():\n",
    "        print(f'{i}:{j}')"
   ]
  },
  {
   "cell_type": "code",
   "execution_count": 37,
   "id": "2ad75497-0bbe-4b5a-b06b-aa6a0917f218",
   "metadata": {},
   "outputs": [
    {
     "name": "stdout",
     "output_type": "stream",
     "text": [
      "Shopping Cart Summary\n",
      "milk:2\n",
      "butter:4\n"
     ]
    }
   ],
   "source": [
    "shopping_cart('milk','butter',milk=2,butter = 4)"
   ]
  },
  {
   "cell_type": "code",
   "execution_count": 38,
   "id": "85560e31-c6bc-4393-9009-10370051ebd2",
   "metadata": {},
   "outputs": [],
   "source": [
    "a = {\n",
    "    'a':2,\n",
    "    'b':3\n",
    "}"
   ]
  },
  {
   "cell_type": "code",
   "execution_count": 44,
   "id": "d4f74f74-4207-4c35-8e63-a10c3db5b5bf",
   "metadata": {},
   "outputs": [
    {
     "name": "stdout",
     "output_type": "stream",
     "text": [
      "a 2\n",
      "b 3\n"
     ]
    }
   ],
   "source": [
    "for i, j in a.items():\n",
    "    print(i,j)"
   ]
  },
  {
   "cell_type": "code",
   "execution_count": 45,
   "id": "1621b940-3ad6-439f-8271-6e0dd60636d2",
   "metadata": {},
   "outputs": [],
   "source": [
    "# Question 5: Personalized Offers\n",
    "\n",
    "# Create a function special_offers that accepts a customer's name and \n",
    "# any number of keyword arguments (**kwargs) for product categories and their discount percentages. \n",
    "# The function should return a string showing the customer's name and the offers they are eligible for.\n",
    "\n",
    "# special_offers(\"Amit\", electronics=20, groceries=10, clothing=15)"
   ]
  },
  {
   "cell_type": "code",
   "execution_count": 47,
   "id": "d535dde6-2364-47cc-9e6c-baac57581700",
   "metadata": {},
   "outputs": [],
   "source": [
    "# Amit, you have the following offers:\n",
    "# Electronics: 20% off\n",
    "# Groceries: 10% off\n",
    "# Clothing: 15% off"
   ]
  },
  {
   "cell_type": "code",
   "execution_count": 50,
   "id": "3551cfb0-f422-417b-b090-a4c68172cd8c",
   "metadata": {},
   "outputs": [],
   "source": [
    "def special_offers(name,**products):\n",
    "    print(f'Hey {name} you have the following offers')\n",
    "    for i,j in products.items():\n",
    "        print(f'{i}:{j} % off')\n",
    "    return "
   ]
  },
  {
   "cell_type": "code",
   "execution_count": 54,
   "id": "d8e73205-6ddb-4330-9bea-19d7e8e81174",
   "metadata": {},
   "outputs": [
    {
     "name": "stdout",
     "output_type": "stream",
     "text": [
      "Hey Gourav you have the following offers\n",
      "electrical:10 % off\n",
      "tech:40 % off\n"
     ]
    }
   ],
   "source": [
    "special_offers('Gourav',electrical=10,tech=40)"
   ]
  },
  {
   "cell_type": "code",
   "execution_count": 73,
   "id": "a40db93c-55ff-4d21-a867-849c4503c568",
   "metadata": {},
   "outputs": [],
   "source": [
    "# Write a function register_event that takes the name of the event as the first argument, \n",
    "# followed by any number of participant names using *args. \n",
    "# The function should return a dictionary with the evtent name as the key and \n",
    "# a list of participant names as the value."
   ]
  },
  {
   "cell_type": "code",
   "execution_count": 80,
   "id": "f18227d9-d418-487f-9499-02dd86f429d5",
   "metadata": {},
   "outputs": [],
   "source": [
    "def register_event(name,*args):\n",
    "    d = {}\n",
    "    d[name] = list(args)\n",
    "    return d"
   ]
  },
  {
   "cell_type": "code",
   "execution_count": 82,
   "id": "ff204a92-12d0-458a-a4ef-a641707c6af3",
   "metadata": {},
   "outputs": [
    {
     "data": {
      "text/plain": [
       "{'Singing': ['naman', 'gourav']}"
      ]
     },
     "execution_count": 82,
     "metadata": {},
     "output_type": "execute_result"
    }
   ],
   "source": [
    "register_event('Singing','naman','gourav')"
   ]
  },
  {
   "cell_type": "code",
   "execution_count": 83,
   "id": "dbce4240-3cf9-4e85-af4c-59dacd7ed556",
   "metadata": {},
   "outputs": [],
   "source": [
    "a = {\n",
    "    \n",
    "}"
   ]
  },
  {
   "cell_type": "code",
   "execution_count": 84,
   "id": "df4aad38-02c4-4861-a549-aa91ce11eac7",
   "metadata": {},
   "outputs": [
    {
     "data": {
      "text/plain": [
       "{'key1': 123}"
      ]
     },
     "execution_count": 84,
     "metadata": {},
     "output_type": "execute_result"
    }
   ],
   "source": [
    "a['key1'] = 123\n"
   ]
  },
  {
   "cell_type": "code",
   "execution_count": 86,
   "id": "77b981a2-af91-49f3-9492-32dc3fbb0fbd",
   "metadata": {},
   "outputs": [],
   "source": [
    "class Solution:\n",
    "    def reverse(self, x: int) -> int:\n",
    "        if x < 0:\n",
    "            x*=-1\n",
    "            return -(int(str(x)[::-1]))\n",
    "        else:\n",
    "            return int(str(x)[::-1])      "
   ]
  },
  {
   "cell_type": "code",
   "execution_count": 87,
   "id": "6d530048-262d-4bf9-9eae-f7f4db37a40d",
   "metadata": {},
   "outputs": [],
   "source": [
    "a = Solution()"
   ]
  },
  {
   "cell_type": "code",
   "execution_count": 88,
   "id": "efb0fbfd-cf7d-4500-a1ad-96ca7d946fef",
   "metadata": {},
   "outputs": [
    {
     "data": {
      "text/plain": [
       "-321"
      ]
     },
     "execution_count": 88,
     "metadata": {},
     "output_type": "execute_result"
    }
   ],
   "source": [
    "a.reverse(-123)"
   ]
  },
  {
   "cell_type": "code",
   "execution_count": null,
   "id": "7f67b2be-77a3-4219-b06a-e6629da53efc",
   "metadata": {},
   "outputs": [],
   "source": []
  },
  {
   "cell_type": "code",
   "execution_count": null,
   "id": "425a582e-2d07-4e61-b455-49b1c10af432",
   "metadata": {},
   "outputs": [],
   "source": []
  },
  {
   "cell_type": "code",
   "execution_count": null,
   "id": "df58cafd-a455-46e8-86eb-6b5a8d445fd9",
   "metadata": {},
   "outputs": [],
   "source": []
  },
  {
   "cell_type": "code",
   "execution_count": null,
   "id": "4daa65ed-1adb-45ca-895d-098c4784bed5",
   "metadata": {},
   "outputs": [],
   "source": []
  },
  {
   "cell_type": "code",
   "execution_count": null,
   "id": "6ad4a16c-1d62-4f32-ae40-90ea1489cfc0",
   "metadata": {},
   "outputs": [],
   "source": []
  },
  {
   "cell_type": "code",
   "execution_count": 95,
   "id": "5efddf50-d649-4ca8-ab99-e036bca76f38",
   "metadata": {},
   "outputs": [
    {
     "data": {
      "text/plain": [
       "321"
      ]
     },
     "execution_count": 95,
     "metadata": {},
     "output_type": "execute_result"
    }
   ],
   "source": [
    "int(str(123)[::-1])"
   ]
  },
  {
   "cell_type": "code",
   "execution_count": 96,
   "id": "0ba0242d-3f80-46ab-8d2a-840acc04b9d8",
   "metadata": {},
   "outputs": [],
   "source": [
    "# Create a lambda function to calculate the square of a number and use it to find the square of 7."
   ]
  },
  {
   "cell_type": "code",
   "execution_count": 116,
   "id": "d80906c2-1022-4e79-8329-e653c28f5c4f",
   "metadata": {},
   "outputs": [],
   "source": [
    "# Write a function print_args that uses *args to \n",
    "# print all the arguments passed to it. Call the function with the values 1, 2, 3, 4, 5."
   ]
  },
  {
   "cell_type": "code",
   "execution_count": 117,
   "id": "808acc00-7b9b-44a8-aa0d-1cda5c3ae867",
   "metadata": {},
   "outputs": [],
   "source": [
    "# Define a lambda function that multiplies three numbers. Use it to calculate the product of 2, 3, and 4."
   ]
  },
  {
   "cell_type": "code",
   "execution_count": 118,
   "id": "a289abd8-db62-4849-b3d4-25c50c96e69e",
   "metadata": {},
   "outputs": [],
   "source": [
    "f = lambda a:a**2"
   ]
  },
  {
   "cell_type": "code",
   "execution_count": 119,
   "id": "1216670a-d395-4489-87f1-245ae5eb190b",
   "metadata": {},
   "outputs": [
    {
     "data": {
      "text/plain": [
       "49"
      ]
     },
     "execution_count": 119,
     "metadata": {},
     "output_type": "execute_result"
    }
   ],
   "source": [
    "f(7)"
   ]
  },
  {
   "cell_type": "code",
   "execution_count": 120,
   "id": "5f2ac72d-3531-4be3-ab83-7e5f2bc7d908",
   "metadata": {},
   "outputs": [],
   "source": [
    "def print_args(*args):\n",
    "    return args"
   ]
  },
  {
   "cell_type": "code",
   "execution_count": 121,
   "id": "f72d554d-d052-4eaf-9f89-afea0c00edf8",
   "metadata": {},
   "outputs": [
    {
     "data": {
      "text/plain": [
       "(1, 2, 3, 4)"
      ]
     },
     "execution_count": 121,
     "metadata": {},
     "output_type": "execute_result"
    }
   ],
   "source": [
    "print_args(1,2,3,4)"
   ]
  },
  {
   "cell_type": "code",
   "execution_count": 122,
   "id": "67a06191-5cd8-4937-b074-4a33dfe0c6a0",
   "metadata": {},
   "outputs": [],
   "source": [
    "# Define a lambda function that multiplies three numbers. Use it to calculate the product of 2, 3, and 4."
   ]
  },
  {
   "cell_type": "code",
   "execution_count": 125,
   "id": "653e8c04-4782-48e1-adf2-1a91beed65e3",
   "metadata": {},
   "outputs": [],
   "source": [
    "import math\n",
    "def abc(x):\n",
    "    return math.sqrt(x)"
   ]
  },
  {
   "cell_type": "code",
   "execution_count": 126,
   "id": "3c3f451a-8a21-411d-bb25-6fee0ff3704a",
   "metadata": {},
   "outputs": [
    {
     "data": {
      "text/plain": [
       "2.6457513110645907"
      ]
     },
     "execution_count": 126,
     "metadata": {},
     "output_type": "execute_result"
    }
   ],
   "source": [
    "abc(7)"
   ]
  },
  {
   "cell_type": "code",
   "execution_count": null,
   "id": "427af0d9-f73e-47f2-92ed-ac279d806f88",
   "metadata": {},
   "outputs": [],
   "source": [
    "# Define a lambda function that multiplies three numbers. Use it to calculate the product of 2, 3, and 4."
   ]
  },
  {
   "cell_type": "code",
   "execution_count": 127,
   "id": "f4afe1c4-0450-4287-9cfe-cb9fd8ad2dd7",
   "metadata": {},
   "outputs": [],
   "source": [
    "# Create a function concat_strings that uses *args to concatenate all string arguments into a single string. \n",
    "# Call it with the arguments \"Hello\", \"World\", and \"!\"."
   ]
  },
  {
   "cell_type": "code",
   "execution_count": 130,
   "id": "f91ed171-7f43-4b1b-9f4e-d26d28614a6b",
   "metadata": {},
   "outputs": [],
   "source": [
    "def concat_string(*x):\n",
    "    return ' '.join(x)"
   ]
  },
  {
   "cell_type": "code",
   "execution_count": 131,
   "id": "52dd7577-c21e-4d42-8fe5-d116e6304b74",
   "metadata": {},
   "outputs": [
    {
     "data": {
      "text/plain": [
       "'Hello hey'"
      ]
     },
     "execution_count": 131,
     "metadata": {},
     "output_type": "execute_result"
    }
   ],
   "source": [
    "concat_string('Hello','hey')"
   ]
  },
  {
   "cell_type": "code",
   "execution_count": 132,
   "id": "94c7c0dc-2e58-4abf-811f-7674981a65e8",
   "metadata": {},
   "outputs": [],
   "source": [
    "# Write a function find_minimum that uses *args to find the smallest number among the arguments. \n",
    "# Test it with the values 12, 7, 19, 3, 15."
   ]
  },
  {
   "cell_type": "code",
   "execution_count": 136,
   "id": "c73a44e1-2611-46ae-94f0-2211fa582137",
   "metadata": {},
   "outputs": [],
   "source": [
    "def find_min(*x):\n",
    "    return sorted(x,reverse=True)[0]"
   ]
  },
  {
   "cell_type": "code",
   "execution_count": 137,
   "id": "3be09693-598d-4cb2-b84c-a3716650e062",
   "metadata": {},
   "outputs": [
    {
     "data": {
      "text/plain": [
       "9"
      ]
     },
     "execution_count": 137,
     "metadata": {},
     "output_type": "execute_result"
    }
   ],
   "source": [
    "find_min(9,2,3)"
   ]
  },
  {
   "cell_type": "code",
   "execution_count": 138,
   "id": "5925c047-c4a3-4213-bd0d-ca48447833c2",
   "metadata": {},
   "outputs": [],
   "source": [
    "# Create a lambda function to calculate the factorial of a number using the reduce function from the functools module.\n",
    "# Find the factorial of 5."
   ]
  },
  {
   "cell_type": "code",
   "execution_count": 139,
   "id": "409fd46b-ccc9-4524-83ec-aacacb946be0",
   "metadata": {},
   "outputs": [
    {
     "data": {
      "text/plain": [
       "<function _functools.reduce>"
      ]
     },
     "execution_count": 139,
     "metadata": {},
     "output_type": "execute_result"
    }
   ],
   "source": [
    "from functools import reduce\n",
    "reduce"
   ]
  },
  {
   "cell_type": "code",
   "execution_count": 141,
   "id": "e9de80d4-acca-4213-b5dc-a1b1f99dfc1f",
   "metadata": {},
   "outputs": [],
   "source": [
    "def fact(n):\n",
    "    return reduce(lambda x,y:x*y,range(1,n+1))"
   ]
  },
  {
   "cell_type": "code",
   "execution_count": 144,
   "id": "0d0d22d6-1672-4e44-97d7-104a7b59cc17",
   "metadata": {},
   "outputs": [
    {
     "data": {
      "text/plain": [
       "40320"
      ]
     },
     "execution_count": 144,
     "metadata": {},
     "output_type": "execute_result"
    }
   ],
   "source": [
    "fact(8)"
   ]
  },
  {
   "cell_type": "code",
   "execution_count": 143,
   "id": "f0939f55-d5f0-4865-93f6-c1ad7560c0b9",
   "metadata": {},
   "outputs": [],
   "source": [
    "# anjali piyush satish gagan gurmeet abhay varun renu"
   ]
  },
  {
   "cell_type": "code",
   "execution_count": null,
   "id": "1719fb54-ed04-413e-8331-64263575d3b5",
   "metadata": {},
   "outputs": [],
   "source": []
  },
  {
   "cell_type": "code",
   "execution_count": null,
   "id": "5c8911d9-bf30-4aea-9cb5-2aff25ea1a4e",
   "metadata": {},
   "outputs": [],
   "source": []
  }
 ],
 "metadata": {
  "kernelspec": {
   "display_name": "Python 3 (ipykernel)",
   "language": "python",
   "name": "python3"
  },
  "language_info": {
   "codemirror_mode": {
    "name": "ipython",
    "version": 3
   },
   "file_extension": ".py",
   "mimetype": "text/x-python",
   "name": "python",
   "nbconvert_exporter": "python",
   "pygments_lexer": "ipython3",
   "version": "3.12.3"
  }
 },
 "nbformat": 4,
 "nbformat_minor": 5
}
