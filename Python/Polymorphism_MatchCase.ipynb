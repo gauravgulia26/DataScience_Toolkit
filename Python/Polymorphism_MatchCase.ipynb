{
 "cells": [
  {
   "cell_type": "code",
   "execution_count": null,
   "id": "232928e3-56b3-47bd-923d-ee3b0b8fbd60",
   "metadata": {},
   "outputs": [],
   "source": [
    "# simple match case statement\n",
    "def runMatch():\n",
    "    num = int(input(\"Enter a number between 1 and 3: \"))\n",
    "    \n",
    "    # match case\n",
    "    match num:\n",
    "        # pattern 1\n",
    "        case 1:\n",
    "            print(\"One\")\n",
    "        # pattern 2\n",
    "        case 2:\n",
    "            print(\"Two\")\n",
    "        # pattern 3\n",
    "        case 3:\n",
    "            print(\"Three\")\n",
    "        # default pattern\n",
    "        case _:\n",
    "            print(\"Number not between 1 and 3\")"
   ]
  },
  {
   "cell_type": "code",
   "execution_count": 3,
   "id": "68621593-bcf3-4f7b-93f5-9f4fcac0b9cf",
   "metadata": {},
   "outputs": [],
   "source": [
    "def abc():\n",
    "    a = int(input(\"Enter a number\"))\n",
    "    if a == 1:\n",
    "        print( 'One')\n",
    "    elif a == 2:\n",
    "        return 'Two'\n",
    "    else:\n",
    "        'Default'"
   ]
  },
  {
   "cell_type": "code",
   "execution_count": 4,
   "id": "2f1a47de-88ef-4ada-8ce5-d1d31dc12358",
   "metadata": {},
   "outputs": [
    {
     "name": "stdin",
     "output_type": "stream",
     "text": [
      "Enter a number 1\n"
     ]
    },
    {
     "name": "stdout",
     "output_type": "stream",
     "text": [
      "One\n"
     ]
    }
   ],
   "source": [
    "abc()"
   ]
  },
  {
   "cell_type": "code",
   "execution_count": 15,
   "id": "d9bfb75b-73ef-40ac-a0f5-f57f777d0030",
   "metadata": {},
   "outputs": [],
   "source": [
    "def abc():\n",
    "    a = eval(input(\"Enter a number\"))\n",
    "    match a:\n",
    "        case 1:\n",
    "            print('One')\n",
    "        case 2:\n",
    "            pass\n",
    "        case 3:\n",
    "            pass\n",
    "        case 4:\n",
    "            print('Hello')\n",
    "        case 'gourav':\n",
    "            print('gourav')\n",
    "        case _:\n",
    "            print('Hello World')"
   ]
  },
  {
   "cell_type": "code",
   "execution_count": 18,
   "id": "1f475484-ccf1-42db-9c32-4f2e32df013e",
   "metadata": {},
   "outputs": [
    {
     "data": {
      "text/plain": [
       "6"
      ]
     },
     "execution_count": 18,
     "metadata": {},
     "output_type": "execute_result"
    }
   ],
   "source": [
    "2 + 4"
   ]
  },
  {
   "cell_type": "code",
   "execution_count": 19,
   "id": "f78a6a63-8e3c-40a5-8257-bdc46f429128",
   "metadata": {},
   "outputs": [
    {
     "data": {
      "text/plain": [
       "'helloworld'"
      ]
     },
     "execution_count": 19,
     "metadata": {},
     "output_type": "execute_result"
    }
   ],
   "source": [
    "'hello' + 'world'"
   ]
  },
  {
   "cell_type": "code",
   "execution_count": 21,
   "id": "ca242112-22d5-4a0c-8a9e-3123fc175c1e",
   "metadata": {},
   "outputs": [
    {
     "ename": "TypeError",
     "evalue": "can only concatenate str (not \"int\") to str",
     "output_type": "error",
     "traceback": [
      "\u001b[0;31m---------------------------------------------------------------------------\u001b[0m",
      "\u001b[0;31mTypeError\u001b[0m                                 Traceback (most recent call last)",
      "Cell \u001b[0;32mIn[21], line 1\u001b[0m\n\u001b[0;32m----> 1\u001b[0m \u001b[38;5;124;43m'\u001b[39;49m\u001b[38;5;124;43mg\u001b[39;49m\u001b[38;5;124;43m'\u001b[39;49m\u001b[43m \u001b[49m\u001b[38;5;241;43m+\u001b[39;49m\u001b[43m \u001b[49m\u001b[38;5;241;43m2\u001b[39;49m\n",
      "\u001b[0;31mTypeError\u001b[0m: can only concatenate str (not \"int\") to str"
     ]
    }
   ],
   "source": [
    "'g' + 2"
   ]
  },
  {
   "cell_type": "code",
   "execution_count": 22,
   "id": "7aeee472-97ca-4fa9-b080-7d6303665a3a",
   "metadata": {},
   "outputs": [
    {
     "name": "stdout",
     "output_type": "stream",
     "text": [
      "5\n",
      "9\n"
     ]
    }
   ],
   "source": [
    "# A simple Python function to demonstrate \n",
    "# Polymorphism\n",
    "\n",
    "def add(x, y, z = 0): \n",
    "    return x + y+z\n",
    "\n",
    "# Driver code \n",
    "print(add(2, 3))\n",
    "print(add(2, 3, 4))"
   ]
  },
  {
   "cell_type": "code",
   "execution_count": 25,
   "id": "dc7044de-c795-44cf-8bf6-db9ac098e1f3",
   "metadata": {},
   "outputs": [
    {
     "name": "stdout",
     "output_type": "stream",
     "text": [
      "New Delhi is the capital of India.\n",
      "Hindi is the most widely spoken language of India.\n",
      "India is a developing country.\n",
      "Washington, D.C. is the capital of USA.\n",
      "English is the primary language of USA.\n",
      "USA is a developed country.\n"
     ]
    }
   ],
   "source": [
    "class India():\n",
    "    def capital(self):\n",
    "        print(\"New Delhi is the capital of India.\")\n",
    "\n",
    "    def language(self):\n",
    "        print(\"Hindi is the most widely spoken language of India.\")\n",
    "\n",
    "    def type(self):\n",
    "        print(\"India is a developing country.\")\n",
    "\n",
    "class USA():\n",
    "    def capital(self):\n",
    "        print(\"Washington, D.C. is the capital of USA.\")\n",
    "\n",
    "    def language(self):\n",
    "        print(\"English is the primary language of USA.\")\n",
    "\n",
    "    def type(self):\n",
    "        print(\"USA is a developed country.\")\n",
    "\n",
    "obj_ind = India()\n",
    "obj_usa = USA()\n",
    "for country in (obj_ind, obj_usa):\n",
    "    country.capital()\n",
    "    country.language()\n",
    "    country.type()\n",
    "    # print(country)"
   ]
  },
  {
   "cell_type": "code",
   "execution_count": 27,
   "id": "d3e396d0-47d8-4591-b4e2-4d361a93dcdc",
   "metadata": {},
   "outputs": [
    {
     "ename": "TypeError",
     "evalue": "'int' object is not iterable",
     "output_type": "error",
     "traceback": [
      "\u001b[0;31m---------------------------------------------------------------------------\u001b[0m",
      "\u001b[0;31mTypeError\u001b[0m                                 Traceback (most recent call last)",
      "Cell \u001b[0;32mIn[27], line 1\u001b[0m\n\u001b[0;32m----> 1\u001b[0m \u001b[38;5;28;43;01mfor\u001b[39;49;00m\u001b[43m \u001b[49m\u001b[43mi\u001b[49m\u001b[43m \u001b[49m\u001b[38;5;129;43;01min\u001b[39;49;00m\u001b[43m \u001b[49m\u001b[38;5;241;43m10\u001b[39;49m\u001b[43m:\u001b[49m\n\u001b[1;32m      2\u001b[0m \u001b[43m    \u001b[49m\u001b[38;5;28;43mprint\u001b[39;49m\u001b[43m(\u001b[49m\u001b[43mi\u001b[49m\u001b[43m)\u001b[49m\n",
      "\u001b[0;31mTypeError\u001b[0m: 'int' object is not iterable"
     ]
    }
   ],
   "source": [
    "for i in 10:\n",
    "    print(i)"
   ]
  },
  {
   "cell_type": "code",
   "execution_count": 29,
   "id": "889723b5-55ad-4110-b50c-b6c0e43efc75",
   "metadata": {},
   "outputs": [
    {
     "name": "stdout",
     "output_type": "stream",
     "text": [
      "g\n",
      "o\n",
      "u\n",
      "r\n",
      "a\n",
      "v\n"
     ]
    }
   ],
   "source": [
    "for i in 'gourav':\n",
    "    print(i)"
   ]
  },
  {
   "cell_type": "code",
   "execution_count": 31,
   "id": "cf5f8248-228c-4a1a-a3a5-f2791c4e4bb2",
   "metadata": {},
   "outputs": [],
   "source": [
    "class Bird:\n",
    "  def intro(self):\n",
    "    print(\"There are many types of birds.\")\n",
    "    \n",
    "  def flight(self):\n",
    "    print(\"Most of the birds can fly but some cannot.\")\n",
    "  \n",
    "class sparrow(Bird):\n",
    "  def flight(self):\n",
    "    print(\"Sparrows can fly.\")\n",
    "    \n",
    "class ostrich(Bird):\n",
    "  def flight(self):\n",
    "    print(\"Ostriches cannot fly.\")"
   ]
  },
  {
   "cell_type": "code",
   "execution_count": 32,
   "id": "3080d9e9-96e4-4d17-b976-1152ac2419cd",
   "metadata": {},
   "outputs": [
    {
     "name": "stdout",
     "output_type": "stream",
     "text": [
      "There are many types of birds.\n",
      "Most of the birds can fly but some cannot.\n",
      "There are many types of birds.\n",
      "Sparrows can fly.\n",
      "There are many types of birds.\n",
      "Ostriches cannot fly.\n"
     ]
    }
   ],
   "source": [
    "obj_bird = Bird()\n",
    "obj_spr = sparrow()\n",
    "obj_ost = ostrich()\n",
    "\n",
    "obj_bird.intro()\n",
    "obj_bird.flight()\n",
    "\n",
    "obj_spr.intro()\n",
    "obj_spr.flight()\n",
    "\n",
    "obj_ost.intro()\n",
    "obj_ost.flight()"
   ]
  }
 ],
 "metadata": {
  "kernelspec": {
   "display_name": "Python 3 (ipykernel)",
   "language": "python",
   "name": "python3"
  },
  "language_info": {
   "codemirror_mode": {
    "name": "ipython",
    "version": 3
   },
   "file_extension": ".py",
   "mimetype": "text/x-python",
   "name": "python",
   "nbconvert_exporter": "python",
   "pygments_lexer": "ipython3",
   "version": "3.12.3"
  }
 },
 "nbformat": 4,
 "nbformat_minor": 5
}
