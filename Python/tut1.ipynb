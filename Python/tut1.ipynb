{
 "cells": [
  {
   "cell_type": "code",
   "execution_count": 32,
   "id": "8d120456-dbc2-4a41-a782-560aa6f5fef7",
   "metadata": {},
   "outputs": [],
   "source": [
    "# lambda functions"
   ]
  },
  {
   "cell_type": "code",
   "execution_count": 39,
   "id": "27a8121e-2584-4b85-ad5b-ebec1e258546",
   "metadata": {},
   "outputs": [],
   "source": [
    "def sum_fx(x,y):\n",
    "    \"\"\"\n",
    "    this is a function\n",
    "    \"\"\"\n",
    "    return x + y"
   ]
  },
  {
   "cell_type": "code",
   "execution_count": 43,
   "id": "707e1bcd-10a0-4246-8e4f-83c545ff557e",
   "metadata": {},
   "outputs": [
    {
     "data": {
      "text/plain": [
       "'\\n    this is a function\\n    '"
      ]
     },
     "execution_count": 43,
     "metadata": {},
     "output_type": "execute_result"
    }
   ],
   "source": [
    "sum_fx.__doc__"
   ]
  },
  {
   "cell_type": "code",
   "execution_count": 44,
   "id": "c6f81f52-3082-4cda-9706-ec34cae40aa3",
   "metadata": {},
   "outputs": [
    {
     "data": {
      "text/plain": [
       "<function __main__.<lambda>(x, y)>"
      ]
     },
     "execution_count": 44,
     "metadata": {},
     "output_type": "execute_result"
    }
   ],
   "source": [
    "lambda x,y:x+y"
   ]
  },
  {
   "cell_type": "code",
   "execution_count": 37,
   "id": "bfeec04a-12da-4579-8d0b-06a65bb70b9a",
   "metadata": {},
   "outputs": [
    {
     "data": {
      "text/plain": [
       "5"
      ]
     },
     "execution_count": 37,
     "metadata": {},
     "output_type": "execute_result"
    }
   ],
   "source": [
    "x(3,2)"
   ]
  },
  {
   "cell_type": "code",
   "execution_count": null,
   "id": "d37250a0-3777-4994-80cd-61680ddf1bc6",
   "metadata": {},
   "outputs": [],
   "source": [
    "def myfunc(n):\n",
    "  return lambda a : a * n\n",
    "\n",
    "mydoubler = myfunc(2)\n",
    "\n",
    "print(mydoubler(11))"
   ]
  },
  {
   "cell_type": "code",
   "execution_count": 45,
   "id": "c9794b79-7e29-4d7d-a8ec-9b872feb791c",
   "metadata": {},
   "outputs": [],
   "source": [
    "del x"
   ]
  },
  {
   "cell_type": "code",
   "execution_count": 48,
   "id": "0572c034-26ce-48fd-8221-6dc4c968ee51",
   "metadata": {},
   "outputs": [
    {
     "name": "stdout",
     "output_type": "stream",
     "text": [
      "Error Aa gaya !! \n"
     ]
    }
   ],
   "source": [
    "try:\n",
    "  print(x)\n",
    "except:\n",
    "  print(\"Error Aa gaya !! \")"
   ]
  },
  {
   "cell_type": "code",
   "execution_count": 56,
   "id": "16286bdf-d16d-4671-b6fc-0ac545d3ca51",
   "metadata": {},
   "outputs": [
    {
     "name": "stdout",
     "output_type": "stream",
     "text": [
      "Hello\n",
      "Nothing went wrong\n",
      "Hurray !!!\n"
     ]
    }
   ],
   "source": [
    "try:\n",
    "    print(\"Hello\")\n",
    "except:\n",
    "    print(\"Something went wrong\")\n",
    "else:\n",
    "    print(\"Nothing went wrong\")\n",
    "finally:\n",
    "    print('Hurray !!!')"
   ]
  },
  {
   "cell_type": "code",
   "execution_count": 87,
   "id": "0397123a-f357-49b1-9f83-07807e707950",
   "metadata": {},
   "outputs": [],
   "source": [
    "def division_game(x,y):\n",
    "    if y == 0:\n",
    "        raise ZeroDivisionError(\"Hutt\")\n",
    "    elif type(x) == str or type(y) == str:\n",
    "        raise ValueError('This is not possible')\n",
    "    elif y > x:\n",
    "        raise ValueError(\"You can't enter a number which is greater than numerator.\")\n",
    "    else:\n",
    "        return x // y"
   ]
  },
  {
   "cell_type": "code",
   "execution_count": 88,
   "id": "aa62f626-9d44-40a1-a185-3b5a28c6bd05",
   "metadata": {},
   "outputs": [
    {
     "name": "stdin",
     "output_type": "stream",
     "text": [
      "Enter first number:  10\n",
      "Enter Second number:  0\n"
     ]
    },
    {
     "name": "stdout",
     "output_type": "stream",
     "text": [
      "Error Hutt\n"
     ]
    }
   ],
   "source": [
    "try:\n",
    "    a = int(input('Enter first number: '))\n",
    "    b = int(input('Enter Second number: '))\n",
    "    print(division_game(a,b))\n",
    "except ZeroDivisionError as e:\n",
    "    print(f\"Error {e}\")\n",
    "except ValueError as e:\n",
    "    print(f\"Error {e}\")\n",
    "except ValueError as e:\n",
    "    print(e)\n",
    "except Exception as e:\n",
    "    print('Error Occured !!')"
   ]
  },
  {
   "cell_type": "code",
   "execution_count": 92,
   "id": "a569a021-d6d7-442b-9037-6153088e0f70",
   "metadata": {},
   "outputs": [],
   "source": [
    "# this is print command which will print something"
   ]
  },
  {
   "cell_type": "code",
   "execution_count": 93,
   "id": "c9d98987-c58f-4e88-82b0-6f49acaad2b2",
   "metadata": {},
   "outputs": [],
   "source": [
    "# this\n",
    "# is \n",
    "# a\n",
    "# comment"
   ]
  },
  {
   "cell_type": "code",
   "execution_count": 94,
   "id": "b9c484ba-12cd-494a-be46-aa0da509a07a",
   "metadata": {},
   "outputs": [
    {
     "data": {
      "text/plain": [
       "'\\nksahfakjfhadh\\nlkfsnlksflkjgljsdgljl\\n'"
      ]
     },
     "execution_count": 94,
     "metadata": {},
     "output_type": "execute_result"
    }
   ],
   "source": [
    "\"\"\"\n",
    "ksahfakjfhadh\n",
    "lkfsnlksflkjgljsdgljl\n",
    "\"\"\""
   ]
  },
  {
   "cell_type": "code",
   "execution_count": 97,
   "id": "2fbdb51f-1ef6-4734-96d2-f0b4758bbbe7",
   "metadata": {},
   "outputs": [],
   "source": [
    "if a > 2:\n",
    "    pass"
   ]
  },
  {
   "cell_type": "code",
   "execution_count": 101,
   "id": "e3f91815-2beb-4c2e-b385-77a134f00dc0",
   "metadata": {},
   "outputs": [],
   "source": [
    "if a > 2:\n",
    "    pass\n",
    "    if a > 6:\n",
    "        pass\n",
    "        if a > 30:\n",
    "            pass\n",
    "        pass\n",
    "    pass\n",
    "pass"
   ]
  },
  {
   "cell_type": "code",
   "execution_count": 112,
   "id": "009c242d-0531-4a74-a7bb-4be10f476db4",
   "metadata": {},
   "outputs": [
    {
     "name": "stdout",
     "output_type": "stream",
     "text": [
      "Hello World\n"
     ]
    }
   ],
   "source": [
    "if a > 2:\n",
    "        \n",
    "    print('Hello World')"
   ]
  },
  {
   "cell_type": "code",
   "execution_count": 119,
   "id": "24a11029-ce02-49a4-bb8d-8998a3269aad",
   "metadata": {},
   "outputs": [
    {
     "data": {
      "text/plain": [
       "False"
      ]
     },
     "execution_count": 119,
     "metadata": {},
     "output_type": "execute_result"
    }
   ],
   "source": [
    "'b' == 'B'"
   ]
  },
  {
   "cell_type": "code",
   "execution_count": 125,
   "id": "e677f4ca-fc22-43df-b8a6-72a71c73c1b1",
   "metadata": {},
   "outputs": [
    {
     "ename": "NameError",
     "evalue": "name 'a' is not defined",
     "output_type": "error",
     "traceback": [
      "\u001b[0;31m---------------------------------------------------------------------------\u001b[0m",
      "\u001b[0;31mNameError\u001b[0m                                 Traceback (most recent call last)",
      "Cell \u001b[0;32mIn[125], line 1\u001b[0m\n\u001b[0;32m----> 1\u001b[0m \u001b[38;5;28;01mif\u001b[39;00m \u001b[43ma\u001b[49m \u001b[38;5;241m==\u001b[39m \u001b[38;5;241m20\u001b[39m:\n\u001b[1;32m      2\u001b[0m     \u001b[38;5;28mprint\u001b[39m(a)\n\u001b[1;32m      3\u001b[0m \u001b[38;5;28;01melse\u001b[39;00m:\n",
      "\u001b[0;31mNameError\u001b[0m: name 'a' is not defined"
     ]
    }
   ],
   "source": [
    "if a == 20:\n",
    "    print(a)\n",
    "else:\n",
    "    print(-1)"
   ]
  },
  {
   "cell_type": "code",
   "execution_count": 129,
   "id": "ec5669bc-d222-427b-b938-283ae06436c0",
   "metadata": {},
   "outputs": [],
   "source": [
    "a = \"has'nt\""
   ]
  },
  {
   "cell_type": "code",
   "execution_count": 132,
   "id": "0c857135-995d-4622-8d72-816fec546869",
   "metadata": {},
   "outputs": [],
   "source": [
    "a = 'has\"nt'"
   ]
  },
  {
   "cell_type": "code",
   "execution_count": 151,
   "id": "5d53b388-1fbe-4432-b55f-f153615cfc54",
   "metadata": {},
   "outputs": [
    {
     "name": "stdout",
     "output_type": "stream",
     "text": [
      "hello world\n",
      "hey world\n"
     ]
    }
   ],
   "source": [
    "print('hello world','hey world',sep='\\n')"
   ]
  },
  {
   "cell_type": "code",
   "execution_count": 152,
   "id": "a8438b77-a77d-4b3e-ae6e-ddaef6400a65",
   "metadata": {},
   "outputs": [],
   "source": [
    "# escape sequences\n",
    "# \\n\n",
    "# \\t"
   ]
  },
  {
   "cell_type": "code",
   "execution_count": 156,
   "id": "0a9d7167-0fef-4052-b9f9-6142d742c12d",
   "metadata": {},
   "outputs": [],
   "source": [
    "# type casting\n",
    "a = int(10.0)"
   ]
  },
  {
   "cell_type": "code",
   "execution_count": 158,
   "id": "3f3be0a3-854a-4926-9916-9f0dac34da0d",
   "metadata": {},
   "outputs": [
    {
     "data": {
      "text/plain": [
       "int"
      ]
     },
     "execution_count": 158,
     "metadata": {},
     "output_type": "execute_result"
    }
   ],
   "source": [
    "type(a)"
   ]
  },
  {
   "cell_type": "code",
   "execution_count": 160,
   "id": "4aba1fa3-7baf-4f66-86ae-9b5892b8d297",
   "metadata": {},
   "outputs": [
    {
     "name": "stdin",
     "output_type": "stream",
     "text": [
      "enter a number 10\n"
     ]
    },
    {
     "name": "stdout",
     "output_type": "stream",
     "text": [
      "15\n"
     ]
    }
   ],
   "source": [
    "a = float(input('enter a number'))\n",
    "print(a + 5)"
   ]
  },
  {
   "cell_type": "code",
   "execution_count": 161,
   "id": "7954a69a-ae64-4710-8e89-48e070ece27f",
   "metadata": {},
   "outputs": [],
   "source": [
    "# Type Casting"
   ]
  },
  {
   "cell_type": "code",
   "execution_count": 179,
   "id": "c8dff646-de48-49b8-9805-cad93bd90797",
   "metadata": {},
   "outputs": [],
   "source": [
    "a = float(10)"
   ]
  },
  {
   "cell_type": "code",
   "execution_count": 177,
   "id": "bf09f4d5-2322-475b-8099-28fe83a7cd42",
   "metadata": {},
   "outputs": [
    {
     "data": {
      "text/plain": [
       "float"
      ]
     },
     "execution_count": 177,
     "metadata": {},
     "output_type": "execute_result"
    }
   ],
   "source": [
    "type(a)"
   ]
  },
  {
   "cell_type": "code",
   "execution_count": 180,
   "id": "4ae9169a-c315-4595-88f4-b9e63ab2b6bf",
   "metadata": {},
   "outputs": [
    {
     "data": {
      "text/plain": [
       "10.0"
      ]
     },
     "execution_count": 180,
     "metadata": {},
     "output_type": "execute_result"
    }
   ],
   "source": [
    "a"
   ]
  },
  {
   "cell_type": "code",
   "execution_count": 183,
   "id": "6107b9b7-da80-49fb-83ff-5d5872c2bf02",
   "metadata": {},
   "outputs": [],
   "source": [
    "a = bool(0)"
   ]
  },
  {
   "cell_type": "code",
   "execution_count": 184,
   "id": "5dc49edc-ade7-4049-addf-ea141c326501",
   "metadata": {},
   "outputs": [
    {
     "data": {
      "text/plain": [
       "bool"
      ]
     },
     "execution_count": 184,
     "metadata": {},
     "output_type": "execute_result"
    }
   ],
   "source": [
    "type(a)"
   ]
  },
  {
   "cell_type": "code",
   "execution_count": 186,
   "id": "0030aaa6-b5bd-4536-8340-736ba3de81ae",
   "metadata": {},
   "outputs": [],
   "source": [
    "a = 10, 20, 30, 40 ,50"
   ]
  },
  {
   "cell_type": "code",
   "execution_count": 189,
   "id": "d2d7da2f-4ff5-4ecf-9032-7fc4646e1b36",
   "metadata": {},
   "outputs": [],
   "source": [
    "# list\n",
    "# tuple\n",
    "# range"
   ]
  },
  {
   "cell_type": "code",
   "execution_count": 190,
   "id": "784ca76a-0c6b-4d57-8148-27895739fe00",
   "metadata": {},
   "outputs": [],
   "source": [
    "# list"
   ]
  },
  {
   "cell_type": "code",
   "execution_count": 191,
   "id": "a66471e4-91d4-43ce-b5b8-8ee56066b343",
   "metadata": {},
   "outputs": [],
   "source": [
    "a = [10,'gourav',12.45,True]"
   ]
  },
  {
   "cell_type": "code",
   "execution_count": 192,
   "id": "e324b6c4-0b6f-4ae0-b477-0778cb1b9881",
   "metadata": {},
   "outputs": [
    {
     "data": {
      "text/plain": [
       "[10, 'gourav', 12.45, True]"
      ]
     },
     "execution_count": 192,
     "metadata": {},
     "output_type": "execute_result"
    }
   ],
   "source": [
    "a"
   ]
  },
  {
   "cell_type": "code",
   "execution_count": 194,
   "id": "797a65ec-f92d-4c90-8d34-62539727ad68",
   "metadata": {},
   "outputs": [],
   "source": [
    "# Mutable"
   ]
  },
  {
   "cell_type": "code",
   "execution_count": 195,
   "id": "90cbda66-8f83-4b86-9d90-802d35eee35c",
   "metadata": {},
   "outputs": [],
   "source": [
    "a.append(20)"
   ]
  },
  {
   "cell_type": "code",
   "execution_count": 197,
   "id": "1b0b8c88-2632-4cfb-ad75-1920e4f21a17",
   "metadata": {},
   "outputs": [
    {
     "data": {
      "text/plain": [
       "[10, 'gourav', 12.45, True, 20]"
      ]
     },
     "execution_count": 197,
     "metadata": {},
     "output_type": "execute_result"
    }
   ],
   "source": [
    "a"
   ]
  },
  {
   "cell_type": "code",
   "execution_count": 198,
   "id": "d5b6338b-80e2-4da9-8827-c690d6b3e349",
   "metadata": {},
   "outputs": [],
   "source": [
    "# tuple\n",
    "# imutable dtypes"
   ]
  },
  {
   "cell_type": "code",
   "execution_count": 199,
   "id": "3085f182-1053-4cb2-b9e6-d2b17d6f0720",
   "metadata": {},
   "outputs": [],
   "source": [
    "a = (10,20,30)"
   ]
  },
  {
   "cell_type": "code",
   "execution_count": 201,
   "id": "7b15a296-8d2b-45ed-9ffa-a087a42c0388",
   "metadata": {},
   "outputs": [
    {
     "data": {
      "text/plain": [
       "tuple"
      ]
     },
     "execution_count": 201,
     "metadata": {},
     "output_type": "execute_result"
    }
   ],
   "source": [
    "type(a)"
   ]
  },
  {
   "cell_type": "code",
   "execution_count": 204,
   "id": "75fa3181-a8a1-493e-add8-b021283c6826",
   "metadata": {},
   "outputs": [],
   "source": [
    "a = list(a)"
   ]
  },
  {
   "cell_type": "code",
   "execution_count": 206,
   "id": "84ebd2d9-ae78-4c29-860a-738c5bfe9b33",
   "metadata": {},
   "outputs": [],
   "source": [
    "a.append('djnfjn')"
   ]
  },
  {
   "cell_type": "code",
   "execution_count": 208,
   "id": "d006ac06-5c56-459d-a44c-69a8721fc540",
   "metadata": {},
   "outputs": [],
   "source": [
    "a = tuple(a)"
   ]
  },
  {
   "cell_type": "code",
   "execution_count": 210,
   "id": "aa421aff-715c-4526-8bd2-b6fd6a4fbff7",
   "metadata": {},
   "outputs": [
    {
     "data": {
      "text/plain": [
       "(10, 20, 30, 'djnfjn')"
      ]
     },
     "execution_count": 210,
     "metadata": {},
     "output_type": "execute_result"
    }
   ],
   "source": [
    "a"
   ]
  },
  {
   "cell_type": "code",
   "execution_count": 211,
   "id": "c607a912-8c48-471a-b42e-f3d8c6c05b62",
   "metadata": {},
   "outputs": [],
   "source": [
    "# range"
   ]
  },
  {
   "cell_type": "code",
   "execution_count": 218,
   "id": "b191ad32-243a-4db4-8105-29310ae9fc6f",
   "metadata": {},
   "outputs": [
    {
     "data": {
      "text/plain": [
       "range(1, 100)"
      ]
     },
     "execution_count": 218,
     "metadata": {},
     "output_type": "execute_result"
    }
   ],
   "source": [
    "range(1,100)"
   ]
  },
  {
   "cell_type": "code",
   "execution_count": 226,
   "id": "3787963e-53e6-46c7-9a6a-47f57bf76384",
   "metadata": {},
   "outputs": [],
   "source": [
    "a = { 'aman':98965656,\n",
    "     'naman':74747,\n",
    "     'taman':8585,\n",
    "     'daman':74747,\n",
    "     'aman':66\n",
    "}"
   ]
  },
  {
   "cell_type": "code",
   "execution_count": 227,
   "id": "70b91288-7bb0-4606-95cd-348337c59ae2",
   "metadata": {},
   "outputs": [
    {
     "data": {
      "text/plain": [
       "66"
      ]
     },
     "execution_count": 227,
     "metadata": {},
     "output_type": "execute_result"
    }
   ],
   "source": [
    "a['aman']"
   ]
  },
  {
   "cell_type": "code",
   "execution_count": 220,
   "id": "b658df57-1f3d-4155-8f1a-39f47126a19f",
   "metadata": {},
   "outputs": [
    {
     "data": {
      "text/plain": [
       "dict"
      ]
     },
     "execution_count": 220,
     "metadata": {},
     "output_type": "execute_result"
    }
   ],
   "source": [
    "type(a)"
   ]
  },
  {
   "cell_type": "code",
   "execution_count": 228,
   "id": "28822d9d-8a0e-4409-98a8-e6efc47a60af",
   "metadata": {},
   "outputs": [],
   "source": [
    "a = 10"
   ]
  },
  {
   "cell_type": "code",
   "execution_count": null,
   "id": "09ffb2f1-d81e-451d-9169-b0d223b8fc57",
   "metadata": {},
   "outputs": [],
   "source": []
  },
  {
   "cell_type": "code",
   "execution_count": 231,
   "id": "15b25d47-9e04-401e-81fa-fb7ffaff1683",
   "metadata": {},
   "outputs": [],
   "source": [
    "a = [1,2,3]"
   ]
  },
  {
   "cell_type": "code",
   "execution_count": 232,
   "id": "2ab417a4-3800-4e9d-b2fd-dcc3a57135fa",
   "metadata": {},
   "outputs": [
    {
     "data": {
      "text/plain": [
       "{1, 2, 3}"
      ]
     },
     "execution_count": 232,
     "metadata": {},
     "output_type": "execute_result"
    }
   ],
   "source": [
    "set(a)"
   ]
  },
  {
   "cell_type": "code",
   "execution_count": 233,
   "id": "805ef624-1faa-4706-a0cb-14387b3b5a20",
   "metadata": {},
   "outputs": [],
   "source": [
    "a = {12,13,14}"
   ]
  },
  {
   "cell_type": "code",
   "execution_count": 236,
   "id": "0eac5cef-5c7e-47b4-bfb0-b15ff4a22ef8",
   "metadata": {},
   "outputs": [
    {
     "data": {
      "text/plain": [
       "set"
      ]
     },
     "execution_count": 236,
     "metadata": {},
     "output_type": "execute_result"
    }
   ],
   "source": [
    "type(a)"
   ]
  },
  {
   "cell_type": "code",
   "execution_count": 237,
   "id": "1993b937-54ff-4211-b80d-97946e1e72f0",
   "metadata": {},
   "outputs": [],
   "source": [
    "a = [10,20,30,40,10,10,10]"
   ]
  },
  {
   "cell_type": "code",
   "execution_count": 240,
   "id": "209dff04-b226-4a20-9e8b-a2a5170e919b",
   "metadata": {},
   "outputs": [
    {
     "data": {
      "text/plain": [
       "{10, 20, 30, 40}"
      ]
     },
     "execution_count": 240,
     "metadata": {},
     "output_type": "execute_result"
    }
   ],
   "source": [
    "set(a)"
   ]
  },
  {
   "cell_type": "code",
   "execution_count": 241,
   "id": "f4798c0e-5b95-46bb-b09a-2597987739a2",
   "metadata": {},
   "outputs": [],
   "source": [
    "a = None"
   ]
  },
  {
   "cell_type": "code",
   "execution_count": 244,
   "id": "75810357-7309-49e2-9f05-db311487568f",
   "metadata": {},
   "outputs": [],
   "source": [
    "# list\n",
    "# tuple\n",
    "# dictionary\n",
    "# set\n",
    "# boolean\n",
    "# None"
   ]
  },
  {
   "cell_type": "code",
   "execution_count": 245,
   "id": "45a867b1-c361-49a1-86a5-650924f3982e",
   "metadata": {},
   "outputs": [],
   "source": [
    "a = [10,20,30]"
   ]
  },
  {
   "cell_type": "code",
   "execution_count": 246,
   "id": "bb35efcd-3278-4b2e-936c-ef19903dce0c",
   "metadata": {},
   "outputs": [],
   "source": [
    "a.append(40)"
   ]
  },
  {
   "cell_type": "code",
   "execution_count": 247,
   "id": "b6331f19-4bdc-4ddc-b18b-b29cabf0f370",
   "metadata": {},
   "outputs": [
    {
     "data": {
      "text/plain": [
       "[10, 20, 30, 40]"
      ]
     },
     "execution_count": 247,
     "metadata": {},
     "output_type": "execute_result"
    }
   ],
   "source": [
    "'gourav'"
   ]
  },
  {
   "cell_type": "code",
   "execution_count": null,
   "id": "4e3ea91d-6eba-49ba-9a3f-68d9d8926b8f",
   "metadata": {},
   "outputs": [],
   "source": []
  },
  {
   "cell_type": "code",
   "execution_count": 1,
   "id": "8d4de293-98cd-4bb1-8851-0ceecacea364",
   "metadata": {},
   "outputs": [],
   "source": [
    "# List Comprehension & String Methods\n",
    "# Write a Python list comprehension to take each word from the list words = \n",
    "# [\"hello\", \"world\", \"python\", \"programming\"], \n",
    "# convert it to uppercase using a string method, and store only those words that contain the letter \"O\" in uppercase.\n",
    "\n",
    "# Example Answer: ['WORLD', 'PYTHON']"
   ]
  },
  {
   "cell_type": "code",
   "execution_count": 2,
   "id": "b26bf3e5-5c1d-44f6-bde3-6d25243c5d87",
   "metadata": {},
   "outputs": [
    {
     "ename": "SyntaxError",
     "evalue": "invalid syntax (2635442965.py, line 1)",
     "output_type": "error",
     "traceback": [
      "\u001b[0;36m  Cell \u001b[0;32mIn[2], line 1\u001b[0;36m\u001b[0m\n\u001b[0;31m    words=[\"hello\",\"world\",\"python\",\"programming\"]words.capitalize()if words == 'o'or'O':\u001b[0m\n\u001b[0m                                                  ^\u001b[0m\n\u001b[0;31mSyntaxError\u001b[0m\u001b[0;31m:\u001b[0m invalid syntax\n"
     ]
    }
   ],
   "source": [
    "words=[\"hello\",\"world\",\"python\",\"programming\"]words.capitalize()if words == 'o'or'O':"
   ]
  },
  {
   "cell_type": "code",
   "execution_count": 3,
   "id": "757dec23-f71e-4875-a9a8-f362d9248530",
   "metadata": {},
   "outputs": [],
   "source": [
    "words=[\"hello\",\"world\",\"python\",\"programming\"]"
   ]
  },
  {
   "cell_type": "code",
   "execution_count": 8,
   "id": "ab77822c-e1f2-45a6-b65a-976538463d37",
   "metadata": {},
   "outputs": [
    {
     "data": {
      "text/plain": [
       "['HELLO', 'WORLD', 'PYTHON', 'PROGRAMMING']"
      ]
     },
     "execution_count": 8,
     "metadata": {},
     "output_type": "execute_result"
    }
   ],
   "source": [
    "[x for x in [x.upper() for x in words]if 'O' in x]"
   ]
  },
  {
   "cell_type": "code",
   "execution_count": 9,
   "id": "8d794ad4-fbbb-41e3-a9d6-845bbd4b5225",
   "metadata": {},
   "outputs": [],
   "source": [
    "# Given a list numbers = [2, 4, 6, 8, 10], use a for loop to append each number multiplied by\n",
    "# 2 to a new list called doubled_numbers. \n",
    "# Then, reverse the doubled_numbers list and print the final list."
   ]
  },
  {
   "cell_type": "code",
   "execution_count": 12,
   "id": "2d4ed1f7-84af-4601-93b6-fcf06e59a702",
   "metadata": {},
   "outputs": [],
   "source": [
    "# a=[2,4,6,8,10]\n",
    "# [x for x in [x.append for x in a(x*2) == double_numbers]]"
   ]
  },
  {
   "cell_type": "code",
   "execution_count": 13,
   "id": "da11a6a1-683a-4a21-9d8d-0816d913fcb9",
   "metadata": {},
   "outputs": [
    {
     "data": {
      "text/plain": [
       "[2, 4, 6, 8, 10]"
      ]
     },
     "execution_count": 13,
     "metadata": {},
     "output_type": "execute_result"
    }
   ],
   "source": [
    "a"
   ]
  },
  {
   "cell_type": "code",
   "execution_count": 15,
   "id": "5e37d427-41f0-4afb-8b04-8e4af56709f0",
   "metadata": {},
   "outputs": [],
   "source": [
    "doubled_numbers = []\n",
    "for i in a:\n",
    "    doubled_numbers.append(i*2)"
   ]
  },
  {
   "cell_type": "code",
   "execution_count": 17,
   "id": "04960fa0-afa2-4d69-acfa-ed0743f875e6",
   "metadata": {},
   "outputs": [
    {
     "data": {
      "text/plain": [
       "[20, 16, 12, 8, 4]"
      ]
     },
     "execution_count": 17,
     "metadata": {},
     "output_type": "execute_result"
    }
   ],
   "source": [
    "doubled_numbers[::-1]"
   ]
  },
  {
   "cell_type": "code",
   "execution_count": 20,
   "id": "4aeb78a7-0b15-4739-9e99-eb6c1df29d85",
   "metadata": {},
   "outputs": [
    {
     "data": {
      "text/plain": [
       "[20, 16, 12, 8, 4]"
      ]
     },
     "execution_count": 20,
     "metadata": {},
     "output_type": "execute_result"
    }
   ],
   "source": [
    "[x*2 for x in a][::-1]"
   ]
  },
  {
   "cell_type": "code",
   "execution_count": 21,
   "id": "f3f9e695-d8ca-4571-9a64-5ac5d12e26ab",
   "metadata": {},
   "outputs": [],
   "source": [
    "# Create a while loop that continuously prompts the user to input a number. Add each number to a \n",
    "# list until the user enters the word \"stop\". Then, use a list comprehension to generate\n",
    "# a list containing only the even numbers from the input list."
   ]
  },
  {
   "cell_type": "code",
   "execution_count": 25,
   "id": "a49c08ae-e7b7-4ef7-a93c-af773a749426",
   "metadata": {},
   "outputs": [
    {
     "name": "stdin",
     "output_type": "stream",
     "text": [
      " 1\n",
      " 2\n",
      " 3\n",
      " 4\n",
      " 5\n",
      " 6\n",
      " 7\n",
      " 8\n",
      " stop\n"
     ]
    },
    {
     "data": {
      "text/plain": [
       "['1', '2', '3', '4', '5', '6', '7', '8']"
      ]
     },
     "execution_count": 25,
     "metadata": {},
     "output_type": "execute_result"
    }
   ],
   "source": [
    "d = []\n",
    "while True:\n",
    "    a = input()\n",
    "    if a.lower() == 'stop':\n",
    "        break\n",
    "    else:\n",
    "        d.append(a)\n",
    "d"
   ]
  },
  {
   "cell_type": "code",
   "execution_count": 30,
   "id": "d6da27e0-ff5d-4b7e-a5a8-dcff79de3337",
   "metadata": {},
   "outputs": [
    {
     "data": {
      "text/plain": [
       "[2, 4, 6, 8]"
      ]
     },
     "execution_count": 30,
     "metadata": {},
     "output_type": "execute_result"
    }
   ],
   "source": [
    "[int(x) for x in d if int(x) % 2 == 0]"
   ]
  },
  {
   "cell_type": "code",
   "execution_count": null,
   "id": "671fb058-bdbd-4f2e-8206-1033b664e8f6",
   "metadata": {},
   "outputs": [],
   "source": [
    "# Given a sentence sentence = \"List comprehensions in Python are powerful\", use a \n",
    "# for loop to split the sentence into words, strip any whitespace (if present), and create a list of words\n",
    "# that have a length greater than 5."
   ]
  },
  {
   "cell_type": "code",
   "execution_count": 31,
   "id": "061dbe57-b1dc-4f95-99a9-f5de124db71b",
   "metadata": {},
   "outputs": [],
   "source": [
    "sentence = \"List comprehensions in Python are powerful\""
   ]
  },
  {
   "cell_type": "code",
   "execution_count": 35,
   "id": "9117d773-695c-436a-ba00-1e5ded810af8",
   "metadata": {},
   "outputs": [
    {
     "data": {
      "text/plain": [
       "['comprehensions', 'Python', 'powerful']"
      ]
     },
     "execution_count": 35,
     "metadata": {},
     "output_type": "execute_result"
    }
   ],
   "source": [
    "[x for x in sentence.split(' ') if len(x) > 5]"
   ]
  },
  {
   "cell_type": "code",
   "execution_count": 36,
   "id": "9e5c4a9c-4842-4937-95f3-b69540413b77",
   "metadata": {},
   "outputs": [],
   "source": [
    "# Write a for loop that iterates over the list words = [\"apple\", \"banana\", \"cherry\", \"date\"]. \n",
    "# For each word, capitalize the first letter,\n",
    "# and if the word contains the letter \"a\", store it in a new list using list comprehension."
   ]
  },
  {
   "cell_type": "code",
   "execution_count": 42,
   "id": "743905dc-d9a0-45fd-82c4-32509329f052",
   "metadata": {},
   "outputs": [],
   "source": [
    "words = ['apple', 'banana', 'cherry', 'date']\n",
    "a=[]\n",
    "for x in words:\n",
    "    a.append(x.capitalize())"
   ]
  },
  {
   "cell_type": "code",
   "execution_count": 44,
   "id": "71ab23cf-7304-4333-bd99-eba968df655d",
   "metadata": {},
   "outputs": [
    {
     "name": "stdout",
     "output_type": "stream",
     "text": [
      "date\n"
     ]
    }
   ],
   "source": [
    "# words = ['apple', 'banana', 'cherry', 'date']\n",
    "# a=[]\n",
    "# for x in words:\n",
    "#     a.append(x.capitalize())\n",
    "# if 'a' or 'A' in a:\n",
    "#     print(x)"
   ]
  },
  {
   "cell_type": "code",
   "execution_count": 48,
   "id": "afc4023d-7d4b-497c-8c7b-cda6455c0689",
   "metadata": {},
   "outputs": [
    {
     "data": {
      "text/plain": [
       "['Not Availaible', 'Banana', 'Not Availaible', 'Date']"
      ]
     },
     "execution_count": 48,
     "metadata": {},
     "output_type": "execute_result"
    }
   ],
   "source": [
    "[x  if 'a' in x else 'Not Availaible' for x in a]"
   ]
  }
 ],
 "metadata": {
  "kernelspec": {
   "display_name": "Python 3 (ipykernel)",
   "language": "python",
   "name": "python3"
  },
  "language_info": {
   "codemirror_mode": {
    "name": "ipython",
    "version": 3
   },
   "file_extension": ".py",
   "mimetype": "text/x-python",
   "name": "python",
   "nbconvert_exporter": "python",
   "pygments_lexer": "ipython3",
   "version": "3.12.3"
  }
 },
 "nbformat": 4,
 "nbformat_minor": 5
}
