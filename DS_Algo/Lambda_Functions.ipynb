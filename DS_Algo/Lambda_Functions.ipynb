{
 "cells": [
  {
   "cell_type": "code",
   "execution_count": 1,
   "id": "724f51dd-c969-4162-8182-ec2f1635509b",
   "metadata": {},
   "outputs": [],
   "source": [
    "# Arrays"
   ]
  },
  {
   "cell_type": "code",
   "execution_count": 7,
   "id": "e853a450-1189-462e-a978-a16515714974",
   "metadata": {},
   "outputs": [
    {
     "name": "stdout",
     "output_type": "stream",
     "text": [
      "2\n",
      "4\n",
      "8\n",
      "16\n",
      "32\n",
      "64\n",
      "128\n"
     ]
    }
   ],
   "source": [
    "i = 1\n",
    "ct = 0\n",
    "while i < 100:\n",
    "    i = i * 2\n",
    "    print(i)"
   ]
  },
  {
   "cell_type": "code",
   "execution_count": 8,
   "id": "e4ca6f88-ed13-4f04-bb4e-d37a1c9aa80a",
   "metadata": {},
   "outputs": [],
   "source": [
    "def binary_search(arr, x, low, high):\n",
    "    if high >= low:                    # 1 operation\n",
    "        mid = (low + high) // 2         # 1 operation\n",
    "        if arr[mid] == x:               # 1 operation\n",
    "            return mid                   # 1 operation\n",
    "        elif arr[mid] > x:              # 1 operation\n",
    "            return binary_search(arr, x, low, mid - 1) # Recursive call\n",
    "        else:\n",
    "            return binary_search(arr, x, mid + 1, high) # Recursive call\n",
    "    return -1   "
   ]
  },
  {
   "cell_type": "code",
   "execution_count": 10,
   "id": "a00dc05c-68b5-4e00-934d-2270d03b3438",
   "metadata": {},
   "outputs": [
    {
     "data": {
      "text/plain": [
       "4"
      ]
     },
     "execution_count": 10,
     "metadata": {},
     "output_type": "execute_result"
    }
   ],
   "source": [
    "binary_search([1,2,3,4,5,6,7,8,9,10],5,0,9)"
   ]
  },
  {
   "cell_type": "code",
   "execution_count": null,
   "id": "9967630d-cc58-4ec0-b51a-a4a1d9ad9c0d",
   "metadata": {},
   "outputs": [],
   "source": [
    "def insertion_sort(arr):\n",
    "    for i in range(1, len(arr)):   # n-1 operations\n",
    "        key = arr[i]               # n-1 operations\n",
    "        j = i - 1                  # n-1 operations\n",
    "        while j >= 0 and key < arr[j]: # ∑(n-i) operations\n",
    "            arr[j + 1] = arr[j]     # ∑(n-i) operations\n",
    "            j -= 1                  # ∑(n-i) operations\n",
    "        arr[j + 1] = key            # n-1 operations"
   ]
  },
  {
   "cell_type": "code",
   "execution_count": null,
   "id": "83b0fbc4-535f-484e-927d-a625abc914a6",
   "metadata": {},
   "outputs": [],
   "source": [
    "def fibonacci(n):\n",
    "    a, b = 0, 1              # 1 operation\n",
    "    for _ in range(n):       # n operations\n",
    "        a, b = b, a + b      # n operations\n",
    "    return a"
   ]
  },
  {
   "cell_type": "code",
   "execution_count": null,
   "id": "8d1f670a-2696-4677-a5ec-9c2ea4f22d7c",
   "metadata": {},
   "outputs": [],
   "source": [
    "def count_frequency(arr):\n",
    "    freq = {}                # 1 operation\n",
    "    for num in arr:          # n operations\n",
    "        if num in freq:       # n operations\n",
    "            freq[num] += 1     # k operations\n",
    "        else:\n",
    "            freq[num] = 1      # n-k operations\n",
    "    return freq "
   ]
  },
  {
   "cell_type": "code",
   "execution_count": null,
   "id": "fee3206e-bc9c-4662-b089-486f42ec8665",
   "metadata": {},
   "outputs": [],
   "source": []
  },
  {
   "cell_type": "code",
   "execution_count": null,
   "id": "36601a4f-5a06-4fd0-a782-0ddba4efbe1b",
   "metadata": {},
   "outputs": [],
   "source": []
  },
  {
   "cell_type": "code",
   "execution_count": 11,
   "id": "3eb26f54-d822-4c35-83d9-bd8aedc629e8",
   "metadata": {},
   "outputs": [],
   "source": [
    "# arrays"
   ]
  },
  {
   "cell_type": "code",
   "execution_count": 12,
   "id": "d7088bb2-d1d5-4ffe-9552-eabc029cb061",
   "metadata": {},
   "outputs": [],
   "source": [
    "a = [1,2,3,4]"
   ]
  },
  {
   "cell_type": "code",
   "execution_count": 13,
   "id": "02a35a73-8491-4b2a-9c00-7c8ec0bf82b9",
   "metadata": {},
   "outputs": [],
   "source": [
    "a.append(6)"
   ]
  },
  {
   "cell_type": "code",
   "execution_count": 14,
   "id": "cb06462c-6be0-405b-82cc-d7fc64496828",
   "metadata": {},
   "outputs": [
    {
     "data": {
      "text/plain": [
       "[1, 2, 3, 4, 6]"
      ]
     },
     "execution_count": 14,
     "metadata": {},
     "output_type": "execute_result"
    }
   ],
   "source": [
    "# appending (o 2^n)\n",
    "# indexing ()"
   ]
  },
  {
   "cell_type": "code",
   "execution_count": 15,
   "id": "8027050b-5765-4a78-be78-4f187f2a7759",
   "metadata": {},
   "outputs": [
    {
     "data": {
      "text/plain": [
       "6"
      ]
     },
     "execution_count": 15,
     "metadata": {},
     "output_type": "execute_result"
    }
   ],
   "source": [
    "# indexing\n",
    "a[4] \n",
    "# (o (1))"
   ]
  },
  {
   "cell_type": "code",
   "execution_count": 16,
   "id": "033c3358-2795-4a89-b53d-7727dc9d2f91",
   "metadata": {},
   "outputs": [],
   "source": [
    "# element wise searching\n",
    "# find where is 6 (o (n))"
   ]
  },
  {
   "cell_type": "code",
   "execution_count": 17,
   "id": "6abe1881-a3bc-4edc-b5ae-38c50bdb0e28",
   "metadata": {},
   "outputs": [],
   "source": [
    "# function and error handling"
   ]
  },
  {
   "cell_type": "code",
   "execution_count": 18,
   "id": "8a7cb50c-b999-4db9-b145-41cfbbfdafe7",
   "metadata": {},
   "outputs": [],
   "source": [
    "# DRY"
   ]
  },
  {
   "cell_type": "code",
   "execution_count": 29,
   "id": "cc24ce45-1bf2-402c-922b-40757fb387d7",
   "metadata": {},
   "outputs": [],
   "source": [
    "def MyFunc(x,y): #here x and y is parameter\n",
    "    print(-1)"
   ]
  },
  {
   "cell_type": "code",
   "execution_count": 30,
   "id": "b75c8c62-d3df-4f4c-bf78-e2e9ed5fab30",
   "metadata": {},
   "outputs": [
    {
     "name": "stdout",
     "output_type": "stream",
     "text": [
      "-1\n"
     ]
    }
   ],
   "source": [
    "MyFunc(10,5) #arguments"
   ]
  },
  {
   "cell_type": "code",
   "execution_count": 32,
   "id": "e4f39922-5765-4d7b-936c-4240cde7ce69",
   "metadata": {},
   "outputs": [
    {
     "name": "stdout",
     "output_type": "stream",
     "text": [
      "-1\n"
     ]
    }
   ],
   "source": [
    "MyFunc(13,2)"
   ]
  },
  {
   "cell_type": "code",
   "execution_count": 33,
   "id": "2a19ee24-c88f-4ead-98a0-15df9a9484a7",
   "metadata": {},
   "outputs": [],
   "source": [
    "# Print vs Return"
   ]
  },
  {
   "cell_type": "code",
   "execution_count": 34,
   "id": "269e7540-18cd-49e8-8690-f071699f0e69",
   "metadata": {},
   "outputs": [],
   "source": [
    "def MyFunc(x,y): #here x and y is parameter\n",
    "    print(-1)\n",
    "\n",
    "\n",
    "def MyFunc1(x,y): #here x and y is parameter\n",
    "    return -1"
   ]
  },
  {
   "cell_type": "code",
   "execution_count": 44,
   "id": "2f05718a-f641-401a-93ac-61f6cdcb13f8",
   "metadata": {},
   "outputs": [],
   "source": [
    "# t = MyFunc(10,5)\n",
    "# t = MyFunc1(10,5)"
   ]
  },
  {
   "cell_type": "code",
   "execution_count": 49,
   "id": "cff2de6b-9562-4475-a53f-cebc18688a7e",
   "metadata": {},
   "outputs": [
    {
     "name": "stdout",
     "output_type": "stream",
     "text": [
      "-1\n"
     ]
    }
   ],
   "source": [
    "a = MyFunc(10,5)"
   ]
  },
  {
   "cell_type": "code",
   "execution_count": 55,
   "id": "c6941011-72ee-4003-8de7-462071e02302",
   "metadata": {},
   "outputs": [],
   "source": [
    "def abc(a):\n",
    "    return a + MyFunc1(10,5)"
   ]
  },
  {
   "cell_type": "code",
   "execution_count": 56,
   "id": "efdb0530-a24e-4568-9ae5-4ea651e8e0f5",
   "metadata": {},
   "outputs": [
    {
     "data": {
      "text/plain": [
       "9"
      ]
     },
     "execution_count": 56,
     "metadata": {},
     "output_type": "execute_result"
    }
   ],
   "source": [
    "abc(10)"
   ]
  },
  {
   "cell_type": "code",
   "execution_count": 63,
   "id": "88456300-6191-46d3-924f-e7377dc544a4",
   "metadata": {},
   "outputs": [],
   "source": [
    "def MyFunc1(x,y):\n",
    "    #here x and y is parameter\n",
    "    return -1\n",
    "    print('Hey i am working')"
   ]
  },
  {
   "cell_type": "code",
   "execution_count": 64,
   "id": "4b6f2c3f-3093-4caf-b952-6c050ccfb2a9",
   "metadata": {},
   "outputs": [
    {
     "data": {
      "text/plain": [
       "-1"
      ]
     },
     "execution_count": 64,
     "metadata": {},
     "output_type": "execute_result"
    }
   ],
   "source": [
    "MyFunc1(2,3)"
   ]
  },
  {
   "cell_type": "code",
   "execution_count": 65,
   "id": "8e7a7e1a-3fe1-429c-b31c-5949e7d401df",
   "metadata": {},
   "outputs": [],
   "source": [
    "# Lambda Functions"
   ]
  },
  {
   "cell_type": "code",
   "execution_count": 67,
   "id": "ad8b4e08-a56a-41f7-ad91-4ffe638c52a0",
   "metadata": {},
   "outputs": [],
   "source": [
    "a = lambda x:x+10"
   ]
  },
  {
   "cell_type": "code",
   "execution_count": 76,
   "id": "d1f5cf4f-0f92-4abd-8f8b-bcfed9278c09",
   "metadata": {},
   "outputs": [
    {
     "name": "stdout",
     "output_type": "stream",
     "text": [
      "33\n"
     ]
    }
   ],
   "source": [
    "def myfunc(n):\n",
    "  return lambda a : a * n\n",
    "\n",
    "mytripler = myfunc(3)\n",
    "\n",
    "print(mytripler(11))"
   ]
  },
  {
   "cell_type": "code",
   "execution_count": 77,
   "id": "844ac0ae-f567-4f2f-abb5-529e8ad625ca",
   "metadata": {},
   "outputs": [],
   "source": [
    "a = lambda x,y,z:x + y + z"
   ]
  },
  {
   "cell_type": "code",
   "execution_count": 81,
   "id": "e9c1de16-5cdc-4a3d-90d4-d74ac2ad4de9",
   "metadata": {},
   "outputs": [
    {
     "data": {
      "text/plain": [
       "int"
      ]
     },
     "execution_count": 81,
     "metadata": {},
     "output_type": "execute_result"
    }
   ],
   "source": [
    "type(a(10,12,13))"
   ]
  },
  {
   "cell_type": "code",
   "execution_count": 83,
   "id": "f34ac029-410d-4cac-81cb-f30fea783f87",
   "metadata": {},
   "outputs": [],
   "source": [
    "def abc(x,y):\n",
    "    def bcd(a,b):\n",
    "        return lambda a:a*10\n",
    "    return bcd(10,12)"
   ]
  },
  {
   "cell_type": "code",
   "execution_count": 85,
   "id": "b6c12e40-457e-45a9-951e-4c3729e1c254",
   "metadata": {},
   "outputs": [
    {
     "data": {
      "text/plain": [
       "<function __main__.abc.<locals>.bcd.<locals>.<lambda>(a)>"
      ]
     },
     "execution_count": 85,
     "metadata": {},
     "output_type": "execute_result"
    }
   ],
   "source": [
    "abc(1,2)"
   ]
  },
  {
   "cell_type": "code",
   "execution_count": null,
   "id": "20ca5d09-b8af-405f-92b2-259ef3175678",
   "metadata": {},
   "outputs": [],
   "source": [
    " # Identity function for unknown op_type\n",
    "\n",
    "# A function that applies multiple operations on a list of numbers\n",
    "def apply_operations(numbers, operation_fn):\n",
    "    return [operation_fn(num) for num in numbers]\n",
    "\n",
    "# Create a multiply operation with a factor of 2\n",
    "multiply_by_2 = operation_factory(\"multiply\", 2)\n",
    "\n",
    "# Create an add operation with a factor of 10\n",
    "add_10 = operation_factory(\"add\", 10)\n",
    "\n",
    "# List of numbers\n",
    "numbers = [1, 2, 3, 4, 5]\n",
    "\n",
    "# Apply the operations on the numbers list\n",
    "multiplied_results = apply_operations(numbers, multiply_by_2)\n",
    "added_results = apply_operations(numbers, add_10)\n",
    "\n",
    "# Print the results\n",
    "print(\"Multiplied by 2:\", multiplied_results)\n",
    "print(\"Added 10:\", added_results)\n"
   ]
  },
  {
   "cell_type": "code",
   "execution_count": 86,
   "id": "2e642b4f-b8fe-48e6-be05-622e6bea2e09",
   "metadata": {},
   "outputs": [],
   "source": [
    "# Higher-order function that takes a function and a factor\n",
    "def operation_factory(op_type, factor):\n",
    "    # Return different lambda functions based on operation type\n",
    "    if op_type == \"multiply\":\n",
    "        return lambda x: x * factor\n",
    "    elif op_type == \"add\":\n",
    "        return lambda x: x + factor\n",
    "    elif op_type == \"subtract\":\n",
    "        return lambda x: x - factor\n",
    "    else:\n",
    "        return lambda x: x "
   ]
  },
  {
   "cell_type": "code",
   "execution_count": 88,
   "id": "08ce2eb5-c982-45ee-ad35-04d955a1f9fe",
   "metadata": {},
   "outputs": [],
   "source": [
    "multiply_by_2 = operation_factory(\"multiply\", 2)"
   ]
  },
  {
   "cell_type": "code",
   "execution_count": 90,
   "id": "1663d2e7-283a-4330-81f4-a12cb86d7189",
   "metadata": {},
   "outputs": [
    {
     "data": {
      "text/plain": [
       "4"
      ]
     },
     "execution_count": 90,
     "metadata": {},
     "output_type": "execute_result"
    }
   ],
   "source": [
    "multiply_by_2(2)"
   ]
  },
  {
   "cell_type": "code",
   "execution_count": 91,
   "id": "4243f5ec-8216-45ac-a9aa-45058693cbcb",
   "metadata": {},
   "outputs": [],
   "source": [
    "# Map filter reduce"
   ]
  },
  {
   "cell_type": "code",
   "execution_count": 93,
   "id": "210f77dd-cf56-483e-8023-5437dac00b53",
   "metadata": {},
   "outputs": [
    {
     "name": "stdout",
     "output_type": "stream",
     "text": [
      "1\n",
      "4\n",
      "9\n"
     ]
    }
   ],
   "source": [
    "# Map ()\n",
    "\n",
    "a = [1,2,3]\n",
    "\n",
    "for i in a:\n",
    "    print(i**2)"
   ]
  },
  {
   "cell_type": "code",
   "execution_count": 99,
   "id": "226543b6-3347-44c9-a480-6231cab30f1c",
   "metadata": {},
   "outputs": [
    {
     "data": {
      "text/plain": [
       "(1, 8, 27)"
      ]
     },
     "execution_count": 99,
     "metadata": {},
     "output_type": "execute_result"
    }
   ],
   "source": [
    "tuple(map(lambda x:x**3,a))"
   ]
  },
  {
   "cell_type": "code",
   "execution_count": 105,
   "id": "ba40f5c1-ca98-4f51-a2af-028aa0d238d7",
   "metadata": {},
   "outputs": [
    {
     "data": {
      "text/plain": [
       "[1, 729, 15625, 117649, 531441, 1771561, 4826809, 11390625, 24137569, 47045881]"
      ]
     },
     "execution_count": 105,
     "metadata": {},
     "output_type": "execute_result"
    }
   ],
   "source": [
    "list(map(lambda d:d**3,list(map(lambda x:x**2,[x for x in [x for x in range(1,20)] if x % 2 == 1]))))"
   ]
  },
  {
   "cell_type": "code",
   "execution_count": 107,
   "id": "53d0ea6f-5eba-4280-877b-bce778057e87",
   "metadata": {},
   "outputs": [],
   "source": [
    "# Filter "
   ]
  },
  {
   "cell_type": "code",
   "execution_count": 108,
   "id": "cd29deca-d154-4c0a-a643-728cab42a5e9",
   "metadata": {},
   "outputs": [],
   "source": [
    "# filter(fx,iterable)"
   ]
  },
  {
   "cell_type": "code",
   "execution_count": 111,
   "id": "46780e5e-f618-43a8-95de-49b9735a8715",
   "metadata": {},
   "outputs": [
    {
     "data": {
      "text/plain": [
       "[1, 3, 5, 7, 9, 11, 13, 15, 17, 19]"
      ]
     },
     "execution_count": 111,
     "metadata": {},
     "output_type": "execute_result"
    }
   ],
   "source": [
    "list(filter(lambda x:x%2==1,[x for x in range(20)]))"
   ]
  },
  {
   "cell_type": "code",
   "execution_count": 120,
   "id": "e95a93ae-1079-4e1c-a1c8-f6188da8307a",
   "metadata": {},
   "outputs": [
    {
     "data": {
      "text/plain": [
       "[9, 16, 25, 36]"
      ]
     },
     "execution_count": 120,
     "metadata": {},
     "output_type": "execute_result"
    }
   ],
   "source": [
    "a = [1,2,3,4,5,6,7,8,9]\n",
    "list(map(lambda x:x**2,list(filter(lambda x:(x>2) and (x < 7),a))))"
   ]
  },
  {
   "cell_type": "code",
   "execution_count": 121,
   "id": "bcad471d-4dd3-4cc3-83b0-9ee495e47b16",
   "metadata": {},
   "outputs": [],
   "source": [
    "# Reduce"
   ]
  },
  {
   "cell_type": "code",
   "execution_count": 130,
   "id": "a6bb5744-003b-4d65-a8e4-0086bc3a807d",
   "metadata": {},
   "outputs": [],
   "source": [
    "from functools import reduce"
   ]
  },
  {
   "cell_type": "code",
   "execution_count": 129,
   "id": "2d9ef84f-aba4-4290-a9dd-4c323e669d42",
   "metadata": {},
   "outputs": [
    {
     "data": {
      "text/plain": [
       "10"
      ]
     },
     "execution_count": 129,
     "metadata": {},
     "output_type": "execute_result"
    }
   ],
   "source": [
    "a = [1,2,3,4]\n",
    "# a = [3,3,4]\n",
    "# a = [6,4]\n",
    "# a =10\n",
    "reduce(lambda a,b:a+b,a)\n"
   ]
  },
  {
   "cell_type": "code",
   "execution_count": 147,
   "id": "f2ed9819-f621-4735-a1c8-c87bee685ff6",
   "metadata": {},
   "outputs": [
    {
     "data": {
      "text/plain": [
       "5950"
      ]
     },
     "execution_count": 147,
     "metadata": {},
     "output_type": "execute_result"
    }
   ],
   "source": [
    "reduce(lambda x,y:x+y,[x for x in range(1,100)])"
   ]
  },
  {
   "cell_type": "code",
   "execution_count": 134,
   "id": "9b27cd40-8338-4856-9deb-3bb75bde7086",
   "metadata": {},
   "outputs": [],
   "source": [
    "a = [1,2,3,4]\n",
    "# you have to square every elemnt of a"
   ]
  },
  {
   "cell_type": "code",
   "execution_count": 145,
   "id": "23883862-29b2-4ad6-b84f-13bf2db35191",
   "metadata": {},
   "outputs": [
    {
     "data": {
      "text/plain": [
       "[1, 4, 9, 16]"
      ]
     },
     "execution_count": 145,
     "metadata": {},
     "output_type": "execute_result"
    }
   ],
   "source": [
    "list(map(lambda x:x**2,[x for x in range(1,5)]))"
   ]
  },
  {
   "cell_type": "code",
   "execution_count": 148,
   "id": "99d9ad34-f4c5-4101-99b1-b5056e8d87e8",
   "metadata": {},
   "outputs": [],
   "source": [
    "def abc(x,y):\n",
    "    return x + y"
   ]
  },
  {
   "cell_type": "code",
   "execution_count": 149,
   "id": "d1e78114-9e1e-4ddc-b931-c247be780d75",
   "metadata": {},
   "outputs": [
    {
     "data": {
      "text/plain": [
       "10"
      ]
     },
     "execution_count": 149,
     "metadata": {},
     "output_type": "execute_result"
    }
   ],
   "source": [
    "reduce(abc,[1,2,3,4])"
   ]
  },
  {
   "cell_type": "code",
   "execution_count": null,
   "id": "333f6d2b-5493-4c54-943a-d984c3b23664",
   "metadata": {},
   "outputs": [],
   "source": []
  },
  {
   "cell_type": "code",
   "execution_count": null,
   "id": "767f9b92-5d58-4af1-8f94-0b44d08d8f14",
   "metadata": {},
   "outputs": [],
   "source": []
  }
 ],
 "metadata": {
  "kernelspec": {
   "display_name": "Python 3 (ipykernel)",
   "language": "python",
   "name": "python3"
  },
  "language_info": {
   "codemirror_mode": {
    "name": "ipython",
    "version": 3
   },
   "file_extension": ".py",
   "mimetype": "text/x-python",
   "name": "python",
   "nbconvert_exporter": "python",
   "pygments_lexer": "ipython3",
   "version": "3.12.3"
  }
 },
 "nbformat": 4,
 "nbformat_minor": 5
}
