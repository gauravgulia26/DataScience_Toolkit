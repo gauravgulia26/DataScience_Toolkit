{
 "cells": [
  {
   "cell_type": "code",
   "execution_count": 20,
   "id": "716e3ede-3233-42a1-b736-8a164e7817f1",
   "metadata": {},
   "outputs": [
    {
     "name": "stdout",
     "output_type": "stream",
     "text": [
      "Hey your statement is running 25 times !!\n"
     ]
    }
   ],
   "source": [
    "# simple loops O(n)\n",
    "ct = 0\n",
    "for i in range(0,100,4):\n",
    "    ct += 1\n",
    "print(f'Hey your statement is running {ct} times !!')"
   ]
  },
  {
   "cell_type": "code",
   "execution_count": 21,
   "id": "1e44e56e-4a0c-46b5-9047-c7a65ffcd8fb",
   "metadata": {},
   "outputs": [
    {
     "name": "stdout",
     "output_type": "stream",
     "text": [
      "Hey your statement is running 400 times !!\n"
     ]
    }
   ],
   "source": [
    "# nested loops O(n^2)\n",
    "ct = 0\n",
    "for i in range(0,20):\n",
    "    for j in range(0,20):\n",
    "        ct += 1\n",
    "print(f'Hey your statement is running {ct} times !!')"
   ]
  },
  {
   "cell_type": "code",
   "execution_count": 6,
   "id": "047d763e-9956-403c-8494-fd46430d9069",
   "metadata": {},
   "outputs": [],
   "source": [
    "# # Initialize variables\n",
    "# p = 0\n",
    "# n = 100000000000000000000000 # Replace with your desired value for n\n",
    "# i = 1\n",
    "\n",
    "# # Loop until p exceeds n\n",
    "# while p <= n:\n",
    "#     p += i\n",
    "#     i += 1\n",
    "\n",
    "# # Print the final values of p and i (optional)\n",
    "# print(\"Final value of p:\", p)\n",
    "# print(\"Last value of i (before increment):\", i - 1)\\\n",
    "\n",
    "# #  O(root(n))"
   ]
  },
  {
   "cell_type": "code",
   "execution_count": 46,
   "id": "6409e0cf-42a5-4323-94e6-f0574a8303b5",
   "metadata": {},
   "outputs": [],
   "source": [
    "# addition\n",
    "\n",
    "\n",
    "def abc(first_num,second_num):\n",
    "    return(first_num + second_num)"
   ]
  },
  {
   "cell_type": "code",
   "execution_count": 47,
   "id": "00529a6c-aa70-4dec-8cd6-6ae20a622718",
   "metadata": {},
   "outputs": [
    {
     "data": {
      "text/plain": [
       "30"
      ]
     },
     "execution_count": 47,
     "metadata": {},
     "output_type": "execute_result"
    }
   ],
   "source": [
    "abc(10,20)"
   ]
  },
  {
   "cell_type": "code",
   "execution_count": 48,
   "id": "2df40953-8f87-45d7-86bb-3a06ab29f374",
   "metadata": {},
   "outputs": [
    {
     "data": {
      "text/plain": [
       "int"
      ]
     },
     "execution_count": 48,
     "metadata": {},
     "output_type": "execute_result"
    }
   ],
   "source": [
    "type(abc(20,30))"
   ]
  },
  {
   "cell_type": "code",
   "execution_count": 41,
   "id": "5d73234c-0b45-4589-a014-2e92e8c22b3c",
   "metadata": {},
   "outputs": [],
   "source": [
    "# return vs print"
   ]
  },
  {
   "cell_type": "code",
   "execution_count": 49,
   "id": "8421528d-14d3-47ad-9bba-5cbec6bb6c77",
   "metadata": {},
   "outputs": [],
   "source": [
    "def bcd():\n",
    "    return 10 + abc(10,20)"
   ]
  },
  {
   "cell_type": "code",
   "execution_count": 50,
   "id": "5bd0b4ee-9b36-44a1-a2cd-1cec0a2e9131",
   "metadata": {},
   "outputs": [
    {
     "data": {
      "text/plain": [
       "40"
      ]
     },
     "execution_count": 50,
     "metadata": {},
     "output_type": "execute_result"
    }
   ],
   "source": [
    "bcd()"
   ]
  },
  {
   "cell_type": "code",
   "execution_count": null,
   "id": "a8438c3c-3db8-4063-ae81-571221917882",
   "metadata": {},
   "outputs": [],
   "source": [
    "# print() -> print\n",
    "# return -> print + dtype"
   ]
  },
  {
   "cell_type": "code",
   "execution_count": 55,
   "id": "b7503a17-ba52-4f59-8059-c8efedf17a28",
   "metadata": {},
   "outputs": [],
   "source": [
    "def my_add(x,y,z):\n",
    "    return(x+y+z)"
   ]
  },
  {
   "cell_type": "code",
   "execution_count": 56,
   "id": "d9db42ac-9533-4a1f-9acc-a12b90e52edd",
   "metadata": {},
   "outputs": [],
   "source": [
    "a = my_add(10,20,30)"
   ]
  },
  {
   "cell_type": "code",
   "execution_count": 58,
   "id": "42f31650-de15-4b5c-8a11-3d9d7374b61c",
   "metadata": {},
   "outputs": [
    {
     "data": {
      "text/plain": [
       "60"
      ]
     },
     "execution_count": 58,
     "metadata": {},
     "output_type": "execute_result"
    }
   ],
   "source": [
    "a"
   ]
  },
  {
   "cell_type": "code",
   "execution_count": 59,
   "id": "97f29455-0cbc-4390-a6e9-03ceb6930449",
   "metadata": {},
   "outputs": [],
   "source": [
    "# annotations and docstring"
   ]
  },
  {
   "cell_type": "code",
   "execution_count": 71,
   "id": "1d8b452c-2d11-41a3-b040-5f2d5dc8b40f",
   "metadata": {},
   "outputs": [],
   "source": [
    "def my_sub(x:int,y:int,z:int)->int:\n",
    "    \"\"\"\n",
    "    Param:\n",
    "        x: This is First Number.\n",
    "        y: This is Second Number.\n",
    "        z: This is Third Number.\n",
    "    Output:\n",
    "        This function will subtract three numbers.\n",
    "    \"\"\"\n",
    "    return f'The result is {x-y-z}'"
   ]
  },
  {
   "cell_type": "code",
   "execution_count": 7,
   "id": "32e1f0cd-aa4e-42a8-ba3a-7bad173b211a",
   "metadata": {},
   "outputs": [],
   "source": [
    "# my_sub(100,90,10)"
   ]
  },
  {
   "cell_type": "code",
   "execution_count": null,
   "id": "c7477915-3f14-4f5b-96f7-88e528ecde36",
   "metadata": {},
   "outputs": [],
   "source": [
    "# arguments"
   ]
  },
  {
   "cell_type": "code",
   "execution_count": null,
   "id": "613d4094-0653-45c5-84ca-9842410da584",
   "metadata": {},
   "outputs": [],
   "source": [
    "# *args"
   ]
  },
  {
   "cell_type": "code",
   "execution_count": 114,
   "id": "c8da432b-6d50-4471-b6b7-3fcbaa9434d8",
   "metadata": {},
   "outputs": [],
   "source": [
    "def my_add(*y):\n",
    "    return y"
   ]
  },
  {
   "cell_type": "code",
   "execution_count": 116,
   "id": "861d5afc-2e9a-4608-989e-100f1db7079e",
   "metadata": {},
   "outputs": [
    {
     "data": {
      "text/plain": [
       "(10, 20, 30)"
      ]
     },
     "execution_count": 116,
     "metadata": {},
     "output_type": "execute_result"
    }
   ],
   "source": [
    "my_add(10,20,30)"
   ]
  },
  {
   "cell_type": "code",
   "execution_count": 94,
   "id": "b3353b40-e523-47df-8532-550dd9476d67",
   "metadata": {},
   "outputs": [],
   "source": [
    "a = (10,20,30)"
   ]
  },
  {
   "cell_type": "code",
   "execution_count": 11,
   "id": "abde4228-61bb-4155-b913-52a568e14e1b",
   "metadata": {},
   "outputs": [],
   "source": [
    "# x,y,z,f = a"
   ]
  },
  {
   "cell_type": "code",
   "execution_count": 118,
   "id": "ef5bceef-f1e1-4feb-92f7-c87d5362132e",
   "metadata": {},
   "outputs": [],
   "source": [
    "# write a function that will take one argument and one * argument\n",
    "# return the max of 4 numbers"
   ]
  },
  {
   "cell_type": "code",
   "execution_count": 138,
   "id": "741f6499-2b5c-4738-80a1-4aaf62c2bdf5",
   "metadata": {},
   "outputs": [],
   "source": [
    "def abc(x,*y):\n",
    "    a,b,c = y\n",
    "    # return max(y)\n",
    "    # print('Hello')\n",
    "    return max(list([a,b,c,x]))\n",
    "    while True:\n",
    "        print('Hello')"
   ]
  },
  {
   "cell_type": "code",
   "execution_count": 139,
   "id": "d802608f-0dd9-4d81-9d0a-cc3c658f5718",
   "metadata": {},
   "outputs": [
    {
     "data": {
      "text/plain": [
       "60"
      ]
     },
     "execution_count": 139,
     "metadata": {},
     "output_type": "execute_result"
    }
   ],
   "source": [
    "abc(60,20,30,40)\n",
    "# print('Hello')"
   ]
  },
  {
   "cell_type": "code",
   "execution_count": 9,
   "id": "e8541606-f91d-4f1d-9547-0a0269940c42",
   "metadata": {},
   "outputs": [],
   "source": [
    "# return"
   ]
  },
  {
   "cell_type": "code",
   "execution_count": 2,
   "id": "f49cc942-9a03-4c31-af40-5f516775e0a5",
   "metadata": {},
   "outputs": [],
   "source": [
    "import numpy"
   ]
  },
  {
   "cell_type": "code",
   "execution_count": null,
   "id": "aa29ee8d-d168-40b1-b780-aa95340a02ea",
   "metadata": {},
   "outputs": [],
   "source": []
  }
 ],
 "metadata": {
  "kernelspec": {
   "display_name": "Python 3 (ipykernel)",
   "language": "python",
   "name": "python3"
  },
  "language_info": {
   "codemirror_mode": {
    "name": "ipython",
    "version": 3
   },
   "file_extension": ".py",
   "mimetype": "text/x-python",
   "name": "python",
   "nbconvert_exporter": "python",
   "pygments_lexer": "ipython3",
   "version": "3.12.3"
  }
 },
 "nbformat": 4,
 "nbformat_minor": 5
}
