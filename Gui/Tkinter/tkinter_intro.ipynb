{
 "cells": [
  {
   "cell_type": "code",
   "execution_count": 2,
   "metadata": {},
   "outputs": [],
   "source": [
    "# %pip install tk-tools"
   ]
  },
  {
   "cell_type": "code",
   "execution_count": null,
   "metadata": {},
   "outputs": [],
   "source": [
    "from tkinter import *\n",
    "\n",
    "window = Tk()\n",
    "\n",
    "\n",
    "\"\"\"\"\n",
    "\n",
    "Frames,Grids,BUtton,Widgets\n",
    "\n",
    "\"\"\"\n",
    "\n",
    "\n",
    "# continously loop -> Close manually to close it !!\n",
    "window.mainloop()"
   ]
  },
  {
   "cell_type": "code",
   "execution_count": 51,
   "metadata": {},
   "outputs": [
    {
     "name": "stdout",
     "output_type": "stream",
     "text": [
      "1\n",
      "2\n",
      "3\n",
      "4\n",
      "5\n",
      "6\n"
     ]
    }
   ],
   "source": [
    "from tkinter import *\n",
    "\n",
    "window = Tk()\n",
    "# Set the title of the window\n",
    "window.title(\"Hello World\")\n",
    "# geometry -> WidthxHeight\n",
    "window.geometry(\"1000x1000\")\n",
    "window.config(bg=\"pink\", cursor=\"man\")\n",
    "\n",
    "ct = 0\n",
    "\n",
    "\n",
    "def click():\n",
    "    global ct\n",
    "    if ct == 5:\n",
    "        btn.config(state=DISABLED)\n",
    "        btn2.config(state=DISABLED)\n",
    "    ct += 1\n",
    "    print(ct)\n",
    "\n",
    "\n",
    "\"\"\"\"\n",
    "\n",
    "Frames,Grids,BUtton,Widgets\n",
    "\n",
    "\"\"\"\n",
    "\n",
    "\n",
    "\"Adding Button in window\"\n",
    "\n",
    "\n",
    "btn = Button(\n",
    "    window,\n",
    "    text=\"Click Me\",\n",
    "    command=click,\n",
    "    bg=\"black\",\n",
    "    fg=\"lime\",\n",
    "    cursor=\"heart\",\n",
    "    activebackground=\"black\",\n",
    "    activeforeground=\"#01fad8\",\n",
    "    border=10,\n",
    "    height=2,\n",
    "    width=15,\n",
    "    relief=RAISED,\n",
    "    font=(\"Roboto\", 12, \"bold\"),\n",
    ")\n",
    "\n",
    "btn2 = Button(\n",
    "    window,\n",
    "    text=\"Click Me\",\n",
    "    command=click,\n",
    "    bg=\"black\",\n",
    "    fg=\"lime\",\n",
    "    cursor=\"heart\",\n",
    "    activebackground=\"black\",\n",
    "    activeforeground=\"#01fad8\",\n",
    "    border=10,\n",
    "    height=2,\n",
    "    width=15,\n",
    "    relief=RAISED,\n",
    "    font=(\"Roboto\", 12, \"bold\"),\n",
    ")\n",
    "\n",
    "btn.pack(padx=10, pady=10, side=TOP)\n",
    "btn2.pack(padx=10, pady=10, side=LEFT)\n",
    "\n",
    "# continously loop -> Close manually to close it !!\n",
    "window.mainloop()"
   ]
  },
  {
   "cell_type": "code",
   "execution_count": null,
   "metadata": {},
   "outputs": [],
   "source": []
  }
 ],
 "metadata": {
  "kernelspec": {
   "display_name": "Netmax_Ml",
   "language": "python",
   "name": "python3"
  },
  "language_info": {
   "codemirror_mode": {
    "name": "ipython",
    "version": 3
   },
   "file_extension": ".py",
   "mimetype": "text/x-python",
   "name": "python",
   "nbconvert_exporter": "python",
   "pygments_lexer": "ipython3",
   "version": "3.10.15"
  }
 },
 "nbformat": 4,
 "nbformat_minor": 2
}
