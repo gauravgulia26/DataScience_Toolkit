{
 "cells": [
  {
   "cell_type": "code",
   "execution_count": 74,
   "metadata": {},
   "outputs": [],
   "source": [
    "import pandas as pd"
   ]
  },
  {
   "cell_type": "code",
   "execution_count": 75,
   "metadata": {},
   "outputs": [],
   "source": [
    "df = pd.read_csv(\n",
    "    \"/home/skynet/Documents/DataScience_Toolkit/libraries/pandas/data/sadak_yojna.csv\"\n",
    ")"
   ]
  },
  {
   "cell_type": "code",
   "execution_count": 76,
   "metadata": {},
   "outputs": [
    {
     "data": {
      "text/html": [
       "<div>\n",
       "<style scoped>\n",
       "    .dataframe tbody tr th:only-of-type {\n",
       "        vertical-align: middle;\n",
       "    }\n",
       "\n",
       "    .dataframe tbody tr th {\n",
       "        vertical-align: top;\n",
       "    }\n",
       "\n",
       "    .dataframe thead th {\n",
       "        text-align: right;\n",
       "    }\n",
       "</style>\n",
       "<table border=\"1\" class=\"dataframe\">\n",
       "  <thead>\n",
       "    <tr style=\"text-align: right;\">\n",
       "      <th></th>\n",
       "      <th>STATE_NAME</th>\n",
       "      <th>DISTRICT_NAME</th>\n",
       "      <th>PMGSY_SCHEME</th>\n",
       "      <th>NO_OF_ROAD_WORK_SANCTIONED</th>\n",
       "      <th>NO_OF_BRIDGES_SANCTIONED</th>\n",
       "      <th>NO_OF_ROAD_WORKS_COMPLETED</th>\n",
       "      <th>NO_OF_BRIDGES_COMPLETED</th>\n",
       "      <th>NO_OF_ROAD_WORKS_BALANCE</th>\n",
       "      <th>NO_OF_BRIDGES_BALANCE</th>\n",
       "      <th>LENGTH_OF_ROAD_WORK_SANCTIONED_KM</th>\n",
       "      <th>COST_OF_WORKS_SANCTIONED_LAKHS</th>\n",
       "      <th>LENGTH_OF_ROAD_WORK_COMPLETED_KM</th>\n",
       "      <th>EXPENDITURE_OCCURED_LAKHS</th>\n",
       "      <th>LENGTH_OF_ROAD_WORK_BALANCE_KM</th>\n",
       "    </tr>\n",
       "  </thead>\n",
       "  <tbody>\n",
       "    <tr>\n",
       "      <th>0</th>\n",
       "      <td>Andhra Pradesh</td>\n",
       "      <td>Alluri Sitharama Raju</td>\n",
       "      <td>PMGSY-II</td>\n",
       "      <td>2</td>\n",
       "      <td>0</td>\n",
       "      <td>2</td>\n",
       "      <td>0</td>\n",
       "      <td>0</td>\n",
       "      <td>0</td>\n",
       "      <td>14.000</td>\n",
       "      <td>8.9385</td>\n",
       "      <td>12.395</td>\n",
       "      <td>6.4294</td>\n",
       "      <td>0.0</td>\n",
       "    </tr>\n",
       "    <tr>\n",
       "      <th>1</th>\n",
       "      <td>Andhra Pradesh</td>\n",
       "      <td>Anakapalli</td>\n",
       "      <td>PMGSY-II</td>\n",
       "      <td>5</td>\n",
       "      <td>0</td>\n",
       "      <td>5</td>\n",
       "      <td>0</td>\n",
       "      <td>0</td>\n",
       "      <td>0</td>\n",
       "      <td>34.620</td>\n",
       "      <td>21.3090</td>\n",
       "      <td>31.291</td>\n",
       "      <td>16.1277</td>\n",
       "      <td>0.0</td>\n",
       "    </tr>\n",
       "    <tr>\n",
       "      <th>2</th>\n",
       "      <td>Andhra Pradesh</td>\n",
       "      <td>Annamayya</td>\n",
       "      <td>PMGSY-II</td>\n",
       "      <td>6</td>\n",
       "      <td>0</td>\n",
       "      <td>6</td>\n",
       "      <td>0</td>\n",
       "      <td>0</td>\n",
       "      <td>0</td>\n",
       "      <td>42.600</td>\n",
       "      <td>19.7260</td>\n",
       "      <td>39.315</td>\n",
       "      <td>16.6850</td>\n",
       "      <td>0.0</td>\n",
       "    </tr>\n",
       "    <tr>\n",
       "      <th>3</th>\n",
       "      <td>Andhra Pradesh</td>\n",
       "      <td>Dr BR Ambedkar Konaseema</td>\n",
       "      <td>PMGSY-I</td>\n",
       "      <td>209</td>\n",
       "      <td>8</td>\n",
       "      <td>209</td>\n",
       "      <td>8</td>\n",
       "      <td>0</td>\n",
       "      <td>0</td>\n",
       "      <td>443.650</td>\n",
       "      <td>126.9822</td>\n",
       "      <td>427.215</td>\n",
       "      <td>141.9707</td>\n",
       "      <td>0.0</td>\n",
       "    </tr>\n",
       "    <tr>\n",
       "      <th>4</th>\n",
       "      <td>Andhra Pradesh</td>\n",
       "      <td>East Godavari</td>\n",
       "      <td>PMGSY-I</td>\n",
       "      <td>104</td>\n",
       "      <td>2</td>\n",
       "      <td>104</td>\n",
       "      <td>2</td>\n",
       "      <td>0</td>\n",
       "      <td>0</td>\n",
       "      <td>252.056</td>\n",
       "      <td>54.5270</td>\n",
       "      <td>249.354</td>\n",
       "      <td>43.5468</td>\n",
       "      <td>0.0</td>\n",
       "    </tr>\n",
       "  </tbody>\n",
       "</table>\n",
       "</div>"
      ],
      "text/plain": [
       "       STATE_NAME             DISTRICT_NAME PMGSY_SCHEME  \\\n",
       "0  Andhra Pradesh     Alluri Sitharama Raju     PMGSY-II   \n",
       "1  Andhra Pradesh                Anakapalli     PMGSY-II   \n",
       "2  Andhra Pradesh                 Annamayya     PMGSY-II   \n",
       "3  Andhra Pradesh  Dr BR Ambedkar Konaseema      PMGSY-I   \n",
       "4  Andhra Pradesh             East Godavari      PMGSY-I   \n",
       "\n",
       "   NO_OF_ROAD_WORK_SANCTIONED  NO_OF_BRIDGES_SANCTIONED  \\\n",
       "0                           2                         0   \n",
       "1                           5                         0   \n",
       "2                           6                         0   \n",
       "3                         209                         8   \n",
       "4                         104                         2   \n",
       "\n",
       "   NO_OF_ROAD_WORKS_COMPLETED  NO_OF_BRIDGES_COMPLETED  \\\n",
       "0                           2                        0   \n",
       "1                           5                        0   \n",
       "2                           6                        0   \n",
       "3                         209                        8   \n",
       "4                         104                        2   \n",
       "\n",
       "   NO_OF_ROAD_WORKS_BALANCE  NO_OF_BRIDGES_BALANCE  \\\n",
       "0                         0                      0   \n",
       "1                         0                      0   \n",
       "2                         0                      0   \n",
       "3                         0                      0   \n",
       "4                         0                      0   \n",
       "\n",
       "   LENGTH_OF_ROAD_WORK_SANCTIONED_KM  COST_OF_WORKS_SANCTIONED_LAKHS  \\\n",
       "0                             14.000                          8.9385   \n",
       "1                             34.620                         21.3090   \n",
       "2                             42.600                         19.7260   \n",
       "3                            443.650                        126.9822   \n",
       "4                            252.056                         54.5270   \n",
       "\n",
       "   LENGTH_OF_ROAD_WORK_COMPLETED_KM  EXPENDITURE_OCCURED_LAKHS  \\\n",
       "0                            12.395                     6.4294   \n",
       "1                            31.291                    16.1277   \n",
       "2                            39.315                    16.6850   \n",
       "3                           427.215                   141.9707   \n",
       "4                           249.354                    43.5468   \n",
       "\n",
       "   LENGTH_OF_ROAD_WORK_BALANCE_KM  \n",
       "0                             0.0  \n",
       "1                             0.0  \n",
       "2                             0.0  \n",
       "3                             0.0  \n",
       "4                             0.0  "
      ]
     },
     "execution_count": 76,
     "metadata": {},
     "output_type": "execute_result"
    }
   ],
   "source": [
    "df.head()"
   ]
  },
  {
   "cell_type": "code",
   "execution_count": 77,
   "metadata": {},
   "outputs": [
    {
     "data": {
      "text/plain": [
       "STATE_NAME                            object\n",
       "DISTRICT_NAME                         object\n",
       "PMGSY_SCHEME                          object\n",
       "NO_OF_ROAD_WORK_SANCTIONED             int64\n",
       "NO_OF_BRIDGES_SANCTIONED               int64\n",
       "NO_OF_ROAD_WORKS_COMPLETED             int64\n",
       "NO_OF_BRIDGES_COMPLETED                int64\n",
       "NO_OF_ROAD_WORKS_BALANCE               int64\n",
       "NO_OF_BRIDGES_BALANCE                  int64\n",
       "LENGTH_OF_ROAD_WORK_SANCTIONED_KM    float64\n",
       "COST_OF_WORKS_SANCTIONED_LAKHS       float64\n",
       "LENGTH_OF_ROAD_WORK_COMPLETED_KM     float64\n",
       "EXPENDITURE_OCCURED_LAKHS            float64\n",
       "LENGTH_OF_ROAD_WORK_BALANCE_KM       float64\n",
       "dtype: object"
      ]
     },
     "execution_count": 77,
     "metadata": {},
     "output_type": "execute_result"
    }
   ],
   "source": [
    "df.dtypes"
   ]
  },
  {
   "cell_type": "code",
   "execution_count": 79,
   "metadata": {},
   "outputs": [
    {
     "data": {
      "text/plain": [
       "STATE_NAME                           0\n",
       "DISTRICT_NAME                        0\n",
       "PMGSY_SCHEME                         0\n",
       "NO_OF_ROAD_WORK_SANCTIONED           0\n",
       "NO_OF_BRIDGES_SANCTIONED             0\n",
       "NO_OF_ROAD_WORKS_COMPLETED           0\n",
       "NO_OF_BRIDGES_COMPLETED              0\n",
       "NO_OF_ROAD_WORKS_BALANCE             0\n",
       "NO_OF_BRIDGES_BALANCE                0\n",
       "LENGTH_OF_ROAD_WORK_SANCTIONED_KM    0\n",
       "COST_OF_WORKS_SANCTIONED_LAKHS       0\n",
       "LENGTH_OF_ROAD_WORK_COMPLETED_KM     0\n",
       "EXPENDITURE_OCCURED_LAKHS            0\n",
       "LENGTH_OF_ROAD_WORK_BALANCE_KM       0\n",
       "dtype: int64"
      ]
     },
     "execution_count": 79,
     "metadata": {},
     "output_type": "execute_result"
    }
   ],
   "source": [
    "df.isnull().sum()"
   ]
  },
  {
   "cell_type": "code",
   "execution_count": 80,
   "metadata": {},
   "outputs": [],
   "source": [
    "conc = []"
   ]
  },
  {
   "cell_type": "code",
   "execution_count": 81,
   "metadata": {},
   "outputs": [],
   "source": [
    "conc.append(\"NO NUll Values and dtype is correct\")"
   ]
  },
  {
   "cell_type": "code",
   "execution_count": 82,
   "metadata": {},
   "outputs": [],
   "source": [
    "# Univariate\n",
    "num = df.select_dtypes(exclude=[\"object\"])\n",
    "cat = df.select_dtypes(include=[\"object\"])"
   ]
  },
  {
   "cell_type": "code",
   "execution_count": 85,
   "metadata": {},
   "outputs": [],
   "source": [
    "# NUm"
   ]
  },
  {
   "cell_type": "code",
   "execution_count": 88,
   "metadata": {},
   "outputs": [
    {
     "name": "stdout",
     "output_type": "stream",
     "text": [
      "<class 'pandas.core.frame.DataFrame'>\n",
      "RangeIndex: 2260 entries, 0 to 2259\n",
      "Data columns (total 14 columns):\n",
      " #   Column                             Non-Null Count  Dtype  \n",
      "---  ------                             --------------  -----  \n",
      " 0   STATE_NAME                         2260 non-null   object \n",
      " 1   DISTRICT_NAME                      2260 non-null   object \n",
      " 2   PMGSY_SCHEME                       2260 non-null   object \n",
      " 3   NO_OF_ROAD_WORK_SANCTIONED         2260 non-null   int64  \n",
      " 4   NO_OF_BRIDGES_SANCTIONED           2260 non-null   int64  \n",
      " 5   NO_OF_ROAD_WORKS_COMPLETED         2260 non-null   int64  \n",
      " 6   NO_OF_BRIDGES_COMPLETED            2260 non-null   int64  \n",
      " 7   NO_OF_ROAD_WORKS_BALANCE           2260 non-null   int64  \n",
      " 8   NO_OF_BRIDGES_BALANCE              2260 non-null   int64  \n",
      " 9   LENGTH_OF_ROAD_WORK_SANCTIONED_KM  2260 non-null   float64\n",
      " 10  COST_OF_WORKS_SANCTIONED_LAKHS     2260 non-null   float64\n",
      " 11  LENGTH_OF_ROAD_WORK_COMPLETED_KM   2260 non-null   float64\n",
      " 12  EXPENDITURE_OCCURED_LAKHS          2260 non-null   float64\n",
      " 13  LENGTH_OF_ROAD_WORK_BALANCE_KM     2260 non-null   float64\n",
      "dtypes: float64(5), int64(6), object(3)\n",
      "memory usage: 247.3+ KB\n"
     ]
    }
   ],
   "source": [
    "df.info()"
   ]
  },
  {
   "cell_type": "code",
   "execution_count": 89,
   "metadata": {},
   "outputs": [
    {
     "data": {
      "text/html": [
       "<div>\n",
       "<style scoped>\n",
       "    .dataframe tbody tr th:only-of-type {\n",
       "        vertical-align: middle;\n",
       "    }\n",
       "\n",
       "    .dataframe tbody tr th {\n",
       "        vertical-align: top;\n",
       "    }\n",
       "\n",
       "    .dataframe thead th {\n",
       "        text-align: right;\n",
       "    }\n",
       "</style>\n",
       "<table border=\"1\" class=\"dataframe\">\n",
       "  <thead>\n",
       "    <tr style=\"text-align: right;\">\n",
       "      <th></th>\n",
       "      <th>NO_OF_ROAD_WORK_SANCTIONED</th>\n",
       "      <th>NO_OF_BRIDGES_SANCTIONED</th>\n",
       "      <th>NO_OF_ROAD_WORKS_COMPLETED</th>\n",
       "      <th>NO_OF_BRIDGES_COMPLETED</th>\n",
       "      <th>NO_OF_ROAD_WORKS_BALANCE</th>\n",
       "      <th>NO_OF_BRIDGES_BALANCE</th>\n",
       "      <th>LENGTH_OF_ROAD_WORK_SANCTIONED_KM</th>\n",
       "      <th>COST_OF_WORKS_SANCTIONED_LAKHS</th>\n",
       "      <th>LENGTH_OF_ROAD_WORK_COMPLETED_KM</th>\n",
       "      <th>EXPENDITURE_OCCURED_LAKHS</th>\n",
       "      <th>LENGTH_OF_ROAD_WORK_BALANCE_KM</th>\n",
       "    </tr>\n",
       "  </thead>\n",
       "  <tbody>\n",
       "    <tr>\n",
       "      <th>count</th>\n",
       "      <td>2260.000000</td>\n",
       "      <td>2260.000000</td>\n",
       "      <td>2260.000000</td>\n",
       "      <td>2260.000000</td>\n",
       "      <td>2260.000000</td>\n",
       "      <td>2260.000000</td>\n",
       "      <td>2260.000000</td>\n",
       "      <td>2260.000000</td>\n",
       "      <td>2260.000000</td>\n",
       "      <td>2260.000000</td>\n",
       "      <td>2260.000000</td>\n",
       "    </tr>\n",
       "    <tr>\n",
       "      <th>mean</th>\n",
       "      <td>84.091150</td>\n",
       "      <td>5.292035</td>\n",
       "      <td>80.289381</td>\n",
       "      <td>4.119469</td>\n",
       "      <td>3.801770</td>\n",
       "      <td>1.172566</td>\n",
       "      <td>368.851333</td>\n",
       "      <td>174.012877</td>\n",
       "      <td>341.191344</td>\n",
       "      <td>146.706231</td>\n",
       "      <td>19.923066</td>\n",
       "    </tr>\n",
       "    <tr>\n",
       "      <th>std</th>\n",
       "      <td>146.446828</td>\n",
       "      <td>13.223908</td>\n",
       "      <td>147.107608</td>\n",
       "      <td>11.909682</td>\n",
       "      <td>9.966948</td>\n",
       "      <td>4.682987</td>\n",
       "      <td>556.658177</td>\n",
       "      <td>240.039692</td>\n",
       "      <td>543.247934</td>\n",
       "      <td>229.947289</td>\n",
       "      <td>52.649573</td>\n",
       "    </tr>\n",
       "    <tr>\n",
       "      <th>min</th>\n",
       "      <td>0.000000</td>\n",
       "      <td>0.000000</td>\n",
       "      <td>0.000000</td>\n",
       "      <td>0.000000</td>\n",
       "      <td>0.000000</td>\n",
       "      <td>0.000000</td>\n",
       "      <td>0.000000</td>\n",
       "      <td>0.847800</td>\n",
       "      <td>0.000000</td>\n",
       "      <td>-267.041500</td>\n",
       "      <td>0.000000</td>\n",
       "    </tr>\n",
       "    <tr>\n",
       "      <th>25%</th>\n",
       "      <td>9.000000</td>\n",
       "      <td>0.000000</td>\n",
       "      <td>6.000000</td>\n",
       "      <td>0.000000</td>\n",
       "      <td>0.000000</td>\n",
       "      <td>0.000000</td>\n",
       "      <td>68.053750</td>\n",
       "      <td>40.181200</td>\n",
       "      <td>48.854500</td>\n",
       "      <td>26.331625</td>\n",
       "      <td>0.000000</td>\n",
       "    </tr>\n",
       "    <tr>\n",
       "      <th>50%</th>\n",
       "      <td>19.000000</td>\n",
       "      <td>0.000000</td>\n",
       "      <td>14.000000</td>\n",
       "      <td>0.000000</td>\n",
       "      <td>0.000000</td>\n",
       "      <td>0.000000</td>\n",
       "      <td>141.439500</td>\n",
       "      <td>90.412550</td>\n",
       "      <td>111.741000</td>\n",
       "      <td>63.995600</td>\n",
       "      <td>0.000000</td>\n",
       "    </tr>\n",
       "    <tr>\n",
       "      <th>75%</th>\n",
       "      <td>88.000000</td>\n",
       "      <td>4.000000</td>\n",
       "      <td>84.000000</td>\n",
       "      <td>3.000000</td>\n",
       "      <td>3.000000</td>\n",
       "      <td>0.000000</td>\n",
       "      <td>415.926250</td>\n",
       "      <td>196.396835</td>\n",
       "      <td>385.857750</td>\n",
       "      <td>155.226825</td>\n",
       "      <td>12.292500</td>\n",
       "    </tr>\n",
       "    <tr>\n",
       "      <th>max</th>\n",
       "      <td>1263.000000</td>\n",
       "      <td>220.000000</td>\n",
       "      <td>1263.000000</td>\n",
       "      <td>209.000000</td>\n",
       "      <td>167.000000</td>\n",
       "      <td>89.000000</td>\n",
       "      <td>4546.134000</td>\n",
       "      <td>2004.871570</td>\n",
       "      <td>4349.940000</td>\n",
       "      <td>1964.506500</td>\n",
       "      <td>561.520000</td>\n",
       "    </tr>\n",
       "  </tbody>\n",
       "</table>\n",
       "</div>"
      ],
      "text/plain": [
       "       NO_OF_ROAD_WORK_SANCTIONED  NO_OF_BRIDGES_SANCTIONED  \\\n",
       "count                 2260.000000               2260.000000   \n",
       "mean                    84.091150                  5.292035   \n",
       "std                    146.446828                 13.223908   \n",
       "min                      0.000000                  0.000000   \n",
       "25%                      9.000000                  0.000000   \n",
       "50%                     19.000000                  0.000000   \n",
       "75%                     88.000000                  4.000000   \n",
       "max                   1263.000000                220.000000   \n",
       "\n",
       "       NO_OF_ROAD_WORKS_COMPLETED  NO_OF_BRIDGES_COMPLETED  \\\n",
       "count                 2260.000000              2260.000000   \n",
       "mean                    80.289381                 4.119469   \n",
       "std                    147.107608                11.909682   \n",
       "min                      0.000000                 0.000000   \n",
       "25%                      6.000000                 0.000000   \n",
       "50%                     14.000000                 0.000000   \n",
       "75%                     84.000000                 3.000000   \n",
       "max                   1263.000000               209.000000   \n",
       "\n",
       "       NO_OF_ROAD_WORKS_BALANCE  NO_OF_BRIDGES_BALANCE  \\\n",
       "count               2260.000000            2260.000000   \n",
       "mean                   3.801770               1.172566   \n",
       "std                    9.966948               4.682987   \n",
       "min                    0.000000               0.000000   \n",
       "25%                    0.000000               0.000000   \n",
       "50%                    0.000000               0.000000   \n",
       "75%                    3.000000               0.000000   \n",
       "max                  167.000000              89.000000   \n",
       "\n",
       "       LENGTH_OF_ROAD_WORK_SANCTIONED_KM  COST_OF_WORKS_SANCTIONED_LAKHS  \\\n",
       "count                        2260.000000                     2260.000000   \n",
       "mean                          368.851333                      174.012877   \n",
       "std                           556.658177                      240.039692   \n",
       "min                             0.000000                        0.847800   \n",
       "25%                            68.053750                       40.181200   \n",
       "50%                           141.439500                       90.412550   \n",
       "75%                           415.926250                      196.396835   \n",
       "max                          4546.134000                     2004.871570   \n",
       "\n",
       "       LENGTH_OF_ROAD_WORK_COMPLETED_KM  EXPENDITURE_OCCURED_LAKHS  \\\n",
       "count                       2260.000000                2260.000000   \n",
       "mean                         341.191344                 146.706231   \n",
       "std                          543.247934                 229.947289   \n",
       "min                            0.000000                -267.041500   \n",
       "25%                           48.854500                  26.331625   \n",
       "50%                          111.741000                  63.995600   \n",
       "75%                          385.857750                 155.226825   \n",
       "max                         4349.940000                1964.506500   \n",
       "\n",
       "       LENGTH_OF_ROAD_WORK_BALANCE_KM  \n",
       "count                     2260.000000  \n",
       "mean                        19.923066  \n",
       "std                         52.649573  \n",
       "min                          0.000000  \n",
       "25%                          0.000000  \n",
       "50%                          0.000000  \n",
       "75%                         12.292500  \n",
       "max                        561.520000  "
      ]
     },
     "execution_count": 89,
     "metadata": {},
     "output_type": "execute_result"
    }
   ],
   "source": [
    "num.describe()"
   ]
  },
  {
   "cell_type": "code",
   "execution_count": null,
   "metadata": {},
   "outputs": [],
   "source": []
  },
  {
   "cell_type": "code",
   "execution_count": null,
   "metadata": {},
   "outputs": [],
   "source": []
  },
  {
   "cell_type": "code",
   "execution_count": null,
   "metadata": {},
   "outputs": [],
   "source": []
  },
  {
   "cell_type": "code",
   "execution_count": null,
   "metadata": {},
   "outputs": [],
   "source": []
  },
  {
   "cell_type": "code",
   "execution_count": null,
   "metadata": {},
   "outputs": [],
   "source": []
  },
  {
   "cell_type": "code",
   "execution_count": 58,
   "metadata": {},
   "outputs": [],
   "source": [
    "df[\"DATE\"] = pd.to_datetime(df[\"DATE\"])"
   ]
  },
  {
   "cell_type": "code",
   "execution_count": 11,
   "metadata": {},
   "outputs": [],
   "source": [
    "# \"%d/%m/%Y\""
   ]
  },
  {
   "cell_type": "code",
   "execution_count": 60,
   "metadata": {},
   "outputs": [
    {
     "data": {
      "text/plain": [
       "0      1995-01-03\n",
       "1      1995-01-04\n",
       "2      1995-01-05\n",
       "3      1995-01-06\n",
       "4      1995-01-09\n",
       "          ...    \n",
       "5521   2016-11-04\n",
       "5522   2016-11-07\n",
       "5523   2016-11-08\n",
       "5524   2016-11-09\n",
       "5525   2016-11-10\n",
       "Name: DATE, Length: 5526, dtype: datetime64[ns]"
      ]
     },
     "execution_count": 60,
     "metadata": {},
     "output_type": "execute_result"
    }
   ],
   "source": [
    "df[\"DATE\"]"
   ]
  },
  {
   "cell_type": "code",
   "execution_count": 63,
   "metadata": {},
   "outputs": [],
   "source": [
    "df[\"year\"] = df[\"DATE\"].dt.year"
   ]
  },
  {
   "cell_type": "code",
   "execution_count": 66,
   "metadata": {},
   "outputs": [],
   "source": [
    "df[\"Day_name\"] = df[\"DATE\"].dt.day_name()"
   ]
  },
  {
   "cell_type": "code",
   "execution_count": 48,
   "metadata": {},
   "outputs": [],
   "source": [
    "df[\"day_name\"] = df[\"time\"].dt.day_name()"
   ]
  },
  {
   "cell_type": "code",
   "execution_count": 67,
   "metadata": {},
   "outputs": [
    {
     "data": {
      "text/html": [
       "<div>\n",
       "<style scoped>\n",
       "    .dataframe tbody tr th:only-of-type {\n",
       "        vertical-align: middle;\n",
       "    }\n",
       "\n",
       "    .dataframe tbody tr th {\n",
       "        vertical-align: top;\n",
       "    }\n",
       "\n",
       "    .dataframe thead th {\n",
       "        text-align: right;\n",
       "    }\n",
       "</style>\n",
       "<table border=\"1\" class=\"dataframe\">\n",
       "  <thead>\n",
       "    <tr style=\"text-align: right;\">\n",
       "      <th></th>\n",
       "      <th>DATE</th>\n",
       "      <th>VALUE</th>\n",
       "      <th>year</th>\n",
       "      <th>Day_name</th>\n",
       "    </tr>\n",
       "  </thead>\n",
       "  <tbody>\n",
       "    <tr>\n",
       "      <th>0</th>\n",
       "      <td>1995-01-03</td>\n",
       "      <td>381.40</td>\n",
       "      <td>1995</td>\n",
       "      <td>Tuesday</td>\n",
       "    </tr>\n",
       "    <tr>\n",
       "      <th>1</th>\n",
       "      <td>1995-01-04</td>\n",
       "      <td>378.25</td>\n",
       "      <td>1995</td>\n",
       "      <td>Wednesday</td>\n",
       "    </tr>\n",
       "    <tr>\n",
       "      <th>2</th>\n",
       "      <td>1995-01-05</td>\n",
       "      <td>375.00</td>\n",
       "      <td>1995</td>\n",
       "      <td>Thursday</td>\n",
       "    </tr>\n",
       "    <tr>\n",
       "      <th>3</th>\n",
       "      <td>1995-01-06</td>\n",
       "      <td>375.90</td>\n",
       "      <td>1995</td>\n",
       "      <td>Friday</td>\n",
       "    </tr>\n",
       "    <tr>\n",
       "      <th>4</th>\n",
       "      <td>1995-01-09</td>\n",
       "      <td>372.45</td>\n",
       "      <td>1995</td>\n",
       "      <td>Monday</td>\n",
       "    </tr>\n",
       "  </tbody>\n",
       "</table>\n",
       "</div>"
      ],
      "text/plain": [
       "        DATE   VALUE  year   Day_name\n",
       "0 1995-01-03  381.40  1995    Tuesday\n",
       "1 1995-01-04  378.25  1995  Wednesday\n",
       "2 1995-01-05  375.00  1995   Thursday\n",
       "3 1995-01-06  375.90  1995     Friday\n",
       "4 1995-01-09  372.45  1995     Monday"
      ]
     },
     "execution_count": 67,
     "metadata": {},
     "output_type": "execute_result"
    }
   ],
   "source": [
    "df.head()"
   ]
  },
  {
   "cell_type": "code",
   "execution_count": 52,
   "metadata": {},
   "outputs": [],
   "source": [
    "# rate of price from 2008 -> End"
   ]
  },
  {
   "cell_type": "code",
   "execution_count": 72,
   "metadata": {},
   "outputs": [
    {
     "data": {
      "text/plain": [
       "<Axes: ylabel='year'>"
      ]
     },
     "execution_count": 72,
     "metadata": {},
     "output_type": "execute_result"
    },
    {
     "data": {
      "image/png": "[encoded data removed]",
      "text/plain": [
       "<Figure size 640x480 with 1 Axes>"
      ]
     },
     "metadata": {},
     "output_type": "display_data"
    }
   ],
   "source": [
    "import matplotlib.pyplot as plt\n",
    "\n",
    "df.groupby(\"year\")[\"VALUE\"].mean().plot(kind=\"barh\")"
   ]
  },
  {
   "cell_type": "code",
   "execution_count": 73,
   "metadata": {},
   "outputs": [
    {
     "data": {
      "text/html": [
       "<div>\n",
       "<style scoped>\n",
       "    .dataframe tbody tr th:only-of-type {\n",
       "        vertical-align: middle;\n",
       "    }\n",
       "\n",
       "    .dataframe tbody tr th {\n",
       "        vertical-align: top;\n",
       "    }\n",
       "\n",
       "    .dataframe thead th {\n",
       "        text-align: right;\n",
       "    }\n",
       "</style>\n",
       "<table border=\"1\" class=\"dataframe\">\n",
       "  <thead>\n",
       "    <tr style=\"text-align: right;\">\n",
       "      <th></th>\n",
       "      <th>DATE</th>\n",
       "      <th>VALUE</th>\n",
       "      <th>year</th>\n",
       "      <th>Day_name</th>\n",
       "    </tr>\n",
       "  </thead>\n",
       "  <tbody>\n",
       "    <tr>\n",
       "      <th>0</th>\n",
       "      <td>1995-01-03</td>\n",
       "      <td>381.40</td>\n",
       "      <td>1995</td>\n",
       "      <td>Tuesday</td>\n",
       "    </tr>\n",
       "    <tr>\n",
       "      <th>1</th>\n",
       "      <td>1995-01-04</td>\n",
       "      <td>378.25</td>\n",
       "      <td>1995</td>\n",
       "      <td>Wednesday</td>\n",
       "    </tr>\n",
       "    <tr>\n",
       "      <th>2</th>\n",
       "      <td>1995-01-05</td>\n",
       "      <td>375.00</td>\n",
       "      <td>1995</td>\n",
       "      <td>Thursday</td>\n",
       "    </tr>\n",
       "    <tr>\n",
       "      <th>3</th>\n",
       "      <td>1995-01-06</td>\n",
       "      <td>375.90</td>\n",
       "      <td>1995</td>\n",
       "      <td>Friday</td>\n",
       "    </tr>\n",
       "    <tr>\n",
       "      <th>4</th>\n",
       "      <td>1995-01-09</td>\n",
       "      <td>372.45</td>\n",
       "      <td>1995</td>\n",
       "      <td>Monday</td>\n",
       "    </tr>\n",
       "  </tbody>\n",
       "</table>\n",
       "</div>"
      ],
      "text/plain": [
       "        DATE   VALUE  year   Day_name\n",
       "0 1995-01-03  381.40  1995    Tuesday\n",
       "1 1995-01-04  378.25  1995  Wednesday\n",
       "2 1995-01-05  375.00  1995   Thursday\n",
       "3 1995-01-06  375.90  1995     Friday\n",
       "4 1995-01-09  372.45  1995     Monday"
      ]
     },
     "execution_count": 73,
     "metadata": {},
     "output_type": "execute_result"
    }
   ],
   "source": [
    "df.head()"
   ]
  }
 ],
 "metadata": {
  "kernelspec": {
   "display_name": "Python 3",
   "language": "python",
   "name": "python3"
  },
  "language_info": {
   "codemirror_mode": {
    "name": "ipython",
    "version": 3
   },
   "file_extension": ".py",
   "mimetype": "text/x-python",
   "name": "python",
   "nbconvert_exporter": "python",
   "pygments_lexer": "ipython3",
   "version": "3.10.16"
  }
 },
 "nbformat": 4,
 "nbformat_minor": 2
}
