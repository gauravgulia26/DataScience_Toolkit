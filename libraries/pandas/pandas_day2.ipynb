{
 "cells": [
  {
   "cell_type": "code",
   "execution_count": 1,
   "metadata": {},
   "outputs": [],
   "source": [
    "import pandas as pd"
   ]
  },
  {
   "cell_type": "code",
   "execution_count": 2,
   "metadata": {},
   "outputs": [],
   "source": [
    "# Calculate the all 4 statistical moments for a given series using numpy."
   ]
  },
  {
   "cell_type": "code",
   "execution_count": 46,
   "metadata": {},
   "outputs": [],
   "source": [
    "import numpy as np\n",
    "\n",
    "np.random.seed(42)"
   ]
  },
  {
   "cell_type": "code",
   "execution_count": 44,
   "metadata": {},
   "outputs": [],
   "source": [
    "idx = np.arange(100)\n",
    "values = np.random.randint(100, 500, 100)"
   ]
  },
  {
   "cell_type": "code",
   "execution_count": 45,
   "metadata": {},
   "outputs": [
    {
     "data": {
      "text/plain": [
       "array([256, 114, 400, 164, 444, 426, 108, 443, 228, 235, 162, 238, 180,\n",
       "       491, 262, 388, 478, 360, 330, 140, 127, 234, 300, 427, 367, 132,\n",
       "       147, 161, 315, 392, 198, 271, 459, 313, 134, 326, 200, 230, 356,\n",
       "       104, 317, 354, 497, 458, 382, 492, 306, 114, 445, 141, 479, 278,\n",
       "       162, 451, 330, 340, 151, 195, 487, 321, 330, 336, 242, 270, 128,\n",
       "       135, 112, 259, 426, 286, 342, 185, 383, 165, 269, 144, 161, 233,\n",
       "       383, 127, 207, 143, 439, 385, 430, 227, 447, 330, 289, 324, 484,\n",
       "       476, 382, 220, 215, 332, 358, 458, 297, 236])"
      ]
     },
     "execution_count": 45,
     "metadata": {},
     "output_type": "execute_result"
    }
   ],
   "source": [
    "values"
   ]
  },
  {
   "cell_type": "code",
   "execution_count": 8,
   "metadata": {},
   "outputs": [],
   "source": [
    "sr = pd.Series(data=values, index=idx)"
   ]
  },
  {
   "cell_type": "code",
   "execution_count": 59,
   "metadata": {},
   "outputs": [],
   "source": [
    "# np.mu1()\n",
    "# np.var()\n",
    "# np.skew()"
   ]
  },
  {
   "cell_type": "code",
   "execution_count": 60,
   "metadata": {},
   "outputs": [],
   "source": [
    "def Moment(data):\n",
    "    mu1 = np.sum(data) / len(data)\n",
    "    mu2 = np.sum((data - mu1) ** 2) / len(data)\n",
    "    mu3 = (np.sum((data - mu1) ** 3) / len(data)) / (np.sqrt(mu2) ** 3)\n",
    "    mu4 = (np.sum((data - mu1) ** 4) / len(data)) / (mu2**2)\n",
    "    return mu1, mu2, mu3, mu4"
   ]
  },
  {
   "cell_type": "code",
   "execution_count": 62,
   "metadata": {},
   "outputs": [],
   "source": [
    "mean, variance, skewness, kurtosis = Moment(sr.values)"
   ]
  },
  {
   "cell_type": "code",
   "execution_count": 66,
   "metadata": {},
   "outputs": [
    {
     "data": {
      "text/plain": [
       "np.float64(1.8723132957183424)"
      ]
     },
     "execution_count": 66,
     "metadata": {},
     "output_type": "execute_result"
    }
   ],
   "source": [
    "kurtosis"
   ]
  },
  {
   "cell_type": "code",
   "execution_count": null,
   "metadata": {},
   "outputs": [],
   "source": []
  },
  {
   "cell_type": "code",
   "execution_count": null,
   "metadata": {},
   "outputs": [],
   "source": []
  },
  {
   "cell_type": "code",
   "execution_count": null,
   "metadata": {},
   "outputs": [],
   "source": []
  }
 ],
 "metadata": {
  "kernelspec": {
   "display_name": "MachineLearning",
   "language": "python",
   "name": "python3"
  },
  "language_info": {
   "codemirror_mode": {
    "name": "ipython",
    "version": 3
   },
   "file_extension": ".py",
   "mimetype": "text/x-python",
   "name": "python",
   "nbconvert_exporter": "python",
   "pygments_lexer": "ipython3",
   "version": "3.10.16"
  }
 },
 "nbformat": 4,
 "nbformat_minor": 2
}
