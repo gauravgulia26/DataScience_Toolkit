{
 "cells": [
  {
   "cell_type": "markdown",
   "id": "c033115e",
   "metadata": {},
   "source": [
    "### 1. Create a 1D NumPy array of integers from 0 to 9 and slice the first 5 elements."
   ]
  },
  {
   "cell_type": "code",
   "execution_count": null,
   "id": "1d567b9d",
   "metadata": {},
   "outputs": [],
   "source": []
  },
  {
   "cell_type": "markdown",
   "id": "f17b68d9",
   "metadata": {},
   "source": [
    "### 2. Create a 2D NumPy array of shape (3, 4) filled with integers, and slice the first two rows."
   ]
  },
  {
   "cell_type": "code",
   "execution_count": null,
   "id": "315a2a21",
   "metadata": {},
   "outputs": [],
   "source": []
  },
  {
   "cell_type": "markdown",
   "id": "99192764",
   "metadata": {},
   "source": [
    "### 3. Create a 1D array of integers from 10 to 19 and use boolean indexing to filter elements greater than 15."
   ]
  },
  {
   "cell_type": "code",
   "execution_count": null,
   "id": "280817c3",
   "metadata": {},
   "outputs": [],
   "source": []
  },
  {
   "cell_type": "markdown",
   "id": "d230d19f",
   "metadata": {},
   "source": [
    "### 4. Create a 1D array and replace all odd numbers with -1 using boolean indexing."
   ]
  },
  {
   "cell_type": "code",
   "execution_count": null,
   "id": "045c086e",
   "metadata": {},
   "outputs": [],
   "source": []
  },
  {
   "cell_type": "markdown",
   "id": "278690f1",
   "metadata": {},
   "source": [
    "### 5. Create a 3x3 array of integers from 1 to 9 and select the middle row using slicing."
   ]
  },
  {
   "cell_type": "code",
   "execution_count": null,
   "id": "75a6250d",
   "metadata": {},
   "outputs": [],
   "source": []
  },
  {
   "cell_type": "markdown",
   "id": "bb3bf434",
   "metadata": {},
   "source": [
    "### 6. Create a 1D array of 10 elements and retrieve the values at indices 2, 4, and 6 using fancy indexing."
   ]
  },
  {
   "cell_type": "code",
   "execution_count": null,
   "id": "086cbb65",
   "metadata": {},
   "outputs": [],
   "source": []
  },
  {
   "cell_type": "markdown",
   "id": "c2f27a65",
   "metadata": {},
   "source": [
    "### 7. Create a 4x4 matrix of integers and select the diagonal elements using slicing."
   ]
  },
  {
   "cell_type": "code",
   "execution_count": null,
   "id": "cc3d3ca5",
   "metadata": {},
   "outputs": [],
   "source": []
  },
  {
   "cell_type": "markdown",
   "id": "d7f92c7e",
   "metadata": {},
   "source": [
    "### 8. Create a 1D array of 20 random integers and use boolean indexing to count all values greater than 10."
   ]
  },
  {
   "cell_type": "code",
   "execution_count": null,
   "id": "e11f36fe",
   "metadata": {},
   "outputs": [],
   "source": []
  },
  {
   "cell_type": "markdown",
   "id": "792b4a74",
   "metadata": {},
   "source": [
    "### 9. Create a 5x5 matrix and slice the top-left 2x2 submatrix."
   ]
  },
  {
   "cell_type": "code",
   "execution_count": null,
   "id": "918e2290",
   "metadata": {},
   "outputs": [],
   "source": []
  },
  {
   "cell_type": "markdown",
   "id": "9fde750a",
   "metadata": {},
   "source": [
    "### 10. Create a 3x3 array filled with 1s and replace the second column with all 2s using slicing."
   ]
  },
  {
   "cell_type": "code",
   "execution_count": null,
   "id": "7e9e9716",
   "metadata": {},
   "outputs": [],
   "source": []
  },
  {
   "cell_type": "markdown",
   "id": "0314ef08",
   "metadata": {},
   "source": [
    "### 11. Create a 1D array of 20 numbers and use fancy indexing to reverse its order."
   ]
  },
  {
   "cell_type": "code",
   "execution_count": null,
   "id": "798c3ffd",
   "metadata": {},
   "outputs": [],
   "source": []
  },
  {
   "cell_type": "markdown",
   "id": "e68a3858",
   "metadata": {},
   "source": [
    "### 12. Generate a 5x5 random matrix and use boolean indexing to replace all values greater than 0.5 with 1."
   ]
  },
  {
   "cell_type": "code",
   "execution_count": null,
   "id": "c9ba15eb",
   "metadata": {},
   "outputs": [],
   "source": []
  },
  {
   "cell_type": "markdown",
   "id": "44f41ffb",
   "metadata": {},
   "source": [
    "### 13. Create a 3D array of shape (2, 3, 4) and slice the second 2D array along the first axis."
   ]
  },
  {
   "cell_type": "code",
   "execution_count": null,
   "id": "32f73604",
   "metadata": {},
   "outputs": [],
   "source": []
  },
  {
   "cell_type": "markdown",
   "id": "e77245b7",
   "metadata": {},
   "source": [
    "### 14. Generate an array of 10 random numbers and use fancy indexing to sort the elements in ascending order."
   ]
  },
  {
   "cell_type": "code",
   "execution_count": null,
   "id": "316eb0b6",
   "metadata": {},
   "outputs": [],
   "source": []
  },
  {
   "cell_type": "markdown",
   "id": "ee2263ec",
   "metadata": {},
   "source": [
    "### 15. Create a 6x6 identity matrix and retrieve the last two rows using slicing."
   ]
  },
  {
   "cell_type": "code",
   "execution_count": null,
   "id": "afd4f59a",
   "metadata": {},
   "outputs": [],
   "source": []
  },
  {
   "cell_type": "markdown",
   "id": "5b008339",
   "metadata": {},
   "source": [
    "### 16. Create a 4x4 matrix and set all elements in the last column to -1 using slicing."
   ]
  },
  {
   "cell_type": "code",
   "execution_count": null,
   "id": "bb920501",
   "metadata": {},
   "outputs": [],
   "source": []
  },
  {
   "cell_type": "markdown",
   "id": "a55d2dbc",
   "metadata": {},
   "source": [
    "### 17. Create a 2D array and select all rows where the sum of elements is greater than 10 using boolean indexing."
   ]
  },
  {
   "cell_type": "code",
   "execution_count": null,
   "id": "92dcee4f",
   "metadata": {},
   "outputs": [],
   "source": []
  },
  {
   "cell_type": "markdown",
   "id": "b822c92e",
   "metadata": {},
   "source": [
    "### 18. Generate a 1D array and use slicing to extract every third element."
   ]
  },
  {
   "cell_type": "code",
   "execution_count": null,
   "id": "e641e6c2",
   "metadata": {},
   "outputs": [],
   "source": []
  },
  {
   "cell_type": "markdown",
   "id": "8fa29bd1",
   "metadata": {},
   "source": [
    "### 19. Create a 5x5 matrix of random integers and replace all odd elements with their negatives using boolean indexing."
   ]
  },
  {
   "cell_type": "code",
   "execution_count": null,
   "id": "3ace955a",
   "metadata": {},
   "outputs": [],
   "source": []
  },
  {
   "cell_type": "markdown",
   "id": "be5fc081",
   "metadata": {},
   "source": [
    "### 20. Generate a 1D array of 50 random numbers and filter only the prime numbers using boolean indexing."
   ]
  },
  {
   "cell_type": "code",
   "execution_count": null,
   "id": "1f41be8a",
   "metadata": {},
   "outputs": [],
   "source": []
  },
  {
   "cell_type": "markdown",
   "id": "afbae80f",
   "metadata": {},
   "source": [
    "### 21. Create a 3D array of shape (3, 4, 5) and slice to extract the last two layers along the third axis."
   ]
  },
  {
   "cell_type": "code",
   "execution_count": null,
   "id": "9c28e2aa",
   "metadata": {},
   "outputs": [],
   "source": []
  },
  {
   "cell_type": "markdown",
   "id": "c4302e49",
   "metadata": {},
   "source": [
    "### 22. Generate a 6x6 matrix with random integers and use fancy indexing to extract the corner elements."
   ]
  },
  {
   "cell_type": "code",
   "execution_count": null,
   "id": "ceb41227",
   "metadata": {},
   "outputs": [],
   "source": []
  },
  {
   "cell_type": "markdown",
   "id": "d3c2d458",
   "metadata": {},
   "source": [
    "### 23. Create a 4x4 matrix and use fancy indexing to extract all diagonal elements."
   ]
  },
  {
   "cell_type": "code",
   "execution_count": null,
   "id": "3eea7173",
   "metadata": {},
   "outputs": [],
   "source": []
  },
  {
   "cell_type": "markdown",
   "id": "a7214b7f",
   "metadata": {},
   "source": [
    "### 24. Create a 3x3 matrix and replace all elements below the main diagonal with zeros using slicing."
   ]
  },
  {
   "cell_type": "code",
   "execution_count": null,
   "id": "24749729",
   "metadata": {},
   "outputs": [],
   "source": []
  },
  {
   "cell_type": "markdown",
   "id": "4f4d134f",
   "metadata": {},
   "source": [
    "### 25. Generate a 2D array and replace all values greater than the mean with their squares using boolean indexing."
   ]
  },
  {
   "cell_type": "code",
   "execution_count": null,
   "id": "e82064df",
   "metadata": {},
   "outputs": [],
   "source": []
  },
  {
   "cell_type": "markdown",
   "id": "bc0482dc",
   "metadata": {},
   "source": [
    "### 26. Create a 5x5 matrix and use boolean indexing to count the number of elements divisible by both 2 and 3."
   ]
  },
  {
   "cell_type": "code",
   "execution_count": null,
   "id": "dd90e1c7",
   "metadata": {},
   "outputs": [],
   "source": []
  },
  {
   "cell_type": "markdown",
   "id": "46fc8fb3",
   "metadata": {},
   "source": [
    "### 27. Create a 2D array of integers and slice out all elements that are in odd-numbered rows and columns."
   ]
  },
  {
   "cell_type": "code",
   "execution_count": null,
   "id": "9d4024d4",
   "metadata": {},
   "outputs": [],
   "source": []
  },
  {
   "cell_type": "markdown",
   "id": "1cf4ef46",
   "metadata": {},
   "source": [
    "### 28. Generate a 1D array of 30 random numbers and filter out elements that are either less than 0.2 or greater than 0.8."
   ]
  },
  {
   "cell_type": "code",
   "execution_count": null,
   "id": "490a7caa",
   "metadata": {},
   "outputs": [],
   "source": []
  },
  {
   "cell_type": "markdown",
   "id": "2ae2bfc2",
   "metadata": {},
   "source": [
    "### 29. Create a 3D array and use boolean indexing to mask all values below the median of the array."
   ]
  },
  {
   "cell_type": "code",
   "execution_count": null,
   "id": "051f50f8",
   "metadata": {},
   "outputs": [],
   "source": []
  },
  {
   "cell_type": "markdown",
   "id": "8d913059",
   "metadata": {},
   "source": [
    "### 30. Create a large matrix (10x10) and slice out the 3x3 submatrix in the middle."
   ]
  },
  {
   "cell_type": "code",
   "execution_count": null,
   "id": "67c08e68",
   "metadata": {},
   "outputs": [],
   "source": []
  }
 ],
 "metadata": {},
 "nbformat": 4,
 "nbformat_minor": 5
}
