{
 "cells": [
  {
   "cell_type": "code",
   "execution_count": 1,
   "metadata": {},
   "outputs": [],
   "source": [
    "import numpy as np\n",
    "import pandas as pd\n",
    "import matplotlib.pyplot as plt\n",
    "\n",
    "np.set_printoptions(suppress=True)  # Disable scientific notation"
   ]
  },
  {
   "cell_type": "code",
   "execution_count": 2,
   "metadata": {},
   "outputs": [],
   "source": [
    "data = np.random.randint(1, 10000, 1000)\n",
    "idx = np.linspace(1, 500, 1000)"
   ]
  },
  {
   "cell_type": "code",
   "execution_count": 3,
   "metadata": {},
   "outputs": [],
   "source": [
    "standard = (data - np.mean(data)) / np.std(data)"
   ]
  },
  {
   "cell_type": "code",
   "execution_count": 4,
   "metadata": {},
   "outputs": [],
   "source": [
    "norm = (data - np.min(data)) / (np.max(data) - np.min(data))"
   ]
  },
  {
   "cell_type": "code",
   "execution_count": 5,
   "metadata": {},
   "outputs": [
    {
     "data": {
      "text/plain": [
       "(1.0, 0.0)"
      ]
     },
     "execution_count": 5,
     "metadata": {},
     "output_type": "execute_result"
    }
   ],
   "source": [
    "np.max(norm), np.min(norm)"
   ]
  },
  {
   "cell_type": "code",
   "execution_count": 6,
   "metadata": {},
   "outputs": [
    {
     "data": {
      "text/plain": [
       "1.000000       786\n",
       "1.499499      8523\n",
       "1.998999       655\n",
       "2.498498      2757\n",
       "2.997998      7213\n",
       "              ... \n",
       "498.002002     755\n",
       "498.501502    2913\n",
       "499.001001    3620\n",
       "499.500501    1579\n",
       "500.000000     991\n",
       "Length: 1000, dtype: int64"
      ]
     },
     "execution_count": 6,
     "metadata": {},
     "output_type": "execute_result"
    }
   ],
   "source": [
    "import pandas as pd\n",
    "import numpy as np\n",
    "from tqdm import tqdm\n",
    "\n",
    "# Enable tqdm with pandas\n",
    "tqdm.pandas(desc=\"Processing Data\")\n",
    "\n",
    "# Apply tqdm to a transformation or function\n",
    "pd.Series(data, index=idx)"
   ]
  },
  {
   "cell_type": "code",
   "execution_count": null,
   "metadata": {},
   "outputs": [],
   "source": [
    "import pandas as pd\n",
    "import numpy as np\n",
    "from tqdm import tqdm\n",
    "from trial import calculate_bins\n",
    "\n",
    "# Example data\n",
    "data = np.random.randn(10000000)  # Large dataset\n",
    "bins = np.linspace(data.min(), data.max(), 100000)  # Define bin edges\n",
    "\n",
    "# Calculate histogram bins with tqdm\n",
    "tqdm.pandas(desc=\"Calculating Histogram\")\n",
    "histogram = calculate_bins(data, bins)\n",
    "\n",
    "# Plot the histogram\n",
    "pd.Series(histogram).plot(kind=\"hist\", bins=100, title=\"Histogram\")"
   ]
  }
 ],
 "metadata": {
  "kernelspec": {
   "display_name": "MachineLearning",
   "language": "python",
   "name": "python3"
  },
  "language_info": {
   "codemirror_mode": {
    "name": "ipython",
    "version": 3
   },
   "file_extension": ".py",
   "mimetype": "text/x-python",
   "name": "python",
   "nbconvert_exporter": "python",
   "pygments_lexer": "ipython3",
   "version": "3.12.8"
  }
 },
 "nbformat": 4,
 "nbformat_minor": 2
}
