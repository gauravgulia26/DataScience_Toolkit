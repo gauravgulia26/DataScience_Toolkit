{
 "cells": [
  {
   "cell_type": "code",
   "execution_count": 1,
   "metadata": {},
   "outputs": [],
   "source": [
    "import pandas as pd\n",
    "import numpy as np\n",
    "import matplotlib.pyplot as plt\n",
    "\n",
    "df = pd.read_csv(\n",
    "    r\"https://github.com/datasciencedojo/datasets/blob/master/titanic.csv?raw=true\"\n",
    ")"
   ]
  },
  {
   "cell_type": "code",
   "execution_count": 2,
   "metadata": {},
   "outputs": [],
   "source": [
    "old_df = df.copy()"
   ]
  },
  {
   "cell_type": "code",
   "execution_count": 3,
   "metadata": {},
   "outputs": [
    {
     "data": {
      "text/html": [
       "<div>\n",
       "<style scoped>\n",
       "    .dataframe tbody tr th:only-of-type {\n",
       "        vertical-align: middle;\n",
       "    }\n",
       "\n",
       "    .dataframe tbody tr th {\n",
       "        vertical-align: top;\n",
       "    }\n",
       "\n",
       "    .dataframe thead th {\n",
       "        text-align: right;\n",
       "    }\n",
       "</style>\n",
       "<table border=\"1\" class=\"dataframe\">\n",
       "  <thead>\n",
       "    <tr style=\"text-align: right;\">\n",
       "      <th></th>\n",
       "      <th>PassengerId</th>\n",
       "      <th>Survived</th>\n",
       "      <th>Pclass</th>\n",
       "      <th>Name</th>\n",
       "      <th>Sex</th>\n",
       "      <th>Age</th>\n",
       "      <th>SibSp</th>\n",
       "      <th>Parch</th>\n",
       "      <th>Ticket</th>\n",
       "      <th>Fare</th>\n",
       "      <th>Cabin</th>\n",
       "      <th>Embarked</th>\n",
       "    </tr>\n",
       "  </thead>\n",
       "  <tbody>\n",
       "    <tr>\n",
       "      <th>0</th>\n",
       "      <td>1</td>\n",
       "      <td>0</td>\n",
       "      <td>3</td>\n",
       "      <td>Braund, Mr. Owen Harris</td>\n",
       "      <td>male</td>\n",
       "      <td>22.0</td>\n",
       "      <td>1</td>\n",
       "      <td>0</td>\n",
       "      <td>A/5 21171</td>\n",
       "      <td>7.2500</td>\n",
       "      <td>NaN</td>\n",
       "      <td>S</td>\n",
       "    </tr>\n",
       "    <tr>\n",
       "      <th>1</th>\n",
       "      <td>2</td>\n",
       "      <td>1</td>\n",
       "      <td>1</td>\n",
       "      <td>Cumings, Mrs. John Bradley (Florence Briggs Th...</td>\n",
       "      <td>female</td>\n",
       "      <td>38.0</td>\n",
       "      <td>1</td>\n",
       "      <td>0</td>\n",
       "      <td>PC 17599</td>\n",
       "      <td>71.2833</td>\n",
       "      <td>C85</td>\n",
       "      <td>C</td>\n",
       "    </tr>\n",
       "    <tr>\n",
       "      <th>2</th>\n",
       "      <td>3</td>\n",
       "      <td>1</td>\n",
       "      <td>3</td>\n",
       "      <td>Heikkinen, Miss. Laina</td>\n",
       "      <td>female</td>\n",
       "      <td>26.0</td>\n",
       "      <td>0</td>\n",
       "      <td>0</td>\n",
       "      <td>STON/O2. 3101282</td>\n",
       "      <td>7.9250</td>\n",
       "      <td>NaN</td>\n",
       "      <td>S</td>\n",
       "    </tr>\n",
       "    <tr>\n",
       "      <th>3</th>\n",
       "      <td>4</td>\n",
       "      <td>1</td>\n",
       "      <td>1</td>\n",
       "      <td>Futrelle, Mrs. Jacques Heath (Lily May Peel)</td>\n",
       "      <td>female</td>\n",
       "      <td>35.0</td>\n",
       "      <td>1</td>\n",
       "      <td>0</td>\n",
       "      <td>113803</td>\n",
       "      <td>53.1000</td>\n",
       "      <td>C123</td>\n",
       "      <td>S</td>\n",
       "    </tr>\n",
       "    <tr>\n",
       "      <th>4</th>\n",
       "      <td>5</td>\n",
       "      <td>0</td>\n",
       "      <td>3</td>\n",
       "      <td>Allen, Mr. William Henry</td>\n",
       "      <td>male</td>\n",
       "      <td>35.0</td>\n",
       "      <td>0</td>\n",
       "      <td>0</td>\n",
       "      <td>373450</td>\n",
       "      <td>8.0500</td>\n",
       "      <td>NaN</td>\n",
       "      <td>S</td>\n",
       "    </tr>\n",
       "  </tbody>\n",
       "</table>\n",
       "</div>"
      ],
      "text/plain": [
       "   PassengerId  Survived  Pclass  \\\n",
       "0            1         0       3   \n",
       "1            2         1       1   \n",
       "2            3         1       3   \n",
       "3            4         1       1   \n",
       "4            5         0       3   \n",
       "\n",
       "                                                Name     Sex   Age  SibSp  \\\n",
       "0                            Braund, Mr. Owen Harris    male  22.0      1   \n",
       "1  Cumings, Mrs. John Bradley (Florence Briggs Th...  female  38.0      1   \n",
       "2                             Heikkinen, Miss. Laina  female  26.0      0   \n",
       "3       Futrelle, Mrs. Jacques Heath (Lily May Peel)  female  35.0      1   \n",
       "4                           Allen, Mr. William Henry    male  35.0      0   \n",
       "\n",
       "   Parch            Ticket     Fare Cabin Embarked  \n",
       "0      0         A/5 21171   7.2500   NaN        S  \n",
       "1      0          PC 17599  71.2833   C85        C  \n",
       "2      0  STON/O2. 3101282   7.9250   NaN        S  \n",
       "3      0            113803  53.1000  C123        S  \n",
       "4      0            373450   8.0500   NaN        S  "
      ]
     },
     "execution_count": 3,
     "metadata": {},
     "output_type": "execute_result"
    }
   ],
   "source": [
    "df.head()"
   ]
  },
  {
   "cell_type": "code",
   "execution_count": 4,
   "metadata": {},
   "outputs": [],
   "source": [
    "col = df.isnull().mean()[df.isnull().mean() * 100 > 5].index.values"
   ]
  },
  {
   "cell_type": "code",
   "execution_count": 5,
   "metadata": {},
   "outputs": [
    {
     "data": {
      "text/plain": [
       "0      22.000000\n",
       "1      38.000000\n",
       "2      26.000000\n",
       "3      35.000000\n",
       "4      35.000000\n",
       "         ...    \n",
       "886    27.000000\n",
       "887    19.000000\n",
       "888    29.699118\n",
       "889    26.000000\n",
       "890    32.000000\n",
       "Name: Age, Length: 891, dtype: float64"
      ]
     },
     "execution_count": 5,
     "metadata": {},
     "output_type": "execute_result"
    }
   ],
   "source": [
    "# Using Pandas\n",
    "df[\"Age\"].fillna(df[\"Age\"].mean())"
   ]
  },
  {
   "cell_type": "code",
   "execution_count": 6,
   "metadata": {},
   "outputs": [],
   "source": [
    "from sklearn.impute import SimpleImputer"
   ]
  },
  {
   "cell_type": "code",
   "execution_count": 7,
   "metadata": {},
   "outputs": [
    {
     "data": {
      "text/plain": [
       "np.float64(0.38910778230082704)"
      ]
     },
     "execution_count": 7,
     "metadata": {},
     "output_type": "execute_result"
    }
   ],
   "source": [
    "df[\"Age\"].skew()"
   ]
  },
  {
   "cell_type": "code",
   "execution_count": 8,
   "metadata": {},
   "outputs": [],
   "source": [
    "si = SimpleImputer(strategy=\"mean\")"
   ]
  },
  {
   "cell_type": "code",
   "execution_count": 9,
   "metadata": {},
   "outputs": [],
   "source": [
    "df[\"Age\"] = si.fit_transform(df[\"Age\"].values.reshape(-1, 1))"
   ]
  },
  {
   "cell_type": "code",
   "execution_count": 10,
   "metadata": {},
   "outputs": [],
   "source": [
    "# Outliers"
   ]
  },
  {
   "cell_type": "code",
   "execution_count": 11,
   "metadata": {},
   "outputs": [
    {
     "data": {
      "text/plain": [
       "<Axes: >"
      ]
     },
     "execution_count": 11,
     "metadata": {},
     "output_type": "execute_result"
    },
    {
     "data": {
      "image/png": "[encoded data removed]",
      "text/plain": [
       "<Figure size 640x480 with 1 Axes>"
      ]
     },
     "metadata": {},
     "output_type": "display_data"
    }
   ],
   "source": [
    "df[\"Age\"].plot(kind=\"box\")"
   ]
  },
  {
   "cell_type": "code",
   "execution_count": 12,
   "metadata": {},
   "outputs": [
    {
     "data": {
      "text/plain": [
       "<Axes: >"
      ]
     },
     "execution_count": 12,
     "metadata": {},
     "output_type": "execute_result"
    },
    {
     "data": {
      "image/png": "[encoded data removed]",
      "text/plain": [
       "<Figure size 640x480 with 1 Axes>"
      ]
     },
     "metadata": {},
     "output_type": "display_data"
    }
   ],
   "source": [
    "old_df[\"Age\"].plot(kind=\"box\")"
   ]
  },
  {
   "cell_type": "code",
   "execution_count": 13,
   "metadata": {},
   "outputs": [
    {
     "data": {
      "image/png": "[encoded data removed]",
      "text/plain": [
       "<Figure size 640x480 with 1 Axes>"
      ]
     },
     "metadata": {},
     "output_type": "display_data"
    }
   ],
   "source": [
    "df[\"Age\"].plot(kind=\"kde\", label=\"After_Imputation\", color=\"red\")\n",
    "old_df[\"Age\"].plot(kind=\"kde\", label=\"Before_Imputation\", color=\"lime\")\n",
    "plt.legend()\n",
    "plt.show()"
   ]
  },
  {
   "cell_type": "code",
   "execution_count": 14,
   "metadata": {},
   "outputs": [],
   "source": [
    "# Statistical Measures"
   ]
  },
  {
   "cell_type": "code",
   "execution_count": 15,
   "metadata": {},
   "outputs": [
    {
     "data": {
      "text/plain": [
       "(np.float64(29.69911764705882), np.float64(29.69911764705882))"
      ]
     },
     "execution_count": 15,
     "metadata": {},
     "output_type": "execute_result"
    }
   ],
   "source": [
    "df[\"Age\"].mean(), old_df[\"Age\"].mean()"
   ]
  },
  {
   "cell_type": "code",
   "execution_count": 16,
   "metadata": {},
   "outputs": [
    {
     "data": {
      "text/plain": [
       "(np.float64(13.002015226002882), np.float64(14.526497332334042))"
      ]
     },
     "execution_count": 16,
     "metadata": {},
     "output_type": "execute_result"
    }
   ],
   "source": [
    "df[\"Age\"].std(), old_df[\"Age\"].std()"
   ]
  },
  {
   "cell_type": "code",
   "execution_count": 17,
   "metadata": {},
   "outputs": [
    {
     "data": {
      "text/plain": [
       "(np.float64(169.0523999372108), np.float64(211.01912474630802))"
      ]
     },
     "execution_count": 17,
     "metadata": {},
     "output_type": "execute_result"
    }
   ],
   "source": [
    "df[\"Age\"].var(), old_df[\"Age\"].var()"
   ]
  },
  {
   "cell_type": "code",
   "execution_count": 18,
   "metadata": {},
   "outputs": [
    {
     "data": {
      "text/plain": [
       "(np.float64(0.4344880940129925), np.float64(0.38910778230082704))"
      ]
     },
     "execution_count": 18,
     "metadata": {},
     "output_type": "execute_result"
    }
   ],
   "source": [
    "df[\"Age\"].skew(), old_df[\"Age\"].skew()"
   ]
  },
  {
   "cell_type": "code",
   "execution_count": 19,
   "metadata": {},
   "outputs": [],
   "source": [
    "from scipy.stats import probplot"
   ]
  },
  {
   "cell_type": "code",
   "execution_count": 20,
   "metadata": {},
   "outputs": [
    {
     "data": {
      "image/png": "[encoded data removed]",
      "text/plain": [
       "<Figure size 640x480 with 1 Axes>"
      ]
     },
     "metadata": {},
     "output_type": "display_data"
    }
   ],
   "source": [
    "probplot(old_df[\"Age\"], plot=plt)\n",
    "plt.show()"
   ]
  },
  {
   "cell_type": "code",
   "execution_count": 21,
   "metadata": {},
   "outputs": [
    {
     "data": {
      "image/png": "[encoded data removed]",
      "text/plain": [
       "<Figure size 640x480 with 1 Axes>"
      ]
     },
     "metadata": {},
     "output_type": "display_data"
    }
   ],
   "source": [
    "probplot(df[\"Age\"], plot=plt)\n",
    "plt.show()"
   ]
  },
  {
   "cell_type": "code",
   "execution_count": 22,
   "metadata": {},
   "outputs": [],
   "source": [
    "# Not Worth it"
   ]
  },
  {
   "cell_type": "code",
   "execution_count": 23,
   "metadata": {},
   "outputs": [],
   "source": [
    "si2 = SimpleImputer(strategy=\"median\")"
   ]
  },
  {
   "cell_type": "code",
   "execution_count": 24,
   "metadata": {},
   "outputs": [
    {
     "data": {
      "text/html": [
       "<div>\n",
       "<style scoped>\n",
       "    .dataframe tbody tr th:only-of-type {\n",
       "        vertical-align: middle;\n",
       "    }\n",
       "\n",
       "    .dataframe tbody tr th {\n",
       "        vertical-align: top;\n",
       "    }\n",
       "\n",
       "    .dataframe thead th {\n",
       "        text-align: right;\n",
       "    }\n",
       "</style>\n",
       "<table border=\"1\" class=\"dataframe\">\n",
       "  <thead>\n",
       "    <tr style=\"text-align: right;\">\n",
       "      <th></th>\n",
       "      <th>PassengerId</th>\n",
       "      <th>Survived</th>\n",
       "      <th>Pclass</th>\n",
       "      <th>Name</th>\n",
       "      <th>Sex</th>\n",
       "      <th>Age</th>\n",
       "      <th>SibSp</th>\n",
       "      <th>Parch</th>\n",
       "      <th>Ticket</th>\n",
       "      <th>Fare</th>\n",
       "      <th>Cabin</th>\n",
       "      <th>Embarked</th>\n",
       "    </tr>\n",
       "  </thead>\n",
       "  <tbody>\n",
       "    <tr>\n",
       "      <th>0</th>\n",
       "      <td>1</td>\n",
       "      <td>0</td>\n",
       "      <td>3</td>\n",
       "      <td>Braund, Mr. Owen Harris</td>\n",
       "      <td>male</td>\n",
       "      <td>22.0</td>\n",
       "      <td>1</td>\n",
       "      <td>0</td>\n",
       "      <td>A/5 21171</td>\n",
       "      <td>7.2500</td>\n",
       "      <td>NaN</td>\n",
       "      <td>S</td>\n",
       "    </tr>\n",
       "    <tr>\n",
       "      <th>1</th>\n",
       "      <td>2</td>\n",
       "      <td>1</td>\n",
       "      <td>1</td>\n",
       "      <td>Cumings, Mrs. John Bradley (Florence Briggs Th...</td>\n",
       "      <td>female</td>\n",
       "      <td>38.0</td>\n",
       "      <td>1</td>\n",
       "      <td>0</td>\n",
       "      <td>PC 17599</td>\n",
       "      <td>71.2833</td>\n",
       "      <td>C85</td>\n",
       "      <td>C</td>\n",
       "    </tr>\n",
       "    <tr>\n",
       "      <th>2</th>\n",
       "      <td>3</td>\n",
       "      <td>1</td>\n",
       "      <td>3</td>\n",
       "      <td>Heikkinen, Miss. Laina</td>\n",
       "      <td>female</td>\n",
       "      <td>26.0</td>\n",
       "      <td>0</td>\n",
       "      <td>0</td>\n",
       "      <td>STON/O2. 3101282</td>\n",
       "      <td>7.9250</td>\n",
       "      <td>NaN</td>\n",
       "      <td>S</td>\n",
       "    </tr>\n",
       "    <tr>\n",
       "      <th>3</th>\n",
       "      <td>4</td>\n",
       "      <td>1</td>\n",
       "      <td>1</td>\n",
       "      <td>Futrelle, Mrs. Jacques Heath (Lily May Peel)</td>\n",
       "      <td>female</td>\n",
       "      <td>35.0</td>\n",
       "      <td>1</td>\n",
       "      <td>0</td>\n",
       "      <td>113803</td>\n",
       "      <td>53.1000</td>\n",
       "      <td>C123</td>\n",
       "      <td>S</td>\n",
       "    </tr>\n",
       "    <tr>\n",
       "      <th>4</th>\n",
       "      <td>5</td>\n",
       "      <td>0</td>\n",
       "      <td>3</td>\n",
       "      <td>Allen, Mr. William Henry</td>\n",
       "      <td>male</td>\n",
       "      <td>35.0</td>\n",
       "      <td>0</td>\n",
       "      <td>0</td>\n",
       "      <td>373450</td>\n",
       "      <td>8.0500</td>\n",
       "      <td>NaN</td>\n",
       "      <td>S</td>\n",
       "    </tr>\n",
       "  </tbody>\n",
       "</table>\n",
       "</div>"
      ],
      "text/plain": [
       "   PassengerId  Survived  Pclass  \\\n",
       "0            1         0       3   \n",
       "1            2         1       1   \n",
       "2            3         1       3   \n",
       "3            4         1       1   \n",
       "4            5         0       3   \n",
       "\n",
       "                                                Name     Sex   Age  SibSp  \\\n",
       "0                            Braund, Mr. Owen Harris    male  22.0      1   \n",
       "1  Cumings, Mrs. John Bradley (Florence Briggs Th...  female  38.0      1   \n",
       "2                             Heikkinen, Miss. Laina  female  26.0      0   \n",
       "3       Futrelle, Mrs. Jacques Heath (Lily May Peel)  female  35.0      1   \n",
       "4                           Allen, Mr. William Henry    male  35.0      0   \n",
       "\n",
       "   Parch            Ticket     Fare Cabin Embarked  \n",
       "0      0         A/5 21171   7.2500   NaN        S  \n",
       "1      0          PC 17599  71.2833   C85        C  \n",
       "2      0  STON/O2. 3101282   7.9250   NaN        S  \n",
       "3      0            113803  53.1000  C123        S  \n",
       "4      0            373450   8.0500   NaN        S  "
      ]
     },
     "execution_count": 24,
     "metadata": {},
     "output_type": "execute_result"
    }
   ],
   "source": [
    "old_df.head()"
   ]
  },
  {
   "cell_type": "code",
   "execution_count": 25,
   "metadata": {},
   "outputs": [],
   "source": [
    "from sklearn.compose import ColumnTransformer"
   ]
  },
  {
   "cell_type": "code",
   "execution_count": 26,
   "metadata": {},
   "outputs": [],
   "source": [
    "trf = [(\"mean\", si, [5]), (\"Median\", si2, [5])]"
   ]
  },
  {
   "cell_type": "code",
   "execution_count": 27,
   "metadata": {},
   "outputs": [],
   "source": [
    "transformation = ColumnTransformer(transformers=trf)"
   ]
  },
  {
   "cell_type": "code",
   "execution_count": 28,
   "metadata": {},
   "outputs": [
    {
     "data": {
      "text/plain": [
       "<Axes: >"
      ]
     },
     "execution_count": 28,
     "metadata": {},
     "output_type": "execute_result"
    },
    {
     "data": {
      "image/png": "[encoded data removed]",
      "text/plain": [
       "<Figure size 640x480 with 1 Axes>"
      ]
     },
     "metadata": {},
     "output_type": "display_data"
    }
   ],
   "source": [
    "pd.Series(transformation.fit_transform(df)[:, 1]).plot(kind=\"box\")"
   ]
  },
  {
   "cell_type": "code",
   "execution_count": 29,
   "metadata": {},
   "outputs": [
    {
     "data": {
      "text/plain": [
       "PassengerId      0\n",
       "Survived         0\n",
       "Pclass           0\n",
       "Name             0\n",
       "Sex              0\n",
       "Age              0\n",
       "SibSp            0\n",
       "Parch            0\n",
       "Ticket           0\n",
       "Fare             0\n",
       "Cabin          687\n",
       "Embarked         2\n",
       "dtype: int64"
      ]
     },
     "execution_count": 29,
     "metadata": {},
     "output_type": "execute_result"
    }
   ],
   "source": [
    "df.isnull().sum()"
   ]
  },
  {
   "cell_type": "code",
   "execution_count": 31,
   "metadata": {},
   "outputs": [
    {
     "data": {
      "text/plain": [
       "0       NaN\n",
       "1       C85\n",
       "2       NaN\n",
       "3      C123\n",
       "4       NaN\n",
       "       ... \n",
       "886     NaN\n",
       "887     B42\n",
       "888     NaN\n",
       "889    C148\n",
       "890     NaN\n",
       "Name: Cabin, Length: 891, dtype: object"
      ]
     },
     "execution_count": 31,
     "metadata": {},
     "output_type": "execute_result"
    }
   ],
   "source": [
    "# Mixed Variable\n",
    "df[\"Cabin\"]"
   ]
  },
  {
   "cell_type": "code",
   "execution_count": 32,
   "metadata": {},
   "outputs": [],
   "source": [
    "# Regex"
   ]
  },
  {
   "cell_type": "code",
   "execution_count": 33,
   "metadata": {},
   "outputs": [],
   "source": [
    "import re\n",
    "\n",
    "txt = \"The rain in Spain\"\n",
    "x = re.search(\"^The.*Spain$\", txt)"
   ]
  },
  {
   "cell_type": "code",
   "execution_count": 52,
   "metadata": {},
   "outputs": [],
   "source": [
    "txt = \"Hello World DD 37636\""
   ]
  },
  {
   "cell_type": "code",
   "execution_count": 55,
   "metadata": {},
   "outputs": [
    {
     "data": {
      "text/plain": [
       "['d', 'DD']"
      ]
     },
     "execution_count": 55,
     "metadata": {},
     "output_type": "execute_result"
    }
   ],
   "source": [
    "re.findall(\"[a-dA-D]+\", txt)"
   ]
  },
  {
   "cell_type": "code",
   "execution_count": 87,
   "metadata": {},
   "outputs": [],
   "source": [
    "sample = \"\"\"What is Lorem Ipsum?\n",
    "Lorem Ipsum is simply dummy text of the printing and typesetting industry. Lorem Ipsum has been the industry's standard dummy text ever since the 1500s, when an unknown printer took a galley of type and scrambled it to make a type specimen book. It has survived not only five centuries, but also the leap into electronic typesetting, remaining essentially unchanged. It was popularised in the 1960s with the release of Letraset sheets containing Lorem Ipsum passages, and more recently with desktop publishing software like Aldus PageMaker including versions of Lorem Ipsum.\n",
    "\n",
    "Why do we use it?\n",
    "It is a long established fact that a reader will be distracted by the readable content of a page when looking at its layout. The point of using Lorem Ipsum is that it has a more-or-less normal distribution of letters, as opposed to using 'Content here, content here', making it look like readable English. Many desktop publishing packages and web page editors now use Lorem Ipsum as their default model text, and a search for 'lorem ipsum' will uncover many web sites still in their infancy. Various versions have evolved over the years, sometimes by accident, sometimes on purpose (injected humour and the like).\n",
    "\n",
    "\n",
    "Where does it come from?\n",
    "Contrary to popular belief, Lorem Ipsum is not simply random text. It has roots in a piece of classical Latin literature from 45 BC, making it over 2000 years old. Richard McClintock, a Latin professor at Hampden-Sydney College in Virginia, looked up one of the more obscure Latin words, consectetur, from a Lorem Ipsum passage, and going through the cites of the word in classical literature, discovered the undoubtable source. Lorem Ipsum comes from sections 1.10.32 and 1.10.33 of \"de Finibus Bonorum et Malorum\" (The Extremes of Good and Evil) by Cicero, written in 45 BC. This book is a treatise on the theory of ethics, very popular during the Renaissance. The first line of Lorem Ipsum, \"Lorem ipsum dolor sit amet..\", comes from a line in section 1.10.32. Lossm\"\"\""
   ]
  },
  {
   "cell_type": "code",
   "execution_count": 68,
   "metadata": {},
   "outputs": [],
   "source": [
    "pattern = \"[0-9]+\""
   ]
  },
  {
   "cell_type": "code",
   "execution_count": 69,
   "metadata": {},
   "outputs": [
    {
     "data": {
      "text/plain": [
       "['1500',\n",
       " '1960',\n",
       " '45',\n",
       " '2000',\n",
       " '1',\n",
       " '10',\n",
       " '32',\n",
       " '1',\n",
       " '10',\n",
       " '33',\n",
       " '45',\n",
       " '1',\n",
       " '10',\n",
       " '32']"
      ]
     },
     "execution_count": 69,
     "metadata": {},
     "output_type": "execute_result"
    }
   ],
   "source": [
    "re.findall(pattern, sample)"
   ]
  },
  {
   "cell_type": "code",
   "execution_count": 73,
   "metadata": {},
   "outputs": [
    {
     "data": {
      "text/plain": [
       "'What is Lorem Ipsum?\\nLorem Ipsum is simply dummy text of the printing and typesetting industry. Lorem Ipsum has been the industry\\'s standard dummy text ever since the 1500s, when an unknown printer took a galley of type and scrambled it to make a type specimen book. It has survived not only five centuries, but also the leap into electronic typesetting, remaining essentially unchanged. It was popularised in the 1960s with the release of Letraset sheets containing Lorem Ipsum passages, and more recently with desktop publishing software like Aldus PageMaker including versions of Lorem Ipsum.\\n\\nWhy do we use it?\\nIt is a long established fact that a reader will be distracted by the readable content of a page when looking at its layout. The point of using Lorem Ipsum is that it has a more-or-less normal distribution of letters, as opposed to using \\'Content here, content here\\', making it look like readable English. Many desktop publishing packages and web page editors now use Lorem Ipsum as their default model text, and a search for \\'lorem ipsum\\' will uncover many web sites still in their infancy. Various versions have evolved over the years, sometimes by accident, sometimes on purpose (injected humour and the like).\\n\\n\\nWhere does it come from?\\nContrary to popular belief, Lorem Ipsum is not simply random text. It has roots in a piece of classical Latin literature from 45 BC, making it over 2000 years old. Richard McClintock, a Latin professor at Hampden-Sydney College in Virginia, looked up one of the more obscure Latin words, consectetur, from a Lorem Ipsum passage, and going through the cites of the word in classical literature, discovered the undoubtable source. Lorem Ipsum comes from sections 1.10.32 and 1.10.33 of \"de Finibus Bonorum et Malorum\" (The Extremes of Good and Evil) by Cicero, written in 45 BC. This book is a treatise on the theory of ethics, very popular during the Renaissance. The first line of Lorem Ipsum, \"Lorem ipsum dolor sit amet..\", comes from a line in section 1.10.32.'"
      ]
     },
     "execution_count": 73,
     "metadata": {},
     "output_type": "execute_result"
    }
   ],
   "source": [
    "patt = '^Lo*$m'"
   ]
  },
  {
   "cell_type": "code",
   "execution_count": 84,
   "metadata": {},
   "outputs": [
    {
     "data": {
      "text/plain": [
       "[]"
      ]
     },
     "execution_count": 84,
     "metadata": {},
     "output_type": "execute_result"
    }
   ],
   "source": [
    "re.findall(\"^1.10.32.\", sample)"
   ]
  },
  {
   "cell_type": "code",
   "execution_count": 88,
   "metadata": {},
   "outputs": [
    {
     "data": {
      "text/plain": [
       "['Lorem',\n",
       " 'Lorem',\n",
       " 'Lorem',\n",
       " 'Lorem',\n",
       " 'Lorem',\n",
       " 'Lorem',\n",
       " 'Lorem',\n",
       " 'Lorem',\n",
       " 'Lorem',\n",
       " 'Lorem',\n",
       " 'Lorem',\n",
       " 'Lorem',\n",
       " 'Lossm']"
      ]
     },
     "execution_count": 88,
     "metadata": {},
     "output_type": "execute_result"
    }
   ],
   "source": [
    "re.findall(\"Lo.{2}m\", sample)"
   ]
  },
  {
   "cell_type": "code",
   "execution_count": 89,
   "metadata": {},
   "outputs": [
    {
     "data": {
      "text/plain": [
       "['Lorem',\n",
       " 'Lorem',\n",
       " 'Lorem',\n",
       " 'Lorem',\n",
       " 'Lorem',\n",
       " 'Lorem',\n",
       " 'Lorem',\n",
       " 'Lorem',\n",
       " 'Lorem',\n",
       " 'Lorem',\n",
       " 'Lorem',\n",
       " 'Lorem',\n",
       " 'Lossm']"
      ]
     },
     "execution_count": 89,
     "metadata": {},
     "output_type": "execute_result"
    }
   ],
   "source": [
    "re.findall(\"Lorem|Lossm\", sample)"
   ]
  },
  {
   "cell_type": "code",
   "execution_count": 90,
   "metadata": {},
   "outputs": [
    {
     "data": {
      "text/plain": [
       "[]"
      ]
     },
     "execution_count": 90,
     "metadata": {},
     "output_type": "execute_result"
    }
   ],
   "source": [
    "re.findall(\"/\\s*\\([^)]*\\)/', '\", sample)"
   ]
  },
  {
   "cell_type": "code",
   "execution_count": 103,
   "metadata": {},
   "outputs": [],
   "source": [
    "df[\"Room\"] = df[\"Cabin\"].str.extract(r\"([0-9]+)\")"
   ]
  },
  {
   "cell_type": "code",
   "execution_count": 107,
   "metadata": {},
   "outputs": [],
   "source": [
    "df[\"Cabin_number\"] = df[\"Cabin\"].str.extract(r\"([A-Z]+)\")"
   ]
  },
  {
   "cell_type": "code",
   "execution_count": 110,
   "metadata": {},
   "outputs": [],
   "source": [
    "si3 = SimpleImputer(strategy=\"most_frequent\")"
   ]
  },
  {
   "cell_type": "code",
   "execution_count": 114,
   "metadata": {},
   "outputs": [
    {
     "data": {
      "text/plain": [
       "'C'"
      ]
     },
     "execution_count": 114,
     "metadata": {},
     "output_type": "execute_result"
    }
   ],
   "source": [
    "df[\"Cabin_number\"].mode()[0]"
   ]
  },
  {
   "cell_type": "code",
   "execution_count": 116,
   "metadata": {},
   "outputs": [],
   "source": [
    "df[[\"Cabin_number\"]] = si3.fit_transform(df[[\"Cabin_number\"]])"
   ]
  },
  {
   "cell_type": "code",
   "execution_count": 118,
   "metadata": {},
   "outputs": [],
   "source": [
    "old_df[\"Cabin_number\"] = old_df[\"Cabin\"].str.extract(r\"([A-Z]+)\")"
   ]
  },
  {
   "cell_type": "code",
   "execution_count": 121,
   "metadata": {},
   "outputs": [
    {
     "data": {
      "text/plain": [
       "Cabin_number\n",
       "C    6.621773\n",
       "B    5.274972\n",
       "D    3.703704\n",
       "E    3.591470\n",
       "A    1.683502\n",
       "F    1.459035\n",
       "G    0.448934\n",
       "T    0.112233\n",
       "Name: count, dtype: float64"
      ]
     },
     "execution_count": 121,
     "metadata": {},
     "output_type": "execute_result"
    }
   ],
   "source": [
    "(old_df[\"Cabin_number\"].value_counts() / len(old_df)) * 100"
   ]
  },
  {
   "cell_type": "code",
   "execution_count": 122,
   "metadata": {},
   "outputs": [
    {
     "data": {
      "text/plain": [
       "Cabin_number\n",
       "C    83.726150\n",
       "B     5.274972\n",
       "D     3.703704\n",
       "E     3.591470\n",
       "A     1.683502\n",
       "F     1.459035\n",
       "G     0.448934\n",
       "T     0.112233\n",
       "Name: count, dtype: float64"
      ]
     },
     "execution_count": 122,
     "metadata": {},
     "output_type": "execute_result"
    }
   ],
   "source": [
    "(df[\"Cabin_number\"].value_counts() / len(df)) * 100"
   ]
  },
  {
   "cell_type": "code",
   "execution_count": 123,
   "metadata": {},
   "outputs": [],
   "source": [
    "# Mode imputation is not working good, need to find out other stargetgy."
   ]
  },
  {
   "cell_type": "code",
   "execution_count": 127,
   "metadata": {},
   "outputs": [],
   "source": [
    "si4 = SimpleImputer(strategy=\"constant\", fill_value=\"Hello\")"
   ]
  },
  {
   "cell_type": "code",
   "execution_count": 131,
   "metadata": {},
   "outputs": [
    {
     "data": {
      "text/plain": [
       "array([['Hello'],\n",
       "       ['85'],\n",
       "       ['Hello'],\n",
       "       ['123'],\n",
       "       ['Hello'],\n",
       "       ['Hello'],\n",
       "       ['46'],\n",
       "       ['Hello'],\n",
       "       ['Hello'],\n",
       "       ['Hello'],\n",
       "       ['6'],\n",
       "       ['103'],\n",
       "       ['Hello'],\n",
       "       ['Hello'],\n",
       "       ['Hello'],\n",
       "       ['Hello'],\n",
       "       ['Hello'],\n",
       "       ['Hello'],\n",
       "       ['Hello'],\n",
       "       ['Hello'],\n",
       "       ['Hello'],\n",
       "       ['56'],\n",
       "       ['Hello'],\n",
       "       ['6'],\n",
       "       ['Hello'],\n",
       "       ['Hello'],\n",
       "       ['Hello'],\n",
       "       ['23'],\n",
       "       ['Hello'],\n",
       "       ['Hello'],\n",
       "       ['Hello'],\n",
       "       ['78'],\n",
       "       ['Hello'],\n",
       "       ['Hello'],\n",
       "       ['Hello'],\n",
       "       ['Hello'],\n",
       "       ['Hello'],\n",
       "       ['Hello'],\n",
       "       ['Hello'],\n",
       "       ['Hello'],\n",
       "       ['Hello'],\n",
       "       ['Hello'],\n",
       "       ['Hello'],\n",
       "       ['Hello'],\n",
       "       ['Hello'],\n",
       "       ['Hello'],\n",
       "       ['Hello'],\n",
       "       ['Hello'],\n",
       "       ['Hello'],\n",
       "       ['Hello'],\n",
       "       ['Hello'],\n",
       "       ['Hello'],\n",
       "       ['33'],\n",
       "       ['Hello'],\n",
       "       ['30'],\n",
       "       ['52'],\n",
       "       ['Hello'],\n",
       "       ['Hello'],\n",
       "       ['Hello'],\n",
       "       ['Hello'],\n",
       "       ['Hello'],\n",
       "       ['28'],\n",
       "       ['83'],\n",
       "       ['Hello'],\n",
       "       ['Hello'],\n",
       "       ['Hello'],\n",
       "       ['33'],\n",
       "       ['Hello'],\n",
       "       ['Hello'],\n",
       "       ['Hello'],\n",
       "       ['Hello'],\n",
       "       ['Hello'],\n",
       "       ['Hello'],\n",
       "       ['Hello'],\n",
       "       ['Hello'],\n",
       "       ['73'],\n",
       "       ['Hello'],\n",
       "       ['Hello'],\n",
       "       ['Hello'],\n",
       "       ['Hello'],\n",
       "       ['Hello'],\n",
       "       ['Hello'],\n",
       "       ['Hello'],\n",
       "       ['Hello'],\n",
       "       ['Hello'],\n",
       "       ['Hello'],\n",
       "       ['Hello'],\n",
       "       ['Hello'],\n",
       "       ['23'],\n",
       "       ['Hello'],\n",
       "       ['Hello'],\n",
       "       ['Hello'],\n",
       "       ['31'],\n",
       "       ['Hello'],\n",
       "       ['Hello'],\n",
       "       ['Hello'],\n",
       "       ['5'],\n",
       "       ['10'],\n",
       "       ['Hello'],\n",
       "       ['Hello'],\n",
       "       ['Hello'],\n",
       "       ['Hello'],\n",
       "       ['26'],\n",
       "       ['Hello'],\n",
       "       ['Hello'],\n",
       "       ['Hello'],\n",
       "       ['Hello'],\n",
       "       ['Hello'],\n",
       "       ['Hello'],\n",
       "       ['Hello'],\n",
       "       ['110'],\n",
       "       ['Hello'],\n",
       "       ['Hello'],\n",
       "       ['Hello'],\n",
       "       ['Hello'],\n",
       "       ['Hello'],\n",
       "       ['Hello'],\n",
       "       ['Hello'],\n",
       "       ['58'],\n",
       "       ['Hello'],\n",
       "       ['Hello'],\n",
       "       ['Hello'],\n",
       "       ['Hello'],\n",
       "       ['101'],\n",
       "       ['26'],\n",
       "       ['Hello'],\n",
       "       ['Hello'],\n",
       "       ['Hello'],\n",
       "       ['69'],\n",
       "       ['Hello'],\n",
       "       ['Hello'],\n",
       "       ['Hello'],\n",
       "       ['Hello'],\n",
       "       ['Hello'],\n",
       "       ['Hello'],\n",
       "       ['Hello'],\n",
       "       ['47'],\n",
       "       ['123'],\n",
       "       ['Hello'],\n",
       "       ['86'],\n",
       "       ['Hello'],\n",
       "       ['Hello'],\n",
       "       ['Hello'],\n",
       "       ['Hello'],\n",
       "       ['Hello'],\n",
       "       ['Hello'],\n",
       "       ['Hello'],\n",
       "       ['Hello'],\n",
       "       ['2'],\n",
       "       ['Hello'],\n",
       "       ['Hello'],\n",
       "       ['2'],\n",
       "       ['Hello'],\n",
       "       ['Hello'],\n",
       "       ['Hello'],\n",
       "       ['Hello'],\n",
       "       ['Hello'],\n",
       "       ['Hello'],\n",
       "       ['Hello'],\n",
       "       ['Hello'],\n",
       "       ['Hello'],\n",
       "       ['Hello'],\n",
       "       ['Hello'],\n",
       "       ['Hello'],\n",
       "       ['Hello'],\n",
       "       ['Hello'],\n",
       "       ['33'],\n",
       "       ['Hello'],\n",
       "       ['Hello'],\n",
       "       ['Hello'],\n",
       "       ['19'],\n",
       "       ['Hello'],\n",
       "       ['Hello'],\n",
       "       ['Hello'],\n",
       "       ['7'],\n",
       "       ['Hello'],\n",
       "       ['Hello'],\n",
       "       ['49'],\n",
       "       ['Hello'],\n",
       "       ['Hello'],\n",
       "       ['Hello'],\n",
       "       ['Hello'],\n",
       "       ['Hello'],\n",
       "       ['4'],\n",
       "       ['Hello'],\n",
       "       ['32'],\n",
       "       ['Hello'],\n",
       "       ['Hello'],\n",
       "       ['Hello'],\n",
       "       ['Hello'],\n",
       "       ['Hello'],\n",
       "       ['Hello'],\n",
       "       ['Hello'],\n",
       "       ['2'],\n",
       "       ['4'],\n",
       "       ['80'],\n",
       "       ['Hello'],\n",
       "       ['Hello'],\n",
       "       ['Hello'],\n",
       "       ['Hello'],\n",
       "       ['Hello'],\n",
       "       ['Hello'],\n",
       "       ['Hello'],\n",
       "       ['Hello'],\n",
       "       ['Hello'],\n",
       "       ['6'],\n",
       "       ['Hello'],\n",
       "       ['Hello'],\n",
       "       ['Hello'],\n",
       "       ['31'],\n",
       "       ['Hello'],\n",
       "       ['Hello'],\n",
       "       ['Hello'],\n",
       "       ['Hello'],\n",
       "       ['Hello'],\n",
       "       ['36'],\n",
       "       ['Hello'],\n",
       "       ['Hello'],\n",
       "       ['15'],\n",
       "       ['Hello'],\n",
       "       ['Hello'],\n",
       "       ['Hello'],\n",
       "       ['Hello'],\n",
       "       ['Hello'],\n",
       "       ['93'],\n",
       "       ['Hello'],\n",
       "       ['Hello'],\n",
       "       ['Hello'],\n",
       "       ['Hello'],\n",
       "       ['Hello'],\n",
       "       ['83'],\n",
       "       ['Hello'],\n",
       "       ['Hello'],\n",
       "       ['Hello'],\n",
       "       ['Hello'],\n",
       "       ['Hello'],\n",
       "       ['Hello'],\n",
       "       ['Hello'],\n",
       "       ['Hello'],\n",
       "       ['Hello'],\n",
       "       ['Hello'],\n",
       "       ['Hello'],\n",
       "       ['Hello'],\n",
       "       ['Hello'],\n",
       "       ['Hello'],\n",
       "       ['78'],\n",
       "       ['Hello'],\n",
       "       ['Hello'],\n",
       "       ['35'],\n",
       "       ['Hello'],\n",
       "       ['Hello'],\n",
       "       ['6'],\n",
       "       ['87'],\n",
       "       ['Hello'],\n",
       "       ['Hello'],\n",
       "       ['Hello'],\n",
       "       ['Hello'],\n",
       "       ['77'],\n",
       "       ['Hello'],\n",
       "       ['Hello'],\n",
       "       ['Hello'],\n",
       "       ['Hello'],\n",
       "       ['67'],\n",
       "       ['94'],\n",
       "       ['Hello'],\n",
       "       ['Hello'],\n",
       "       ['Hello'],\n",
       "       ['Hello'],\n",
       "       ['125'],\n",
       "       ['99'],\n",
       "       ['Hello'],\n",
       "       ['Hello'],\n",
       "       ['Hello'],\n",
       "       ['118'],\n",
       "       ['Hello'],\n",
       "       ['7'],\n",
       "       ['Hello'],\n",
       "       ['Hello'],\n",
       "       ['Hello'],\n",
       "       ['Hello'],\n",
       "       ['Hello'],\n",
       "       ['Hello'],\n",
       "       ['Hello'],\n",
       "       ['Hello'],\n",
       "       ['19'],\n",
       "       ['Hello'],\n",
       "       ['Hello'],\n",
       "       ['Hello'],\n",
       "       ['Hello'],\n",
       "       ['Hello'],\n",
       "       ['Hello'],\n",
       "       ['49'],\n",
       "       ['Hello'],\n",
       "       ['Hello'],\n",
       "       ['Hello'],\n",
       "       ['Hello'],\n",
       "       ['Hello'],\n",
       "       ['22'],\n",
       "       ['106'],\n",
       "       ['58'],\n",
       "       ['Hello'],\n",
       "       ['Hello'],\n",
       "       ['Hello'],\n",
       "       ['101'],\n",
       "       ['Hello'],\n",
       "       ['22'],\n",
       "       ['Hello'],\n",
       "       ['65'],\n",
       "       ['Hello'],\n",
       "       ['36'],\n",
       "       ['54'],\n",
       "       ['57'],\n",
       "       ['Hello'],\n",
       "       ['Hello'],\n",
       "       ['Hello'],\n",
       "       ['Hello'],\n",
       "       ['Hello'],\n",
       "       ['Hello'],\n",
       "       ['7'],\n",
       "       ['34'],\n",
       "       ['Hello'],\n",
       "       ['Hello'],\n",
       "       ['Hello'],\n",
       "       ['Hello'],\n",
       "       ['Hello'],\n",
       "       ['32'],\n",
       "       ['Hello'],\n",
       "       ['Hello'],\n",
       "       ['Hello'],\n",
       "       ['18'],\n",
       "       ['Hello'],\n",
       "       ['124'],\n",
       "       ['91'],\n",
       "       ['Hello'],\n",
       "       ['Hello'],\n",
       "       ['Hello'],\n",
       "       ['2'],\n",
       "       ['40'],\n",
       "       ['Hello'],\n",
       "       ['Hello'],\n",
       "       ['2'],\n",
       "       ['23'],\n",
       "       ['Hello'],\n",
       "       ['Hello'],\n",
       "       ['Hello'],\n",
       "       ['33'],\n",
       "       ['Hello'],\n",
       "       ['Hello'],\n",
       "       ['Hello'],\n",
       "       ['Hello'],\n",
       "       ['Hello'],\n",
       "       ['128'],\n",
       "       ['Hello'],\n",
       "       ['Hello'],\n",
       "       ['Hello'],\n",
       "       ['Hello'],\n",
       "       ['33'],\n",
       "       ['Hello'],\n",
       "       ['Hello'],\n",
       "       ['Hello'],\n",
       "       ['Hello'],\n",
       "       ['Hello'],\n",
       "       ['Hello'],\n",
       "       ['Hello'],\n",
       "       ['Hello'],\n",
       "       ['Hello'],\n",
       "       ['37'],\n",
       "       ['Hello'],\n",
       "       ['Hello'],\n",
       "       ['35'],\n",
       "       ['50'],\n",
       "       ['Hello'],\n",
       "       ['Hello'],\n",
       "       ['Hello'],\n",
       "       ['Hello'],\n",
       "       ['Hello'],\n",
       "       ['Hello'],\n",
       "       ['82'],\n",
       "       ['Hello'],\n",
       "       ['Hello'],\n",
       "       ['Hello'],\n",
       "       ['Hello'],\n",
       "       ['Hello'],\n",
       "       ['Hello'],\n",
       "       ['Hello'],\n",
       "       ['Hello'],\n",
       "       ['Hello'],\n",
       "       ['Hello'],\n",
       "       ['Hello'],\n",
       "       ['Hello'],\n",
       "       ['96'],\n",
       "       ['Hello'],\n",
       "       ['Hello'],\n",
       "       ['36'],\n",
       "       ['6'],\n",
       "       ['Hello'],\n",
       "       ['Hello'],\n",
       "       ['Hello'],\n",
       "       ['Hello'],\n",
       "       ['Hello'],\n",
       "       ['Hello'],\n",
       "       ['Hello'],\n",
       "       ['Hello'],\n",
       "       ['Hello'],\n",
       "       ['Hello'],\n",
       "       ['Hello'],\n",
       "       ['Hello'],\n",
       "       ['Hello'],\n",
       "       ['Hello'],\n",
       "       ['Hello'],\n",
       "       ['Hello'],\n",
       "       ['Hello'],\n",
       "       ['78'],\n",
       "       ['Hello'],\n",
       "       ['Hello'],\n",
       "       ['Hello'],\n",
       "       ['Hello'],\n",
       "       ['Hello'],\n",
       "       ['Hello'],\n",
       "       ['Hello'],\n",
       "       ['Hello'],\n",
       "       ['Hello'],\n",
       "       ['Hello'],\n",
       "       ['Hello'],\n",
       "       ['Hello'],\n",
       "       ['Hello'],\n",
       "       ['Hello'],\n",
       "       ['Hello'],\n",
       "       ['Hello'],\n",
       "       ['10'],\n",
       "       ['52'],\n",
       "       ['Hello'],\n",
       "       ['Hello'],\n",
       "       ['Hello'],\n",
       "       ['44'],\n",
       "       ['96'],\n",
       "       ['Hello'],\n",
       "       ['Hello'],\n",
       "       ['23'],\n",
       "       ['Hello'],\n",
       "       ['Hello'],\n",
       "       ['Hello'],\n",
       "       ['Hello'],\n",
       "       ['Hello'],\n",
       "       ['Hello'],\n",
       "       ['34'],\n",
       "       ['Hello'],\n",
       "       ['Hello'],\n",
       "       ['Hello'],\n",
       "       ['104'],\n",
       "       ['Hello'],\n",
       "       ['Hello'],\n",
       "       ['111'],\n",
       "       ['92'],\n",
       "       ['Hello'],\n",
       "       ['Hello'],\n",
       "       ['38'],\n",
       "       ['21'],\n",
       "       ['Hello'],\n",
       "       ['Hello'],\n",
       "       ['12'],\n",
       "       ['Hello'],\n",
       "       ['63'],\n",
       "       ['Hello'],\n",
       "       ['Hello'],\n",
       "       ['Hello'],\n",
       "       ['Hello'],\n",
       "       ['Hello'],\n",
       "       ['Hello'],\n",
       "       ['Hello'],\n",
       "       ['Hello'],\n",
       "       ['Hello'],\n",
       "       ['Hello'],\n",
       "       ['Hello'],\n",
       "       ['Hello'],\n",
       "       ['14'],\n",
       "       ['Hello'],\n",
       "       ['Hello'],\n",
       "       ['Hello'],\n",
       "       ['Hello'],\n",
       "       ['Hello'],\n",
       "       ['Hello'],\n",
       "       ['Hello'],\n",
       "       ['Hello'],\n",
       "       ['49'],\n",
       "       ['Hello'],\n",
       "       ['93'],\n",
       "       ['37'],\n",
       "       ['Hello'],\n",
       "       ['Hello'],\n",
       "       ['Hello'],\n",
       "       ['Hello'],\n",
       "       ['30'],\n",
       "       ['Hello'],\n",
       "       ['Hello'],\n",
       "       ['Hello'],\n",
       "       ['20'],\n",
       "       ['Hello'],\n",
       "       ['22'],\n",
       "       ['Hello'],\n",
       "       ['Hello'],\n",
       "       ['Hello'],\n",
       "       ['Hello'],\n",
       "       ['Hello'],\n",
       "       ['79'],\n",
       "       ['65'],\n",
       "       ['Hello'],\n",
       "       ['Hello'],\n",
       "       ['Hello'],\n",
       "       ['Hello'],\n",
       "       ['Hello'],\n",
       "       ['Hello'],\n",
       "       ['25'],\n",
       "       ['Hello'],\n",
       "       ['Hello'],\n",
       "       ['46'],\n",
       "       ['33'],\n",
       "       ['Hello'],\n",
       "       ['Hello'],\n",
       "       ['Hello'],\n",
       "       ['73'],\n",
       "       ['Hello'],\n",
       "       ['Hello'],\n",
       "       ['18'],\n",
       "       ['Hello'],\n",
       "       ['Hello'],\n",
       "       ['Hello'],\n",
       "       ['95'],\n",
       "       ['Hello'],\n",
       "       ['Hello'],\n",
       "       ['Hello'],\n",
       "       ['Hello'],\n",
       "       ['Hello'],\n",
       "       ['Hello'],\n",
       "       ['Hello'],\n",
       "       ['Hello'],\n",
       "       ['38'],\n",
       "       ['Hello'],\n",
       "       ['Hello'],\n",
       "       ['39'],\n",
       "       ['22'],\n",
       "       ['Hello'],\n",
       "       ['Hello'],\n",
       "       ['Hello'],\n",
       "       ['86'],\n",
       "       ['Hello'],\n",
       "       ['Hello'],\n",
       "       ['Hello'],\n",
       "       ['Hello'],\n",
       "       ['Hello'],\n",
       "       ['70'],\n",
       "       ['Hello'],\n",
       "       ['Hello'],\n",
       "       ['Hello'],\n",
       "       ['Hello'],\n",
       "       ['Hello'],\n",
       "       ['16'],\n",
       "       ['Hello'],\n",
       "       ['67'],\n",
       "       ['Hello'],\n",
       "       ['Hello'],\n",
       "       ['Hello'],\n",
       "       ['Hello'],\n",
       "       ['Hello'],\n",
       "       ['Hello'],\n",
       "       ['Hello'],\n",
       "       ['Hello'],\n",
       "       ['Hello'],\n",
       "       ['Hello'],\n",
       "       ['Hello'],\n",
       "       ['Hello'],\n",
       "       ['101'],\n",
       "       ['25'],\n",
       "       ['Hello'],\n",
       "       ['Hello'],\n",
       "       ['Hello'],\n",
       "       ['Hello'],\n",
       "       ['44'],\n",
       "       ['Hello'],\n",
       "       ['Hello'],\n",
       "       ['Hello'],\n",
       "       ['68'],\n",
       "       ['Hello'],\n",
       "       ['10'],\n",
       "       ['Hello'],\n",
       "       ['68'],\n",
       "       ['Hello'],\n",
       "       ['41'],\n",
       "       ['Hello'],\n",
       "       ['Hello'],\n",
       "       ['Hello'],\n",
       "       ['20'],\n",
       "       ['Hello'],\n",
       "       ['Hello'],\n",
       "       ['Hello'],\n",
       "       ['Hello'],\n",
       "       ['Hello'],\n",
       "       ['Hello'],\n",
       "       ['Hello'],\n",
       "       ['20'],\n",
       "       ['Hello'],\n",
       "       ['Hello'],\n",
       "       ['Hello'],\n",
       "       ['Hello'],\n",
       "       ['Hello'],\n",
       "       ['Hello'],\n",
       "       ['Hello'],\n",
       "       ['Hello'],\n",
       "       ['Hello'],\n",
       "       ['125'],\n",
       "       ['Hello'],\n",
       "       ['Hello'],\n",
       "       ['Hello'],\n",
       "       ['Hello'],\n",
       "       ['Hello'],\n",
       "       ['Hello'],\n",
       "       ['Hello'],\n",
       "       ['Hello'],\n",
       "       ['4'],\n",
       "       ['Hello'],\n",
       "       ['Hello'],\n",
       "       ['19'],\n",
       "       ['Hello'],\n",
       "       ['Hello'],\n",
       "       ['Hello'],\n",
       "       ['50'],\n",
       "       ['Hello'],\n",
       "       ['9'],\n",
       "       ['Hello'],\n",
       "       ['Hello'],\n",
       "       ['23'],\n",
       "       ['Hello'],\n",
       "       ['50'],\n",
       "       ['Hello'],\n",
       "       ['Hello'],\n",
       "       ['Hello'],\n",
       "       ['Hello'],\n",
       "       ['Hello'],\n",
       "       ['Hello'],\n",
       "       ['Hello'],\n",
       "       ['Hello'],\n",
       "       ['35'],\n",
       "       ['Hello'],\n",
       "       ['Hello'],\n",
       "       ['Hello'],\n",
       "       ['33'],\n",
       "       ['Hello'],\n",
       "       ['26'],\n",
       "       ['Hello'],\n",
       "       ['Hello'],\n",
       "       ['Hello'],\n",
       "       ['Hello'],\n",
       "       ['Hello'],\n",
       "       ['Hello'],\n",
       "       ['Hello'],\n",
       "       ['Hello'],\n",
       "       ['Hello'],\n",
       "       ['Hello'],\n",
       "       ['Hello'],\n",
       "       ['48'],\n",
       "       ['Hello'],\n",
       "       ['Hello'],\n",
       "       ['58'],\n",
       "       ['Hello'],\n",
       "       ['Hello'],\n",
       "       ['Hello'],\n",
       "       ['Hello'],\n",
       "       ['Hello'],\n",
       "       ['Hello'],\n",
       "       ['126'],\n",
       "       ['Hello'],\n",
       "       ['71'],\n",
       "       ['Hello'],\n",
       "       ['Hello'],\n",
       "       ['Hello'],\n",
       "       ['Hello'],\n",
       "       ['Hello'],\n",
       "       ['Hello'],\n",
       "       ['Hello'],\n",
       "       ['51'],\n",
       "       ['Hello'],\n",
       "       ['49'],\n",
       "       ['Hello'],\n",
       "       ['Hello'],\n",
       "       ['Hello'],\n",
       "       ['Hello'],\n",
       "       ['Hello'],\n",
       "       ['Hello'],\n",
       "       ['Hello'],\n",
       "       ['5'],\n",
       "       ['20'],\n",
       "       ['Hello'],\n",
       "       ['Hello'],\n",
       "       ['Hello'],\n",
       "       ['Hello'],\n",
       "       ['Hello'],\n",
       "       ['Hello'],\n",
       "       ['Hello'],\n",
       "       ['68'],\n",
       "       ['63'],\n",
       "       ['62'],\n",
       "       ['24'],\n",
       "       ['Hello'],\n",
       "       ['Hello'],\n",
       "       ['Hello'],\n",
       "       ['Hello'],\n",
       "       ['Hello'],\n",
       "       ['24'],\n",
       "       ['Hello'],\n",
       "       ['Hello'],\n",
       "       ['90'],\n",
       "       ['124'],\n",
       "       ['126'],\n",
       "       ['Hello'],\n",
       "       ['Hello'],\n",
       "       ['73'],\n",
       "       ['45'],\n",
       "       ['101'],\n",
       "       ['Hello'],\n",
       "       ['Hello'],\n",
       "       ['Hello'],\n",
       "       ['Hello'],\n",
       "       ['Hello'],\n",
       "       ['Hello'],\n",
       "       ['8'],\n",
       "       ['Hello'],\n",
       "       ['Hello'],\n",
       "       ['Hello'],\n",
       "       ['Hello'],\n",
       "       ['Hello'],\n",
       "       ['5'],\n",
       "       ['Hello'],\n",
       "       ['Hello'],\n",
       "       ['Hello'],\n",
       "       ['Hello'],\n",
       "       ['Hello'],\n",
       "       ['Hello'],\n",
       "       ['101'],\n",
       "       ['Hello'],\n",
       "       ['Hello'],\n",
       "       ['45'],\n",
       "       ['46'],\n",
       "       ['57'],\n",
       "       ['Hello'],\n",
       "       ['Hello'],\n",
       "       ['22'],\n",
       "       ['Hello'],\n",
       "       ['Hello'],\n",
       "       ['30'],\n",
       "       ['Hello'],\n",
       "       ['Hello'],\n",
       "       ['121'],\n",
       "       ['Hello'],\n",
       "       ['Hello'],\n",
       "       ['Hello'],\n",
       "       ['Hello'],\n",
       "       ['Hello'],\n",
       "       ['Hello'],\n",
       "       ['Hello'],\n",
       "       ['77'],\n",
       "       ['Hello'],\n",
       "       ['Hello'],\n",
       "       ['Hello'],\n",
       "       ['96'],\n",
       "       ['Hello'],\n",
       "       ['11'],\n",
       "       ['Hello'],\n",
       "       ['Hello'],\n",
       "       ['Hello'],\n",
       "       ['Hello'],\n",
       "       ['Hello'],\n",
       "       ['Hello'],\n",
       "       ['77'],\n",
       "       ['Hello'],\n",
       "       ['Hello'],\n",
       "       ['Hello'],\n",
       "       ['38'],\n",
       "       ['Hello'],\n",
       "       ['Hello'],\n",
       "       ['3'],\n",
       "       ['Hello'],\n",
       "       ['20'],\n",
       "       ['6'],\n",
       "       ['Hello'],\n",
       "       ['Hello'],\n",
       "       ['Hello'],\n",
       "       ['Hello'],\n",
       "       ['Hello'],\n",
       "       ['Hello'],\n",
       "       ['82'],\n",
       "       ['Hello'],\n",
       "       ['Hello'],\n",
       "       ['Hello'],\n",
       "       ['Hello'],\n",
       "       ['Hello'],\n",
       "       ['Hello'],\n",
       "       ['17'],\n",
       "       ['Hello'],\n",
       "       ['Hello'],\n",
       "       ['Hello'],\n",
       "       ['Hello'],\n",
       "       ['Hello'],\n",
       "       ['96'],\n",
       "       ['Hello'],\n",
       "       ['Hello'],\n",
       "       ['Hello'],\n",
       "       ['36'],\n",
       "       ['Hello'],\n",
       "       ['Hello'],\n",
       "       ['8'],\n",
       "       ['Hello'],\n",
       "       ['Hello'],\n",
       "       ['Hello'],\n",
       "       ['Hello'],\n",
       "       ['Hello'],\n",
       "       ['102'],\n",
       "       ['Hello'],\n",
       "       ['Hello'],\n",
       "       ['Hello'],\n",
       "       ['Hello'],\n",
       "       ['69'],\n",
       "       ['Hello'],\n",
       "       ['Hello'],\n",
       "       ['121'],\n",
       "       ['Hello'],\n",
       "       ['Hello'],\n",
       "       ['Hello'],\n",
       "       ['Hello'],\n",
       "       ['Hello'],\n",
       "       ['28'],\n",
       "       ['Hello'],\n",
       "       ['Hello'],\n",
       "       ['Hello'],\n",
       "       ['Hello'],\n",
       "       ['Hello'],\n",
       "       ['49'],\n",
       "       ['Hello'],\n",
       "       ['Hello'],\n",
       "       ['Hello'],\n",
       "       ['47'],\n",
       "       ['Hello'],\n",
       "       ['Hello'],\n",
       "       ['Hello'],\n",
       "       ['Hello'],\n",
       "       ['Hello'],\n",
       "       ['Hello'],\n",
       "       ['Hello'],\n",
       "       ['Hello'],\n",
       "       ['Hello'],\n",
       "       ['92'],\n",
       "       ['Hello'],\n",
       "       ['Hello'],\n",
       "       ['Hello'],\n",
       "       ['28'],\n",
       "       ['Hello'],\n",
       "       ['Hello'],\n",
       "       ['Hello'],\n",
       "       ['17'],\n",
       "       ['Hello'],\n",
       "       ['Hello'],\n",
       "       ['Hello'],\n",
       "       ['Hello'],\n",
       "       ['17'],\n",
       "       ['Hello'],\n",
       "       ['Hello'],\n",
       "       ['Hello'],\n",
       "       ['Hello'],\n",
       "       ['24'],\n",
       "       ['Hello'],\n",
       "       ['Hello'],\n",
       "       ['Hello'],\n",
       "       ['35'],\n",
       "       ['51'],\n",
       "       ['Hello'],\n",
       "       ['Hello'],\n",
       "       ['Hello'],\n",
       "       ['Hello'],\n",
       "       ['Hello'],\n",
       "       ['Hello'],\n",
       "       ['50'],\n",
       "       ['Hello'],\n",
       "       ['Hello'],\n",
       "       ['Hello'],\n",
       "       ['Hello'],\n",
       "       ['Hello'],\n",
       "       ['Hello'],\n",
       "       ['Hello'],\n",
       "       ['42'],\n",
       "       ['Hello'],\n",
       "       ['148'],\n",
       "       ['Hello']], dtype=object)"
      ]
     },
     "execution_count": 131,
     "metadata": {},
     "output_type": "execute_result"
    }
   ],
   "source": [
    "si4.fit_transform(df[\"Room\"].values.reshape(-1, 1))"
   ]
  }
 ],
 "metadata": {
  "kernelspec": {
   "display_name": "DataScience",
   "language": "python",
   "name": "python3"
  },
  "language_info": {
   "codemirror_mode": {
    "name": "ipython",
    "version": 3
   },
   "file_extension": ".py",
   "mimetype": "text/x-python",
   "name": "python",
   "nbconvert_exporter": "python",
   "pygments_lexer": "ipython3",
   "version": "3.10.16"
  }
 },
 "nbformat": 4,
 "nbformat_minor": 2
}
