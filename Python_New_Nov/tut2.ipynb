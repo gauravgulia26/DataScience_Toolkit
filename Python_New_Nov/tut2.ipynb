{
 "cells": [
  {
   "cell_type": "code",
   "execution_count": 1,
   "id": "aef66a20-43fd-47ba-8f0b-166ea4b2efda",
   "metadata": {},
   "outputs": [],
   "source": [
    "# Split and Join (String Methods)"
   ]
  },
  {
   "cell_type": "code",
   "execution_count": 2,
   "id": "6cf2bf55-3510-4bb8-81b9-fe5b23092e74",
   "metadata": {},
   "outputs": [],
   "source": [
    "a = 'Hello World'"
   ]
  },
  {
   "cell_type": "code",
   "execution_count": 3,
   "id": "c1107cd0-c667-465e-a0fb-e1104f3733e5",
   "metadata": {},
   "outputs": [
    {
     "data": {
      "text/plain": [
       "'Hello World'"
      ]
     },
     "execution_count": 3,
     "metadata": {},
     "output_type": "execute_result"
    }
   ],
   "source": [
    "a"
   ]
  },
  {
   "cell_type": "code",
   "execution_count": 4,
   "id": "a97705ef-24cd-4068-93e2-f3c157dbb296",
   "metadata": {},
   "outputs": [],
   "source": [
    "# Split -> String - List\n",
    "# Join -> List -> String"
   ]
  },
  {
   "cell_type": "code",
   "execution_count": 10,
   "id": "df4cdc26-e7c1-4b31-83ae-ea6d06fd1841",
   "metadata": {},
   "outputs": [],
   "source": [
    "corpus = \"\"\"\n",
    "\n",
    "Lorem Ipsum is simply dummy text of the printing and typesetting industry. Lorem Ipsum has been the industry's standard dummy text ever since the 1500s, when an unknown printer took a galley of type and scrambled it to make a type specimen book. It has survived not only five centuries, but also the leap into electronic typesetting, remaining essentially unchanged. It was popularised in the 1960s with the release of Letraset sheets containing Lorem Ipsum passages, and more recently with desktop publishing software like Aldus PageMaker including ve\n",
    "\"\"\""
   ]
  },
  {
   "cell_type": "code",
   "execution_count": 12,
   "id": "0d43959f-29fe-4080-b4af-d573b5eed1f9",
   "metadata": {},
   "outputs": [
    {
     "data": {
      "text/plain": [
       "\"\\n\\nLorem Ipsum is simply dummy text of the printing and typesetting industry. Lorem Ipsum has been the industry's standard dummy text ever since the 1500s, when an unknown printer took a galley of type and scrambled it to make a type specimen book. It has survived not only five centuries, but also the leap into electronic typesetting, remaining essentially unchanged. It was popularised in the 1960s with the release of Letraset sheets containing Lorem Ipsum passages, and more recently with desktop publishing software like Aldus PageMaker including ve\\n\""
      ]
     },
     "execution_count": 12,
     "metadata": {},
     "output_type": "execute_result"
    }
   ],
   "source": [
    "corpus"
   ]
  },
  {
   "cell_type": "code",
   "execution_count": 16,
   "id": "1b57b596-7f77-4472-b3a2-8a7a458d9712",
   "metadata": {},
   "outputs": [
    {
     "data": {
      "text/plain": [
       "\"\\n\\nLorem Ipsum is simply dummy text of the printing and typesetting industry. Lorem Ipsum has been the industry's standard dummy text ever since the 1500s, when an unknown printer took a galley of type and scrambled it to make a type specimen book. It has survived not only five centuries, but also the leap into electronic typesetting, remaining essentially unchanged. It was popularised in the 1960s with the release of Letraset sheets containing Lorem Ipsum passages, and more recently with desktop publishing software like Aldus PageMaker including ve\\n\""
      ]
     },
     "execution_count": 16,
     "metadata": {},
     "output_type": "execute_result"
    }
   ],
   "source": [
    "\" \".join(corpus.split(' '))"
   ]
  },
  {
   "cell_type": "code",
   "execution_count": 23,
   "id": "67c50514-92f1-46d6-b9a9-922025f773ab",
   "metadata": {},
   "outputs": [],
   "source": [
    "# operator precendence"
   ]
  },
  {
   "cell_type": "code",
   "execution_count": 29,
   "id": "35401913-8e31-4f74-b7df-cc6a2a16797b",
   "metadata": {},
   "outputs": [
    {
     "data": {
      "text/plain": [
       "25"
      ]
     },
     "execution_count": 29,
     "metadata": {},
     "output_type": "execute_result"
    }
   ],
   "source": [
    "((2+(3-4))*5)**2"
   ]
  },
  {
   "cell_type": "code",
   "execution_count": 30,
   "id": "25f4a336-de7a-419d-ac24-f8b5c6891ccf",
   "metadata": {},
   "outputs": [
    {
     "data": {
      "text/plain": [
       "False"
      ]
     },
     "execution_count": 30,
     "metadata": {},
     "output_type": "execute_result"
    }
   ],
   "source": [
    "not True"
   ]
  },
  {
   "cell_type": "code",
   "execution_count": 38,
   "id": "9a0c66ae-741a-4a29-9788-102ab0213b75",
   "metadata": {},
   "outputs": [
    {
     "data": {
      "text/plain": [
       "1.0"
      ]
     },
     "execution_count": 38,
     "metadata": {},
     "output_type": "execute_result"
    }
   ],
   "source": [
    "(15 // 5 / 3)"
   ]
  },
  {
   "cell_type": "code",
   "execution_count": null,
   "id": "65549f82-a923-497b-bcac-026987f521cb",
   "metadata": {},
   "outputs": [],
   "source": []
  },
  {
   "cell_type": "code",
   "execution_count": 40,
   "id": "dbc91e36-8556-4df5-8d74-65d8fc5e8c2d",
   "metadata": {},
   "outputs": [
    {
     "data": {
      "text/plain": [
       "30.0"
      ]
     },
     "execution_count": 40,
     "metadata": {},
     "output_type": "execute_result"
    }
   ],
   "source": []
  },
  {
   "cell_type": "code",
   "execution_count": 48,
   "id": "24a1d5ed-428f-4601-9786-82675f74a1a4",
   "metadata": {},
   "outputs": [
    {
     "data": {
      "text/plain": [
       "20"
      ]
     },
     "execution_count": 48,
     "metadata": {},
     "output_type": "execute_result"
    }
   ],
   "source": [
    "((3 + (2 ** (3 + 1)) // \n",
    "(4 - 2)) * (7 % 5) - (8 // (3 + 1)))"
   ]
  },
  {
   "cell_type": "code",
   "execution_count": 55,
   "id": "fae4a64d-6430-4eb2-a402-b09b3401b8e0",
   "metadata": {},
   "outputs": [
    {
     "data": {
      "text/plain": [
       "11"
      ]
     },
     "execution_count": 55,
     "metadata": {},
     "output_type": "execute_result"
    }
   ],
   "source": [
    "(3 + 16 // \n",
    "(4 - 2))"
   ]
  },
  {
   "cell_type": "code",
   "execution_count": 53,
   "id": "0fc65702-300f-413d-8d16-06b2ff109b56",
   "metadata": {},
   "outputs": [
    {
     "data": {
      "text/plain": [
       "19"
      ]
     },
     "execution_count": 53,
     "metadata": {},
     "output_type": "execute_result"
    }
   ],
   "source": [
    "(3 + (2 ** (3 + 1)))"
   ]
  },
  {
   "cell_type": "code",
   "execution_count": 47,
   "id": "ab491fe2-a38b-4ebe-b043-891722983962",
   "metadata": {},
   "outputs": [
    {
     "data": {
      "text/plain": [
       "2"
      ]
     },
     "execution_count": 47,
     "metadata": {},
     "output_type": "execute_result"
    }
   ],
   "source": []
  },
  {
   "cell_type": "code",
   "execution_count": 60,
   "id": "1cb191e7-d926-4e4c-8ed2-8c4ab92dcfe7",
   "metadata": {},
   "outputs": [],
   "source": [
    "# Extremely challenging arithmetic expression with nested parentheses\n",
    "# 32\n"
   ]
  },
  {
   "cell_type": "code",
   "execution_count": 61,
   "id": "bc1b4270-8734-4577-89f2-2e956b65bb5c",
   "metadata": {},
   "outputs": [
    {
     "data": {
      "text/plain": [
       "12"
      ]
     },
     "execution_count": 61,
     "metadata": {},
     "output_type": "execute_result"
    }
   ],
   "source": [
    "(5 * (2 + 1) ** 2 - 9) // 3"
   ]
  },
  {
   "cell_type": "code",
   "execution_count": null,
   "id": "9b23efca-71ef-45e1-9fc0-4a35482cf39e",
   "metadata": {},
   "outputs": [],
   "source": []
  },
  {
   "cell_type": "code",
   "execution_count": 63,
   "id": "b1a0e154-45c0-4bd9-838a-5ee18d2ecf86",
   "metadata": {},
   "outputs": [],
   "source": []
  },
  {
   "cell_type": "code",
   "execution_count": 67,
   "id": "a9ee9b21-3237-487e-9291-fddc54196abb",
   "metadata": {},
   "outputs": [],
   "source": [
    "del result"
   ]
  },
  {
   "cell_type": "code",
   "execution_count": 68,
   "id": "0fa9de8e-c182-4c41-9f0a-772b3c113403",
   "metadata": {},
   "outputs": [],
   "source": [
    "result = ((3 + (2 ** (3 + 1)) // \n",
    "(4 - 2)) * (7 % 5) - (8 // (3 + 1))) + (5 * (2 + 1) ** 2 - 9) // 3"
   ]
  },
  {
   "cell_type": "code",
   "execution_count": 71,
   "id": "2be93a54-7dbf-4faa-b927-29750601c3b2",
   "metadata": {},
   "outputs": [
    {
     "data": {
      "text/plain": [
       "2.0"
      ]
     },
     "execution_count": 71,
     "metadata": {},
     "output_type": "execute_result"
    }
   ],
   "source": []
  },
  {
   "cell_type": "code",
   "execution_count": 73,
   "id": "7fc66273-aa41-4251-be75-741f2d3be1cb",
   "metadata": {},
   "outputs": [
    {
     "data": {
      "text/plain": [
       "30.0"
      ]
     },
     "execution_count": 73,
     "metadata": {},
     "output_type": "execute_result"
    }
   ],
   "source": [
    "# Complex expression to test precedence\n",
    "result = (3 + 2 ** 3 * (4 - 2)) + 10 + (15 // (4 + 1) / 3) ** (2 ** 2) * (7 % 2)\n",
    "result\n",
    "# 212"
   ]
  },
  {
   "cell_type": "code",
   "execution_count": null,
   "id": "4f9d35da-2c5c-49e4-932e-8f270bacb4c6",
   "metadata": {},
   "outputs": [],
   "source": []
  }
 ],
 "metadata": {
  "kernelspec": {
   "display_name": "Python 3 (ipykernel)",
   "language": "python",
   "name": "python3"
  },
  "language_info": {
   "codemirror_mode": {
    "name": "ipython",
    "version": 3
   },
   "file_extension": ".py",
   "mimetype": "text/x-python",
   "name": "python",
   "nbconvert_exporter": "python",
   "pygments_lexer": "ipython3",
   "version": "3.12.3"
  }
 },
 "nbformat": 4,
 "nbformat_minor": 5
}
