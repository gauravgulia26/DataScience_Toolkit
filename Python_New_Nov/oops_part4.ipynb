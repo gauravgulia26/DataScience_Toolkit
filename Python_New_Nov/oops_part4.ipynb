{
 "cells": [
  {
   "cell_type": "code",
   "execution_count": null,
   "metadata": {},
   "outputs": [],
   "source": [
    "\"\"\"\n",
    "### **Scenario: Enhanced Library Management System with Error Handling**\n",
    "\n",
    "A library management system needs to handle books, borrowers, and transactions, ensuring smooth operations with error handling for edge cases. The system should implement the following functionalities:\n",
    "\n",
    "1. **Book Management**:\n",
    "   - Add new books to the library.\n",
    "   - Prevent duplicate entries by checking ISBN.\n",
    "   - Raise an error if attempting to remove a book not in the system.\n",
    "\n",
    "2. **Borrower Registration**:\n",
    "   - Add new borrowers with unique IDs.\n",
    "   - Prevent duplicate borrower registration.\n",
    "   - Raise an error if an unregistered borrower tries to borrow a book.\n",
    "\n",
    "3. **Borrowing Process**:\n",
    "   - Allow borrowers to borrow available books.\n",
    "   - Raise an error if the book is already borrowed or doesn't exist in the library.\n",
    "   - Enforce borrowing limits per borrower (e.g., maximum of 5 books).\n",
    "\n",
    "4. **Return Process**:\n",
    "   - Update the system when borrowers return books.\n",
    "   - Raise an error if a borrower tries to return a book they haven’t borrowed.\n",
    "\n",
    "5. **Availability Checks**:\n",
    "   - Provide a mechanism to check the availability of books.\n",
    "   - Raise an error if the queried book is not found.\n",
    "\n",
    "6. **Borrower History**:\n",
    "   - Maintain a record of books borrowed and returned.\n",
    "   - Ensure history is updated correctly for each transaction.\n",
    "\n",
    "7. **Error Handling**:\n",
    "   - Use exceptions to manage errors such as duplicate entries, borrowing limits, and invalid operations.\n",
    "   - Provide user-friendly messages for all errors to guide the operator of the system.\n",
    "\"\"\""
   ]
  },
  {
   "cell_type": "code",
   "execution_count": 54,
   "metadata": {},
   "outputs": [],
   "source": [
    "import random\n",
    "\n",
    "uid_dict = {}\n",
    "inventory = {}\n",
    "admin = {\"admin\": 3452}\n",
    "limit = {}"
   ]
  },
  {
   "cell_type": "code",
   "execution_count": 55,
   "metadata": {},
   "outputs": [],
   "source": [
    "class NetmaxLibrary:\n",
    "    def __init__(self, name):\n",
    "        self.name = name\n",
    "        # Check if the user is already registered\n",
    "        for uid, registered_name in uid_dict.items():\n",
    "            if registered_name == name:\n",
    "                print(f\"Hey {name}, welcome to Our Library !! Your UID is {uid}.\")\n",
    "                return\n",
    "\n",
    "        # Register the user if not already registered\n",
    "        uid = random.randint(1000, 2000)\n",
    "        while uid in uid_dict:  # Ensure unique UID\n",
    "            uid = random.randint(1000, 2000)\n",
    "\n",
    "        uid_dict[uid] = name\n",
    "        print(\n",
    "            f\"Hey {name}, You are not registered. We have registered you. Your UID is {uid}.\"\n",
    "        )\n",
    "\n",
    "    def add_book(self):\n",
    "        nm = input(\"Enter the Admin Username: \")\n",
    "        if not nm.isalpha():\n",
    "            raise TypeError(\"Please Enter Only String Username\")\n",
    "        else:\n",
    "            if nm in admin:\n",
    "                try:\n",
    "                    pswrd = int(input(\"Enter your password: \"))\n",
    "                except TypeError as e:\n",
    "                    print(\"The password should be integer only !!\")\n",
    "                else:\n",
    "                    if len(str(pswrd)) == 4:\n",
    "                        if pswrd == admin[nm]:\n",
    "                            book_name = input(\"Enter the Book Name to be added: \")\n",
    "                            try:\n",
    "                                isbn = int(input(\"Enter the ISBN Number: \"))\n",
    "                            except TypeError as e:\n",
    "                                print(\"ISBN Should be a integer only !!\")\n",
    "                            else:\n",
    "                                if len(str(isbn)) == 4:\n",
    "                                    if isbn not in inventory:\n",
    "                                        inventory[isbn] = book_name\n",
    "                                        print(\"Book Added Successfully !!\")\n",
    "                                    else:\n",
    "                                        raise Exception(\n",
    "                                            \"This Book Already Exists in the library !!\"\n",
    "                                        )\n",
    "                                else:\n",
    "                                    raise Exception(\n",
    "                                        \"ISBN Should be 13 digit number only !!\"\n",
    "                                    )\n",
    "                        else:\n",
    "                            raise Exception(\"Wrong Password !!\")\n",
    "                    else:\n",
    "                        raise Exception(\n",
    "                            f\"Hey {nm} Password is invalid, it should contain only 4 digits !!\"\n",
    "                        )\n",
    "            else:\n",
    "                raise Exception(f\"Hey {nm} You are not a admin user !!\")\n",
    "\n",
    "    def remove_book(self):\n",
    "        nm = input(\"Enter the Admin Username: \")\n",
    "        if not nm.isalpha():\n",
    "            raise TypeError(\"Please Enter Only String Username\")\n",
    "        else:\n",
    "            if nm in admin:\n",
    "                try:\n",
    "                    pswrd = int(input(\"Enter your password: \"))\n",
    "                except TypeError as e:\n",
    "                    print(\"The password should be integer only !!\")\n",
    "                else:\n",
    "                    if len(str(pswrd)) == 4:\n",
    "                        if pswrd == admin[nm]:\n",
    "                            try:\n",
    "                                isbn = int(input(\"Enter the ISBN Number: \"))\n",
    "                            except TypeError as e:\n",
    "                                print(\"ISBN Should be a integer only !!\")\n",
    "                            else:\n",
    "                                if len(str(isbn)) == 4:\n",
    "                                    if isbn not in inventory:\n",
    "                                        raise Exception(\n",
    "                                            \"This Book is Not Availaible !!\"\n",
    "                                        )\n",
    "                                    else:\n",
    "                                        print(\n",
    "                                            f\"Hey {self.name}, {inventory[isbn]} has been removed from the system !!\"\n",
    "                                        )\n",
    "                                        inventory.pop(isbn)\n",
    "                                else:\n",
    "                                    raise Exception(\n",
    "                                        \"ISBN Should be 13 digit number only !!\"\n",
    "                                    )\n",
    "                        else:\n",
    "                            raise Exception(\"Wrong Password !!\")\n",
    "                    else:\n",
    "                        raise Exception(\n",
    "                            f\"Hey {nm} Password is invalid, it should contain only 4 digits !!\"\n",
    "                        )\n",
    "            else:\n",
    "                raise Exception(f\"Hey {nm} You are not a admin user !!\")\n",
    "\n",
    "    def borrow_book(self, uid):\n",
    "        if not uid in uid_dict:\n",
    "            raise Exception(\"You are not Registered, Please Register Yourself !!\")\n",
    "        else:\n",
    "            for isbn, book_name in inventory.items():\n",
    "                print(f\"Hey {self.name}, Availaible Books\\n {(isbn)} {(book_name)}\")\n",
    "                try:\n",
    "                    brw_choice = int(input(\"Enter the ISBN Number of the Book: \"))\n",
    "                except TypeError as e:\n",
    "                    raise Exception(\"Please Enter a Valid Value for ISBN\")\n",
    "                else:\n",
    "                    if len(str(brw_choice)) == 4:\n",
    "                        print(\n",
    "                            f\"Hey {self.name}, You have Borrowed {inventory[isbn]} Book from our library!!\"\n",
    "                        )\n",
    "                        limit[uid] = 1\n",
    "                        inventory.pop(brw_choice)\n",
    "                    else:\n",
    "                        raise Exception(\"ISBN Should be 4 digit only !!\")\n",
    "\n",
    "\n",
    "# 2. **Borrower Registration**:\n",
    "#    - Add new borrowers with unique IDs.\n",
    "#    - Prevent duplicate borrower registration.\n",
    "#    - Raise an error if an unregistered borrower tries to borrow a book."
   ]
  },
  {
   "cell_type": "code",
   "execution_count": 56,
   "metadata": {},
   "outputs": [
    {
     "name": "stdout",
     "output_type": "stream",
     "text": [
      "Hey gourav, You are not registered. We have registered you. Your UID is 1336.\n"
     ]
    }
   ],
   "source": [
    "u1 = NetmaxLibrary(\"gourav\")"
   ]
  },
  {
   "cell_type": "code",
   "execution_count": 57,
   "metadata": {},
   "outputs": [
    {
     "name": "stdout",
     "output_type": "stream",
     "text": [
      "Book Added Successfully !!\n"
     ]
    }
   ],
   "source": [
    "u1.add_book()"
   ]
  },
  {
   "cell_type": "code",
   "execution_count": 61,
   "metadata": {},
   "outputs": [
    {
     "name": "stdout",
     "output_type": "stream",
     "text": [
      "Hey gourav, Availaible Books\n",
      " 2312 ml\n",
      "Hey gourav, You have Borrowed ml Book from our library!!\n"
     ]
    },
    {
     "ename": "RuntimeError",
     "evalue": "dictionary changed size during iteration",
     "output_type": "error",
     "traceback": [
      "\u001b[0;31m---------------------------------------------------------------------------\u001b[0m",
      "\u001b[0;31mRuntimeError\u001b[0m                              Traceback (most recent call last)",
      "Cell \u001b[0;32mIn[61], line 1\u001b[0m\n\u001b[0;32m----> 1\u001b[0m \u001b[43mu1\u001b[49m\u001b[38;5;241;43m.\u001b[39;49m\u001b[43mborrow_book\u001b[49m\u001b[43m(\u001b[49m\u001b[38;5;241;43m1336\u001b[39;49m\u001b[43m)\u001b[49m\n",
      "Cell \u001b[0;32mIn[55], line 105\u001b[0m, in \u001b[0;36mNetmaxLibrary.borrow_book\u001b[0;34m(self, uid)\u001b[0m\n\u001b[1;32m    103\u001b[0m     \u001b[38;5;28;01mraise\u001b[39;00m \u001b[38;5;167;01mException\u001b[39;00m(\u001b[38;5;124m\"\u001b[39m\u001b[38;5;124mYou are not Registered, Please Register Yourself !!\u001b[39m\u001b[38;5;124m\"\u001b[39m)\n\u001b[1;32m    104\u001b[0m \u001b[38;5;28;01melse\u001b[39;00m:\n\u001b[0;32m--> 105\u001b[0m     \u001b[38;5;28;01mfor\u001b[39;00m isbn, book_name \u001b[38;5;129;01min\u001b[39;00m inventory\u001b[38;5;241m.\u001b[39mitems():\n\u001b[1;32m    106\u001b[0m         \u001b[38;5;28mprint\u001b[39m(\u001b[38;5;124mf\u001b[39m\u001b[38;5;124m\"\u001b[39m\u001b[38;5;124mHey \u001b[39m\u001b[38;5;132;01m{\u001b[39;00m\u001b[38;5;28mself\u001b[39m\u001b[38;5;241m.\u001b[39mname\u001b[38;5;132;01m}\u001b[39;00m\u001b[38;5;124m, Availaible Books\u001b[39m\u001b[38;5;130;01m\\n\u001b[39;00m\u001b[38;5;124m \u001b[39m\u001b[38;5;132;01m{\u001b[39;00m(isbn)\u001b[38;5;132;01m}\u001b[39;00m\u001b[38;5;124m \u001b[39m\u001b[38;5;132;01m{\u001b[39;00m(book_name)\u001b[38;5;132;01m}\u001b[39;00m\u001b[38;5;124m\"\u001b[39m)\n\u001b[1;32m    107\u001b[0m         \u001b[38;5;28;01mtry\u001b[39;00m:\n",
      "\u001b[0;31mRuntimeError\u001b[0m: dictionary changed size during iteration"
     ]
    }
   ],
   "source": [
    "u1.borrow_book(1336)"
   ]
  },
  {
   "cell_type": "code",
   "execution_count": null,
   "metadata": {},
   "outputs": [],
   "source": []
  }
 ],
 "metadata": {
  "kernelspec": {
   "display_name": "Netmax_Ml",
   "language": "python",
   "name": "python3"
  },
  "language_info": {
   "codemirror_mode": {
    "name": "ipython",
    "version": 3
   },
   "file_extension": ".py",
   "mimetype": "text/x-python",
   "name": "python",
   "nbconvert_exporter": "python",
   "pygments_lexer": "ipython3",
   "version": "3.10.15"
  }
 },
 "nbformat": 4,
 "nbformat_minor": 2
}
