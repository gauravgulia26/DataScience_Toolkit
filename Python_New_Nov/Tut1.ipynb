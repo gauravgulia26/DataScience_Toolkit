{
 "cells": [
  {
   "cell_type": "code",
   "execution_count": 1,
   "id": "7a0242d9-9398-45fd-bd59-bfdc515cd6c5",
   "metadata": {},
   "outputs": [],
   "source": [
    "# Type Casting and Casting"
   ]
  },
  {
   "cell_type": "code",
   "execution_count": 6,
   "id": "09c31006-4281-4e02-80e8-7f64f1034f9c",
   "metadata": {},
   "outputs": [],
   "source": [
    "a = 'hello\"s'"
   ]
  },
  {
   "cell_type": "code",
   "execution_count": 7,
   "id": "7bbe9962-657f-4f2d-95d0-80a3a8441d50",
   "metadata": {},
   "outputs": [],
   "source": [
    "# assigning opeartor\n",
    "a =10\n"
   ]
  },
  {
   "cell_type": "code",
   "execution_count": 9,
   "id": "b4c2c040-814a-4b45-a2ee-7b7f447b4bfe",
   "metadata": {},
   "outputs": [
    {
     "data": {
      "text/plain": [
       "False"
      ]
     },
     "execution_count": 9,
     "metadata": {},
     "output_type": "execute_result"
    }
   ],
   "source": [
    "# comparsion operator\n",
    "a == 20"
   ]
  },
  {
   "cell_type": "code",
   "execution_count": 12,
   "id": "6dbbd1f8-9ea2-42f8-a678-9c25d1d1c3e9",
   "metadata": {},
   "outputs": [
    {
     "data": {
      "text/plain": [
       "False"
      ]
     },
     "execution_count": 12,
     "metadata": {},
     "output_type": "execute_result"
    }
   ],
   "source": [
    "'hello' == 'Hello'"
   ]
  },
  {
   "cell_type": "code",
   "execution_count": 160,
   "id": "606d7fa7-1eb8-4f05-b569-ad159d95be89",
   "metadata": {},
   "outputs": [],
   "source": [
    "a = \"\"\"Lorem Ipsum is simply dummy text of the printing and typesetting industry. \n",
    "Lorem Ipsum has been the industry's standard dummy text ever since the 1500s, when an unknown printer took a galley of type and scrambled it to make a type specimen book. It has survived not only five centuries, but also the leap into electronic typesetting, remaining essentially unchanged. It was \n",
    "popularised in the 1960s with the release of Letraset sheets containing \n",
    "Lorem Ipsum passages, and more recently with desktop publishing software like Aldus PageMaker including versions of Lorem Ipsum \"\"\""
   ]
  },
  {
   "cell_type": "code",
   "execution_count": null,
   "id": "93e5a37e-82c5-4079-aa05-0375c3c4b53b",
   "metadata": {},
   "outputs": [],
   "source": []
  },
  {
   "cell_type": "code",
   "execution_count": 18,
   "id": "d7d9cff6-a9de-4ccf-9ce6-86652f293cee",
   "metadata": {},
   "outputs": [],
   "source": [
    "# String Formating"
   ]
  },
  {
   "cell_type": "code",
   "execution_count": 19,
   "id": "95edbc51-b705-4839-bf8e-a7a7466c9d70",
   "metadata": {},
   "outputs": [],
   "source": [
    "a = 'Hello'\n",
    "age = 24"
   ]
  },
  {
   "cell_type": "code",
   "execution_count": 25,
   "id": "0d8e2b35-bdff-4102-88ac-a79d6d3544b5",
   "metadata": {},
   "outputs": [
    {
     "name": "stdout",
     "output_type": "stream",
     "text": [
      "Hello My age is 24\n"
     ]
    }
   ],
   "source": [
    "print(a,'My age is',age)"
   ]
  },
  {
   "cell_type": "code",
   "execution_count": 21,
   "id": "f9c5e902-cc6d-4f52-87d1-ab92afb65f20",
   "metadata": {},
   "outputs": [
    {
     "name": "stdout",
     "output_type": "stream",
     "text": [
      "Hello My age is 24 \n"
     ]
    }
   ],
   "source": [
    "print(f'{a} My age is {age}')"
   ]
  },
  {
   "cell_type": "code",
   "execution_count": 26,
   "id": "d56a5edf-c5d0-48a3-bd09-9868c0c425f9",
   "metadata": {},
   "outputs": [
    {
     "name": "stdout",
     "output_type": "stream",
     "text": [
      " hshdhdhhdhd + 10 \n"
     ]
    }
   ],
   "source": [
    "print(f' hshdhdhhdhd + {10} ')"
   ]
  },
  {
   "cell_type": "code",
   "execution_count": 31,
   "id": "b3c548d9-79b3-4c86-9e1b-bb62acd168e2",
   "metadata": {},
   "outputs": [
    {
     "data": {
      "text/plain": [
       "'hhhhhhhhhh'"
      ]
     },
     "execution_count": 31,
     "metadata": {},
     "output_type": "execute_result"
    }
   ],
   "source": [
    "'h'*10"
   ]
  },
  {
   "cell_type": "code",
   "execution_count": 32,
   "id": "81a19479-0b29-4694-9a21-790f4131e540",
   "metadata": {},
   "outputs": [],
   "source": [
    "#  in and not in\n",
    "# Memebrship operator"
   ]
  },
  {
   "cell_type": "code",
   "execution_count": 41,
   "id": "57f9619c-63c1-4b78-b018-fe297a633fe9",
   "metadata": {},
   "outputs": [
    {
     "data": {
      "text/plain": [
       "True"
      ]
     },
     "execution_count": 41,
     "metadata": {},
     "output_type": "execute_result"
    }
   ],
   "source": [
    "'hello' in 'hello'"
   ]
  },
  {
   "cell_type": "code",
   "execution_count": 47,
   "id": "0874017a-8295-45cb-bad7-3eae4d22990f",
   "metadata": {},
   "outputs": [
    {
     "data": {
      "text/plain": [
       "True"
      ]
     },
     "execution_count": 47,
     "metadata": {},
     "output_type": "execute_result"
    }
   ],
   "source": [
    "'H' not in 'hello'"
   ]
  },
  {
   "cell_type": "code",
   "execution_count": 48,
   "id": "c348387f-d26f-4764-9791-ffa76786b8f7",
   "metadata": {},
   "outputs": [],
   "source": [
    "a = 'Gourav Gulia'"
   ]
  },
  {
   "cell_type": "code",
   "execution_count": 49,
   "id": "12598779-31a7-45f4-8b9c-aeb6d4d90891",
   "metadata": {},
   "outputs": [
    {
     "data": {
      "text/plain": [
       "12"
      ]
     },
     "execution_count": 49,
     "metadata": {},
     "output_type": "execute_result"
    }
   ],
   "source": [
    "len(a)"
   ]
  },
  {
   "cell_type": "code",
   "execution_count": 54,
   "id": "a75c1479-febd-45ab-966c-640385b30f55",
   "metadata": {},
   "outputs": [
    {
     "data": {
      "text/plain": [
       "'G'"
      ]
     },
     "execution_count": 54,
     "metadata": {},
     "output_type": "execute_result"
    }
   ],
   "source": [
    "a[]"
   ]
  },
  {
   "cell_type": "code",
   "execution_count": 59,
   "id": "ad34df5c-ac94-42f0-8194-a0e54d07421b",
   "metadata": {},
   "outputs": [
    {
     "data": {
      "text/plain": [
       "'Gourav'"
      ]
     },
     "execution_count": 59,
     "metadata": {},
     "output_type": "execute_result"
    }
   ],
   "source": [
    "a[0:6]"
   ]
  },
  {
   "cell_type": "code",
   "execution_count": 61,
   "id": "096903d7-f207-4619-b6e8-efe043f85411",
   "metadata": {},
   "outputs": [
    {
     "data": {
      "text/plain": [
       "'Gourav'"
      ]
     },
     "execution_count": 61,
     "metadata": {},
     "output_type": "execute_result"
    }
   ],
   "source": [
    "a[:6]"
   ]
  },
  {
   "cell_type": "code",
   "execution_count": 63,
   "id": "395cd94b-c3e9-4c47-8eff-d299b767eefe",
   "metadata": {},
   "outputs": [
    {
     "data": {
      "text/plain": [
       "'Gourav Gulia'"
      ]
     },
     "execution_count": 63,
     "metadata": {},
     "output_type": "execute_result"
    }
   ],
   "source": [
    "a[:]"
   ]
  },
  {
   "cell_type": "code",
   "execution_count": 71,
   "id": "3a0fcc77-76d2-4341-8d10-5814059716b9",
   "metadata": {},
   "outputs": [
    {
     "data": {
      "text/plain": [
       "''"
      ]
     },
     "execution_count": 71,
     "metadata": {},
     "output_type": "execute_result"
    }
   ],
   "source": [
    "a[-1:-5]"
   ]
  },
  {
   "cell_type": "code",
   "execution_count": 79,
   "id": "5134b5d4-ddf9-4820-984f-0ff10831fec4",
   "metadata": {},
   "outputs": [
    {
     "data": {
      "text/plain": [
       "'a'"
      ]
     },
     "execution_count": 79,
     "metadata": {},
     "output_type": "execute_result"
    }
   ],
   "source": [
    "a[::-1][:5][:3][:1]"
   ]
  },
  {
   "cell_type": "code",
   "execution_count": 80,
   "id": "2d64424a-26e0-4d45-ba37-0ba0541f2ca1",
   "metadata": {},
   "outputs": [],
   "source": [
    "a = 1234"
   ]
  },
  {
   "cell_type": "code",
   "execution_count": 83,
   "id": "3b25e681-fb94-46fd-bddf-eed9b1db97b5",
   "metadata": {},
   "outputs": [
    {
     "ename": "TypeError",
     "evalue": "'int' object is not iterable",
     "output_type": "error",
     "traceback": [
      "\u001b[0;31m---------------------------------------------------------------------------\u001b[0m",
      "\u001b[0;31mTypeError\u001b[0m                                 Traceback (most recent call last)",
      "Cell \u001b[0;32mIn[83], line 1\u001b[0m\n\u001b[0;32m----> 1\u001b[0m \u001b[38;5;28;43;01mfor\u001b[39;49;00m\u001b[43m \u001b[49m\u001b[43mi\u001b[49m\u001b[43m \u001b[49m\u001b[38;5;129;43;01min\u001b[39;49;00m\u001b[43m \u001b[49m\u001b[38;5;241;43m100\u001b[39;49m\u001b[43m:\u001b[49m\n\u001b[1;32m      2\u001b[0m \u001b[43m    \u001b[49m\u001b[38;5;28;43mprint\u001b[39;49m\u001b[43m(\u001b[49m\u001b[43mi\u001b[49m\u001b[43m)\u001b[49m\n",
      "\u001b[0;31mTypeError\u001b[0m: 'int' object is not iterable"
     ]
    }
   ],
   "source": [
    "for i in 100:\n",
    "    print(i)"
   ]
  },
  {
   "cell_type": "code",
   "execution_count": 84,
   "id": "006d493d-5ef8-4c64-ac63-cded2a9c9b9c",
   "metadata": {},
   "outputs": [],
   "source": [
    "a = '1234'"
   ]
  },
  {
   "cell_type": "code",
   "execution_count": 88,
   "id": "27c58781-7bc0-4a19-8234-ce57b1cacb4d",
   "metadata": {},
   "outputs": [
    {
     "data": {
      "text/plain": [
       "3"
      ]
     },
     "execution_count": 88,
     "metadata": {},
     "output_type": "execute_result"
    }
   ],
   "source": [
    "int(a[::-1][1])"
   ]
  },
  {
   "cell_type": "code",
   "execution_count": 95,
   "id": "698672c9-735c-451a-927f-fbc1b0ebb3e9",
   "metadata": {},
   "outputs": [
    {
     "name": "stdout",
     "output_type": "stream",
     "text": [
      "Hey my salary is 1000.8330 \n"
     ]
    }
   ],
   "source": [
    "print(f'Hey my salary is {1000.8329828998249742:.4f} ')"
   ]
  },
  {
   "cell_type": "code",
   "execution_count": 96,
   "id": "787fba85-8f41-441f-8340-d80ce8e92bd5",
   "metadata": {},
   "outputs": [],
   "source": [
    "# Escape Sequences"
   ]
  },
  {
   "cell_type": "code",
   "execution_count": 105,
   "id": "59f41dca-1607-4c4a-9a0f-91463cce8c66",
   "metadata": {},
   "outputs": [
    {
     "name": "stdout",
     "output_type": "stream",
     "text": [
      "Hey ' World\n"
     ]
    }
   ],
   "source": [
    "print('Hey \\' World')"
   ]
  },
  {
   "cell_type": "code",
   "execution_count": 108,
   "id": "c983bf86-3c0a-4870-bfd1-ce5af495154b",
   "metadata": {},
   "outputs": [
    {
     "data": {
      "text/plain": [
       "'hello'"
      ]
     },
     "execution_count": 108,
     "metadata": {},
     "output_type": "execute_result"
    }
   ],
   "source": [
    "\"hello\".casefold()"
   ]
  },
  {
   "cell_type": "code",
   "execution_count": 118,
   "id": "ba252d4e-288b-4834-9d1c-99cd37d48d2d",
   "metadata": {},
   "outputs": [
    {
     "name": "stdout",
     "output_type": "stream",
     "text": [
      "   banana  \n"
     ]
    }
   ],
   "source": [
    "txt = \"banana\"\n",
    "\n",
    "x = txt.center(11)\n",
    "\n",
    "print(x)"
   ]
  },
  {
   "cell_type": "code",
   "execution_count": 124,
   "id": "eb7e9ffa-8567-48ed-8a19-72c1d31b2e7d",
   "metadata": {},
   "outputs": [
    {
     "name": "stdout",
     "output_type": "stream",
     "text": [
      "False\n"
     ]
    }
   ],
   "source": [
    "txt = \"Hello, welcome to my world.\"\n",
    "\n",
    "x = txt.endswith(\"world\")\n",
    "\n",
    "print(x) "
   ]
  },
  {
   "cell_type": "code",
   "execution_count": 130,
   "id": "f5c1c3d4-77f1-4d09-9963-1d26b5609305",
   "metadata": {},
   "outputs": [
    {
     "name": "stdout",
     "output_type": "stream",
     "text": [
      "True\n"
     ]
    }
   ],
   "source": [
    " txt = \"Hello, welcome to my world.\"\n",
    "\n",
    "x = txt.endswith(\"welc\", 5, 11)\n",
    "\n",
    "print(x) "
   ]
  },
  {
   "cell_type": "code",
   "execution_count": 141,
   "id": "4fafff55-78c2-4e7b-bb02-09434c67ee25",
   "metadata": {},
   "outputs": [],
   "source": [
    "txt = '    Hello \\n World'"
   ]
  },
  {
   "cell_type": "code",
   "execution_count": 143,
   "id": "7fc07dfe-8d81-44f5-b7a7-cbc5394ad9ab",
   "metadata": {},
   "outputs": [
    {
     "data": {
      "text/plain": [
       "'Hello \\n World'"
      ]
     },
     "execution_count": 143,
     "metadata": {},
     "output_type": "execute_result"
    }
   ],
   "source": [
    "txt.strip()"
   ]
  },
  {
   "cell_type": "code",
   "execution_count": 144,
   "id": "a7dca8ed-8ec4-447f-9b9a-6346cfc4197b",
   "metadata": {},
   "outputs": [],
   "source": [
    "# join and split"
   ]
  },
  {
   "cell_type": "code",
   "execution_count": 149,
   "id": "deb71c78-a17d-413c-8402-cf11c683c2b6",
   "metadata": {},
   "outputs": [
    {
     "name": "stdout",
     "output_type": "stream",
     "text": [
      "John 11 Peter 11 Vicky\n"
     ]
    }
   ],
   "source": [
    "myTuple = [\"John\", \"Peter\", \"Vicky\"]\n",
    "\n",
    "x = \" 11 \".join(myTuple)\n",
    "\n",
    "print(x) "
   ]
  },
  {
   "cell_type": "code",
   "execution_count": 159,
   "id": "b6601dca-bcc2-4418-bcf2-fb77e42585b5",
   "metadata": {},
   "outputs": [
    {
     "data": {
      "text/plain": [
       "'H@  o wor d'"
      ]
     },
     "execution_count": 159,
     "metadata": {},
     "output_type": "execute_result"
    }
   ],
   "source": [
    "\"@\".join(\" \".join('Hello world'.split('l')).split('e'))"
   ]
  },
  {
   "cell_type": "code",
   "execution_count": 164,
   "id": "25ecdb21-3560-4330-920d-005eb0da715f",
   "metadata": {},
   "outputs": [
    {
     "data": {
      "text/plain": [
       "['Lorem',\n",
       " 'Ipsum',\n",
       " 'is',\n",
       " 'simply',\n",
       " 'dummy',\n",
       " 'text',\n",
       " 'of',\n",
       " 'the',\n",
       " 'printing',\n",
       " 'and',\n",
       " 'typesetting',\n",
       " 'industry.',\n",
       " '\\nLorem',\n",
       " 'Ipsum',\n",
       " 'has',\n",
       " 'been',\n",
       " 'the',\n",
       " \"industry's\",\n",
       " 'standard',\n",
       " 'dummy',\n",
       " 'text',\n",
       " 'ever',\n",
       " 'since',\n",
       " 'the',\n",
       " '1500s,',\n",
       " 'when',\n",
       " 'an',\n",
       " 'unknown',\n",
       " 'printer',\n",
       " 'took',\n",
       " 'a',\n",
       " 'galley',\n",
       " 'of',\n",
       " 'type',\n",
       " 'and',\n",
       " 'scrambled',\n",
       " 'it',\n",
       " 'to',\n",
       " 'make',\n",
       " 'a',\n",
       " 'type',\n",
       " 'specimen',\n",
       " 'book.',\n",
       " 'It',\n",
       " 'has',\n",
       " 'survived',\n",
       " 'not',\n",
       " 'only',\n",
       " 'five',\n",
       " 'centuries,',\n",
       " 'but',\n",
       " 'also',\n",
       " 'the',\n",
       " 'leap',\n",
       " 'into',\n",
       " 'electronic',\n",
       " 'typesetting,',\n",
       " 'remaining',\n",
       " 'essentially',\n",
       " 'unchanged.',\n",
       " 'It',\n",
       " 'was',\n",
       " '\\npopularised',\n",
       " 'in',\n",
       " 'the',\n",
       " '1960s',\n",
       " 'with',\n",
       " 'the',\n",
       " 'release',\n",
       " 'of',\n",
       " 'Letraset',\n",
       " 'sheets',\n",
       " 'containing',\n",
       " '\\nLorem',\n",
       " 'Ipsum',\n",
       " 'passages,',\n",
       " 'and',\n",
       " 'more',\n",
       " 'recently',\n",
       " 'with',\n",
       " 'desktop',\n",
       " 'publishing',\n",
       " 'software',\n",
       " 'like',\n",
       " 'Aldus',\n",
       " 'PageMaker',\n",
       " 'including',\n",
       " 'versions',\n",
       " 'of',\n",
       " 'Lorem',\n",
       " 'Ipsum',\n",
       " '']"
      ]
     },
     "execution_count": 164,
     "metadata": {},
     "output_type": "execute_result"
    }
   ],
   "source": [
    "a.split(' ')"
   ]
  },
  {
   "cell_type": "code",
   "execution_count": 172,
   "id": "2a6b3cb5-90be-46f6-a9ef-5fb97027d839",
   "metadata": {},
   "outputs": [],
   "source": [
    "a = 'Hello Hello Hello'"
   ]
  },
  {
   "cell_type": "code",
   "execution_count": 174,
   "id": "6c88bbe5-59d7-4d3b-963e-3e0bc72faced",
   "metadata": {},
   "outputs": [
    {
     "data": {
      "text/plain": [
       "'hey hey Hello'"
      ]
     },
     "execution_count": 174,
     "metadata": {},
     "output_type": "execute_result"
    }
   ],
   "source": [
    "a.replace('Hello','hey',2)"
   ]
  }
 ],
 "metadata": {
  "kernelspec": {
   "display_name": "Python 3 (ipykernel)",
   "language": "python",
   "name": "python3"
  },
  "language_info": {
   "codemirror_mode": {
    "name": "ipython",
    "version": 3
   },
   "file_extension": ".py",
   "mimetype": "text/x-python",
   "name": "python",
   "nbconvert_exporter": "python",
   "pygments_lexer": "ipython3",
   "version": "3.12.3"
  }
 },
 "nbformat": 4,
 "nbformat_minor": 5
}
