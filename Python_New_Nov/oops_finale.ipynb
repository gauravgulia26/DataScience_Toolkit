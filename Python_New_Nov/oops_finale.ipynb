{
 "cells": [
  {
   "cell_type": "code",
   "execution_count": 1,
   "metadata": {},
   "outputs": [],
   "source": [
    "# Relationships in OOPS"
   ]
  },
  {
   "cell_type": "code",
   "execution_count": 2,
   "metadata": {},
   "outputs": [],
   "source": [
    "# Inheritance -> Is a\n",
    "# Aggregation -> Has a"
   ]
  },
  {
   "cell_type": "code",
   "execution_count": 35,
   "metadata": {},
   "outputs": [],
   "source": [
    "class College:\n",
    "    clg_name = \"DAV\"\n",
    "    Location = \"Chandigarh\"\n",
    "\n",
    "    def __init__(self, name, marks):\n",
    "        self.name = name\n",
    "        self.marks = marks"
   ]
  },
  {
   "cell_type": "code",
   "execution_count": 34,
   "metadata": {},
   "outputs": [],
   "source": [
    "class Student:\n",
    "    def __init__(self, mobile, age, name, marks):\n",
    "        self.mobile = mobile\n",
    "        self.age = age\n",
    "        self.cls_name = College(name, marks)"
   ]
  },
  {
   "cell_type": "code",
   "execution_count": 26,
   "metadata": {},
   "outputs": [],
   "source": [
    "s1 = Student(98, 23, \"Gourav\", 23)"
   ]
  },
  {
   "cell_type": "code",
   "execution_count": 36,
   "metadata": {},
   "outputs": [],
   "source": [
    "# Laptop\n",
    "# Processor"
   ]
  },
  {
   "cell_type": "code",
   "execution_count": 37,
   "metadata": {},
   "outputs": [],
   "source": [
    "class SpecsError(Exception):\n",
    "    pass\n",
    "\n",
    "\n",
    "class Processor:\n",
    "    def __init__(self, specs: list):\n",
    "        if not isinstance(specs, list):\n",
    "            raise SpecsError(\"Invalid\")\n",
    "        self.specs = specs\n",
    "\n",
    "\n",
    "class Laptop:\n",
    "    def __init__(self, name, warranty, company_name, specs: list):\n",
    "        if not isinstance(specs, list):\n",
    "            raise SpecsError(\"Invalid\")\n",
    "        self.name = name\n",
    "        self.warranty = warranty\n",
    "        self.company_name = company_name\n",
    "        self.specs = Processor(specs)"
   ]
  },
  {
   "cell_type": "code",
   "execution_count": 39,
   "metadata": {},
   "outputs": [],
   "source": [
    "l1 = Laptop(\"Acer\", 2, \"Acer\", [\"i3\", \"4gb ram\", \"128gb\"])"
   ]
  },
  {
   "cell_type": "code",
   "execution_count": 47,
   "metadata": {},
   "outputs": [
    {
     "data": {
      "text/plain": [
       "['i3', '4gb ram', '128gb']"
      ]
     },
     "execution_count": 47,
     "metadata": {},
     "output_type": "execute_result"
    }
   ],
   "source": [
    "l1.specs.specs"
   ]
  },
  {
   "cell_type": "code",
   "execution_count": 48,
   "metadata": {},
   "outputs": [],
   "source": [
    "# Types of Inheritance"
   ]
  },
  {
   "cell_type": "code",
   "execution_count": 49,
   "metadata": {},
   "outputs": [],
   "source": [
    "\"\"\"\"\n",
    "Summary Table\n",
    "Type\tDescription\tExample Relationship\n",
    "Single Inheritance\tOne child, one parent\tDog inherits from Animal\n",
    "Multilevel\tChain of inheritance\tDog → Mammal → Animal\n",
    "Multiple\tOne child, multiple parents\tCar inherits from Engine and Wheels\n",
    "Hierarchical\tMultiple children, one parent\tDog, Cat inherit from Animal\n",
    "\"\"\""
   ]
  },
  {
   "cell_type": "code",
   "execution_count": 50,
   "metadata": {},
   "outputs": [],
   "source": [
    "# single inheritance\n",
    "class Parent:\n",
    "    pass\n",
    "\n",
    "\n",
    "class Child(Parent):\n",
    "    pass\n",
    "\n",
    "\n",
    "# Multilevel\n",
    "class child2(Child):\n",
    "    pass\n",
    "\n",
    "\n",
    "# Multiple\n",
    "class child3(child2, Child):\n",
    "    pass\n",
    "\n",
    "\n",
    "# Heirichal\n",
    "class child4(Parent):\n",
    "    pass\n",
    "\n",
    "\n",
    "class child5(Parent):\n",
    "    pass\n",
    "\n",
    "\n",
    "class child6(Parent):\n",
    "    pass"
   ]
  },
  {
   "cell_type": "code",
   "execution_count": 61,
   "metadata": {},
   "outputs": [],
   "source": [
    "# single inheritance\n",
    "class Parent:\n",
    "    name = \"Gourav\"\n",
    "\n",
    "\n",
    "class Child(Parent):\n",
    "    name = \"Naman\"\n",
    "\n",
    "\n",
    "# Multilevel\n",
    "class child2(Child):\n",
    "    name = \"Aman\"\n",
    "\n",
    "\n",
    "# Multiple\n",
    "class child3(Child, Parent):\n",
    "    pass"
   ]
  },
  {
   "cell_type": "code",
   "execution_count": 63,
   "metadata": {},
   "outputs": [
    {
     "data": {
      "text/plain": [
       "[__main__.child3, __main__.Child, __main__.Parent, object]"
      ]
     },
     "execution_count": 63,
     "metadata": {},
     "output_type": "execute_result"
    }
   ],
   "source": [
    "child3.mro()"
   ]
  },
  {
   "cell_type": "code",
   "execution_count": 67,
   "metadata": {},
   "outputs": [
    {
     "data": {
      "text/plain": [
       "[__main__.Parent, object]"
      ]
     },
     "execution_count": 67,
     "metadata": {},
     "output_type": "execute_result"
    }
   ],
   "source": [
    "# Method Resolution Order\n",
    "Parent.mro()"
   ]
  },
  {
   "cell_type": "code",
   "execution_count": 68,
   "metadata": {},
   "outputs": [],
   "source": [
    "# Private Attribute (Totally Not Private)\n",
    "# methods\n",
    "# constuctor\n",
    "# atrtributes (public)\n",
    "# Super()\n",
    "\n",
    "\n",
    "# Overloading -> Different behavious according to different context\n",
    "# Method Overloading \n",
    "# Functions Overloading not allowed\n",
    "\n",
    "class SpecsError(Exception):\n",
    "    pass\n",
    "\n",
    "\n",
    "class Processor:\n",
    "    def __init__(self, specs: list):\n",
    "        if not isinstance(specs, list):\n",
    "            raise SpecsError(\"Invalid\")\n",
    "        self.specs = specs\n",
    "\n",
    "\n",
    "class Laptop:\n",
    "    def __init__(self, name, warranty, company_name, specs: list):\n",
    "        if not isinstance(specs, list):\n",
    "            raise SpecsError(\"Invalid\")\n",
    "        self.name = name\n",
    "        self.warranty = warranty\n",
    "        self.company_name = company_name\n",
    "        self.specs = Processor(specs)"
   ]
  },
  {
   "cell_type": "code",
   "execution_count": 69,
   "metadata": {},
   "outputs": [],
   "source": [
    "# * Creating Your Own Error\n",
    "\n",
    "\n",
    "class InvalidVector(Exception):\n",
    "    pass\n",
    "\n",
    "\n",
    "class DimensionError(Exception):\n",
    "    pass\n",
    "\n",
    "\n",
    "class Vector:\n",
    "    def __init__(self, vector: list):\n",
    "        if not isinstance(vector, list):\n",
    "            raise InvalidVector(\"This Vector is Invalid !!\")\n",
    "        self.vector = vector\n",
    "\n",
    "    def __len__(self):\n",
    "        return len(self.vector)\n",
    "\n",
    "    # * These are Arithmetic Magic Methods\n",
    "\n",
    "    def __add__(self, other):\n",
    "        if not len(self) == len(other):\n",
    "            raise DimensionError(\"Dimensions are not correct !!\")\n",
    "        return Vector([x + y for x, y in zip(self.vector, other.vector)])\n",
    "\n",
    "    def __sub__(self, other):\n",
    "        if not len(self) == len(other):\n",
    "            raise DimensionError(\"Dimensions are not correct !!\")\n",
    "        return Vector([x - y for x, y in zip(self.vector, other.vector)])\n",
    "\n",
    "    def __mul__(self, other):\n",
    "        if not len(self) == len(other):\n",
    "            raise DimensionError(\"Dimensions are not correct !!\")\n",
    "        return Vector([x * y for x, y in zip(self.vector, other.vector)])\n",
    "\n",
    "    def __truediv__(self, other):\n",
    "        if not len(self) == len(other):\n",
    "            raise DimensionError(\"Dimensions are not correct !!\")\n",
    "        return [x / y for x, y in zip(self.vector, other.vector)]\n",
    "\n",
    "    def __pow__(self, other):\n",
    "        if not len(self) == len(other):\n",
    "            raise DimensionError(\"Dimensions are not correct !!\")\n",
    "        return [x**y for x, y in zip(self.vector, other.vector)]\n",
    "\n",
    "    # * These are Comparison Magic Methods\n",
    "\n",
    "    def __gt__(self, other):\n",
    "        if not len(self) == len(other):\n",
    "            raise DimensionError(\"Dimensions are not correct !!\")\n",
    "        return [x > y for x, y in zip(self.vector, other.vector)]\n",
    "\n",
    "    def __lt__(self, other):\n",
    "        if not len(self) == len(other):\n",
    "            raise DimensionError(\"Dimensions are not correct !!\")\n",
    "        return [x < y for x, y in zip(self.vector, other.vector)]\n",
    "\n",
    "    def __eq__(self, other):\n",
    "        if not len(self) == len(other):\n",
    "            raise DimensionError(\"Dimensions are not correct !!\")\n",
    "        return [x == y for x, y in zip(self.vector, other.vector)]\n",
    "\n",
    "    def __ne__(self, other):\n",
    "        if not len(self) == len(other):\n",
    "            raise DimensionError(\"Dimensions are not correct !!\")\n",
    "        return [x != y for x, y in zip(self.vector, other.vector)]\n",
    "\n",
    "    def __ge__(self, other):\n",
    "        if not len(self) == len(other):\n",
    "            raise DimensionError(\"Dimensions are not correct !!\")\n",
    "        return [x >= y for x, y in zip(self.vector, other.vector)]\n",
    "\n",
    "    def __le__(self, other):\n",
    "        if not len(self) == len(other):\n",
    "            raise DimensionError(\"Dimensions are not correct !!\")\n",
    "        return [x <= y for x, y in zip(self.vector, other.vector)]"
   ]
  },
  {
   "cell_type": "code",
   "execution_count": 74,
   "metadata": {},
   "outputs": [],
   "source": [
    "v1 = Vector([1, 2, 3])\n",
    "v2 = Vector([1, 2, 3])"
   ]
  },
  {
   "cell_type": "code",
   "execution_count": null,
   "metadata": {},
   "outputs": [],
   "source": [
    "# Method Overloading is allowed"
   ]
  },
  {
   "cell_type": "code",
   "execution_count": 72,
   "metadata": {},
   "outputs": [
    {
     "data": {
      "text/plain": [
       "[2, 4, 6]"
      ]
     },
     "execution_count": 72,
     "metadata": {},
     "output_type": "execute_result"
    }
   ],
   "source": [
    "(v1 + v2).vector"
   ]
  },
  {
   "cell_type": "code",
   "execution_count": 73,
   "metadata": {},
   "outputs": [
    {
     "data": {
      "text/plain": [
       "[1, 2, 3, 1, 2, 3]"
      ]
     },
     "execution_count": 73,
     "metadata": {},
     "output_type": "execute_result"
    }
   ],
   "source": [
    "[1, 2, 3] + [1, 2, 3]"
   ]
  },
  {
   "cell_type": "code",
   "execution_count": 88,
   "metadata": {},
   "outputs": [],
   "source": [
    "def abc(x, y):\n",
    "    if all(isinstance(x, float) for x in [x, y]):\n",
    "        return x**2\n",
    "    else:\n",
    "        return -2"
   ]
  },
  {
   "cell_type": "code",
   "execution_count": 89,
   "metadata": {},
   "outputs": [],
   "source": [
    "def abc(x, y):\n",
    "    if all(isinstance(x, int) for x in [x, y]):\n",
    "        return x * 2\n",
    "    else:\n",
    "        return -1"
   ]
  },
  {
   "cell_type": "code",
   "execution_count": 91,
   "metadata": {},
   "outputs": [
    {
     "name": "stdout",
     "output_type": "stream",
     "text": [
      "-1\n"
     ]
    }
   ],
   "source": [
    "print(abc(2.0, 3.0))"
   ]
  },
  {
   "cell_type": "code",
   "execution_count": 92,
   "metadata": {},
   "outputs": [],
   "source": [
    "# Property"
   ]
  },
  {
   "cell_type": "code",
   "execution_count": null,
   "metadata": {},
   "outputs": [],
   "source": [
    "# Private Attribute (Totally Not Private)\n",
    "# methods\n",
    "# constuctor\n",
    "# atrtributes (public)\n",
    "# Super()\n",
    "\n",
    "\n",
    "# Overloading -> Different behavious according to different context\n",
    "# Method Overloading\n",
    "# Functions Overloading not allowed\n",
    "\n",
    "\n",
    "class SpecsError(Exception):\n",
    "    pass\n",
    "\n",
    "\n",
    "class Processor:\n",
    "    def __init__(self, specs: list):\n",
    "        if not isinstance(specs, list):\n",
    "            raise SpecsError(\"Invalid\")\n",
    "        self.specs = specs\n",
    "\n",
    "\n",
    "class Laptop:\n",
    "    def __init__(self, name, warranty, company_name, specs: list):\n",
    "        if not isinstance(specs, list):\n",
    "            raise SpecsError(\"Invalid\")\n",
    "        self.name = name\n",
    "        self.warranty = warranty\n",
    "        self.company_name = company_name\n",
    "        self.specs = Processor(specs)"
   ]
  },
  {
   "cell_type": "code",
   "execution_count": 93,
   "metadata": {},
   "outputs": [],
   "source": [
    "# Decorator -> A function or a word which changes the defualt behaviour function"
   ]
  },
  {
   "cell_type": "code",
   "execution_count": 102,
   "metadata": {},
   "outputs": [],
   "source": [
    "class College:\n",
    "    clg_name = \"DAV\"\n",
    "    Location = \"Chandigarh\"\n",
    "\n",
    "    def __init__(self, name, marks):\n",
    "        self.name = name\n",
    "        self.marks = marks\n",
    "\n",
    "    # class method\n",
    "    @staticmethod\n",
    "    # -> Decorator\n",
    "    # Static method ob mehtod -> class Method\n",
    "    def hello():\n",
    "        return \"Hey\""
   ]
  },
  {
   "cell_type": "code",
   "execution_count": 103,
   "metadata": {},
   "outputs": [],
   "source": [
    "a = College(\"ss\", 344)"
   ]
  },
  {
   "cell_type": "code",
   "execution_count": 104,
   "metadata": {},
   "outputs": [
    {
     "data": {
      "text/plain": [
       "'Hey'"
      ]
     },
     "execution_count": 104,
     "metadata": {},
     "output_type": "execute_result"
    }
   ],
   "source": [
    "a.hello()"
   ]
  },
  {
   "cell_type": "code",
   "execution_count": 115,
   "metadata": {},
   "outputs": [],
   "source": [
    "# Custom Decorator\n",
    "def Decorator(func):\n",
    "    def wrapper(x, y):\n",
    "        return x + y + 10\n",
    "\n",
    "    return wrapper"
   ]
  },
  {
   "cell_type": "code",
   "execution_count": 116,
   "metadata": {},
   "outputs": [],
   "source": [
    "@Decorator\n",
    "def abc(x, y):\n",
    "    return x + y"
   ]
  },
  {
   "cell_type": "code",
   "execution_count": 117,
   "metadata": {},
   "outputs": [
    {
     "data": {
      "text/plain": [
       "40"
      ]
     },
     "execution_count": 117,
     "metadata": {},
     "output_type": "execute_result"
    }
   ],
   "source": [
    "abc(10, 20)"
   ]
  },
  {
   "cell_type": "code",
   "execution_count": 132,
   "metadata": {},
   "outputs": [],
   "source": [
    "class College:\n",
    "    clg_name = \"DAV\"\n",
    "    Location = \"Chandigarh\"\n",
    "\n",
    "    def __init__(self, name, marks):\n",
    "        self.name = name\n",
    "        self.marks = marks\n",
    "\n",
    "    # class method\n",
    "    # -> Decorator\n",
    "    # Static method ob mehtod -> class Method\n",
    "\n",
    "    @classmethod\n",
    "    def hello(self):\n",
    "        return \"Hey\""
   ]
  },
  {
   "cell_type": "code",
   "execution_count": 133,
   "metadata": {},
   "outputs": [],
   "source": [
    "a = College(\"ss\", 32)"
   ]
  },
  {
   "cell_type": "code",
   "execution_count": 131,
   "metadata": {},
   "outputs": [
    {
     "data": {
      "text/plain": [
       "'Hey'"
      ]
     },
     "execution_count": 131,
     "metadata": {},
     "output_type": "execute_result"
    }
   ],
   "source": [
    "a.hello()"
   ]
  },
  {
   "cell_type": "code",
   "execution_count": 134,
   "metadata": {},
   "outputs": [],
   "source": [
    "class College:\n",
    "    clg_name = \"DAV\"\n",
    "    Location = \"Chandigarh\"\n",
    "\n",
    "    def __init__(self, name, marks):\n",
    "        self.name = name\n",
    "        self.marks = marks\n",
    "\n",
    "    # class method\n",
    "    # -> Decorator\n",
    "    # Static method ob mehtod -> class Method\n",
    "\n",
    "    @classmethod\n",
    "    def hello(self):\n",
    "        return \"Hey\""
   ]
  },
  {
   "cell_type": "code",
   "execution_count": 135,
   "metadata": {},
   "outputs": [],
   "source": [
    "# Property Decorator -> Method -> Attribute\n",
    "# Getter\n",
    "# Setter\n",
    "# Deleter"
   ]
  },
  {
   "cell_type": "code",
   "execution_count": 148,
   "metadata": {},
   "outputs": [],
   "source": [
    "class College:\n",
    "    clg_name = \"DAV\"\n",
    "    Location = \"Chandigarh\"\n",
    "    __id = 123\n",
    "\n",
    "    def __init__(self, name, marks):\n",
    "        self.name = name\n",
    "        self.marks = marks\n",
    "\n",
    "    # class method\n",
    "    # -> Decorator\n",
    "    # Static method ob mehtod -> class Method\n",
    "\n",
    "    @property\n",
    "    def hello(self):\n",
    "        return \"Hey\"\n",
    "\n",
    "    @hello.setter\n",
    "    def hello(self, password):\n",
    "        if password == 123:\n",
    "            self.__id = 342\n",
    "        else:\n",
    "            raise ValueError(\"Denied\")"
   ]
  },
  {
   "cell_type": "code",
   "execution_count": 149,
   "metadata": {},
   "outputs": [],
   "source": [
    "a = College(\"s\", 32)"
   ]
  },
  {
   "cell_type": "code",
   "execution_count": 150,
   "metadata": {},
   "outputs": [
    {
     "data": {
      "text/plain": [
       "'Hey'"
      ]
     },
     "execution_count": 150,
     "metadata": {},
     "output_type": "execute_result"
    }
   ],
   "source": [
    "# getter\n",
    "a.hello"
   ]
  },
  {
   "cell_type": "code",
   "execution_count": 152,
   "metadata": {},
   "outputs": [],
   "source": [
    "# setter\n",
    "a.hello = 123"
   ]
  },
  {
   "cell_type": "code",
   "execution_count": 154,
   "metadata": {},
   "outputs": [
    {
     "data": {
      "text/plain": [
       "342"
      ]
     },
     "execution_count": 154,
     "metadata": {},
     "output_type": "execute_result"
    }
   ],
   "source": [
    "a._College__id"
   ]
  },
  {
   "cell_type": "code",
   "execution_count": 155,
   "metadata": {},
   "outputs": [],
   "source": [
    "# The End"
   ]
  },
  {
   "cell_type": "code",
   "execution_count": null,
   "metadata": {},
   "outputs": [],
   "source": []
  }
 ],
 "metadata": {
  "kernelspec": {
   "display_name": "Netmax_Ml",
   "language": "python",
   "name": "python3"
  },
  "language_info": {
   "codemirror_mode": {
    "name": "ipython",
    "version": 3
   },
   "file_extension": ".py",
   "mimetype": "text/x-python",
   "name": "python",
   "nbconvert_exporter": "python",
   "pygments_lexer": "ipython3",
   "version": "3.10.15"
  }
 },
 "nbformat": 4,
 "nbformat_minor": 2
}
