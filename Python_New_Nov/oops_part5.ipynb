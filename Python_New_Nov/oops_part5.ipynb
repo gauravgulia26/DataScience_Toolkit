{
 "cells": [
  {
   "cell_type": "code",
   "execution_count": 1,
   "metadata": {},
   "outputs": [],
   "source": [
    "# Polymorphism and Decorators"
   ]
  },
  {
   "cell_type": "code",
   "execution_count": null,
   "metadata": {},
   "outputs": [],
   "source": [
    "# Decorators are a way to modify or extend the behavior of functions or methods without permanently modifying the function or method itself."
   ]
  },
  {
   "cell_type": "code",
   "execution_count": 6,
   "metadata": {},
   "outputs": [],
   "source": [
    "class Trial:\n",
    "    def __init__(self):\n",
    "        self.name = \"Trial\"\n",
    "\n",
    "    @staticmethod \n",
    "    # Static methods are methods that are bound to a class rather than its object.\n",
    "    # They do not require a class instance creation. So, they are not dependent on the state of the object.\n",
    "    # The difference between a static method and a class method is\n",
    "    # that a static method is bound to a class rather than\n",
    "    # the object of the class.\n",
    "    # @staticmethod is a decorator which changes a method into a static method.\n",
    "    def Result():\n",
    "        pass"
   ]
  },
  {
   "cell_type": "code",
   "execution_count": 7,
   "metadata": {},
   "outputs": [],
   "source": [
    "a1 = Trial()"
   ]
  },
  {
   "cell_type": "code",
   "execution_count": 10,
   "metadata": {},
   "outputs": [],
   "source": [
    "a1.Result()"
   ]
  },
  {
   "cell_type": "code",
   "execution_count": 22,
   "metadata": {},
   "outputs": [],
   "source": [
    "# Making a custom decorator\n",
    "\n",
    "\n",
    "def my_decorator(func):\n",
    "    def wrapper():\n",
    "        print(\"Something is happening before the function is called.\")\n",
    "        func()\n",
    "        print(\"Something is happening after the function is called.\")\n",
    "\n",
    "    return wrapper"
   ]
  },
  {
   "cell_type": "code",
   "execution_count": 25,
   "metadata": {},
   "outputs": [
    {
     "name": "stdout",
     "output_type": "stream",
     "text": [
      "Hello World!\n"
     ]
    },
    {
     "data": {
      "text/plain": [
       "<function __main__.my_decorator.<locals>.wrapper()>"
      ]
     },
     "execution_count": 25,
     "metadata": {},
     "output_type": "execute_result"
    }
   ],
   "source": [
    "my_decorator(func=print(\"Hello World!\"))"
   ]
  },
  {
   "cell_type": "code",
   "execution_count": 57,
   "metadata": {},
   "outputs": [],
   "source": [
    "# Decorator\n",
    "def MyFunc(x, y):\n",
    "    def MyFunc2(a, b):\n",
    "        def Myfunc3(a=10, b=40):\n",
    "            return 10\n",
    "\n",
    "        return a + b + Myfunc3()\n",
    "\n",
    "    return x + y + MyFunc2(10, 20)"
   ]
  },
  {
   "cell_type": "code",
   "execution_count": 58,
   "metadata": {},
   "outputs": [
    {
     "data": {
      "text/plain": [
       "70"
      ]
     },
     "execution_count": 58,
     "metadata": {},
     "output_type": "execute_result"
    }
   ],
   "source": [
    "MyFunc(10, 20)"
   ]
  },
  {
   "cell_type": "code",
   "execution_count": 60,
   "metadata": {},
   "outputs": [],
   "source": [
    "# def triple_nested_decorator(arg):\n",
    "#     print(f\"Outer function received argument: {arg}\")\n",
    "\n",
    "#     def middle_decorator(func):\n",
    "#         print(f\"Middle decorator wrapping function: {func.__name__}\")\n",
    "\n",
    "#         def wrapper(*args, **kwargs):\n",
    "#             print(f\"Before calling {func.__name__}\")\n",
    "#             print(f\"Decorator argument was: {arg}\")\n",
    "\n",
    "#             result = func(*args, **kwargs)  # Call the actual function\n",
    "\n",
    "#             print(f\"After calling {func.__name__}\")\n",
    "#             return result\n",
    "\n",
    "#         return wrapper  # Return the wrapped function\n",
    "\n",
    "#     return middle_decorator  # Return the middle decorator\n",
    "\n",
    "\n",
    "# # Using the decorator\n",
    "# @triple_nested_decorator(\"example_argument\")\n",
    "# def say_hello(name):\n",
    "#     print(f\"Hello, {name}!\")\n",
    "\n",
    "\n",
    "# # Call the decorated function\n",
    "# say_hello(\"Alice\")"
   ]
  },
  {
   "cell_type": "code",
   "execution_count": 62,
   "metadata": {},
   "outputs": [],
   "source": [
    "# def square_decorator(func):\n",
    "#     def wrapper(*args, **kwargs):\n",
    "#         result = func(*args, **kwargs)  # Call the original function\n",
    "#         squared_result = result**2  # Square the result\n",
    "#         print(f\"Original result: {result}, Squared result: {squared_result}\")\n",
    "#         return squared_result  # Return the squared result\n",
    "\n",
    "#     return wrapper\n",
    "\n",
    "\n",
    "# # Using the decorator\n",
    "# @square_decorator\n",
    "# def add_numbers(a, b):\n",
    "#     return a + b\n",
    "\n",
    "\n",
    "# # Call the decorated function\n",
    "# result = add_numbers(3, 4)\n",
    "# print(f\"Final result: {result}\")"
   ]
  },
  {
   "cell_type": "code",
   "execution_count": null,
   "metadata": {},
   "outputs": [],
   "source": [
    "# class Bank:\n",
    "#     @staticmethod\n",
    "#     @classmethod\n",
    "#     @enumerate"
   ]
  },
  {
   "cell_type": "code",
   "execution_count": 64,
   "metadata": {},
   "outputs": [],
   "source": [
    "# 1. @staticmethod\n",
    "# Used to define a method that doesn't operate on an instance or class but logically belongs to the class.\n",
    "# python\n",
    "# Copy code\n",
    "# class MyClass:\n",
    "#     @staticmethod\n",
    "#     def greet():\n",
    "#         return \"Hello, World!\"\n",
    "# print(MyClass.greet())\n",
    "\n",
    "# 2. @classmethod\n",
    "# Defines a method that operates on the class rather than an instance. The method receives the class (cls) as its first parameter.\n",
    "# python\n",
    "# Copy code\n",
    "# class MyClass:\n",
    "#     count = 0\n",
    "\n",
    "#     @classmethod\n",
    "#     def increment(cls):\n",
    "#         cls.count += 1\n",
    "# MyClass.increment()\n",
    "# print(MyClass.count)\n",
    "\n",
    "# 3. @property\n",
    "# Used to define a method as a property. It allows access to a method like an attribute.\n",
    "# python\n",
    "# Copy code\n",
    "# class MyClass:\n",
    "#     def __init__(self, name):\n",
    "#         self._name = name\n",
    "\n",
    "#     @property\n",
    "#     def name(self):\n",
    "#         return self._name\n",
    "# obj = MyClass(\"Alice\")\n",
    "# print(obj.name)\n",
    "\n",
    "# 4. @lru_cache\n",
    "# Provided by the functools module to cache the results of expensive function calls.\n",
    "# python\n",
    "# Copy code\n",
    "# from functools import lru_cache\n",
    "\n",
    "# @lru_cache(maxsize=32)\n",
    "# def expensive_computation(n):\n",
    "#     return n * n\n",
    "# print(expensive_computation(10))\n",
    "\n",
    "# 5. @wraps\n",
    "# Ensures that metadata of the original function is preserved when creating a custom decorator.\n",
    "# python\n",
    "# Copy code\n",
    "# from functools import wraps\n",
    "\n",
    "# def my_decorator(func):\n",
    "#     @wraps(func)\n",
    "#     def wrapper(*args, **kwargs):\n",
    "#         return func(*args, **kwargs)\n",
    "#     return wrapper\n",
    "\n",
    "# @my_decorator\n",
    "# def greet():\n",
    "#     return \"Hello!\"\n",
    "# print(greet.__name__)  # Prints 'greet', not 'wrapper'\n",
    "\n",
    "# 6. @dataclass\n",
    "# Simplifies the creation of classes by automatically generating methods like __init__, __repr__, etc.\n",
    "# python\n",
    "# Copy code\n",
    "# from dataclasses import dataclass\n",
    "\n",
    "# @dataclass\n",
    "# class Point:\n",
    "#     x: int\n",
    "#     y: int\n",
    "# p = Point(1, 2)\n",
    "# print(p)\n",
    "\n",
    "# 7. @abstractmethod\n",
    "# Used with abstract base classes to define methods that must be implemented in subclasses.\n",
    "# python\n",
    "# Copy code\n",
    "# from abc import ABC, abstractmethod\n",
    "\n",
    "# class Shape(ABC):\n",
    "#     @abstractmethod\n",
    "#     def area(self):\n",
    "#         pass\n",
    "\n",
    "# 8. @staticmethod and @classmethod Combination\n",
    "# Often used together when designing utility or factory methods in classes."
   ]
  },
  {
   "cell_type": "code",
   "execution_count": null,
   "metadata": {},
   "outputs": [],
   "source": []
  }
 ],
 "metadata": {
  "kernelspec": {
   "display_name": "Netmax_Ml",
   "language": "python",
   "name": "python3"
  },
  "language_info": {
   "codemirror_mode": {
    "name": "ipython",
    "version": 3
   },
   "file_extension": ".py",
   "mimetype": "text/x-python",
   "name": "python",
   "nbconvert_exporter": "python",
   "pygments_lexer": "ipython3",
   "version": "3.10.15"
  }
 },
 "nbformat": 4,
 "nbformat_minor": 2
}
