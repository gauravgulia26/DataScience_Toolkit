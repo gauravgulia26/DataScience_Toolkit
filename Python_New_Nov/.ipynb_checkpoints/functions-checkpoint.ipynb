{
 "cells": [
  {
   "cell_type": "code",
   "execution_count": 1,
   "id": "f509416d-1a82-443a-b879-68e53831d07b",
   "metadata": {},
   "outputs": [],
   "source": [
    "# functions and lambda functions"
   ]
  },
  {
   "cell_type": "code",
   "execution_count": 5,
   "id": "4a55f6d0-5085-421c-853a-b228f15d73ec",
   "metadata": {},
   "outputs": [],
   "source": [
    "# parameteres\n",
    "def abc(x,y): \n",
    "    return x + y"
   ]
  },
  {
   "cell_type": "code",
   "execution_count": 8,
   "id": "1c823d5d-15f2-4991-9994-e4799089633e",
   "metadata": {},
   "outputs": [
    {
     "data": {
      "text/plain": [
       "31"
      ]
     },
     "execution_count": 8,
     "metadata": {},
     "output_type": "execute_result"
    }
   ],
   "source": [
    "abc(10,21)"
   ]
  },
  {
   "cell_type": "code",
   "execution_count": 13,
   "id": "18793abb-a6fc-49c7-ad86-0470c7e8c208",
   "metadata": {},
   "outputs": [],
   "source": [
    "def abc(x,y):\n",
    "    def bcd(a,b):\n",
    "        def xyz(p,q,r):\n",
    "            return p + q - r\n",
    "        return xyz(10,20,30) + a + b\n",
    "    return bcd(5,5) + x + y\t"
   ]
  },
  {
   "cell_type": "code",
   "execution_count": 20,
   "id": "f6c0f439-a2a3-42e3-89b1-e006026b72b0",
   "metadata": {},
   "outputs": [
    {
     "name": "stdout",
     "output_type": "stream",
     "text": [
      "Outer function called with a = 5\n",
      "  First inner function called with b = 10\n",
      "    Second inner function called with c = 15\n",
      "      Third inner function called with d = 20\n",
      "Result of nested function call: 50\n"
     ]
    }
   ],
   "source": [
    "def outer_function(a):\n",
    "    print(f\"Outer function called with a = {a}\")\n",
    "\n",
    "    def first_inner_function(b):\n",
    "        print(f\"  First inner function called with b = {b}\")\n",
    "\n",
    "        def second_inner_function(c):\n",
    "            print(f\"    Second inner function called with c = {c}\")\n",
    "\n",
    "            def third_inner_function(d):\n",
    "                print(f\"      Third inner function called with d = {d}\")\n",
    "                return a + b + c + d\n",
    "\n",
    "            return third_inner_function\n",
    "\n",
    "        return second_inner_function\n",
    "\n",
    "    return first_inner_function\n",
    "\n",
    "\n",
    "# Call the nested functions\n",
    "result = outer_function(5)(10)(15)(20)\n",
    "print(f\"Result of nested function call: {result}\")\n"
   ]
  },
  {
   "cell_type": "code",
   "execution_count": 21,
   "id": "7f543404-105f-4a6b-8838-2b1b92324864",
   "metadata": {},
   "outputs": [],
   "source": [
    "# *args and **kwargs"
   ]
  },
  {
   "cell_type": "code",
   "execution_count": 38,
   "id": "b6e40bd2-d3f7-45ac-bea5-8aa37fbd474c",
   "metadata": {},
   "outputs": [],
   "source": [
    "def my_average(*y):\n",
    "    return sum([x for x in y]) / len(y)"
   ]
  },
  {
   "cell_type": "code",
   "execution_count": 40,
   "id": "b2aaec76-29bf-43c8-a0fa-588a2e68e75b",
   "metadata": {},
   "outputs": [
    {
     "data": {
      "text/plain": [
       "28.59090909090909"
      ]
     },
     "execution_count": 40,
     "metadata": {},
     "output_type": "execute_result"
    }
   ],
   "source": [
    "# my_average(10,20,30,40,50,60,70,80,90,100,1,2,3,34,4,5,5,5,5,5,5,5)"
   ]
  },
  {
   "cell_type": "code",
   "execution_count": 44,
   "id": "f8b81d5a-3197-4d95-8a83-e049706e8e2f",
   "metadata": {},
   "outputs": [],
   "source": [
    "# Question: Create a Custom Function with *args\n",
    "\n",
    "# Write a Python function named product_of_numbers \n",
    "# that takes any number of numeric arguments using *args and returns the product of all the numbers.\n",
    "\n",
    "# := \tprint(x := 3) \tx = 3\n",
    "# print(x)"
   ]
  },
  {
   "cell_type": "code",
   "execution_count": 48,
   "id": "dcbef315-e144-48ce-a413-6d532f97ae6f",
   "metadata": {},
   "outputs": [
    {
     "name": "stdout",
     "output_type": "stream",
     "text": [
      "3\n"
     ]
    }
   ],
   "source": [
    "print(x:=3)"
   ]
  },
  {
   "cell_type": "code",
   "execution_count": 50,
   "id": "f533f017-ae83-4973-904a-5824e50f91b3",
   "metadata": {},
   "outputs": [
    {
     "name": "stdout",
     "output_type": "stream",
     "text": [
      "Gourav\n"
     ]
    }
   ],
   "source": [
    "print(gourav:='Gourav')"
   ]
  },
  {
   "cell_type": "code",
   "execution_count": 51,
   "id": "16ffec3b-a980-474f-a367-33f8d9c9cce2",
   "metadata": {},
   "outputs": [],
   "source": [
    "a = [1,2,3,4]"
   ]
  },
  {
   "cell_type": "code",
   "execution_count": 67,
   "id": "fe8d2665-14cf-4532-b838-dfef3369a7d2",
   "metadata": {},
   "outputs": [],
   "source": [
    "def MyProd(*x):\n",
    "    result = 1\n",
    "    for i in x:\n",
    "        result*= i\n",
    "    return result"
   ]
  },
  {
   "cell_type": "code",
   "execution_count": 68,
   "id": "fd60c7b7-09a5-42e7-b36a-1cb663b24971",
   "metadata": {},
   "outputs": [
    {
     "data": {
      "text/plain": [
       "3628800"
      ]
     },
     "execution_count": 68,
     "metadata": {},
     "output_type": "execute_result"
    }
   ],
   "source": [
    "MyProd(1,2,3,4,5,6,7,8,9,10)"
   ]
  },
  {
   "cell_type": "code",
   "execution_count": 53,
   "id": "9dbb8ec9-f59a-4fb8-a778-9854f25e9f63",
   "metadata": {},
   "outputs": [
    {
     "data": {
      "text/plain": [
       "24"
      ]
     },
     "execution_count": 53,
     "metadata": {},
     "output_type": "execute_result"
    }
   ],
   "source": [
    "b"
   ]
  },
  {
   "cell_type": "code",
   "execution_count": null,
   "id": "6ee3a712-b0d2-4a17-9968-d7ea2966bc72",
   "metadata": {},
   "outputs": [],
   "source": []
  },
  {
   "cell_type": "code",
   "execution_count": 70,
   "id": "7382c98b-f2f4-49fb-8cb8-5b06e2242ad1",
   "metadata": {},
   "outputs": [],
   "source": [
    "# Question: Custom Function with *args and List Comprehension\n",
    "\n",
    "# Write a Python function named filter_and_square that takes any number of numeric arguments using *args. The function should:\n",
    "\n",
    "#     Filter out numbers less than 5.\n",
    "#     Square the remaining numbers.\n",
    "#     Return the resulting list of squared values.\n",
    "#     find the average of squared list"
   ]
  },
  {
   "cell_type": "code",
   "execution_count": null,
   "id": "64f66841-762b-47b2-bf69-b30bc5986fa4",
   "metadata": {},
   "outputs": [],
   "source": []
  },
  {
   "cell_type": "code",
   "execution_count": 115,
   "id": "df73df5e-1a18-43e0-a3e3-4d85322a5d94",
   "metadata": {},
   "outputs": [],
   "source": [
    "def filter_and_square(*a):\n",
    "        return (sum([x**2 for x in a if x > 5])) // len([x for x in a if x > 5])"
   ]
  },
  {
   "cell_type": "code",
   "execution_count": 116,
   "id": "b03430a3-bb19-49fc-bd56-f715166411f0",
   "metadata": {},
   "outputs": [
    {
     "name": "stdout",
     "output_type": "stream",
     "text": [
      "Zero Division Error Occured\n"
     ]
    }
   ],
   "source": [
    "try:\n",
    "    print(filter_and_square(1,2,3,4))\n",
    "except ZeroDivisionError:\n",
    "    print('Zero Division Error Occured')\n",
    "except \n",
    "else:\n",
    "    print('Successfull !!')"
   ]
  },
  {
   "cell_type": "code",
   "execution_count": null,
   "id": "c3d10fcc-aece-43c7-bc83-769bc33624a8",
   "metadata": {},
   "outputs": [],
   "source": []
  }
 ],
 "metadata": {
  "kernelspec": {
   "display_name": "Python 3 (ipykernel)",
   "language": "python",
   "name": "python3"
  },
  "language_info": {
   "codemirror_mode": {
    "name": "ipython",
    "version": 3
   },
   "file_extension": ".py",
   "mimetype": "text/x-python",
   "name": "python",
   "nbconvert_exporter": "python",
   "pygments_lexer": "ipython3",
   "version": "3.12.3"
  }
 },
 "nbformat": 4,
 "nbformat_minor": 5
}
