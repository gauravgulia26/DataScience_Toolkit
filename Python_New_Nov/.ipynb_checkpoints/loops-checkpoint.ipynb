{
 "cells": [
  {
   "cell_type": "code",
   "execution_count": 4,
   "id": "04a1b551-6c51-4ce7-8b10-ead19ea8eac5",
   "metadata": {},
   "outputs": [
    {
     "data": {
      "text/plain": [
       "['H', 'llo']"
      ]
     },
     "execution_count": 4,
     "metadata": {},
     "output_type": "execute_result"
    }
   ],
   "source": [
    "# join and split\n",
    "# string methods\n",
    "'Hello'.split('e')"
   ]
  },
  {
   "cell_type": "code",
   "execution_count": 2,
   "id": "60f843fd-3904-4083-abaf-bd559c864152",
   "metadata": {},
   "outputs": [],
   "source": [
    "# a = [1,2,3,4]"
   ]
  },
  {
   "cell_type": "code",
   "execution_count": 6,
   "id": "05a30c66-56ea-4649-be10-22e4266fd4d4",
   "metadata": {},
   "outputs": [
    {
     "data": {
      "text/plain": [
       "['fej', 'oenogeo', 'gnowengo', 'weo', 'goweb', 'nwr', 'o n', 'wnvoadnvndeov']"
      ]
     },
     "execution_count": 6,
     "metadata": {},
     "output_type": "execute_result"
    }
   ],
   "source": [
    "d = 'fejioenogeoignowengoiweoigowebinwrio niwnvoadnvndeov'\n",
    "d.split('i')"
   ]
  },
  {
   "cell_type": "code",
   "execution_count": 7,
   "id": "6c084223-b22d-43fb-aa49-e179c8445c84",
   "metadata": {},
   "outputs": [
    {
     "data": {
      "text/plain": [
       "'fejioenogeoignowengoiweoigowebinwrio niwnvoadnvndeov'"
      ]
     },
     "execution_count": 7,
     "metadata": {},
     "output_type": "execute_result"
    }
   ],
   "source": [
    "# join\n",
    "\"i\".join(['fej', 'oenogeo', 'gnowengo', 'weo', 'goweb', 'nwr', 'o n', 'wnvoadnvndeov'])"
   ]
  },
  {
   "cell_type": "code",
   "execution_count": 8,
   "id": "3942b8a1-4812-46dc-b907-1921c05d7be5",
   "metadata": {},
   "outputs": [],
   "source": [
    "# set (unique)"
   ]
  },
  {
   "cell_type": "code",
   "execution_count": 9,
   "id": "5e3d4311-ee6c-4fb1-84f1-d0a03aaf3f9d",
   "metadata": {},
   "outputs": [],
   "source": [
    "a = (1,2,3,3,4,4,5)"
   ]
  },
  {
   "cell_type": "code",
   "execution_count": 10,
   "id": "191d18b5-cd98-46a5-ae24-cbf39e3bbd9b",
   "metadata": {},
   "outputs": [
    {
     "data": {
      "text/plain": [
       "tuple"
      ]
     },
     "execution_count": 10,
     "metadata": {},
     "output_type": "execute_result"
    }
   ],
   "source": [
    "type(a)"
   ]
  },
  {
   "cell_type": "code",
   "execution_count": 16,
   "id": "8d4fa9e8-b1b9-45c5-abd0-f1cb526d4024",
   "metadata": {},
   "outputs": [
    {
     "data": {
      "text/plain": [
       "{1, 2, 3}"
      ]
     },
     "execution_count": 16,
     "metadata": {},
     "output_type": "execute_result"
    }
   ],
   "source": [
    "set([1,2,3,3,3,3,3,3])"
   ]
  },
  {
   "cell_type": "code",
   "execution_count": 17,
   "id": "ca13df5b-2d5a-49b8-8606-231d4fdb42ab",
   "metadata": {},
   "outputs": [],
   "source": [
    "a ={1,2,3,4,5}"
   ]
  },
  {
   "cell_type": "code",
   "execution_count": 18,
   "id": "448f67a7-9584-43cb-b8a5-c3efd1c07ca1",
   "metadata": {},
   "outputs": [],
   "source": [
    "a = {'l':2}"
   ]
  },
  {
   "cell_type": "code",
   "execution_count": 20,
   "id": "f54cbf3f-69a5-4365-a4ff-16329731029e",
   "metadata": {},
   "outputs": [],
   "source": [
    "a = {\n",
    "    'name':'gourav',\n",
    "    'age':10\n",
    "}"
   ]
  },
  {
   "cell_type": "code",
   "execution_count": 22,
   "id": "0a5e44f4-8931-4935-a4f5-6b6ee1fb74e0",
   "metadata": {},
   "outputs": [
    {
     "data": {
      "text/plain": [
       "'gourav'"
      ]
     },
     "execution_count": 22,
     "metadata": {},
     "output_type": "execute_result"
    }
   ],
   "source": [
    "a['name']"
   ]
  },
  {
   "cell_type": "code",
   "execution_count": 23,
   "id": "a02b29f9-6a43-4b11-bd14-ae3004fff858",
   "metadata": {},
   "outputs": [
    {
     "data": {
      "text/plain": [
       "10"
      ]
     },
     "execution_count": 23,
     "metadata": {},
     "output_type": "execute_result"
    }
   ],
   "source": [
    "a['age']"
   ]
  },
  {
   "cell_type": "code",
   "execution_count": 26,
   "id": "11e4acdf-87e4-40e8-9651-e56bcc196ad9",
   "metadata": {},
   "outputs": [],
   "source": [
    "a = {\n",
    "    'name':'aman',\n",
    "    'age':'aman'\n",
    "}"
   ]
  },
  {
   "cell_type": "code",
   "execution_count": 28,
   "id": "faf9eb93-96b5-4d8c-a268-59325699a2e1",
   "metadata": {},
   "outputs": [
    {
     "data": {
      "text/plain": [
       "dict_keys(['name', 'age'])"
      ]
     },
     "execution_count": 28,
     "metadata": {},
     "output_type": "execute_result"
    }
   ],
   "source": [
    "a.keys()"
   ]
  },
  {
   "cell_type": "code",
   "execution_count": 29,
   "id": "47a85ad3-7570-4e2c-9b78-38e4ff4f6ca4",
   "metadata": {},
   "outputs": [
    {
     "data": {
      "text/plain": [
       "dict_values(['aman', 'aman'])"
      ]
     },
     "execution_count": 29,
     "metadata": {},
     "output_type": "execute_result"
    }
   ],
   "source": [
    "a.values()"
   ]
  },
  {
   "cell_type": "code",
   "execution_count": 30,
   "id": "70e2cbdc-36cb-476a-a868-0214f32482a1",
   "metadata": {},
   "outputs": [
    {
     "data": {
      "text/plain": [
       "dict_items([('name', 'aman'), ('age', 'aman')])"
      ]
     },
     "execution_count": 30,
     "metadata": {},
     "output_type": "execute_result"
    }
   ],
   "source": [
    "a.items()"
   ]
  },
  {
   "cell_type": "code",
   "execution_count": 31,
   "id": "33f0ee7f-317b-4728-8836-80dbdde6f3d9",
   "metadata": {},
   "outputs": [],
   "source": [
    "a = {\n",
    "    'name':[1,2,3,{\n",
    "        'age':(1,3,4,[\n",
    "            10,20,30,{\n",
    "                'col':'hello'\n",
    "            }\n",
    "        ])\n",
    "    }]\n",
    "}"
   ]
  },
  {
   "cell_type": "code",
   "execution_count": 42,
   "id": "0c79ff6f-092e-41f2-9f77-8f9fac180642",
   "metadata": {},
   "outputs": [
    {
     "data": {
      "text/plain": [
       "'hello'"
      ]
     },
     "execution_count": 42,
     "metadata": {},
     "output_type": "execute_result"
    }
   ],
   "source": [
    "a['name'][3]['age'][3][3]['col']"
   ]
  },
  {
   "cell_type": "code",
   "execution_count": 46,
   "id": "2bfb4a7e-9a9b-4638-85da-af1bef35b69b",
   "metadata": {},
   "outputs": [],
   "source": [
    "# adding new items and updating"
   ]
  },
  {
   "cell_type": "code",
   "execution_count": 47,
   "id": "efdba79d-6fcf-4fc2-8717-642eefe71072",
   "metadata": {},
   "outputs": [],
   "source": [
    "a = {\n",
    "    'name':'gourav'\n",
    "}"
   ]
  },
  {
   "cell_type": "code",
   "execution_count": 48,
   "id": "06edd55f-5a15-48b1-b15f-d7ca28cf01b4",
   "metadata": {},
   "outputs": [
    {
     "data": {
      "text/plain": [
       "{'name': 'gourav'}"
      ]
     },
     "execution_count": 48,
     "metadata": {},
     "output_type": "execute_result"
    }
   ],
   "source": [
    "a"
   ]
  },
  {
   "cell_type": "code",
   "execution_count": 49,
   "id": "1f57e86c-6b02-47a1-a3e3-a42cfa1483a2",
   "metadata": {},
   "outputs": [],
   "source": [
    "a['name'] = 'aman'"
   ]
  },
  {
   "cell_type": "code",
   "execution_count": 51,
   "id": "9c22dd25-2586-4ad1-91b4-ddcf1850360f",
   "metadata": {},
   "outputs": [],
   "source": [
    "a['age'] = 10"
   ]
  },
  {
   "cell_type": "code",
   "execution_count": 53,
   "id": "27db9c69-e389-46f0-86e2-3bd09370f7ad",
   "metadata": {},
   "outputs": [],
   "source": [
    "a['age'] = 20"
   ]
  },
  {
   "cell_type": "code",
   "execution_count": 55,
   "id": "98b045df-25b8-4adc-93b5-dc2bcab2b6b6",
   "metadata": {},
   "outputs": [],
   "source": [
    "a['age'] = [10,20,30,40]"
   ]
  },
  {
   "cell_type": "code",
   "execution_count": 59,
   "id": "21dcddcb-0b25-46fe-a822-d6ecc6d038ef",
   "metadata": {},
   "outputs": [],
   "source": [
    "# enumerate"
   ]
  },
  {
   "cell_type": "code",
   "execution_count": 60,
   "id": "86247081-d7e1-49de-9fba-aa69bafebd3f",
   "metadata": {},
   "outputs": [],
   "source": [
    "a= [1,2,3,4]"
   ]
  },
  {
   "cell_type": "code",
   "execution_count": 62,
   "id": "4f07986a-1883-4fda-bebf-ceba7cbcfcf8",
   "metadata": {},
   "outputs": [
    {
     "name": "stdout",
     "output_type": "stream",
     "text": [
      "Index is 0 and value is 1\n",
      "Index is 1 and value is 2\n",
      "Index is 2 and value is 3\n",
      "Index is 3 and value is 4\n"
     ]
    }
   ],
   "source": [
    "for i,j in enumerate(a):\n",
    "    print(f'Index is {i} and value is {j}')"
   ]
  },
  {
   "cell_type": "code",
   "execution_count": 63,
   "id": "9b9cd5fb-6148-4a91-840d-f51e519f387c",
   "metadata": {},
   "outputs": [],
   "source": [
    "a = tuple(a)"
   ]
  },
  {
   "cell_type": "code",
   "execution_count": 64,
   "id": "b590eb69-abbe-4201-af77-9819be4eb1db",
   "metadata": {},
   "outputs": [
    {
     "name": "stdout",
     "output_type": "stream",
     "text": [
      "Index is 0 and value is 1\n",
      "Index is 1 and value is 2\n",
      "Index is 2 and value is 3\n",
      "Index is 3 and value is 4\n"
     ]
    }
   ],
   "source": [
    "for i,j in enumerate(a):\n",
    "    print(f'Index is {i} and value is {j}')"
   ]
  },
  {
   "cell_type": "code",
   "execution_count": 65,
   "id": "4ae6fed1-24f6-4d8e-9b67-3b83366e54c1",
   "metadata": {},
   "outputs": [],
   "source": [
    "a = {\n",
    "    'name':'gourav'\n",
    "}"
   ]
  },
  {
   "cell_type": "code",
   "execution_count": 66,
   "id": "1d58aa89-a893-4df8-af86-9c9b9bb54146",
   "metadata": {},
   "outputs": [
    {
     "data": {
      "text/plain": [
       "{'name': 'gourav'}"
      ]
     },
     "execution_count": 66,
     "metadata": {},
     "output_type": "execute_result"
    }
   ],
   "source": [
    "a"
   ]
  },
  {
   "cell_type": "code",
   "execution_count": 68,
   "id": "a375768e-c03b-43de-bdac-9fddfb1eb4ee",
   "metadata": {},
   "outputs": [
    {
     "name": "stdout",
     "output_type": "stream",
     "text": [
      "name gourav\n"
     ]
    }
   ],
   "source": [
    "for i,j in a.items():\n",
    "    print(i,j)"
   ]
  },
  {
   "cell_type": "code",
   "execution_count": 71,
   "id": "eabecfca-55dc-4fe7-8726-bf3bd1a91b57",
   "metadata": {},
   "outputs": [
    {
     "data": {
      "text/plain": [
       "dict_items([('name', 'gourav')])"
      ]
     },
     "execution_count": 71,
     "metadata": {},
     "output_type": "execute_result"
    }
   ],
   "source": [
    "a.items()"
   ]
  },
  {
   "cell_type": "code",
   "execution_count": 74,
   "id": "abad14b6-bf47-4533-a1c6-bbc88c312431",
   "metadata": {},
   "outputs": [
    {
     "name": "stdout",
     "output_type": "stream",
     "text": [
      "{'key1': (1, 2, 3, [10, 20, 30]), 'key2': (1, 2, 3, [10, 20, 30]), 'key3': (1, 2, 3, [10, 20, 30])}\n"
     ]
    }
   ],
   "source": [
    "x = ('key1', 'key2', 'key3')\n",
    "y = (1,2,3,[10,20,30])\n",
    "\n",
    "thisdict = dict.fromkeys(x, y)\n",
    "\n",
    "print(thisdict)"
   ]
  },
  {
   "cell_type": "code",
   "execution_count": 77,
   "id": "1b4a5130-f1cf-4df1-93df-56b6101c2c26",
   "metadata": {},
   "outputs": [
    {
     "data": {
      "text/plain": [
       "(1, 2, 3, [10, 20, 30])"
      ]
     },
     "execution_count": 77,
     "metadata": {},
     "output_type": "execute_result"
    }
   ],
   "source": [
    "thisdict['key1']"
   ]
  },
  {
   "cell_type": "code",
   "execution_count": 78,
   "id": "a63a16a6-7cc2-413a-836f-be8f7a961366",
   "metadata": {},
   "outputs": [
    {
     "data": {
      "text/plain": [
       "(1, 2, 3, [10, 20, 30])"
      ]
     },
     "execution_count": 78,
     "metadata": {},
     "output_type": "execute_result"
    }
   ],
   "source": [
    "thisdict.pop('key1')"
   ]
  },
  {
   "cell_type": "code",
   "execution_count": 80,
   "id": "86aaf9f1-b875-4fb1-b9c0-36dc77d82a1b",
   "metadata": {},
   "outputs": [],
   "source": [
    "thisdict['age'] = 10"
   ]
  },
  {
   "cell_type": "code",
   "execution_count": 81,
   "id": "05da2ff7-b3e7-49f2-a99f-39b6391f5fa7",
   "metadata": {},
   "outputs": [
    {
     "data": {
      "text/plain": [
       "{'key2': (1, 2, 3, [10, 20, 30]), 'key3': (1, 2, 3, [10, 20, 30]), 'age': 10}"
      ]
     },
     "execution_count": 81,
     "metadata": {},
     "output_type": "execute_result"
    }
   ],
   "source": [
    "thisdict"
   ]
  },
  {
   "cell_type": "code",
   "execution_count": 82,
   "id": "26159714-fd6d-447f-97ea-5e9ee00c846e",
   "metadata": {},
   "outputs": [
    {
     "data": {
      "text/plain": [
       "('age', 10)"
      ]
     },
     "execution_count": 82,
     "metadata": {},
     "output_type": "execute_result"
    }
   ],
   "source": [
    "thisdict.popitem()"
   ]
  },
  {
   "cell_type": "code",
   "execution_count": 83,
   "id": "8d2ed826-526a-4445-afd6-33935ca0dd1f",
   "metadata": {},
   "outputs": [
    {
     "data": {
      "text/plain": [
       "{'key2': (1, 2, 3, [10, 20, 30]), 'key3': (1, 2, 3, [10, 20, 30])}"
      ]
     },
     "execution_count": 83,
     "metadata": {},
     "output_type": "execute_result"
    }
   ],
   "source": [
    "thisdict"
   ]
  },
  {
   "cell_type": "code",
   "execution_count": 84,
   "id": "39e1c909-fc88-4b6d-bab4-3b6fd670875f",
   "metadata": {},
   "outputs": [
    {
     "name": "stdout",
     "output_type": "stream",
     "text": [
      "Mustang\n"
     ]
    }
   ],
   "source": [
    "\n",
    "car = {\n",
    "  \"brand\": \"Ford\",\n",
    "  \"model\": \"Mustang\",\n",
    "  \"year\": 1964\n",
    "}\n",
    "\n",
    "x = car.setdefault(\"model\", \"Bronco\")\n",
    "\n",
    "print(x) "
   ]
  },
  {
   "cell_type": "code",
   "execution_count": null,
   "id": "bb45b142-2a49-492a-abd0-961b1e4075ca",
   "metadata": {},
   "outputs": [],
   "source": []
  },
  {
   "cell_type": "code",
   "execution_count": null,
   "id": "e373bef2-7748-4033-953b-a560deec912c",
   "metadata": {},
   "outputs": [],
   "source": []
  },
  {
   "cell_type": "code",
   "execution_count": null,
   "id": "93316d1b-fbe4-4619-86fa-f08c555edc0a",
   "metadata": {},
   "outputs": [],
   "source": []
  },
  {
   "cell_type": "code",
   "execution_count": null,
   "id": "24d8e7c7-23e3-4cd8-a3e7-f9fb8d41cc5f",
   "metadata": {},
   "outputs": [],
   "source": []
  },
  {
   "cell_type": "code",
   "execution_count": null,
   "id": "e799691c-4da5-4424-a834-57bd27d967c6",
   "metadata": {},
   "outputs": [],
   "source": [
    "# Question: Write a Python program to count how many even numbers are in a list.\n",
    "# Example Input:\n",
    "# nums = [1, 2, 3, 4, 5, 6]\n",
    "# Expected Output:\n",
    "# 3"
   ]
  },
  {
   "cell_type": "code",
   "execution_count": 95,
   "id": "f009b76a-6db9-4162-9633-1ec5db4ff028",
   "metadata": {},
   "outputs": [],
   "source": [
    "t = 0\n",
    "for i in [x for x in range(0,100)]:\n",
    "    # t = 0\n",
    "    if i % 2 == 0:\n",
    "        t+=1"
   ]
  },
  {
   "cell_type": "code",
   "execution_count": null,
   "id": "e880a646-ba72-4114-b8f2-839d40f19786",
   "metadata": {},
   "outputs": [],
   "source": [
    "# Question: Write a Python program to check if a given year is a leap year.\n",
    "# Example Input:\n",
    "# year = 2024\n",
    "# Expected Output:\n",
    "# 2024 is a leap year."
   ]
  },
  {
   "cell_type": "code",
   "execution_count": 100,
   "id": "7a20bff0-8290-4e68-b375-39eaae2b1d8b",
   "metadata": {},
   "outputs": [
    {
     "name": "stdin",
     "output_type": "stream",
     "text": [
      " 12\n"
     ]
    },
    {
     "name": "stdout",
     "output_type": "stream",
     "text": [
      "LP\n"
     ]
    }
   ],
   "source": [
    "\n",
    "year  = eval(input(''))\n",
    "if (year % 4 == 0 and year % 100 != 0) or (year % 400 == 0):\n",
    "    print('LP')\n",
    "else:\n",
    "    print(-1)"
   ]
  },
  {
   "cell_type": "code",
   "execution_count": 101,
   "id": "967c435f-a6c8-42ee-b586-7070fc41288a",
   "metadata": {},
   "outputs": [],
   "source": [
    "# 3. Sum of All Elements in a Dictionary\n",
    "\n",
    "# Question: Write a Python program to find the sum of all the values in a dictionary.\n",
    "# Example Input:\n",
    "# data = {\"a\": 5, \"b\": 10, \"c\": 15}\n",
    "# Expected Output:\n",
    "# 30"
   ]
  },
  {
   "cell_type": "code",
   "execution_count": 102,
   "id": "8882fe5f-bd59-423a-b512-0ad182cc9d5d",
   "metadata": {},
   "outputs": [],
   "source": [
    "data = {\"a\": 5, \"b\": 10, \"c\": 15}"
   ]
  },
  {
   "cell_type": "code",
   "execution_count": 107,
   "id": "7f19b105-bd25-4e0f-9ea7-90b786a9134f",
   "metadata": {},
   "outputs": [],
   "source": [
    "t = 0\n",
    "for i in data.values():\n",
    "    t+= i"
   ]
  },
  {
   "cell_type": "code",
   "execution_count": 109,
   "id": "bc7a0248-bcd0-4a19-a0bb-042618dc590c",
   "metadata": {},
   "outputs": [
    {
     "data": {
      "text/plain": [
       "30"
      ]
     },
     "execution_count": 109,
     "metadata": {},
     "output_type": "execute_result"
    }
   ],
   "source": [
    "t"
   ]
  },
  {
   "cell_type": "code",
   "execution_count": null,
   "id": "96f847fc-836d-485a-9d7e-fde153af8ec0",
   "metadata": {},
   "outputs": [],
   "source": [
    "# Question: Write a Python program to reverse a given string using a loop.\n",
    "# Example Input:\n",
    "# text = \"Python\"\n",
    "# Expected Output:\n",
    "# nohtyP"
   ]
  },
  {
   "cell_type": "code",
   "execution_count": 110,
   "id": "4f234a30-0197-44de-965a-15194f623bbf",
   "metadata": {},
   "outputs": [],
   "source": [
    "# gourav\n",
    "# varuog"
   ]
  },
  {
   "cell_type": "code",
   "execution_count": 117,
   "id": "05b93ba7-1781-4066-bbfa-05391efda8d4",
   "metadata": {},
   "outputs": [
    {
     "data": {
      "text/plain": [
       "'varuog'"
      ]
     },
     "execution_count": 117,
     "metadata": {},
     "output_type": "execute_result"
    }
   ],
   "source": [
    "t = ''\n",
    "for i in 'gourav':\n",
    "    # t = t + i\n",
    "    t = i + t\n",
    "t"
   ]
  },
  {
   "cell_type": "code",
   "execution_count": 5,
   "id": "c6f0d113-eb0c-4e6a-881d-a406055aaae8",
   "metadata": {},
   "outputs": [],
   "source": [
    "# Create a list of all numbers between 1 and \n",
    "# 20 that are divisible by 3 using list comprehension and divisible by 9 but not divisible by 6.\n",
    "# if neither print not availible\n",
    "\n",
    "# [x if (x % 3 == 0 and x % 9 == 0) and (x % 6 != 0) else 'NA' for x in range(1,21)]\n"
   ]
  },
  {
   "cell_type": "code",
   "execution_count": null,
   "id": "41aaa344-3148-4fbc-bfe3-2c575e2ec6dd",
   "metadata": {},
   "outputs": [],
   "source": [
    "# Write a program that iterates through the list nums = [5, 10, 15, 20, 25] \n",
    "# using list comprehension. If \n",
    "# a number is divisible by 10, print \"Divisible by 10\"; otherwise, print \"Not divisible by 10\"."
   ]
  },
  {
   "cell_type": "code",
   "execution_count": 8,
   "id": "452d5fbc-aca0-430f-8f75-074058364a9b",
   "metadata": {},
   "outputs": [
    {
     "data": {
      "text/plain": [
       "['NA', 'Divisible by 10', 'NA', 'Divisible by 10', 'NA']"
      ]
     },
     "execution_count": 8,
     "metadata": {},
     "output_type": "execute_result"
    }
   ],
   "source": [
    "nums = [5,10,15,20,25]\n",
    "['Divisible by 10' if x % 10 == 0  else 'NA' for x in nums]"
   ]
  },
  {
   "cell_type": "code",
   "execution_count": null,
   "id": "612b41fb-9036-4c81-8de5-902c36ff78c4",
   "metadata": {},
   "outputs": [],
   "source": [
    "# Use list comprehension to create a new list from nums = [2, 3, 5, 7, 8, 10] where:\n",
    "\n",
    "#     If the number is even, store \"Even\".\n",
    "#     If the number is odd, store \"Odd\"."
   ]
  },
  {
   "cell_type": "code",
   "execution_count": 10,
   "id": "726a3f21-4c78-4621-ba78-3ee6905648a5",
   "metadata": {},
   "outputs": [
    {
     "data": {
      "text/plain": [
       "['even', 'odd', 'odd', 'odd', 'even', 'odd']"
      ]
     },
     "execution_count": 10,
     "metadata": {},
     "output_type": "execute_result"
    }
   ],
   "source": [
    "num = [2, 3, 5, 7, 8, 19]\n",
    "['even' if x % 2 == 0 else 'odd' for x in num]"
   ]
  },
  {
   "cell_type": "code",
   "execution_count": 11,
   "id": "3b64b12e-1fbd-4c8f-a4ee-5a8df89b4584",
   "metadata": {},
   "outputs": [],
   "source": [
    "# Write a program that iterates through a list numbers = [1, 12, 18, 25, 30, 45]. For each number:\n",
    "\n",
    "#     Print \"Divisible by 3 and 5\" if it is divisible by both 3 and 5.\n",
    "#     Print \"Divisible by 3\" if it is only divisible by 3.\n",
    "#     Print \"Divisible by 5\" if it is only divisible by 5.\n",
    "#     Print \"Not divisible by 3 or 5\" otherwise."
   ]
  },
  {
   "cell_type": "code",
   "execution_count": null,
   "id": "81e2827e-1a65-402b-a392-61dcf6951682",
   "metadata": {},
   "outputs": [],
   "source": [
    "# Write a program \n",
    "# to calculate the sum of all numbers in the list numbers = [4, 7, 1, 8, 5] using a for loop."
   ]
  },
  {
   "cell_type": "code",
   "execution_count": 15,
   "id": "fc215e41-f2d5-4a4b-9bac-c5d7cf5dbcc3",
   "metadata": {},
   "outputs": [
    {
     "data": {
      "text/plain": [
       "45"
      ]
     },
     "execution_count": 15,
     "metadata": {},
     "output_type": "execute_result"
    }
   ],
   "source": [
    "s = 0\n",
    "a = [x for x in range(1,10)]\n",
    "for i in a:\n",
    "    s += i\n",
    "s"
   ]
  },
  {
   "cell_type": "code",
   "execution_count": 16,
   "id": "e473eef6-f134-40c8-b03f-c9af197b31b1",
   "metadata": {},
   "outputs": [],
   "source": [
    "# Using list comprehension, create a list of squares for all numbers from 1 to 10."
   ]
  },
  {
   "cell_type": "code",
   "execution_count": 18,
   "id": "30441f33-86e7-46ab-a554-3c2fd3b2e904",
   "metadata": {},
   "outputs": [
    {
     "data": {
      "text/plain": [
       "['a', 'a', 'a', 'NA']"
      ]
     },
     "execution_count": 18,
     "metadata": {},
     "output_type": "execute_result"
    }
   ],
   "source": [
    "# Write a program that iterates through the list words = [\"apple\", \"banana\", \"grape\", \"kiwi\"] using a for loop.\n",
    "\n",
    "#     If the word contains the letter 'a', print \"Contains 'a'\".\n",
    "#     Otherwise, print \"Does not contain 'a'\".\n",
    "\n",
    "\n",
    "['a' if 'a' in x else 'NA' for x in [\"apple\", \"banana\", \"grape\", \"kiwi\"]]\n"
   ]
  },
  {
   "cell_type": "code",
   "execution_count": null,
   "id": "08e0d9dc-007a-4642-9e4b-5b72242ee13a",
   "metadata": {},
   "outputs": [],
   "source": [
    "Write a program to find all the prime numbers between 1 and 100.\n",
    "\n",
    "    Use a for loop to implement the logic to check whether a number is prime.\n",
    "    Then, refactor the program to use list comprehension to generate the list of prime numbers."
   ]
  }
 ],
 "metadata": {
  "kernelspec": {
   "display_name": "Python 3 (ipykernel)",
   "language": "python",
   "name": "python3"
  },
  "language_info": {
   "codemirror_mode": {
    "name": "ipython",
    "version": 3
   },
   "file_extension": ".py",
   "mimetype": "text/x-python",
   "name": "python",
   "nbconvert_exporter": "python",
   "pygments_lexer": "ipython3",
   "version": "3.12.3"
  }
 },
 "nbformat": 4,
 "nbformat_minor": 5
}
