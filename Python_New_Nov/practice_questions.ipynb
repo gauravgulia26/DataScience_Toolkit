{
 "cells": [
  {
   "cell_type": "code",
   "execution_count": 1,
   "id": "ff486d8a-a1b7-443d-9606-1e74fdcba19e",
   "metadata": {},
   "outputs": [],
   "source": [
    "# you are tasked to create a program that calculates the income tax for a person based on the following rules:\n",
    "\n",
    "#     The tax rate depends on the income bracket and the marital status:\n",
    "#         If single:\n",
    "#             Income < $50,000: Tax = 10%\n",
    "#             $50,000 ≤ Income < $100,000: Tax = 20%\n",
    "#             Income ≥ $100,000: Tax = 30%\n",
    "#         If married:\n",
    "#             Income < $100,000: Tax = 5%\n",
    "#             $100,000 ≤ Income < $250,000: Tax = 15%\n",
    "#             Income ≥ $250,000: Tax = 25%\n",
    "#     A child tax credit applies:\n",
    "#         $2,000 credit per child if the tax calculated exceeds $2,000. (The tax cannot be reduced below $0.)\n",
    "#     If the person is retired (age ≥ 65), a 5% discount on the final tax applies (after the child tax credit is applied).\n",
    "\n",
    "# Write the program to calculate the final tax amount based on:\n",
    "\n",
    "#     income (numeric),\n",
    "#     marital_status (single or married),\n",
    "#     num_children (integer),\n",
    "#     age (integer)."
   ]
  },
  {
   "cell_type": "code",
   "execution_count": 8,
   "id": "36efacf7-921c-4390-be7c-82518540ebcb",
   "metadata": {},
   "outputs": [
    {
     "name": "stdin",
     "output_type": "stream",
     "text": [
      "Please enter your income:  50000\n",
      "Please enter your marital status:  married\n",
      "Please enter your number of childrens:  3\n",
      "Please enter your age:  89\n"
     ]
    },
    {
     "name": "stdout",
     "output_type": "stream",
     "text": [
      "8075.0\n"
     ]
    }
   ],
   "source": [
    "income = int(input('Please enter your income: '))\n",
    "marital = input('Please enter your marital status: ')\n",
    "child = int(input('Please enter your number of childrens: '))\n",
    "age = int(input('Please enter your age: '))\n",
    "\n",
    "if marital.casefold() == 'single':\n",
    "    if age < 65:\n",
    "        if income < 50000:\n",
    "            tax = income * 0.1\n",
    "            if tax > 2000:\n",
    "                cess = 2000 * child\n",
    "                print(tax + cess)\n",
    "            else:\n",
    "                print(tax)\n",
    "        elif income >= 50000 and income < 100000:\n",
    "            tax = income * 0.2\n",
    "            if tax > 2000:\n",
    "                cess = 2000 * child\n",
    "                print(tax + cess)\n",
    "            else:\n",
    "                print(tax)\n",
    "        else:\n",
    "            tax = income * 0.3\n",
    "            if tax > 2000:\n",
    "                cess = 2000 * child\n",
    "                print(tax + cess)\n",
    "            else:\n",
    "                print(tax)\n",
    "    else:\n",
    "        if income < 50000:\n",
    "            tax = income * 0.1\n",
    "            if tax > 2000:\n",
    "                cess = 2000 * child\n",
    "                print(((tax + cess) - (0.05*(tax + cess))))\n",
    "            else:\n",
    "                print(tax)\n",
    "        elif income >= 50000 and income < 100000:\n",
    "            tax = income * 0.2\n",
    "            if tax > 2000:\n",
    "                cess = 2000 * child\n",
    "                print(((tax + cess) - (0.05*(tax + cess))))\n",
    "            else:\n",
    "                print(tax)\n",
    "        else:\n",
    "            tax = income * 0.3\n",
    "            if tax > 2000:\n",
    "                cess = 2000 * child\n",
    "                print(((tax + cess) - (0.05*(tax + cess))))\n",
    "            else:\n",
    "                print(tax)\n",
    "        \n",
    "        \n",
    "elif marital.casefold() == 'married':\n",
    "    if age < 65:\n",
    "        if income < 100000:\n",
    "            tax = income * 0.05\n",
    "            if tax > 2000:\n",
    "                cess = 2000 * child\n",
    "                print(tax + cess)\n",
    "            else:\n",
    "                print(tax)\n",
    "        elif income >= 100000 and income < 250000:\n",
    "            tax = income * 0.15\n",
    "            if tax > 2000:\n",
    "                cess = 2000 * child\n",
    "                print(tax + cess)\n",
    "            else:\n",
    "                print(tax)\n",
    "        else:\n",
    "            tax = income * 0.25\n",
    "            if tax > 2000:\n",
    "                cess = 2000 * child\n",
    "                print(tax + cess)\n",
    "            else:\n",
    "                print(tax)\n",
    "    else:\n",
    "        if income < 100000:\n",
    "            tax = income * 0.05\n",
    "            if tax > 2000:\n",
    "                cess = 2000 * child\n",
    "                print(((tax + cess) - (0.05*(tax + cess))))\n",
    "            else:\n",
    "                print(tax)\n",
    "        elif income >= 100000 and income < 250000:\n",
    "            tax = income * 0.15\n",
    "            if tax > 2000:\n",
    "                cess = 2000 * child\n",
    "                print(((tax + cess) - (0.05*(tax + cess))))\n",
    "            else:\n",
    "                print(tax)\n",
    "        else:\n",
    "            tax = income * 0.25\n",
    "            if tax > 2000:\n",
    "                cess = 2000 * child\n",
    "                print(((tax + cess) - (0.05*(tax + cess))))\n",
    "            else:\n",
    "                print(tax) "
   ]
  },
  {
   "cell_type": "code",
   "execution_count": 9,
   "id": "b3d86acc-d399-490d-9ac7-8535db87c177",
   "metadata": {},
   "outputs": [],
   "source": [
    "# Write a for loop that creates a list of squares for numbers from 1 to 10. \n",
    "# Then, convert the loop into a list comprehension to achieve the same result.\n",
    "\n",
    "# Expected Output:\n",
    "# For numbers 1 to 10, the resulting list should be: [1, 4, 9, 16, 25, 36, 49, 64, 81, 100]"
   ]
  },
  {
   "cell_type": "code",
   "execution_count": 12,
   "id": "bf3a7835-0087-40dc-8223-10bc221e7968",
   "metadata": {},
   "outputs": [],
   "source": [
    "# [x**2 for x in range(1,11)]"
   ]
  },
  {
   "cell_type": "code",
   "execution_count": 13,
   "id": "81624f6e-0ba8-410f-bcea-293087b3ad6d",
   "metadata": {},
   "outputs": [],
   "source": [
    "# You are given a list of integers, numbers = [3, 7, 10, 15, 20, 24, 30]. \n",
    "# Write a list comprehension to filter out only the numbers divisible by both 3 and 5. \n",
    "# Then, use a for loop to do the same.\n",
    "\n",
    "# Hint: Numbers divisible by 3 and 5 satisfy num % 3 == 0 and num % 5 == 0.\n",
    "# Expected Output:\n",
    "# For the given list, the result should be [15, 30]."
   ]
  },
  {
   "cell_type": "code",
   "execution_count": 14,
   "id": "a371a352-9d92-4655-861a-1c492545f0ee",
   "metadata": {},
   "outputs": [],
   "source": [
    "# break\n",
    "# pass\n",
    "# continue"
   ]
  },
  {
   "cell_type": "code",
   "execution_count": 20,
   "id": "c6d22f81-36ef-43ab-aa27-3f24b25febc4",
   "metadata": {},
   "outputs": [],
   "source": [
    "numbers = [3, 7, 10, 15, 20, 24, 30]"
   ]
  },
  {
   "cell_type": "code",
   "execution_count": 21,
   "id": "2db6ff04-b41f-45b2-b0f2-7cdc3b12f05c",
   "metadata": {},
   "outputs": [
    {
     "data": {
      "text/plain": [
       "[15, 30]"
      ]
     },
     "execution_count": 21,
     "metadata": {},
     "output_type": "execute_result"
    }
   ],
   "source": [
    "[x for x in numbers if (x % 3 == 0) and (x % 5 == 0)]"
   ]
  },
  {
   "cell_type": "code",
   "execution_count": null,
   "id": "0ae03b99-3440-47c7-ab4f-6a4f6a66270d",
   "metadata": {},
   "outputs": [],
   "source": []
  },
  {
   "cell_type": "code",
   "execution_count": null,
   "id": "4b8d3194-4e0b-4aa6-8eac-0c26ce01c297",
   "metadata": {},
   "outputs": [],
   "source": [
    "# You have a nested list of integers:\n",
    "\n",
    "# nested_list = [[2, 4, 5], [10, 15, 20], [3, 9, 12]]\n",
    "\n",
    "# Write a single-line list comprehension to create a flattened list of all numbers in the nested_list that are:\n",
    "\n",
    "#     Even\n",
    "#     Greater than 5\n",
    "\n",
    "# Expected Output:\n",
    "# [10, 20, 12]\n",
    "\n",
    "# Challenge:\n",
    "# Do the same with a nested for loop to achieve the same result.\n",
    "\n",
    "# Hint:\n",
    "# Flattening involves combining all sublist elements into one list. Use conditions to filter elements."
   ]
  },
  {
   "cell_type": "code",
   "execution_count": 14,
   "id": "ecc35e5f-a2c1-400f-9e4a-50cc0565f3f7",
   "metadata": {},
   "outputs": [],
   "source": []
  },
  {
   "cell_type": "code",
   "execution_count": 22,
   "id": "b56f8f54-eb0d-43e0-8f3b-08d91b740118",
   "metadata": {},
   "outputs": [
    {
     "name": "stdout",
     "output_type": "stream",
     "text": [
      "1\n",
      "3\n",
      "3\n",
      "5\n",
      "11\n"
     ]
    }
   ],
   "source": [
    "for i in a:\n",
    "    for j in i:\n",
    "        for k in j:\n",
    "            if k % 2 != 0:\n",
    "                print(k)"
   ]
  },
  {
   "cell_type": "code",
   "execution_count": 23,
   "id": "8e6d39d8-9ebe-41a4-9100-946ba7d95296",
   "metadata": {},
   "outputs": [
    {
     "data": {
      "text/plain": [
       "1"
      ]
     },
     "execution_count": 23,
     "metadata": {},
     "output_type": "execute_result"
    }
   ],
   "source": [
    "len(a)"
   ]
  },
  {
   "cell_type": "code",
   "execution_count": 10,
   "id": "c04e6411-411b-4f5c-906a-ae987c430c03",
   "metadata": {},
   "outputs": [],
   "source": [
    "a = []\n",
    "for i in nested_list:\n",
    "    for j in i:\n",
    "        if j % 2 ==0 and j > 5:\n",
    "            a.append(j)"
   ]
  },
  {
   "cell_type": "code",
   "execution_count": 11,
   "id": "50d2d171-ed01-43c7-a748-7c71ceefed94",
   "metadata": {},
   "outputs": [
    {
     "data": {
      "text/plain": [
       "[10, 20, 12]"
      ]
     },
     "execution_count": 11,
     "metadata": {},
     "output_type": "execute_result"
    }
   ],
   "source": [
    "a"
   ]
  },
  {
   "cell_type": "code",
   "execution_count": 24,
   "id": "92aaa892-14bd-438c-9f49-ba996f2b2d2e",
   "metadata": {},
   "outputs": [],
   "source": [
    "seven_dim_list = [\n",
    "    [\n",
    "        [\n",
    "            [\n",
    "                [\n",
    "                    [\n",
    "                        [1, 2, 3],\n",
    "                        [4, 5, 6],\n",
    "                        [7, 8, 9]\n",
    "                    ],\n",
    "                    [\n",
    "                        [10, 11, 12],\n",
    "                        [13, 14, 15],\n",
    "                        [16, 17, 18]\n",
    "                    ]\n",
    "                ]\n",
    "            ]\n",
    "        ]\n",
    "    ]\n",
    "]\n"
   ]
  },
  {
   "cell_type": "code",
   "execution_count": 43,
   "id": "33b71f70-3983-40a2-98bf-d03337db28e9",
   "metadata": {},
   "outputs": [],
   "source": [
    "# 1. Generate a List of Squares\n",
    "\n",
    "# Question: Use list comprehension to create a list of squares of numbers from 1 to 10.\n",
    "# Expected Output:\n",
    "# [1, 4, 9, 16, 25, 36, 49, 64, 81, 100]"
   ]
  },
  {
   "cell_type": "code",
   "execution_count": 45,
   "id": "d7de2d3d-ec59-4488-9b63-5bd9f22188bf",
   "metadata": {},
   "outputs": [
    {
     "data": {
      "text/plain": [
       "[1, 4, 9, 16, 25, 36, 49, 64, 81, 100]"
      ]
     },
     "execution_count": 45,
     "metadata": {},
     "output_type": "execute_result"
    }
   ],
   "source": [
    "# [x**2 for x in range(1,11)]"
   ]
  },
  {
   "cell_type": "code",
   "execution_count": null,
   "id": "d39c9d19-879b-4ae2-b357-f603fd3d022c",
   "metadata": {},
   "outputs": [],
   "source": [
    "# Question\n",
    "\n",
    "# : Use list comprehension to filter only the even numbers from a given list.\n",
    "# Example Input:\n",
    "# nums = [1, 2, 3, 4, 5, 6, 7, 8, 9, 10]\n",
    "# Expected Output:\n",
    "# [2, 4, 6, 8, 10]\n",
    "\n"
   ]
  },
  {
   "cell_type": "code",
   "execution_count": 46,
   "id": "31209604-0edd-4f56-9b3e-5801ad82a660",
   "metadata": {},
   "outputs": [],
   "source": [
    "# Question: Use list comprehension to convert all the strings in a list to uppercase.\n",
    "# Example Input:\n",
    "# words = [\"apple\", \"banana\", \"cherry\"]\n",
    "# Expected Output:\n",
    "# [\"APPLE\", \"BANANA\", \"CHERRY\"]"
   ]
  },
  {
   "cell_type": "code",
   "execution_count": 50,
   "id": "c6284bf0-9072-46aa-8bcd-446e3119af3b",
   "metadata": {},
   "outputs": [
    {
     "data": {
      "text/plain": [
       "['APPLE', 'BANANA', 'CHERRY']"
      ]
     },
     "execution_count": 50,
     "metadata": {},
     "output_type": "execute_result"
    }
   ],
   "source": [
    "words = [\"apple\", \"banana\", \"cherry\"]\n",
    "[x.upper() for x in words]"
   ]
  },
  {
   "cell_type": "code",
   "execution_count": 51,
   "id": "52275cf2-b250-4c55-9648-d7cf48893b27",
   "metadata": {},
   "outputs": [],
   "source": [
    "# Question: Use list comprehension to extract the first letter of each word in a list.\n",
    "# Example Input:\n",
    "# words = [\"Python\", \"Data\", \"Science\"]\n",
    "# Expected Output:\n",
    "# [\"P\", \"D\", \"S\"]"
   ]
  },
  {
   "cell_type": "code",
   "execution_count": 52,
   "id": "1790c098-201d-4cc2-b1cb-2411affa1a41",
   "metadata": {},
   "outputs": [
    {
     "data": {
      "text/plain": [
       "['Python', 'Data', 'Science']"
      ]
     },
     "execution_count": 52,
     "metadata": {},
     "output_type": "execute_result"
    }
   ],
   "source": [
    "words = [\"Python\", \"Data\", \"Science\"]\n",
    "[x for x in words]"
   ]
  },
  {
   "cell_type": "code",
   "execution_count": 54,
   "id": "73c6140d-15c7-4eec-ad35-f1dc6bf6d860",
   "metadata": {},
   "outputs": [
    {
     "data": {
      "text/plain": [
       "'P'"
      ]
     },
     "execution_count": 54,
     "metadata": {},
     "output_type": "execute_result"
    }
   ],
   "source": []
  }
 ],
 "metadata": {
  "kernelspec": {
   "display_name": "Python 3 (ipykernel)",
   "language": "python",
   "name": "python3"
  },
  "language_info": {
   "codemirror_mode": {
    "name": "ipython",
    "version": 3
   },
   "file_extension": ".py",
   "mimetype": "text/x-python",
   "name": "python",
   "nbconvert_exporter": "python",
   "pygments_lexer": "ipython3",
   "version": "3.12.3"
  }
 },
 "nbformat": 4,
 "nbformat_minor": 5
}
