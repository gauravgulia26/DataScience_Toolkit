{
 "cells": [
  {
   "cell_type": "code",
   "execution_count": null,
   "metadata": {},
   "outputs": [],
   "source": [
    "# Abstraction and Encapsulation and Inheritance"
   ]
  },
  {
   "cell_type": "code",
   "execution_count": null,
   "metadata": {},
   "outputs": [],
   "source": [
    "\"\"\"\n",
    "### **Scenario: Enhanced Library Management System with Error Handling**\n",
    "\n",
    "A library management system needs to handle books, borrowers, and transactions, ensuring smooth operations with error handling for edge cases. The system should implement the following functionalities:\n",
    "\n",
    "1. **Book Management**:\n",
    "   - Add new books to the library.\n",
    "   - Prevent duplicate entries by checking ISBN.\n",
    "   - Raise an error if attempting to remove a book not in the system.\n",
    "\n",
    "2. **Borrower Registration**:\n",
    "   - Add new borrowers with unique IDs.\n",
    "   - Prevent duplicate borrower registration.\n",
    "   - Raise an error if an unregistered borrower tries to borrow a book.\n",
    "\n",
    "3. **Borrowing Process**:\n",
    "   - Allow borrowers to borrow available books.\n",
    "   - Raise an error if the book is already borrowed or doesn't exist in the library.\n",
    "   - Enforce borrowing limits per borrower (e.g., maximum of 5 books).\n",
    "\n",
    "4. **Return Process**:\n",
    "   - Update the system when borrowers return books.\n",
    "   - Raise an error if a borrower tries to return a book they haven’t borrowed.\n",
    "\n",
    "5. **Availability Checks**:\n",
    "   - Provide a mechanism to check the availability of books.\n",
    "   - Raise an error if the queried book is not found.\n",
    "\n",
    "6. **Borrower History**:\n",
    "   - Maintain a record of books borrowed and returned.\n",
    "   - Ensure history is updated correctly for each transaction.\n",
    "\n",
    "7. **Error Handling**:\n",
    "   - Use exceptions to manage errors such as duplicate entries, borrowing limits, and invalid operations.\n",
    "   - Provide user-friendly messages for all errors to guide the operator of the system.\n",
    "\"\"\""
   ]
  },
  {
   "cell_type": "code",
   "execution_count": 102,
   "metadata": {},
   "outputs": [],
   "source": [
    "import random\n",
    "\n",
    "\n",
    "class Library:\n",
    "    __inventory = {}\n",
    "    __borrower = {}\n",
    "    __limit = {}\n",
    "    \n",
    "    def __init__(self,name,isbn):\n",
    "        self.name = name\n",
    "        self.isbn = isbn\n",
    "        \n",
    "    def add_book(self):\n",
    "        if self.name not in Library.__inventory:\n",
    "            Library.__inventory[self.name] = self.isbn\n",
    "            return f'{self.name} has been successfully added in the library'\n",
    "        else:\n",
    "            raise Exception('Book Already Exists in our Inventory !!')\n",
    "        \n",
    "    def remove_book(self):\n",
    "        if self.name not in Library.__inventory:\n",
    "            raise Exception('This book is not availaible, consider adding it first by calling add_book method')\n",
    "        else:\n",
    "            Library.__inventory.pop(self.name)\n",
    "            return f'{self.name} has been successfully removed from the library'\n",
    "    \n",
    "    def register(self,bname):\n",
    "        try:\n",
    "            choice = int(input('Do you have your ID (1-Yes,0-No): '))\n",
    "        except TypeError as e:\n",
    "            raise Exception('Please enter a valid id')\n",
    "        else:\n",
    "            if choice == 1:\n",
    "                try:\n",
    "                    detail = int(input('Please enter your ID: '))\n",
    "                except TypeError as e:\n",
    "                    raise Exception('Please enter a valid id of 6 digit only')\n",
    "                else:\n",
    "                    if len(str(detail)) == 6:\n",
    "                        if detail in Library.__borrower:\n",
    "                            raise Exception('You are already registred !!')\n",
    "                        else:\n",
    "                            i_d = random.randint(100000,200000)\n",
    "                            Library.__borrower[i_d] = bname\n",
    "                            return f'Registration Successfull, your id is {i_d}'   \n",
    "                    else:\n",
    "                        raise Exception('Please enter a 6 digit id only !!')\n",
    "            else:\n",
    "                i_d = random.randint(100000,200000)\n",
    "                Library.__borrower[i_d] = bname\n",
    "                return f'Registration Successfull, your id is {i_d}'\n",
    "            \n",
    "            \n",
    "    def borrow(self,name,uid):\n",
    "        if uid in Library.__borrower:\n",
    "            if Library.__limit:\n",
    "                if not Library.__limit[uid] > 5:\n",
    "                    try:\n",
    "                        book = int(input('Enter the ISBN number of the book: '))\n",
    "                    except TypeError:\n",
    "                        raise Exception('ISBN Value is not correct !!')\n",
    "                    else:\n",
    "                        if book in Library.__inventory.values():\n",
    "                            for isbn,book_name in self.__inventory.items():\n",
    "                                if isbn == book:\n",
    "                                    Library.__limit[uid] += 1\n",
    "                                    return f'Hey {name}, You have borrowed {book_name} from our library'\n",
    "                        else:\n",
    "                            raise Exception('This book is not availaible !!')\n",
    "                else:\n",
    "                    raise Exception(f'Hey {name} you have already excedded the availaible limit of borrowing !!')\n",
    "            else:\n",
    "                try:\n",
    "                    book = int(input('Enter the ISBN number of the book: '))\n",
    "                except TypeError:\n",
    "                    raise Exception('ISBN Value is not correct !!')\n",
    "                else:\n",
    "                    if book in Library.__inventory.values():\n",
    "                        for isbn,book_name in self.__inventory.items():\n",
    "                            if isbn == book:\n",
    "                                Library.__limit[uid] += 1\n",
    "                                Library.__inventory.pop(name)\n",
    "                                print(f'Hey {name}, You have borrowed {book_name} from our library')\n",
    "                    else:\n",
    "                        raise Exception('This book is not availaible !!')          \n",
    "        else:\n",
    "            raise Exception('You are not registered, consider registering to avail this facility !!')"
   ]
  },
  {
   "cell_type": "code",
   "execution_count": null,
   "metadata": {},
   "outputs": [],
   "source": [
    "# d = {}\n",
    "# d['a'] =1"
   ]
  },
  {
   "cell_type": "code",
   "execution_count": null,
   "metadata": {},
   "outputs": [],
   "source": []
  },
  {
   "cell_type": "code",
   "execution_count": null,
   "metadata": {},
   "outputs": [],
   "source": []
  },
  {
   "cell_type": "code",
   "execution_count": 103,
   "metadata": {},
   "outputs": [],
   "source": [
    "u1 = Library('Einstein',2345)"
   ]
  },
  {
   "cell_type": "code",
   "execution_count": 104,
   "metadata": {},
   "outputs": [
    {
     "data": {
      "text/plain": [
       "'Einstein has been successfully added in the library'"
      ]
     },
     "execution_count": 104,
     "metadata": {},
     "output_type": "execute_result"
    }
   ],
   "source": [
    "u1.add_book()"
   ]
  },
  {
   "cell_type": "code",
   "execution_count": 107,
   "metadata": {},
   "outputs": [
    {
     "data": {
      "text/plain": [
       "'Registration Successfull, your id is 187224'"
      ]
     },
     "execution_count": 107,
     "metadata": {},
     "output_type": "execute_result"
    }
   ],
   "source": [
    "u1.register('Gourav')"
   ]
  },
  {
   "cell_type": "code",
   "execution_count": 118,
   "metadata": {},
   "outputs": [],
   "source": [
    "u1.borrow('Einstein',187224)"
   ]
  },
  {
   "cell_type": "code",
   "execution_count": 97,
   "metadata": {},
   "outputs": [
    {
     "data": {
      "text/plain": [
       "'Registration Successfull, your id is 143181'"
      ]
     },
     "execution_count": 97,
     "metadata": {},
     "output_type": "execute_result"
    }
   ],
   "source": [
    "u1.register('Gourav')"
   ]
  },
  {
   "cell_type": "code",
   "execution_count": 101,
   "metadata": {},
   "outputs": [],
   "source": [
    "u1.borrow('Gourav',143181)"
   ]
  },
  {
   "cell_type": "code",
   "execution_count": 100,
   "metadata": {},
   "outputs": [
    {
     "data": {
      "text/plain": [
       "'Einstein has been successfully added in the library'"
      ]
     },
     "execution_count": 100,
     "metadata": {},
     "output_type": "execute_result"
    }
   ],
   "source": [
    "u1.add_book()"
   ]
  },
  {
   "cell_type": "code",
   "execution_count": null,
   "metadata": {},
   "outputs": [],
   "source": []
  }
 ],
 "metadata": {
  "kernelspec": {
   "display_name": "Netmax_Ml",
   "language": "python",
   "name": "python3"
  },
  "language_info": {
   "codemirror_mode": {
    "name": "ipython",
    "version": 3
   },
   "file_extension": ".py",
   "mimetype": "text/x-python",
   "name": "python",
   "nbconvert_exporter": "python",
   "pygments_lexer": "ipython3",
   "version": "3.10.15"
  }
 },
 "nbformat": 4,
 "nbformat_minor": 2
}
