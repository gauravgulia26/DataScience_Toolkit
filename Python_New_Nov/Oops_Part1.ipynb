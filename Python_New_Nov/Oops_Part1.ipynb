{
 "cells": [
  {
   "cell_type": "code",
   "execution_count": 1,
   "metadata": {},
   "outputs": [],
   "source": [
    "# OOPS -> Object Oriented Programming System"
   ]
  },
  {
   "cell_type": "code",
   "execution_count": 2,
   "metadata": {},
   "outputs": [],
   "source": [
    "# Procedural Programing -> If - Else\n",
    "# Functinal Programing -> Functions\n",
    "# OOPS -> Classes, Objects"
   ]
  },
  {
   "cell_type": "code",
   "execution_count": 4,
   "metadata": {},
   "outputs": [],
   "source": [
    "# Classes -> Blueprint of your code (Template)\n",
    "# Objects -> Instance of Class (Copy of the class) (They will have all the Attributes of class)"
   ]
  },
  {
   "cell_type": "code",
   "execution_count": 47,
   "metadata": {},
   "outputs": [],
   "source": [
    "# This is a Class (Parents is Class Name)\n",
    "class Parents:\n",
    "    # Class Level Attributes\n",
    "    height = '6 Ft'\n",
    "    Weight = 80\n",
    "    nationality = 'Indian'\n",
    "    city = 'Chandigarh'\n",
    "    state = 'Punjab'\n",
    "    \n",
    "    \n",
    "# This is a Class (Parents_2 is Class Name)\n",
    "class Parents_2:\n",
    "    # Class Level Attributes\n",
    "    height = '6 Ft'\n",
    "    Weight = 80\n",
    "    name = 'Gourav'"
   ]
  },
  {
   "cell_type": "code",
   "execution_count": 48,
   "metadata": {},
   "outputs": [],
   "source": [
    "c1 = Parents()\n",
    "c2 = Parents_2()\n",
    "c3 = Parents()"
   ]
  },
  {
   "cell_type": "code",
   "execution_count": 49,
   "metadata": {},
   "outputs": [],
   "source": [
    "# Updating the attributes\n",
    "c1.Weight = 90"
   ]
  },
  {
   "cell_type": "code",
   "execution_count": 51,
   "metadata": {},
   "outputs": [
    {
     "data": {
      "text/plain": [
       "90"
      ]
     },
     "execution_count": 51,
     "metadata": {},
     "output_type": "execute_result"
    }
   ],
   "source": [
    "c1.Weight"
   ]
  },
  {
   "cell_type": "code",
   "execution_count": 52,
   "metadata": {},
   "outputs": [
    {
     "data": {
      "text/plain": [
       "80"
      ]
     },
     "execution_count": 52,
     "metadata": {},
     "output_type": "execute_result"
    }
   ],
   "source": [
    "c4 = Parents()\n",
    "c4.Weight"
   ]
  },
  {
   "cell_type": "code",
   "execution_count": 53,
   "metadata": {},
   "outputs": [],
   "source": [
    "# You can update class level attributes using object but for that object only.\n",
    "# Class level attributes can't be overwrite by objects"
   ]
  },
  {
   "cell_type": "code",
   "execution_count": 55,
   "metadata": {},
   "outputs": [],
   "source": [
    "Parents.Weight = 100"
   ]
  },
  {
   "cell_type": "code",
   "execution_count": 56,
   "metadata": {},
   "outputs": [],
   "source": [
    "c5 = Parents()"
   ]
  },
  {
   "cell_type": "code",
   "execution_count": 57,
   "metadata": {},
   "outputs": [
    {
     "data": {
      "text/plain": [
       "100"
      ]
     },
     "execution_count": 57,
     "metadata": {},
     "output_type": "execute_result"
    }
   ],
   "source": [
    "c5.Weight"
   ]
  },
  {
   "cell_type": "code",
   "execution_count": null,
   "metadata": {},
   "outputs": [],
   "source": [
    "# To change the class level attribute, you can change this using class to overwrite, new instances will have \n",
    "# updated value\n",
    "\n",
    "# To change the class level attribute, you can also change this using instance to update but the value will be \n",
    "# updated for that object only not for the whole class"
   ]
  },
  {
   "cell_type": "code",
   "execution_count": 43,
   "metadata": {},
   "outputs": [],
   "source": [
    "# Object\n",
    "Children_1 = Parents()"
   ]
  },
  {
   "cell_type": "code",
   "execution_count": 44,
   "metadata": {},
   "outputs": [
    {
     "data": {
      "text/plain": [
       "'Punjab'"
      ]
     },
     "execution_count": 44,
     "metadata": {},
     "output_type": "execute_result"
    }
   ],
   "source": [
    "Children_1.state"
   ]
  },
  {
   "cell_type": "code",
   "execution_count": 15,
   "metadata": {},
   "outputs": [
    {
     "data": {
      "text/plain": [
       "80"
      ]
     },
     "execution_count": 15,
     "metadata": {},
     "output_type": "execute_result"
    }
   ],
   "source": [
    "Children_1.Weight"
   ]
  },
  {
   "cell_type": "code",
   "execution_count": 16,
   "metadata": {},
   "outputs": [],
   "source": [
    "# Object number 2\n",
    "children_2 = Parents()"
   ]
  },
  {
   "cell_type": "code",
   "execution_count": 20,
   "metadata": {},
   "outputs": [],
   "source": [
    "children_3 = Parents()"
   ]
  },
  {
   "cell_type": "code",
   "execution_count": 22,
   "metadata": {},
   "outputs": [
    {
     "data": {
      "text/plain": [
       "80"
      ]
     },
     "execution_count": 22,
     "metadata": {},
     "output_type": "execute_result"
    }
   ],
   "source": [
    "children_3.Weight"
   ]
  },
  {
   "cell_type": "code",
   "execution_count": 58,
   "metadata": {},
   "outputs": [],
   "source": [
    "# children_3.__dir__()"
   ]
  },
  {
   "cell_type": "code",
   "execution_count": 1,
   "metadata": {},
   "outputs": [],
   "source": [
    "# OOPS"
   ]
  },
  {
   "cell_type": "code",
   "execution_count": 2,
   "metadata": {},
   "outputs": [],
   "source": [
    "# Classes and Objects"
   ]
  },
  {
   "cell_type": "code",
   "execution_count": 3,
   "metadata": {},
   "outputs": [],
   "source": [
    "# Classes -> Blueprint of your code\n",
    "# objects -> instance of class"
   ]
  },
  {
   "cell_type": "code",
   "execution_count": 4,
   "metadata": {},
   "outputs": [],
   "source": [
    "class Student:\n",
    "    # Attributes\n",
    "    # Class Level Attributes\n",
    "    weight = 200\n",
    "    height = 100"
   ]
  },
  {
   "cell_type": "code",
   "execution_count": 5,
   "metadata": {},
   "outputs": [],
   "source": [
    "# Creating a object\n",
    "\n",
    "arnav = Student()"
   ]
  },
  {
   "cell_type": "code",
   "execution_count": 9,
   "metadata": {},
   "outputs": [],
   "source": [
    "arnav.weight = 120"
   ]
  },
  {
   "cell_type": "code",
   "execution_count": 11,
   "metadata": {},
   "outputs": [
    {
     "data": {
      "text/plain": [
       "120"
      ]
     },
     "execution_count": 11,
     "metadata": {},
     "output_type": "execute_result"
    }
   ],
   "source": [
    "arnav.weight"
   ]
  },
  {
   "cell_type": "code",
   "execution_count": 12,
   "metadata": {},
   "outputs": [
    {
     "data": {
      "text/plain": [
       "200"
      ]
     },
     "execution_count": 12,
     "metadata": {},
     "output_type": "execute_result"
    }
   ],
   "source": [
    "naman = Student()\n",
    "naman.weight"
   ]
  },
  {
   "cell_type": "code",
   "execution_count": 13,
   "metadata": {},
   "outputs": [],
   "source": [
    "Student.weight = 45"
   ]
  },
  {
   "cell_type": "code",
   "execution_count": 14,
   "metadata": {},
   "outputs": [],
   "source": [
    "arnav = Student()"
   ]
  },
  {
   "cell_type": "code",
   "execution_count": 15,
   "metadata": {},
   "outputs": [
    {
     "data": {
      "text/plain": [
       "45"
      ]
     },
     "execution_count": 15,
     "metadata": {},
     "output_type": "execute_result"
    }
   ],
   "source": [
    "arnav.weight"
   ]
  },
  {
   "cell_type": "code",
   "execution_count": 16,
   "metadata": {},
   "outputs": [
    {
     "data": {
      "text/plain": [
       "45"
      ]
     },
     "execution_count": 16,
     "metadata": {},
     "output_type": "execute_result"
    }
   ],
   "source": [
    "naman = Student()\n",
    "naman.weight"
   ]
  },
  {
   "cell_type": "code",
   "execution_count": 18,
   "metadata": {},
   "outputs": [],
   "source": [
    "# Constructor and methods"
   ]
  },
  {
   "cell_type": "code",
   "execution_count": 43,
   "metadata": {},
   "outputs": [],
   "source": [
    "class Student:\n",
    "    # Attributes\n",
    "    # Class Level Attributes\n",
    "    # Global Scope\n",
    "    weight = 200\n",
    "    height = 100\n",
    "\n",
    "    def __init__(self, marks, name):\n",
    "        # object level attributes\n",
    "        # local scope\n",
    "        self.marks = marks\n",
    "        self.name = name\n",
    "        # runs everytime you insaniate a object\n",
    "        pass"
   ]
  },
  {
   "cell_type": "code",
   "execution_count": 44,
   "metadata": {},
   "outputs": [],
   "source": [
    "# obj1 = Student()\n",
    "# obj2 = Student()\n",
    "obj3 = Student(10, \"naman\")"
   ]
  },
  {
   "cell_type": "code",
   "execution_count": 45,
   "metadata": {},
   "outputs": [],
   "source": [
    "obj3.marks = 30"
   ]
  },
  {
   "cell_type": "code",
   "execution_count": 47,
   "metadata": {},
   "outputs": [
    {
     "data": {
      "text/plain": [
       "30"
      ]
     },
     "execution_count": 47,
     "metadata": {},
     "output_type": "execute_result"
    }
   ],
   "source": [
    "obj3.marks"
   ]
  },
  {
   "cell_type": "code",
   "execution_count": 48,
   "metadata": {},
   "outputs": [],
   "source": [
    "# Methods (Function inside a class)\n",
    "# Attributes (Varibale inside the class)\n",
    "class Student:\n",
    "    # Attributes\n",
    "    # Class Level Attributes\n",
    "    # Global Scope\n",
    "    weight = 200\n",
    "    height = 100\n",
    "\n",
    "    def __init__(self, marks, name):\n",
    "        if isinstance(marks, list):\n",
    "            # object level attributes\n",
    "            # local scope\n",
    "            self.marks = marks\n",
    "            self.name = name\n",
    "        else:\n",
    "            raise TypeError(\"Marks Should be a list only !!\")\n",
    "\n",
    "    def status(self):\n",
    "        return sum(self.marks)"
   ]
  },
  {
   "cell_type": "code",
   "execution_count": 50,
   "metadata": {},
   "outputs": [],
   "source": [
    "try:\n",
    "    obj1 = Student([23, 22], \"naman\")\n",
    "except TypeError as e:\n",
    "    print(e)"
   ]
  },
  {
   "cell_type": "code",
   "execution_count": 52,
   "metadata": {},
   "outputs": [
    {
     "data": {
      "text/plain": [
       "45"
      ]
     },
     "execution_count": 52,
     "metadata": {},
     "output_type": "execute_result"
    }
   ],
   "source": [
    "obj1.status()"
   ]
  },
  {
   "cell_type": "code",
   "execution_count": 102,
   "metadata": {},
   "outputs": [],
   "source": [
    "# Methods (Function inside a class)\n",
    "# Attributes (Varibale inside the class)\n",
    "class Student:\n",
    "    # Attributes\n",
    "    # Class Level Attributes\n",
    "    # Global Scope\n",
    "    # This is a private attribute\n",
    "    __weight = 200\n",
    "    __height = 100\n",
    "\n",
    "    def __init__(self, marks, name):\n",
    "        if isinstance(marks, list):\n",
    "            if len(marks) == 5:\n",
    "                # object level attributes\n",
    "                # local scope\n",
    "                self.__city = \"Chandigarh\"\n",
    "                self.marks = marks\n",
    "                self.name = name\n",
    "            else:\n",
    "                raise TypeError(\"Enter the marks of all five subjects\")\n",
    "        else:\n",
    "            raise TypeError(\"Marks Should be a list only !!\")\n",
    "\n",
    "    def status(self):\n",
    "        return sum(self.marks)\n",
    "\n",
    "    def percentage(self):\n",
    "        return f\"Hey {self.name} You have got {sum(self.marks) / 5} %\"\n",
    "\n",
    "    def grade(self):\n",
    "        prct = sum(self.marks) / 5\n",
    "        if prct >= 90:\n",
    "            return f\"Hey {self.name} You have got A Grade !!\"\n",
    "        elif prct < 90 and prct > 80:\n",
    "            return f\"Hey {self.name} You have got B Grade !!\"\n",
    "        else:\n",
    "            raise ValueError(f\"Hey {self.name} you have failed !!\")"
   ]
  },
  {
   "cell_type": "code",
   "execution_count": 103,
   "metadata": {},
   "outputs": [],
   "source": [
    "try:\n",
    "    obj1 = Student([100, 100, 94, 95, 97], \"naman\")\n",
    "except TypeError as e:\n",
    "    print(e)"
   ]
  },
  {
   "cell_type": "code",
   "execution_count": 104,
   "metadata": {},
   "outputs": [
    {
     "data": {
      "text/plain": [
       "486"
      ]
     },
     "execution_count": 104,
     "metadata": {},
     "output_type": "execute_result"
    }
   ],
   "source": [
    "obj1.status()"
   ]
  },
  {
   "cell_type": "code",
   "execution_count": 81,
   "metadata": {},
   "outputs": [
    {
     "name": "stdout",
     "output_type": "stream",
     "text": [
      "Hey naman You have got A Grade !!\n"
     ]
    }
   ],
   "source": [
    "try:\n",
    "    print(obj1.grade())\n",
    "except Exception as e:\n",
    "    print(e)"
   ]
  },
  {
   "cell_type": "code",
   "execution_count": null,
   "metadata": {},
   "outputs": [],
   "source": []
  },
  {
   "cell_type": "code",
   "execution_count": null,
   "metadata": {},
   "outputs": [],
   "source": []
  }
 ],
 "metadata": {
  "kernelspec": {
   "display_name": "Netmax_Ml",
   "language": "python",
   "name": "python3"
  },
  "language_info": {
   "codemirror_mode": {
    "name": "ipython",
    "version": 3
   },
   "file_extension": ".py",
   "mimetype": "text/x-python",
   "name": "python",
   "nbconvert_exporter": "python",
   "pygments_lexer": "ipython3",
   "version": "3.10.15"
  }
 },
 "nbformat": 4,
 "nbformat_minor": 2
}
