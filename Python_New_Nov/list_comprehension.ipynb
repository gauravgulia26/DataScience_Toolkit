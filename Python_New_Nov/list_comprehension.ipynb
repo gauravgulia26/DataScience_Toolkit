{
 "cells": [
  {
   "cell_type": "code",
   "execution_count": 1,
   "id": "11f5e2d0-9235-4bb2-8af0-7f20e889d490",
   "metadata": {},
   "outputs": [],
   "source": [
    "# list comprehension"
   ]
  },
  {
   "cell_type": "code",
   "execution_count": 18,
   "id": "e473e4c7-9f16-43d1-8002-2c9f3041f508",
   "metadata": {},
   "outputs": [],
   "source": [
    "i  = []\n",
    "for i in range(1,100):\n",
    "    a.append(i)"
   ]
  },
  {
   "cell_type": "code",
   "execution_count": 19,
   "id": "c4904c77-8a4b-4b8e-ad38-1afbd71d9a40",
   "metadata": {},
   "outputs": [
    {
     "data": {
      "text/plain": [
       "99"
      ]
     },
     "execution_count": 19,
     "metadata": {},
     "output_type": "execute_result"
    }
   ],
   "source": []
  },
  {
   "cell_type": "code",
   "execution_count": 4,
   "id": "51169709-4b33-4864-ace7-51669a34e0ed",
   "metadata": {},
   "outputs": [],
   "source": [
    "# loops"
   ]
  },
  {
   "cell_type": "code",
   "execution_count": 12,
   "id": "66f52017-7161-4a7b-b751-02aa5b6a5af6",
   "metadata": {},
   "outputs": [],
   "source": [
    "# for loop\n",
    "del i"
   ]
  },
  {
   "cell_type": "code",
   "execution_count": 25,
   "id": "76d82709-5adc-4813-b461-83d73a6d4eb6",
   "metadata": {},
   "outputs": [],
   "source": [
    "a = [i+10 for i in range(1,100)]"
   ]
  },
  {
   "cell_type": "code",
   "execution_count": 31,
   "id": "8cfa551d-297f-4305-bb3e-64ee41199259",
   "metadata": {},
   "outputs": [],
   "source": [
    "a = ['Hello','World','Hey']"
   ]
  },
  {
   "cell_type": "code",
   "execution_count": 42,
   "id": "9d876d0f-1c0b-45d6-93ba-be07bc1acf23",
   "metadata": {},
   "outputs": [
    {
     "data": {
      "text/plain": [
       "['this is HelloHello', 'this is WorldWorld', 'this is HeyHey']"
      ]
     },
     "execution_count": 42,
     "metadata": {},
     "output_type": "execute_result"
    }
   ],
   "source": [
    "[f'this is {i*2}' for i in a]"
   ]
  },
  {
   "cell_type": "code",
   "execution_count": 47,
   "id": "c0f9858e-fe7e-4c8f-91ee-2e92e58227b0",
   "metadata": {},
   "outputs": [],
   "source": [
    "# for i in range(1,5):\n",
    "#     for j in range(1,5):\n",
    "#         for k in range(1,5):\n",
    "#             print(i)\n",
    "#         print('*'*10)\n",
    "#         print(j)\n",
    "#     print('#'*10)\n",
    "#     print(k)"
   ]
  },
  {
   "cell_type": "code",
   "execution_count": 48,
   "id": "280ce7e3-fd3d-4cec-aa8f-40788bbc6505",
   "metadata": {},
   "outputs": [],
   "source": [
    "a = (1,2,3,4)"
   ]
  },
  {
   "cell_type": "code",
   "execution_count": 53,
   "id": "b81c589c-2061-4160-a26e-38b9e28f16f5",
   "metadata": {},
   "outputs": [],
   "source": [
    "# write a python program to print square of numbers from 30 - 60.\n",
    "# for loop\n",
    "# list comprehension"
   ]
  },
  {
   "cell_type": "code",
   "execution_count": 59,
   "id": "a4a42efb-35d1-44aa-bd89-f60cd89c1497",
   "metadata": {},
   "outputs": [],
   "source": [
    "# write a python to print tables upto 20.\n",
    "# format 10 * 2 = 20"
   ]
  },
  {
   "cell_type": "code",
   "execution_count": 63,
   "id": "037d6686-4a26-44d7-8871-2b5f969617ec",
   "metadata": {},
   "outputs": [
    {
     "name": "stdout",
     "output_type": "stream",
     "text": [
      "1 * 1 = 1\n",
      "1 * 2 = 2\n",
      "1 * 3 = 3\n",
      "1 * 4 = 4\n",
      "1 * 5 = 5\n",
      "1 * 6 = 6\n",
      "1 * 7 = 7\n",
      "1 * 8 = 8\n",
      "1 * 9 = 9\n",
      "1 * 10 = 10\n",
      "\n",
      "\n",
      "2 * 1 = 2\n",
      "2 * 2 = 4\n",
      "2 * 3 = 6\n",
      "2 * 4 = 8\n",
      "2 * 5 = 10\n",
      "2 * 6 = 12\n",
      "2 * 7 = 14\n",
      "2 * 8 = 16\n",
      "2 * 9 = 18\n",
      "2 * 10 = 20\n",
      "\n",
      "\n",
      "3 * 1 = 3\n",
      "3 * 2 = 6\n",
      "3 * 3 = 9\n",
      "3 * 4 = 12\n",
      "3 * 5 = 15\n",
      "3 * 6 = 18\n",
      "3 * 7 = 21\n",
      "3 * 8 = 24\n",
      "3 * 9 = 27\n",
      "3 * 10 = 30\n",
      "\n",
      "\n",
      "4 * 1 = 4\n",
      "4 * 2 = 8\n",
      "4 * 3 = 12\n",
      "4 * 4 = 16\n",
      "4 * 5 = 20\n",
      "4 * 6 = 24\n",
      "4 * 7 = 28\n",
      "4 * 8 = 32\n",
      "4 * 9 = 36\n",
      "4 * 10 = 40\n",
      "\n",
      "\n",
      "5 * 1 = 5\n",
      "5 * 2 = 10\n",
      "5 * 3 = 15\n",
      "5 * 4 = 20\n",
      "5 * 5 = 25\n",
      "5 * 6 = 30\n",
      "5 * 7 = 35\n",
      "5 * 8 = 40\n",
      "5 * 9 = 45\n",
      "5 * 10 = 50\n",
      "\n",
      "\n",
      "6 * 1 = 6\n",
      "6 * 2 = 12\n",
      "6 * 3 = 18\n",
      "6 * 4 = 24\n",
      "6 * 5 = 30\n",
      "6 * 6 = 36\n",
      "6 * 7 = 42\n",
      "6 * 8 = 48\n",
      "6 * 9 = 54\n",
      "6 * 10 = 60\n",
      "\n",
      "\n",
      "7 * 1 = 7\n",
      "7 * 2 = 14\n",
      "7 * 3 = 21\n",
      "7 * 4 = 28\n",
      "7 * 5 = 35\n",
      "7 * 6 = 42\n",
      "7 * 7 = 49\n",
      "7 * 8 = 56\n",
      "7 * 9 = 63\n",
      "7 * 10 = 70\n",
      "\n",
      "\n",
      "8 * 1 = 8\n",
      "8 * 2 = 16\n",
      "8 * 3 = 24\n",
      "8 * 4 = 32\n",
      "8 * 5 = 40\n",
      "8 * 6 = 48\n",
      "8 * 7 = 56\n",
      "8 * 8 = 64\n",
      "8 * 9 = 72\n",
      "8 * 10 = 80\n",
      "\n",
      "\n",
      "9 * 1 = 9\n",
      "9 * 2 = 18\n",
      "9 * 3 = 27\n",
      "9 * 4 = 36\n",
      "9 * 5 = 45\n",
      "9 * 6 = 54\n",
      "9 * 7 = 63\n",
      "9 * 8 = 72\n",
      "9 * 9 = 81\n",
      "9 * 10 = 90\n",
      "\n",
      "\n",
      "10 * 1 = 10\n",
      "10 * 2 = 20\n",
      "10 * 3 = 30\n",
      "10 * 4 = 40\n",
      "10 * 5 = 50\n",
      "10 * 6 = 60\n",
      "10 * 7 = 70\n",
      "10 * 8 = 80\n",
      "10 * 9 = 90\n",
      "10 * 10 = 100\n",
      "\n",
      "\n",
      "11 * 1 = 11\n",
      "11 * 2 = 22\n",
      "11 * 3 = 33\n",
      "11 * 4 = 44\n",
      "11 * 5 = 55\n",
      "11 * 6 = 66\n",
      "11 * 7 = 77\n",
      "11 * 8 = 88\n",
      "11 * 9 = 99\n",
      "11 * 10 = 110\n",
      "\n",
      "\n",
      "12 * 1 = 12\n",
      "12 * 2 = 24\n",
      "12 * 3 = 36\n",
      "12 * 4 = 48\n",
      "12 * 5 = 60\n",
      "12 * 6 = 72\n",
      "12 * 7 = 84\n",
      "12 * 8 = 96\n",
      "12 * 9 = 108\n",
      "12 * 10 = 120\n",
      "\n",
      "\n",
      "13 * 1 = 13\n",
      "13 * 2 = 26\n",
      "13 * 3 = 39\n",
      "13 * 4 = 52\n",
      "13 * 5 = 65\n",
      "13 * 6 = 78\n",
      "13 * 7 = 91\n",
      "13 * 8 = 104\n",
      "13 * 9 = 117\n",
      "13 * 10 = 130\n",
      "\n",
      "\n",
      "14 * 1 = 14\n",
      "14 * 2 = 28\n",
      "14 * 3 = 42\n",
      "14 * 4 = 56\n",
      "14 * 5 = 70\n",
      "14 * 6 = 84\n",
      "14 * 7 = 98\n",
      "14 * 8 = 112\n",
      "14 * 9 = 126\n",
      "14 * 10 = 140\n",
      "\n",
      "\n",
      "15 * 1 = 15\n",
      "15 * 2 = 30\n",
      "15 * 3 = 45\n",
      "15 * 4 = 60\n",
      "15 * 5 = 75\n",
      "15 * 6 = 90\n",
      "15 * 7 = 105\n",
      "15 * 8 = 120\n",
      "15 * 9 = 135\n",
      "15 * 10 = 150\n",
      "\n",
      "\n",
      "16 * 1 = 16\n",
      "16 * 2 = 32\n",
      "16 * 3 = 48\n",
      "16 * 4 = 64\n",
      "16 * 5 = 80\n",
      "16 * 6 = 96\n",
      "16 * 7 = 112\n",
      "16 * 8 = 128\n",
      "16 * 9 = 144\n",
      "16 * 10 = 160\n",
      "\n",
      "\n",
      "17 * 1 = 17\n",
      "17 * 2 = 34\n",
      "17 * 3 = 51\n",
      "17 * 4 = 68\n",
      "17 * 5 = 85\n",
      "17 * 6 = 102\n",
      "17 * 7 = 119\n",
      "17 * 8 = 136\n",
      "17 * 9 = 153\n",
      "17 * 10 = 170\n",
      "\n",
      "\n",
      "18 * 1 = 18\n",
      "18 * 2 = 36\n",
      "18 * 3 = 54\n",
      "18 * 4 = 72\n",
      "18 * 5 = 90\n",
      "18 * 6 = 108\n",
      "18 * 7 = 126\n",
      "18 * 8 = 144\n",
      "18 * 9 = 162\n",
      "18 * 10 = 180\n",
      "\n",
      "\n",
      "19 * 1 = 19\n",
      "19 * 2 = 38\n",
      "19 * 3 = 57\n",
      "19 * 4 = 76\n",
      "19 * 5 = 95\n",
      "19 * 6 = 114\n",
      "19 * 7 = 133\n",
      "19 * 8 = 152\n",
      "19 * 9 = 171\n",
      "19 * 10 = 190\n",
      "\n",
      "\n",
      "20 * 1 = 20\n",
      "20 * 2 = 40\n",
      "20 * 3 = 60\n",
      "20 * 4 = 80\n",
      "20 * 5 = 100\n",
      "20 * 6 = 120\n",
      "20 * 7 = 140\n",
      "20 * 8 = 160\n",
      "20 * 9 = 180\n",
      "20 * 10 = 200\n",
      "\n",
      "\n"
     ]
    }
   ],
   "source": [
    "for i in range(1,21):\n",
    "    for j in range(1,11):\n",
    "        print(f'{i} * {j} = {i*j}')\n",
    "        # print(i*j)\n",
    "    print('\\n')"
   ]
  },
  {
   "cell_type": "code",
   "execution_count": 64,
   "id": "b48da1cf-c316-401e-bba1-80fc89938e37",
   "metadata": {},
   "outputs": [],
   "source": [
    "# if else"
   ]
  },
  {
   "cell_type": "code",
   "execution_count": 65,
   "id": "79a9bce8-7726-4933-a589-adeb2cf34ca4",
   "metadata": {},
   "outputs": [
    {
     "name": "stdout",
     "output_type": "stream",
     "text": [
      "Hello\n"
     ]
    }
   ],
   "source": [
    "a = 10\n",
    "if a > 12:\n",
    "    print('Hey')\n",
    "else:\n",
    "    print('Hello')"
   ]
  },
  {
   "cell_type": "code",
   "execution_count": 68,
   "id": "074c3513-0df9-4eda-a4be-7061976be2b2",
   "metadata": {},
   "outputs": [],
   "source": [
    "# [x for x in range(1,100) if x > 50]"
   ]
  },
  {
   "cell_type": "code",
   "execution_count": 70,
   "id": "4b6279d1-0b34-4ce6-b275-b903a51e8b53",
   "metadata": {},
   "outputs": [],
   "source": [
    "# ['Fail' if x > 50 else 'Pass' for x in range(1,100)]"
   ]
  },
  {
   "cell_type": "code",
   "execution_count": 71,
   "id": "317d2b97-d8e9-42ae-9869-2c977a06aa65",
   "metadata": {},
   "outputs": [],
   "source": [
    "# write a list comprehension to print the square root of all the \n",
    "# even numbers and square of all the odd number upto 100."
   ]
  },
  {
   "cell_type": "code",
   "execution_count": 73,
   "id": "58c9e911-98d1-4c13-ab2d-a1c835e552b5",
   "metadata": {},
   "outputs": [
    {
     "data": {
      "text/plain": [
       "4.0"
      ]
     },
     "execution_count": 73,
     "metadata": {},
     "output_type": "execute_result"
    }
   ],
   "source": [
    "16 ** (1/2)"
   ]
  },
  {
   "cell_type": "code",
   "execution_count": 77,
   "id": "f6477515-5b7d-40c9-b209-bf8de8729ebc",
   "metadata": {},
   "outputs": [],
   "source": [
    "# ['Even' if x % 2 == 0 else \"odd\" for x in [x**(1/2) if x % 2 == 0 else x**2 for x in range(101)]]"
   ]
  },
  {
   "cell_type": "code",
   "execution_count": 87,
   "id": "843e93a9-efd6-4e2c-a95e-2abc744a6958",
   "metadata": {},
   "outputs": [
    {
     "name": "stdin",
     "output_type": "stream",
     "text": [
      " 10\n"
     ]
    },
    {
     "name": "stdout",
     "output_type": "stream",
     "text": [
      "Hello\n"
     ]
    }
   ],
   "source": [
    "a = int(input())\n",
    "\n",
    "if a > 10:\n",
    "    print('Hey')\n",
    "elif a == 10:\n",
    "    print('Hello')\n",
    "else:\n",
    "    print('Namaste')"
   ]
  },
  {
   "cell_type": "code",
   "execution_count": 88,
   "id": "836ece8e-b057-4384-9880-d19f349f1776",
   "metadata": {},
   "outputs": [],
   "source": [
    "# Create an Inventory Management System\n",
    "\n",
    "# Create a class Product with attributes name, price, and stock. Add methods:\n",
    "\n",
    "#     buy(quantity) to reduce the stock by the given quantity if available.\n",
    "#     is_in_stock() to check if the product is in stock.\n",
    "\n",
    "# Then create a few Product objects and simulate a purchase scenario.\n",
    "\n"
   ]
  },
  {
   "cell_type": "code",
   "execution_count": 222,
   "id": "308afc7e-14bb-4919-86fd-dbfe0d77a4bd",
   "metadata": {},
   "outputs": [],
   "source": [
    "class Product:\n",
    "    # Class-level inventory\n",
    "    __inventory = {\n",
    "        'Apple': 10,\n",
    "        'Cherry': 20\n",
    "    }\n",
    "\n",
    "    __price = {\n",
    "        'Apple':110,\n",
    "        'Cherry':120\n",
    "    }\n",
    "    def __init__(self, name, price, stock):\n",
    "        self.name = name\n",
    "        self.price = price\n",
    "        self.stock = stock\n",
    "\n",
    "\n",
    "    def __str__(self):\n",
    "        return 'This is a Inventory Management System'\n",
    "\n",
    "    def buy(self):\n",
    "        # Accessing class-level inventory using Product.inventory\n",
    "        if self.name in Product.__inventory:\n",
    "            if Product.__inventory[self.name] >= self.stock:\n",
    "                Product.__inventory[self.name] -= self.stock\n",
    "                return 'Item Bought !! You can proceed now !!'\n",
    "            else:\n",
    "                raise Exception(\"Not enough stock available!\")\n",
    "        else:\n",
    "            raise Exception(\"Please check if the item is in stock or not first !! You can't buy an out-of-stock item.\")\n",
    "\n",
    "    def is_in_stock(self):\n",
    "        # Accessing class-level inventory using Product.inventory\n",
    "        if self.name in Product.__inventory:\n",
    "            if self.price < Product.__price[self.name]:\n",
    "                return f'Item is availaible in stock but not at this price, Please pay {Product.__price[self.name] - self.price} More.'\n",
    "            else:\n",
    "                if Product.__inventory[self.name] < self.stock:\n",
    "                    if Product.__inventory[self.name] == 0:\n",
    "                        raise Exception('Out of Stock')\n",
    "                    else:\n",
    "                        return f'The max you can buy is {Product.__inventory[self.name]}'\n",
    "                else:\n",
    "                    return f'Item is available with {Product.__inventory[self.name]} in stock.'\n",
    "        else:\n",
    "            return 'This item is not available.'\n"
   ]
  },
  {
   "cell_type": "code",
   "execution_count": null,
   "id": "5e74753c-7324-4f09-b4ca-52553bbe6147",
   "metadata": {},
   "outputs": [],
   "source": []
  },
  {
   "cell_type": "code",
   "execution_count": 228,
   "id": "710ecdf9-0e4e-41aa-8d87-32c048e2ac15",
   "metadata": {},
   "outputs": [],
   "source": [
    "a1 = Product('Apple',110,8)"
   ]
  },
  {
   "cell_type": "code",
   "execution_count": 229,
   "id": "0c38c02e-546d-4416-b717-dfe5cc132285",
   "metadata": {},
   "outputs": [
    {
     "name": "stdout",
     "output_type": "stream",
     "text": [
      "This is a Inventory Management System\n"
     ]
    }
   ],
   "source": [
    "print(a1)"
   ]
  },
  {
   "cell_type": "code",
   "execution_count": 205,
   "id": "b25b5ad7-e265-4907-8072-bf55023a503c",
   "metadata": {},
   "outputs": [
    {
     "data": {
      "text/plain": [
       "'Item is available with 10 in stock.'"
      ]
     },
     "execution_count": 205,
     "metadata": {},
     "output_type": "execute_result"
    }
   ],
   "source": [
    "a1.is_in_stock()"
   ]
  },
  {
   "cell_type": "code",
   "execution_count": 206,
   "id": "08224fb0-3204-4779-ab2b-d3045e9f2a6b",
   "metadata": {},
   "outputs": [
    {
     "data": {
      "text/plain": [
       "'Item Bought !! You can proceed now !!'"
      ]
     },
     "execution_count": 206,
     "metadata": {},
     "output_type": "execute_result"
    }
   ],
   "source": [
    "a1.buy()"
   ]
  },
  {
   "cell_type": "code",
   "execution_count": 207,
   "id": "a9e1b928-bbcd-4dfd-a1d3-0c0af4e63b40",
   "metadata": {},
   "outputs": [],
   "source": [
    "a2 = Product('Apple',110,2)"
   ]
  },
  {
   "cell_type": "code",
   "execution_count": 208,
   "id": "b2bae346-2ab2-428a-b314-fcf721630b6b",
   "metadata": {},
   "outputs": [
    {
     "data": {
      "text/plain": [
       "'Item is available with 2 in stock.'"
      ]
     },
     "execution_count": 208,
     "metadata": {},
     "output_type": "execute_result"
    }
   ],
   "source": [
    "a2.is_in_stock()"
   ]
  },
  {
   "cell_type": "code",
   "execution_count": 209,
   "id": "e74e271e-cd45-4583-abc5-8b0dc99d3b5f",
   "metadata": {},
   "outputs": [
    {
     "data": {
      "text/plain": [
       "'Item Bought !! You can proceed now !!'"
      ]
     },
     "execution_count": 209,
     "metadata": {},
     "output_type": "execute_result"
    }
   ],
   "source": [
    "a2.buy()"
   ]
  },
  {
   "cell_type": "code",
   "execution_count": 210,
   "id": "ea77e408-49ab-4007-b5c1-31fa03fa4825",
   "metadata": {},
   "outputs": [],
   "source": [
    "a3 = Product('Apple',110,2)"
   ]
  },
  {
   "cell_type": "code",
   "execution_count": 211,
   "id": "d151bcc5-34c8-4544-a344-df8b3fb50fa6",
   "metadata": {},
   "outputs": [
    {
     "ename": "Exception",
     "evalue": "Out of Stock",
     "output_type": "error",
     "traceback": [
      "\u001b[0;31m---------------------------------------------------------------------------\u001b[0m",
      "\u001b[0;31mException\u001b[0m                                 Traceback (most recent call last)",
      "Cell \u001b[0;32mIn[211], line 1\u001b[0m\n\u001b[0;32m----> 1\u001b[0m \u001b[43ma3\u001b[49m\u001b[38;5;241;43m.\u001b[39;49m\u001b[43mis_in_stock\u001b[49m\u001b[43m(\u001b[49m\u001b[43m)\u001b[49m\n",
      "Cell \u001b[0;32mIn[203], line 36\u001b[0m, in \u001b[0;36mProduct.is_in_stock\u001b[0;34m(self)\u001b[0m\n\u001b[1;32m     34\u001b[0m \u001b[38;5;28;01mif\u001b[39;00m Product\u001b[38;5;241m.\u001b[39m__inventory[\u001b[38;5;28mself\u001b[39m\u001b[38;5;241m.\u001b[39mname] \u001b[38;5;241m<\u001b[39m \u001b[38;5;28mself\u001b[39m\u001b[38;5;241m.\u001b[39mstock:\n\u001b[1;32m     35\u001b[0m     \u001b[38;5;28;01mif\u001b[39;00m Product\u001b[38;5;241m.\u001b[39m__inventory[\u001b[38;5;28mself\u001b[39m\u001b[38;5;241m.\u001b[39mname] \u001b[38;5;241m==\u001b[39m \u001b[38;5;241m0\u001b[39m:\n\u001b[0;32m---> 36\u001b[0m         \u001b[38;5;28;01mraise\u001b[39;00m \u001b[38;5;167;01mException\u001b[39;00m(\u001b[38;5;124m'\u001b[39m\u001b[38;5;124mOut of Stock\u001b[39m\u001b[38;5;124m'\u001b[39m)\n\u001b[1;32m     37\u001b[0m     \u001b[38;5;28;01melse\u001b[39;00m:\n\u001b[1;32m     38\u001b[0m         \u001b[38;5;28;01mreturn\u001b[39;00m \u001b[38;5;124mf\u001b[39m\u001b[38;5;124m'\u001b[39m\u001b[38;5;124mThe max you can buy is \u001b[39m\u001b[38;5;132;01m{\u001b[39;00mProduct\u001b[38;5;241m.\u001b[39m__inventory[\u001b[38;5;28mself\u001b[39m\u001b[38;5;241m.\u001b[39mname]\u001b[38;5;132;01m}\u001b[39;00m\u001b[38;5;124m'\u001b[39m\n",
      "\u001b[0;31mException\u001b[0m: Out of Stock"
     ]
    }
   ],
   "source": [
    "a3.is_in_stock()"
   ]
  },
  {
   "cell_type": "code",
   "execution_count": 212,
   "id": "27ee1722-3579-481c-900b-b02bd36376c3",
   "metadata": {},
   "outputs": [
    {
     "ename": "Exception",
     "evalue": "Out of Stock",
     "output_type": "error",
     "traceback": [
      "\u001b[0;31m---------------------------------------------------------------------------\u001b[0m",
      "\u001b[0;31mException\u001b[0m                                 Traceback (most recent call last)",
      "Cell \u001b[0;32mIn[212], line 1\u001b[0m\n\u001b[0;32m----> 1\u001b[0m \u001b[43ma1\u001b[49m\u001b[38;5;241;43m.\u001b[39;49m\u001b[43mis_in_stock\u001b[49m\u001b[43m(\u001b[49m\u001b[43m)\u001b[49m\n",
      "Cell \u001b[0;32mIn[203], line 36\u001b[0m, in \u001b[0;36mProduct.is_in_stock\u001b[0;34m(self)\u001b[0m\n\u001b[1;32m     34\u001b[0m \u001b[38;5;28;01mif\u001b[39;00m Product\u001b[38;5;241m.\u001b[39m__inventory[\u001b[38;5;28mself\u001b[39m\u001b[38;5;241m.\u001b[39mname] \u001b[38;5;241m<\u001b[39m \u001b[38;5;28mself\u001b[39m\u001b[38;5;241m.\u001b[39mstock:\n\u001b[1;32m     35\u001b[0m     \u001b[38;5;28;01mif\u001b[39;00m Product\u001b[38;5;241m.\u001b[39m__inventory[\u001b[38;5;28mself\u001b[39m\u001b[38;5;241m.\u001b[39mname] \u001b[38;5;241m==\u001b[39m \u001b[38;5;241m0\u001b[39m:\n\u001b[0;32m---> 36\u001b[0m         \u001b[38;5;28;01mraise\u001b[39;00m \u001b[38;5;167;01mException\u001b[39;00m(\u001b[38;5;124m'\u001b[39m\u001b[38;5;124mOut of Stock\u001b[39m\u001b[38;5;124m'\u001b[39m)\n\u001b[1;32m     37\u001b[0m     \u001b[38;5;28;01melse\u001b[39;00m:\n\u001b[1;32m     38\u001b[0m         \u001b[38;5;28;01mreturn\u001b[39;00m \u001b[38;5;124mf\u001b[39m\u001b[38;5;124m'\u001b[39m\u001b[38;5;124mThe max you can buy is \u001b[39m\u001b[38;5;132;01m{\u001b[39;00mProduct\u001b[38;5;241m.\u001b[39m__inventory[\u001b[38;5;28mself\u001b[39m\u001b[38;5;241m.\u001b[39mname]\u001b[38;5;132;01m}\u001b[39;00m\u001b[38;5;124m'\u001b[39m\n",
      "\u001b[0;31mException\u001b[0m: Out of Stock"
     ]
    }
   ],
   "source": [
    "a1.is_in_stock()"
   ]
  },
  {
   "cell_type": "code",
   "execution_count": 213,
   "id": "2693043b-8524-4cca-911c-62a988d37697",
   "metadata": {},
   "outputs": [
    {
     "ename": "Exception",
     "evalue": "Not enough stock available!",
     "output_type": "error",
     "traceback": [
      "\u001b[0;31m---------------------------------------------------------------------------\u001b[0m",
      "\u001b[0;31mException\u001b[0m                                 Traceback (most recent call last)",
      "Cell \u001b[0;32mIn[213], line 1\u001b[0m\n\u001b[0;32m----> 1\u001b[0m \u001b[43ma3\u001b[49m\u001b[38;5;241;43m.\u001b[39;49m\u001b[43mbuy\u001b[49m\u001b[43m(\u001b[49m\u001b[43m)\u001b[49m\n",
      "Cell \u001b[0;32mIn[203], line 24\u001b[0m, in \u001b[0;36mProduct.buy\u001b[0;34m(self)\u001b[0m\n\u001b[1;32m     22\u001b[0m         \u001b[38;5;28;01mreturn\u001b[39;00m \u001b[38;5;124m'\u001b[39m\u001b[38;5;124mItem Bought !! You can proceed now !!\u001b[39m\u001b[38;5;124m'\u001b[39m\n\u001b[1;32m     23\u001b[0m     \u001b[38;5;28;01melse\u001b[39;00m:\n\u001b[0;32m---> 24\u001b[0m         \u001b[38;5;28;01mraise\u001b[39;00m \u001b[38;5;167;01mException\u001b[39;00m(\u001b[38;5;124m\"\u001b[39m\u001b[38;5;124mNot enough stock available!\u001b[39m\u001b[38;5;124m\"\u001b[39m)\n\u001b[1;32m     25\u001b[0m \u001b[38;5;28;01melse\u001b[39;00m:\n\u001b[1;32m     26\u001b[0m     \u001b[38;5;28;01mraise\u001b[39;00m \u001b[38;5;167;01mException\u001b[39;00m(\u001b[38;5;124m\"\u001b[39m\u001b[38;5;124mPlease check if the item is in stock or not first !! You can\u001b[39m\u001b[38;5;124m'\u001b[39m\u001b[38;5;124mt buy an out-of-stock item.\u001b[39m\u001b[38;5;124m\"\u001b[39m)\n",
      "\u001b[0;31mException\u001b[0m: Not enough stock available!"
     ]
    }
   ],
   "source": [
    "a3.buy()"
   ]
  },
  {
   "cell_type": "code",
   "execution_count": null,
   "id": "0d8eaea0-81cc-47e2-9cf7-edb711971997",
   "metadata": {},
   "outputs": [],
   "source": []
  }
 ],
 "metadata": {
  "kernelspec": {
   "display_name": "Python 3 (ipykernel)",
   "language": "python",
   "name": "python3"
  },
  "language_info": {
   "codemirror_mode": {
    "name": "ipython",
    "version": 3
   },
   "file_extension": ".py",
   "mimetype": "text/x-python",
   "name": "python",
   "nbconvert_exporter": "python",
   "pygments_lexer": "ipython3",
   "version": "3.12.3"
  }
 },
 "nbformat": 4,
 "nbformat_minor": 5
}
