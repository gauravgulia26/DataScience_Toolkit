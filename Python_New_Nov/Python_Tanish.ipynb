{
 "cells": [
  {
   "cell_type": "code",
   "execution_count": 2,
   "id": "6ab42014-4cab-4295-8046-037e3385094b",
   "metadata": {},
   "outputs": [],
   "source": [
    "# *args and **kwargs"
   ]
  },
  {
   "cell_type": "code",
   "execution_count": 16,
   "id": "f70f63f8-2fb4-4ca8-9d54-26da6d264b54",
   "metadata": {},
   "outputs": [],
   "source": [
    "# *args -> non keyword positonal varibale argument\n",
    "# **kwargs -> Keyword non positional variable argument"
   ]
  },
  {
   "cell_type": "code",
   "execution_count": 13,
   "id": "e8ba0d9d-3606-48b8-8738-ac6e91547a31",
   "metadata": {},
   "outputs": [],
   "source": [
    "def abc(x,y,*z):\n",
    "    return z"
   ]
  },
  {
   "cell_type": "code",
   "execution_count": 14,
   "id": "ccdd5999-8fec-4529-9d4f-cdd9922d72a0",
   "metadata": {},
   "outputs": [
    {
     "data": {
      "text/plain": [
       "(7, 10)"
      ]
     },
     "execution_count": 14,
     "metadata": {},
     "output_type": "execute_result"
    }
   ],
   "source": [
    "abc(9,8,7,10)"
   ]
  },
  {
   "cell_type": "code",
   "execution_count": 40,
   "id": "02ade376-514e-4622-9b04-2de5ba397f3c",
   "metadata": {},
   "outputs": [],
   "source": [
    "def abc(y,k,x=10,*d,**z):\n",
    "    return y,k,x,d,z"
   ]
  },
  {
   "cell_type": "code",
   "execution_count": 58,
   "id": "975695b3-3ea3-4842-baa1-17965fe57789",
   "metadata": {},
   "outputs": [
    {
     "data": {
      "text/plain": [
       "(10, 20, 11, (12, 13), {'name': 'gourav'})"
      ]
     },
     "execution_count": 58,
     "metadata": {},
     "output_type": "execute_result"
    }
   ],
   "source": [
    "abc(10,20,11,12,13,name='gourav')"
   ]
  },
  {
   "cell_type": "code",
   "execution_count": 48,
   "id": "20c48d86-c124-43f2-8798-080d6efcffdb",
   "metadata": {},
   "outputs": [],
   "source": [
    "a = (10,20,30)"
   ]
  },
  {
   "cell_type": "code",
   "execution_count": 54,
   "id": "54ea2d6f-d308-445f-9be2-fe0f4eceded1",
   "metadata": {},
   "outputs": [],
   "source": [
    "x,y,z = a"
   ]
  },
  {
   "cell_type": "code",
   "execution_count": 55,
   "id": "32752b4e-d6f0-4c29-b76d-364a04d2a90c",
   "metadata": {},
   "outputs": [
    {
     "data": {
      "text/plain": [
       "10"
      ]
     },
     "execution_count": 55,
     "metadata": {},
     "output_type": "execute_result"
    }
   ],
   "source": [
    "x"
   ]
  },
  {
   "cell_type": "code",
   "execution_count": 106,
   "id": "8d830e52-f148-4b2b-a7bd-dfeef6c9660c",
   "metadata": {},
   "outputs": [],
   "source": [
    "# write a fx to calculates cube off all the elements\n",
    "def abc(a:list)->list:\n",
    "    \"\"\"\n",
    "    A:This will take a list\n",
    "    output: This fx will give me a list\n",
    "    \"\"\"\n",
    "    return list(map(lambda x:x**3,a))\n",
    "    "
   ]
  },
  {
   "cell_type": "code",
   "execution_count": 104,
   "id": "145d7655-3780-4a3d-a050-a7c3b9bbd328",
   "metadata": {},
   "outputs": [
    {
     "data": {
      "text/plain": [
       "[1728, 27, 64, 216]"
      ]
     },
     "execution_count": 104,
     "metadata": {},
     "output_type": "execute_result"
    }
   ],
   "source": [
    "abc([12,3,4,6])"
   ]
  },
  {
   "cell_type": "code",
   "execution_count": 91,
   "id": "846de501-810d-44d0-ad66-b26678493a3b",
   "metadata": {},
   "outputs": [],
   "source": [
    "d = abc(2,3)"
   ]
  },
  {
   "cell_type": "code",
   "execution_count": 92,
   "id": "4141b263-47e4-4acf-be85-48ff20fae1ff",
   "metadata": {},
   "outputs": [
    {
     "data": {
      "text/plain": [
       "5"
      ]
     },
     "execution_count": 92,
     "metadata": {},
     "output_type": "execute_result"
    }
   ],
   "source": [
    "d"
   ]
  },
  {
   "cell_type": "code",
   "execution_count": 60,
   "id": "59c6a9a0-4534-49ee-89a6-489e564351b0",
   "metadata": {},
   "outputs": [],
   "source": [
    "# abc()"
   ]
  },
  {
   "cell_type": "code",
   "execution_count": 105,
   "id": "eba00478-41fb-40a2-8b6a-82f48b532889",
   "metadata": {},
   "outputs": [],
   "source": [
    "# lambda fx and map"
   ]
  },
  {
   "cell_type": "code",
   "execution_count": null,
   "id": "c83981ef-0672-48cd-973f-ba856b4dcc52",
   "metadata": {},
   "outputs": [],
   "source": [
    "print()"
   ]
  },
  {
   "cell_type": "code",
   "execution_count": 63,
   "id": "99624612-29aa-421c-a30b-d1353392d998",
   "metadata": {},
   "outputs": [],
   "source": [
    "b = lambda x:x+2"
   ]
  },
  {
   "cell_type": "code",
   "execution_count": 66,
   "id": "49381177-2d42-42ad-b4b1-7e01c4091e60",
   "metadata": {},
   "outputs": [
    {
     "data": {
      "text/plain": [
       "int"
      ]
     },
     "execution_count": 66,
     "metadata": {},
     "output_type": "execute_result"
    }
   ],
   "source": [
    "type(b(2))"
   ]
  },
  {
   "cell_type": "code",
   "execution_count": 67,
   "id": "c5d98a7d-a6ad-4370-8127-0bd9965f0059",
   "metadata": {},
   "outputs": [],
   "source": [
    "d = lambda x,y,z:x*y+z"
   ]
  },
  {
   "cell_type": "code",
   "execution_count": 93,
   "id": "6812df48-fdc2-4af1-a38d-43ca3baa4e82",
   "metadata": {},
   "outputs": [
    {
     "ename": "TypeError",
     "evalue": "'int' object is not callable",
     "output_type": "error",
     "traceback": [
      "\u001b[0;31m---------------------------------------------------------------------------\u001b[0m",
      "\u001b[0;31mTypeError\u001b[0m                                 Traceback (most recent call last)",
      "Cell \u001b[0;32mIn[93], line 1\u001b[0m\n\u001b[0;32m----> 1\u001b[0m \u001b[43md\u001b[49m\u001b[43m(\u001b[49m\u001b[38;5;241;43m10\u001b[39;49m\u001b[43m,\u001b[49m\u001b[38;5;241;43m20.0\u001b[39;49m\u001b[43m,\u001b[49m\u001b[38;5;241;43m30\u001b[39;49m\u001b[43m)\u001b[49m\n",
      "\u001b[0;31mTypeError\u001b[0m: 'int' object is not callable"
     ]
    }
   ],
   "source": [
    "d(10,20.0,30)"
   ]
  },
  {
   "cell_type": "code",
   "execution_count": 94,
   "id": "103d5ceb-1bf0-4680-86aa-84c4d344b5c3",
   "metadata": {},
   "outputs": [],
   "source": [
    "# map filter reduce"
   ]
  },
  {
   "cell_type": "code",
   "execution_count": 95,
   "id": "5a2ac9a5-9a4a-4ec5-a534-582df79dc355",
   "metadata": {},
   "outputs": [],
   "source": [
    "# map"
   ]
  },
  {
   "cell_type": "code",
   "execution_count": 98,
   "id": "a1ad272d-fec5-4bf1-b0fd-8d5c89f8b8cd",
   "metadata": {},
   "outputs": [],
   "source": [
    "# map"
   ]
  },
  {
   "cell_type": "code",
   "execution_count": 99,
   "id": "18a13d87-9152-4162-80a9-2e9e3f089b7e",
   "metadata": {},
   "outputs": [],
   "source": [
    "# map(fx,iterable)"
   ]
  },
  {
   "cell_type": "code",
   "execution_count": 102,
   "id": "ad102644-5f22-4893-a94d-9b2ae81b9318",
   "metadata": {},
   "outputs": [
    {
     "data": {
      "text/plain": [
       "[1, 4, 9, 16]"
      ]
     },
     "execution_count": 102,
     "metadata": {},
     "output_type": "execute_result"
    }
   ],
   "source": [
    "list(map(lambda x:x**2,[1,2,3,4]))"
   ]
  },
  {
   "cell_type": "code",
   "execution_count": 107,
   "id": "3833c965-4860-4fcd-928d-0ebeb1b5e163",
   "metadata": {},
   "outputs": [],
   "source": [
    "# reduce"
   ]
  },
  {
   "cell_type": "code",
   "execution_count": 109,
   "id": "7e1882c2-5b3b-45a3-bf08-6e4b97322eb4",
   "metadata": {},
   "outputs": [
    {
     "data": {
      "text/plain": [
       "30"
      ]
     },
     "execution_count": 109,
     "metadata": {},
     "output_type": "execute_result"
    }
   ],
   "source": [
    "from functools import reduce\n",
    "reduce(lambda a,b:a+b,list(map(lambda x:x**2,[1,2,3,4])))"
   ]
  },
  {
   "cell_type": "code",
   "execution_count": 114,
   "id": "8d5d6ad5-53f9-41f3-8374-f3b6d10f741d",
   "metadata": {},
   "outputs": [
    {
     "data": {
      "text/plain": [
       "576"
      ]
     },
     "execution_count": 114,
     "metadata": {},
     "output_type": "execute_result"
    }
   ],
   "source": [
    "from functools import reduce\n",
    "reduce(lambda a,b:a*b,list(map(lambda x:x**2,[1,2,3,4])))"
   ]
  },
  {
   "cell_type": "code",
   "execution_count": 121,
   "id": "0111bf43-f58f-412e-9281-a94e5d255651",
   "metadata": {},
   "outputs": [],
   "source": [
    "# filter"
   ]
  },
  {
   "cell_type": "code",
   "execution_count": 122,
   "id": "316a502a-4afb-43e7-bc86-12a52c6ffadc",
   "metadata": {},
   "outputs": [],
   "source": [
    "x = [1,2,3,4]"
   ]
  },
  {
   "cell_type": "code",
   "execution_count": 131,
   "id": "f9d89beb-e02e-440a-925a-1b59b4a0f155",
   "metadata": {},
   "outputs": [
    {
     "data": {
      "text/plain": [
       "[1, 2, 3, 4]"
      ]
     },
     "execution_count": 131,
     "metadata": {},
     "output_type": "execute_result"
    }
   ],
   "source": []
  },
  {
   "cell_type": "code",
   "execution_count": 139,
   "id": "eda1a089-6e11-42c1-b561-6801b55756e2",
   "metadata": {},
   "outputs": [],
   "source": [
    "def cstm(x):\n",
    "    if x % 2 == 0:\n",
    "        return 'Even'\n",
    "    else:\n",
    "\n",
    "        return 'Odd'"
   ]
  },
  {
   "cell_type": "code",
   "execution_count": 141,
   "id": "6325437e-7cc3-4dfe-bfd2-a098ff14fb7b",
   "metadata": {},
   "outputs": [
    {
     "data": {
      "text/plain": [
       "['Odd', 'Even', 'Odd', 'Even']"
      ]
     },
     "execution_count": 141,
     "metadata": {},
     "output_type": "execute_result"
    }
   ],
   "source": [
    "list(map(cstm,[1,2,3,4]))"
   ]
  },
  {
   "cell_type": "code",
   "execution_count": 143,
   "id": "b2265713-7d2b-4102-acab-760b26761799",
   "metadata": {},
   "outputs": [
    {
     "data": {
      "text/plain": [
       "[1, 2, 3, 4]"
      ]
     },
     "execution_count": 143,
     "metadata": {},
     "output_type": "execute_result"
    }
   ],
   "source": [
    "x"
   ]
  },
  {
   "cell_type": "code",
   "execution_count": 146,
   "id": "f186ec38-a32b-4b43-9f38-dffba257b9ab",
   "metadata": {},
   "outputs": [
    {
     "data": {
      "text/plain": [
       "[3, 4]"
      ]
     },
     "execution_count": 146,
     "metadata": {},
     "output_type": "execute_result"
    }
   ],
   "source": [
    "list(filter(lambda x:x>2,x))"
   ]
  },
  {
   "cell_type": "code",
   "execution_count": 148,
   "id": "45bf5756-aebd-48b1-a6f8-d3b90552932f",
   "metadata": {},
   "outputs": [
    {
     "data": {
      "text/plain": [
       "['Odd', 'Even', 'Odd', 'Even']"
      ]
     },
     "execution_count": 148,
     "metadata": {},
     "output_type": "execute_result"
    }
   ],
   "source": [
    "list(map(cstm,x))"
   ]
  },
  {
   "cell_type": "code",
   "execution_count": 149,
   "id": "084c4ee3-7d1c-411a-9d0b-0df047b3ebf5",
   "metadata": {},
   "outputs": [
    {
     "data": {
      "text/plain": [
       "24"
      ]
     },
     "execution_count": 149,
     "metadata": {},
     "output_type": "execute_result"
    }
   ],
   "source": [
    "reduce(lambda x,y:x*y,x)"
   ]
  }
 ],
 "metadata": {
  "kernelspec": {
   "display_name": "Python 3 (ipykernel)",
   "language": "python",
   "name": "python3"
  },
  "language_info": {
   "codemirror_mode": {
    "name": "ipython",
    "version": 3
   },
   "file_extension": ".py",
   "mimetype": "text/x-python",
   "name": "python",
   "nbconvert_exporter": "python",
   "pygments_lexer": "ipython3",
   "version": "3.12.3"
  }
 },
 "nbformat": 4,
 "nbformat_minor": 5
}
