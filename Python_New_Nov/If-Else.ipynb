{
 "cells": [
  {
   "cell_type": "code",
   "execution_count": 1,
   "id": "fb567fe5-9790-489d-a229-73730dec70cb",
   "metadata": {},
   "outputs": [],
   "source": [
    "# if elif else ladder"
   ]
  },
  {
   "cell_type": "code",
   "execution_count": 2,
   "id": "f2ad579e-6f8e-4627-93c7-6705ae2edb1c",
   "metadata": {},
   "outputs": [
    {
     "name": "stdout",
     "output_type": "stream",
     "text": [
      "Hey\n"
     ]
    }
   ],
   "source": [
    "a = 10\n",
    "if a > 10:\n",
    "    print('Hello')\n",
    "else:\n",
    "    print('Hey')"
   ]
  },
  {
   "cell_type": "code",
   "execution_count": 3,
   "id": "1533643d-d597-4576-aefb-cf35d6ee8a59",
   "metadata": {},
   "outputs": [
    {
     "name": "stdout",
     "output_type": "stream",
     "text": [
      "Equal\n"
     ]
    }
   ],
   "source": [
    "if a > 10:\n",
    "    print('Hello')\n",
    "elif a < 10:\n",
    "    print('Hey')\n",
    "elif a == 10:\n",
    "    print('Equal')\n",
    "else:\n",
    "    print('Hola')"
   ]
  },
  {
   "cell_type": "code",
   "execution_count": 4,
   "id": "4e3c8411-7e14-4011-9dd2-9de9d6b8315b",
   "metadata": {},
   "outputs": [],
   "source": [
    "# nested if else"
   ]
  },
  {
   "cell_type": "code",
   "execution_count": 5,
   "id": "82a944f9-f639-4976-9c2a-dbe41f1efe7e",
   "metadata": {},
   "outputs": [],
   "source": [
    "# write a program to find the maximum of three numbers"
   ]
  },
  {
   "cell_type": "code",
   "execution_count": 10,
   "id": "47724cd8-22e2-4356-903c-1db37f765714",
   "metadata": {},
   "outputs": [],
   "source": [
    "\n",
    "\n",
    "# if a > b and a > c:\n",
    "#     print(a)\n",
    "# elif b > c:\n",
    "#     print(b)\n",
    "# else:\n",
    "#     print(c)"
   ]
  },
  {
   "cell_type": "code",
   "execution_count": 15,
   "id": "512ca064-7982-4f56-ad13-da1d6203844e",
   "metadata": {},
   "outputs": [
    {
     "name": "stdin",
     "output_type": "stream",
     "text": [
      " 12\n",
      " 13\n",
      " 12\n"
     ]
    },
    {
     "name": "stdout",
     "output_type": "stream",
     "text": [
      "13\n"
     ]
    }
   ],
   "source": [
    "a = int(input())\n",
    "b = int(input())\n",
    "c = int(input())\n",
    "\n",
    "if a > b:\n",
    "    if a > c:\n",
    "        print(a)\n",
    "    else:\n",
    "        print(c)\n",
    "else:\n",
    "    if b > c:\n",
    "        print(b)\n",
    "    else:\n",
    "        print(c)"
   ]
  },
  {
   "cell_type": "code",
   "execution_count": 18,
   "id": "745d0d95-2ed1-4ab5-94fd-5e5b8a193cd9",
   "metadata": {},
   "outputs": [
    {
     "ename": "SyntaxError",
     "evalue": "invalid syntax (3698564022.py, line 2)",
     "output_type": "error",
     "traceback": [
      "\u001b[0;36m  Cell \u001b[0;32mIn[18], line 2\u001b[0;36m\u001b[0m\n\u001b[0;31m    else:\u001b[0m\n\u001b[0m    ^\u001b[0m\n\u001b[0;31mSyntaxError\u001b[0m\u001b[0;31m:\u001b[0m invalid syntax\n"
     ]
    }
   ],
   "source": [
    "a = 11\n",
    "else:\n",
    "    print('ll')"
   ]
  },
  {
   "cell_type": "code",
   "execution_count": 19,
   "id": "a990de55-7d5d-422e-ae4c-19426bc931e5",
   "metadata": {},
   "outputs": [],
   "source": [
    "# Q1: Check Age Group\n",
    "# Write a program that asks the user for their age and determines if they are:\n",
    "\n",
    "#     A child (age < 13),\n",
    "#     A teenager (13 ≤ age < 20),\n",
    "#     An adult (20 ≤ age < 65),\n",
    "#     Or a senior (age ≥ 65)."
   ]
  },
  {
   "cell_type": "code",
   "execution_count": 114,
   "id": "4250f186-c2f7-4128-a390-8d6a4f2a0cb0",
   "metadata": {},
   "outputs": [
    {
     "data": {
      "text/plain": [
       "57"
      ]
     },
     "execution_count": 114,
     "metadata": {},
     "output_type": "execute_result"
    }
   ],
   "source": [
    "import random\n",
    "random.randint(1,100)"
   ]
  },
  {
   "cell_type": "code",
   "execution_count": 115,
   "id": "fb9e5500-23ba-495a-b7a7-7f9e1fa6be33",
   "metadata": {},
   "outputs": [],
   "source": [
    "# for i in range(100):\n",
    "#     age = random.randint(1,80)\n",
    "#     if age < 13:\n",
    "#         print('Child')\n",
    "#     elif age >= 13 and age < 20:\n",
    "#         print('Teenager')\n",
    "#     elif age >= 20 and age < 65:\n",
    "#         print('Adult')\n",
    "#     else:\n",
    "#         print('Senior')"
   ]
  },
  {
   "cell_type": "code",
   "execution_count": null,
   "id": "da9b5c5c-4016-42a6-b23e-6b92724f12bc",
   "metadata": {},
   "outputs": [],
   "source": [
    "# 2: Movie Ticket Pricing\n",
    "# Write a program that calculates the price of\n",
    "# a movie ticket based on the age of the customer and whether they have a membership card:\n",
    "\n",
    "#     Child (age < 13): $5\n",
    "#     Adult (13 ≤ age < 60):\n",
    "#         $10 if they have a membership card\n",
    "#         $12 otherwise\n",
    "#     Senior (age ≥ 60): $7"
   ]
  },
  {
   "cell_type": "code",
   "execution_count": 117,
   "id": "f27059b4-a680-45ab-81c3-bb5ef5c1a89f",
   "metadata": {},
   "outputs": [],
   "source": [
    "# Eage= int(input(\"Enter the age :\"))\n",
    "# C= str(input(\"Do you have membership card: \"))\n",
    "# if Eage<13:\n",
    "#     print(\"Child!   ticket price: $5\")\n",
    "# elif Eage>=13 and Eage<60 and c== 'yes':\n",
    "#     print(\"Adult! Ticket Price: 10\")\n",
    "# elif c== 'no':\n",
    "#     print(\"You dont have membership card, your ticket price: $12\")\n",
    "# elif Eage>=60:\n",
    "#     print(\"Your ticket price: $7\")"
   ]
  },
  {
   "cell_type": "code",
   "execution_count": null,
   "id": "71b9da7b-1659-4b0c-8e62-b3ee042e4084",
   "metadata": {},
   "outputs": [],
   "source": []
  },
  {
   "cell_type": "code",
   "execution_count": 121,
   "id": "ff34512f-1d96-4159-b196-7ed24f3d788a",
   "metadata": {},
   "outputs": [
    {
     "name": "stdin",
     "output_type": "stream",
     "text": [
      "Please Enter your age:  67\n"
     ]
    },
    {
     "name": "stdout",
     "output_type": "stream",
     "text": [
      "7$\n"
     ]
    }
   ],
   "source": [
    "age = int(input('Please Enter your age: '))\n",
    "\n",
    "if age < 13:\n",
    "    print('$5')\n",
    "elif age >=13 and age <60:\n",
    "    member = input('Do you have a memebrship card: ')\n",
    "    if member.casefold() == 'yes':\n",
    "        print('10$')\n",
    "    else:\n",
    "        print('12$')\n",
    "else:\n",
    "    print('7$')"
   ]
  },
  {
   "cell_type": "code",
   "execution_count": 64,
   "id": "df748161-c6d7-489a-95d8-4250367c3707",
   "metadata": {},
   "outputs": [
    {
     "name": "stdout",
     "output_type": "stream",
     "text": [
      "-25 -11 29\n",
      "-1.3192724866929035 0.8792724866929036\n",
      "-----------------------------------\n",
      "26 32 95\n",
      "No Real Solutions Availaible\n",
      "------------------------------------\n",
      "36 98 67\n",
      "No Real Solutions Availaible\n",
      "------------------------------------\n",
      "-28 66 -61\n",
      "No Real Solutions Availaible\n",
      "------------------------------------\n",
      "-47 63 -70\n",
      "No Real Solutions Availaible\n",
      "------------------------------------\n",
      "-3 4 86\n",
      "-4.728804685412882 6.062138018746215\n",
      "-----------------------------------\n",
      "93 91 4\n",
      "-0.04613087177781606 -0.9323637518780978\n",
      "-----------------------------------\n",
      "-10 -59 -2\n",
      "-5.865904662364667 -0.034095337635333324\n",
      "-----------------------------------\n",
      "82 -38 -36\n",
      "0.9336422649345445 -0.4702276307882029\n",
      "-----------------------------------\n",
      "-88 6 -55\n",
      "No Real Solutions Availaible\n",
      "------------------------------------\n",
      "77 29 -53\n",
      "0.6624367940651459 -1.0390601706885225\n",
      "-----------------------------------\n",
      "-2 69 -74\n",
      "1.1080515426420732 33.39194845735793\n",
      "-----------------------------------\n",
      "52 19 86\n",
      "No Real Solutions Availaible\n",
      "------------------------------------\n",
      "-56 -76 -65\n",
      "No Real Solutions Availaible\n",
      "------------------------------------\n",
      "1 -14 -87\n",
      "18.6619037896906 -4.6619037896906015\n",
      "-----------------------------------\n",
      "9 -98 97\n",
      "9.787737841264905 1.1011510476239854\n",
      "-----------------------------------\n",
      "14 -73 -4\n",
      "5.268516217508761 -0.05423050322304742\n",
      "-----------------------------------\n",
      "-20 -66 -58\n",
      "No Real Solutions Availaible\n",
      "------------------------------------\n",
      "-78 -82 42\n",
      "-1.4282816109785608 0.37699955969650945\n",
      "-----------------------------------\n",
      "-83 36 5\n",
      "-0.11065728238718522 0.5443922221462214\n",
      "-----------------------------------\n",
      "-11 -30 -4\n",
      "-2.586693095188519 -0.1405796320842082\n",
      "-----------------------------------\n",
      "19 -97 -79\n",
      "5.819713260613965 -0.7144501027192289\n",
      "-----------------------------------\n",
      "86 -7 -99\n",
      "1.1143918074941082 -1.032996458656899\n",
      "-----------------------------------\n",
      "29 52 99\n",
      "No Real Solutions Availaible\n",
      "------------------------------------\n",
      "74 -51 64\n",
      "No Real Solutions Availaible\n",
      "------------------------------------\n",
      "3 6 32\n",
      "No Real Solutions Availaible\n",
      "------------------------------------\n",
      "47 68 60\n",
      "No Real Solutions Availaible\n",
      "------------------------------------\n",
      "-67 28 32\n",
      "-0.5130380073103178 0.9309484550715119\n",
      "-----------------------------------\n",
      "-81 -84 59\n",
      "-1.5171458342750195 0.48010879723798244\n",
      "-----------------------------------\n",
      "-87 -98 20\n",
      "-1.3028804847446513 0.17644370313545604\n",
      "-----------------------------------\n",
      "51 42 -12\n",
      "0.22450904861129226 -1.048038460375998\n",
      "-----------------------------------\n",
      "-37 -17 60\n",
      "-1.5237148031920615 1.064255343732602\n",
      "-----------------------------------\n",
      "-41 -51 -24\n",
      "No Real Solutions Availaible\n",
      "------------------------------------\n",
      "49 -21 -66\n",
      "1.3944794029898788 -0.9659079744184504\n",
      "-----------------------------------\n",
      "-94 62 -70\n",
      "No Real Solutions Availaible\n",
      "------------------------------------\n",
      "27 -34 57\n",
      "No Real Solutions Availaible\n",
      "------------------------------------\n",
      "76 32 -41\n",
      "0.5535384811030513 -0.9745911126819987\n",
      "-----------------------------------\n",
      "80 42 -3\n",
      "0.06369970876749723 -0.5886997087674972\n",
      "-----------------------------------\n",
      "-37 88 29\n",
      "-0.29336088128675436 2.6717392596651326\n",
      "-----------------------------------\n",
      "56 48 -81\n",
      "0.8481830665513913 -1.7053259236942484\n",
      "-----------------------------------\n",
      "-68 -47 -39\n",
      "No Real Solutions Availaible\n",
      "------------------------------------\n",
      "2 90 -79\n",
      "0.8612927724473316 -45.86129277244733\n",
      "-----------------------------------\n",
      "-100 85 -18\n",
      "0.4 0.45\n",
      "-----------------------------------\n",
      "65 69 84\n",
      "No Real Solutions Availaible\n",
      "------------------------------------\n",
      "89 -6 -3\n",
      "0.22037356995321516 -0.15295783961613652\n",
      "-----------------------------------\n",
      "3 29 53\n",
      "-2.4470298227872744 -7.2196368438793925\n",
      "-----------------------------------\n",
      "61 32 93\n",
      "No Real Solutions Availaible\n",
      "------------------------------------\n",
      "-99 78 -63\n",
      "No Real Solutions Availaible\n",
      "------------------------------------\n",
      "-68 -85 -8\n",
      "-1.147472909514427 -0.10252709048557307\n",
      "-----------------------------------\n",
      "-2 39 63\n",
      "-1.5 21.0\n",
      "-----------------------------------\n",
      "-86 -39 -8\n",
      "No Real Solutions Availaible\n",
      "------------------------------------\n",
      "-47 -76 -54\n",
      "No Real Solutions Availaible\n",
      "------------------------------------\n",
      "-86 -13 -28\n",
      "No Real Solutions Availaible\n",
      "------------------------------------\n",
      "-1 -31 -84\n",
      "-28.0 -3.0\n",
      "-----------------------------------\n",
      "69 98 63\n",
      "No Real Solutions Availaible\n",
      "------------------------------------\n",
      "-61 -99 53\n",
      "-2.047333330385594 0.4243825107134627\n",
      "-----------------------------------\n",
      "1 93 -28\n",
      "0.30010683748488987 -93.30010683748489\n",
      "-----------------------------------\n",
      "-80 83 86\n",
      "-0.6406039418572742 1.6781039418572743\n",
      "-----------------------------------\n",
      "80 65 -4\n",
      "0.05747304503873858 -0.8699730450387385\n",
      "-----------------------------------\n",
      "-47 -92 70\n",
      "-2.5430958676299404 0.5856490591193021\n",
      "-----------------------------------\n",
      "66 76 9\n",
      "-0.134018795845053 -1.0174963556700984\n",
      "-----------------------------------\n",
      "-41 95 13\n",
      "-0.1295939167040566 2.446667087435764\n",
      "-----------------------------------\n",
      "-97 27 -28\n",
      "No Real Solutions Availaible\n",
      "------------------------------------\n",
      "62 53 85\n",
      "No Real Solutions Availaible\n",
      "------------------------------------\n",
      "-31 -35 30\n",
      "-1.69872087043543 0.5696886123709138\n",
      "-----------------------------------\n",
      "37 17 -88\n",
      "1.3294861395776838 -1.788945599037143\n",
      "-----------------------------------\n",
      "32 97 -5\n",
      "0.050698447000969926 -3.08194844700097\n",
      "-----------------------------------\n",
      "63 -51 9\n",
      "0.5495895840547196 0.25993422546909\n",
      "-----------------------------------\n",
      "-25 63 -34\n",
      "0.7829255823249375 1.7370744176750625\n",
      "-----------------------------------\n",
      "-78 -35 30\n",
      "-0.8838681357743376 0.4351501870563888\n",
      "-----------------------------------\n",
      "-87 -85 -74\n",
      "No Real Solutions Availaible\n",
      "------------------------------------\n",
      "40 51 39\n",
      "No Real Solutions Availaible\n",
      "------------------------------------\n",
      "9 -40 18\n",
      "3.936360957837946 0.5080834866064987\n",
      "-----------------------------------\n",
      "-83 99 5\n",
      "-0.04853048241378655 1.2413015667511358\n",
      "-----------------------------------\n",
      "-3 -73 5\n",
      "-24.401634768155304 0.0683014348219686\n",
      "-----------------------------------\n",
      "68 95 -1\n",
      "0.010448177058302791 -1.4075070005877146\n",
      "-----------------------------------\n",
      "39 6 2\n",
      "No Real Solutions Availaible\n",
      "------------------------------------\n",
      "-33 53 -62\n",
      "No Real Solutions Availaible\n",
      "------------------------------------\n",
      "-26 26 -49\n",
      "No Real Solutions Availaible\n",
      "------------------------------------\n",
      "-95 96 61\n",
      "-0.44204678182069573 1.4525730976101694\n",
      "-----------------------------------\n",
      "-11 -89 -15\n",
      "-7.91870461686776 -0.17220447404133019\n",
      "-----------------------------------\n",
      "27 57 -93\n",
      "1.0795420945084038 -3.190653205619515\n",
      "-----------------------------------\n",
      "-21 -65 16\n",
      "-3.324422210171965 0.2291841149338699\n",
      "-----------------------------------\n",
      "-12 -55 40\n",
      "-5.221695581958194 0.6383622486248607\n",
      "-----------------------------------\n",
      "-69 -51 -33\n",
      "No Real Solutions Availaible\n",
      "------------------------------------\n",
      "-24 35 -47\n",
      "No Real Solutions Availaible\n",
      "------------------------------------\n",
      "77 -68 22\n",
      "No Real Solutions Availaible\n",
      "------------------------------------\n",
      "94 0 51\n",
      "No Real Solutions Availaible\n",
      "------------------------------------\n",
      "52 -70 -91\n",
      "2.157338538958267 -0.8111846928044208\n",
      "-----------------------------------\n",
      "98 71 42\n",
      "No Real Solutions Availaible\n",
      "------------------------------------\n",
      "-97 -2 -41\n",
      "No Real Solutions Availaible\n",
      "------------------------------------\n",
      "-53 19 -87\n",
      "No Real Solutions Availaible\n",
      "------------------------------------\n",
      "34 -86 -36\n",
      "2.895136653121788 -0.36572488841590584\n",
      "-----------------------------------\n",
      "3 -6 98\n",
      "No Real Solutions Availaible\n",
      "------------------------------------\n",
      "30 20 -56\n",
      "1.073001540648599 -1.7396682073152658\n",
      "-----------------------------------\n",
      "70 -6 70\n",
      "No Real Solutions Availaible\n",
      "------------------------------------\n",
      "-77 51 -64\n",
      "No Real Solutions Availaible\n",
      "------------------------------------\n",
      "-60 57 47\n",
      "-0.5294691798822567 1.4794691798822568\n",
      "-----------------------------------\n",
      "-98 73 -87\n",
      "No Real Solutions Availaible\n",
      "------------------------------------\n",
      "-8 -46 -14\n",
      "-5.427572232082767 -0.3224277679172327\n",
      "-----------------------------------\n"
     ]
    }
   ],
   "source": []
  },
  {
   "cell_type": "code",
   "execution_count": 61,
   "id": "28553f81-4c43-4e7d-a1b8-2fc449838f43",
   "metadata": {},
   "outputs": [
    {
     "data": {
      "text/plain": [
       "9"
      ]
     },
     "execution_count": 61,
     "metadata": {},
     "output_type": "execute_result"
    }
   ],
   "source": [
    "import random\n",
    "random.randint(-10,10)"
   ]
  },
  {
   "attachments": {
    "b58ab572-c3f3-419a-920d-617b4ec8ce3a.png": {
     "image/png": "[encoded data removed]"
    },
    "c6067d24-b023-4b77-bcd9-80746aefe77a.png": {
     "image/png": "[encoded data removed]"
    }
   },
   "cell_type": "markdown",
   "id": "f3eec058-9b71-40ab-9931-cd1cb638d234",
   "metadata": {},
   "source": [
    "![image.png](attachment:b58ab572-c3f3-419a-920d-617b4ec8ce3a.png)![image.png](attachment:c6067d24-b023-4b77-bcd9-80746aefe77a.png)"
   ]
  },
  {
   "cell_type": "code",
   "execution_count": 65,
   "id": "ed624718-f29e-491b-b5ca-1fe9381cdf0f",
   "metadata": {},
   "outputs": [],
   "source": [
    "# Q3: Quadratic Equation Solver\n",
    "# Write a program that takes three\n",
    "# coefficients a, b, and c of a quadratic equation (ax^2 + bx + c = 0) and:\n",
    "\n",
    "#     Checks if the equation is valid (i.e., a ≠ 0).\n",
    "#     Calculates the discriminant D = b^2 - 4ac and determines:\n",
    "#         If D > 0, print two distinct real roots.\n",
    "#         If D == 0, print one real root.\n",
    "#         If D < 0, print \"No real roots (complex roots).\"\n",
    "\n",
    "# roots = -b +- sqrt(d) / 2a"
   ]
  },
  {
   "cell_type": "code",
   "execution_count": 131,
   "id": "7c12ef1c-77dd-4ff4-b275-b257f8f5f15b",
   "metadata": {},
   "outputs": [
    {
     "name": "stdin",
     "output_type": "stream",
     "text": [
      " 2\n",
      " 1\n",
      " -300\n"
     ]
    },
    {
     "name": "stdout",
     "output_type": "stream",
     "text": [
      "2401\n",
      "12.0 -12.5\n"
     ]
    }
   ],
   "source": [
    "a,b,c = int(input()),int(input()),int(input())\n",
    "\n",
    "if a == 0:\n",
    "    print('The equation is not vaid')\n",
    "else:\n",
    "    d = ((b**2) - (4*a*c))\n",
    "    if d > 0:\n",
    "        print(d)\n",
    "        x1 = (-b + d**(1/2))/(2*a)\n",
    "        x2 = (-b - d**(1/2))/(2*a)\n",
    "        print(x1,x2)\n",
    "    elif d == 0:\n",
    "        print(d)\n",
    "        x1 = (-b + d**(1/2))/(2*a)\n",
    "    else:\n",
    "        print(d)\n",
    "        print('There is no solutions availaible for this equation !!')"
   ]
  },
  {
   "cell_type": "code",
   "execution_count": null,
   "id": "84ea9b0c-3077-497a-a4b2-e3c535a976b0",
   "metadata": {},
   "outputs": [],
   "source": []
  }
 ],
 "metadata": {
  "kernelspec": {
   "display_name": "Python 3 (ipykernel)",
   "language": "python",
   "name": "python3"
  },
  "language_info": {
   "codemirror_mode": {
    "name": "ipython",
    "version": 3
   },
   "file_extension": ".py",
   "mimetype": "text/x-python",
   "name": "python",
   "nbconvert_exporter": "python",
   "pygments_lexer": "ipython3",
   "version": "3.12.3"
  }
 },
 "nbformat": 4,
 "nbformat_minor": 5
}
