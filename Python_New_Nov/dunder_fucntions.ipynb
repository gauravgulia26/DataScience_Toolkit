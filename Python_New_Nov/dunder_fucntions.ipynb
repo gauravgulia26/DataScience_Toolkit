{
 "cells": [
  {
   "cell_type": "code",
   "execution_count": 1,
   "metadata": {},
   "outputs": [],
   "source": [
    "# Creating Your own error and Magic Methods"
   ]
  },
  {
   "cell_type": "code",
   "execution_count": 2,
   "metadata": {},
   "outputs": [],
   "source": [
    "# Magic Methods or Dunder Functions"
   ]
  },
  {
   "cell_type": "code",
   "execution_count": 3,
   "metadata": {},
   "outputs": [],
   "source": [
    "# int float string complex list"
   ]
  },
  {
   "cell_type": "code",
   "execution_count": 4,
   "metadata": {},
   "outputs": [],
   "source": [
    "# Vector"
   ]
  },
  {
   "cell_type": "code",
   "execution_count": 127,
   "metadata": {},
   "outputs": [],
   "source": [
    "\n",
    "# * Creating Your Own Error\n",
    "\n",
    "class InvalidVector(Exception):\n",
    "    pass\n",
    "\n",
    "\n",
    "class DimensionError(Exception):\n",
    "    pass\n",
    "\n",
    "\n",
    "class Vector:\n",
    "    def __init__(self, vector: list):\n",
    "        if not isinstance(vector, list):\n",
    "            raise InvalidVector(\"This Vector is Invalid !!\")\n",
    "        self.vector = vector\n",
    "\n",
    "    def __len__(self):\n",
    "        return len(self.vector)\n",
    "\n",
    "    # * These are Arithmetic Magic Methods\n",
    "\n",
    "    def __add__(self, other):\n",
    "        if not len(self) == len(other):\n",
    "            raise DimensionError(\"Dimensions are not correct !!\")\n",
    "        return Vector([x + y for x, y in zip(self.vector, other.vector)])\n",
    "\n",
    "    def __sub__(self, other):\n",
    "        if not len(self) == len(other):\n",
    "            raise DimensionError(\"Dimensions are not correct !!\")\n",
    "        return Vector([x - y for x, y in zip(self.vector, other.vector)])\n",
    "\n",
    "    def __mul__(self, other):\n",
    "        if not len(self) == len(other):\n",
    "            raise DimensionError(\"Dimensions are not correct !!\")\n",
    "        return Vector([x * y for x, y in zip(self.vector, other.vector)])\n",
    "\n",
    "    def __truediv__(self, other):\n",
    "        if not len(self) == len(other):\n",
    "            raise DimensionError(\"Dimensions are not correct !!\")\n",
    "        return [x / y for x, y in zip(self.vector, other.vector)]\n",
    "\n",
    "    def __pow__(self, other):\n",
    "        if not len(self) == len(other):\n",
    "            raise DimensionError(\"Dimensions are not correct !!\")\n",
    "        return [x**y for x, y in zip(self.vector, other.vector)]\n",
    "\n",
    "    # * These are Comparison Magic Methods\n",
    "\n",
    "    def __gt__(self, other):\n",
    "        if not len(self) == len(other):\n",
    "            raise DimensionError(\"Dimensions are not correct !!\")\n",
    "        return [x > y for x, y in zip(self.vector, other.vector)]\n",
    "\n",
    "    def __lt__(self, other):\n",
    "        if not len(self) == len(other):\n",
    "            raise DimensionError(\"Dimensions are not correct !!\")\n",
    "        return [x < y for x, y in zip(self.vector, other.vector)]\n",
    "\n",
    "    def __eq__(self, other):\n",
    "        if not len(self) == len(other):\n",
    "            raise DimensionError(\"Dimensions are not correct !!\")\n",
    "        return [x == y for x, y in zip(self.vector, other.vector)]\n",
    "\n",
    "    def __ne__(self, other):\n",
    "        if not len(self) == len(other):\n",
    "            raise DimensionError(\"Dimensions are not correct !!\")\n",
    "        return [x != y for x, y in zip(self.vector, other.vector)]\n",
    "\n",
    "    def __ge__(self, other):\n",
    "        if not len(self) == len(other):\n",
    "            raise DimensionError(\"Dimensions are not correct !!\")\n",
    "        return [x >= y for x, y in zip(self.vector, other.vector)]\n",
    "\n",
    "    def __le__(self, other):\n",
    "        if not len(self) == len(other):\n",
    "            raise DimensionError(\"Dimensions are not correct !!\")\n",
    "        return [x <= y for x, y in zip(self.vector, other.vector)]"
   ]
  },
  {
   "cell_type": "code",
   "execution_count": 108,
   "metadata": {},
   "outputs": [],
   "source": [
    "v1 = Vector([1, 2, 3])"
   ]
  },
  {
   "cell_type": "code",
   "execution_count": 109,
   "metadata": {},
   "outputs": [],
   "source": [
    "v2 = Vector([3, 2, 2])"
   ]
  },
  {
   "cell_type": "code",
   "execution_count": 111,
   "metadata": {},
   "outputs": [],
   "source": [
    "v3 = v1 + v2"
   ]
  },
  {
   "cell_type": "code",
   "execution_count": 117,
   "metadata": {},
   "outputs": [],
   "source": [
    "v4 = v3 + v2"
   ]
  },
  {
   "cell_type": "code",
   "execution_count": 123,
   "metadata": {},
   "outputs": [],
   "source": [
    "v5 = v1 - v3"
   ]
  },
  {
   "cell_type": "code",
   "execution_count": 126,
   "metadata": {},
   "outputs": [
    {
     "ename": "TypeError",
     "evalue": "can only concatenate list (not \"Vector\") to list",
     "output_type": "error",
     "traceback": [
      "\u001b[0;31m---------------------------------------------------------------------------\u001b[0m",
      "\u001b[0;31mTypeError\u001b[0m                                 Traceback (most recent call last)",
      "Cell \u001b[0;32mIn[126], line 1\u001b[0m\n\u001b[0;32m----> 1\u001b[0m \u001b[43mv5\u001b[49m\u001b[43m \u001b[49m\u001b[38;5;241;43m+\u001b[39;49m\u001b[43m \u001b[49m\u001b[43mv1\u001b[49m\n",
      "\u001b[0;31mTypeError\u001b[0m: can only concatenate list (not \"Vector\") to list"
     ]
    }
   ],
   "source": [
    "v5 + v1"
   ]
  },
  {
   "cell_type": "code",
   "execution_count": null,
   "metadata": {},
   "outputs": [],
   "source": []
  },
  {
   "cell_type": "code",
   "execution_count": 40,
   "metadata": {},
   "outputs": [
    {
     "ename": "TypeError",
     "evalue": "object of type 'Vector' has no len()",
     "output_type": "error",
     "traceback": [
      "\u001b[0;31m---------------------------------------------------------------------------\u001b[0m",
      "\u001b[0;31mTypeError\u001b[0m                                 Traceback (most recent call last)",
      "Cell \u001b[0;32mIn[40], line 1\u001b[0m\n\u001b[0;32m----> 1\u001b[0m \u001b[43mv1\u001b[49m\u001b[43m \u001b[49m\u001b[38;5;241;43m+\u001b[39;49m\u001b[43m \u001b[49m\u001b[43mv2\u001b[49m\n",
      "Cell \u001b[0;32mIn[37], line 16\u001b[0m, in \u001b[0;36mVector.__add__\u001b[0;34m(self, other)\u001b[0m\n\u001b[1;32m     15\u001b[0m \u001b[38;5;28;01mdef\u001b[39;00m \u001b[38;5;21m__add__\u001b[39m(\u001b[38;5;28mself\u001b[39m, other):\n\u001b[0;32m---> 16\u001b[0m     \u001b[38;5;28;01mif\u001b[39;00m \u001b[38;5;129;01mnot\u001b[39;00m \u001b[38;5;28;43mlen\u001b[39;49m\u001b[43m(\u001b[49m\u001b[38;5;28;43mself\u001b[39;49m\u001b[43m)\u001b[49m \u001b[38;5;241m==\u001b[39m \u001b[38;5;28mlen\u001b[39m(other):\n\u001b[1;32m     17\u001b[0m         \u001b[38;5;28;01mraise\u001b[39;00m DimensionError(\u001b[38;5;124m\"\u001b[39m\u001b[38;5;124mDimensions are not correct !!\u001b[39m\u001b[38;5;124m\"\u001b[39m)\n\u001b[1;32m     18\u001b[0m     \u001b[38;5;28;01mreturn\u001b[39;00m [x \u001b[38;5;241m+\u001b[39m y \u001b[38;5;28;01mfor\u001b[39;00m x, y \u001b[38;5;129;01min\u001b[39;00m \u001b[38;5;28mzip\u001b[39m(\u001b[38;5;28mself\u001b[39m, other)]\n",
      "\u001b[0;31mTypeError\u001b[0m: object of type 'Vector' has no len()"
     ]
    }
   ],
   "source": [
    "v1 + v2"
   ]
  },
  {
   "cell_type": "code",
   "execution_count": 79,
   "metadata": {},
   "outputs": [],
   "source": [
    "a = [1, 2, 3, 7]\n",
    "b = [4, 5, 6, 8]"
   ]
  },
  {
   "cell_type": "code",
   "execution_count": 84,
   "metadata": {},
   "outputs": [
    {
     "data": {
      "text/plain": [
       "[True, True, True, True]"
      ]
     },
     "execution_count": 84,
     "metadata": {},
     "output_type": "execute_result"
    }
   ],
   "source": [
    "[x != y for x, y in zip(a, b)]"
   ]
  },
  {
   "cell_type": "code",
   "execution_count": 34,
   "metadata": {},
   "outputs": [],
   "source": [
    "# Raise Error when dimesnions are not correct (DimensionError)"
   ]
  },
  {
   "cell_type": "code",
   "execution_count": 36,
   "metadata": {},
   "outputs": [
    {
     "data": {
      "text/plain": [
       "[5, 7, 9, 15]"
      ]
     },
     "execution_count": 36,
     "metadata": {},
     "output_type": "execute_result"
    }
   ],
   "source": [
    "[x + y for x, y in zip(a, b)]"
   ]
  },
  {
   "cell_type": "code",
   "execution_count": 41,
   "metadata": {},
   "outputs": [],
   "source": [
    "# isinstance(3.0, float)"
   ]
  },
  {
   "cell_type": "code",
   "execution_count": 63,
   "metadata": {},
   "outputs": [],
   "source": [
    "# Everything in python is a object"
   ]
  },
  {
   "cell_type": "code",
   "execution_count": null,
   "metadata": {},
   "outputs": [],
   "source": []
  },
  {
   "cell_type": "code",
   "execution_count": 61,
   "metadata": {},
   "outputs": [],
   "source": [
    "a = [1, 2, 3]"
   ]
  },
  {
   "cell_type": "code",
   "execution_count": 66,
   "metadata": {},
   "outputs": [],
   "source": [
    "# len(10)"
   ]
  },
  {
   "cell_type": "code",
   "execution_count": 131,
   "metadata": {},
   "outputs": [],
   "source": [
    "v4 = v1 + v2"
   ]
  },
  {
   "cell_type": "code",
   "execution_count": 134,
   "metadata": {},
   "outputs": [],
   "source": [
    "v5 = v4 - v1"
   ]
  },
  {
   "cell_type": "code",
   "execution_count": 137,
   "metadata": {},
   "outputs": [],
   "source": [
    "v6 = v5 * v1"
   ]
  },
  {
   "cell_type": "code",
   "execution_count": 145,
   "metadata": {},
   "outputs": [],
   "source": [
    "lst = v1 / v3"
   ]
  },
  {
   "cell_type": "code",
   "execution_count": 148,
   "metadata": {},
   "outputs": [
    {
     "ename": "TypeError",
     "evalue": "unsupported operand type(s) for /: 'list' and 'Vector'",
     "output_type": "error",
     "traceback": [
      "\u001b[0;31m---------------------------------------------------------------------------\u001b[0m",
      "\u001b[0;31mTypeError\u001b[0m                                 Traceback (most recent call last)",
      "Cell \u001b[0;32mIn[148], line 1\u001b[0m\n\u001b[0;32m----> 1\u001b[0m \u001b[43mlst\u001b[49m\u001b[43m \u001b[49m\u001b[38;5;241;43m/\u001b[39;49m\u001b[43m \u001b[49m\u001b[43mv2\u001b[49m\n",
      "\u001b[0;31mTypeError\u001b[0m: unsupported operand type(s) for /: 'list' and 'Vector'"
     ]
    }
   ],
   "source": [
    "lst / v2"
   ]
  },
  {
   "cell_type": "code",
   "execution_count": 10,
   "metadata": {},
   "outputs": [],
   "source": [
    "code = \"\"\"\n",
    "x = 10\n",
    "y = 20\n",
    "result = x + y\n",
    "\"\"\""
   ]
  },
  {
   "cell_type": "code",
   "execution_count": 11,
   "metadata": {},
   "outputs": [],
   "source": [
    "glbl = {}\n",
    "lcl = {}"
   ]
  },
  {
   "cell_type": "code",
   "execution_count": 13,
   "metadata": {},
   "outputs": [],
   "source": [
    "exec(code, glbl, lcl)"
   ]
  },
  {
   "cell_type": "code",
   "execution_count": 14,
   "metadata": {},
   "outputs": [
    {
     "name": "stdout",
     "output_type": "stream",
     "text": [
      "30\n"
     ]
    }
   ],
   "source": [
    "print(result)"
   ]
  },
  {
   "cell_type": "code",
   "execution_count": 31,
   "metadata": {},
   "outputs": [],
   "source": [
    "def dcr(func):\n",
    "    def wrapper(x, y):\n",
    "        print(\"before\")\n",
    "        print(x + y + 20)\n",
    "        print(\"After\")\n",
    "\n",
    "    return wrapper"
   ]
  },
  {
   "cell_type": "code",
   "execution_count": 32,
   "metadata": {},
   "outputs": [],
   "source": [
    "@dcr\n",
    "def abc(x, y):\n",
    "    return x + y"
   ]
  },
  {
   "cell_type": "code",
   "execution_count": 33,
   "metadata": {},
   "outputs": [
    {
     "name": "stdout",
     "output_type": "stream",
     "text": [
      "before\n",
      "50\n",
      "After\n"
     ]
    }
   ],
   "source": [
    "abc(10, 20)"
   ]
  },
  {
   "cell_type": "code",
   "execution_count": null,
   "metadata": {},
   "outputs": [],
   "source": []
  }
 ],
 "metadata": {
  "kernelspec": {
   "display_name": "Netmax_Ml",
   "language": "python",
   "name": "python3"
  },
  "language_info": {
   "codemirror_mode": {
    "name": "ipython",
    "version": 3
   },
   "file_extension": ".py",
   "mimetype": "text/x-python",
   "name": "python",
   "nbconvert_exporter": "python",
   "pygments_lexer": "ipython3",
   "version": "3.10.15"
  }
 },
 "nbformat": 4,
 "nbformat_minor": 2
}
