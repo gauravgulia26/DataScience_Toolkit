{
 "cells": [
  {
   "cell_type": "code",
   "execution_count": 1,
   "metadata": {},
   "outputs": [],
   "source": [
    "# Constructor Functions"
   ]
  },
  {
   "cell_type": "code",
   "execution_count": 2,
   "metadata": {},
   "outputs": [],
   "source": [
    "# __str__ method"
   ]
  },
  {
   "cell_type": "code",
   "execution_count": 45,
   "metadata": {},
   "outputs": [],
   "source": [
    "class Student:\n",
    "    school = \"DAV\"\n",
    "\n",
    "    def __init__(self, marks, name):\n",
    "        self.marks = marks\n",
    "        self.name = name\n",
    "\n",
    "    def __str__(self):\n",
    "        return f\"Hey this is class {self.marks}\""
   ]
  },
  {
   "cell_type": "code",
   "execution_count": 46,
   "metadata": {},
   "outputs": [],
   "source": [
    "s1 = Student(12, 34)"
   ]
  },
  {
   "cell_type": "code",
   "execution_count": 48,
   "metadata": {},
   "outputs": [],
   "source": [
    "del s1.name"
   ]
  },
  {
   "cell_type": "code",
   "execution_count": 50,
   "metadata": {},
   "outputs": [],
   "source": [
    "del s1"
   ]
  },
  {
   "cell_type": "code",
   "execution_count": 28,
   "metadata": {},
   "outputs": [
    {
     "name": "stdout",
     "output_type": "stream",
     "text": [
      "Hey this is class !!\n"
     ]
    }
   ],
   "source": [
    "print(s2)"
   ]
  },
  {
   "cell_type": "code",
   "execution_count": 51,
   "metadata": {},
   "outputs": [],
   "source": [
    "# del s2"
   ]
  },
  {
   "cell_type": "code",
   "execution_count": null,
   "metadata": {},
   "outputs": [],
   "source": []
  },
  {
   "cell_type": "code",
   "execution_count": 112,
   "metadata": {},
   "outputs": [],
   "source": [
    "class SBI:\n",
    "    __balance = 10000\n",
    "    __password = 1234\n",
    "    __den = [500, 100]\n",
    "\n",
    "    def __init__(self, userid, name, accountnumber):\n",
    "        if isinstance(userid, int) and isinstance(accountnumber, int):\n",
    "            if len(str(userid)) == 4 and len(str(accountnumber)) == 3:\n",
    "                self.userid = userid\n",
    "                self.name = name\n",
    "                self.accountnumber = accountnumber\n",
    "            else:\n",
    "                raise Exception(\"Userid and accountnumber is invalid !!\")\n",
    "        else:\n",
    "            raise Exception(\"Please enter correct credentials !!\")\n",
    "\n",
    "    def status(self, __password):\n",
    "        if __password == SBI.__password:\n",
    "            return f\"Hey {self.name} your balance is {SBI.__balance}\"\n",
    "        else:\n",
    "            raise Exception(\"Not Authorizez for this transaction !!\")\n",
    "\n",
    "    def withdraw(self, __password: int):\n",
    "        if __password == SBI.__password:\n",
    "            if SBI.__balance != 0:\n",
    "                try:\n",
    "                    __amount = int(input(\"Enter the money you want to withdraw: \"))\n",
    "                except TypeError as e:\n",
    "                    raise Exception(\"Please Enter Valid value for amount !!\")\n",
    "                else:\n",
    "                    if __amount > SBI.__balance:\n",
    "                        raise Exception(\"Insufficient Funds !!\")\n",
    "                    else:\n",
    "                        if __amount % SBI.__den[0] == 0 or __amount % SBI.__den[1] == 0:\n",
    "                            SBI.__balance -= __amount\n",
    "                            return \"Transaction Successfull, Balance Updated !!\"\n",
    "                        else:\n",
    "                            raise Exception(\"Denominations are not availaible !!\")\n",
    "            else:\n",
    "                raise Exception(\"Account is Empty, unable to withdraw funds \")\n",
    "        else:\n",
    "            raise Exception(\"Password is invalid !!\")\n",
    "\n",
    "    def __str__(self):\n",
    "        return \"Welcome to SBI\""
   ]
  },
  {
   "cell_type": "code",
   "execution_count": 113,
   "metadata": {},
   "outputs": [
    {
     "name": "stdout",
     "output_type": "stream",
     "text": [
      "User Created Successfully !!\n"
     ]
    }
   ],
   "source": [
    "try:\n",
    "    u1 = SBI(7837, \"gourav\", 445)\n",
    "except Exception as e:\n",
    "    print(e)\n",
    "else:\n",
    "    print(\"User Created Successfully !!\")"
   ]
  },
  {
   "cell_type": "code",
   "execution_count": 115,
   "metadata": {},
   "outputs": [
    {
     "ename": "Exception",
     "evalue": "Denominations are not availaible !!",
     "output_type": "error",
     "traceback": [
      "\u001b[0;31m---------------------------------------------------------------------------\u001b[0m",
      "\u001b[0;31mException\u001b[0m                                 Traceback (most recent call last)",
      "Cell \u001b[0;32mIn[115], line 1\u001b[0m\n\u001b[0;32m----> 1\u001b[0m \u001b[43mu1\u001b[49m\u001b[38;5;241;43m.\u001b[39;49m\u001b[43mwithdraw\u001b[49m\u001b[43m(\u001b[49m\u001b[38;5;241;43m1234\u001b[39;49m\u001b[43m)\u001b[49m\n",
      "Cell \u001b[0;32mIn[112], line 38\u001b[0m, in \u001b[0;36mSBI.withdraw\u001b[0;34m(self, _SBI__password)\u001b[0m\n\u001b[1;32m     36\u001b[0m                 \u001b[38;5;28;01mreturn\u001b[39;00m \u001b[38;5;124m\"\u001b[39m\u001b[38;5;124mTransaction Successfull, Balance Updated !!\u001b[39m\u001b[38;5;124m\"\u001b[39m\n\u001b[1;32m     37\u001b[0m             \u001b[38;5;28;01melse\u001b[39;00m:\n\u001b[0;32m---> 38\u001b[0m                 \u001b[38;5;28;01mraise\u001b[39;00m \u001b[38;5;167;01mException\u001b[39;00m(\u001b[38;5;124m\"\u001b[39m\u001b[38;5;124mDenominations are not availaible !!\u001b[39m\u001b[38;5;124m\"\u001b[39m)\n\u001b[1;32m     39\u001b[0m \u001b[38;5;28;01melse\u001b[39;00m:\n\u001b[1;32m     40\u001b[0m     \u001b[38;5;28;01mraise\u001b[39;00m \u001b[38;5;167;01mException\u001b[39;00m(\u001b[38;5;124m\"\u001b[39m\u001b[38;5;124mAccount is Empty, unable to withdraw funds \u001b[39m\u001b[38;5;124m\"\u001b[39m)\n",
      "\u001b[0;31mException\u001b[0m: Denominations are not availaible !!"
     ]
    }
   ],
   "source": [
    "u1.withdraw(1234)"
   ]
  },
  {
   "cell_type": "code",
   "execution_count": 108,
   "metadata": {},
   "outputs": [
    {
     "ename": "Exception",
     "evalue": "Account is Empty, unable to withdraw funds ",
     "output_type": "error",
     "traceback": [
      "\u001b[0;31m---------------------------------------------------------------------------\u001b[0m",
      "\u001b[0;31mException\u001b[0m                                 Traceback (most recent call last)",
      "Cell \u001b[0;32mIn[108], line 1\u001b[0m\n\u001b[0;32m----> 1\u001b[0m \u001b[43mu1\u001b[49m\u001b[38;5;241;43m.\u001b[39;49m\u001b[43mwithdraw\u001b[49m\u001b[43m(\u001b[49m\u001b[38;5;241;43m1234\u001b[39;49m\u001b[43m)\u001b[49m\n",
      "Cell \u001b[0;32mIn[103], line 36\u001b[0m, in \u001b[0;36mSBI.withdraw\u001b[0;34m(self, _SBI__password)\u001b[0m\n\u001b[1;32m     34\u001b[0m                 \u001b[38;5;28;01mreturn\u001b[39;00m \u001b[38;5;124m\"\u001b[39m\u001b[38;5;124mTransaction Successfull, Balance Updated !!\u001b[39m\u001b[38;5;124m\"\u001b[39m\n\u001b[1;32m     35\u001b[0m     \u001b[38;5;28;01melse\u001b[39;00m:\n\u001b[0;32m---> 36\u001b[0m         \u001b[38;5;28;01mraise\u001b[39;00m \u001b[38;5;167;01mException\u001b[39;00m(\u001b[38;5;124m\"\u001b[39m\u001b[38;5;124mAccount is Empty, unable to withdraw funds \u001b[39m\u001b[38;5;124m\"\u001b[39m)\n\u001b[1;32m     37\u001b[0m \u001b[38;5;28;01melse\u001b[39;00m:\n\u001b[1;32m     38\u001b[0m     \u001b[38;5;28;01mraise\u001b[39;00m \u001b[38;5;167;01mException\u001b[39;00m(\u001b[38;5;124m\"\u001b[39m\u001b[38;5;124mPassword is invalid !!\u001b[39m\u001b[38;5;124m\"\u001b[39m)\n",
      "\u001b[0;31mException\u001b[0m: Account is Empty, unable to withdraw funds "
     ]
    }
   ],
   "source": [
    "u1.withdraw(1234)"
   ]
  },
  {
   "cell_type": "code",
   "execution_count": 97,
   "metadata": {},
   "outputs": [
    {
     "data": {
      "text/plain": [
       "'Hey gourav your balance is 500'"
      ]
     },
     "execution_count": 97,
     "metadata": {},
     "output_type": "execute_result"
    }
   ],
   "source": [
    "u1.status(1234)"
   ]
  },
  {
   "cell_type": "code",
   "execution_count": null,
   "metadata": {},
   "outputs": [],
   "source": []
  }
 ],
 "metadata": {
  "kernelspec": {
   "display_name": "Netmax_Ml",
   "language": "python",
   "name": "python3"
  },
  "language_info": {
   "codemirror_mode": {
    "name": "ipython",
    "version": 3
   },
   "file_extension": ".py",
   "mimetype": "text/x-python",
   "name": "python",
   "nbconvert_exporter": "python",
   "pygments_lexer": "ipython3",
   "version": "3.10.15"
  }
 },
 "nbformat": 4,
 "nbformat_minor": 2
}
