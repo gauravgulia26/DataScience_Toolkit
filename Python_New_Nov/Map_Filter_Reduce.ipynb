{
 "cells": [
  {
   "cell_type": "code",
   "execution_count": 1,
   "id": "b465dfb7-e097-4406-a532-194bfe28f9b6",
   "metadata": {},
   "outputs": [],
   "source": [
    "def abc(x,y):\n",
    "    return x + y"
   ]
  },
  {
   "cell_type": "code",
   "execution_count": 2,
   "id": "564e04cb-521e-49fb-b7f9-19c2a99840cf",
   "metadata": {},
   "outputs": [
    {
     "data": {
      "text/plain": [
       "30"
      ]
     },
     "execution_count": 2,
     "metadata": {},
     "output_type": "execute_result"
    }
   ],
   "source": [
    "abc(10,20)"
   ]
  },
  {
   "cell_type": "code",
   "execution_count": 3,
   "id": "5aed524a-4900-4956-9dff-dfd3d79915a8",
   "metadata": {},
   "outputs": [],
   "source": [
    "# lambda fucntions\n",
    "# small anonymous functions\n",
    "# return datatype"
   ]
  },
  {
   "cell_type": "code",
   "execution_count": 5,
   "id": "55cd8247-d8ec-4a07-95fc-a9de2b275761",
   "metadata": {},
   "outputs": [],
   "source": [
    "a = lambda x,y:x + y"
   ]
  },
  {
   "cell_type": "code",
   "execution_count": 8,
   "id": "9e0f2738-f769-40b4-82e5-da8da602a7be",
   "metadata": {},
   "outputs": [
    {
     "data": {
      "text/plain": [
       "int"
      ]
     },
     "execution_count": 8,
     "metadata": {},
     "output_type": "execute_result"
    }
   ],
   "source": [
    "type(a(10,20))"
   ]
  },
  {
   "cell_type": "code",
   "execution_count": 9,
   "id": "bed88604-117d-4e27-94f4-20abd3706981",
   "metadata": {},
   "outputs": [],
   "source": [
    "b = lambda x,y,z:x + y - z"
   ]
  },
  {
   "cell_type": "code",
   "execution_count": 12,
   "id": "65d714e3-c009-4463-bd8f-101761ce4330",
   "metadata": {},
   "outputs": [
    {
     "data": {
      "text/plain": [
       "-10"
      ]
     },
     "execution_count": 12,
     "metadata": {},
     "output_type": "execute_result"
    }
   ],
   "source": [
    "b(10,20,40)"
   ]
  },
  {
   "cell_type": "code",
   "execution_count": 13,
   "id": "42ab2ee6-6ed6-40cc-9217-c9d14a885bb2",
   "metadata": {},
   "outputs": [],
   "source": [
    "# usecases"
   ]
  },
  {
   "cell_type": "code",
   "execution_count": 14,
   "id": "568c7697-90c5-4caa-81bf-14f5c422b3c6",
   "metadata": {},
   "outputs": [],
   "source": [
    "# you can pass these functions as a input to another function"
   ]
  },
  {
   "cell_type": "code",
   "execution_count": 15,
   "id": "76aa2cd3-a9df-42bb-a8ca-30eb78b4a707",
   "metadata": {},
   "outputs": [],
   "source": [
    "# if else"
   ]
  },
  {
   "cell_type": "code",
   "execution_count": 17,
   "id": "2e4b3209-6dfb-4ff6-8674-2ff687e6cb4c",
   "metadata": {},
   "outputs": [],
   "source": [
    "a = lambda x: 'Even' if x % 2 == 0 else 'Odd'"
   ]
  },
  {
   "cell_type": "code",
   "execution_count": 20,
   "id": "b4b90df2-8a54-420d-be40-bdf9385385e4",
   "metadata": {},
   "outputs": [
    {
     "data": {
      "text/plain": [
       "'Even'"
      ]
     },
     "execution_count": 20,
     "metadata": {},
     "output_type": "execute_result"
    }
   ],
   "source": [
    "a(42)"
   ]
  },
  {
   "cell_type": "code",
   "execution_count": 21,
   "id": "f6ead1e7-21bb-49f7-82bb-fd2e95602876",
   "metadata": {},
   "outputs": [],
   "source": [
    "def MyFunc(x,y):\n",
    "    return lambda a,b:a+b*(x*y)\n",
    "s = MyFunc(10,20)\n",
    "s(2,3)"
   ]
  },
  {
   "cell_type": "code",
   "execution_count": 26,
   "id": "81a49e98-694e-43f3-9c11-701719ca79e5",
   "metadata": {},
   "outputs": [],
   "source": [
    "# map\n",
    "# filter\n",
    "# reduce"
   ]
  },
  {
   "cell_type": "markdown",
   "id": "9b694b8e-a566-428e-b7bc-57cb7c44fbe5",
   "metadata": {},
   "source": [
    "## Map Function\n",
    "\n",
    "### Map is a higher order function as it takes another function as an input\n",
    "### With map you can perform any operation on any iterable at same time."
   ]
  },
  {
   "cell_type": "code",
   "execution_count": null,
   "id": "3d5691a1-2aed-4b67-96a2-ffdd1bf4608f",
   "metadata": {},
   "outputs": [],
   "source": []
  },
  {
   "cell_type": "code",
   "execution_count": 30,
   "id": "b29d6375-76aa-45be-9ca8-b3f51600f11f",
   "metadata": {},
   "outputs": [],
   "source": [
    "d = [x for x in range(10)]"
   ]
  },
  {
   "cell_type": "code",
   "execution_count": 28,
   "id": "a72f90cf-7e16-4167-b884-3deb20078889",
   "metadata": {},
   "outputs": [],
   "source": [
    "# square the each element of this list"
   ]
  },
  {
   "cell_type": "code",
   "execution_count": 33,
   "id": "0a5612d8-c7e7-44b2-a547-279e0e421ed9",
   "metadata": {},
   "outputs": [],
   "source": [
    "# map(fx,iterable)"
   ]
  },
  {
   "cell_type": "code",
   "execution_count": 34,
   "id": "7f6fa247-f5fd-477a-95d7-de073bf4b1ba",
   "metadata": {},
   "outputs": [
    {
     "data": {
      "text/plain": [
       "[0, 1, 2, 3, 4, 5, 6, 7, 8, 9]"
      ]
     },
     "execution_count": 34,
     "metadata": {},
     "output_type": "execute_result"
    }
   ],
   "source": [
    "d"
   ]
  },
  {
   "cell_type": "code",
   "execution_count": 38,
   "id": "b2ea4cc5-ed9a-4c42-88f1-315e7647695d",
   "metadata": {},
   "outputs": [
    {
     "data": {
      "text/plain": [
       "['Not Valid',\n",
       " 1,\n",
       " 'Not Valid',\n",
       " 9,\n",
       " 'Not Valid',\n",
       " 25,\n",
       " 'Not Valid',\n",
       " 49,\n",
       " 'Not Valid',\n",
       " 81]"
      ]
     },
     "execution_count": 38,
     "metadata": {},
     "output_type": "execute_result"
    }
   ],
   "source": [
    "list(map(lambda x:x**2 if x%2==1 else 'Not Valid',d))"
   ]
  },
  {
   "cell_type": "code",
   "execution_count": 41,
   "id": "b29e5556-2865-44fc-a74b-0b56cfa8beff",
   "metadata": {},
   "outputs": [],
   "source": [
    "data = [x for x in range(10,30,2)]"
   ]
  },
  {
   "cell_type": "code",
   "execution_count": 46,
   "id": "2521641e-a209-4b2f-b312-9907ea052c35",
   "metadata": {},
   "outputs": [
    {
     "data": {
      "text/plain": [
       "[10, 12, 14, 16, 18, 20, 22, 24, 26, 28]"
      ]
     },
     "execution_count": 46,
     "metadata": {},
     "output_type": "execute_result"
    }
   ],
   "source": [
    "# >16 cube\n",
    "#  <16 square\n",
    "data"
   ]
  },
  {
   "cell_type": "code",
   "execution_count": 48,
   "id": "a70dbd43-212c-4b2c-a083-4a8be4e441d2",
   "metadata": {},
   "outputs": [
    {
     "data": {
      "text/plain": [
       "[100, 144, 196, 4096, 5832, 8000, 10648, 13824, 17576, 21952]"
      ]
     },
     "execution_count": 48,
     "metadata": {},
     "output_type": "execute_result"
    }
   ],
   "source": [
    "list(map(lambda x:x**2 if x < 16 else x**3,data))"
   ]
  },
  {
   "cell_type": "code",
   "execution_count": 49,
   "id": "a3d878ab-86e4-46a5-befb-0acd47cc90d4",
   "metadata": {},
   "outputs": [],
   "source": [
    "def cstm(x):\n",
    "    if x >=16:\n",
    "        return x **3\n",
    "    else:\n",
    "        return x ** 2"
   ]
  },
  {
   "cell_type": "code",
   "execution_count": 53,
   "id": "4e6f699d-e82d-4ecc-afb4-0789d3c49788",
   "metadata": {},
   "outputs": [
    {
     "data": {
      "text/plain": [
       "[100, 144, 196, 4096, 5832, 8000, 10648, 13824, 17576, 21952]"
      ]
     },
     "execution_count": 53,
     "metadata": {},
     "output_type": "execute_result"
    }
   ],
   "source": [
    "list(map(cstm,data))"
   ]
  },
  {
   "cell_type": "code",
   "execution_count": 54,
   "id": "399fa06b-c4d2-49b8-bd5f-e8bf04cb1717",
   "metadata": {},
   "outputs": [],
   "source": [
    "# map(fx,iterable)"
   ]
  },
  {
   "cell_type": "code",
   "execution_count": 58,
   "id": "79dbca59-1b69-4572-8e76-11e25e0de548",
   "metadata": {},
   "outputs": [],
   "source": [
    "a = lambda x:x**2 if x < 16 else x**3"
   ]
  },
  {
   "cell_type": "code",
   "execution_count": 67,
   "id": "fe672cbc-ccb2-4270-9130-fa48ad382b3f",
   "metadata": {},
   "outputs": [],
   "source": [
    "# filter out even and odd"
   ]
  },
  {
   "cell_type": "code",
   "execution_count": 72,
   "id": "c8931231-c678-456b-baf4-453a3c6fd43e",
   "metadata": {},
   "outputs": [
    {
     "data": {
      "text/plain": [
       "['Less than 16',\n",
       " 'Less than 16',\n",
       " 'Less than 16',\n",
       " 'Less than 16',\n",
       " 'Greater than 16',\n",
       " 'Less than 16',\n",
       " 'Greater than 16',\n",
       " 'Less than 16',\n",
       " 'Greater than 16',\n",
       " 'Less than 16']"
      ]
     },
     "execution_count": 72,
     "metadata": {},
     "output_type": "execute_result"
    }
   ],
   "source": [
    "list(map(lambda x:'Greater than 16' if x >=16 else 'Less than 16',list(map(lambda x:x**2 if x% 2 == 0 else x**0.5,[x for x in range(10)]))))"
   ]
  },
  {
   "cell_type": "code",
   "execution_count": 73,
   "id": "529395a8-8757-4503-b472-525865266b47",
   "metadata": {},
   "outputs": [],
   "source": [
    "# Filter"
   ]
  },
  {
   "cell_type": "code",
   "execution_count": 74,
   "id": "9f8fe47d-c503-417e-b8ac-76423f8b68a3",
   "metadata": {},
   "outputs": [],
   "source": [
    "# filter(fx,iterable)"
   ]
  },
  {
   "cell_type": "code",
   "execution_count": 77,
   "id": "ae71f48c-1f56-4487-9d9c-34b648133d7a",
   "metadata": {},
   "outputs": [
    {
     "data": {
      "text/plain": [
       "[0, 1, 2, 3, 4, 5, 6, 7, 8, 9]"
      ]
     },
     "execution_count": 77,
     "metadata": {},
     "output_type": "execute_result"
    }
   ],
   "source": [
    "list(filter(lambda x:x<10,[x for x in range(20)]))"
   ]
  },
  {
   "cell_type": "code",
   "execution_count": 78,
   "id": "ce7f830b-a044-4b4a-b92d-96042f16e7a9",
   "metadata": {},
   "outputs": [],
   "source": [
    "# write a program to filter out the even numbers from a list of numbers upto 100 which are\n",
    "# greater than 46 and then do the cube of them."
   ]
  },
  {
   "cell_type": "code",
   "execution_count": 103,
   "id": "ff9b0dce-e34a-43be-808b-5d1fb8708f09",
   "metadata": {},
   "outputs": [
    {
     "name": "stdout",
     "output_type": "stream",
     "text": [
      "[110592, 125000, 140608, 157464, 175616, 195112, 216000, 238328, 262144, 287496, 314432, 343000, 373248, 405224, 438976, 474552, 512000, 551368, 592704, 636056, 681472, 729000, 778688, 830584, 884736, 941192]\n"
     ]
    }
   ],
   "source": [
    "print(list(map(lambda x:x**3,list(filter(lambda x:x%2 == 0,list(filter(lambda x:x>46,[x for x in range(100)])))))))"
   ]
  },
  {
   "cell_type": "code",
   "execution_count": 104,
   "id": "3943389e-54ef-42f7-99b3-486df1c91c4e",
   "metadata": {},
   "outputs": [],
   "source": [
    "# reduce"
   ]
  },
  {
   "cell_type": "code",
   "execution_count": 105,
   "id": "7a053d23-df58-4c60-951a-8685b0e79962",
   "metadata": {},
   "outputs": [],
   "source": [
    "# reduce(fx,iterable)"
   ]
  },
  {
   "cell_type": "code",
   "execution_count": 106,
   "id": "9ab874ce-d2f5-422f-81f0-7805f8cc7b06",
   "metadata": {},
   "outputs": [],
   "source": [
    "from functools import reduce"
   ]
  },
  {
   "cell_type": "code",
   "execution_count": 110,
   "id": "1b657295-1090-4f77-9bb3-62eeb8294e3a",
   "metadata": {},
   "outputs": [
    {
     "data": {
      "text/plain": [
       "10"
      ]
     },
     "execution_count": 110,
     "metadata": {},
     "output_type": "execute_result"
    }
   ],
   "source": [
    "reduce(lambda x,y:x+y,[1,2,3,4])"
   ]
  },
  {
   "cell_type": "code",
   "execution_count": 139,
   "id": "cd431e57-1562-45d6-a25f-842f34dbaf7e",
   "metadata": {},
   "outputs": [],
   "source": []
  },
  {
   "cell_type": "code",
   "execution_count": 140,
   "id": "394157a2-897f-48ac-91d9-9d5342b33d2b",
   "metadata": {},
   "outputs": [
    {
     "name": "stdout",
     "output_type": "stream",
     "text": [
      "6\n"
     ]
    }
   ],
   "source": [
    "try:\n",
    "    op = sm([1,2,3])\n",
    "except IndexError as e:\n",
    "    print(e)\n",
    "else:\n",
    "    print(op)"
   ]
  },
  {
   "cell_type": "code",
   "execution_count": 116,
   "id": "2c7fa590-db47-458a-b157-aa523946a327",
   "metadata": {},
   "outputs": [],
   "source": [
    "# write a program to calucalte the cumprod of the list"
   ]
  },
  {
   "cell_type": "code",
   "execution_count": 121,
   "id": "bfe5fe31-9b82-4a9c-912b-987f0a645195",
   "metadata": {},
   "outputs": [
    {
     "data": {
      "text/plain": [
       "24"
      ]
     },
     "execution_count": 121,
     "metadata": {},
     "output_type": "execute_result"
    }
   ],
   "source": [
    "reduce(lambda x,y:x*y,[1,2,3,4])"
   ]
  },
  {
   "cell_type": "code",
   "execution_count": 141,
   "id": "4f8ba833-6757-4ca8-81e6-38aa7ff6ce38",
   "metadata": {},
   "outputs": [],
   "source": [
    "# reduce(lambda x,y,z:x+y+z,[1,2,3])"
   ]
  },
  {
   "cell_type": "code",
   "execution_count": 142,
   "id": "82a60431-c192-47c5-8c83-8c81628f98d0",
   "metadata": {},
   "outputs": [],
   "source": [
    "def sm(a:list)->int:\n",
    "    try:\n",
    "        return reduce(lambda x,y,z:x+y+z,a)\n",
    "    except TypeError as e:\n",
    "        pass\n",
    "    except Exception as e:\n",
    "        raise IndexError('Out of range')"
   ]
  },
  {
   "cell_type": "code",
   "execution_count": null,
   "id": "cf344276-6253-44ce-bf4d-7c1e3cbbd84a",
   "metadata": {},
   "outputs": [],
   "source": []
  },
  {
   "cell_type": "code",
   "execution_count": 143,
   "id": "2eb73e78-e555-4818-854e-ec1bdad375b2",
   "metadata": {},
   "outputs": [],
   "source": [
    "# map filter reduce"
   ]
  },
  {
   "cell_type": "code",
   "execution_count": 146,
   "id": "becd92cd-025d-4654-81bc-40f85056a6ec",
   "metadata": {},
   "outputs": [],
   "source": [
    "def Funcu(x:int):\n",
    "    if isinstance(x,int):\n",
    "        if x == 1:\n",
    "            return 'One'\n",
    "        elif x == 2:\n",
    "            return 'Two'\n",
    "        else:\n",
    "            return 'Other'\n",
    "    else:\n",
    "        raise TypeError('Only integer are allowed')"
   ]
  },
  {
   "cell_type": "code",
   "execution_count": 150,
   "id": "b486aa4d-e0a7-4438-92bf-d40cf80d1ceb",
   "metadata": {},
   "outputs": [
    {
     "name": "stdout",
     "output_type": "stream",
     "text": [
      "Other\n"
     ]
    }
   ],
   "source": [
    "try:\n",
    "    op = Funcu(4)\n",
    "except TypeError as e:\n",
    "    print(e)\n",
    "else:\n",
    "    print(op)"
   ]
  },
  {
   "cell_type": "code",
   "execution_count": 173,
   "id": "8dd8d62c-c1f2-4b5d-8fd4-dda693cc53b0",
   "metadata": {},
   "outputs": [],
   "source": [
    "def Funcu(x:int):\n",
    "    if isinstance(x,int):\n",
    "        match x:\n",
    "            case 1 | 2:\n",
    "                return 'One'\n",
    "            case 3 | 4:\n",
    "                return 'Two'\n",
    "            case 4 | 5:\n",
    "                return 'Three'\n",
    "            case _:\n",
    "                return 'No Value'\n",
    "    else:\n",
    "        raise TypeError('Only integer are allowed')"
   ]
  },
  {
   "cell_type": "code",
   "execution_count": 174,
   "id": "b207d168-618d-45be-9b63-51384ff2fc79",
   "metadata": {},
   "outputs": [
    {
     "name": "stdout",
     "output_type": "stream",
     "text": [
      "Two\n"
     ]
    }
   ],
   "source": [
    "try:\n",
    "    op = Funcu(4)\n",
    "except TypeError as e:\n",
    "    print(e)\n",
    "else:\n",
    "    print(op)"
   ]
  },
  {
   "cell_type": "code",
   "execution_count": 180,
   "id": "dc3be545-1263-4016-bf76-821446efc7c4",
   "metadata": {},
   "outputs": [],
   "source": [
    "def Funcu(x:int):\n",
    "    if isinstance(x,int):\n",
    "        match x:\n",
    "            case x if x >= 20:\n",
    "                return 'Greater than zero'\n",
    "            case x if x > 1 and x < 10:\n",
    "                return 'Two'\n",
    "            case x if x >= 10 and x < 20:\n",
    "                return 'Three'\n",
    "            case _:\n",
    "                return 'No Value'\n",
    "    else:\n",
    "        raise TypeError('Only integer are allowed')"
   ]
  },
  {
   "cell_type": "code",
   "execution_count": 183,
   "id": "a42f914b-7f45-4927-b7bb-0c897ade73e9",
   "metadata": {},
   "outputs": [
    {
     "data": {
      "text/plain": [
       "'Three'"
      ]
     },
     "execution_count": 183,
     "metadata": {},
     "output_type": "execute_result"
    }
   ],
   "source": [
    "Funcu()"
   ]
  }
 ],
 "metadata": {
  "kernelspec": {
   "display_name": "Python 3 (ipykernel)",
   "language": "python",
   "name": "python3"
  },
  "language_info": {
   "codemirror_mode": {
    "name": "ipython",
    "version": 3
   },
   "file_extension": ".py",
   "mimetype": "text/x-python",
   "name": "python",
   "nbconvert_exporter": "python",
   "pygments_lexer": "ipython3",
   "version": "3.12.3"
  }
 },
 "nbformat": 4,
 "nbformat_minor": 5
}
