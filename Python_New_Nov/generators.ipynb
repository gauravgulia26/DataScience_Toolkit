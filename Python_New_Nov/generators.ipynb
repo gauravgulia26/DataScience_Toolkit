{
 "cells": [
  {
   "cell_type": "code",
   "execution_count": 1,
   "id": "542cad9d-1e73-48c1-a322-ad0ef1ebd52a",
   "metadata": {},
   "outputs": [],
   "source": [
    "# generators"
   ]
  },
  {
   "cell_type": "code",
   "execution_count": 2,
   "id": "f7b8898b-ebeb-4e21-9e5d-eafd4c4af326",
   "metadata": {},
   "outputs": [],
   "source": [
    "# lazy loading"
   ]
  },
  {
   "cell_type": "code",
   "execution_count": 42,
   "id": "0fe75d3b-c081-4cf0-97a2-5c81d0866c7d",
   "metadata": {},
   "outputs": [],
   "source": [
    "def abc():\n",
    "    i = 0\n",
    "    while True:\n",
    "        yield i\n",
    "        i = i +1\n",
    "        if i == 10:\n",
    "            break"
   ]
  },
  {
   "cell_type": "code",
   "execution_count": 108,
   "id": "6507cff8-1088-4400-8701-c41a88d51295",
   "metadata": {},
   "outputs": [],
   "source": [
    "a = abc()"
   ]
  },
  {
   "cell_type": "code",
   "execution_count": 114,
   "id": "34b7340e-4bcd-4460-9840-b4eb55fe6e30",
   "metadata": {},
   "outputs": [
    {
     "data": {
      "text/plain": [
       "5"
      ]
     },
     "execution_count": 114,
     "metadata": {},
     "output_type": "execute_result"
    }
   ],
   "source": [
    "next(a)"
   ]
  },
  {
   "cell_type": "code",
   "execution_count": 129,
   "id": "62588df7-d94c-4a45-a448-e653abfed251",
   "metadata": {},
   "outputs": [],
   "source": [
    "a = (x for x in range(10))\n",
    "# () -> generator expresion\n",
    "# yield -> generator keyword"
   ]
  },
  {
   "cell_type": "code",
   "execution_count": 154,
   "id": "c8b2f33c-60e3-4cf3-9621-616144958982",
   "metadata": {},
   "outputs": [
    {
     "ename": "StopIteration",
     "evalue": "",
     "output_type": "error",
     "traceback": [
      "\u001b[0;31m---------------------------------------------------------------------------\u001b[0m",
      "\u001b[0;31mStopIteration\u001b[0m                             Traceback (most recent call last)",
      "Cell \u001b[0;32mIn[154], line 1\u001b[0m\n\u001b[0;32m----> 1\u001b[0m \u001b[38;5;28;43mnext\u001b[39;49m\u001b[43m(\u001b[49m\u001b[43ma\u001b[49m\u001b[43m)\u001b[49m\n",
      "\u001b[0;31mStopIteration\u001b[0m: "
     ]
    }
   ],
   "source": [
    "next(a)"
   ]
  },
  {
   "cell_type": "code",
   "execution_count": 165,
   "id": "fdeca980-bbbf-40cb-8fc2-a8be0b25958d",
   "metadata": {},
   "outputs": [],
   "source": [
    "# import time\n",
    "a = (i for i  in range(100000000))\n",
    "    # start_time = time.time()\n",
    "# print(time.time() - start_time)"
   ]
  },
  {
   "cell_type": "code",
   "execution_count": 171,
   "id": "4f833365-2a07-416e-81ea-15c1087d424e",
   "metadata": {},
   "outputs": [],
   "source": [
    "# next(a)"
   ]
  },
  {
   "cell_type": "code",
   "execution_count": 172,
   "id": "67a722ca-cc5b-47a9-9ccf-61fc9cacb799",
   "metadata": {},
   "outputs": [],
   "source": [
    "import sys\n",
    "a = [x**2 for x in range(10000000)]"
   ]
  },
  {
   "cell_type": "code",
   "execution_count": 178,
   "id": "1602b2a2-66da-471c-804d-222d48a5a0a4",
   "metadata": {},
   "outputs": [
    {
     "data": {
      "text/plain": [
       "85"
      ]
     },
     "execution_count": 178,
     "metadata": {},
     "output_type": "execute_result"
    }
   ],
   "source": [
    "round(sys.getsizeof(a) / (1024 * 1024))"
   ]
  },
  {
   "cell_type": "code",
   "execution_count": 179,
   "id": "b1dbe41e-a65e-47c7-91b5-588fd017c63b",
   "metadata": {},
   "outputs": [],
   "source": [
    "b = (x**2 for x in range(10000000))"
   ]
  },
  {
   "cell_type": "code",
   "execution_count": 181,
   "id": "09ffa303-c331-4fbb-9f46-5d00567c6261",
   "metadata": {},
   "outputs": [
    {
     "data": {
      "text/plain": [
       "0.00019073486328125"
      ]
     },
     "execution_count": 181,
     "metadata": {},
     "output_type": "execute_result"
    }
   ],
   "source": [
    "sys.getsizeof(b) / (1024*1024)"
   ]
  },
  {
   "cell_type": "code",
   "execution_count": 186,
   "id": "fd3ee68c-8985-4eed-8023-f033a2b8379b",
   "metadata": {},
   "outputs": [],
   "source": [
    "# for i in range(1000):\n",
    "#     print(next(b))\n",
    "#     # print(sys.getsizeof(b))"
   ]
  },
  {
   "cell_type": "code",
   "execution_count": 192,
   "id": "b546a620-68ae-44da-a53b-207c35b403ec",
   "metadata": {},
   "outputs": [],
   "source": [
    "# a = (x for x in range(10000000))\n",
    "# for i in range(1000):\n",
    "#     next(a)\n",
    "#     print(sys.getsizeof(a) / (1024*1024))"
   ]
  },
  {
   "cell_type": "code",
   "execution_count": 193,
   "id": "fc477de5-cbdc-49f1-923f-16558d41c2ed",
   "metadata": {},
   "outputs": [],
   "source": [
    "# filters even number from a list"
   ]
  },
  {
   "cell_type": "code",
   "execution_count": 215,
   "id": "74594fe6-990f-4f0f-a234-2e84e1b66a85",
   "metadata": {},
   "outputs": [],
   "source": [
    "a = (x for x in range(100) if x % 2 == 0)"
   ]
  },
  {
   "cell_type": "code",
   "execution_count": 213,
   "id": "a1e114ba-bdf7-4468-9e06-0e095f2d495e",
   "metadata": {},
   "outputs": [],
   "source": [
    "# next(a)"
   ]
  },
  {
   "cell_type": "code",
   "execution_count": 217,
   "id": "cad5805e-70fe-45b2-b29d-bb159d7c4f67",
   "metadata": {},
   "outputs": [],
   "source": [
    "# for i in a:\n",
    "#     print(i)"
   ]
  },
  {
   "cell_type": "code",
   "execution_count": null,
   "id": "ee01b440-d217-416f-8002-e9ffbfe9ecb8",
   "metadata": {},
   "outputs": [],
   "source": [
    "# "
   ]
  },
  {
   "cell_type": "code",
   "execution_count": 219,
   "id": "5826d406-a63a-4fd6-89f2-e9ddaafe912f",
   "metadata": {},
   "outputs": [],
   "source": [
    "def abc(income,marital,child,age):\n",
    "    if marital.casefold() == 'single':\n",
    "        if age < 65:\n",
    "            if income < 50000:\n",
    "                tax = income * 0.1\n",
    "                if tax > 2000:\n",
    "                    cess = 2000 * child\n",
    "                    yield tax + cess\n",
    "                else:\n",
    "                    yield tax\n",
    "            elif income >= 50000 and income < 100000:\n",
    "                tax = income * 0.2\n",
    "                if tax > 2000:\n",
    "                    cess = 2000 * child\n",
    "                    yield tax + cess\n",
    "                else:\n",
    "                    yield tax\n",
    "            else:\n",
    "                tax = income * 0.3\n",
    "                if tax > 2000:\n",
    "                    cess = 2000 * child\n",
    "                    yield tax + cess\n",
    "                else:\n",
    "                    yield tax\n",
    "        else:\n",
    "            if income < 50000:\n",
    "                tax = income * 0.1\n",
    "                if tax > 2000:\n",
    "                    cess = 2000 * child\n",
    "                    yield ((tax + cess) - (0.05*(tax + cess)))\n",
    "                else:\n",
    "                    yield tax\n",
    "            elif income >= 50000 and income < 100000:\n",
    "                tax = income * 0.2\n",
    "                if tax > 2000:\n",
    "                    cess = 2000 * child\n",
    "                    yield ((tax + cess) - (0.05*(tax + cess)))\n",
    "                else:\n",
    "                    yield tax\n",
    "            else:\n",
    "                tax = income * 0.3\n",
    "                if tax > 2000:\n",
    "                    cess = 2000 * child\n",
    "                    yield ((tax + cess) - (0.05*(tax + cess)))\n",
    "                else:\n",
    "                    yield tax\n",
    "        \n",
    "        \n",
    "# elif marital.casefold() == 'married':\n",
    "#     if age < 65:\n",
    "#         if income < 100000:\n",
    "#             tax = income * 0.05\n",
    "#             if tax > 2000:\n",
    "#                 cess = 2000 * child\n",
    "#                 print(tax + cess)\n",
    "#             else:\n",
    "#                 print(tax)\n",
    "#         elif income >= 100000 and income < 250000:\n",
    "#             tax = income * 0.15\n",
    "#             if tax > 2000:\n",
    "#                 cess = 2000 * child\n",
    "#                 print(tax + cess)\n",
    "#             else:\n",
    "#                 print(tax)\n",
    "#         else:\n",
    "#             tax = income * 0.25\n",
    "#             if tax > 2000:\n",
    "#                 cess = 2000 * child\n",
    "#                 print(tax + cess)\n",
    "#             else:\n",
    "#                 print(tax)\n",
    "#     else:\n",
    "#         if income < 100000:\n",
    "#             tax = income * 0.05\n",
    "#             if tax > 2000:\n",
    "#                 cess = 2000 * child\n",
    "#                 print(((tax + cess) - (0.05*(tax + cess))))\n",
    "#             else:\n",
    "#                 print(tax)\n",
    "#         elif income >= 100000 and income < 250000:\n",
    "#             tax = income * 0.15\n",
    "#             if tax > 2000:\n",
    "#                 cess = 2000 * child\n",
    "#                 print(((tax + cess) - (0.05*(tax + cess))))\n",
    "#             else:\n",
    "#                 print(tax)\n",
    "#         else:\n",
    "#             tax = income * 0.25\n",
    "#             if tax > 2000:\n",
    "#                 cess = 2000 * child\n",
    "#                 print(((tax + cess) - (0.05*(tax + cess))))\n",
    "#             else:\n",
    "#                 print(tax) "
   ]
  },
  {
   "cell_type": "code",
   "execution_count": 224,
   "id": "88b5df35-35c1-4be5-9448-c45f3b1a7a2c",
   "metadata": {},
   "outputs": [
    {
     "name": "stdin",
     "output_type": "stream",
     "text": [
      "Please enter your income:  30000\n",
      "Please enter your marital status:  single\n",
      "Please enter your number of childrens:  2\n",
      "Please enter your age:  23\n"
     ]
    }
   ],
   "source": [
    "d = abc(income = int(input('Please enter your income: ')),\n",
    "marital = input('Please enter your marital status: '),\n",
    "child = int(input('Please enter your number of childrens: ')),\n",
    "age = int(input('Please enter your age: ')))"
   ]
  },
  {
   "cell_type": "code",
   "execution_count": 239,
   "id": "bbaf7349-078c-48d5-a463-def8d2d60b05",
   "metadata": {},
   "outputs": [],
   "source": [
    "# next(d)\n",
    "del a"
   ]
  },
  {
   "cell_type": "code",
   "execution_count": 250,
   "id": "00f0ad7b-b26b-4942-8893-cb4e976cd7bc",
   "metadata": {},
   "outputs": [],
   "source": [
    "# (for x in range(100):\n",
    "#     if x > 10:\n",
    "#         print('Hello')\n",
    "#     else:\n",
    "#         print('hey'))"
   ]
  },
  {
   "cell_type": "code",
   "execution_count": 258,
   "id": "a6474240-e8a6-41ad-83d2-31270b758599",
   "metadata": {},
   "outputs": [],
   "source": [
    "a = ('hello' if x  > 10 else 'hey' for x in range(100))"
   ]
  },
  {
   "cell_type": "code",
   "execution_count": 276,
   "id": "c1a4934e-841f-42d4-b218-8272bfc69ddb",
   "metadata": {},
   "outputs": [],
   "source": [
    "# next(a)"
   ]
  },
  {
   "cell_type": "code",
   "execution_count": 337,
   "id": "2f6a273d-258d-4f35-8b23-ee6c1130f2e0",
   "metadata": {},
   "outputs": [],
   "source": []
  },
  {
   "cell_type": "code",
   "execution_count": 338,
   "id": "b6a85e1f-da25-4733-8b16-c5646fe8b570",
   "metadata": {},
   "outputs": [],
   "source": [
    "a = abc(10,2)"
   ]
  },
  {
   "cell_type": "code",
   "execution_count": 376,
   "id": "2075c865-1925-480d-ab55-9220fa6c3500",
   "metadata": {},
   "outputs": [],
   "source": [
    "def abc(x,y):\n",
    "    yield x + y"
   ]
  },
  {
   "cell_type": "code",
   "execution_count": 379,
   "id": "0c1564b5-d849-4a9c-a64e-0855431b3b2f",
   "metadata": {},
   "outputs": [],
   "source": [
    "# abc()"
   ]
  },
  {
   "cell_type": "code",
   "execution_count": 380,
   "id": "e092b726-22b4-4522-8fe6-f4f05292de9d",
   "metadata": {},
   "outputs": [],
   "source": [
    "exh = abc(10,2)"
   ]
  },
  {
   "cell_type": "code",
   "execution_count": 381,
   "id": "7f06ca23-fc1a-4e2b-977f-46b68c82bcdc",
   "metadata": {},
   "outputs": [
    {
     "data": {
      "text/plain": [
       "12"
      ]
     },
     "execution_count": 381,
     "metadata": {},
     "output_type": "execute_result"
    }
   ],
   "source": [
    "next(exh)"
   ]
  },
  {
   "cell_type": "code",
   "execution_count": 382,
   "id": "e926fb66-32e1-48d4-847c-1a35471929d3",
   "metadata": {},
   "outputs": [
    {
     "ename": "StopIteration",
     "evalue": "",
     "output_type": "error",
     "traceback": [
      "\u001b[0;31m---------------------------------------------------------------------------\u001b[0m",
      "\u001b[0;31mStopIteration\u001b[0m                             Traceback (most recent call last)",
      "Cell \u001b[0;32mIn[382], line 1\u001b[0m\n\u001b[0;32m----> 1\u001b[0m \u001b[38;5;28;43mnext\u001b[39;49m\u001b[43m(\u001b[49m\u001b[43mexh\u001b[49m\u001b[43m)\u001b[49m\n",
      "\u001b[0;31mStopIteration\u001b[0m: "
     ]
    }
   ],
   "source": [
    "next(exh)"
   ]
  },
  {
   "cell_type": "code",
   "execution_count": 384,
   "id": "dbc7358c-ba75-4465-984a-e0c6756febe1",
   "metadata": {},
   "outputs": [
    {
     "name": "stdout",
     "output_type": "stream",
     "text": [
      "Generator has already been exhausted !! Please reinitiate !!\n"
     ]
    }
   ],
   "source": [
    "try:\n",
    "    try:\n",
    "        op = next(exh)\n",
    "    except StopIteration as e:\n",
    "        print('Generator has already been exhausted !! Please reinitiate !!')\n",
    "    else:\n",
    "        print(next(op))  # Should print 2\n",
    "        print(next(op))  # Should print 3\n",
    "        print(next(op))  # Should print 4\n",
    "        print(next(op))  # Should raise StopIteration and go to except block\n",
    "except StopIteration as e:\n",
    "    print('Exhausted')"
   ]
  },
  {
   "cell_type": "code",
   "execution_count": 389,
   "id": "ad7819d5-f48c-499c-bde6-30cdc34e73e3",
   "metadata": {},
   "outputs": [],
   "source": [
    "from datetime import datetime\n",
    "now = datetime.now()"
   ]
  },
  {
   "cell_type": "code",
   "execution_count": 390,
   "id": "fcf85754-e49d-4a9d-b138-8354c89f96c2",
   "metadata": {},
   "outputs": [
    {
     "data": {
      "text/plain": [
       "datetime.datetime(2024, 12, 12, 18, 21, 22, 38828)"
      ]
     },
     "execution_count": 390,
     "metadata": {},
     "output_type": "execute_result"
    }
   ],
   "source": [
    "now"
   ]
  },
  {
   "cell_type": "code",
   "execution_count": 391,
   "id": "d632ef94-4d38-474d-896b-7cf3ba0090e5",
   "metadata": {},
   "outputs": [
    {
     "name": "stdout",
     "output_type": "stream",
     "text": [
      "2024-12-12 18:21\n"
     ]
    }
   ],
   "source": [
    "formatted = now.strftime(\"%Y-%m-%d %H:%M\")\n",
    "print(formatted)"
   ]
  },
  {
   "cell_type": "code",
   "execution_count": 246,
   "id": "bd08e616-3e14-4590-b2b8-52c817057072",
   "metadata": {},
   "outputs": [],
   "source": []
  },
  {
   "cell_type": "code",
   "execution_count": null,
   "id": "9e50c7ec-7b39-4162-9fc4-df46d58eea80",
   "metadata": {},
   "outputs": [],
   "source": []
  },
  {
   "cell_type": "code",
   "execution_count": null,
   "id": "b77b0601-9ca7-4b3f-bcf0-a9866ae26257",
   "metadata": {},
   "outputs": [],
   "source": []
  }
 ],
 "metadata": {
  "kernelspec": {
   "display_name": "Python 3 (ipykernel)",
   "language": "python",
   "name": "python3"
  },
  "language_info": {
   "codemirror_mode": {
    "name": "ipython",
    "version": 3
   },
   "file_extension": ".py",
   "mimetype": "text/x-python",
   "name": "python",
   "nbconvert_exporter": "python",
   "pygments_lexer": "ipython3",
   "version": "3.12.3"
  }
 },
 "nbformat": 4,
 "nbformat_minor": 5
}
