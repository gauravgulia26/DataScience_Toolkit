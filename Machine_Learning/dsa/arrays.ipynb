{
 "cells": [
  {
   "cell_type": "code",
   "execution_count": 1,
   "metadata": {},
   "outputs": [],
   "source": [
    "# Data\n",
    "months = [\"January\", \"February\", \"March\", \"April\", \"May\"]\n",
    "expenses = [2200, 2350, 2600, 2130, 2190]\n",
    "\n",
    "# Combine into a 2D array\n",
    "data = [[month, expense] for month, expense in zip(months, expenses)]"
   ]
  },
  {
   "cell_type": "code",
   "execution_count": 4,
   "metadata": {},
   "outputs": [
    {
     "data": {
      "text/plain": [
       "150"
      ]
     },
     "execution_count": 4,
     "metadata": {},
     "output_type": "execute_result"
    }
   ],
   "source": [
    "[d for x in data for d in x][3] - [d for x in data for d in x][1]"
   ]
  },
  {
   "cell_type": "code",
   "execution_count": 5,
   "metadata": {},
   "outputs": [
    {
     "data": {
      "text/plain": [
       "7150"
      ]
     },
     "execution_count": 5,
     "metadata": {},
     "output_type": "execute_result"
    }
   ],
   "source": [
    "sum(expenses[:3])"
   ]
  },
  {
   "cell_type": "code",
   "execution_count": null,
   "metadata": {},
   "outputs": [
    {
     "name": "stdout",
     "output_type": "stream",
     "text": [
      "There is no month\n"
     ]
    }
   ],
   "source": [
    "if not [x for x in expenses if x == 2000]:\n",
    "    print(\"There is no month\")\n",
    "else:\n",
    "    print(\"Yes there is a month\")"
   ]
  },
  {
   "cell_type": "code",
   "execution_count": 10,
   "metadata": {},
   "outputs": [],
   "source": [
    "expenses.append(1980)"
   ]
  },
  {
   "cell_type": "code",
   "execution_count": null,
   "metadata": {},
   "outputs": [],
   "source": [
    "expenses[months.index(\"April\")] -= 200"
   ]
  },
  {
   "cell_type": "code",
   "execution_count": 33,
   "metadata": {},
   "outputs": [],
   "source": [
    "heros = [\"spider man\", \"thor\", \"hulk\", \"iron man\", \"captain america\"]"
   ]
  },
  {
   "cell_type": "code",
   "execution_count": 34,
   "metadata": {},
   "outputs": [],
   "source": [
    "#  You realize that you need to add 'black panther' after 'hulk',\n",
    "#    so remove it from the list first and then add it after 'hulk'"
   ]
  },
  {
   "cell_type": "code",
   "execution_count": 35,
   "metadata": {},
   "outputs": [
    {
     "data": {
      "text/plain": [
       "['spider man', 'thor', 'hulk', 'black panther', 'iron man', 'captain america']"
      ]
     },
     "execution_count": 35,
     "metadata": {},
     "output_type": "execute_result"
    }
   ],
   "source": [
    "heros.append(\"black panther\")\n",
    "heros.remove(\"black panther\")\n",
    "heros.insert(heros.index(\"hulk\") + 1, \"black panther\")\n",
    "heros"
   ]
  },
  {
   "cell_type": "code",
   "execution_count": null,
   "metadata": {},
   "outputs": [],
   "source": [
    "# Now you don't like thor and hulk because they get angry easily :)\n",
    "# So you want to remove thor and hulk from list and replace them with doctor strange (because he is cool).\n",
    "# Do that with one line of code."
   ]
  },
  {
   "cell_type": "code",
   "execution_count": 36,
   "metadata": {},
   "outputs": [],
   "source": [
    "heros[1:3] = [\"Doctor Strange\"]"
   ]
  },
  {
   "cell_type": "code",
   "execution_count": null,
   "metadata": {},
   "outputs": [
    {
     "data": {
      "text/plain": [
       "['spider man',\n",
       " 'Doctor Strange',\n",
       " 'black panther',\n",
       " 'iron man',\n",
       " 'captain america']"
      ]
     },
     "execution_count": 37,
     "metadata": {},
     "output_type": "execute_result"
    }
   ],
   "source": []
  },
  {
   "cell_type": "code",
   "execution_count": 38,
   "metadata": {},
   "outputs": [
    {
     "data": {
      "text/plain": [
       "['spider man',\n",
       " 'Doctor Strange',\n",
       " 'black panther',\n",
       " 'iron man',\n",
       " 'captain america']"
      ]
     },
     "execution_count": 38,
     "metadata": {},
     "output_type": "execute_result"
    }
   ],
   "source": [
    "heros"
   ]
  },
  {
   "cell_type": "code",
   "execution_count": 41,
   "metadata": {},
   "outputs": [
    {
     "data": {
      "text/plain": [
       "['spider man',\n",
       " 'iron man',\n",
       " 'captain america',\n",
       " 'black panther',\n",
       " 'Doctor Strange']"
      ]
     },
     "execution_count": 41,
     "metadata": {},
     "output_type": "execute_result"
    }
   ],
   "source": [
    "sorted(heros,reverse=True)"
   ]
  },
  {
   "cell_type": "code",
   "execution_count": 44,
   "metadata": {},
   "outputs": [],
   "source": [
    "# Create a list of all odd numbers between 1 and a max number. Max number is something you need to take from a user using input() function\n",
    "\n",
    "choice = int(input('Enter the maximum number: '))\n",
    "new = [x for x in range(choice+1) if x%2==1]"
   ]
  },
  {
   "cell_type": "code",
   "execution_count": 45,
   "metadata": {},
   "outputs": [
    {
     "data": {
      "text/plain": [
       "[1, 3, 5, 7, 9, 11, 13, 15, 17, 19, 21, 23, 25, 27, 29, 31]"
      ]
     },
     "execution_count": 45,
     "metadata": {},
     "output_type": "execute_result"
    }
   ],
   "source": [
    "new"
   ]
  },
  {
   "cell_type": "code",
   "execution_count": 46,
   "metadata": {},
   "outputs": [],
   "source": [
    "# Write a function to rotate an array to the right by k steps. For example, if the input array is [1, 2, 3, 4, 5, 6] and k = 2, the output should be [5, 6, 1, 2, 3, 4]"
   ]
  },
  {
   "cell_type": "code",
   "execution_count": 65,
   "metadata": {},
   "outputs": [],
   "source": [
    "data = [1, 2, 3, 4, 5, 6]"
   ]
  },
  {
   "cell_type": "code",
   "execution_count": 73,
   "metadata": {},
   "outputs": [
    {
     "name": "stdout",
     "output_type": "stream",
     "text": [
      "There is no rotation !! The data is same [1, 2, 3, 4, 5, 6]\n"
     ]
    }
   ],
   "source": [
    "rotate = int(input('Enter a Number: '))\n",
    "if rotate > len(data):\n",
    "    print(f'Enter a value less than {len(data)}')\n",
    "if rotate == 0:\n",
    "    print(f'There is no rotation !! The data is same {data}')\n",
    "else:\n",
    "    cut = data[-rotate:]\n",
    "    left = data[:-rotate]\n",
    "    cut.extend(left)\n",
    "    print(cut)"
   ]
  },
  {
   "cell_type": "code",
   "execution_count": 74,
   "metadata": {},
   "outputs": [],
   "source": [
    "# Write a program to find all pairs of integers in an array that sum up to a given target.\n",
    "# Example:\n",
    "# Input: arr = [1, 2, 3, 4, 5], target = 6\n",
    "# Output: [(1, 5), (2, 4)]"
   ]
  },
  {
   "cell_type": "code",
   "execution_count": 86,
   "metadata": {},
   "outputs": [
    {
     "name": "stdout",
     "output_type": "stream",
     "text": [
      "1 pairs were found based on the target variable\n",
      "{4: 5}\n"
     ]
    }
   ],
   "source": [
    "arr = [1, 2, 3, 4, 5]\n",
    "target = int(input())\n",
    "op = {}\n",
    "ct = 0\n",
    "for i in arr:\n",
    "    for j in arr[1:]:\n",
    "        if j in op.keys():\n",
    "            continue\n",
    "        elif i == j:\n",
    "            continue\n",
    "        else:\n",
    "            if i + j == target:\n",
    "                op[i]=j\n",
    "                ct +=1\n",
    "print(f'{ct} pairs were found based on the target variable')\n",
    "print(op)"
   ]
  },
  {
   "cell_type": "code",
   "execution_count": 91,
   "metadata": {},
   "outputs": [
    {
     "name": "stdout",
     "output_type": "stream",
     "text": [
      "2 pairs were found based on the target variable\n",
      "{1: 4, 2: 3}\n"
     ]
    }
   ],
   "source": [
    "arr = [1, 2, 3, 4, 5]\n",
    "target = int(input(\"Enter target: \"))\n",
    "op = {}\n",
    "ct = 0\n",
    "\n",
    "for i in arr:\n",
    "    for j in arr:\n",
    "        # Avoid duplicate pairs and self-pairs\n",
    "        if i < j and i + j == target:\n",
    "            op[i] = j\n",
    "            ct += 1\n",
    "\n",
    "print(f\"{ct} pairs were found based on the target variable\")\n",
    "print(op)"
   ]
  },
  {
   "cell_type": "code",
   "execution_count": 92,
   "metadata": {},
   "outputs": [],
   "source": [
    "# Write a function to find the second largest element in an array without using built-in sorting methods.\n",
    "# Example:\n",
    "# Input: arr = [10, 5, 8, 20, 2]\n",
    "# Output: 10\n"
   ]
  },
  {
   "cell_type": "code",
   "execution_count": null,
   "metadata": {},
   "outputs": [
    {
     "data": {
      "text/plain": [
       "10"
      ]
     },
     "execution_count": 96,
     "metadata": {},
     "output_type": "execute_result"
    }
   ],
   "source": [
    "arr = [10, 5, 8, 20, 2]\n",
    "max(list(filter(lambda x: x != max(arr),arr)))"
   ]
  },
  {
   "cell_type": "code",
   "execution_count": null,
   "metadata": {},
   "outputs": [],
   "source": [
    "# Rearrange an array such that positive and negative numbers alternate. The order of positive and negative numbers should be maintained.\n",
    "# Example:\n",
    "# Input: arr = [1, 2, 3, -1, -2, -3, -4]\n",
    "# Output: [1, -1, 2, -2, 3, -3, -4]"
   ]
  },
  {
   "cell_type": "code",
   "execution_count": 98,
   "metadata": {},
   "outputs": [],
   "source": [
    "arr = [1, 2, 3, -1, -2, -3, -4]\n",
    "pos = [x for x in arr if x > 0]\n",
    "neg = [x for x in arr if x < 0]"
   ]
  },
  {
   "cell_type": "code",
   "execution_count": null,
   "metadata": {},
   "outputs": [
    {
     "name": "stdout",
     "output_type": "stream",
     "text": [
      "[1, -1, -1, -1, -1, 2, -2, -2, -2, -2, 3, -3, -3, -3, -3]\n"
     ]
    }
   ],
   "source": [
    "for i in pos:\n",
    "    if -i in neg:\n",
    "        pos.insert(pos.index(i) +1,-i)\n",
    "print\n",
    "(pos)"
   ]
  },
  {
   "cell_type": "code",
   "execution_count": null,
   "metadata": {},
   "outputs": [
    {
     "name": "stdout",
     "output_type": "stream",
     "text": [
      "0\n",
      "1\n",
      "2\n",
      "3\n",
      "4\n",
      "5\n",
      "6\n",
      "7\n",
      "8\n",
      "9\n",
      "10\n",
      "11\n",
      "12\n",
      "13\n",
      "14\n",
      "15\n",
      "16\n",
      "17\n",
      "18\n",
      "19\n"
     ]
    }
   ],
   "source": [
    "# i = 0\n",
    "# while i < 20:\n",
    "#     if i == 5:\n",
    "#         pass\n",
    "#     print(i)\n",
    "#     i += 1"
   ]
  },
  {
   "cell_type": "code",
   "execution_count": null,
   "metadata": {},
   "outputs": [],
   "source": []
  },
  {
   "cell_type": "code",
   "execution_count": null,
   "metadata": {},
   "outputs": [],
   "source": []
  }
 ],
 "metadata": {
  "kernelspec": {
   "display_name": "Netmax_Ml",
   "language": "python",
   "name": "python3"
  },
  "language_info": {
   "codemirror_mode": {
    "name": "ipython",
    "version": 3
   },
   "file_extension": ".py",
   "mimetype": "text/x-python",
   "name": "python",
   "nbconvert_exporter": "python",
   "pygments_lexer": "ipython3",
   "version": "3.10.15"
  }
 },
 "nbformat": 4,
 "nbformat_minor": 2
}
